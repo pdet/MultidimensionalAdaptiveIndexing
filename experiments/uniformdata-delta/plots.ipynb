{
 "cells": [
  {
   "cell_type": "code",
   "execution_count": 67,
   "metadata": {},
   "outputs": [],
   "source": [
    "import pandas as pd\n",
    "import matplotlib.pyplot as plt\n",
    "import plotly.graph_objects as go\n",
    "import numpy as np\n",
    "import json\n",
    "pd.set_option('display.max_rows', 1000)\n",
    "%matplotlib inline"
   ]
  },
  {
   "cell_type": "code",
   "execution_count": 68,
   "metadata": {},
   "outputs": [],
   "source": [
    "# Read config\n",
    "with open('config.json') as json_file:\n",
    "    f = json.load(json_file)\n",
    "    NUMBER_OF_QUERIES = f['number_of_queries']\n",
    "    REPETITIONS = f['repetitions']\n",
    "    ROWS = f['rows']\n",
    "    SELECTIVITIES = [f['selectivity']]\n",
    "    COLS = f['cols']\n",
    "    EXPS_DEFAULTS = f['experiments']\n",
    "    PARTITION_SIZE = f['partition_size']\n",
    "    PROGRESSIVE_INDEX_DELTAS = f['deltas']\n",
    "\n",
    "# Algorithms and Experiments defitions\n",
    "algorithms = {\n",
    "    'AverageKDTree': {\n",
    "        'name': 'average_kd_tree',\n",
    "        'color': 'red',\n",
    "        'dash': 'dot',\n",
    "        'show_name': 'AvgKD',\n",
    "        'type': 'full_index',\n",
    "        'delta': '0.0',\n",
    "        'partition_size': PARTITION_SIZE\n",
    "    },\n",
    "    'MedianKDTree': {\n",
    "        'name': 'median_kd_tree',\n",
    "        'color': 'red',\n",
    "        'dash': 'solid',\n",
    "        'show_name': 'MedKD',\n",
    "        'type': 'full_index',\n",
    "        'delta': '0.0',\n",
    "        'partition_size': PARTITION_SIZE\n",
    "    },\n",
    "    'CrackingKDTree': {\n",
    "        'name': 'cracking_kd_tree',\n",
    "        'color': 'green',\n",
    "        'dash': 'dot',\n",
    "        'show_name': 'AKD',\n",
    "        'type': 'adaptive',\n",
    "        'delta': '0.0',\n",
    "        'partition_size': PARTITION_SIZE\n",
    "    },\n",
    "    'Quasii': {\n",
    "        'name': 'quasii',\n",
    "        'color': 'green',\n",
    "        'dash': 'solid',\n",
    "        'show_name': 'Q',\n",
    "        'type': 'adaptive',\n",
    "        'delta': '0.0',\n",
    "        'partition_size': PARTITION_SIZE\n",
    "    },\n",
    "    'FullScan': {\n",
    "        'name': 'full_scan_cl',\n",
    "        'color': 'black',\n",
    "        'dash': 'dot',\n",
    "        'show_name': 'FS',\n",
    "        'type': 'full_index',\n",
    "        'partition_size': '0',\n",
    "        'delta':'0.0',\n",
    "    }\n",
    "}\n",
    "\n",
    "for key, value in algorithms.items():\n",
    "    name = value['name']\n",
    "    delta = value['delta']\n",
    "    partition_size = value['partition_size']\n",
    "    algorithms[key]['alg_id'] = f\"{name}-{delta}-{partition_size}\"\n",
    "    \n",
    "deltas = PROGRESSIVE_INDEX_DELTAS\n",
    "\n",
    "for i in deltas:\n",
    "    # For the delta experiment\n",
    "    temp = {\n",
    "        f'ProgressiveIndex_{i}': {\n",
    "            'name': 'progressive_index',\n",
    "            'color': '',\n",
    "            'dash': 'solid',\n",
    "            'marker': 'x-open',\n",
    "            'show_name': f'PKD({i})',\n",
    "            'type': 'adaptive',\n",
    "            'delta': f'{i}',\n",
    "            'partition_size': '1024'\n",
    "        }\n",
    "    }\n",
    "    algorithms = {**algorithms, **temp}\n",
    "\n",
    "for key, value in algorithms.items():\n",
    "    name = value['name']\n",
    "    delta = value['delta']\n",
    "    partition_size = value['partition_size']\n",
    "    algorithms[key]['alg_id'] = f\"{name}-{delta}-{partition_size}\"\n",
    "\n",
    "    \n",
    "# Synthetic Experiments\n",
    "experiments = {}\n",
    "\n",
    "for i in COLS:\n",
    "    temp = {\n",
    "        f'Uniform{i}': {\n",
    "            \"name\": f\"Unif({i})\",\n",
    "            'name-in-file': 'uniform',\n",
    "            'n_rows': ROWS,\n",
    "            'n_queries': NUMBER_OF_QUERIES,\n",
    "            'n_cols': f'{i}',\n",
    "            'sel': '0.01',\n",
    "        }\n",
    "    }\n",
    "    experiments = {**experiments, **temp}\n",
    "    \n",
    "for key, value in experiments.items():\n",
    "    name = value['name-in-file']\n",
    "    rows = value['n_rows']\n",
    "    n_queries = value['n_queries']\n",
    "    cols = value['n_cols']\n",
    "    sel = value['sel']\n",
    "    experiments[key]['exp_id'] = f\"{name}-{rows}-{n_queries}-{cols}-{sel}\""
   ]
  },
  {
   "cell_type": "code",
   "execution_count": 69,
   "metadata": {},
   "outputs": [],
   "source": [
    "# Input/Output\n",
    "def read(alg, exp):\n",
    "    if exp.startswith('Shifting'):\n",
    "        n_queries_per_run = 10\n",
    "        uni = read(alg, 'Uniform' + experiments[exp]['n_cols'])\n",
    "        n_runs = int(len(uni)/n_queries_per_run) - 1\n",
    "        df_final = uni.head(n_queries_per_run)\n",
    "        for _ in range(int(n_runs)):\n",
    "            temp = uni.head(n_queries_per_run).copy()\n",
    "            df_final = df_final.append(temp, ignore_index=True)\n",
    "    else:\n",
    "        df = pd.read_csv(f\"results/{algorithms[alg]['alg_id']}-{experiments[exp]['exp_id']}.csv\")\n",
    "        repetitions = df['repetition'].max() + 1\n",
    "        step = int(len(df.index)/repetitions)\n",
    "        df_final = df[:step].copy().reset_index()\n",
    "        for rep in range(1, repetitions):\n",
    "            df_final += df[step * (rep) : step * (rep + 1)].copy().reset_index()\n",
    "\n",
    "        df_final = df_final/repetitions\n",
    "    \n",
    "    if 'index_search_time' not in df_final:\n",
    "        df_final['index_search_time'] = 0.0\n",
    "    if 'tuples_scanned' not in df_final:\n",
    "        df_final['tuples_scanned'] = 0.0\n",
    "    if 'number_of_nodes' not in df_final:\n",
    "        df_final['number_of_nodes'] = 0.0\n",
    "    df_final['query_time'] = df_final['initialization_time'] + df_final['index_search_time'] + df_final['scan_time'] + df_final['adaptation_time']\n",
    "    df_final['query_time_cumsum'] = df_final['query_time'].cumsum()\n",
    "    return df_final\n",
    "\n",
    "                     \n",
    "def read_multiple(algs, exp):\n",
    "    ''' Reads multiple algorithms in an experiment, return three arrays: dfs, colors, names\n",
    "    '''\n",
    "    dfs = []\n",
    "    colors = []\n",
    "    names = []\n",
    "    dashes = []\n",
    "    for alg in algs:\n",
    "        dfs.append(read(alg, exp))\n",
    "        names.append(algorithms[alg]['show_name'])\n",
    "        colors.append(algorithms[alg]['color'])\n",
    "        dashes.append(algorithms[alg]['dash'])\n",
    "    \n",
    "    return dfs, colors, dashes, names,\n",
    "\n",
    "                     \n",
    "def save_figure(fig, fig_name):\n",
    "    fig.write_image(f\"figures/{fig_name}\", width=1024, height=768)\n",
    "                     \n",
    "def save_table(table, table_name):\n",
    "    with open(f\"tables/{table_name}\", 'w') as f:\n",
    "        f.write(table)"
   ]
  },
  {
   "cell_type": "code",
   "execution_count": 70,
   "metadata": {},
   "outputs": [],
   "source": [
    "# Helper methods\n",
    "def get_first_query(df):\n",
    "    return df['query_time'].iloc[0]\n",
    "\n",
    "def get_payoff(df, baseline):\n",
    "    p = [i for i, x in enumerate(df['query_time_cumsum'] - (baseline['query_time_cumsum'])) if x > 0]\n",
    "    if len(p) == 0:\n",
    "        return len(df)\n",
    "    return p[-1]\n",
    "\n",
    "def get_convergence(df, df_type=''):\n",
    "    if df_type == 'full_index':\n",
    "        return 0\n",
    "    c = [i for i, x in enumerate(df['adaptation_time']) if x != 0.0]\n",
    "    if(len(c) == 0):\n",
    "        return len(c)\n",
    "    else:\n",
    "        return c[-1]\n",
    "\n",
    "def get_robustness(df, df_type=''):\n",
    "    if df_type == 'full_index':\n",
    "        return 0\n",
    "    return np.var(df['query_time'][:min(50, get_convergence(df, df_type))])\n",
    "\n",
    "def get_total_time(df, lower=0, upper=-1):\n",
    "    return df['query_time'][lower:upper].sum()"
   ]
  },
  {
   "cell_type": "markdown",
   "metadata": {},
   "source": [
    "# First Query"
   ]
  },
  {
   "cell_type": "code",
   "execution_count": 71,
   "metadata": {},
   "outputs": [
    {
     "data": {
      "application/vnd.plotly.v1+json": {
       "config": {
        "plotlyServerURL": "https://plot.ly"
       },
       "data": [
        {
         "marker": {
          "color": "rgba(168, 50, 119, 1)",
          "size": 18,
          "symbol": "circle"
         },
         "mode": "lines+markers",
         "name": "8 cols",
         "type": "scatter",
         "x": [
          "0.1",
          "0.2",
          "0.3",
          "0.4",
          "0.5",
          "0.6",
          "0.7",
          "0.8",
          "0.9",
          "1.0"
         ],
         "y": [
          0.6351359999999999,
          0.814094,
          0.9927389999999999,
          1.167689,
          1.376064,
          1.5214239999999999,
          1.6909549999999998,
          1.848621,
          2.026465,
          2.2385949999999997
         ]
        },
        {
         "marker": {
          "color": "rgba(168, 50, 119, 1)",
          "size": 18,
          "symbol": "circle"
         },
         "mode": "markers",
         "name": "8FullScan",
         "showlegend": false,
         "type": "scatter",
         "x": [
          0
         ],
         "y": [
          0.556971
         ]
        },
        {
         "marker": {
          "color": "rgba(168, 50, 119, 1)",
          "size": 18,
          "symbol": "circle"
         },
         "mode": "markers",
         "name": "8AKD",
         "showlegend": false,
         "type": "scatter",
         "x": [
          -0.1
         ],
         "y": [
          1.7064240000000002
         ]
        },
        {
         "marker": {
          "color": "rgba(168, 50, 119, 1)",
          "size": 18,
          "symbol": "circle"
         },
         "mode": "markers",
         "name": "8Quasii",
         "showlegend": false,
         "type": "scatter",
         "x": [
          -0.2
         ],
         "y": [
          2.9072030000000004
         ]
        },
        {
         "marker": {
          "color": "rgba(235, 7, 7, 1)",
          "size": 18,
          "symbol": "square"
         },
         "mode": "lines+markers",
         "name": "6 cols",
         "type": "scatter",
         "x": [
          "0.1",
          "0.2",
          "0.3",
          "0.4",
          "0.5",
          "0.6",
          "0.7",
          "0.8",
          "0.9",
          "1.0"
         ],
         "y": [
          0.546005,
          0.683794,
          0.81041,
          0.926872,
          1.057522,
          1.18644,
          1.325936,
          1.454666,
          1.5936750000000002,
          1.711777
         ]
        },
        {
         "marker": {
          "color": "rgba(235, 7, 7, 1)",
          "size": 18,
          "symbol": "square"
         },
         "mode": "markers",
         "name": "6FullScan",
         "showlegend": false,
         "type": "scatter",
         "x": [
          0
         ],
         "y": [
          0.454025
         ]
        },
        {
         "marker": {
          "color": "rgba(235, 7, 7, 1)",
          "size": 18,
          "symbol": "square"
         },
         "mode": "markers",
         "name": "6AKD",
         "showlegend": false,
         "type": "scatter",
         "x": [
          -0.1
         ],
         "y": [
          1.305177
         ]
        },
        {
         "marker": {
          "color": "rgba(235, 7, 7, 1)",
          "size": 18,
          "symbol": "square"
         },
         "mode": "markers",
         "name": "6Quasii",
         "showlegend": false,
         "type": "scatter",
         "x": [
          -0.2
         ],
         "y": [
          2.11715
         ]
        },
        {
         "marker": {
          "color": "rgba(54, 50, 168, 1)",
          "size": 18,
          "symbol": "x"
         },
         "mode": "lines+markers",
         "name": "4 cols",
         "type": "scatter",
         "x": [
          "0.1",
          "0.2",
          "0.3",
          "0.4",
          "0.5",
          "0.6",
          "0.7",
          "0.8",
          "0.9",
          "1.0"
         ],
         "y": [
          0.412288,
          0.488728,
          0.583054,
          0.689506,
          0.790683,
          0.871244,
          0.977568,
          1.066662,
          1.186162,
          1.279145
         ]
        },
        {
         "marker": {
          "color": "rgba(54, 50, 168, 1)",
          "size": 18,
          "symbol": "x"
         },
         "mode": "markers",
         "name": "4FullScan",
         "showlegend": false,
         "type": "scatter",
         "x": [
          0
         ],
         "y": [
          0.35576599999999997
         ]
        },
        {
         "marker": {
          "color": "rgba(54, 50, 168, 1)",
          "size": 18,
          "symbol": "x"
         },
         "mode": "markers",
         "name": "4AKD",
         "showlegend": false,
         "type": "scatter",
         "x": [
          -0.1
         ],
         "y": [
          0.810261
         ]
        },
        {
         "marker": {
          "color": "rgba(54, 50, 168, 1)",
          "size": 18,
          "symbol": "x"
         },
         "mode": "markers",
         "name": "4Quasii",
         "showlegend": false,
         "type": "scatter",
         "x": [
          -0.2
         ],
         "y": [
          1.6096590000000002
         ]
        },
        {
         "marker": {
          "color": "rgba(1, 140, 22, 1)",
          "size": 18,
          "symbol": "star"
         },
         "mode": "lines+markers",
         "name": "2 cols",
         "type": "scatter",
         "x": [
          "0.1",
          "0.2",
          "0.3",
          "0.4",
          "0.5",
          "0.6",
          "0.7",
          "0.8",
          "0.9",
          "1.0"
         ],
         "y": [
          0.261313,
          0.304277,
          0.344597,
          0.380749,
          0.421464,
          0.45889899999999995,
          0.502727,
          0.539107,
          0.579858,
          0.614906
         ]
        },
        {
         "marker": {
          "color": "rgba(1, 140, 22, 1)",
          "size": 18,
          "symbol": "star"
         },
         "mode": "markers",
         "name": "2FullScan",
         "showlegend": false,
         "type": "scatter",
         "x": [
          0
         ],
         "y": [
          0.267766
         ]
        },
        {
         "marker": {
          "color": "rgba(1, 140, 22, 1)",
          "size": 18,
          "symbol": "star"
         },
         "mode": "markers",
         "name": "2AKD",
         "showlegend": false,
         "type": "scatter",
         "x": [
          -0.1
         ],
         "y": [
          0.459599
         ]
        },
        {
         "marker": {
          "color": "rgba(1, 140, 22, 1)",
          "size": 18,
          "symbol": "star"
         },
         "mode": "markers",
         "name": "2Quasii",
         "showlegend": false,
         "type": "scatter",
         "x": [
          -0.2
         ],
         "y": [
          1.6130069999999999
         ]
        }
       ],
       "layout": {
        "annotations": [
         {
          "text": "(PKD) Delta",
          "x": 0.5,
          "xref": "x",
          "y": -0.35,
          "yref": "paper"
         }
        ],
        "autosize": true,
        "font": {
         "size": 42
        },
        "legend": {
         "font": {
          "color": "black",
          "size": 30
         }
        },
        "margin": {
         "b": 180
        },
        "plot_bgcolor": "rgba(0, 0, 0, 0)",
        "shapes": [
         {
          "line": {
           "dash": "dot",
           "width": 4
          },
          "opacity": 0.3,
          "type": "line",
          "x0": 0.2,
          "x1": 0.2,
          "y0": 0,
          "y1": 1,
          "yref": "paper"
         }
        ],
        "showlegend": true,
        "template": {
         "data": {
          "bar": [
           {
            "error_x": {
             "color": "#2a3f5f"
            },
            "error_y": {
             "color": "#2a3f5f"
            },
            "marker": {
             "line": {
              "color": "#E5ECF6",
              "width": 0.5
             }
            },
            "type": "bar"
           }
          ],
          "barpolar": [
           {
            "marker": {
             "line": {
              "color": "#E5ECF6",
              "width": 0.5
             }
            },
            "type": "barpolar"
           }
          ],
          "carpet": [
           {
            "aaxis": {
             "endlinecolor": "#2a3f5f",
             "gridcolor": "white",
             "linecolor": "white",
             "minorgridcolor": "white",
             "startlinecolor": "#2a3f5f"
            },
            "baxis": {
             "endlinecolor": "#2a3f5f",
             "gridcolor": "white",
             "linecolor": "white",
             "minorgridcolor": "white",
             "startlinecolor": "#2a3f5f"
            },
            "type": "carpet"
           }
          ],
          "choropleth": [
           {
            "colorbar": {
             "outlinewidth": 0,
             "ticks": ""
            },
            "type": "choropleth"
           }
          ],
          "contour": [
           {
            "colorbar": {
             "outlinewidth": 0,
             "ticks": ""
            },
            "colorscale": [
             [
              0,
              "#0d0887"
             ],
             [
              0.1111111111111111,
              "#46039f"
             ],
             [
              0.2222222222222222,
              "#7201a8"
             ],
             [
              0.3333333333333333,
              "#9c179e"
             ],
             [
              0.4444444444444444,
              "#bd3786"
             ],
             [
              0.5555555555555556,
              "#d8576b"
             ],
             [
              0.6666666666666666,
              "#ed7953"
             ],
             [
              0.7777777777777778,
              "#fb9f3a"
             ],
             [
              0.8888888888888888,
              "#fdca26"
             ],
             [
              1,
              "#f0f921"
             ]
            ],
            "type": "contour"
           }
          ],
          "contourcarpet": [
           {
            "colorbar": {
             "outlinewidth": 0,
             "ticks": ""
            },
            "type": "contourcarpet"
           }
          ],
          "heatmap": [
           {
            "colorbar": {
             "outlinewidth": 0,
             "ticks": ""
            },
            "colorscale": [
             [
              0,
              "#0d0887"
             ],
             [
              0.1111111111111111,
              "#46039f"
             ],
             [
              0.2222222222222222,
              "#7201a8"
             ],
             [
              0.3333333333333333,
              "#9c179e"
             ],
             [
              0.4444444444444444,
              "#bd3786"
             ],
             [
              0.5555555555555556,
              "#d8576b"
             ],
             [
              0.6666666666666666,
              "#ed7953"
             ],
             [
              0.7777777777777778,
              "#fb9f3a"
             ],
             [
              0.8888888888888888,
              "#fdca26"
             ],
             [
              1,
              "#f0f921"
             ]
            ],
            "type": "heatmap"
           }
          ],
          "heatmapgl": [
           {
            "colorbar": {
             "outlinewidth": 0,
             "ticks": ""
            },
            "colorscale": [
             [
              0,
              "#0d0887"
             ],
             [
              0.1111111111111111,
              "#46039f"
             ],
             [
              0.2222222222222222,
              "#7201a8"
             ],
             [
              0.3333333333333333,
              "#9c179e"
             ],
             [
              0.4444444444444444,
              "#bd3786"
             ],
             [
              0.5555555555555556,
              "#d8576b"
             ],
             [
              0.6666666666666666,
              "#ed7953"
             ],
             [
              0.7777777777777778,
              "#fb9f3a"
             ],
             [
              0.8888888888888888,
              "#fdca26"
             ],
             [
              1,
              "#f0f921"
             ]
            ],
            "type": "heatmapgl"
           }
          ],
          "histogram": [
           {
            "marker": {
             "colorbar": {
              "outlinewidth": 0,
              "ticks": ""
             }
            },
            "type": "histogram"
           }
          ],
          "histogram2d": [
           {
            "colorbar": {
             "outlinewidth": 0,
             "ticks": ""
            },
            "colorscale": [
             [
              0,
              "#0d0887"
             ],
             [
              0.1111111111111111,
              "#46039f"
             ],
             [
              0.2222222222222222,
              "#7201a8"
             ],
             [
              0.3333333333333333,
              "#9c179e"
             ],
             [
              0.4444444444444444,
              "#bd3786"
             ],
             [
              0.5555555555555556,
              "#d8576b"
             ],
             [
              0.6666666666666666,
              "#ed7953"
             ],
             [
              0.7777777777777778,
              "#fb9f3a"
             ],
             [
              0.8888888888888888,
              "#fdca26"
             ],
             [
              1,
              "#f0f921"
             ]
            ],
            "type": "histogram2d"
           }
          ],
          "histogram2dcontour": [
           {
            "colorbar": {
             "outlinewidth": 0,
             "ticks": ""
            },
            "colorscale": [
             [
              0,
              "#0d0887"
             ],
             [
              0.1111111111111111,
              "#46039f"
             ],
             [
              0.2222222222222222,
              "#7201a8"
             ],
             [
              0.3333333333333333,
              "#9c179e"
             ],
             [
              0.4444444444444444,
              "#bd3786"
             ],
             [
              0.5555555555555556,
              "#d8576b"
             ],
             [
              0.6666666666666666,
              "#ed7953"
             ],
             [
              0.7777777777777778,
              "#fb9f3a"
             ],
             [
              0.8888888888888888,
              "#fdca26"
             ],
             [
              1,
              "#f0f921"
             ]
            ],
            "type": "histogram2dcontour"
           }
          ],
          "mesh3d": [
           {
            "colorbar": {
             "outlinewidth": 0,
             "ticks": ""
            },
            "type": "mesh3d"
           }
          ],
          "parcoords": [
           {
            "line": {
             "colorbar": {
              "outlinewidth": 0,
              "ticks": ""
             }
            },
            "type": "parcoords"
           }
          ],
          "scatter": [
           {
            "marker": {
             "colorbar": {
              "outlinewidth": 0,
              "ticks": ""
             }
            },
            "type": "scatter"
           }
          ],
          "scatter3d": [
           {
            "line": {
             "colorbar": {
              "outlinewidth": 0,
              "ticks": ""
             }
            },
            "marker": {
             "colorbar": {
              "outlinewidth": 0,
              "ticks": ""
             }
            },
            "type": "scatter3d"
           }
          ],
          "scattercarpet": [
           {
            "marker": {
             "colorbar": {
              "outlinewidth": 0,
              "ticks": ""
             }
            },
            "type": "scattercarpet"
           }
          ],
          "scattergeo": [
           {
            "marker": {
             "colorbar": {
              "outlinewidth": 0,
              "ticks": ""
             }
            },
            "type": "scattergeo"
           }
          ],
          "scattergl": [
           {
            "marker": {
             "colorbar": {
              "outlinewidth": 0,
              "ticks": ""
             }
            },
            "type": "scattergl"
           }
          ],
          "scattermapbox": [
           {
            "marker": {
             "colorbar": {
              "outlinewidth": 0,
              "ticks": ""
             }
            },
            "type": "scattermapbox"
           }
          ],
          "scatterpolar": [
           {
            "marker": {
             "colorbar": {
              "outlinewidth": 0,
              "ticks": ""
             }
            },
            "type": "scatterpolar"
           }
          ],
          "scatterpolargl": [
           {
            "marker": {
             "colorbar": {
              "outlinewidth": 0,
              "ticks": ""
             }
            },
            "type": "scatterpolargl"
           }
          ],
          "scatterternary": [
           {
            "marker": {
             "colorbar": {
              "outlinewidth": 0,
              "ticks": ""
             }
            },
            "type": "scatterternary"
           }
          ],
          "surface": [
           {
            "colorbar": {
             "outlinewidth": 0,
             "ticks": ""
            },
            "colorscale": [
             [
              0,
              "#0d0887"
             ],
             [
              0.1111111111111111,
              "#46039f"
             ],
             [
              0.2222222222222222,
              "#7201a8"
             ],
             [
              0.3333333333333333,
              "#9c179e"
             ],
             [
              0.4444444444444444,
              "#bd3786"
             ],
             [
              0.5555555555555556,
              "#d8576b"
             ],
             [
              0.6666666666666666,
              "#ed7953"
             ],
             [
              0.7777777777777778,
              "#fb9f3a"
             ],
             [
              0.8888888888888888,
              "#fdca26"
             ],
             [
              1,
              "#f0f921"
             ]
            ],
            "type": "surface"
           }
          ],
          "table": [
           {
            "cells": {
             "fill": {
              "color": "#EBF0F8"
             },
             "line": {
              "color": "white"
             }
            },
            "header": {
             "fill": {
              "color": "#C8D4E3"
             },
             "line": {
              "color": "white"
             }
            },
            "type": "table"
           }
          ]
         },
         "layout": {
          "annotationdefaults": {
           "arrowcolor": "#2a3f5f",
           "arrowhead": 0,
           "arrowwidth": 1
          },
          "colorscale": {
           "diverging": [
            [
             0,
             "#8e0152"
            ],
            [
             0.1,
             "#c51b7d"
            ],
            [
             0.2,
             "#de77ae"
            ],
            [
             0.3,
             "#f1b6da"
            ],
            [
             0.4,
             "#fde0ef"
            ],
            [
             0.5,
             "#f7f7f7"
            ],
            [
             0.6,
             "#e6f5d0"
            ],
            [
             0.7,
             "#b8e186"
            ],
            [
             0.8,
             "#7fbc41"
            ],
            [
             0.9,
             "#4d9221"
            ],
            [
             1,
             "#276419"
            ]
           ],
           "sequential": [
            [
             0,
             "#0d0887"
            ],
            [
             0.1111111111111111,
             "#46039f"
            ],
            [
             0.2222222222222222,
             "#7201a8"
            ],
            [
             0.3333333333333333,
             "#9c179e"
            ],
            [
             0.4444444444444444,
             "#bd3786"
            ],
            [
             0.5555555555555556,
             "#d8576b"
            ],
            [
             0.6666666666666666,
             "#ed7953"
            ],
            [
             0.7777777777777778,
             "#fb9f3a"
            ],
            [
             0.8888888888888888,
             "#fdca26"
            ],
            [
             1,
             "#f0f921"
            ]
           ],
           "sequentialminus": [
            [
             0,
             "#0d0887"
            ],
            [
             0.1111111111111111,
             "#46039f"
            ],
            [
             0.2222222222222222,
             "#7201a8"
            ],
            [
             0.3333333333333333,
             "#9c179e"
            ],
            [
             0.4444444444444444,
             "#bd3786"
            ],
            [
             0.5555555555555556,
             "#d8576b"
            ],
            [
             0.6666666666666666,
             "#ed7953"
            ],
            [
             0.7777777777777778,
             "#fb9f3a"
            ],
            [
             0.8888888888888888,
             "#fdca26"
            ],
            [
             1,
             "#f0f921"
            ]
           ]
          },
          "colorway": [
           "#636efa",
           "#EF553B",
           "#00cc96",
           "#ab63fa",
           "#FFA15A",
           "#19d3f3",
           "#FF6692",
           "#B6E880",
           "#FF97FF",
           "#FECB52"
          ],
          "font": {
           "color": "#2a3f5f"
          },
          "geo": {
           "bgcolor": "white",
           "lakecolor": "white",
           "landcolor": "#E5ECF6",
           "showlakes": true,
           "showland": true,
           "subunitcolor": "white"
          },
          "hoverlabel": {
           "align": "left"
          },
          "hovermode": "closest",
          "mapbox": {
           "style": "light"
          },
          "paper_bgcolor": "white",
          "plot_bgcolor": "#E5ECF6",
          "polar": {
           "angularaxis": {
            "gridcolor": "white",
            "linecolor": "white",
            "ticks": ""
           },
           "bgcolor": "#E5ECF6",
           "radialaxis": {
            "gridcolor": "white",
            "linecolor": "white",
            "ticks": ""
           }
          },
          "scene": {
           "xaxis": {
            "backgroundcolor": "#E5ECF6",
            "gridcolor": "white",
            "gridwidth": 2,
            "linecolor": "white",
            "showbackground": true,
            "ticks": "",
            "zerolinecolor": "white"
           },
           "yaxis": {
            "backgroundcolor": "#E5ECF6",
            "gridcolor": "white",
            "gridwidth": 2,
            "linecolor": "white",
            "showbackground": true,
            "ticks": "",
            "zerolinecolor": "white"
           },
           "zaxis": {
            "backgroundcolor": "#E5ECF6",
            "gridcolor": "white",
            "gridwidth": 2,
            "linecolor": "white",
            "showbackground": true,
            "ticks": "",
            "zerolinecolor": "white"
           }
          },
          "shapedefaults": {
           "line": {
            "color": "#2a3f5f"
           }
          },
          "ternary": {
           "aaxis": {
            "gridcolor": "white",
            "linecolor": "white",
            "ticks": ""
           },
           "baxis": {
            "gridcolor": "white",
            "linecolor": "white",
            "ticks": ""
           },
           "bgcolor": "#E5ECF6",
           "caxis": {
            "gridcolor": "white",
            "linecolor": "white",
            "ticks": ""
           }
          },
          "title": {
           "x": 0.05
          },
          "xaxis": {
           "automargin": true,
           "gridcolor": "white",
           "linecolor": "white",
           "ticks": "",
           "zerolinecolor": "white",
           "zerolinewidth": 2
          },
          "yaxis": {
           "automargin": true,
           "gridcolor": "white",
           "linecolor": "white",
           "ticks": "",
           "zerolinecolor": "white",
           "zerolinewidth": 2
          }
         }
        },
        "xaxis": {
         "autorange": true,
         "linecolor": "black",
         "linewidth": 2,
         "range": [
          -0.28335001668335,
          1.08335001668335
         ],
         "showline": true,
         "tickangle": 65,
         "ticklen": 5,
         "tickmode": "array",
         "ticks": "inside",
         "ticktext": [
          "Q",
          "AKD",
          "FS",
          "0.1",
          "0.2",
          "0.3",
          "0.4",
          "0.5",
          "0.6",
          "0.7",
          "0.8",
          "0.9",
          "1.0"
         ],
         "tickvals": [
          -0.2,
          -0.1,
          0,
          "0.1",
          "0.2",
          "0.3",
          "0.4",
          "0.5",
          "0.6",
          "0.7",
          "0.8",
          "0.9",
          "1.0"
         ],
         "type": "linear",
         "zeroline": true
        },
        "yaxis": {
         "autorange": true,
         "dtick": 0.5,
         "gridcolor": "lightgrey",
         "gridwidth": 1,
         "linecolor": "black",
         "linewidth": 2,
         "range": [
          0,
          3.2893478202995015
         ],
         "rangemode": "tozero",
         "showgrid": true,
         "showline": true,
         "ticklen": 5,
         "tickmode": "linear",
         "ticks": "inside",
         "title": {
          "text": "First Query Cost [s]"
         },
         "type": "linear",
         "zeroline": false,
         "zerolinecolor": "rgba(0, 0, 0, 0)"
        }
       }
      },
      "image/png": "[encoded data removed]",
      "text/html": [
       "<div>\n",
       "        \n",
       "        \n",
       "            <div id=\"2e6e03f2-eca2-4f1a-8aab-0157e4797e62\" class=\"plotly-graph-div\" style=\"height:525px; width:100%;\"></div>\n",
       "            <script type=\"text/javascript\">\n",
       "                require([\"plotly\"], function(Plotly) {\n",
       "                    window.PLOTLYENV=window.PLOTLYENV || {};\n",
       "                    \n",
       "                if (document.getElementById(\"2e6e03f2-eca2-4f1a-8aab-0157e4797e62\")) {\n",
       "                    Plotly.newPlot(\n",
       "                        '2e6e03f2-eca2-4f1a-8aab-0157e4797e62',\n",
       "                        [{\"marker\": {\"color\": \"rgba(168, 50, 119, 1)\", \"size\": 18, \"symbol\": \"circle\"}, \"mode\": \"lines+markers\", \"name\": \"8 cols\", \"type\": \"scatter\", \"x\": [\"0.1\", \"0.2\", \"0.3\", \"0.4\", \"0.5\", \"0.6\", \"0.7\", \"0.8\", \"0.9\", \"1.0\"], \"y\": [0.6351359999999999, 0.814094, 0.9927389999999999, 1.167689, 1.376064, 1.5214239999999999, 1.6909549999999998, 1.848621, 2.026465, 2.2385949999999997]}, {\"marker\": {\"color\": \"rgba(168, 50, 119, 1)\", \"size\": 18, \"symbol\": \"circle\"}, \"mode\": \"markers\", \"name\": \"8FullScan\", \"showlegend\": false, \"type\": \"scatter\", \"x\": [-0.0], \"y\": [0.556971]}, {\"marker\": {\"color\": \"rgba(168, 50, 119, 1)\", \"size\": 18, \"symbol\": \"circle\"}, \"mode\": \"markers\", \"name\": \"8AKD\", \"showlegend\": false, \"type\": \"scatter\", \"x\": [-0.1], \"y\": [1.7064240000000002]}, {\"marker\": {\"color\": \"rgba(168, 50, 119, 1)\", \"size\": 18, \"symbol\": \"circle\"}, \"mode\": \"markers\", \"name\": \"8Quasii\", \"showlegend\": false, \"type\": \"scatter\", \"x\": [-0.2], \"y\": [2.9072030000000004]}, {\"marker\": {\"color\": \"rgba(235, 7, 7, 1)\", \"size\": 18, \"symbol\": \"square\"}, \"mode\": \"lines+markers\", \"name\": \"6 cols\", \"type\": \"scatter\", \"x\": [\"0.1\", \"0.2\", \"0.3\", \"0.4\", \"0.5\", \"0.6\", \"0.7\", \"0.8\", \"0.9\", \"1.0\"], \"y\": [0.546005, 0.683794, 0.81041, 0.926872, 1.057522, 1.18644, 1.325936, 1.454666, 1.5936750000000002, 1.711777]}, {\"marker\": {\"color\": \"rgba(235, 7, 7, 1)\", \"size\": 18, \"symbol\": \"square\"}, \"mode\": \"markers\", \"name\": \"6FullScan\", \"showlegend\": false, \"type\": \"scatter\", \"x\": [-0.0], \"y\": [0.454025]}, {\"marker\": {\"color\": \"rgba(235, 7, 7, 1)\", \"size\": 18, \"symbol\": \"square\"}, \"mode\": \"markers\", \"name\": \"6AKD\", \"showlegend\": false, \"type\": \"scatter\", \"x\": [-0.1], \"y\": [1.305177]}, {\"marker\": {\"color\": \"rgba(235, 7, 7, 1)\", \"size\": 18, \"symbol\": \"square\"}, \"mode\": \"markers\", \"name\": \"6Quasii\", \"showlegend\": false, \"type\": \"scatter\", \"x\": [-0.2], \"y\": [2.11715]}, {\"marker\": {\"color\": \"rgba(54, 50, 168, 1)\", \"size\": 18, \"symbol\": \"x\"}, \"mode\": \"lines+markers\", \"name\": \"4 cols\", \"type\": \"scatter\", \"x\": [\"0.1\", \"0.2\", \"0.3\", \"0.4\", \"0.5\", \"0.6\", \"0.7\", \"0.8\", \"0.9\", \"1.0\"], \"y\": [0.412288, 0.488728, 0.583054, 0.689506, 0.790683, 0.871244, 0.977568, 1.066662, 1.186162, 1.279145]}, {\"marker\": {\"color\": \"rgba(54, 50, 168, 1)\", \"size\": 18, \"symbol\": \"x\"}, \"mode\": \"markers\", \"name\": \"4FullScan\", \"showlegend\": false, \"type\": \"scatter\", \"x\": [-0.0], \"y\": [0.35576599999999997]}, {\"marker\": {\"color\": \"rgba(54, 50, 168, 1)\", \"size\": 18, \"symbol\": \"x\"}, \"mode\": \"markers\", \"name\": \"4AKD\", \"showlegend\": false, \"type\": \"scatter\", \"x\": [-0.1], \"y\": [0.810261]}, {\"marker\": {\"color\": \"rgba(54, 50, 168, 1)\", \"size\": 18, \"symbol\": \"x\"}, \"mode\": \"markers\", \"name\": \"4Quasii\", \"showlegend\": false, \"type\": \"scatter\", \"x\": [-0.2], \"y\": [1.6096590000000002]}, {\"marker\": {\"color\": \"rgba(1, 140, 22, 1)\", \"size\": 18, \"symbol\": \"star\"}, \"mode\": \"lines+markers\", \"name\": \"2 cols\", \"type\": \"scatter\", \"x\": [\"0.1\", \"0.2\", \"0.3\", \"0.4\", \"0.5\", \"0.6\", \"0.7\", \"0.8\", \"0.9\", \"1.0\"], \"y\": [0.261313, 0.304277, 0.344597, 0.380749, 0.421464, 0.45889899999999995, 0.502727, 0.539107, 0.579858, 0.614906]}, {\"marker\": {\"color\": \"rgba(1, 140, 22, 1)\", \"size\": 18, \"symbol\": \"star\"}, \"mode\": \"markers\", \"name\": \"2FullScan\", \"showlegend\": false, \"type\": \"scatter\", \"x\": [-0.0], \"y\": [0.267766]}, {\"marker\": {\"color\": \"rgba(1, 140, 22, 1)\", \"size\": 18, \"symbol\": \"star\"}, \"mode\": \"markers\", \"name\": \"2AKD\", \"showlegend\": false, \"type\": \"scatter\", \"x\": [-0.1], \"y\": [0.459599]}, {\"marker\": {\"color\": \"rgba(1, 140, 22, 1)\", \"size\": 18, \"symbol\": \"star\"}, \"mode\": \"markers\", \"name\": \"2Quasii\", \"showlegend\": false, \"type\": \"scatter\", \"x\": [-0.2], \"y\": [1.6130069999999999]}],\n",
       "                        {\"annotations\": [{\"text\": \"(PKD) Delta\", \"x\": 0.5, \"xref\": \"x\", \"y\": -0.35, \"yref\": \"paper\"}], \"autosize\": true, \"font\": {\"size\": 42}, \"legend\": {\"font\": {\"color\": \"black\", \"size\": 30}}, \"margin\": {\"b\": 180}, \"plot_bgcolor\": \"rgba(0,0,0,0)\", \"shapes\": [{\"line\": {\"dash\": \"dot\", \"width\": 4}, \"opacity\": 0.3, \"type\": \"line\", \"x0\": 0.2, \"x1\": 0.2, \"y0\": 0, \"y1\": 1, \"yref\": \"paper\"}], \"showlegend\": true, \"template\": {\"data\": {\"bar\": [{\"error_x\": {\"color\": \"#2a3f5f\"}, \"error_y\": {\"color\": \"#2a3f5f\"}, \"marker\": {\"line\": {\"color\": \"#E5ECF6\", \"width\": 0.5}}, \"type\": \"bar\"}], \"barpolar\": [{\"marker\": {\"line\": {\"color\": \"#E5ECF6\", \"width\": 0.5}}, \"type\": \"barpolar\"}], \"carpet\": [{\"aaxis\": {\"endlinecolor\": \"#2a3f5f\", \"gridcolor\": \"white\", \"linecolor\": \"white\", \"minorgridcolor\": \"white\", \"startlinecolor\": \"#2a3f5f\"}, \"baxis\": {\"endlinecolor\": \"#2a3f5f\", \"gridcolor\": \"white\", \"linecolor\": \"white\", \"minorgridcolor\": \"white\", \"startlinecolor\": \"#2a3f5f\"}, \"type\": \"carpet\"}], \"choropleth\": [{\"colorbar\": {\"outlinewidth\": 0, \"ticks\": \"\"}, \"type\": \"choropleth\"}], \"contour\": [{\"colorbar\": {\"outlinewidth\": 0, \"ticks\": \"\"}, \"colorscale\": [[0.0, \"#0d0887\"], [0.1111111111111111, \"#46039f\"], [0.2222222222222222, \"#7201a8\"], [0.3333333333333333, \"#9c179e\"], [0.4444444444444444, \"#bd3786\"], [0.5555555555555556, \"#d8576b\"], [0.6666666666666666, \"#ed7953\"], [0.7777777777777778, \"#fb9f3a\"], [0.8888888888888888, \"#fdca26\"], [1.0, \"#f0f921\"]], \"type\": \"contour\"}], \"contourcarpet\": [{\"colorbar\": {\"outlinewidth\": 0, \"ticks\": \"\"}, \"type\": \"contourcarpet\"}], \"heatmap\": [{\"colorbar\": {\"outlinewidth\": 0, \"ticks\": \"\"}, \"colorscale\": [[0.0, \"#0d0887\"], [0.1111111111111111, \"#46039f\"], [0.2222222222222222, \"#7201a8\"], [0.3333333333333333, \"#9c179e\"], [0.4444444444444444, \"#bd3786\"], [0.5555555555555556, \"#d8576b\"], [0.6666666666666666, \"#ed7953\"], [0.7777777777777778, \"#fb9f3a\"], [0.8888888888888888, \"#fdca26\"], [1.0, \"#f0f921\"]], \"type\": \"heatmap\"}], \"heatmapgl\": [{\"colorbar\": {\"outlinewidth\": 0, \"ticks\": \"\"}, \"colorscale\": [[0.0, \"#0d0887\"], [0.1111111111111111, \"#46039f\"], [0.2222222222222222, \"#7201a8\"], [0.3333333333333333, \"#9c179e\"], [0.4444444444444444, \"#bd3786\"], [0.5555555555555556, \"#d8576b\"], [0.6666666666666666, \"#ed7953\"], [0.7777777777777778, \"#fb9f3a\"], [0.8888888888888888, \"#fdca26\"], [1.0, \"#f0f921\"]], \"type\": \"heatmapgl\"}], \"histogram\": [{\"marker\": {\"colorbar\": {\"outlinewidth\": 0, \"ticks\": \"\"}}, \"type\": \"histogram\"}], \"histogram2d\": [{\"colorbar\": {\"outlinewidth\": 0, \"ticks\": \"\"}, \"colorscale\": [[0.0, \"#0d0887\"], [0.1111111111111111, \"#46039f\"], [0.2222222222222222, \"#7201a8\"], [0.3333333333333333, \"#9c179e\"], [0.4444444444444444, \"#bd3786\"], [0.5555555555555556, \"#d8576b\"], [0.6666666666666666, \"#ed7953\"], [0.7777777777777778, \"#fb9f3a\"], [0.8888888888888888, \"#fdca26\"], [1.0, \"#f0f921\"]], \"type\": \"histogram2d\"}], \"histogram2dcontour\": [{\"colorbar\": {\"outlinewidth\": 0, \"ticks\": \"\"}, \"colorscale\": [[0.0, \"#0d0887\"], [0.1111111111111111, \"#46039f\"], [0.2222222222222222, \"#7201a8\"], [0.3333333333333333, \"#9c179e\"], [0.4444444444444444, \"#bd3786\"], [0.5555555555555556, \"#d8576b\"], [0.6666666666666666, \"#ed7953\"], [0.7777777777777778, \"#fb9f3a\"], [0.8888888888888888, \"#fdca26\"], [1.0, \"#f0f921\"]], \"type\": \"histogram2dcontour\"}], \"mesh3d\": [{\"colorbar\": {\"outlinewidth\": 0, \"ticks\": \"\"}, \"type\": \"mesh3d\"}], \"parcoords\": [{\"line\": {\"colorbar\": {\"outlinewidth\": 0, \"ticks\": \"\"}}, \"type\": \"parcoords\"}], \"scatter\": [{\"marker\": {\"colorbar\": {\"outlinewidth\": 0, \"ticks\": \"\"}}, \"type\": \"scatter\"}], \"scatter3d\": [{\"line\": {\"colorbar\": {\"outlinewidth\": 0, \"ticks\": \"\"}}, \"marker\": {\"colorbar\": {\"outlinewidth\": 0, \"ticks\": \"\"}}, \"type\": \"scatter3d\"}], \"scattercarpet\": [{\"marker\": {\"colorbar\": {\"outlinewidth\": 0, \"ticks\": \"\"}}, \"type\": \"scattercarpet\"}], \"scattergeo\": [{\"marker\": {\"colorbar\": {\"outlinewidth\": 0, \"ticks\": \"\"}}, \"type\": \"scattergeo\"}], \"scattergl\": [{\"marker\": {\"colorbar\": {\"outlinewidth\": 0, \"ticks\": \"\"}}, \"type\": \"scattergl\"}], \"scattermapbox\": [{\"marker\": {\"colorbar\": {\"outlinewidth\": 0, \"ticks\": \"\"}}, \"type\": \"scattermapbox\"}], \"scatterpolar\": [{\"marker\": {\"colorbar\": {\"outlinewidth\": 0, \"ticks\": \"\"}}, \"type\": \"scatterpolar\"}], \"scatterpolargl\": [{\"marker\": {\"colorbar\": {\"outlinewidth\": 0, \"ticks\": \"\"}}, \"type\": \"scatterpolargl\"}], \"scatterternary\": [{\"marker\": {\"colorbar\": {\"outlinewidth\": 0, \"ticks\": \"\"}}, \"type\": \"scatterternary\"}], \"surface\": [{\"colorbar\": {\"outlinewidth\": 0, \"ticks\": \"\"}, \"colorscale\": [[0.0, \"#0d0887\"], [0.1111111111111111, \"#46039f\"], [0.2222222222222222, \"#7201a8\"], [0.3333333333333333, \"#9c179e\"], [0.4444444444444444, \"#bd3786\"], [0.5555555555555556, \"#d8576b\"], [0.6666666666666666, \"#ed7953\"], [0.7777777777777778, \"#fb9f3a\"], [0.8888888888888888, \"#fdca26\"], [1.0, \"#f0f921\"]], \"type\": \"surface\"}], \"table\": [{\"cells\": {\"fill\": {\"color\": \"#EBF0F8\"}, \"line\": {\"color\": \"white\"}}, \"header\": {\"fill\": {\"color\": \"#C8D4E3\"}, \"line\": {\"color\": \"white\"}}, \"type\": \"table\"}]}, \"layout\": {\"annotationdefaults\": {\"arrowcolor\": \"#2a3f5f\", \"arrowhead\": 0, \"arrowwidth\": 1}, \"colorscale\": {\"diverging\": [[0, \"#8e0152\"], [0.1, \"#c51b7d\"], [0.2, \"#de77ae\"], [0.3, \"#f1b6da\"], [0.4, \"#fde0ef\"], [0.5, \"#f7f7f7\"], [0.6, \"#e6f5d0\"], [0.7, \"#b8e186\"], [0.8, \"#7fbc41\"], [0.9, \"#4d9221\"], [1, \"#276419\"]], \"sequential\": [[0.0, \"#0d0887\"], [0.1111111111111111, \"#46039f\"], [0.2222222222222222, \"#7201a8\"], [0.3333333333333333, \"#9c179e\"], [0.4444444444444444, \"#bd3786\"], [0.5555555555555556, \"#d8576b\"], [0.6666666666666666, \"#ed7953\"], [0.7777777777777778, \"#fb9f3a\"], [0.8888888888888888, \"#fdca26\"], [1.0, \"#f0f921\"]], \"sequentialminus\": [[0.0, \"#0d0887\"], [0.1111111111111111, \"#46039f\"], [0.2222222222222222, \"#7201a8\"], [0.3333333333333333, \"#9c179e\"], [0.4444444444444444, \"#bd3786\"], [0.5555555555555556, \"#d8576b\"], [0.6666666666666666, \"#ed7953\"], [0.7777777777777778, \"#fb9f3a\"], [0.8888888888888888, \"#fdca26\"], [1.0, \"#f0f921\"]]}, \"colorway\": [\"#636efa\", \"#EF553B\", \"#00cc96\", \"#ab63fa\", \"#FFA15A\", \"#19d3f3\", \"#FF6692\", \"#B6E880\", \"#FF97FF\", \"#FECB52\"], \"font\": {\"color\": \"#2a3f5f\"}, \"geo\": {\"bgcolor\": \"white\", \"lakecolor\": \"white\", \"landcolor\": \"#E5ECF6\", \"showlakes\": true, \"showland\": true, \"subunitcolor\": \"white\"}, \"hoverlabel\": {\"align\": \"left\"}, \"hovermode\": \"closest\", \"mapbox\": {\"style\": \"light\"}, \"paper_bgcolor\": \"white\", \"plot_bgcolor\": \"#E5ECF6\", \"polar\": {\"angularaxis\": {\"gridcolor\": \"white\", \"linecolor\": \"white\", \"ticks\": \"\"}, \"bgcolor\": \"#E5ECF6\", \"radialaxis\": {\"gridcolor\": \"white\", \"linecolor\": \"white\", \"ticks\": \"\"}}, \"scene\": {\"xaxis\": {\"backgroundcolor\": \"#E5ECF6\", \"gridcolor\": \"white\", \"gridwidth\": 2, \"linecolor\": \"white\", \"showbackground\": true, \"ticks\": \"\", \"zerolinecolor\": \"white\"}, \"yaxis\": {\"backgroundcolor\": \"#E5ECF6\", \"gridcolor\": \"white\", \"gridwidth\": 2, \"linecolor\": \"white\", \"showbackground\": true, \"ticks\": \"\", \"zerolinecolor\": \"white\"}, \"zaxis\": {\"backgroundcolor\": \"#E5ECF6\", \"gridcolor\": \"white\", \"gridwidth\": 2, \"linecolor\": \"white\", \"showbackground\": true, \"ticks\": \"\", \"zerolinecolor\": \"white\"}}, \"shapedefaults\": {\"line\": {\"color\": \"#2a3f5f\"}}, \"ternary\": {\"aaxis\": {\"gridcolor\": \"white\", \"linecolor\": \"white\", \"ticks\": \"\"}, \"baxis\": {\"gridcolor\": \"white\", \"linecolor\": \"white\", \"ticks\": \"\"}, \"bgcolor\": \"#E5ECF6\", \"caxis\": {\"gridcolor\": \"white\", \"linecolor\": \"white\", \"ticks\": \"\"}}, \"title\": {\"x\": 0.05}, \"xaxis\": {\"automargin\": true, \"gridcolor\": \"white\", \"linecolor\": \"white\", \"ticks\": \"\", \"zerolinecolor\": \"white\", \"zerolinewidth\": 2}, \"yaxis\": {\"automargin\": true, \"gridcolor\": \"white\", \"linecolor\": \"white\", \"ticks\": \"\", \"zerolinecolor\": \"white\", \"zerolinewidth\": 2}}}, \"xaxis\": {\"linecolor\": \"black\", \"linewidth\": 2, \"showline\": true, \"tickangle\": 65, \"ticklen\": 5, \"tickmode\": \"array\", \"ticks\": \"inside\", \"ticktext\": [\"Q\", \"AKD\", \"FS\", \"0.1\", \"0.2\", \"0.3\", \"0.4\", \"0.5\", \"0.6\", \"0.7\", \"0.8\", \"0.9\", \"1.0\"], \"tickvals\": [-0.2, -0.1, -0.0, \"0.1\", \"0.2\", \"0.3\", \"0.4\", \"0.5\", \"0.6\", \"0.7\", \"0.8\", \"0.9\", \"1.0\"], \"zeroline\": true}, \"yaxis\": {\"dtick\": 0.5, \"gridcolor\": \"lightgrey\", \"gridwidth\": 1, \"linecolor\": \"black\", \"linewidth\": 2, \"rangemode\": \"tozero\", \"showgrid\": true, \"showline\": true, \"ticklen\": 5, \"tickmode\": \"linear\", \"ticks\": \"inside\", \"title\": {\"text\": \"First Query Cost [s]\"}, \"zeroline\": false, \"zerolinecolor\": \"rgba(0, 0, 0, 0)\"}},\n",
       "                        {\"responsive\": true}\n",
       "                    ).then(function(){\n",
       "                            \n",
       "var gd = document.getElementById('2e6e03f2-eca2-4f1a-8aab-0157e4797e62');\n",
       "var x = new MutationObserver(function (mutations, observer) {{\n",
       "        var display = window.getComputedStyle(gd).display;\n",
       "        if (!display || display === 'none') {{\n",
       "            console.log([gd, 'removed!']);\n",
       "            Plotly.purge(gd);\n",
       "            observer.disconnect();\n",
       "        }}\n",
       "}});\n",
       "\n",
       "// Listen for the removal of the full notebook cells\n",
       "var notebookContainer = gd.closest('#notebook-container');\n",
       "if (notebookContainer) {{\n",
       "    x.observe(notebookContainer, {childList: true});\n",
       "}}\n",
       "\n",
       "// Listen for the clearing of the current output cell\n",
       "var outputEl = gd.closest('.output');\n",
       "if (outputEl) {{\n",
       "    x.observe(outputEl, {childList: true});\n",
       "}}\n",
       "\n",
       "                        })\n",
       "                };\n",
       "                });\n",
       "            </script>\n",
       "        </div>"
      ]
     },
     "metadata": {},
     "output_type": "display_data"
    }
   ],
   "source": [
    "fig = create_figure()\n",
    "\n",
    "cols = [8, 6, 4, 2]\n",
    "markers = delta_markers\n",
    "colors = ['rgba(168, 50, 119, 1)', 'rgba(235, 7, 7, 1)', 'rgba(54, 50, 168, 1)', 'rgba(1, 140, 22, 1)']\n",
    "markers = delta_markers\n",
    "\n",
    "lines = []\n",
    "shapes = []\n",
    "\n",
    "for i, marker, color in zip(cols, markers, colors):\n",
    "\n",
    "    fq_times = []\n",
    "    for d in deltas:\n",
    "        fq_times.append(get_first_query(read(f'ProgressiveIndex_{d}', f'Uniform{i}')))\n",
    "    lines.append(\n",
    "        go.Scatter(\n",
    "            name=f'{i} cols',\n",
    "            x=deltas,\n",
    "            y=fq_times,\n",
    "            mode='lines+markers',\n",
    "            marker=dict(\n",
    "                size=18,\n",
    "                symbol=marker\n",
    "            ),\n",
    "            marker_color=color\n",
    "        )\n",
    "    )\n",
    "    \n",
    "    # add other indices values\n",
    "    \n",
    "    lines.append(\n",
    "        go.Scatter(\n",
    "            name=f'{i}FullScan',\n",
    "            x=[-0.0],\n",
    "            y=[get_first_query(read(f'FullScan', f'Uniform{i}'))],\n",
    "            mode='markers',\n",
    "            marker_color=color,\n",
    "            marker=dict(\n",
    "                size=18,\n",
    "                symbol=marker\n",
    "            ),\n",
    "            showlegend=False\n",
    "        )\n",
    "    )\n",
    "    \n",
    "    lines.append(\n",
    "        go.Scatter(\n",
    "            name=f'{i}AKD',\n",
    "            x=[-0.1],\n",
    "            y=[get_first_query(read(f'CrackingKDTree' ,f'Uniform{i}'))],\n",
    "            mode='markers',\n",
    "            marker_color=color,\n",
    "            marker=dict(\n",
    "                size=18,\n",
    "                symbol=marker\n",
    "            ),\n",
    "            showlegend=False\n",
    "        )\n",
    "    )\n",
    "    \n",
    "    lines.append(\n",
    "        go.Scatter(\n",
    "            name=f'{i}Quasii',\n",
    "            x=[-0.2],\n",
    "            y=[get_first_query(read(f'Quasii' ,f'Uniform{i}'))],\n",
    "            mode='markers',\n",
    "            marker_color=color,\n",
    "            marker=dict(\n",
    "                size=18,\n",
    "                symbol=marker\n",
    "            ),\n",
    "            showlegend=False\n",
    "        )\n",
    "    )\n",
    "\n",
    "# add line at 0.2 delta\n",
    "shapes.append(\n",
    "    dict(\n",
    "        type= 'line',\n",
    "        yref=\"paper\", y0= 0, y1=1,\n",
    "        x0= 0.2, x1=0.2,\n",
    "        opacity=0.3,\n",
    "        line=dict(\n",
    "            width=4,\n",
    "            dash=\"dot\",\n",
    "        )\n",
    "    )\n",
    ")\n",
    "\n",
    "fig.add_traces(data=lines)\n",
    "fig.update_layout(showlegend=True, yaxis_title='First Query Cost [s]', shapes=shapes)\n",
    "fig.update_xaxes(tickangle=65)\n",
    "fig.update_layout(\n",
    "#     xaxis=dict(\n",
    "#         tickmode = 'linear',\n",
    "#         tick0 = 0.0,\n",
    "#         dtick = 0.1\n",
    "#     )\n",
    "    xaxis = dict(\n",
    "        tickmode = 'array',\n",
    "        tickvals = [-0.2, -0.1, -0.0] + deltas,\n",
    "        ticktext = ['Q', 'AKD', 'FS'] + deltas\n",
    "    ),\n",
    "    yaxis= dict(\n",
    "        tickmode ='linear',\n",
    "        dtick=0.5\n",
    "#         tickvals = [0, 0.5, 1, 1.5, 2, 2.5, 3],\n",
    "#         ticktext = [0, 0.5, 1, 1.5, 2, 2.5, 3]\n",
    "    ),\n",
    "    annotations=[\n",
    "        dict(\n",
    "            x=0.5,\n",
    "            y=-0.35,\n",
    "            text=\"(PKD) Delta\",\n",
    "            xref=\"x\",\n",
    "            yref=\"paper\",\n",
    "        )\n",
    "    ],\n",
    "    autosize=True,\n",
    "    margin=dict(\n",
    "        b=180\n",
    "    ),\n",
    ")\n",
    "fig.update_yaxes(rangemode=\"tozero\")\n",
    "fig"
   ]
  },
  {
   "cell_type": "markdown",
   "metadata": {},
   "source": [
    "# Payoff"
   ]
  },
  {
   "cell_type": "code",
   "execution_count": 72,
   "metadata": {},
   "outputs": [
    {
     "data": {
      "application/vnd.plotly.v1+json": {
       "config": {
        "plotlyServerURL": "https://plot.ly"
       },
       "data": [
        {
         "marker": {
          "color": "rgba(168, 50, 119, 1)",
          "size": 18,
          "symbol": "circle"
         },
         "mode": "lines+markers",
         "name": "8 cols",
         "type": "scatter",
         "x": [
          "0.1",
          "0.2",
          "0.3",
          "0.4",
          "0.5",
          "0.6",
          "0.7",
          "0.8",
          "0.9",
          "1.0"
         ],
         "y": [
          38,
          34,
          31,
          27,
          25,
          23,
          22,
          21,
          21,
          20
         ]
        },
        {
         "marker": {
          "color": "rgba(168, 50, 119, 1)",
          "size": 18,
          "symbol": "diamond"
         },
         "mode": "markers",
         "name": "8AKD",
         "showlegend": false,
         "type": "scatter",
         "x": [
          0
         ],
         "y": [
          6
         ]
        },
        {
         "marker": {
          "color": "rgba(168, 50, 119, 1)",
          "size": 18,
          "symbol": "circle"
         },
         "mode": "markers",
         "name": "8Quasii",
         "showlegend": false,
         "type": "scatter",
         "x": [
          -0.1
         ],
         "y": [
          12
         ]
        },
        {
         "marker": {
          "color": "rgba(168, 50, 119, 1)",
          "size": 18,
          "symbol": "circle"
         },
         "mode": "markers",
         "name": "8AvgKD",
         "showlegend": false,
         "type": "scatter",
         "x": [
          -0.2
         ],
         "y": [
          14
         ]
        },
        {
         "marker": {
          "color": "rgba(168, 50, 119, 1)",
          "size": 18,
          "symbol": "circle"
         },
         "mode": "markers",
         "name": "8MedKD",
         "showlegend": false,
         "type": "scatter",
         "x": [
          -0.3
         ],
         "y": [
          23
         ]
        },
        {
         "marker": {
          "color": "rgba(235, 7, 7, 1)",
          "size": 18,
          "symbol": "square"
         },
         "mode": "lines+markers",
         "name": "6 cols",
         "type": "scatter",
         "x": [
          "0.1",
          "0.2",
          "0.3",
          "0.4",
          "0.5",
          "0.6",
          "0.7",
          "0.8",
          "0.9",
          "1.0"
         ],
         "y": [
          31,
          21,
          20,
          21,
          21,
          20,
          20,
          19,
          19,
          18
         ]
        },
        {
         "marker": {
          "color": "rgba(235, 7, 7, 1)",
          "size": 18,
          "symbol": "diamond"
         },
         "mode": "markers",
         "name": "6AKD",
         "showlegend": false,
         "type": "scatter",
         "x": [
          0
         ],
         "y": [
          6
         ]
        },
        {
         "marker": {
          "color": "rgba(235, 7, 7, 1)",
          "size": 18,
          "symbol": "square"
         },
         "mode": "markers",
         "name": "6Quasii",
         "showlegend": false,
         "type": "scatter",
         "x": [
          -0.1
         ],
         "y": [
          9
         ]
        },
        {
         "marker": {
          "color": "rgba(235, 7, 7, 1)",
          "size": 18,
          "symbol": "square"
         },
         "mode": "markers",
         "name": "6AvgKD",
         "showlegend": false,
         "type": "scatter",
         "x": [
          -0.2
         ],
         "y": [
          14
         ]
        },
        {
         "marker": {
          "color": "rgba(235, 7, 7, 1)",
          "size": 18,
          "symbol": "square"
         },
         "mode": "markers",
         "name": "6MedKD",
         "showlegend": false,
         "type": "scatter",
         "x": [
          -0.3
         ],
         "y": [
          25
         ]
        },
        {
         "marker": {
          "color": "rgba(54, 50, 168, 1)",
          "size": 18,
          "symbol": "x"
         },
         "mode": "lines+markers",
         "name": "4 cols",
         "type": "scatter",
         "x": [
          "0.1",
          "0.2",
          "0.3",
          "0.4",
          "0.5",
          "0.6",
          "0.7",
          "0.8",
          "0.9",
          "1.0"
         ],
         "y": [
          7,
          11,
          10,
          11,
          12,
          17,
          16,
          15,
          15,
          15
         ]
        },
        {
         "marker": {
          "color": "rgba(54, 50, 168, 1)",
          "size": 18,
          "symbol": "diamond"
         },
         "mode": "markers",
         "name": "4AKD",
         "showlegend": false,
         "type": "scatter",
         "x": [
          0
         ],
         "y": [
          5
         ]
        },
        {
         "marker": {
          "color": "rgba(54, 50, 168, 1)",
          "size": 18,
          "symbol": "x"
         },
         "mode": "markers",
         "name": "4Quasii",
         "showlegend": false,
         "type": "scatter",
         "x": [
          -0.1
         ],
         "y": [
          9
         ]
        },
        {
         "marker": {
          "color": "rgba(54, 50, 168, 1)",
          "size": 18,
          "symbol": "x"
         },
         "mode": "markers",
         "name": "4AvgKD",
         "showlegend": false,
         "type": "scatter",
         "x": [
          -0.2
         ],
         "y": [
          13
         ]
        },
        {
         "marker": {
          "color": "rgba(54, 50, 168, 1)",
          "size": 18,
          "symbol": "x"
         },
         "mode": "markers",
         "name": "4MedKD",
         "showlegend": false,
         "type": "scatter",
         "x": [
          -0.3
         ],
         "y": [
          26
         ]
        },
        {
         "marker": {
          "color": "rgba(1, 140, 22, 1)",
          "size": 18,
          "symbol": "star"
         },
         "mode": "lines+markers",
         "name": "2 cols",
         "type": "scatter",
         "visible": true,
         "x": [
          "0.1",
          "0.2",
          "0.3",
          "0.4",
          "0.5",
          "0.6",
          "0.7",
          "0.8",
          "0.9",
          "1.0"
         ],
         "y": [
          1000,
          6,
          7,
          8,
          14,
          18,
          18,
          17,
          17,
          17
         ]
        },
        {
         "marker": {
          "color": "rgba(1, 140, 22, 1)",
          "size": 18,
          "symbol": "diamond"
         },
         "mode": "markers",
         "name": "2AKD",
         "showlegend": false,
         "type": "scatter",
         "x": [
          0
         ],
         "y": [
          3
         ]
        },
        {
         "marker": {
          "color": "rgba(1, 140, 22, 1)",
          "size": 18,
          "symbol": "star"
         },
         "mode": "markers",
         "name": "2Quasii",
         "showlegend": false,
         "type": "scatter",
         "x": [
          -0.1
         ],
         "y": [
          13
         ]
        },
        {
         "marker": {
          "color": "rgba(1, 140, 22, 1)",
          "size": 18,
          "symbol": "star"
         },
         "mode": "markers",
         "name": "2AvgKD",
         "showlegend": false,
         "type": "scatter",
         "x": [
          -0.2
         ],
         "y": [
          18
         ]
        },
        {
         "marker": {
          "color": "rgba(1, 140, 22, 1)",
          "size": 18,
          "symbol": "star"
         },
         "mode": "markers",
         "name": "2MedKD",
         "showlegend": false,
         "type": "scatter",
         "x": [
          -0.3
         ],
         "y": [
          38
         ]
        }
       ],
       "layout": {
        "annotations": [
         {
          "text": "(PKD) Delta",
          "x": 0.5,
          "xref": "x",
          "y": -0.35,
          "yref": "paper"
         }
        ],
        "autosize": true,
        "font": {
         "size": 42
        },
        "legend": {
         "font": {
          "color": "black",
          "size": 30
         }
        },
        "margin": {
         "b": 190
        },
        "plot_bgcolor": "rgba(0, 0, 0, 0)",
        "shapes": [
         {
          "line": {
           "dash": "dot",
           "width": 4
          },
          "opacity": 0.3,
          "type": "line",
          "x0": 0.2,
          "x1": 0.2,
          "y0": 0,
          "y1": 1,
          "yref": "paper"
         }
        ],
        "showlegend": true,
        "template": {
         "data": {
          "bar": [
           {
            "error_x": {
             "color": "#2a3f5f"
            },
            "error_y": {
             "color": "#2a3f5f"
            },
            "marker": {
             "line": {
              "color": "#E5ECF6",
              "width": 0.5
             }
            },
            "type": "bar"
           }
          ],
          "barpolar": [
           {
            "marker": {
             "line": {
              "color": "#E5ECF6",
              "width": 0.5
             }
            },
            "type": "barpolar"
           }
          ],
          "carpet": [
           {
            "aaxis": {
             "endlinecolor": "#2a3f5f",
             "gridcolor": "white",
             "linecolor": "white",
             "minorgridcolor": "white",
             "startlinecolor": "#2a3f5f"
            },
            "baxis": {
             "endlinecolor": "#2a3f5f",
             "gridcolor": "white",
             "linecolor": "white",
             "minorgridcolor": "white",
             "startlinecolor": "#2a3f5f"
            },
            "type": "carpet"
           }
          ],
          "choropleth": [
           {
            "colorbar": {
             "outlinewidth": 0,
             "ticks": ""
            },
            "type": "choropleth"
           }
          ],
          "contour": [
           {
            "colorbar": {
             "outlinewidth": 0,
             "ticks": ""
            },
            "colorscale": [
             [
              0,
              "#0d0887"
             ],
             [
              0.1111111111111111,
              "#46039f"
             ],
             [
              0.2222222222222222,
              "#7201a8"
             ],
             [
              0.3333333333333333,
              "#9c179e"
             ],
             [
              0.4444444444444444,
              "#bd3786"
             ],
             [
              0.5555555555555556,
              "#d8576b"
             ],
             [
              0.6666666666666666,
              "#ed7953"
             ],
             [
              0.7777777777777778,
              "#fb9f3a"
             ],
             [
              0.8888888888888888,
              "#fdca26"
             ],
             [
              1,
              "#f0f921"
             ]
            ],
            "type": "contour"
           }
          ],
          "contourcarpet": [
           {
            "colorbar": {
             "outlinewidth": 0,
             "ticks": ""
            },
            "type": "contourcarpet"
           }
          ],
          "heatmap": [
           {
            "colorbar": {
             "outlinewidth": 0,
             "ticks": ""
            },
            "colorscale": [
             [
              0,
              "#0d0887"
             ],
             [
              0.1111111111111111,
              "#46039f"
             ],
             [
              0.2222222222222222,
              "#7201a8"
             ],
             [
              0.3333333333333333,
              "#9c179e"
             ],
             [
              0.4444444444444444,
              "#bd3786"
             ],
             [
              0.5555555555555556,
              "#d8576b"
             ],
             [
              0.6666666666666666,
              "#ed7953"
             ],
             [
              0.7777777777777778,
              "#fb9f3a"
             ],
             [
              0.8888888888888888,
              "#fdca26"
             ],
             [
              1,
              "#f0f921"
             ]
            ],
            "type": "heatmap"
           }
          ],
          "heatmapgl": [
           {
            "colorbar": {
             "outlinewidth": 0,
             "ticks": ""
            },
            "colorscale": [
             [
              0,
              "#0d0887"
             ],
             [
              0.1111111111111111,
              "#46039f"
             ],
             [
              0.2222222222222222,
              "#7201a8"
             ],
             [
              0.3333333333333333,
              "#9c179e"
             ],
             [
              0.4444444444444444,
              "#bd3786"
             ],
             [
              0.5555555555555556,
              "#d8576b"
             ],
             [
              0.6666666666666666,
              "#ed7953"
             ],
             [
              0.7777777777777778,
              "#fb9f3a"
             ],
             [
              0.8888888888888888,
              "#fdca26"
             ],
             [
              1,
              "#f0f921"
             ]
            ],
            "type": "heatmapgl"
           }
          ],
          "histogram": [
           {
            "marker": {
             "colorbar": {
              "outlinewidth": 0,
              "ticks": ""
             }
            },
            "type": "histogram"
           }
          ],
          "histogram2d": [
           {
            "colorbar": {
             "outlinewidth": 0,
             "ticks": ""
            },
            "colorscale": [
             [
              0,
              "#0d0887"
             ],
             [
              0.1111111111111111,
              "#46039f"
             ],
             [
              0.2222222222222222,
              "#7201a8"
             ],
             [
              0.3333333333333333,
              "#9c179e"
             ],
             [
              0.4444444444444444,
              "#bd3786"
             ],
             [
              0.5555555555555556,
              "#d8576b"
             ],
             [
              0.6666666666666666,
              "#ed7953"
             ],
             [
              0.7777777777777778,
              "#fb9f3a"
             ],
             [
              0.8888888888888888,
              "#fdca26"
             ],
             [
              1,
              "#f0f921"
             ]
            ],
            "type": "histogram2d"
           }
          ],
          "histogram2dcontour": [
           {
            "colorbar": {
             "outlinewidth": 0,
             "ticks": ""
            },
            "colorscale": [
             [
              0,
              "#0d0887"
             ],
             [
              0.1111111111111111,
              "#46039f"
             ],
             [
              0.2222222222222222,
              "#7201a8"
             ],
             [
              0.3333333333333333,
              "#9c179e"
             ],
             [
              0.4444444444444444,
              "#bd3786"
             ],
             [
              0.5555555555555556,
              "#d8576b"
             ],
             [
              0.6666666666666666,
              "#ed7953"
             ],
             [
              0.7777777777777778,
              "#fb9f3a"
             ],
             [
              0.8888888888888888,
              "#fdca26"
             ],
             [
              1,
              "#f0f921"
             ]
            ],
            "type": "histogram2dcontour"
           }
          ],
          "mesh3d": [
           {
            "colorbar": {
             "outlinewidth": 0,
             "ticks": ""
            },
            "type": "mesh3d"
           }
          ],
          "parcoords": [
           {
            "line": {
             "colorbar": {
              "outlinewidth": 0,
              "ticks": ""
             }
            },
            "type": "parcoords"
           }
          ],
          "scatter": [
           {
            "marker": {
             "colorbar": {
              "outlinewidth": 0,
              "ticks": ""
             }
            },
            "type": "scatter"
           }
          ],
          "scatter3d": [
           {
            "line": {
             "colorbar": {
              "outlinewidth": 0,
              "ticks": ""
             }
            },
            "marker": {
             "colorbar": {
              "outlinewidth": 0,
              "ticks": ""
             }
            },
            "type": "scatter3d"
           }
          ],
          "scattercarpet": [
           {
            "marker": {
             "colorbar": {
              "outlinewidth": 0,
              "ticks": ""
             }
            },
            "type": "scattercarpet"
           }
          ],
          "scattergeo": [
           {
            "marker": {
             "colorbar": {
              "outlinewidth": 0,
              "ticks": ""
             }
            },
            "type": "scattergeo"
           }
          ],
          "scattergl": [
           {
            "marker": {
             "colorbar": {
              "outlinewidth": 0,
              "ticks": ""
             }
            },
            "type": "scattergl"
           }
          ],
          "scattermapbox": [
           {
            "marker": {
             "colorbar": {
              "outlinewidth": 0,
              "ticks": ""
             }
            },
            "type": "scattermapbox"
           }
          ],
          "scatterpolar": [
           {
            "marker": {
             "colorbar": {
              "outlinewidth": 0,
              "ticks": ""
             }
            },
            "type": "scatterpolar"
           }
          ],
          "scatterpolargl": [
           {
            "marker": {
             "colorbar": {
              "outlinewidth": 0,
              "ticks": ""
             }
            },
            "type": "scatterpolargl"
           }
          ],
          "scatterternary": [
           {
            "marker": {
             "colorbar": {
              "outlinewidth": 0,
              "ticks": ""
             }
            },
            "type": "scatterternary"
           }
          ],
          "surface": [
           {
            "colorbar": {
             "outlinewidth": 0,
             "ticks": ""
            },
            "colorscale": [
             [
              0,
              "#0d0887"
             ],
             [
              0.1111111111111111,
              "#46039f"
             ],
             [
              0.2222222222222222,
              "#7201a8"
             ],
             [
              0.3333333333333333,
              "#9c179e"
             ],
             [
              0.4444444444444444,
              "#bd3786"
             ],
             [
              0.5555555555555556,
              "#d8576b"
             ],
             [
              0.6666666666666666,
              "#ed7953"
             ],
             [
              0.7777777777777778,
              "#fb9f3a"
             ],
             [
              0.8888888888888888,
              "#fdca26"
             ],
             [
              1,
              "#f0f921"
             ]
            ],
            "type": "surface"
           }
          ],
          "table": [
           {
            "cells": {
             "fill": {
              "color": "#EBF0F8"
             },
             "line": {
              "color": "white"
             }
            },
            "header": {
             "fill": {
              "color": "#C8D4E3"
             },
             "line": {
              "color": "white"
             }
            },
            "type": "table"
           }
          ]
         },
         "layout": {
          "annotationdefaults": {
           "arrowcolor": "#2a3f5f",
           "arrowhead": 0,
           "arrowwidth": 1
          },
          "colorscale": {
           "diverging": [
            [
             0,
             "#8e0152"
            ],
            [
             0.1,
             "#c51b7d"
            ],
            [
             0.2,
             "#de77ae"
            ],
            [
             0.3,
             "#f1b6da"
            ],
            [
             0.4,
             "#fde0ef"
            ],
            [
             0.5,
             "#f7f7f7"
            ],
            [
             0.6,
             "#e6f5d0"
            ],
            [
             0.7,
             "#b8e186"
            ],
            [
             0.8,
             "#7fbc41"
            ],
            [
             0.9,
             "#4d9221"
            ],
            [
             1,
             "#276419"
            ]
           ],
           "sequential": [
            [
             0,
             "#0d0887"
            ],
            [
             0.1111111111111111,
             "#46039f"
            ],
            [
             0.2222222222222222,
             "#7201a8"
            ],
            [
             0.3333333333333333,
             "#9c179e"
            ],
            [
             0.4444444444444444,
             "#bd3786"
            ],
            [
             0.5555555555555556,
             "#d8576b"
            ],
            [
             0.6666666666666666,
             "#ed7953"
            ],
            [
             0.7777777777777778,
             "#fb9f3a"
            ],
            [
             0.8888888888888888,
             "#fdca26"
            ],
            [
             1,
             "#f0f921"
            ]
           ],
           "sequentialminus": [
            [
             0,
             "#0d0887"
            ],
            [
             0.1111111111111111,
             "#46039f"
            ],
            [
             0.2222222222222222,
             "#7201a8"
            ],
            [
             0.3333333333333333,
             "#9c179e"
            ],
            [
             0.4444444444444444,
             "#bd3786"
            ],
            [
             0.5555555555555556,
             "#d8576b"
            ],
            [
             0.6666666666666666,
             "#ed7953"
            ],
            [
             0.7777777777777778,
             "#fb9f3a"
            ],
            [
             0.8888888888888888,
             "#fdca26"
            ],
            [
             1,
             "#f0f921"
            ]
           ]
          },
          "colorway": [
           "#636efa",
           "#EF553B",
           "#00cc96",
           "#ab63fa",
           "#FFA15A",
           "#19d3f3",
           "#FF6692",
           "#B6E880",
           "#FF97FF",
           "#FECB52"
          ],
          "font": {
           "color": "#2a3f5f"
          },
          "geo": {
           "bgcolor": "white",
           "lakecolor": "white",
           "landcolor": "#E5ECF6",
           "showlakes": true,
           "showland": true,
           "subunitcolor": "white"
          },
          "hoverlabel": {
           "align": "left"
          },
          "hovermode": "closest",
          "mapbox": {
           "style": "light"
          },
          "paper_bgcolor": "white",
          "plot_bgcolor": "#E5ECF6",
          "polar": {
           "angularaxis": {
            "gridcolor": "white",
            "linecolor": "white",
            "ticks": ""
           },
           "bgcolor": "#E5ECF6",
           "radialaxis": {
            "gridcolor": "white",
            "linecolor": "white",
            "ticks": ""
           }
          },
          "scene": {
           "xaxis": {
            "backgroundcolor": "#E5ECF6",
            "gridcolor": "white",
            "gridwidth": 2,
            "linecolor": "white",
            "showbackground": true,
            "ticks": "",
            "zerolinecolor": "white"
           },
           "yaxis": {
            "backgroundcolor": "#E5ECF6",
            "gridcolor": "white",
            "gridwidth": 2,
            "linecolor": "white",
            "showbackground": true,
            "ticks": "",
            "zerolinecolor": "white"
           },
           "zaxis": {
            "backgroundcolor": "#E5ECF6",
            "gridcolor": "white",
            "gridwidth": 2,
            "linecolor": "white",
            "showbackground": true,
            "ticks": "",
            "zerolinecolor": "white"
           }
          },
          "shapedefaults": {
           "line": {
            "color": "#2a3f5f"
           }
          },
          "ternary": {
           "aaxis": {
            "gridcolor": "white",
            "linecolor": "white",
            "ticks": ""
           },
           "baxis": {
            "gridcolor": "white",
            "linecolor": "white",
            "ticks": ""
           },
           "bgcolor": "#E5ECF6",
           "caxis": {
            "gridcolor": "white",
            "linecolor": "white",
            "ticks": ""
           }
          },
          "title": {
           "x": 0.05
          },
          "xaxis": {
           "automargin": true,
           "gridcolor": "white",
           "linecolor": "white",
           "ticks": "",
           "zerolinecolor": "white",
           "zerolinewidth": 2
          },
          "yaxis": {
           "automargin": true,
           "gridcolor": "white",
           "linecolor": "white",
           "ticks": "",
           "zerolinecolor": "white",
           "zerolinewidth": 2
          }
         }
        },
        "xaxis": {
         "autorange": true,
         "linecolor": "black",
         "linewidth": 2,
         "range": [
          -0.39101052144756615,
          1.0910105214475663
         ],
         "showline": true,
         "tickangle": 65,
         "ticklen": 5,
         "tickmode": "array",
         "ticks": "inside",
         "ticktext": [
          "MedKD",
          "AvgKD",
          "Q",
          "AKD",
          "0.1",
          "0.2",
          "0.3",
          "0.4",
          "0.5",
          "0.6",
          "0.7",
          "0.8",
          "0.9",
          "1.0"
         ],
         "tickvals": [
          -0.3,
          -0.2,
          -0.1,
          0,
          "0.1",
          "0.2",
          "0.3",
          "0.4",
          "0.5",
          "0.6",
          "0.7",
          "0.8",
          "0.9",
          "1.0"
         ],
         "type": "linear",
         "zeroline": true
        },
        "yaxis": {
         "autorange": true,
         "gridcolor": "lightgrey",
         "gridwidth": 1,
         "linecolor": "black",
         "linewidth": 2,
         "range": [
          -154.96090534979425,
          1157.9609053497943
         ],
         "showgrid": true,
         "showline": true,
         "ticklen": 5,
         "ticks": "inside",
         "title": {
          "text": "#Queries"
         },
         "type": "linear",
         "zeroline": false,
         "zerolinecolor": "rgba(0, 0, 0, 0)"
        }
       }
      },
      "image/png": "[encoded data removed]",
      "text/html": [
       "<div>\n",
       "        \n",
       "        \n",
       "            <div id=\"7e9d8368-f0ae-4550-89f0-b7513a4d366b\" class=\"plotly-graph-div\" style=\"height:525px; width:100%;\"></div>\n",
       "            <script type=\"text/javascript\">\n",
       "                require([\"plotly\"], function(Plotly) {\n",
       "                    window.PLOTLYENV=window.PLOTLYENV || {};\n",
       "                    \n",
       "                if (document.getElementById(\"7e9d8368-f0ae-4550-89f0-b7513a4d366b\")) {\n",
       "                    Plotly.newPlot(\n",
       "                        '7e9d8368-f0ae-4550-89f0-b7513a4d366b',\n",
       "                        [{\"marker\": {\"color\": \"rgba(168, 50, 119, 1)\", \"size\": 18, \"symbol\": \"circle\"}, \"mode\": \"lines+markers\", \"name\": \"8 cols\", \"type\": \"scatter\", \"x\": [\"0.1\", \"0.2\", \"0.3\", \"0.4\", \"0.5\", \"0.6\", \"0.7\", \"0.8\", \"0.9\", \"1.0\"], \"y\": [38, 34, 31, 27, 25, 23, 22, 21, 21, 20]}, {\"marker\": {\"color\": \"rgba(168, 50, 119, 1)\", \"size\": 18, \"symbol\": \"diamond\"}, \"mode\": \"markers\", \"name\": \"8AKD\", \"showlegend\": false, \"type\": \"scatter\", \"x\": [-0.0], \"y\": [6]}, {\"marker\": {\"color\": \"rgba(168, 50, 119, 1)\", \"size\": 18, \"symbol\": \"circle\"}, \"mode\": \"markers\", \"name\": \"8Quasii\", \"showlegend\": false, \"type\": \"scatter\", \"x\": [-0.1], \"y\": [12]}, {\"marker\": {\"color\": \"rgba(168, 50, 119, 1)\", \"size\": 18, \"symbol\": \"circle\"}, \"mode\": \"markers\", \"name\": \"8AvgKD\", \"showlegend\": false, \"type\": \"scatter\", \"x\": [-0.2], \"y\": [14]}, {\"marker\": {\"color\": \"rgba(168, 50, 119, 1)\", \"size\": 18, \"symbol\": \"circle\"}, \"mode\": \"markers\", \"name\": \"8MedKD\", \"showlegend\": false, \"type\": \"scatter\", \"x\": [-0.3], \"y\": [23]}, {\"marker\": {\"color\": \"rgba(235, 7, 7, 1)\", \"size\": 18, \"symbol\": \"square\"}, \"mode\": \"lines+markers\", \"name\": \"6 cols\", \"type\": \"scatter\", \"x\": [\"0.1\", \"0.2\", \"0.3\", \"0.4\", \"0.5\", \"0.6\", \"0.7\", \"0.8\", \"0.9\", \"1.0\"], \"y\": [31, 21, 20, 21, 21, 20, 20, 19, 19, 18]}, {\"marker\": {\"color\": \"rgba(235, 7, 7, 1)\", \"size\": 18, \"symbol\": \"diamond\"}, \"mode\": \"markers\", \"name\": \"6AKD\", \"showlegend\": false, \"type\": \"scatter\", \"x\": [-0.0], \"y\": [6]}, {\"marker\": {\"color\": \"rgba(235, 7, 7, 1)\", \"size\": 18, \"symbol\": \"square\"}, \"mode\": \"markers\", \"name\": \"6Quasii\", \"showlegend\": false, \"type\": \"scatter\", \"x\": [-0.1], \"y\": [9]}, {\"marker\": {\"color\": \"rgba(235, 7, 7, 1)\", \"size\": 18, \"symbol\": \"square\"}, \"mode\": \"markers\", \"name\": \"6AvgKD\", \"showlegend\": false, \"type\": \"scatter\", \"x\": [-0.2], \"y\": [14]}, {\"marker\": {\"color\": \"rgba(235, 7, 7, 1)\", \"size\": 18, \"symbol\": \"square\"}, \"mode\": \"markers\", \"name\": \"6MedKD\", \"showlegend\": false, \"type\": \"scatter\", \"x\": [-0.3], \"y\": [25]}, {\"marker\": {\"color\": \"rgba(54, 50, 168, 1)\", \"size\": 18, \"symbol\": \"x\"}, \"mode\": \"lines+markers\", \"name\": \"4 cols\", \"type\": \"scatter\", \"x\": [\"0.1\", \"0.2\", \"0.3\", \"0.4\", \"0.5\", \"0.6\", \"0.7\", \"0.8\", \"0.9\", \"1.0\"], \"y\": [7, 11, 10, 11, 12, 17, 16, 15, 15, 15]}, {\"marker\": {\"color\": \"rgba(54, 50, 168, 1)\", \"size\": 18, \"symbol\": \"diamond\"}, \"mode\": \"markers\", \"name\": \"4AKD\", \"showlegend\": false, \"type\": \"scatter\", \"x\": [-0.0], \"y\": [5]}, {\"marker\": {\"color\": \"rgba(54, 50, 168, 1)\", \"size\": 18, \"symbol\": \"x\"}, \"mode\": \"markers\", \"name\": \"4Quasii\", \"showlegend\": false, \"type\": \"scatter\", \"x\": [-0.1], \"y\": [9]}, {\"marker\": {\"color\": \"rgba(54, 50, 168, 1)\", \"size\": 18, \"symbol\": \"x\"}, \"mode\": \"markers\", \"name\": \"4AvgKD\", \"showlegend\": false, \"type\": \"scatter\", \"x\": [-0.2], \"y\": [13]}, {\"marker\": {\"color\": \"rgba(54, 50, 168, 1)\", \"size\": 18, \"symbol\": \"x\"}, \"mode\": \"markers\", \"name\": \"4MedKD\", \"showlegend\": false, \"type\": \"scatter\", \"x\": [-0.3], \"y\": [26]}, {\"marker\": {\"color\": \"rgba(1, 140, 22, 1)\", \"size\": 18, \"symbol\": \"star\"}, \"mode\": \"lines+markers\", \"name\": \"2 cols\", \"type\": \"scatter\", \"x\": [\"0.1\", \"0.2\", \"0.3\", \"0.4\", \"0.5\", \"0.6\", \"0.7\", \"0.8\", \"0.9\", \"1.0\"], \"y\": [1000, 6, 7, 8, 14, 18, 18, 17, 17, 17]}, {\"marker\": {\"color\": \"rgba(1, 140, 22, 1)\", \"size\": 18, \"symbol\": \"diamond\"}, \"mode\": \"markers\", \"name\": \"2AKD\", \"showlegend\": false, \"type\": \"scatter\", \"x\": [-0.0], \"y\": [3]}, {\"marker\": {\"color\": \"rgba(1, 140, 22, 1)\", \"size\": 18, \"symbol\": \"star\"}, \"mode\": \"markers\", \"name\": \"2Quasii\", \"showlegend\": false, \"type\": \"scatter\", \"x\": [-0.1], \"y\": [13]}, {\"marker\": {\"color\": \"rgba(1, 140, 22, 1)\", \"size\": 18, \"symbol\": \"star\"}, \"mode\": \"markers\", \"name\": \"2AvgKD\", \"showlegend\": false, \"type\": \"scatter\", \"x\": [-0.2], \"y\": [18]}, {\"marker\": {\"color\": \"rgba(1, 140, 22, 1)\", \"size\": 18, \"symbol\": \"star\"}, \"mode\": \"markers\", \"name\": \"2MedKD\", \"showlegend\": false, \"type\": \"scatter\", \"x\": [-0.3], \"y\": [38]}],\n",
       "                        {\"annotations\": [{\"text\": \"(PKD) Delta\", \"x\": 0.5, \"xref\": \"x\", \"y\": -0.35, \"yref\": \"paper\"}], \"autosize\": true, \"font\": {\"size\": 42}, \"legend\": {\"font\": {\"color\": \"black\", \"size\": 30}}, \"margin\": {\"b\": 190}, \"plot_bgcolor\": \"rgba(0,0,0,0)\", \"shapes\": [{\"line\": {\"dash\": \"dot\", \"width\": 4}, \"opacity\": 0.3, \"type\": \"line\", \"x0\": 0.2, \"x1\": 0.2, \"y0\": 0, \"y1\": 1, \"yref\": \"paper\"}], \"showlegend\": true, \"template\": {\"data\": {\"bar\": [{\"error_x\": {\"color\": \"#2a3f5f\"}, \"error_y\": {\"color\": \"#2a3f5f\"}, \"marker\": {\"line\": {\"color\": \"#E5ECF6\", \"width\": 0.5}}, \"type\": \"bar\"}], \"barpolar\": [{\"marker\": {\"line\": {\"color\": \"#E5ECF6\", \"width\": 0.5}}, \"type\": \"barpolar\"}], \"carpet\": [{\"aaxis\": {\"endlinecolor\": \"#2a3f5f\", \"gridcolor\": \"white\", \"linecolor\": \"white\", \"minorgridcolor\": \"white\", \"startlinecolor\": \"#2a3f5f\"}, \"baxis\": {\"endlinecolor\": \"#2a3f5f\", \"gridcolor\": \"white\", \"linecolor\": \"white\", \"minorgridcolor\": \"white\", \"startlinecolor\": \"#2a3f5f\"}, \"type\": \"carpet\"}], \"choropleth\": [{\"colorbar\": {\"outlinewidth\": 0, \"ticks\": \"\"}, \"type\": \"choropleth\"}], \"contour\": [{\"colorbar\": {\"outlinewidth\": 0, \"ticks\": \"\"}, \"colorscale\": [[0.0, \"#0d0887\"], [0.1111111111111111, \"#46039f\"], [0.2222222222222222, \"#7201a8\"], [0.3333333333333333, \"#9c179e\"], [0.4444444444444444, \"#bd3786\"], [0.5555555555555556, \"#d8576b\"], [0.6666666666666666, \"#ed7953\"], [0.7777777777777778, \"#fb9f3a\"], [0.8888888888888888, \"#fdca26\"], [1.0, \"#f0f921\"]], \"type\": \"contour\"}], \"contourcarpet\": [{\"colorbar\": {\"outlinewidth\": 0, \"ticks\": \"\"}, \"type\": \"contourcarpet\"}], \"heatmap\": [{\"colorbar\": {\"outlinewidth\": 0, \"ticks\": \"\"}, \"colorscale\": [[0.0, \"#0d0887\"], [0.1111111111111111, \"#46039f\"], [0.2222222222222222, \"#7201a8\"], [0.3333333333333333, \"#9c179e\"], [0.4444444444444444, \"#bd3786\"], [0.5555555555555556, \"#d8576b\"], [0.6666666666666666, \"#ed7953\"], [0.7777777777777778, \"#fb9f3a\"], [0.8888888888888888, \"#fdca26\"], [1.0, \"#f0f921\"]], \"type\": \"heatmap\"}], \"heatmapgl\": [{\"colorbar\": {\"outlinewidth\": 0, \"ticks\": \"\"}, \"colorscale\": [[0.0, \"#0d0887\"], [0.1111111111111111, \"#46039f\"], [0.2222222222222222, \"#7201a8\"], [0.3333333333333333, \"#9c179e\"], [0.4444444444444444, \"#bd3786\"], [0.5555555555555556, \"#d8576b\"], [0.6666666666666666, \"#ed7953\"], [0.7777777777777778, \"#fb9f3a\"], [0.8888888888888888, \"#fdca26\"], [1.0, \"#f0f921\"]], \"type\": \"heatmapgl\"}], \"histogram\": [{\"marker\": {\"colorbar\": {\"outlinewidth\": 0, \"ticks\": \"\"}}, \"type\": \"histogram\"}], \"histogram2d\": [{\"colorbar\": {\"outlinewidth\": 0, \"ticks\": \"\"}, \"colorscale\": [[0.0, \"#0d0887\"], [0.1111111111111111, \"#46039f\"], [0.2222222222222222, \"#7201a8\"], [0.3333333333333333, \"#9c179e\"], [0.4444444444444444, \"#bd3786\"], [0.5555555555555556, \"#d8576b\"], [0.6666666666666666, \"#ed7953\"], [0.7777777777777778, \"#fb9f3a\"], [0.8888888888888888, \"#fdca26\"], [1.0, \"#f0f921\"]], \"type\": \"histogram2d\"}], \"histogram2dcontour\": [{\"colorbar\": {\"outlinewidth\": 0, \"ticks\": \"\"}, \"colorscale\": [[0.0, \"#0d0887\"], [0.1111111111111111, \"#46039f\"], [0.2222222222222222, \"#7201a8\"], [0.3333333333333333, \"#9c179e\"], [0.4444444444444444, \"#bd3786\"], [0.5555555555555556, \"#d8576b\"], [0.6666666666666666, \"#ed7953\"], [0.7777777777777778, \"#fb9f3a\"], [0.8888888888888888, \"#fdca26\"], [1.0, \"#f0f921\"]], \"type\": \"histogram2dcontour\"}], \"mesh3d\": [{\"colorbar\": {\"outlinewidth\": 0, \"ticks\": \"\"}, \"type\": \"mesh3d\"}], \"parcoords\": [{\"line\": {\"colorbar\": {\"outlinewidth\": 0, \"ticks\": \"\"}}, \"type\": \"parcoords\"}], \"scatter\": [{\"marker\": {\"colorbar\": {\"outlinewidth\": 0, \"ticks\": \"\"}}, \"type\": \"scatter\"}], \"scatter3d\": [{\"line\": {\"colorbar\": {\"outlinewidth\": 0, \"ticks\": \"\"}}, \"marker\": {\"colorbar\": {\"outlinewidth\": 0, \"ticks\": \"\"}}, \"type\": \"scatter3d\"}], \"scattercarpet\": [{\"marker\": {\"colorbar\": {\"outlinewidth\": 0, \"ticks\": \"\"}}, \"type\": \"scattercarpet\"}], \"scattergeo\": [{\"marker\": {\"colorbar\": {\"outlinewidth\": 0, \"ticks\": \"\"}}, \"type\": \"scattergeo\"}], \"scattergl\": [{\"marker\": {\"colorbar\": {\"outlinewidth\": 0, \"ticks\": \"\"}}, \"type\": \"scattergl\"}], \"scattermapbox\": [{\"marker\": {\"colorbar\": {\"outlinewidth\": 0, \"ticks\": \"\"}}, \"type\": \"scattermapbox\"}], \"scatterpolar\": [{\"marker\": {\"colorbar\": {\"outlinewidth\": 0, \"ticks\": \"\"}}, \"type\": \"scatterpolar\"}], \"scatterpolargl\": [{\"marker\": {\"colorbar\": {\"outlinewidth\": 0, \"ticks\": \"\"}}, \"type\": \"scatterpolargl\"}], \"scatterternary\": [{\"marker\": {\"colorbar\": {\"outlinewidth\": 0, \"ticks\": \"\"}}, \"type\": \"scatterternary\"}], \"surface\": [{\"colorbar\": {\"outlinewidth\": 0, \"ticks\": \"\"}, \"colorscale\": [[0.0, \"#0d0887\"], [0.1111111111111111, \"#46039f\"], [0.2222222222222222, \"#7201a8\"], [0.3333333333333333, \"#9c179e\"], [0.4444444444444444, \"#bd3786\"], [0.5555555555555556, \"#d8576b\"], [0.6666666666666666, \"#ed7953\"], [0.7777777777777778, \"#fb9f3a\"], [0.8888888888888888, \"#fdca26\"], [1.0, \"#f0f921\"]], \"type\": \"surface\"}], \"table\": [{\"cells\": {\"fill\": {\"color\": \"#EBF0F8\"}, \"line\": {\"color\": \"white\"}}, \"header\": {\"fill\": {\"color\": \"#C8D4E3\"}, \"line\": {\"color\": \"white\"}}, \"type\": \"table\"}]}, \"layout\": {\"annotationdefaults\": {\"arrowcolor\": \"#2a3f5f\", \"arrowhead\": 0, \"arrowwidth\": 1}, \"colorscale\": {\"diverging\": [[0, \"#8e0152\"], [0.1, \"#c51b7d\"], [0.2, \"#de77ae\"], [0.3, \"#f1b6da\"], [0.4, \"#fde0ef\"], [0.5, \"#f7f7f7\"], [0.6, \"#e6f5d0\"], [0.7, \"#b8e186\"], [0.8, \"#7fbc41\"], [0.9, \"#4d9221\"], [1, \"#276419\"]], \"sequential\": [[0.0, \"#0d0887\"], [0.1111111111111111, \"#46039f\"], [0.2222222222222222, \"#7201a8\"], [0.3333333333333333, \"#9c179e\"], [0.4444444444444444, \"#bd3786\"], [0.5555555555555556, \"#d8576b\"], [0.6666666666666666, \"#ed7953\"], [0.7777777777777778, \"#fb9f3a\"], [0.8888888888888888, \"#fdca26\"], [1.0, \"#f0f921\"]], \"sequentialminus\": [[0.0, \"#0d0887\"], [0.1111111111111111, \"#46039f\"], [0.2222222222222222, \"#7201a8\"], [0.3333333333333333, \"#9c179e\"], [0.4444444444444444, \"#bd3786\"], [0.5555555555555556, \"#d8576b\"], [0.6666666666666666, \"#ed7953\"], [0.7777777777777778, \"#fb9f3a\"], [0.8888888888888888, \"#fdca26\"], [1.0, \"#f0f921\"]]}, \"colorway\": [\"#636efa\", \"#EF553B\", \"#00cc96\", \"#ab63fa\", \"#FFA15A\", \"#19d3f3\", \"#FF6692\", \"#B6E880\", \"#FF97FF\", \"#FECB52\"], \"font\": {\"color\": \"#2a3f5f\"}, \"geo\": {\"bgcolor\": \"white\", \"lakecolor\": \"white\", \"landcolor\": \"#E5ECF6\", \"showlakes\": true, \"showland\": true, \"subunitcolor\": \"white\"}, \"hoverlabel\": {\"align\": \"left\"}, \"hovermode\": \"closest\", \"mapbox\": {\"style\": \"light\"}, \"paper_bgcolor\": \"white\", \"plot_bgcolor\": \"#E5ECF6\", \"polar\": {\"angularaxis\": {\"gridcolor\": \"white\", \"linecolor\": \"white\", \"ticks\": \"\"}, \"bgcolor\": \"#E5ECF6\", \"radialaxis\": {\"gridcolor\": \"white\", \"linecolor\": \"white\", \"ticks\": \"\"}}, \"scene\": {\"xaxis\": {\"backgroundcolor\": \"#E5ECF6\", \"gridcolor\": \"white\", \"gridwidth\": 2, \"linecolor\": \"white\", \"showbackground\": true, \"ticks\": \"\", \"zerolinecolor\": \"white\"}, \"yaxis\": {\"backgroundcolor\": \"#E5ECF6\", \"gridcolor\": \"white\", \"gridwidth\": 2, \"linecolor\": \"white\", \"showbackground\": true, \"ticks\": \"\", \"zerolinecolor\": \"white\"}, \"zaxis\": {\"backgroundcolor\": \"#E5ECF6\", \"gridcolor\": \"white\", \"gridwidth\": 2, \"linecolor\": \"white\", \"showbackground\": true, \"ticks\": \"\", \"zerolinecolor\": \"white\"}}, \"shapedefaults\": {\"line\": {\"color\": \"#2a3f5f\"}}, \"ternary\": {\"aaxis\": {\"gridcolor\": \"white\", \"linecolor\": \"white\", \"ticks\": \"\"}, \"baxis\": {\"gridcolor\": \"white\", \"linecolor\": \"white\", \"ticks\": \"\"}, \"bgcolor\": \"#E5ECF6\", \"caxis\": {\"gridcolor\": \"white\", \"linecolor\": \"white\", \"ticks\": \"\"}}, \"title\": {\"x\": 0.05}, \"xaxis\": {\"automargin\": true, \"gridcolor\": \"white\", \"linecolor\": \"white\", \"ticks\": \"\", \"zerolinecolor\": \"white\", \"zerolinewidth\": 2}, \"yaxis\": {\"automargin\": true, \"gridcolor\": \"white\", \"linecolor\": \"white\", \"ticks\": \"\", \"zerolinecolor\": \"white\", \"zerolinewidth\": 2}}}, \"xaxis\": {\"linecolor\": \"black\", \"linewidth\": 2, \"showline\": true, \"tickangle\": 65, \"ticklen\": 5, \"tickmode\": \"array\", \"ticks\": \"inside\", \"ticktext\": [\"MedKD\", \"AvgKD\", \"Q\", \"AKD\", \"0.1\", \"0.2\", \"0.3\", \"0.4\", \"0.5\", \"0.6\", \"0.7\", \"0.8\", \"0.9\", \"1.0\"], \"tickvals\": [-0.3, -0.2, -0.1, -0.0, \"0.1\", \"0.2\", \"0.3\", \"0.4\", \"0.5\", \"0.6\", \"0.7\", \"0.8\", \"0.9\", \"1.0\"], \"zeroline\": true}, \"yaxis\": {\"gridcolor\": \"lightgrey\", \"gridwidth\": 1, \"linecolor\": \"black\", \"linewidth\": 2, \"showgrid\": true, \"showline\": true, \"ticklen\": 5, \"ticks\": \"inside\", \"title\": {\"text\": \"#Queries\"}, \"zeroline\": false, \"zerolinecolor\": \"rgba(0, 0, 0, 0)\"}},\n",
       "                        {\"responsive\": true}\n",
       "                    ).then(function(){\n",
       "                            \n",
       "var gd = document.getElementById('7e9d8368-f0ae-4550-89f0-b7513a4d366b');\n",
       "var x = new MutationObserver(function (mutations, observer) {{\n",
       "        var display = window.getComputedStyle(gd).display;\n",
       "        if (!display || display === 'none') {{\n",
       "            console.log([gd, 'removed!']);\n",
       "            Plotly.purge(gd);\n",
       "            observer.disconnect();\n",
       "        }}\n",
       "}});\n",
       "\n",
       "// Listen for the removal of the full notebook cells\n",
       "var notebookContainer = gd.closest('#notebook-container');\n",
       "if (notebookContainer) {{\n",
       "    x.observe(notebookContainer, {childList: true});\n",
       "}}\n",
       "\n",
       "// Listen for the clearing of the current output cell\n",
       "var outputEl = gd.closest('.output');\n",
       "if (outputEl) {{\n",
       "    x.observe(outputEl, {childList: true});\n",
       "}}\n",
       "\n",
       "                        })\n",
       "                };\n",
       "                });\n",
       "            </script>\n",
       "        </div>"
      ]
     },
     "metadata": {},
     "output_type": "display_data"
    }
   ],
   "source": [
    "fig = create_figure()\n",
    "\n",
    "cols = [8, 6, 4, 2]\n",
    "markers = delta_markers\n",
    "colors = ['rgba(168, 50, 119, 1)', 'rgba(235, 7, 7, 1)', 'rgba(54, 50, 168, 1)', 'rgba(1, 140, 22, 1)']\n",
    "\n",
    "lines = []\n",
    "\n",
    "for i, marker, color in zip(cols, markers, colors):\n",
    "    fq_times = []\n",
    "    for d in deltas:\n",
    "        fq_times.append(get_payoff(read(f'ProgressiveIndex_{d}', f'Uniform{i}'), read('FullScan', f'Uniform{i}')))\n",
    "    lines.append(\n",
    "        go.Scatter(\n",
    "            name=f'{i} cols',\n",
    "            x=deltas,\n",
    "            y=fq_times,\n",
    "            mode='lines+markers',\n",
    "            marker=dict(\n",
    "                size=18,\n",
    "                symbol=marker\n",
    "            ),\n",
    "            marker_color=color\n",
    "        )\n",
    "    )\n",
    "    \n",
    "    # add other indices values\n",
    "    lines.append(\n",
    "        go.Scatter(\n",
    "            name=f'{i}AKD',\n",
    "            x=[-0.0],\n",
    "            y=[get_payoff(read(f'CrackingKDTree' ,f'Uniform{i}'), read('FullScan', f'Uniform{i}'))],\n",
    "            mode='markers',\n",
    "            marker_color=color,\n",
    "            marker=dict(\n",
    "                size=18,\n",
    "                symbol='diamond'\n",
    "            ),\n",
    "            showlegend=False\n",
    "        )\n",
    "    )\n",
    "    \n",
    "    lines.append(\n",
    "        go.Scatter(\n",
    "            name=f'{i}Quasii',\n",
    "            x=[-0.1],\n",
    "            y=[get_payoff(read(f'Quasii' ,f'Uniform{i}'), read('FullScan', f'Uniform{i}'))],\n",
    "            mode='markers',\n",
    "            marker_color=color,\n",
    "            marker=dict(\n",
    "                size=18,\n",
    "                symbol=marker\n",
    "            ),\n",
    "            showlegend=False\n",
    "        )\n",
    "    )\n",
    "    \n",
    "    lines.append(\n",
    "        go.Scatter(\n",
    "            name=f'{i}AvgKD',\n",
    "            x=[-0.2],\n",
    "            y=[get_payoff(read(f'AverageKDTree' ,f'Uniform{i}'), read('FullScan', f'Uniform{i}'))],\n",
    "            mode='markers',\n",
    "            marker_color=color,\n",
    "            marker=dict(\n",
    "                size=18,\n",
    "                symbol=marker\n",
    "            ),\n",
    "            showlegend=False\n",
    "        )\n",
    "    )\n",
    "    \n",
    "    lines.append(\n",
    "        go.Scatter(\n",
    "            name=f'{i}MedKD',\n",
    "            x=[-0.3],\n",
    "            y=[get_payoff(read(f'MedianKDTree' ,f'Uniform{i}'), read('FullScan', f'Uniform{i}'))],\n",
    "            mode='markers',\n",
    "            marker_color=color,\n",
    "            marker=dict(\n",
    "                size=18,\n",
    "                symbol=marker\n",
    "            ),\n",
    "            showlegend=False\n",
    "        )\n",
    "    )\n",
    "\n",
    "# adding the 6 columns with 50% per attribute\n",
    "# fq_times = []\n",
    "# for d in deltas:\n",
    "#     fq_times.append(get_payoff(read(f'ProgressiveIndex_{d}', f'Uniform6_50'), read('FullScan', f'Uniform6_50')))\n",
    "# lines.append(\n",
    "#     go.Scatter(\n",
    "#         name=f'6 cols (50%)',\n",
    "#         x=deltas,\n",
    "#         y=fq_times,\n",
    "#         mode='lines+markers'\n",
    "#     )\n",
    "# )\n",
    "\n",
    "fig.add_traces(data=lines)\n",
    "fig.update_layout(showlegend=True, yaxis_title='#Queries')\n",
    "fig.update_xaxes(tickangle=65)\n",
    "fig.update_layout(\n",
    "    xaxis = dict(\n",
    "        tickmode = 'array',\n",
    "        tickvals = [-0.3, -0.2, -0.1, -0.0] + deltas,\n",
    "        ticktext = ['MedKD', 'AvgKD', 'Q', 'AKD'] + deltas\n",
    "    ),\n",
    "    shapes=[\n",
    "        dict(\n",
    "            type= 'line',\n",
    "            yref=\"paper\", y0= 0, y1=1,\n",
    "            x0= 0.2, x1=0.2,\n",
    "            opacity=0.3,\n",
    "            line=dict(\n",
    "                width=4,\n",
    "                dash=\"dot\",\n",
    "            )\n",
    "        )\n",
    "    ],\n",
    "    annotations=[\n",
    "        dict(\n",
    "            x=0.5,\n",
    "            y=-0.35,\n",
    "            text=\"(PKD) Delta\",\n",
    "            xref=\"x\",\n",
    "            yref=\"paper\",\n",
    "        )\n",
    "    ],\n",
    "    autosize=True,\n",
    "    margin=dict(\n",
    "        b=190\n",
    "    ),\n",
    ")\n",
    "fig"
   ]
  },
  {
   "cell_type": "markdown",
   "metadata": {},
   "source": [
    "# Convergence"
   ]
  },
  {
   "cell_type": "code",
   "execution_count": 73,
   "metadata": {},
   "outputs": [
    {
     "data": {
      "application/vnd.plotly.v1+json": {
       "config": {
        "plotlyServerURL": "https://plot.ly"
       },
       "data": [
        {
         "marker": {
          "color": "rgba(168, 50, 119, 1)",
          "size": 18,
          "symbol": "circle"
         },
         "mode": "lines+markers",
         "name": "8 cols",
         "type": "scatter",
         "x": [
          "0.1",
          "0.2",
          "0.3",
          "0.4",
          "0.5",
          "0.6",
          "0.7",
          "0.8",
          "0.9",
          "1.0"
         ],
         "y": [
          103,
          51,
          34,
          25,
          20,
          17,
          14,
          12,
          11,
          10
         ]
        },
        {
         "marker": {
          "color": "rgba(235, 7, 7, 1)",
          "size": 18,
          "symbol": "square"
         },
         "mode": "lines+markers",
         "name": "6 cols",
         "type": "scatter",
         "x": [
          "0.1",
          "0.2",
          "0.3",
          "0.4",
          "0.5",
          "0.6",
          "0.7",
          "0.8",
          "0.9",
          "1.0"
         ],
         "y": [
          103,
          51,
          34,
          25,
          20,
          17,
          14,
          12,
          11,
          10
         ]
        },
        {
         "marker": {
          "color": "rgba(54, 50, 168, 1)",
          "size": 18,
          "symbol": "x"
         },
         "mode": "lines+markers",
         "name": "4 cols",
         "type": "scatter",
         "x": [
          "0.1",
          "0.2",
          "0.3",
          "0.4",
          "0.5",
          "0.6",
          "0.7",
          "0.8",
          "0.9",
          "1.0"
         ],
         "y": [
          103,
          51,
          34,
          25,
          20,
          17,
          14,
          12,
          11,
          10
         ]
        },
        {
         "marker": {
          "color": "rgba(1, 140, 22, 1)",
          "size": 18,
          "symbol": "star"
         },
         "mode": "lines+markers",
         "name": "2 cols",
         "type": "scatter",
         "x": [
          "0.1",
          "0.2",
          "0.3",
          "0.4",
          "0.5",
          "0.6",
          "0.7",
          "0.8",
          "0.9",
          "1.0"
         ],
         "y": [
          103,
          51,
          34,
          25,
          20,
          17,
          14,
          12,
          11,
          10
         ]
        }
       ],
       "layout": {
        "autosize": true,
        "font": {
         "size": 42
        },
        "legend": {
         "font": {
          "color": "black",
          "size": 30
         }
        },
        "plot_bgcolor": "rgba(0, 0, 0, 0)",
        "shapes": [
         {
          "line": {
           "dash": "dot",
           "width": 4
          },
          "opacity": 0.3,
          "type": "line",
          "x0": 0.2,
          "x1": 0.2,
          "y0": 0,
          "y1": 1,
          "yref": "paper"
         }
        ],
        "showlegend": true,
        "template": {
         "data": {
          "bar": [
           {
            "error_x": {
             "color": "#2a3f5f"
            },
            "error_y": {
             "color": "#2a3f5f"
            },
            "marker": {
             "line": {
              "color": "#E5ECF6",
              "width": 0.5
             }
            },
            "type": "bar"
           }
          ],
          "barpolar": [
           {
            "marker": {
             "line": {
              "color": "#E5ECF6",
              "width": 0.5
             }
            },
            "type": "barpolar"
           }
          ],
          "carpet": [
           {
            "aaxis": {
             "endlinecolor": "#2a3f5f",
             "gridcolor": "white",
             "linecolor": "white",
             "minorgridcolor": "white",
             "startlinecolor": "#2a3f5f"
            },
            "baxis": {
             "endlinecolor": "#2a3f5f",
             "gridcolor": "white",
             "linecolor": "white",
             "minorgridcolor": "white",
             "startlinecolor": "#2a3f5f"
            },
            "type": "carpet"
           }
          ],
          "choropleth": [
           {
            "colorbar": {
             "outlinewidth": 0,
             "ticks": ""
            },
            "type": "choropleth"
           }
          ],
          "contour": [
           {
            "colorbar": {
             "outlinewidth": 0,
             "ticks": ""
            },
            "colorscale": [
             [
              0,
              "#0d0887"
             ],
             [
              0.1111111111111111,
              "#46039f"
             ],
             [
              0.2222222222222222,
              "#7201a8"
             ],
             [
              0.3333333333333333,
              "#9c179e"
             ],
             [
              0.4444444444444444,
              "#bd3786"
             ],
             [
              0.5555555555555556,
              "#d8576b"
             ],
             [
              0.6666666666666666,
              "#ed7953"
             ],
             [
              0.7777777777777778,
              "#fb9f3a"
             ],
             [
              0.8888888888888888,
              "#fdca26"
             ],
             [
              1,
              "#f0f921"
             ]
            ],
            "type": "contour"
           }
          ],
          "contourcarpet": [
           {
            "colorbar": {
             "outlinewidth": 0,
             "ticks": ""
            },
            "type": "contourcarpet"
           }
          ],
          "heatmap": [
           {
            "colorbar": {
             "outlinewidth": 0,
             "ticks": ""
            },
            "colorscale": [
             [
              0,
              "#0d0887"
             ],
             [
              0.1111111111111111,
              "#46039f"
             ],
             [
              0.2222222222222222,
              "#7201a8"
             ],
             [
              0.3333333333333333,
              "#9c179e"
             ],
             [
              0.4444444444444444,
              "#bd3786"
             ],
             [
              0.5555555555555556,
              "#d8576b"
             ],
             [
              0.6666666666666666,
              "#ed7953"
             ],
             [
              0.7777777777777778,
              "#fb9f3a"
             ],
             [
              0.8888888888888888,
              "#fdca26"
             ],
             [
              1,
              "#f0f921"
             ]
            ],
            "type": "heatmap"
           }
          ],
          "heatmapgl": [
           {
            "colorbar": {
             "outlinewidth": 0,
             "ticks": ""
            },
            "colorscale": [
             [
              0,
              "#0d0887"
             ],
             [
              0.1111111111111111,
              "#46039f"
             ],
             [
              0.2222222222222222,
              "#7201a8"
             ],
             [
              0.3333333333333333,
              "#9c179e"
             ],
             [
              0.4444444444444444,
              "#bd3786"
             ],
             [
              0.5555555555555556,
              "#d8576b"
             ],
             [
              0.6666666666666666,
              "#ed7953"
             ],
             [
              0.7777777777777778,
              "#fb9f3a"
             ],
             [
              0.8888888888888888,
              "#fdca26"
             ],
             [
              1,
              "#f0f921"
             ]
            ],
            "type": "heatmapgl"
           }
          ],
          "histogram": [
           {
            "marker": {
             "colorbar": {
              "outlinewidth": 0,
              "ticks": ""
             }
            },
            "type": "histogram"
           }
          ],
          "histogram2d": [
           {
            "colorbar": {
             "outlinewidth": 0,
             "ticks": ""
            },
            "colorscale": [
             [
              0,
              "#0d0887"
             ],
             [
              0.1111111111111111,
              "#46039f"
             ],
             [
              0.2222222222222222,
              "#7201a8"
             ],
             [
              0.3333333333333333,
              "#9c179e"
             ],
             [
              0.4444444444444444,
              "#bd3786"
             ],
             [
              0.5555555555555556,
              "#d8576b"
             ],
             [
              0.6666666666666666,
              "#ed7953"
             ],
             [
              0.7777777777777778,
              "#fb9f3a"
             ],
             [
              0.8888888888888888,
              "#fdca26"
             ],
             [
              1,
              "#f0f921"
             ]
            ],
            "type": "histogram2d"
           }
          ],
          "histogram2dcontour": [
           {
            "colorbar": {
             "outlinewidth": 0,
             "ticks": ""
            },
            "colorscale": [
             [
              0,
              "#0d0887"
             ],
             [
              0.1111111111111111,
              "#46039f"
             ],
             [
              0.2222222222222222,
              "#7201a8"
             ],
             [
              0.3333333333333333,
              "#9c179e"
             ],
             [
              0.4444444444444444,
              "#bd3786"
             ],
             [
              0.5555555555555556,
              "#d8576b"
             ],
             [
              0.6666666666666666,
              "#ed7953"
             ],
             [
              0.7777777777777778,
              "#fb9f3a"
             ],
             [
              0.8888888888888888,
              "#fdca26"
             ],
             [
              1,
              "#f0f921"
             ]
            ],
            "type": "histogram2dcontour"
           }
          ],
          "mesh3d": [
           {
            "colorbar": {
             "outlinewidth": 0,
             "ticks": ""
            },
            "type": "mesh3d"
           }
          ],
          "parcoords": [
           {
            "line": {
             "colorbar": {
              "outlinewidth": 0,
              "ticks": ""
             }
            },
            "type": "parcoords"
           }
          ],
          "scatter": [
           {
            "marker": {
             "colorbar": {
              "outlinewidth": 0,
              "ticks": ""
             }
            },
            "type": "scatter"
           }
          ],
          "scatter3d": [
           {
            "line": {
             "colorbar": {
              "outlinewidth": 0,
              "ticks": ""
             }
            },
            "marker": {
             "colorbar": {
              "outlinewidth": 0,
              "ticks": ""
             }
            },
            "type": "scatter3d"
           }
          ],
          "scattercarpet": [
           {
            "marker": {
             "colorbar": {
              "outlinewidth": 0,
              "ticks": ""
             }
            },
            "type": "scattercarpet"
           }
          ],
          "scattergeo": [
           {
            "marker": {
             "colorbar": {
              "outlinewidth": 0,
              "ticks": ""
             }
            },
            "type": "scattergeo"
           }
          ],
          "scattergl": [
           {
            "marker": {
             "colorbar": {
              "outlinewidth": 0,
              "ticks": ""
             }
            },
            "type": "scattergl"
           }
          ],
          "scattermapbox": [
           {
            "marker": {
             "colorbar": {
              "outlinewidth": 0,
              "ticks": ""
             }
            },
            "type": "scattermapbox"
           }
          ],
          "scatterpolar": [
           {
            "marker": {
             "colorbar": {
              "outlinewidth": 0,
              "ticks": ""
             }
            },
            "type": "scatterpolar"
           }
          ],
          "scatterpolargl": [
           {
            "marker": {
             "colorbar": {
              "outlinewidth": 0,
              "ticks": ""
             }
            },
            "type": "scatterpolargl"
           }
          ],
          "scatterternary": [
           {
            "marker": {
             "colorbar": {
              "outlinewidth": 0,
              "ticks": ""
             }
            },
            "type": "scatterternary"
           }
          ],
          "surface": [
           {
            "colorbar": {
             "outlinewidth": 0,
             "ticks": ""
            },
            "colorscale": [
             [
              0,
              "#0d0887"
             ],
             [
              0.1111111111111111,
              "#46039f"
             ],
             [
              0.2222222222222222,
              "#7201a8"
             ],
             [
              0.3333333333333333,
              "#9c179e"
             ],
             [
              0.4444444444444444,
              "#bd3786"
             ],
             [
              0.5555555555555556,
              "#d8576b"
             ],
             [
              0.6666666666666666,
              "#ed7953"
             ],
             [
              0.7777777777777778,
              "#fb9f3a"
             ],
             [
              0.8888888888888888,
              "#fdca26"
             ],
             [
              1,
              "#f0f921"
             ]
            ],
            "type": "surface"
           }
          ],
          "table": [
           {
            "cells": {
             "fill": {
              "color": "#EBF0F8"
             },
             "line": {
              "color": "white"
             }
            },
            "header": {
             "fill": {
              "color": "#C8D4E3"
             },
             "line": {
              "color": "white"
             }
            },
            "type": "table"
           }
          ]
         },
         "layout": {
          "annotationdefaults": {
           "arrowcolor": "#2a3f5f",
           "arrowhead": 0,
           "arrowwidth": 1
          },
          "colorscale": {
           "diverging": [
            [
             0,
             "#8e0152"
            ],
            [
             0.1,
             "#c51b7d"
            ],
            [
             0.2,
             "#de77ae"
            ],
            [
             0.3,
             "#f1b6da"
            ],
            [
             0.4,
             "#fde0ef"
            ],
            [
             0.5,
             "#f7f7f7"
            ],
            [
             0.6,
             "#e6f5d0"
            ],
            [
             0.7,
             "#b8e186"
            ],
            [
             0.8,
             "#7fbc41"
            ],
            [
             0.9,
             "#4d9221"
            ],
            [
             1,
             "#276419"
            ]
           ],
           "sequential": [
            [
             0,
             "#0d0887"
            ],
            [
             0.1111111111111111,
             "#46039f"
            ],
            [
             0.2222222222222222,
             "#7201a8"
            ],
            [
             0.3333333333333333,
             "#9c179e"
            ],
            [
             0.4444444444444444,
             "#bd3786"
            ],
            [
             0.5555555555555556,
             "#d8576b"
            ],
            [
             0.6666666666666666,
             "#ed7953"
            ],
            [
             0.7777777777777778,
             "#fb9f3a"
            ],
            [
             0.8888888888888888,
             "#fdca26"
            ],
            [
             1,
             "#f0f921"
            ]
           ],
           "sequentialminus": [
            [
             0,
             "#0d0887"
            ],
            [
             0.1111111111111111,
             "#46039f"
            ],
            [
             0.2222222222222222,
             "#7201a8"
            ],
            [
             0.3333333333333333,
             "#9c179e"
            ],
            [
             0.4444444444444444,
             "#bd3786"
            ],
            [
             0.5555555555555556,
             "#d8576b"
            ],
            [
             0.6666666666666666,
             "#ed7953"
            ],
            [
             0.7777777777777778,
             "#fb9f3a"
            ],
            [
             0.8888888888888888,
             "#fdca26"
            ],
            [
             1,
             "#f0f921"
            ]
           ]
          },
          "colorway": [
           "#636efa",
           "#EF553B",
           "#00cc96",
           "#ab63fa",
           "#FFA15A",
           "#19d3f3",
           "#FF6692",
           "#B6E880",
           "#FF97FF",
           "#FECB52"
          ],
          "font": {
           "color": "#2a3f5f"
          },
          "geo": {
           "bgcolor": "white",
           "lakecolor": "white",
           "landcolor": "#E5ECF6",
           "showlakes": true,
           "showland": true,
           "subunitcolor": "white"
          },
          "hoverlabel": {
           "align": "left"
          },
          "hovermode": "closest",
          "mapbox": {
           "style": "light"
          },
          "paper_bgcolor": "white",
          "plot_bgcolor": "#E5ECF6",
          "polar": {
           "angularaxis": {
            "gridcolor": "white",
            "linecolor": "white",
            "ticks": ""
           },
           "bgcolor": "#E5ECF6",
           "radialaxis": {
            "gridcolor": "white",
            "linecolor": "white",
            "ticks": ""
           }
          },
          "scene": {
           "xaxis": {
            "backgroundcolor": "#E5ECF6",
            "gridcolor": "white",
            "gridwidth": 2,
            "linecolor": "white",
            "showbackground": true,
            "ticks": "",
            "zerolinecolor": "white"
           },
           "yaxis": {
            "backgroundcolor": "#E5ECF6",
            "gridcolor": "white",
            "gridwidth": 2,
            "linecolor": "white",
            "showbackground": true,
            "ticks": "",
            "zerolinecolor": "white"
           },
           "zaxis": {
            "backgroundcolor": "#E5ECF6",
            "gridcolor": "white",
            "gridwidth": 2,
            "linecolor": "white",
            "showbackground": true,
            "ticks": "",
            "zerolinecolor": "white"
           }
          },
          "shapedefaults": {
           "line": {
            "color": "#2a3f5f"
           }
          },
          "ternary": {
           "aaxis": {
            "gridcolor": "white",
            "linecolor": "white",
            "ticks": ""
           },
           "baxis": {
            "gridcolor": "white",
            "linecolor": "white",
            "ticks": ""
           },
           "bgcolor": "#E5ECF6",
           "caxis": {
            "gridcolor": "white",
            "linecolor": "white",
            "ticks": ""
           }
          },
          "title": {
           "x": 0.05
          },
          "xaxis": {
           "automargin": true,
           "gridcolor": "white",
           "linecolor": "white",
           "ticks": "",
           "zerolinecolor": "white",
           "zerolinewidth": 2
          },
          "yaxis": {
           "automargin": true,
           "gridcolor": "white",
           "linecolor": "white",
           "ticks": "",
           "zerolinecolor": "white",
           "zerolinewidth": 2
          }
         }
        },
        "xaxis": {
         "autorange": true,
         "dtick": 0.1,
         "linecolor": "black",
         "linewidth": 2,
         "range": [
          0.037335359675785204,
          1.0626646403242148
         ],
         "showline": true,
         "tick0": 0,
         "tickangle": 65,
         "ticklen": 5,
         "tickmode": "linear",
         "ticks": "inside",
         "title": {
          "text": "<br>(PKD) Delta"
         },
         "type": "linear",
         "zeroline": true
        },
        "yaxis": {
         "autorange": true,
         "gridcolor": "lightgrey",
         "gridwidth": 1,
         "linecolor": "black",
         "linewidth": 2,
         "range": [
          0,
          113.39449541284404
         ],
         "rangemode": "tozero",
         "showgrid": true,
         "showline": true,
         "ticklen": 5,
         "ticks": "inside",
         "title": {
          "text": "#Queries"
         },
         "type": "linear",
         "zeroline": false,
         "zerolinecolor": "rgba(0, 0, 0, 0)"
        }
       }
      },
      "image/png": "[encoded data removed]",
      "text/html": [
       "<div>\n",
       "        \n",
       "        \n",
       "            <div id=\"7f916139-02d7-4d26-98b1-54228cc5ae9e\" class=\"plotly-graph-div\" style=\"height:525px; width:100%;\"></div>\n",
       "            <script type=\"text/javascript\">\n",
       "                require([\"plotly\"], function(Plotly) {\n",
       "                    window.PLOTLYENV=window.PLOTLYENV || {};\n",
       "                    \n",
       "                if (document.getElementById(\"7f916139-02d7-4d26-98b1-54228cc5ae9e\")) {\n",
       "                    Plotly.newPlot(\n",
       "                        '7f916139-02d7-4d26-98b1-54228cc5ae9e',\n",
       "                        [{\"marker\": {\"color\": \"rgba(168, 50, 119, 1)\", \"size\": 18, \"symbol\": \"circle\"}, \"mode\": \"lines+markers\", \"name\": \"8 cols\", \"type\": \"scatter\", \"x\": [\"0.1\", \"0.2\", \"0.3\", \"0.4\", \"0.5\", \"0.6\", \"0.7\", \"0.8\", \"0.9\", \"1.0\"], \"y\": [103, 51, 34, 25, 20, 17, 14, 12, 11, 10]}, {\"marker\": {\"color\": \"rgba(235, 7, 7, 1)\", \"size\": 18, \"symbol\": \"square\"}, \"mode\": \"lines+markers\", \"name\": \"6 cols\", \"type\": \"scatter\", \"x\": [\"0.1\", \"0.2\", \"0.3\", \"0.4\", \"0.5\", \"0.6\", \"0.7\", \"0.8\", \"0.9\", \"1.0\"], \"y\": [103, 51, 34, 25, 20, 17, 14, 12, 11, 10]}, {\"marker\": {\"color\": \"rgba(54, 50, 168, 1)\", \"size\": 18, \"symbol\": \"x\"}, \"mode\": \"lines+markers\", \"name\": \"4 cols\", \"type\": \"scatter\", \"x\": [\"0.1\", \"0.2\", \"0.3\", \"0.4\", \"0.5\", \"0.6\", \"0.7\", \"0.8\", \"0.9\", \"1.0\"], \"y\": [103, 51, 34, 25, 20, 17, 14, 12, 11, 10]}, {\"marker\": {\"color\": \"rgba(1, 140, 22, 1)\", \"size\": 18, \"symbol\": \"star\"}, \"mode\": \"lines+markers\", \"name\": \"2 cols\", \"type\": \"scatter\", \"x\": [\"0.1\", \"0.2\", \"0.3\", \"0.4\", \"0.5\", \"0.6\", \"0.7\", \"0.8\", \"0.9\", \"1.0\"], \"y\": [103, 51, 34, 25, 20, 17, 14, 12, 11, 10]}],\n",
       "                        {\"font\": {\"size\": 42}, \"legend\": {\"font\": {\"color\": \"black\", \"size\": 30}}, \"plot_bgcolor\": \"rgba(0,0,0,0)\", \"shapes\": [{\"line\": {\"dash\": \"dot\", \"width\": 4}, \"opacity\": 0.3, \"type\": \"line\", \"x0\": 0.2, \"x1\": 0.2, \"y0\": 0, \"y1\": 1, \"yref\": \"paper\"}], \"showlegend\": true, \"template\": {\"data\": {\"bar\": [{\"error_x\": {\"color\": \"#2a3f5f\"}, \"error_y\": {\"color\": \"#2a3f5f\"}, \"marker\": {\"line\": {\"color\": \"#E5ECF6\", \"width\": 0.5}}, \"type\": \"bar\"}], \"barpolar\": [{\"marker\": {\"line\": {\"color\": \"#E5ECF6\", \"width\": 0.5}}, \"type\": \"barpolar\"}], \"carpet\": [{\"aaxis\": {\"endlinecolor\": \"#2a3f5f\", \"gridcolor\": \"white\", \"linecolor\": \"white\", \"minorgridcolor\": \"white\", \"startlinecolor\": \"#2a3f5f\"}, \"baxis\": {\"endlinecolor\": \"#2a3f5f\", \"gridcolor\": \"white\", \"linecolor\": \"white\", \"minorgridcolor\": \"white\", \"startlinecolor\": \"#2a3f5f\"}, \"type\": \"carpet\"}], \"choropleth\": [{\"colorbar\": {\"outlinewidth\": 0, \"ticks\": \"\"}, \"type\": \"choropleth\"}], \"contour\": [{\"colorbar\": {\"outlinewidth\": 0, \"ticks\": \"\"}, \"colorscale\": [[0.0, \"#0d0887\"], [0.1111111111111111, \"#46039f\"], [0.2222222222222222, \"#7201a8\"], [0.3333333333333333, \"#9c179e\"], [0.4444444444444444, \"#bd3786\"], [0.5555555555555556, \"#d8576b\"], [0.6666666666666666, \"#ed7953\"], [0.7777777777777778, \"#fb9f3a\"], [0.8888888888888888, \"#fdca26\"], [1.0, \"#f0f921\"]], \"type\": \"contour\"}], \"contourcarpet\": [{\"colorbar\": {\"outlinewidth\": 0, \"ticks\": \"\"}, \"type\": \"contourcarpet\"}], \"heatmap\": [{\"colorbar\": {\"outlinewidth\": 0, \"ticks\": \"\"}, \"colorscale\": [[0.0, \"#0d0887\"], [0.1111111111111111, \"#46039f\"], [0.2222222222222222, \"#7201a8\"], [0.3333333333333333, \"#9c179e\"], [0.4444444444444444, \"#bd3786\"], [0.5555555555555556, \"#d8576b\"], [0.6666666666666666, \"#ed7953\"], [0.7777777777777778, \"#fb9f3a\"], [0.8888888888888888, \"#fdca26\"], [1.0, \"#f0f921\"]], \"type\": \"heatmap\"}], \"heatmapgl\": [{\"colorbar\": {\"outlinewidth\": 0, \"ticks\": \"\"}, \"colorscale\": [[0.0, \"#0d0887\"], [0.1111111111111111, \"#46039f\"], [0.2222222222222222, \"#7201a8\"], [0.3333333333333333, \"#9c179e\"], [0.4444444444444444, \"#bd3786\"], [0.5555555555555556, \"#d8576b\"], [0.6666666666666666, \"#ed7953\"], [0.7777777777777778, \"#fb9f3a\"], [0.8888888888888888, \"#fdca26\"], [1.0, \"#f0f921\"]], \"type\": \"heatmapgl\"}], \"histogram\": [{\"marker\": {\"colorbar\": {\"outlinewidth\": 0, \"ticks\": \"\"}}, \"type\": \"histogram\"}], \"histogram2d\": [{\"colorbar\": {\"outlinewidth\": 0, \"ticks\": \"\"}, \"colorscale\": [[0.0, \"#0d0887\"], [0.1111111111111111, \"#46039f\"], [0.2222222222222222, \"#7201a8\"], [0.3333333333333333, \"#9c179e\"], [0.4444444444444444, \"#bd3786\"], [0.5555555555555556, \"#d8576b\"], [0.6666666666666666, \"#ed7953\"], [0.7777777777777778, \"#fb9f3a\"], [0.8888888888888888, \"#fdca26\"], [1.0, \"#f0f921\"]], \"type\": \"histogram2d\"}], \"histogram2dcontour\": [{\"colorbar\": {\"outlinewidth\": 0, \"ticks\": \"\"}, \"colorscale\": [[0.0, \"#0d0887\"], [0.1111111111111111, \"#46039f\"], [0.2222222222222222, \"#7201a8\"], [0.3333333333333333, \"#9c179e\"], [0.4444444444444444, \"#bd3786\"], [0.5555555555555556, \"#d8576b\"], [0.6666666666666666, \"#ed7953\"], [0.7777777777777778, \"#fb9f3a\"], [0.8888888888888888, \"#fdca26\"], [1.0, \"#f0f921\"]], \"type\": \"histogram2dcontour\"}], \"mesh3d\": [{\"colorbar\": {\"outlinewidth\": 0, \"ticks\": \"\"}, \"type\": \"mesh3d\"}], \"parcoords\": [{\"line\": {\"colorbar\": {\"outlinewidth\": 0, \"ticks\": \"\"}}, \"type\": \"parcoords\"}], \"scatter\": [{\"marker\": {\"colorbar\": {\"outlinewidth\": 0, \"ticks\": \"\"}}, \"type\": \"scatter\"}], \"scatter3d\": [{\"line\": {\"colorbar\": {\"outlinewidth\": 0, \"ticks\": \"\"}}, \"marker\": {\"colorbar\": {\"outlinewidth\": 0, \"ticks\": \"\"}}, \"type\": \"scatter3d\"}], \"scattercarpet\": [{\"marker\": {\"colorbar\": {\"outlinewidth\": 0, \"ticks\": \"\"}}, \"type\": \"scattercarpet\"}], \"scattergeo\": [{\"marker\": {\"colorbar\": {\"outlinewidth\": 0, \"ticks\": \"\"}}, \"type\": \"scattergeo\"}], \"scattergl\": [{\"marker\": {\"colorbar\": {\"outlinewidth\": 0, \"ticks\": \"\"}}, \"type\": \"scattergl\"}], \"scattermapbox\": [{\"marker\": {\"colorbar\": {\"outlinewidth\": 0, \"ticks\": \"\"}}, \"type\": \"scattermapbox\"}], \"scatterpolar\": [{\"marker\": {\"colorbar\": {\"outlinewidth\": 0, \"ticks\": \"\"}}, \"type\": \"scatterpolar\"}], \"scatterpolargl\": [{\"marker\": {\"colorbar\": {\"outlinewidth\": 0, \"ticks\": \"\"}}, \"type\": \"scatterpolargl\"}], \"scatterternary\": [{\"marker\": {\"colorbar\": {\"outlinewidth\": 0, \"ticks\": \"\"}}, \"type\": \"scatterternary\"}], \"surface\": [{\"colorbar\": {\"outlinewidth\": 0, \"ticks\": \"\"}, \"colorscale\": [[0.0, \"#0d0887\"], [0.1111111111111111, \"#46039f\"], [0.2222222222222222, \"#7201a8\"], [0.3333333333333333, \"#9c179e\"], [0.4444444444444444, \"#bd3786\"], [0.5555555555555556, \"#d8576b\"], [0.6666666666666666, \"#ed7953\"], [0.7777777777777778, \"#fb9f3a\"], [0.8888888888888888, \"#fdca26\"], [1.0, \"#f0f921\"]], \"type\": \"surface\"}], \"table\": [{\"cells\": {\"fill\": {\"color\": \"#EBF0F8\"}, \"line\": {\"color\": \"white\"}}, \"header\": {\"fill\": {\"color\": \"#C8D4E3\"}, \"line\": {\"color\": \"white\"}}, \"type\": \"table\"}]}, \"layout\": {\"annotationdefaults\": {\"arrowcolor\": \"#2a3f5f\", \"arrowhead\": 0, \"arrowwidth\": 1}, \"colorscale\": {\"diverging\": [[0, \"#8e0152\"], [0.1, \"#c51b7d\"], [0.2, \"#de77ae\"], [0.3, \"#f1b6da\"], [0.4, \"#fde0ef\"], [0.5, \"#f7f7f7\"], [0.6, \"#e6f5d0\"], [0.7, \"#b8e186\"], [0.8, \"#7fbc41\"], [0.9, \"#4d9221\"], [1, \"#276419\"]], \"sequential\": [[0.0, \"#0d0887\"], [0.1111111111111111, \"#46039f\"], [0.2222222222222222, \"#7201a8\"], [0.3333333333333333, \"#9c179e\"], [0.4444444444444444, \"#bd3786\"], [0.5555555555555556, \"#d8576b\"], [0.6666666666666666, \"#ed7953\"], [0.7777777777777778, \"#fb9f3a\"], [0.8888888888888888, \"#fdca26\"], [1.0, \"#f0f921\"]], \"sequentialminus\": [[0.0, \"#0d0887\"], [0.1111111111111111, \"#46039f\"], [0.2222222222222222, \"#7201a8\"], [0.3333333333333333, \"#9c179e\"], [0.4444444444444444, \"#bd3786\"], [0.5555555555555556, \"#d8576b\"], [0.6666666666666666, \"#ed7953\"], [0.7777777777777778, \"#fb9f3a\"], [0.8888888888888888, \"#fdca26\"], [1.0, \"#f0f921\"]]}, \"colorway\": [\"#636efa\", \"#EF553B\", \"#00cc96\", \"#ab63fa\", \"#FFA15A\", \"#19d3f3\", \"#FF6692\", \"#B6E880\", \"#FF97FF\", \"#FECB52\"], \"font\": {\"color\": \"#2a3f5f\"}, \"geo\": {\"bgcolor\": \"white\", \"lakecolor\": \"white\", \"landcolor\": \"#E5ECF6\", \"showlakes\": true, \"showland\": true, \"subunitcolor\": \"white\"}, \"hoverlabel\": {\"align\": \"left\"}, \"hovermode\": \"closest\", \"mapbox\": {\"style\": \"light\"}, \"paper_bgcolor\": \"white\", \"plot_bgcolor\": \"#E5ECF6\", \"polar\": {\"angularaxis\": {\"gridcolor\": \"white\", \"linecolor\": \"white\", \"ticks\": \"\"}, \"bgcolor\": \"#E5ECF6\", \"radialaxis\": {\"gridcolor\": \"white\", \"linecolor\": \"white\", \"ticks\": \"\"}}, \"scene\": {\"xaxis\": {\"backgroundcolor\": \"#E5ECF6\", \"gridcolor\": \"white\", \"gridwidth\": 2, \"linecolor\": \"white\", \"showbackground\": true, \"ticks\": \"\", \"zerolinecolor\": \"white\"}, \"yaxis\": {\"backgroundcolor\": \"#E5ECF6\", \"gridcolor\": \"white\", \"gridwidth\": 2, \"linecolor\": \"white\", \"showbackground\": true, \"ticks\": \"\", \"zerolinecolor\": \"white\"}, \"zaxis\": {\"backgroundcolor\": \"#E5ECF6\", \"gridcolor\": \"white\", \"gridwidth\": 2, \"linecolor\": \"white\", \"showbackground\": true, \"ticks\": \"\", \"zerolinecolor\": \"white\"}}, \"shapedefaults\": {\"line\": {\"color\": \"#2a3f5f\"}}, \"ternary\": {\"aaxis\": {\"gridcolor\": \"white\", \"linecolor\": \"white\", \"ticks\": \"\"}, \"baxis\": {\"gridcolor\": \"white\", \"linecolor\": \"white\", \"ticks\": \"\"}, \"bgcolor\": \"#E5ECF6\", \"caxis\": {\"gridcolor\": \"white\", \"linecolor\": \"white\", \"ticks\": \"\"}}, \"title\": {\"x\": 0.05}, \"xaxis\": {\"automargin\": true, \"gridcolor\": \"white\", \"linecolor\": \"white\", \"ticks\": \"\", \"zerolinecolor\": \"white\", \"zerolinewidth\": 2}, \"yaxis\": {\"automargin\": true, \"gridcolor\": \"white\", \"linecolor\": \"white\", \"ticks\": \"\", \"zerolinecolor\": \"white\", \"zerolinewidth\": 2}}}, \"xaxis\": {\"dtick\": 0.1, \"linecolor\": \"black\", \"linewidth\": 2, \"showline\": true, \"tick0\": 0.0, \"tickangle\": 65, \"ticklen\": 5, \"tickmode\": \"linear\", \"ticks\": \"inside\", \"title\": {\"text\": \"<br>(PKD) Delta\"}, \"zeroline\": true}, \"yaxis\": {\"gridcolor\": \"lightgrey\", \"gridwidth\": 1, \"linecolor\": \"black\", \"linewidth\": 2, \"rangemode\": \"tozero\", \"showgrid\": true, \"showline\": true, \"ticklen\": 5, \"ticks\": \"inside\", \"title\": {\"text\": \"#Queries\"}, \"zeroline\": false, \"zerolinecolor\": \"rgba(0, 0, 0, 0)\"}},\n",
       "                        {\"responsive\": true}\n",
       "                    ).then(function(){\n",
       "                            \n",
       "var gd = document.getElementById('7f916139-02d7-4d26-98b1-54228cc5ae9e');\n",
       "var x = new MutationObserver(function (mutations, observer) {{\n",
       "        var display = window.getComputedStyle(gd).display;\n",
       "        if (!display || display === 'none') {{\n",
       "            console.log([gd, 'removed!']);\n",
       "            Plotly.purge(gd);\n",
       "            observer.disconnect();\n",
       "        }}\n",
       "}});\n",
       "\n",
       "// Listen for the removal of the full notebook cells\n",
       "var notebookContainer = gd.closest('#notebook-container');\n",
       "if (notebookContainer) {{\n",
       "    x.observe(notebookContainer, {childList: true});\n",
       "}}\n",
       "\n",
       "// Listen for the clearing of the current output cell\n",
       "var outputEl = gd.closest('.output');\n",
       "if (outputEl) {{\n",
       "    x.observe(outputEl, {childList: true});\n",
       "}}\n",
       "\n",
       "                        })\n",
       "                };\n",
       "                });\n",
       "            </script>\n",
       "        </div>"
      ]
     },
     "metadata": {},
     "output_type": "display_data"
    }
   ],
   "source": [
    "fig = create_figure()\n",
    "\n",
    "cols = [8, 6, 4, 2]\n",
    "markers = delta_markers\n",
    "colors = ['rgba(168, 50, 119, 1)', 'rgba(235, 7, 7, 1)', 'rgba(54, 50, 168, 1)', 'rgba(1, 140, 22, 1)']\n",
    "\n",
    "lines = []\n",
    "\n",
    "for i, marker, color in zip(cols, markers, colors):\n",
    "    fq_times = []\n",
    "    for d in deltas:\n",
    "        fq_times.append(get_convergence(read(f'ProgressiveIndex_{d}', f'Uniform{i}')))\n",
    "    lines.append(\n",
    "        go.Scatter(\n",
    "            name=f'{i} cols',\n",
    "            x=deltas,\n",
    "            y=fq_times,\n",
    "            mode='lines+markers',\n",
    "            marker=dict(\n",
    "                size=18,\n",
    "                symbol=marker\n",
    "            ),\n",
    "            marker_color=color\n",
    "        )\n",
    "    )\n",
    "\n",
    "fig.add_traces(data=lines)\n",
    "fig.update_layout(showlegend=True, yaxis_title='#Queries', xaxis_title='<br>(PKD) Delta')\n",
    "fig.update_xaxes(tickangle=65)\n",
    "fig.update_layout(\n",
    "    xaxis=dict(\n",
    "        tickmode = 'linear',\n",
    "        tick0 = 0.0,\n",
    "        dtick = 0.1\n",
    "    ),\n",
    "    shapes=[\n",
    "        dict(\n",
    "            type= 'line',\n",
    "            yref=\"paper\", y0= 0, y1=1,\n",
    "            x0= 0.2, x1=0.2,\n",
    "            opacity=0.3,\n",
    "            line=dict(\n",
    "                width=4,\n",
    "                dash=\"dot\",\n",
    "            )\n",
    "        )\n",
    "    ]\n",
    ")\n",
    "fig.update_yaxes(rangemode=\"tozero\")\n",
    "fig"
   ]
  },
  {
   "cell_type": "markdown",
   "metadata": {},
   "source": [
    "# Cumulative cost after convergence vs total cumulative cost"
   ]
  },
  {
   "cell_type": "code",
   "execution_count": 74,
   "metadata": {},
   "outputs": [
    {
     "data": {
      "application/vnd.plotly.v1+json": {
       "config": {
        "plotlyServerURL": "https://plot.ly"
       },
       "data": [
        {
         "marker": {
          "color": "rgba(1, 140, 22, 1)"
         },
         "mode": "lines",
         "name": "2 cols",
         "showlegend": false,
         "type": "scatter",
         "x": [
          "0.1",
          "0.2",
          "0.3",
          "0.4",
          "0.5",
          "0.6",
          "0.7",
          "0.8",
          "0.9",
          "1.0"
         ],
         "y": [
          1.433221,
          1.551202,
          1.593394,
          1.683547,
          1.6911100000000001,
          1.6106440000000002,
          1.7766600000000001,
          1.8557430000000001,
          1.741443,
          1.704933
         ]
        },
        {
         "fill": "tonexty",
         "fillcolor": "rgba(1, 140, 22, 0.2)",
         "marker": {
          "color": "rgba(1, 140, 22, 1)"
         },
         "mode": "lines",
         "name": "2 cols",
         "type": "scatter",
         "x": [
          "0.1",
          "0.2",
          "0.3",
          "0.4",
          "0.5",
          "0.6",
          "0.7",
          "0.8",
          "0.9",
          "1.0"
         ],
         "y": [
          8.832617,
          7.126423999999999,
          6.588133999999999,
          6.209201,
          6.100332000000001,
          5.9681180000000005,
          5.952807,
          5.913475,
          5.920370000000001,
          5.816581
         ]
        },
        {
         "marker": {
          "color": "rgba(1, 140, 22, 1)",
          "size": 18,
          "symbol": "triangle-up"
         },
         "mode": "markers",
         "name": "2 cols",
         "showlegend": false,
         "type": "scatter",
         "x": [
          "0.1",
          "0.2",
          "0.3",
          "0.4",
          "0.5",
          "0.6",
          "0.7",
          "0.8",
          "0.9",
          "1.0"
         ],
         "y": [
          1.433221,
          1.551202,
          1.593394,
          1.683547,
          1.6911100000000001,
          1.6106440000000002,
          1.7766600000000001,
          1.8557430000000001,
          1.741443,
          1.704933
         ]
        },
        {
         "marker": {
          "color": "rgba(1, 140, 22, 1)",
          "size": 18,
          "symbol": "triangle-down"
         },
         "mode": "markers",
         "name": "2 cols",
         "showlegend": false,
         "type": "scatter",
         "x": [
          "0.1",
          "0.2",
          "0.3",
          "0.4",
          "0.5",
          "0.6",
          "0.7",
          "0.8",
          "0.9",
          "1.0"
         ],
         "y": [
          8.832617,
          7.126423999999999,
          6.588133999999999,
          6.209201,
          6.100332000000001,
          5.9681180000000005,
          5.952807,
          5.913475,
          5.920370000000001,
          5.816581
         ]
        },
        {
         "marker": {
          "color": "rgba(1, 140, 22, 1)",
          "size": 18,
          "symbol": "triangle-down"
         },
         "mode": "markers",
         "name": "2AKD",
         "showlegend": false,
         "type": "scatter",
         "x": [
          0
         ],
         "y": [
          4.937879
         ]
        },
        {
         "marker": {
          "color": "rgba(1, 140, 22, 1)",
          "size": 18,
          "symbol": "triangle-down"
         },
         "mode": "markers",
         "name": "2Quasii",
         "showlegend": false,
         "type": "scatter",
         "x": [
          -0.1
         ],
         "y": [
          5.692906000000001
         ]
        },
        {
         "marker": {
          "color": "rgba(1, 140, 22, 1)",
          "size": 18,
          "symbol": "triangle-down"
         },
         "mode": "markers",
         "name": "2AvgKD",
         "showlegend": false,
         "type": "scatter",
         "x": [
          -0.22
         ],
         "y": [
          6.137039
         ]
        },
        {
         "marker": {
          "color": "rgba(1, 140, 22, 1)",
          "size": 18,
          "symbol": "triangle-down"
         },
         "mode": "markers",
         "name": "2MedKD",
         "showlegend": false,
         "type": "scatter",
         "x": [
          -0.3
         ],
         "y": [
          10.426710000000003
         ]
        },
        {
         "marker": {
          "color": "rgba(54, 50, 168, 1)"
         },
         "mode": "lines",
         "name": "4 cols",
         "showlegend": false,
         "type": "scatter",
         "x": [
          "0.1",
          "0.2",
          "0.3",
          "0.4",
          "0.5",
          "0.6",
          "0.7",
          "0.8",
          "0.9",
          "1.0"
         ],
         "y": [
          7.0823,
          7.510639,
          7.631309,
          7.818485,
          7.823198,
          8.89773,
          7.99544,
          8.070829,
          7.989153,
          7.922445
         ]
        },
        {
         "fill": "tonexty",
         "fillcolor": "rgba(54, 50, 168, 0.2)",
         "marker": {
          "color": "rgba(54, 50, 168, 1)"
         },
         "mode": "lines",
         "name": "4 cols",
         "type": "scatter",
         "x": [
          "0.1",
          "0.2",
          "0.3",
          "0.4",
          "0.5",
          "0.6",
          "0.7",
          "0.8",
          "0.9",
          "1.0"
         ],
         "y": [
          19.734702000000002,
          16.549003,
          15.146308999999999,
          14.555218,
          14.168287999999997,
          15.323720999999999,
          13.891171,
          13.686747,
          13.708848,
          13.527037000000002
         ]
        },
        {
         "marker": {
          "color": "rgba(54, 50, 168, 1)",
          "size": 18,
          "symbol": "triangle-up"
         },
         "mode": "markers",
         "name": "4 cols",
         "showlegend": false,
         "type": "scatter",
         "x": [
          "0.1",
          "0.2",
          "0.3",
          "0.4",
          "0.5",
          "0.6",
          "0.7",
          "0.8",
          "0.9",
          "1.0"
         ],
         "y": [
          7.0823,
          7.510639,
          7.631309,
          7.818485,
          7.823198,
          8.89773,
          7.99544,
          8.070829,
          7.989153,
          7.922445
         ]
        },
        {
         "marker": {
          "color": "rgba(54, 50, 168, 1)",
          "size": 18,
          "symbol": "triangle-down"
         },
         "mode": "markers",
         "name": "4 cols",
         "showlegend": false,
         "type": "scatter",
         "x": [
          "0.1",
          "0.2",
          "0.3",
          "0.4",
          "0.5",
          "0.6",
          "0.7",
          "0.8",
          "0.9",
          "1.0"
         ],
         "y": [
          19.734702000000002,
          16.549003,
          15.146308999999999,
          14.555218,
          14.168287999999997,
          15.323720999999999,
          13.891171,
          13.686747,
          13.708848,
          13.527037000000002
         ]
        },
        {
         "marker": {
          "color": "rgba(54, 50, 168, 1)",
          "size": 18,
          "symbol": "triangle-down"
         },
         "mode": "markers",
         "name": "4AKD",
         "showlegend": false,
         "type": "scatter",
         "x": [
          0
         ],
         "y": [
          12.87303
         ]
        },
        {
         "marker": {
          "color": "rgba(54, 50, 168, 1)",
          "size": 18,
          "symbol": "triangle-down"
         },
         "mode": "markers",
         "name": "4Quasii",
         "showlegend": false,
         "type": "scatter",
         "x": [
          -0.1
         ],
         "y": [
          12.133811999999999
         ]
        },
        {
         "marker": {
          "color": "rgba(54, 50, 168, 1)",
          "size": 18,
          "symbol": "triangle-down"
         },
         "mode": "markers",
         "name": "4AvgKD",
         "showlegend": false,
         "type": "scatter",
         "x": [
          -0.22
         ],
         "y": [
          13.105015999999999
         ]
        },
        {
         "marker": {
          "color": "rgba(54, 50, 168, 1)",
          "size": 18,
          "symbol": "triangle-down"
         },
         "mode": "markers",
         "name": "4MedKD",
         "showlegend": false,
         "type": "scatter",
         "x": [
          -0.3
         ],
         "y": [
          17.436137999999996
         ]
        },
        {
         "marker": {
          "color": "rgba(235, 7, 7, 1)"
         },
         "mode": "lines",
         "name": "6 cols",
         "showlegend": false,
         "type": "scatter",
         "x": [
          "0.1",
          "0.2",
          "0.3",
          "0.4",
          "0.5",
          "0.6",
          "0.7",
          "0.8",
          "0.9",
          "1.0"
         ],
         "y": [
          26.052255000000002,
          27.49459,
          28.009591,
          28.481551,
          28.511342,
          28.428639000000004,
          28.982637,
          28.991895999999997,
          28.787107,
          28.732387
         ]
        },
        {
         "fill": "tonexty",
         "fillcolor": "rgba(235, 7, 7, 0.2)",
         "marker": {
          "color": "rgba(235, 7, 7, 1)"
         },
         "mode": "lines",
         "name": "6 cols",
         "type": "scatter",
         "x": [
          "0.1",
          "0.2",
          "0.3",
          "0.4",
          "0.5",
          "0.6",
          "0.7",
          "0.8",
          "0.9",
          "1.0"
         ],
         "y": [
          50.44420099999999,
          42.381826,
          39.790269,
          38.471874,
          37.835077999999996,
          37.360674,
          37.431162,
          37.024146,
          36.79355700000001,
          36.477254
         ]
        },
        {
         "marker": {
          "color": "rgba(235, 7, 7, 1)",
          "size": 18,
          "symbol": "triangle-up"
         },
         "mode": "markers",
         "name": "6 cols",
         "showlegend": false,
         "type": "scatter",
         "x": [
          "0.1",
          "0.2",
          "0.3",
          "0.4",
          "0.5",
          "0.6",
          "0.7",
          "0.8",
          "0.9",
          "1.0"
         ],
         "y": [
          26.052255000000002,
          27.49459,
          28.009591,
          28.481551,
          28.511342,
          28.428639000000004,
          28.982637,
          28.991895999999997,
          28.787107,
          28.732387
         ]
        },
        {
         "marker": {
          "color": "rgba(235, 7, 7, 1)",
          "size": 18,
          "symbol": "triangle-down"
         },
         "mode": "markers",
         "name": "6 cols",
         "showlegend": false,
         "type": "scatter",
         "x": [
          "0.1",
          "0.2",
          "0.3",
          "0.4",
          "0.5",
          "0.6",
          "0.7",
          "0.8",
          "0.9",
          "1.0"
         ],
         "y": [
          50.44420099999999,
          42.381826,
          39.790269,
          38.471874,
          37.835077999999996,
          37.360674,
          37.431162,
          37.024146,
          36.79355700000001,
          36.477254
         ]
        },
        {
         "marker": {
          "color": "rgba(235, 7, 7, 1)",
          "size": 18,
          "symbol": "triangle-down"
         },
         "mode": "markers",
         "name": "6AKD",
         "showlegend": false,
         "type": "scatter",
         "x": [
          0
         ],
         "y": [
          36.862533
         ]
        },
        {
         "marker": {
          "color": "rgba(235, 7, 7, 1)",
          "size": 18,
          "symbol": "triangle-down"
         },
         "mode": "markers",
         "name": "6Quasii",
         "showlegend": false,
         "type": "scatter",
         "x": [
          -0.1
         ],
         "y": [
          31.626762
         ]
        },
        {
         "marker": {
          "color": "rgba(235, 7, 7, 1)",
          "size": 18,
          "symbol": "triangle-down"
         },
         "mode": "markers",
         "name": "6AvgKD",
         "showlegend": false,
         "type": "scatter",
         "x": [
          -0.22
         ],
         "y": [
          36.763627
         ]
        },
        {
         "marker": {
          "color": "rgba(235, 7, 7, 1)",
          "size": 18,
          "symbol": "triangle-down"
         },
         "mode": "markers",
         "name": "6MedKD",
         "showlegend": false,
         "type": "scatter",
         "x": [
          -0.3
         ],
         "y": [
          39.96856
         ]
        },
        {
         "marker": {
          "color": "rgba(168, 50, 119, 1)"
         },
         "mode": "lines",
         "name": "8 cols",
         "showlegend": false,
         "type": "scatter",
         "x": [
          "0.1",
          "0.2",
          "0.3",
          "0.4",
          "0.5",
          "0.6",
          "0.7",
          "0.8",
          "0.9",
          "1.0"
         ],
         "y": [
          78.39779899999999,
          83.05366799999999,
          83.53937099999999,
          85.543871,
          85.877238,
          86.47762900000001,
          86.57565,
          86.800396,
          86.87475400000001,
          87.482418
         ]
        },
        {
         "fill": "tonexty",
         "fillcolor": "rgba(168, 50, 119, 0.2)",
         "marker": {
          "color": "rgba(168, 50, 119, 1)"
         },
         "mode": "lines",
         "name": "8 cols",
         "type": "scatter",
         "x": [
          "0.1",
          "0.2",
          "0.3",
          "0.4",
          "0.5",
          "0.6",
          "0.7",
          "0.8",
          "0.9",
          "1.0"
         ],
         "y": [
          119.33328200000001,
          106.13201000000001,
          101.466493,
          100.475198,
          99.372189,
          98.88280400000001,
          98.12798,
          97.472049,
          97.422196,
          97.851123
         ]
        },
        {
         "marker": {
          "color": "rgba(168, 50, 119, 1)",
          "size": 18,
          "symbol": "triangle-up"
         },
         "mode": "markers",
         "name": "8 cols",
         "showlegend": false,
         "type": "scatter",
         "x": [
          "0.1",
          "0.2",
          "0.3",
          "0.4",
          "0.5",
          "0.6",
          "0.7",
          "0.8",
          "0.9",
          "1.0"
         ],
         "y": [
          78.39779899999999,
          83.05366799999999,
          83.53937099999999,
          85.543871,
          85.877238,
          86.47762900000001,
          86.57565,
          86.800396,
          86.87475400000001,
          87.482418
         ]
        },
        {
         "marker": {
          "color": "rgba(168, 50, 119, 1)",
          "size": 18,
          "symbol": "triangle-down"
         },
         "mode": "markers",
         "name": "8 cols",
         "showlegend": false,
         "type": "scatter",
         "x": [
          "0.1",
          "0.2",
          "0.3",
          "0.4",
          "0.5",
          "0.6",
          "0.7",
          "0.8",
          "0.9",
          "1.0"
         ],
         "y": [
          119.33328200000001,
          106.13201000000001,
          101.466493,
          100.475198,
          99.372189,
          98.88280400000001,
          98.12798,
          97.472049,
          97.422196,
          97.851123
         ]
        },
        {
         "marker": {
          "color": "rgba(168, 50, 119, 1)",
          "size": 18,
          "symbol": "triangle-down"
         },
         "mode": "markers",
         "name": "8AKD",
         "showlegend": false,
         "type": "scatter",
         "x": [
          0
         ],
         "y": [
          67.536288
         ]
        },
        {
         "marker": {
          "color": "rgba(168, 50, 119, 1)",
          "size": 18,
          "symbol": "triangle-down"
         },
         "mode": "markers",
         "name": "8Quasii",
         "showlegend": false,
         "type": "scatter",
         "x": [
          -0.1
         ],
         "y": [
          81.347187
         ]
        },
        {
         "marker": {
          "color": "rgba(168, 50, 119, 1)",
          "size": 18,
          "symbol": "triangle-down"
         },
         "mode": "markers",
         "name": "8AvgKD",
         "showlegend": false,
         "type": "scatter",
         "x": [
          -0.22
         ],
         "y": [
          96.547963
         ]
        },
        {
         "marker": {
          "color": "rgba(168, 50, 119, 1)",
          "size": 18,
          "symbol": "triangle-down"
         },
         "mode": "markers",
         "name": "8MedKD",
         "showlegend": false,
         "type": "scatter",
         "x": [
          -0.3
         ],
         "y": [
          100.750173
         ]
        },
        {
         "marker": {
          "color": "black",
          "size": 18,
          "symbol": "triangle-up"
         },
         "mode": "markers",
         "name": "After",
         "type": "scatter",
         "x": [
          null
         ],
         "y": [
          null
         ]
        },
        {
         "marker": {
          "color": "black",
          "size": 18,
          "symbol": "triangle-down"
         },
         "mode": "markers",
         "name": "Total",
         "type": "scatter",
         "x": [
          null
         ],
         "y": [
          null
         ]
        }
       ],
       "layout": {
        "annotations": [
         {
          "text": "(PKD) Delta",
          "x": 0.5,
          "xref": "x",
          "y": -0.35,
          "yref": "paper"
         }
        ],
        "autosize": true,
        "font": {
         "size": 42
        },
        "legend": {
         "font": {
          "color": "black",
          "size": 30
         }
        },
        "margin": {
         "b": 150
        },
        "plot_bgcolor": "rgba(0, 0, 0, 0)",
        "shapes": [
         {
          "line": {
           "dash": "dot",
           "width": 4
          },
          "opacity": 0.3,
          "type": "line",
          "x0": 0.2,
          "x1": 0.2,
          "y0": 0,
          "y1": 1,
          "yref": "paper"
         }
        ],
        "showlegend": true,
        "template": {
         "data": {
          "bar": [
           {
            "error_x": {
             "color": "#2a3f5f"
            },
            "error_y": {
             "color": "#2a3f5f"
            },
            "marker": {
             "line": {
              "color": "#E5ECF6",
              "width": 0.5
             }
            },
            "type": "bar"
           }
          ],
          "barpolar": [
           {
            "marker": {
             "line": {
              "color": "#E5ECF6",
              "width": 0.5
             }
            },
            "type": "barpolar"
           }
          ],
          "carpet": [
           {
            "aaxis": {
             "endlinecolor": "#2a3f5f",
             "gridcolor": "white",
             "linecolor": "white",
             "minorgridcolor": "white",
             "startlinecolor": "#2a3f5f"
            },
            "baxis": {
             "endlinecolor": "#2a3f5f",
             "gridcolor": "white",
             "linecolor": "white",
             "minorgridcolor": "white",
             "startlinecolor": "#2a3f5f"
            },
            "type": "carpet"
           }
          ],
          "choropleth": [
           {
            "colorbar": {
             "outlinewidth": 0,
             "ticks": ""
            },
            "type": "choropleth"
           }
          ],
          "contour": [
           {
            "colorbar": {
             "outlinewidth": 0,
             "ticks": ""
            },
            "colorscale": [
             [
              0,
              "#0d0887"
             ],
             [
              0.1111111111111111,
              "#46039f"
             ],
             [
              0.2222222222222222,
              "#7201a8"
             ],
             [
              0.3333333333333333,
              "#9c179e"
             ],
             [
              0.4444444444444444,
              "#bd3786"
             ],
             [
              0.5555555555555556,
              "#d8576b"
             ],
             [
              0.6666666666666666,
              "#ed7953"
             ],
             [
              0.7777777777777778,
              "#fb9f3a"
             ],
             [
              0.8888888888888888,
              "#fdca26"
             ],
             [
              1,
              "#f0f921"
             ]
            ],
            "type": "contour"
           }
          ],
          "contourcarpet": [
           {
            "colorbar": {
             "outlinewidth": 0,
             "ticks": ""
            },
            "type": "contourcarpet"
           }
          ],
          "heatmap": [
           {
            "colorbar": {
             "outlinewidth": 0,
             "ticks": ""
            },
            "colorscale": [
             [
              0,
              "#0d0887"
             ],
             [
              0.1111111111111111,
              "#46039f"
             ],
             [
              0.2222222222222222,
              "#7201a8"
             ],
             [
              0.3333333333333333,
              "#9c179e"
             ],
             [
              0.4444444444444444,
              "#bd3786"
             ],
             [
              0.5555555555555556,
              "#d8576b"
             ],
             [
              0.6666666666666666,
              "#ed7953"
             ],
             [
              0.7777777777777778,
              "#fb9f3a"
             ],
             [
              0.8888888888888888,
              "#fdca26"
             ],
             [
              1,
              "#f0f921"
             ]
            ],
            "type": "heatmap"
           }
          ],
          "heatmapgl": [
           {
            "colorbar": {
             "outlinewidth": 0,
             "ticks": ""
            },
            "colorscale": [
             [
              0,
              "#0d0887"
             ],
             [
              0.1111111111111111,
              "#46039f"
             ],
             [
              0.2222222222222222,
              "#7201a8"
             ],
             [
              0.3333333333333333,
              "#9c179e"
             ],
             [
              0.4444444444444444,
              "#bd3786"
             ],
             [
              0.5555555555555556,
              "#d8576b"
             ],
             [
              0.6666666666666666,
              "#ed7953"
             ],
             [
              0.7777777777777778,
              "#fb9f3a"
             ],
             [
              0.8888888888888888,
              "#fdca26"
             ],
             [
              1,
              "#f0f921"
             ]
            ],
            "type": "heatmapgl"
           }
          ],
          "histogram": [
           {
            "marker": {
             "colorbar": {
              "outlinewidth": 0,
              "ticks": ""
             }
            },
            "type": "histogram"
           }
          ],
          "histogram2d": [
           {
            "colorbar": {
             "outlinewidth": 0,
             "ticks": ""
            },
            "colorscale": [
             [
              0,
              "#0d0887"
             ],
             [
              0.1111111111111111,
              "#46039f"
             ],
             [
              0.2222222222222222,
              "#7201a8"
             ],
             [
              0.3333333333333333,
              "#9c179e"
             ],
             [
              0.4444444444444444,
              "#bd3786"
             ],
             [
              0.5555555555555556,
              "#d8576b"
             ],
             [
              0.6666666666666666,
              "#ed7953"
             ],
             [
              0.7777777777777778,
              "#fb9f3a"
             ],
             [
              0.8888888888888888,
              "#fdca26"
             ],
             [
              1,
              "#f0f921"
             ]
            ],
            "type": "histogram2d"
           }
          ],
          "histogram2dcontour": [
           {
            "colorbar": {
             "outlinewidth": 0,
             "ticks": ""
            },
            "colorscale": [
             [
              0,
              "#0d0887"
             ],
             [
              0.1111111111111111,
              "#46039f"
             ],
             [
              0.2222222222222222,
              "#7201a8"
             ],
             [
              0.3333333333333333,
              "#9c179e"
             ],
             [
              0.4444444444444444,
              "#bd3786"
             ],
             [
              0.5555555555555556,
              "#d8576b"
             ],
             [
              0.6666666666666666,
              "#ed7953"
             ],
             [
              0.7777777777777778,
              "#fb9f3a"
             ],
             [
              0.8888888888888888,
              "#fdca26"
             ],
             [
              1,
              "#f0f921"
             ]
            ],
            "type": "histogram2dcontour"
           }
          ],
          "mesh3d": [
           {
            "colorbar": {
             "outlinewidth": 0,
             "ticks": ""
            },
            "type": "mesh3d"
           }
          ],
          "parcoords": [
           {
            "line": {
             "colorbar": {
              "outlinewidth": 0,
              "ticks": ""
             }
            },
            "type": "parcoords"
           }
          ],
          "scatter": [
           {
            "marker": {
             "colorbar": {
              "outlinewidth": 0,
              "ticks": ""
             }
            },
            "type": "scatter"
           }
          ],
          "scatter3d": [
           {
            "line": {
             "colorbar": {
              "outlinewidth": 0,
              "ticks": ""
             }
            },
            "marker": {
             "colorbar": {
              "outlinewidth": 0,
              "ticks": ""
             }
            },
            "type": "scatter3d"
           }
          ],
          "scattercarpet": [
           {
            "marker": {
             "colorbar": {
              "outlinewidth": 0,
              "ticks": ""
             }
            },
            "type": "scattercarpet"
           }
          ],
          "scattergeo": [
           {
            "marker": {
             "colorbar": {
              "outlinewidth": 0,
              "ticks": ""
             }
            },
            "type": "scattergeo"
           }
          ],
          "scattergl": [
           {
            "marker": {
             "colorbar": {
              "outlinewidth": 0,
              "ticks": ""
             }
            },
            "type": "scattergl"
           }
          ],
          "scattermapbox": [
           {
            "marker": {
             "colorbar": {
              "outlinewidth": 0,
              "ticks": ""
             }
            },
            "type": "scattermapbox"
           }
          ],
          "scatterpolar": [
           {
            "marker": {
             "colorbar": {
              "outlinewidth": 0,
              "ticks": ""
             }
            },
            "type": "scatterpolar"
           }
          ],
          "scatterpolargl": [
           {
            "marker": {
             "colorbar": {
              "outlinewidth": 0,
              "ticks": ""
             }
            },
            "type": "scatterpolargl"
           }
          ],
          "scatterternary": [
           {
            "marker": {
             "colorbar": {
              "outlinewidth": 0,
              "ticks": ""
             }
            },
            "type": "scatterternary"
           }
          ],
          "surface": [
           {
            "colorbar": {
             "outlinewidth": 0,
             "ticks": ""
            },
            "colorscale": [
             [
              0,
              "#0d0887"
             ],
             [
              0.1111111111111111,
              "#46039f"
             ],
             [
              0.2222222222222222,
              "#7201a8"
             ],
             [
              0.3333333333333333,
              "#9c179e"
             ],
             [
              0.4444444444444444,
              "#bd3786"
             ],
             [
              0.5555555555555556,
              "#d8576b"
             ],
             [
              0.6666666666666666,
              "#ed7953"
             ],
             [
              0.7777777777777778,
              "#fb9f3a"
             ],
             [
              0.8888888888888888,
              "#fdca26"
             ],
             [
              1,
              "#f0f921"
             ]
            ],
            "type": "surface"
           }
          ],
          "table": [
           {
            "cells": {
             "fill": {
              "color": "#EBF0F8"
             },
             "line": {
              "color": "white"
             }
            },
            "header": {
             "fill": {
              "color": "#C8D4E3"
             },
             "line": {
              "color": "white"
             }
            },
            "type": "table"
           }
          ]
         },
         "layout": {
          "annotationdefaults": {
           "arrowcolor": "#2a3f5f",
           "arrowhead": 0,
           "arrowwidth": 1
          },
          "colorscale": {
           "diverging": [
            [
             0,
             "#8e0152"
            ],
            [
             0.1,
             "#c51b7d"
            ],
            [
             0.2,
             "#de77ae"
            ],
            [
             0.3,
             "#f1b6da"
            ],
            [
             0.4,
             "#fde0ef"
            ],
            [
             0.5,
             "#f7f7f7"
            ],
            [
             0.6,
             "#e6f5d0"
            ],
            [
             0.7,
             "#b8e186"
            ],
            [
             0.8,
             "#7fbc41"
            ],
            [
             0.9,
             "#4d9221"
            ],
            [
             1,
             "#276419"
            ]
           ],
           "sequential": [
            [
             0,
             "#0d0887"
            ],
            [
             0.1111111111111111,
             "#46039f"
            ],
            [
             0.2222222222222222,
             "#7201a8"
            ],
            [
             0.3333333333333333,
             "#9c179e"
            ],
            [
             0.4444444444444444,
             "#bd3786"
            ],
            [
             0.5555555555555556,
             "#d8576b"
            ],
            [
             0.6666666666666666,
             "#ed7953"
            ],
            [
             0.7777777777777778,
             "#fb9f3a"
            ],
            [
             0.8888888888888888,
             "#fdca26"
            ],
            [
             1,
             "#f0f921"
            ]
           ],
           "sequentialminus": [
            [
             0,
             "#0d0887"
            ],
            [
             0.1111111111111111,
             "#46039f"
            ],
            [
             0.2222222222222222,
             "#7201a8"
            ],
            [
             0.3333333333333333,
             "#9c179e"
            ],
            [
             0.4444444444444444,
             "#bd3786"
            ],
            [
             0.5555555555555556,
             "#d8576b"
            ],
            [
             0.6666666666666666,
             "#ed7953"
            ],
            [
             0.7777777777777778,
             "#fb9f3a"
            ],
            [
             0.8888888888888888,
             "#fdca26"
            ],
            [
             1,
             "#f0f921"
            ]
           ]
          },
          "colorway": [
           "#636efa",
           "#EF553B",
           "#00cc96",
           "#ab63fa",
           "#FFA15A",
           "#19d3f3",
           "#FF6692",
           "#B6E880",
           "#FF97FF",
           "#FECB52"
          ],
          "font": {
           "color": "#2a3f5f"
          },
          "geo": {
           "bgcolor": "white",
           "lakecolor": "white",
           "landcolor": "#E5ECF6",
           "showlakes": true,
           "showland": true,
           "subunitcolor": "white"
          },
          "hoverlabel": {
           "align": "left"
          },
          "hovermode": "closest",
          "mapbox": {
           "style": "light"
          },
          "paper_bgcolor": "white",
          "plot_bgcolor": "#E5ECF6",
          "polar": {
           "angularaxis": {
            "gridcolor": "white",
            "linecolor": "white",
            "ticks": ""
           },
           "bgcolor": "#E5ECF6",
           "radialaxis": {
            "gridcolor": "white",
            "linecolor": "white",
            "ticks": ""
           }
          },
          "scene": {
           "xaxis": {
            "backgroundcolor": "#E5ECF6",
            "gridcolor": "white",
            "gridwidth": 2,
            "linecolor": "white",
            "showbackground": true,
            "ticks": "",
            "zerolinecolor": "white"
           },
           "yaxis": {
            "backgroundcolor": "#E5ECF6",
            "gridcolor": "white",
            "gridwidth": 2,
            "linecolor": "white",
            "showbackground": true,
            "ticks": "",
            "zerolinecolor": "white"
           },
           "zaxis": {
            "backgroundcolor": "#E5ECF6",
            "gridcolor": "white",
            "gridwidth": 2,
            "linecolor": "white",
            "showbackground": true,
            "ticks": "",
            "zerolinecolor": "white"
           }
          },
          "shapedefaults": {
           "line": {
            "color": "#2a3f5f"
           }
          },
          "ternary": {
           "aaxis": {
            "gridcolor": "white",
            "linecolor": "white",
            "ticks": ""
           },
           "baxis": {
            "gridcolor": "white",
            "linecolor": "white",
            "ticks": ""
           },
           "bgcolor": "#E5ECF6",
           "caxis": {
            "gridcolor": "white",
            "linecolor": "white",
            "ticks": ""
           }
          },
          "title": {
           "x": 0.05
          },
          "xaxis": {
           "automargin": true,
           "gridcolor": "white",
           "linecolor": "white",
           "ticks": "",
           "zerolinecolor": "white",
           "zerolinewidth": 2
          },
          "yaxis": {
           "automargin": true,
           "gridcolor": "white",
           "linecolor": "white",
           "ticks": "",
           "zerolinecolor": "white",
           "zerolinewidth": 2
          }
         }
        },
        "xaxis": {
         "autorange": true,
         "linecolor": "black",
         "linewidth": 2,
         "range": [
          -0.3905155915794214,
          1.0905155915794214
         ],
         "showline": true,
         "tickangle": 65,
         "ticklen": 5,
         "tickmode": "array",
         "ticks": "inside",
         "ticktext": [
          "MedKD",
          "AvgKD",
          "Q",
          "AKD",
          "0.1",
          "0.2",
          "0.3",
          "0.4",
          "0.5",
          "0.6",
          "0.7",
          "0.8",
          "0.9",
          "1.0"
         ],
         "tickvals": [
          -0.3,
          -0.2,
          -0.1,
          0,
          "0.1",
          "0.2",
          "0.3",
          "0.4",
          "0.5",
          "0.6",
          "0.7",
          "0.8",
          "0.9",
          "1.0"
         ],
         "type": "linear",
         "zeroline": true
        },
        "yaxis": {
         "autorange": true,
         "gridcolor": "lightgrey",
         "gridwidth": 1,
         "linecolor": "black",
         "linewidth": 2,
         "range": [
          -17.246418294238683,
          138.0129212942387
         ],
         "showgrid": true,
         "showline": true,
         "ticklen": 5,
         "ticks": "inside",
         "title": {
          "text": "Time [s]"
         },
         "type": "linear",
         "zeroline": false,
         "zerolinecolor": "rgba(0, 0, 0, 0)"
        }
       }
      },
      "image/png": "[encoded data removed]",
      "text/html": [
       "<div>\n",
       "        \n",
       "        \n",
       "            <div id=\"5a78f3bc-a343-420a-8522-b60cf8c6c559\" class=\"plotly-graph-div\" style=\"height:525px; width:100%;\"></div>\n",
       "            <script type=\"text/javascript\">\n",
       "                require([\"plotly\"], function(Plotly) {\n",
       "                    window.PLOTLYENV=window.PLOTLYENV || {};\n",
       "                    \n",
       "                if (document.getElementById(\"5a78f3bc-a343-420a-8522-b60cf8c6c559\")) {\n",
       "                    Plotly.newPlot(\n",
       "                        '5a78f3bc-a343-420a-8522-b60cf8c6c559',\n",
       "                        [{\"marker\": {\"color\": \"rgba(1, 140, 22, 1)\"}, \"mode\": \"lines\", \"name\": \"2 cols\", \"showlegend\": false, \"type\": \"scatter\", \"x\": [\"0.1\", \"0.2\", \"0.3\", \"0.4\", \"0.5\", \"0.6\", \"0.7\", \"0.8\", \"0.9\", \"1.0\"], \"y\": [1.433221, 1.551202, 1.593394, 1.683547, 1.6911100000000001, 1.6106440000000002, 1.7766600000000001, 1.8557430000000001, 1.741443, 1.704933]}, {\"fill\": \"tonexty\", \"fillcolor\": \"rgba(1, 140, 22, 0.2)\", \"marker\": {\"color\": \"rgba(1, 140, 22, 1)\"}, \"mode\": \"lines\", \"name\": \"2 cols\", \"type\": \"scatter\", \"x\": [\"0.1\", \"0.2\", \"0.3\", \"0.4\", \"0.5\", \"0.6\", \"0.7\", \"0.8\", \"0.9\", \"1.0\"], \"y\": [8.832617, 7.126423999999999, 6.588133999999999, 6.209201, 6.100332000000001, 5.9681180000000005, 5.952807, 5.913475, 5.920370000000001, 5.816581]}, {\"marker\": {\"color\": \"rgba(1, 140, 22, 1)\", \"size\": 18, \"symbol\": \"triangle-up\"}, \"mode\": \"markers\", \"name\": \"2 cols\", \"showlegend\": false, \"type\": \"scatter\", \"x\": [\"0.1\", \"0.2\", \"0.3\", \"0.4\", \"0.5\", \"0.6\", \"0.7\", \"0.8\", \"0.9\", \"1.0\"], \"y\": [1.433221, 1.551202, 1.593394, 1.683547, 1.6911100000000001, 1.6106440000000002, 1.7766600000000001, 1.8557430000000001, 1.741443, 1.704933]}, {\"marker\": {\"color\": \"rgba(1, 140, 22, 1)\", \"size\": 18, \"symbol\": \"triangle-down\"}, \"mode\": \"markers\", \"name\": \"2 cols\", \"showlegend\": false, \"type\": \"scatter\", \"x\": [\"0.1\", \"0.2\", \"0.3\", \"0.4\", \"0.5\", \"0.6\", \"0.7\", \"0.8\", \"0.9\", \"1.0\"], \"y\": [8.832617, 7.126423999999999, 6.588133999999999, 6.209201, 6.100332000000001, 5.9681180000000005, 5.952807, 5.913475, 5.920370000000001, 5.816581]}, {\"marker\": {\"color\": \"rgba(1, 140, 22, 1)\", \"size\": 18, \"symbol\": \"triangle-down\"}, \"mode\": \"markers\", \"name\": \"2AKD\", \"showlegend\": false, \"type\": \"scatter\", \"x\": [-0.0], \"y\": [4.937879]}, {\"marker\": {\"color\": \"rgba(1, 140, 22, 1)\", \"size\": 18, \"symbol\": \"triangle-down\"}, \"mode\": \"markers\", \"name\": \"2Quasii\", \"showlegend\": false, \"type\": \"scatter\", \"x\": [-0.1], \"y\": [5.692906000000001]}, {\"marker\": {\"color\": \"rgba(1, 140, 22, 1)\", \"size\": 18, \"symbol\": \"triangle-down\"}, \"mode\": \"markers\", \"name\": \"2AvgKD\", \"showlegend\": false, \"type\": \"scatter\", \"x\": [-0.22], \"y\": [6.137039]}, {\"marker\": {\"color\": \"rgba(1, 140, 22, 1)\", \"size\": 18, \"symbol\": \"triangle-down\"}, \"mode\": \"markers\", \"name\": \"2MedKD\", \"showlegend\": false, \"type\": \"scatter\", \"x\": [-0.3], \"y\": [10.426710000000003]}, {\"marker\": {\"color\": \"rgba(54, 50, 168, 1)\"}, \"mode\": \"lines\", \"name\": \"4 cols\", \"showlegend\": false, \"type\": \"scatter\", \"x\": [\"0.1\", \"0.2\", \"0.3\", \"0.4\", \"0.5\", \"0.6\", \"0.7\", \"0.8\", \"0.9\", \"1.0\"], \"y\": [7.0823, 7.510639, 7.631309, 7.818485, 7.823198, 8.89773, 7.99544, 8.070829, 7.989153, 7.922445]}, {\"fill\": \"tonexty\", \"fillcolor\": \"rgba(54, 50, 168, 0.2)\", \"marker\": {\"color\": \"rgba(54, 50, 168, 1)\"}, \"mode\": \"lines\", \"name\": \"4 cols\", \"type\": \"scatter\", \"x\": [\"0.1\", \"0.2\", \"0.3\", \"0.4\", \"0.5\", \"0.6\", \"0.7\", \"0.8\", \"0.9\", \"1.0\"], \"y\": [19.734702000000002, 16.549003, 15.146308999999999, 14.555218, 14.168287999999997, 15.323720999999999, 13.891171, 13.686747, 13.708848, 13.527037000000002]}, {\"marker\": {\"color\": \"rgba(54, 50, 168, 1)\", \"size\": 18, \"symbol\": \"triangle-up\"}, \"mode\": \"markers\", \"name\": \"4 cols\", \"showlegend\": false, \"type\": \"scatter\", \"x\": [\"0.1\", \"0.2\", \"0.3\", \"0.4\", \"0.5\", \"0.6\", \"0.7\", \"0.8\", \"0.9\", \"1.0\"], \"y\": [7.0823, 7.510639, 7.631309, 7.818485, 7.823198, 8.89773, 7.99544, 8.070829, 7.989153, 7.922445]}, {\"marker\": {\"color\": \"rgba(54, 50, 168, 1)\", \"size\": 18, \"symbol\": \"triangle-down\"}, \"mode\": \"markers\", \"name\": \"4 cols\", \"showlegend\": false, \"type\": \"scatter\", \"x\": [\"0.1\", \"0.2\", \"0.3\", \"0.4\", \"0.5\", \"0.6\", \"0.7\", \"0.8\", \"0.9\", \"1.0\"], \"y\": [19.734702000000002, 16.549003, 15.146308999999999, 14.555218, 14.168287999999997, 15.323720999999999, 13.891171, 13.686747, 13.708848, 13.527037000000002]}, {\"marker\": {\"color\": \"rgba(54, 50, 168, 1)\", \"size\": 18, \"symbol\": \"triangle-down\"}, \"mode\": \"markers\", \"name\": \"4AKD\", \"showlegend\": false, \"type\": \"scatter\", \"x\": [-0.0], \"y\": [12.87303]}, {\"marker\": {\"color\": \"rgba(54, 50, 168, 1)\", \"size\": 18, \"symbol\": \"triangle-down\"}, \"mode\": \"markers\", \"name\": \"4Quasii\", \"showlegend\": false, \"type\": \"scatter\", \"x\": [-0.1], \"y\": [12.133811999999999]}, {\"marker\": {\"color\": \"rgba(54, 50, 168, 1)\", \"size\": 18, \"symbol\": \"triangle-down\"}, \"mode\": \"markers\", \"name\": \"4AvgKD\", \"showlegend\": false, \"type\": \"scatter\", \"x\": [-0.22], \"y\": [13.105015999999999]}, {\"marker\": {\"color\": \"rgba(54, 50, 168, 1)\", \"size\": 18, \"symbol\": \"triangle-down\"}, \"mode\": \"markers\", \"name\": \"4MedKD\", \"showlegend\": false, \"type\": \"scatter\", \"x\": [-0.3], \"y\": [17.436137999999996]}, {\"marker\": {\"color\": \"rgba(235, 7, 7, 1)\"}, \"mode\": \"lines\", \"name\": \"6 cols\", \"showlegend\": false, \"type\": \"scatter\", \"x\": [\"0.1\", \"0.2\", \"0.3\", \"0.4\", \"0.5\", \"0.6\", \"0.7\", \"0.8\", \"0.9\", \"1.0\"], \"y\": [26.052255000000002, 27.49459, 28.009591, 28.481551, 28.511342, 28.428639000000004, 28.982637, 28.991895999999997, 28.787107, 28.732387]}, {\"fill\": \"tonexty\", \"fillcolor\": \"rgba(235, 7, 7, 0.2)\", \"marker\": {\"color\": \"rgba(235, 7, 7, 1)\"}, \"mode\": \"lines\", \"name\": \"6 cols\", \"type\": \"scatter\", \"x\": [\"0.1\", \"0.2\", \"0.3\", \"0.4\", \"0.5\", \"0.6\", \"0.7\", \"0.8\", \"0.9\", \"1.0\"], \"y\": [50.44420099999999, 42.381826, 39.790269, 38.471874, 37.835077999999996, 37.360674, 37.431162, 37.024146, 36.79355700000001, 36.477254]}, {\"marker\": {\"color\": \"rgba(235, 7, 7, 1)\", \"size\": 18, \"symbol\": \"triangle-up\"}, \"mode\": \"markers\", \"name\": \"6 cols\", \"showlegend\": false, \"type\": \"scatter\", \"x\": [\"0.1\", \"0.2\", \"0.3\", \"0.4\", \"0.5\", \"0.6\", \"0.7\", \"0.8\", \"0.9\", \"1.0\"], \"y\": [26.052255000000002, 27.49459, 28.009591, 28.481551, 28.511342, 28.428639000000004, 28.982637, 28.991895999999997, 28.787107, 28.732387]}, {\"marker\": {\"color\": \"rgba(235, 7, 7, 1)\", \"size\": 18, \"symbol\": \"triangle-down\"}, \"mode\": \"markers\", \"name\": \"6 cols\", \"showlegend\": false, \"type\": \"scatter\", \"x\": [\"0.1\", \"0.2\", \"0.3\", \"0.4\", \"0.5\", \"0.6\", \"0.7\", \"0.8\", \"0.9\", \"1.0\"], \"y\": [50.44420099999999, 42.381826, 39.790269, 38.471874, 37.835077999999996, 37.360674, 37.431162, 37.024146, 36.79355700000001, 36.477254]}, {\"marker\": {\"color\": \"rgba(235, 7, 7, 1)\", \"size\": 18, \"symbol\": \"triangle-down\"}, \"mode\": \"markers\", \"name\": \"6AKD\", \"showlegend\": false, \"type\": \"scatter\", \"x\": [-0.0], \"y\": [36.862533]}, {\"marker\": {\"color\": \"rgba(235, 7, 7, 1)\", \"size\": 18, \"symbol\": \"triangle-down\"}, \"mode\": \"markers\", \"name\": \"6Quasii\", \"showlegend\": false, \"type\": \"scatter\", \"x\": [-0.1], \"y\": [31.626762]}, {\"marker\": {\"color\": \"rgba(235, 7, 7, 1)\", \"size\": 18, \"symbol\": \"triangle-down\"}, \"mode\": \"markers\", \"name\": \"6AvgKD\", \"showlegend\": false, \"type\": \"scatter\", \"x\": [-0.22], \"y\": [36.763627]}, {\"marker\": {\"color\": \"rgba(235, 7, 7, 1)\", \"size\": 18, \"symbol\": \"triangle-down\"}, \"mode\": \"markers\", \"name\": \"6MedKD\", \"showlegend\": false, \"type\": \"scatter\", \"x\": [-0.3], \"y\": [39.96856]}, {\"marker\": {\"color\": \"rgba(168, 50, 119, 1)\"}, \"mode\": \"lines\", \"name\": \"8 cols\", \"showlegend\": false, \"type\": \"scatter\", \"x\": [\"0.1\", \"0.2\", \"0.3\", \"0.4\", \"0.5\", \"0.6\", \"0.7\", \"0.8\", \"0.9\", \"1.0\"], \"y\": [78.39779899999999, 83.05366799999999, 83.53937099999999, 85.543871, 85.877238, 86.47762900000001, 86.57565, 86.800396, 86.87475400000001, 87.482418]}, {\"fill\": \"tonexty\", \"fillcolor\": \"rgba(168, 50, 119, 0.2)\", \"marker\": {\"color\": \"rgba(168, 50, 119, 1)\"}, \"mode\": \"lines\", \"name\": \"8 cols\", \"type\": \"scatter\", \"x\": [\"0.1\", \"0.2\", \"0.3\", \"0.4\", \"0.5\", \"0.6\", \"0.7\", \"0.8\", \"0.9\", \"1.0\"], \"y\": [119.33328200000001, 106.13201000000001, 101.466493, 100.475198, 99.372189, 98.88280400000001, 98.12798, 97.472049, 97.422196, 97.851123]}, {\"marker\": {\"color\": \"rgba(168, 50, 119, 1)\", \"size\": 18, \"symbol\": \"triangle-up\"}, \"mode\": \"markers\", \"name\": \"8 cols\", \"showlegend\": false, \"type\": \"scatter\", \"x\": [\"0.1\", \"0.2\", \"0.3\", \"0.4\", \"0.5\", \"0.6\", \"0.7\", \"0.8\", \"0.9\", \"1.0\"], \"y\": [78.39779899999999, 83.05366799999999, 83.53937099999999, 85.543871, 85.877238, 86.47762900000001, 86.57565, 86.800396, 86.87475400000001, 87.482418]}, {\"marker\": {\"color\": \"rgba(168, 50, 119, 1)\", \"size\": 18, \"symbol\": \"triangle-down\"}, \"mode\": \"markers\", \"name\": \"8 cols\", \"showlegend\": false, \"type\": \"scatter\", \"x\": [\"0.1\", \"0.2\", \"0.3\", \"0.4\", \"0.5\", \"0.6\", \"0.7\", \"0.8\", \"0.9\", \"1.0\"], \"y\": [119.33328200000001, 106.13201000000001, 101.466493, 100.475198, 99.372189, 98.88280400000001, 98.12798, 97.472049, 97.422196, 97.851123]}, {\"marker\": {\"color\": \"rgba(168, 50, 119, 1)\", \"size\": 18, \"symbol\": \"triangle-down\"}, \"mode\": \"markers\", \"name\": \"8AKD\", \"showlegend\": false, \"type\": \"scatter\", \"x\": [-0.0], \"y\": [67.536288]}, {\"marker\": {\"color\": \"rgba(168, 50, 119, 1)\", \"size\": 18, \"symbol\": \"triangle-down\"}, \"mode\": \"markers\", \"name\": \"8Quasii\", \"showlegend\": false, \"type\": \"scatter\", \"x\": [-0.1], \"y\": [81.347187]}, {\"marker\": {\"color\": \"rgba(168, 50, 119, 1)\", \"size\": 18, \"symbol\": \"triangle-down\"}, \"mode\": \"markers\", \"name\": \"8AvgKD\", \"showlegend\": false, \"type\": \"scatter\", \"x\": [-0.22], \"y\": [96.547963]}, {\"marker\": {\"color\": \"rgba(168, 50, 119, 1)\", \"size\": 18, \"symbol\": \"triangle-down\"}, \"mode\": \"markers\", \"name\": \"8MedKD\", \"showlegend\": false, \"type\": \"scatter\", \"x\": [-0.3], \"y\": [100.750173]}, {\"marker\": {\"color\": \"black\", \"size\": 18, \"symbol\": \"triangle-up\"}, \"mode\": \"markers\", \"name\": \"After\", \"type\": \"scatter\", \"x\": [null], \"y\": [null]}, {\"marker\": {\"color\": \"black\", \"size\": 18, \"symbol\": \"triangle-down\"}, \"mode\": \"markers\", \"name\": \"Total\", \"type\": \"scatter\", \"x\": [null], \"y\": [null]}],\n",
       "                        {\"annotations\": [{\"text\": \"(PKD) Delta\", \"x\": 0.5, \"xref\": \"x\", \"y\": -0.35, \"yref\": \"paper\"}], \"autosize\": true, \"font\": {\"size\": 42}, \"legend\": {\"font\": {\"color\": \"black\", \"size\": 30}}, \"margin\": {\"b\": 150}, \"plot_bgcolor\": \"rgba(0,0,0,0)\", \"shapes\": [{\"line\": {\"dash\": \"dot\", \"width\": 4}, \"opacity\": 0.3, \"type\": \"line\", \"x0\": 0.2, \"x1\": 0.2, \"y0\": 0, \"y1\": 1, \"yref\": \"paper\"}], \"showlegend\": true, \"template\": {\"data\": {\"bar\": [{\"error_x\": {\"color\": \"#2a3f5f\"}, \"error_y\": {\"color\": \"#2a3f5f\"}, \"marker\": {\"line\": {\"color\": \"#E5ECF6\", \"width\": 0.5}}, \"type\": \"bar\"}], \"barpolar\": [{\"marker\": {\"line\": {\"color\": \"#E5ECF6\", \"width\": 0.5}}, \"type\": \"barpolar\"}], \"carpet\": [{\"aaxis\": {\"endlinecolor\": \"#2a3f5f\", \"gridcolor\": \"white\", \"linecolor\": \"white\", \"minorgridcolor\": \"white\", \"startlinecolor\": \"#2a3f5f\"}, \"baxis\": {\"endlinecolor\": \"#2a3f5f\", \"gridcolor\": \"white\", \"linecolor\": \"white\", \"minorgridcolor\": \"white\", \"startlinecolor\": \"#2a3f5f\"}, \"type\": \"carpet\"}], \"choropleth\": [{\"colorbar\": {\"outlinewidth\": 0, \"ticks\": \"\"}, \"type\": \"choropleth\"}], \"contour\": [{\"colorbar\": {\"outlinewidth\": 0, \"ticks\": \"\"}, \"colorscale\": [[0.0, \"#0d0887\"], [0.1111111111111111, \"#46039f\"], [0.2222222222222222, \"#7201a8\"], [0.3333333333333333, \"#9c179e\"], [0.4444444444444444, \"#bd3786\"], [0.5555555555555556, \"#d8576b\"], [0.6666666666666666, \"#ed7953\"], [0.7777777777777778, \"#fb9f3a\"], [0.8888888888888888, \"#fdca26\"], [1.0, \"#f0f921\"]], \"type\": \"contour\"}], \"contourcarpet\": [{\"colorbar\": {\"outlinewidth\": 0, \"ticks\": \"\"}, \"type\": \"contourcarpet\"}], \"heatmap\": [{\"colorbar\": {\"outlinewidth\": 0, \"ticks\": \"\"}, \"colorscale\": [[0.0, \"#0d0887\"], [0.1111111111111111, \"#46039f\"], [0.2222222222222222, \"#7201a8\"], [0.3333333333333333, \"#9c179e\"], [0.4444444444444444, \"#bd3786\"], [0.5555555555555556, \"#d8576b\"], [0.6666666666666666, \"#ed7953\"], [0.7777777777777778, \"#fb9f3a\"], [0.8888888888888888, \"#fdca26\"], [1.0, \"#f0f921\"]], \"type\": \"heatmap\"}], \"heatmapgl\": [{\"colorbar\": {\"outlinewidth\": 0, \"ticks\": \"\"}, \"colorscale\": [[0.0, \"#0d0887\"], [0.1111111111111111, \"#46039f\"], [0.2222222222222222, \"#7201a8\"], [0.3333333333333333, \"#9c179e\"], [0.4444444444444444, \"#bd3786\"], [0.5555555555555556, \"#d8576b\"], [0.6666666666666666, \"#ed7953\"], [0.7777777777777778, \"#fb9f3a\"], [0.8888888888888888, \"#fdca26\"], [1.0, \"#f0f921\"]], \"type\": \"heatmapgl\"}], \"histogram\": [{\"marker\": {\"colorbar\": {\"outlinewidth\": 0, \"ticks\": \"\"}}, \"type\": \"histogram\"}], \"histogram2d\": [{\"colorbar\": {\"outlinewidth\": 0, \"ticks\": \"\"}, \"colorscale\": [[0.0, \"#0d0887\"], [0.1111111111111111, \"#46039f\"], [0.2222222222222222, \"#7201a8\"], [0.3333333333333333, \"#9c179e\"], [0.4444444444444444, \"#bd3786\"], [0.5555555555555556, \"#d8576b\"], [0.6666666666666666, \"#ed7953\"], [0.7777777777777778, \"#fb9f3a\"], [0.8888888888888888, \"#fdca26\"], [1.0, \"#f0f921\"]], \"type\": \"histogram2d\"}], \"histogram2dcontour\": [{\"colorbar\": {\"outlinewidth\": 0, \"ticks\": \"\"}, \"colorscale\": [[0.0, \"#0d0887\"], [0.1111111111111111, \"#46039f\"], [0.2222222222222222, \"#7201a8\"], [0.3333333333333333, \"#9c179e\"], [0.4444444444444444, \"#bd3786\"], [0.5555555555555556, \"#d8576b\"], [0.6666666666666666, \"#ed7953\"], [0.7777777777777778, \"#fb9f3a\"], [0.8888888888888888, \"#fdca26\"], [1.0, \"#f0f921\"]], \"type\": \"histogram2dcontour\"}], \"mesh3d\": [{\"colorbar\": {\"outlinewidth\": 0, \"ticks\": \"\"}, \"type\": \"mesh3d\"}], \"parcoords\": [{\"line\": {\"colorbar\": {\"outlinewidth\": 0, \"ticks\": \"\"}}, \"type\": \"parcoords\"}], \"scatter\": [{\"marker\": {\"colorbar\": {\"outlinewidth\": 0, \"ticks\": \"\"}}, \"type\": \"scatter\"}], \"scatter3d\": [{\"line\": {\"colorbar\": {\"outlinewidth\": 0, \"ticks\": \"\"}}, \"marker\": {\"colorbar\": {\"outlinewidth\": 0, \"ticks\": \"\"}}, \"type\": \"scatter3d\"}], \"scattercarpet\": [{\"marker\": {\"colorbar\": {\"outlinewidth\": 0, \"ticks\": \"\"}}, \"type\": \"scattercarpet\"}], \"scattergeo\": [{\"marker\": {\"colorbar\": {\"outlinewidth\": 0, \"ticks\": \"\"}}, \"type\": \"scattergeo\"}], \"scattergl\": [{\"marker\": {\"colorbar\": {\"outlinewidth\": 0, \"ticks\": \"\"}}, \"type\": \"scattergl\"}], \"scattermapbox\": [{\"marker\": {\"colorbar\": {\"outlinewidth\": 0, \"ticks\": \"\"}}, \"type\": \"scattermapbox\"}], \"scatterpolar\": [{\"marker\": {\"colorbar\": {\"outlinewidth\": 0, \"ticks\": \"\"}}, \"type\": \"scatterpolar\"}], \"scatterpolargl\": [{\"marker\": {\"colorbar\": {\"outlinewidth\": 0, \"ticks\": \"\"}}, \"type\": \"scatterpolargl\"}], \"scatterternary\": [{\"marker\": {\"colorbar\": {\"outlinewidth\": 0, \"ticks\": \"\"}}, \"type\": \"scatterternary\"}], \"surface\": [{\"colorbar\": {\"outlinewidth\": 0, \"ticks\": \"\"}, \"colorscale\": [[0.0, \"#0d0887\"], [0.1111111111111111, \"#46039f\"], [0.2222222222222222, \"#7201a8\"], [0.3333333333333333, \"#9c179e\"], [0.4444444444444444, \"#bd3786\"], [0.5555555555555556, \"#d8576b\"], [0.6666666666666666, \"#ed7953\"], [0.7777777777777778, \"#fb9f3a\"], [0.8888888888888888, \"#fdca26\"], [1.0, \"#f0f921\"]], \"type\": \"surface\"}], \"table\": [{\"cells\": {\"fill\": {\"color\": \"#EBF0F8\"}, \"line\": {\"color\": \"white\"}}, \"header\": {\"fill\": {\"color\": \"#C8D4E3\"}, \"line\": {\"color\": \"white\"}}, \"type\": \"table\"}]}, \"layout\": {\"annotationdefaults\": {\"arrowcolor\": \"#2a3f5f\", \"arrowhead\": 0, \"arrowwidth\": 1}, \"colorscale\": {\"diverging\": [[0, \"#8e0152\"], [0.1, \"#c51b7d\"], [0.2, \"#de77ae\"], [0.3, \"#f1b6da\"], [0.4, \"#fde0ef\"], [0.5, \"#f7f7f7\"], [0.6, \"#e6f5d0\"], [0.7, \"#b8e186\"], [0.8, \"#7fbc41\"], [0.9, \"#4d9221\"], [1, \"#276419\"]], \"sequential\": [[0.0, \"#0d0887\"], [0.1111111111111111, \"#46039f\"], [0.2222222222222222, \"#7201a8\"], [0.3333333333333333, \"#9c179e\"], [0.4444444444444444, \"#bd3786\"], [0.5555555555555556, \"#d8576b\"], [0.6666666666666666, \"#ed7953\"], [0.7777777777777778, \"#fb9f3a\"], [0.8888888888888888, \"#fdca26\"], [1.0, \"#f0f921\"]], \"sequentialminus\": [[0.0, \"#0d0887\"], [0.1111111111111111, \"#46039f\"], [0.2222222222222222, \"#7201a8\"], [0.3333333333333333, \"#9c179e\"], [0.4444444444444444, \"#bd3786\"], [0.5555555555555556, \"#d8576b\"], [0.6666666666666666, \"#ed7953\"], [0.7777777777777778, \"#fb9f3a\"], [0.8888888888888888, \"#fdca26\"], [1.0, \"#f0f921\"]]}, \"colorway\": [\"#636efa\", \"#EF553B\", \"#00cc96\", \"#ab63fa\", \"#FFA15A\", \"#19d3f3\", \"#FF6692\", \"#B6E880\", \"#FF97FF\", \"#FECB52\"], \"font\": {\"color\": \"#2a3f5f\"}, \"geo\": {\"bgcolor\": \"white\", \"lakecolor\": \"white\", \"landcolor\": \"#E5ECF6\", \"showlakes\": true, \"showland\": true, \"subunitcolor\": \"white\"}, \"hoverlabel\": {\"align\": \"left\"}, \"hovermode\": \"closest\", \"mapbox\": {\"style\": \"light\"}, \"paper_bgcolor\": \"white\", \"plot_bgcolor\": \"#E5ECF6\", \"polar\": {\"angularaxis\": {\"gridcolor\": \"white\", \"linecolor\": \"white\", \"ticks\": \"\"}, \"bgcolor\": \"#E5ECF6\", \"radialaxis\": {\"gridcolor\": \"white\", \"linecolor\": \"white\", \"ticks\": \"\"}}, \"scene\": {\"xaxis\": {\"backgroundcolor\": \"#E5ECF6\", \"gridcolor\": \"white\", \"gridwidth\": 2, \"linecolor\": \"white\", \"showbackground\": true, \"ticks\": \"\", \"zerolinecolor\": \"white\"}, \"yaxis\": {\"backgroundcolor\": \"#E5ECF6\", \"gridcolor\": \"white\", \"gridwidth\": 2, \"linecolor\": \"white\", \"showbackground\": true, \"ticks\": \"\", \"zerolinecolor\": \"white\"}, \"zaxis\": {\"backgroundcolor\": \"#E5ECF6\", \"gridcolor\": \"white\", \"gridwidth\": 2, \"linecolor\": \"white\", \"showbackground\": true, \"ticks\": \"\", \"zerolinecolor\": \"white\"}}, \"shapedefaults\": {\"line\": {\"color\": \"#2a3f5f\"}}, \"ternary\": {\"aaxis\": {\"gridcolor\": \"white\", \"linecolor\": \"white\", \"ticks\": \"\"}, \"baxis\": {\"gridcolor\": \"white\", \"linecolor\": \"white\", \"ticks\": \"\"}, \"bgcolor\": \"#E5ECF6\", \"caxis\": {\"gridcolor\": \"white\", \"linecolor\": \"white\", \"ticks\": \"\"}}, \"title\": {\"x\": 0.05}, \"xaxis\": {\"automargin\": true, \"gridcolor\": \"white\", \"linecolor\": \"white\", \"ticks\": \"\", \"zerolinecolor\": \"white\", \"zerolinewidth\": 2}, \"yaxis\": {\"automargin\": true, \"gridcolor\": \"white\", \"linecolor\": \"white\", \"ticks\": \"\", \"zerolinecolor\": \"white\", \"zerolinewidth\": 2}}}, \"xaxis\": {\"linecolor\": \"black\", \"linewidth\": 2, \"showline\": true, \"tickangle\": 65, \"ticklen\": 5, \"tickmode\": \"array\", \"ticks\": \"inside\", \"ticktext\": [\"MedKD\", \"AvgKD\", \"Q\", \"AKD\", \"0.1\", \"0.2\", \"0.3\", \"0.4\", \"0.5\", \"0.6\", \"0.7\", \"0.8\", \"0.9\", \"1.0\"], \"tickvals\": [-0.3, -0.2, -0.1, -0.0, \"0.1\", \"0.2\", \"0.3\", \"0.4\", \"0.5\", \"0.6\", \"0.7\", \"0.8\", \"0.9\", \"1.0\"], \"zeroline\": true}, \"yaxis\": {\"gridcolor\": \"lightgrey\", \"gridwidth\": 1, \"linecolor\": \"black\", \"linewidth\": 2, \"showgrid\": true, \"showline\": true, \"ticklen\": 5, \"ticks\": \"inside\", \"title\": {\"text\": \"Time [s]\"}, \"zeroline\": false, \"zerolinecolor\": \"rgba(0, 0, 0, 0)\"}},\n",
       "                        {\"responsive\": true}\n",
       "                    ).then(function(){\n",
       "                            \n",
       "var gd = document.getElementById('5a78f3bc-a343-420a-8522-b60cf8c6c559');\n",
       "var x = new MutationObserver(function (mutations, observer) {{\n",
       "        var display = window.getComputedStyle(gd).display;\n",
       "        if (!display || display === 'none') {{\n",
       "            console.log([gd, 'removed!']);\n",
       "            Plotly.purge(gd);\n",
       "            observer.disconnect();\n",
       "        }}\n",
       "}});\n",
       "\n",
       "// Listen for the removal of the full notebook cells\n",
       "var notebookContainer = gd.closest('#notebook-container');\n",
       "if (notebookContainer) {{\n",
       "    x.observe(notebookContainer, {childList: true});\n",
       "}}\n",
       "\n",
       "// Listen for the clearing of the current output cell\n",
       "var outputEl = gd.closest('.output');\n",
       "if (outputEl) {{\n",
       "    x.observe(outputEl, {childList: true});\n",
       "}}\n",
       "\n",
       "                        })\n",
       "                };\n",
       "                });\n",
       "            </script>\n",
       "        </div>"
      ]
     },
     "metadata": {},
     "output_type": "display_data"
    }
   ],
   "source": [
    "algs = [f'ProgressiveIndex_{d}' for d in deltas]\n",
    "exp = 'Uniform8'\n",
    "fig = create_figure()\n",
    "\n",
    "cols = [2, 4, 6, 8]\n",
    "markers = delta_markers\n",
    "colors = ['rgba(168, 50, 119, 1)', 'rgba(235, 7, 7, 1)', 'rgba(54, 50, 168, 1)', 'rgba(1, 140, 22, 1)']\n",
    "colors.reverse()\n",
    "fill_colors = ['rgba(168, 50, 119, 0.2)', 'rgba(235, 7, 7, 0.2)', 'rgba(54, 50, 168, 0.2)', 'rgba(1, 140, 22, 0.2)']\n",
    "fill_colors.reverse()\n",
    "lines = []\n",
    "\n",
    "for i, marker, color, fill_color in zip(cols, markers, colors, fill_colors):\n",
    "    fq_times = []\n",
    "    # Plot afters\n",
    "    for d in deltas:\n",
    "        fq_times.append(\n",
    "            get_total_time(\n",
    "                read(f'ProgressiveIndex_{d}', f'Uniform{i}'),\n",
    "                lower=get_convergence(read(f'ProgressiveIndex_{d}', f'Uniform{i}'))\n",
    "            )\n",
    "        )\n",
    "    lines.append(\n",
    "        go.Scatter(\n",
    "            name=f'{i} cols',\n",
    "            x=deltas,\n",
    "            y=fq_times,\n",
    "            mode='lines',\n",
    "            marker_color=color,\n",
    "            showlegend=False\n",
    "        )\n",
    "    )\n",
    "\n",
    "    \n",
    "    # Plot totals\n",
    "    fq_times = []\n",
    "    for d in deltas:\n",
    "        fq_times.append(\n",
    "            get_total_time(\n",
    "                read(f'ProgressiveIndex_{d}', f'Uniform{i}')\n",
    "            )\n",
    "        )\n",
    "    lines.append(\n",
    "        go.Scatter(\n",
    "            name=f'{i} cols',\n",
    "            x=deltas,\n",
    "            y=fq_times,\n",
    "            mode='lines',\n",
    "            marker_color=color,\n",
    "            fill='tonexty',\n",
    "            fillcolor=fill_color\n",
    "        )\n",
    "    )\n",
    "    \n",
    "    fq_times = []\n",
    "    # Plot afters triangles\n",
    "    for d in deltas:\n",
    "        fq_times.append(\n",
    "            get_total_time(\n",
    "                read(f'ProgressiveIndex_{d}', f'Uniform{i}'),\n",
    "                lower=get_convergence(read(f'ProgressiveIndex_{d}', f'Uniform{i}'))\n",
    "            )\n",
    "        )\n",
    "    lines.append(\n",
    "        go.Scatter(\n",
    "            name=f'{i} cols',\n",
    "            x=deltas,\n",
    "            y=fq_times,\n",
    "            mode='markers',\n",
    "            marker_color=color,\n",
    "            marker=dict(\n",
    "                size=18,\n",
    "                symbol='triangle-up'\n",
    "            ),\n",
    "            showlegend=False\n",
    "        )\n",
    "    )\n",
    "\n",
    "    \n",
    "    # Plot totals triangles\n",
    "    fq_times = []\n",
    "    for d in deltas:\n",
    "        fq_times.append(\n",
    "            get_total_time(\n",
    "                read(f'ProgressiveIndex_{d}', f'Uniform{i}')\n",
    "            )\n",
    "        )\n",
    "    lines.append(\n",
    "        go.Scatter(\n",
    "            name=f'{i} cols',\n",
    "            x=deltas,\n",
    "            y=fq_times,\n",
    "            mode='markers',\n",
    "            marker_color=color,\n",
    "            marker=dict(\n",
    "                size=18,\n",
    "                symbol='triangle-down'\n",
    "            ),\n",
    "            showlegend=False\n",
    "        )\n",
    "    )\n",
    "    \n",
    "    # add other indices values\n",
    "    lines.append(\n",
    "        go.Scatter(\n",
    "            name=f'{i}AKD',\n",
    "            x=[-0.0],\n",
    "            y=[get_total_time(read(f'CrackingKDTree' ,f'Uniform{i}'))],\n",
    "            mode='markers',\n",
    "            marker_color=color,\n",
    "            marker=dict(\n",
    "                size=18,\n",
    "                symbol='triangle-down'\n",
    "            ),\n",
    "            showlegend=False\n",
    "        )\n",
    "    )\n",
    "    \n",
    "    lines.append(\n",
    "        go.Scatter(\n",
    "            name=f'{i}Quasii',\n",
    "            x=[-0.1],\n",
    "            y=[get_total_time(read(f'Quasii' ,f'Uniform{i}'))],\n",
    "            mode='markers',\n",
    "            marker_color=color,\n",
    "            marker=dict(\n",
    "                size=18,\n",
    "                symbol='triangle-down'\n",
    "            ),\n",
    "            showlegend=False\n",
    "        )\n",
    "    )\n",
    "    \n",
    "    lines.append(\n",
    "        go.Scatter(\n",
    "            name=f'{i}AvgKD',\n",
    "            x=[-0.22],\n",
    "            y=[get_total_time(read(f'AverageKDTree' ,f'Uniform{i}'))],\n",
    "            mode='markers',\n",
    "            marker_color=color,\n",
    "            marker=dict(\n",
    "                size=18,\n",
    "                symbol='triangle-down'\n",
    "            ),\n",
    "            showlegend=False\n",
    "        )\n",
    "    )\n",
    "    \n",
    "    lines.append(\n",
    "        go.Scatter(\n",
    "            name=f'{i}MedKD',\n",
    "            x=[-0.3],\n",
    "            y=[get_total_time(read(f'MedianKDTree' ,f'Uniform{i}'))],\n",
    "            mode='markers',\n",
    "            marker_color=color,\n",
    "            marker=dict(\n",
    "                size=18,\n",
    "                symbol='triangle-down'\n",
    "            ),\n",
    "            showlegend=False\n",
    "        )\n",
    "    )\n",
    "\n",
    "\n",
    "# Add triangles in the legend\n",
    "lines.append(\n",
    "        go.Scatter(\n",
    "            name=f'After',\n",
    "            x=[None],\n",
    "            y=[None],\n",
    "            mode='markers',\n",
    "            marker_color='black',\n",
    "            marker=dict(\n",
    "                size=18,\n",
    "                symbol='triangle-up'\n",
    "            ),\n",
    "        )\n",
    "    )\n",
    "\n",
    "lines.append(\n",
    "        go.Scatter(\n",
    "            name=f'Total',\n",
    "            x=[None],\n",
    "            y=[None],\n",
    "            mode='markers',\n",
    "            marker_color='black',\n",
    "            marker=dict(\n",
    "                size=18,\n",
    "                symbol='triangle-down'\n",
    "            ),\n",
    "        )\n",
    "    )\n",
    "\n",
    "\n",
    "\n",
    "fig.add_traces(data=lines)\n",
    "fig.update_layout(showlegend=True, yaxis_title='Time [s]',)\n",
    "fig.update_xaxes(tickangle=65)\n",
    "fig.update_layout(\n",
    "    xaxis = dict(\n",
    "        tickmode = 'array',\n",
    "        tickvals = [-0.3, -0.2, -0.1, -0.0] + deltas,\n",
    "        ticktext = ['MedKD', 'AvgKD', 'Q', 'AKD'] + deltas\n",
    "    ),\n",
    "    shapes=[\n",
    "        dict(\n",
    "            type= 'line',\n",
    "            yref=\"paper\", y0= 0, y1=1,\n",
    "            x0= 0.2, x1=0.2,\n",
    "            opacity=0.3,\n",
    "            line=dict(\n",
    "                width=4,\n",
    "                dash=\"dot\",\n",
    "            )\n",
    "        )\n",
    "    ],\n",
    "    annotations=[\n",
    "        dict(\n",
    "            x=0.5,\n",
    "            y=-0.35,\n",
    "            text=\"(PKD) Delta\",\n",
    "            xref=\"x\",\n",
    "            yref=\"paper\",\n",
    "        )\n",
    "    ],\n",
    "    autosize=True,\n",
    "    margin=dict(\n",
    "        b=150\n",
    "    ),\n",
    ")\n",
    "fig"
   ]
  }
 ],
 "metadata": {
  "kernelspec": {
   "display_name": "Python 3",
   "language": "python",
   "name": "python3"
  },
  "language_info": {
   "codemirror_mode": {
    "name": "ipython",
    "version": 3
   },
   "file_extension": ".py",
   "mimetype": "text/x-python",
   "name": "python",
   "nbconvert_exporter": "python",
   "pygments_lexer": "ipython3",
   "version": "3.7.1"
  }
 },
 "nbformat": 4,
 "nbformat_minor": 4
}
