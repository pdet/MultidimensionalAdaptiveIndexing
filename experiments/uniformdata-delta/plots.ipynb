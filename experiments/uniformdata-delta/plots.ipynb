{
 "cells": [
  {
   "cell_type": "code",
   "execution_count": 30,
   "metadata": {},
   "outputs": [],
   "source": [
    "import pandas as pd\n",
    "import matplotlib.pyplot as plt\n",
    "import plotly.graph_objects as go\n",
    "import numpy as np\n",
    "import json\n",
    "pd.set_option('display.max_rows', 1000)\n",
    "%matplotlib inline"
   ]
  },
  {
   "cell_type": "code",
   "execution_count": 41,
   "metadata": {},
   "outputs": [],
   "source": [
    "# Read config\n",
    "with open('config.json') as json_file:\n",
    "    f = json.load(json_file)\n",
    "    NUMBER_OF_QUERIES = f['number_of_queries']\n",
    "    REPETITIONS = f['repetitions']\n",
    "    ROWS = f['rows']\n",
    "    SELECTIVITIES = [f['selectivity']]\n",
    "    COLS = f['cols']\n",
    "    EXPS_DEFAULTS = f['experiments']\n",
    "    PARTITION_SIZE = f['partition_size']\n",
    "    PROGRESSIVE_INDEX_DELTAS = f['deltas']\n",
    "\n",
    "# Algorithms and Experiments defitions\n",
    "algorithms = {\n",
    "    'AverageKDTree': {\n",
    "        'name': 'average_kd_tree',\n",
    "        'color': 'red',\n",
    "        'dash': 'dot',\n",
    "        'show_name': 'AvgKD',\n",
    "        'type': 'full_index',\n",
    "        'delta': '0.0',\n",
    "        'partition_size': PARTITION_SIZE\n",
    "    },\n",
    "    'MedianKDTree': {\n",
    "        'name': 'median_kd_tree',\n",
    "        'color': 'red',\n",
    "        'dash': 'solid',\n",
    "        'show_name': 'MedKD',\n",
    "        'type': 'full_index',\n",
    "        'delta': '0.0',\n",
    "        'partition_size': PARTITION_SIZE\n",
    "    },\n",
    "    'CrackingKDTree': {\n",
    "        'name': 'cracking_kd_tree',\n",
    "        'color': 'green',\n",
    "        'dash': 'dot',\n",
    "        'show_name': 'AKD',\n",
    "        'type': 'adaptive',\n",
    "        'delta': '0.0',\n",
    "        'partition_size': PARTITION_SIZE\n",
    "    },\n",
    "    'Quasii': {\n",
    "        'name': 'quasii',\n",
    "        'color': 'green',\n",
    "        'dash': 'solid',\n",
    "        'show_name': 'Q',\n",
    "        'type': 'adaptive',\n",
    "        'delta': '0.0',\n",
    "        'partition_size': PARTITION_SIZE\n",
    "    },\n",
    "    'FullScan': {\n",
    "        'name': 'full_scan_cl',\n",
    "        'color': 'black',\n",
    "        'dash': 'dot',\n",
    "        'show_name': 'FS',\n",
    "        'type': 'full_index',\n",
    "        'partition_size': '0',\n",
    "        'delta':'0.0',\n",
    "    }\n",
    "}\n",
    "\n",
    "for key, value in algorithms.items():\n",
    "    name = value['name']\n",
    "    delta = value['delta']\n",
    "    partition_size = value['partition_size']\n",
    "    algorithms[key]['alg_id'] = f\"{name}-{delta}-{partition_size}\"\n",
    "    \n",
    "deltas = PROGRESSIVE_INDEX_DELTAS\n",
    "\n",
    "for i in deltas:\n",
    "    # For the delta experiment\n",
    "    temp = {\n",
    "        f'ProgressiveIndex_{i}': {\n",
    "            'name': 'progressive_index',\n",
    "            'color': '',\n",
    "            'dash': 'solid',\n",
    "            'marker': 'x-open',\n",
    "            'show_name': f'PKD({i})',\n",
    "            'type': 'adaptive',\n",
    "            'delta': f'{i}',\n",
    "            'partition_size': '1024'\n",
    "        }\n",
    "    }\n",
    "    algorithms = {**algorithms, **temp}\n",
    "\n",
    "for key, value in algorithms.items():\n",
    "    name = value['name']\n",
    "    delta = value['delta']\n",
    "    partition_size = value['partition_size']\n",
    "    algorithms[key]['alg_id'] = f\"{name}-{delta}-{partition_size}\"\n",
    "\n",
    "    \n",
    "# Synthetic Experiments\n",
    "experiments = {}\n",
    "\n",
    "for i in COLS:\n",
    "    temp = {\n",
    "        f'Uniform{i}': {\n",
    "            \"name\": f\"Unif({i})\",\n",
    "            'name-in-file': 'uniform',\n",
    "            'n_rows': ROWS,\n",
    "            'n_queries': NUMBER_OF_QUERIES,\n",
    "            'n_cols': f'{i}',\n",
    "            'sel': '0.01',\n",
    "        }\n",
    "    }\n",
    "    experiments = {**experiments, **temp}\n",
    "    \n",
    "for key, value in experiments.items():\n",
    "    name = value['name-in-file']\n",
    "    rows = value['n_rows']\n",
    "    n_queries = value['n_queries']\n",
    "    cols = value['n_cols']\n",
    "    sel = value['sel']\n",
    "    experiments[key]['exp_id'] = f\"{name}-{rows}-{n_queries}-{cols}-{sel}\""
   ]
  },
  {
   "cell_type": "code",
   "execution_count": 42,
   "metadata": {},
   "outputs": [],
   "source": [
    "# Input/Output\n",
    "def read(alg, exp):\n",
    "    if exp.startswith('Shifting'):\n",
    "        n_queries_per_run = 10\n",
    "        uni = read(alg, 'Uniform' + experiments[exp]['n_cols'])\n",
    "        n_runs = int(len(uni)/n_queries_per_run) - 1\n",
    "        df_final = uni.head(n_queries_per_run)\n",
    "        for _ in range(int(n_runs)):\n",
    "            temp = uni.head(n_queries_per_run).copy()\n",
    "            df_final = df_final.append(temp, ignore_index=True)\n",
    "    else:\n",
    "        df = pd.read_csv(f\"results/{algorithms[alg]['alg_id']}-{experiments[exp]['exp_id']}.csv\")\n",
    "        repetitions = df['repetition'].max() + 1\n",
    "        step = int(len(df.index)/repetitions)\n",
    "        df_final = df[:step].copy().reset_index()\n",
    "        for rep in range(1, repetitions):\n",
    "            df_final += df[step * (rep) : step * (rep + 1)].copy().reset_index()\n",
    "\n",
    "        df_final = df_final/repetitions\n",
    "    \n",
    "    if 'index_search_time' not in df_final:\n",
    "        df_final['index_search_time'] = 0.0\n",
    "    if 'tuples_scanned' not in df_final:\n",
    "        df_final['tuples_scanned'] = 0.0\n",
    "    if 'number_of_nodes' not in df_final:\n",
    "        df_final['number_of_nodes'] = 0.0\n",
    "    df_final['query_time'] = df_final['initialization_time'] + df_final['index_search_time'] + df_final['scan_time'] + df_final['adaptation_time']\n",
    "    df_final['query_time_cumsum'] = df_final['query_time'].cumsum()\n",
    "    return df_final\n",
    "\n",
    "                     \n",
    "def read_multiple(algs, exp):\n",
    "    ''' Reads multiple algorithms in an experiment, return three arrays: dfs, colors, names\n",
    "    '''\n",
    "    dfs = []\n",
    "    colors = []\n",
    "    names = []\n",
    "    dashes = []\n",
    "    for alg in algs:\n",
    "        dfs.append(read(alg, exp))\n",
    "        names.append(algorithms[alg]['show_name'])\n",
    "        colors.append(algorithms[alg]['color'])\n",
    "        dashes.append(algorithms[alg]['dash'])\n",
    "    \n",
    "    return dfs, colors, dashes, names,\n",
    "\n",
    "                     \n",
    "def save_figure(fig, fig_name):\n",
    "    fig.write_image(f\"figures/{fig_name}\", width=1024, height=768)\n",
    "                     \n",
    "def save_table(table, table_name):\n",
    "    with open(f\"tables/{table_name}\", 'w') as f:\n",
    "        f.write(table)"
   ]
  },
  {
   "cell_type": "code",
   "execution_count": 43,
   "metadata": {},
   "outputs": [],
   "source": [
    "# Helper methods\n",
    "def get_first_query(df):\n",
    "    return df['query_time'].iloc[0]\n",
    "\n",
    "def get_payoff(df, baseline):\n",
    "    p = [i for i, x in enumerate(df['query_time_cumsum'] - (baseline['query_time_cumsum'])) if x > 0]\n",
    "    if len(p) == 0:\n",
    "        return len(df)\n",
    "    return p[-1]\n",
    "\n",
    "def get_convergence(df, df_type=''):\n",
    "    if df_type == 'full_index':\n",
    "        return 0\n",
    "    c = [i for i, x in enumerate(df['adaptation_time']) if x != 0.0]\n",
    "    if(len(c) == 0):\n",
    "        return len(c)\n",
    "    else:\n",
    "        return c[-1]\n",
    "\n",
    "def get_robustness(df, df_type=''):\n",
    "    if df_type == 'full_index':\n",
    "        return 0\n",
    "    return np.var(df['query_time'][:min(50, get_convergence(df, df_type))])\n",
    "\n",
    "def get_total_time(df, lower=0, upper=-1):\n",
    "    return df['query_time'][lower:upper].sum()"
   ]
  },
  {
   "cell_type": "markdown",
   "metadata": {},
   "source": [
    "# First Query"
   ]
  },
  {
   "cell_type": "code",
   "execution_count": 48,
   "metadata": {},
   "outputs": [
    {
     "data": {
      "application/vnd.plotly.v1+json": {
       "config": {
        "plotlyServerURL": "https://plot.ly"
       },
       "data": [
        {
         "marker": {
          "color": "rgba(168, 50, 119, 1)",
          "size": 18,
          "symbol": "circle"
         },
         "mode": "lines+markers",
         "name": "8 cols",
         "type": "scatter",
         "x": [
          "0.1",
          "0.2",
          "0.3",
          "0.4",
          "0.5",
          "0.6",
          "0.7",
          "0.8",
          "0.9",
          "1.0"
         ],
         "y": [
          0.62697,
          0.797958,
          0.9762759999999999,
          1.1431269999999998,
          1.337442,
          1.4794319999999999,
          1.675734,
          1.8097280000000002,
          1.971619,
          2.183103
         ]
        },
        {
         "marker": {
          "color": "rgba(168, 50, 119, 1)",
          "size": 18,
          "symbol": "circle"
         },
         "mode": "markers",
         "name": "8FullScan",
         "showlegend": false,
         "type": "scatter",
         "x": [
          0
         ],
         "y": [
          0.536941
         ]
        },
        {
         "marker": {
          "color": "rgba(168, 50, 119, 1)",
          "size": 18,
          "symbol": "circle"
         },
         "mode": "markers",
         "name": "8AKD",
         "showlegend": false,
         "type": "scatter",
         "x": [
          -0.1
         ],
         "y": [
          1.670378
         ]
        },
        {
         "marker": {
          "color": "rgba(168, 50, 119, 1)",
          "size": 18,
          "symbol": "circle"
         },
         "mode": "markers",
         "name": "8Quasii",
         "showlegend": false,
         "type": "scatter",
         "x": [
          -0.2
         ],
         "y": [
          2.84303
         ]
        },
        {
         "marker": {
          "color": "rgba(235, 7, 7, 1)",
          "size": 18,
          "symbol": "square"
         },
         "mode": "lines+markers",
         "name": "6 cols",
         "type": "scatter",
         "x": [
          "0.1",
          "0.2",
          "0.3",
          "0.4",
          "0.5",
          "0.6",
          "0.7",
          "0.8",
          "0.9",
          "1.0"
         ],
         "y": [
          0.530191,
          0.660039,
          0.7981850000000001,
          0.8989929999999999,
          1.024225,
          1.151396,
          1.2871879999999998,
          1.4159430000000002,
          1.5403339999999999,
          1.677122
         ]
        },
        {
         "marker": {
          "color": "rgba(235, 7, 7, 1)",
          "size": 18,
          "symbol": "square"
         },
         "mode": "markers",
         "name": "6FullScan",
         "showlegend": false,
         "type": "scatter",
         "x": [
          0
         ],
         "y": [
          0.442878
         ]
        },
        {
         "marker": {
          "color": "rgba(235, 7, 7, 1)",
          "size": 18,
          "symbol": "square"
         },
         "mode": "markers",
         "name": "6AKD",
         "showlegend": false,
         "type": "scatter",
         "x": [
          -0.1
         ],
         "y": [
          1.267778
         ]
        },
        {
         "marker": {
          "color": "rgba(235, 7, 7, 1)",
          "size": 18,
          "symbol": "square"
         },
         "mode": "markers",
         "name": "6Quasii",
         "showlegend": false,
         "type": "scatter",
         "x": [
          -0.2
         ],
         "y": [
          2.075673
         ]
        },
        {
         "marker": {
          "color": "rgba(54, 50, 168, 1)",
          "size": 18,
          "symbol": "x"
         },
         "mode": "lines+markers",
         "name": "4 cols",
         "type": "scatter",
         "x": [
          "0.1",
          "0.2",
          "0.3",
          "0.4",
          "0.5",
          "0.6",
          "0.7",
          "0.8",
          "0.9",
          "1.0"
         ],
         "y": [
          0.414018,
          0.484907,
          0.587182,
          0.6840729999999999,
          0.8102769999999999,
          0.848867,
          0.9487920000000001,
          1.0418180000000001,
          1.15755,
          1.24913
         ]
        },
        {
         "marker": {
          "color": "rgba(54, 50, 168, 1)",
          "size": 18,
          "symbol": "x"
         },
         "mode": "markers",
         "name": "4FullScan",
         "showlegend": false,
         "type": "scatter",
         "x": [
          0
         ],
         "y": [
          0.34419799999999995
         ]
        },
        {
         "marker": {
          "color": "rgba(54, 50, 168, 1)",
          "size": 18,
          "symbol": "x"
         },
         "mode": "markers",
         "name": "4AKD",
         "showlegend": false,
         "type": "scatter",
         "x": [
          -0.1
         ],
         "y": [
          0.789151
         ]
        },
        {
         "marker": {
          "color": "rgba(54, 50, 168, 1)",
          "size": 18,
          "symbol": "x"
         },
         "mode": "markers",
         "name": "4Quasii",
         "showlegend": false,
         "type": "scatter",
         "x": [
          -0.2
         ],
         "y": [
          1.57037
         ]
        },
        {
         "marker": {
          "color": "rgba(1, 140, 22, 1)",
          "size": 18,
          "symbol": "star"
         },
         "mode": "lines+markers",
         "name": "2 cols",
         "type": "scatter",
         "x": [
          "0.1",
          "0.2",
          "0.3",
          "0.4",
          "0.5",
          "0.6",
          "0.7",
          "0.8",
          "0.9",
          "1.0"
         ],
         "y": [
          0.26581600000000005,
          0.30607900000000005,
          0.34519200000000005,
          0.37738000000000005,
          0.423948,
          0.461229,
          0.502373,
          0.5418780000000001,
          0.58127,
          0.6204450000000001
         ]
        },
        {
         "marker": {
          "color": "rgba(1, 140, 22, 1)",
          "size": 18,
          "symbol": "star"
         },
         "mode": "markers",
         "name": "2FullScan",
         "showlegend": false,
         "type": "scatter",
         "x": [
          0
         ],
         "y": [
          0.26460100000000003
         ]
        },
        {
         "marker": {
          "color": "rgba(1, 140, 22, 1)",
          "size": 18,
          "symbol": "star"
         },
         "mode": "markers",
         "name": "2AKD",
         "showlegend": false,
         "type": "scatter",
         "x": [
          -0.1
         ],
         "y": [
          0.44989999999999997
         ]
        },
        {
         "marker": {
          "color": "rgba(1, 140, 22, 1)",
          "size": 18,
          "symbol": "star"
         },
         "mode": "markers",
         "name": "2Quasii",
         "showlegend": false,
         "type": "scatter",
         "x": [
          -0.2
         ],
         "y": [
          1.588893
         ]
        }
       ],
       "layout": {
        "annotations": [
         {
          "text": "(PKD) Delta",
          "x": 0.5,
          "xref": "x",
          "y": -0.35,
          "yref": "paper"
         }
        ],
        "autosize": true,
        "font": {
         "size": 42
        },
        "legend": {
         "font": {
          "color": "black",
          "size": 30
         }
        },
        "margin": {
         "b": 180
        },
        "plot_bgcolor": "rgba(0, 0, 0, 0)",
        "shapes": [
         {
          "line": {
           "dash": "dot",
           "width": 4
          },
          "opacity": 0.3,
          "type": "line",
          "x0": 0.2,
          "x1": 0.2,
          "y0": 0,
          "y1": 1,
          "yref": "paper"
         }
        ],
        "showlegend": true,
        "template": {
         "data": {
          "bar": [
           {
            "error_x": {
             "color": "#2a3f5f"
            },
            "error_y": {
             "color": "#2a3f5f"
            },
            "marker": {
             "line": {
              "color": "#E5ECF6",
              "width": 0.5
             }
            },
            "type": "bar"
           }
          ],
          "barpolar": [
           {
            "marker": {
             "line": {
              "color": "#E5ECF6",
              "width": 0.5
             }
            },
            "type": "barpolar"
           }
          ],
          "carpet": [
           {
            "aaxis": {
             "endlinecolor": "#2a3f5f",
             "gridcolor": "white",
             "linecolor": "white",
             "minorgridcolor": "white",
             "startlinecolor": "#2a3f5f"
            },
            "baxis": {
             "endlinecolor": "#2a3f5f",
             "gridcolor": "white",
             "linecolor": "white",
             "minorgridcolor": "white",
             "startlinecolor": "#2a3f5f"
            },
            "type": "carpet"
           }
          ],
          "choropleth": [
           {
            "colorbar": {
             "outlinewidth": 0,
             "ticks": ""
            },
            "type": "choropleth"
           }
          ],
          "contour": [
           {
            "colorbar": {
             "outlinewidth": 0,
             "ticks": ""
            },
            "colorscale": [
             [
              0,
              "#0d0887"
             ],
             [
              0.1111111111111111,
              "#46039f"
             ],
             [
              0.2222222222222222,
              "#7201a8"
             ],
             [
              0.3333333333333333,
              "#9c179e"
             ],
             [
              0.4444444444444444,
              "#bd3786"
             ],
             [
              0.5555555555555556,
              "#d8576b"
             ],
             [
              0.6666666666666666,
              "#ed7953"
             ],
             [
              0.7777777777777778,
              "#fb9f3a"
             ],
             [
              0.8888888888888888,
              "#fdca26"
             ],
             [
              1,
              "#f0f921"
             ]
            ],
            "type": "contour"
           }
          ],
          "contourcarpet": [
           {
            "colorbar": {
             "outlinewidth": 0,
             "ticks": ""
            },
            "type": "contourcarpet"
           }
          ],
          "heatmap": [
           {
            "colorbar": {
             "outlinewidth": 0,
             "ticks": ""
            },
            "colorscale": [
             [
              0,
              "#0d0887"
             ],
             [
              0.1111111111111111,
              "#46039f"
             ],
             [
              0.2222222222222222,
              "#7201a8"
             ],
             [
              0.3333333333333333,
              "#9c179e"
             ],
             [
              0.4444444444444444,
              "#bd3786"
             ],
             [
              0.5555555555555556,
              "#d8576b"
             ],
             [
              0.6666666666666666,
              "#ed7953"
             ],
             [
              0.7777777777777778,
              "#fb9f3a"
             ],
             [
              0.8888888888888888,
              "#fdca26"
             ],
             [
              1,
              "#f0f921"
             ]
            ],
            "type": "heatmap"
           }
          ],
          "heatmapgl": [
           {
            "colorbar": {
             "outlinewidth": 0,
             "ticks": ""
            },
            "colorscale": [
             [
              0,
              "#0d0887"
             ],
             [
              0.1111111111111111,
              "#46039f"
             ],
             [
              0.2222222222222222,
              "#7201a8"
             ],
             [
              0.3333333333333333,
              "#9c179e"
             ],
             [
              0.4444444444444444,
              "#bd3786"
             ],
             [
              0.5555555555555556,
              "#d8576b"
             ],
             [
              0.6666666666666666,
              "#ed7953"
             ],
             [
              0.7777777777777778,
              "#fb9f3a"
             ],
             [
              0.8888888888888888,
              "#fdca26"
             ],
             [
              1,
              "#f0f921"
             ]
            ],
            "type": "heatmapgl"
           }
          ],
          "histogram": [
           {
            "marker": {
             "colorbar": {
              "outlinewidth": 0,
              "ticks": ""
             }
            },
            "type": "histogram"
           }
          ],
          "histogram2d": [
           {
            "colorbar": {
             "outlinewidth": 0,
             "ticks": ""
            },
            "colorscale": [
             [
              0,
              "#0d0887"
             ],
             [
              0.1111111111111111,
              "#46039f"
             ],
             [
              0.2222222222222222,
              "#7201a8"
             ],
             [
              0.3333333333333333,
              "#9c179e"
             ],
             [
              0.4444444444444444,
              "#bd3786"
             ],
             [
              0.5555555555555556,
              "#d8576b"
             ],
             [
              0.6666666666666666,
              "#ed7953"
             ],
             [
              0.7777777777777778,
              "#fb9f3a"
             ],
             [
              0.8888888888888888,
              "#fdca26"
             ],
             [
              1,
              "#f0f921"
             ]
            ],
            "type": "histogram2d"
           }
          ],
          "histogram2dcontour": [
           {
            "colorbar": {
             "outlinewidth": 0,
             "ticks": ""
            },
            "colorscale": [
             [
              0,
              "#0d0887"
             ],
             [
              0.1111111111111111,
              "#46039f"
             ],
             [
              0.2222222222222222,
              "#7201a8"
             ],
             [
              0.3333333333333333,
              "#9c179e"
             ],
             [
              0.4444444444444444,
              "#bd3786"
             ],
             [
              0.5555555555555556,
              "#d8576b"
             ],
             [
              0.6666666666666666,
              "#ed7953"
             ],
             [
              0.7777777777777778,
              "#fb9f3a"
             ],
             [
              0.8888888888888888,
              "#fdca26"
             ],
             [
              1,
              "#f0f921"
             ]
            ],
            "type": "histogram2dcontour"
           }
          ],
          "mesh3d": [
           {
            "colorbar": {
             "outlinewidth": 0,
             "ticks": ""
            },
            "type": "mesh3d"
           }
          ],
          "parcoords": [
           {
            "line": {
             "colorbar": {
              "outlinewidth": 0,
              "ticks": ""
             }
            },
            "type": "parcoords"
           }
          ],
          "scatter": [
           {
            "marker": {
             "colorbar": {
              "outlinewidth": 0,
              "ticks": ""
             }
            },
            "type": "scatter"
           }
          ],
          "scatter3d": [
           {
            "line": {
             "colorbar": {
              "outlinewidth": 0,
              "ticks": ""
             }
            },
            "marker": {
             "colorbar": {
              "outlinewidth": 0,
              "ticks": ""
             }
            },
            "type": "scatter3d"
           }
          ],
          "scattercarpet": [
           {
            "marker": {
             "colorbar": {
              "outlinewidth": 0,
              "ticks": ""
             }
            },
            "type": "scattercarpet"
           }
          ],
          "scattergeo": [
           {
            "marker": {
             "colorbar": {
              "outlinewidth": 0,
              "ticks": ""
             }
            },
            "type": "scattergeo"
           }
          ],
          "scattergl": [
           {
            "marker": {
             "colorbar": {
              "outlinewidth": 0,
              "ticks": ""
             }
            },
            "type": "scattergl"
           }
          ],
          "scattermapbox": [
           {
            "marker": {
             "colorbar": {
              "outlinewidth": 0,
              "ticks": ""
             }
            },
            "type": "scattermapbox"
           }
          ],
          "scatterpolar": [
           {
            "marker": {
             "colorbar": {
              "outlinewidth": 0,
              "ticks": ""
             }
            },
            "type": "scatterpolar"
           }
          ],
          "scatterpolargl": [
           {
            "marker": {
             "colorbar": {
              "outlinewidth": 0,
              "ticks": ""
             }
            },
            "type": "scatterpolargl"
           }
          ],
          "scatterternary": [
           {
            "marker": {
             "colorbar": {
              "outlinewidth": 0,
              "ticks": ""
             }
            },
            "type": "scatterternary"
           }
          ],
          "surface": [
           {
            "colorbar": {
             "outlinewidth": 0,
             "ticks": ""
            },
            "colorscale": [
             [
              0,
              "#0d0887"
             ],
             [
              0.1111111111111111,
              "#46039f"
             ],
             [
              0.2222222222222222,
              "#7201a8"
             ],
             [
              0.3333333333333333,
              "#9c179e"
             ],
             [
              0.4444444444444444,
              "#bd3786"
             ],
             [
              0.5555555555555556,
              "#d8576b"
             ],
             [
              0.6666666666666666,
              "#ed7953"
             ],
             [
              0.7777777777777778,
              "#fb9f3a"
             ],
             [
              0.8888888888888888,
              "#fdca26"
             ],
             [
              1,
              "#f0f921"
             ]
            ],
            "type": "surface"
           }
          ],
          "table": [
           {
            "cells": {
             "fill": {
              "color": "#EBF0F8"
             },
             "line": {
              "color": "white"
             }
            },
            "header": {
             "fill": {
              "color": "#C8D4E3"
             },
             "line": {
              "color": "white"
             }
            },
            "type": "table"
           }
          ]
         },
         "layout": {
          "annotationdefaults": {
           "arrowcolor": "#2a3f5f",
           "arrowhead": 0,
           "arrowwidth": 1
          },
          "colorscale": {
           "diverging": [
            [
             0,
             "#8e0152"
            ],
            [
             0.1,
             "#c51b7d"
            ],
            [
             0.2,
             "#de77ae"
            ],
            [
             0.3,
             "#f1b6da"
            ],
            [
             0.4,
             "#fde0ef"
            ],
            [
             0.5,
             "#f7f7f7"
            ],
            [
             0.6,
             "#e6f5d0"
            ],
            [
             0.7,
             "#b8e186"
            ],
            [
             0.8,
             "#7fbc41"
            ],
            [
             0.9,
             "#4d9221"
            ],
            [
             1,
             "#276419"
            ]
           ],
           "sequential": [
            [
             0,
             "#0d0887"
            ],
            [
             0.1111111111111111,
             "#46039f"
            ],
            [
             0.2222222222222222,
             "#7201a8"
            ],
            [
             0.3333333333333333,
             "#9c179e"
            ],
            [
             0.4444444444444444,
             "#bd3786"
            ],
            [
             0.5555555555555556,
             "#d8576b"
            ],
            [
             0.6666666666666666,
             "#ed7953"
            ],
            [
             0.7777777777777778,
             "#fb9f3a"
            ],
            [
             0.8888888888888888,
             "#fdca26"
            ],
            [
             1,
             "#f0f921"
            ]
           ],
           "sequentialminus": [
            [
             0,
             "#0d0887"
            ],
            [
             0.1111111111111111,
             "#46039f"
            ],
            [
             0.2222222222222222,
             "#7201a8"
            ],
            [
             0.3333333333333333,
             "#9c179e"
            ],
            [
             0.4444444444444444,
             "#bd3786"
            ],
            [
             0.5555555555555556,
             "#d8576b"
            ],
            [
             0.6666666666666666,
             "#ed7953"
            ],
            [
             0.7777777777777778,
             "#fb9f3a"
            ],
            [
             0.8888888888888888,
             "#fdca26"
            ],
            [
             1,
             "#f0f921"
            ]
           ]
          },
          "colorway": [
           "#636efa",
           "#EF553B",
           "#00cc96",
           "#ab63fa",
           "#FFA15A",
           "#19d3f3",
           "#FF6692",
           "#B6E880",
           "#FF97FF",
           "#FECB52"
          ],
          "font": {
           "color": "#2a3f5f"
          },
          "geo": {
           "bgcolor": "white",
           "lakecolor": "white",
           "landcolor": "#E5ECF6",
           "showlakes": true,
           "showland": true,
           "subunitcolor": "white"
          },
          "hoverlabel": {
           "align": "left"
          },
          "hovermode": "closest",
          "mapbox": {
           "style": "light"
          },
          "paper_bgcolor": "white",
          "plot_bgcolor": "#E5ECF6",
          "polar": {
           "angularaxis": {
            "gridcolor": "white",
            "linecolor": "white",
            "ticks": ""
           },
           "bgcolor": "#E5ECF6",
           "radialaxis": {
            "gridcolor": "white",
            "linecolor": "white",
            "ticks": ""
           }
          },
          "scene": {
           "xaxis": {
            "backgroundcolor": "#E5ECF6",
            "gridcolor": "white",
            "gridwidth": 2,
            "linecolor": "white",
            "showbackground": true,
            "ticks": "",
            "zerolinecolor": "white"
           },
           "yaxis": {
            "backgroundcolor": "#E5ECF6",
            "gridcolor": "white",
            "gridwidth": 2,
            "linecolor": "white",
            "showbackground": true,
            "ticks": "",
            "zerolinecolor": "white"
           },
           "zaxis": {
            "backgroundcolor": "#E5ECF6",
            "gridcolor": "white",
            "gridwidth": 2,
            "linecolor": "white",
            "showbackground": true,
            "ticks": "",
            "zerolinecolor": "white"
           }
          },
          "shapedefaults": {
           "line": {
            "color": "#2a3f5f"
           }
          },
          "ternary": {
           "aaxis": {
            "gridcolor": "white",
            "linecolor": "white",
            "ticks": ""
           },
           "baxis": {
            "gridcolor": "white",
            "linecolor": "white",
            "ticks": ""
           },
           "bgcolor": "#E5ECF6",
           "caxis": {
            "gridcolor": "white",
            "linecolor": "white",
            "ticks": ""
           }
          },
          "title": {
           "x": 0.05
          },
          "xaxis": {
           "automargin": true,
           "gridcolor": "white",
           "linecolor": "white",
           "ticks": "",
           "zerolinecolor": "white",
           "zerolinewidth": 2
          },
          "yaxis": {
           "automargin": true,
           "gridcolor": "white",
           "linecolor": "white",
           "ticks": "",
           "zerolinecolor": "white",
           "zerolinewidth": 2
          }
         }
        },
        "xaxis": {
         "autorange": true,
         "linecolor": "black",
         "linewidth": 2,
         "range": [
          -0.28335001668335,
          1.08335001668335
         ],
         "showline": true,
         "tickangle": 65,
         "ticklen": 5,
         "tickmode": "array",
         "ticks": "inside",
         "ticktext": [
          "Q",
          "AKD",
          "FS",
          "0.1",
          "0.2",
          "0.3",
          "0.4",
          "0.5",
          "0.6",
          "0.7",
          "0.8",
          "0.9",
          "1.0"
         ],
         "tickvals": [
          -0.2,
          -0.1,
          0,
          "0.1",
          "0.2",
          "0.3",
          "0.4",
          "0.5",
          "0.6",
          "0.7",
          "0.8",
          "0.9",
          "1.0"
         ],
         "type": "linear",
         "zeroline": true
        },
        "yaxis": {
         "autorange": true,
         "dtick": 0.5,
         "gridcolor": "lightgrey",
         "gridwidth": 1,
         "linecolor": "black",
         "linewidth": 2,
         "range": [
          0,
          3.2167394342762066
         ],
         "rangemode": "tozero",
         "showgrid": true,
         "showline": true,
         "ticklen": 5,
         "tickmode": "linear",
         "ticks": "inside",
         "title": {
          "text": "First Query Cost [s]"
         },
         "type": "linear",
         "zeroline": false,
         "zerolinecolor": "rgba(0, 0, 0, 0)"
        }
       }
      },
      "image/png": "[encoded data removed]",
      "text/html": [
       "<div>\n",
       "        \n",
       "        \n",
       "            <div id=\"d042c476-0f88-4962-8f96-cbbabbfc6a5a\" class=\"plotly-graph-div\" style=\"height:525px; width:100%;\"></div>\n",
       "            <script type=\"text/javascript\">\n",
       "                require([\"plotly\"], function(Plotly) {\n",
       "                    window.PLOTLYENV=window.PLOTLYENV || {};\n",
       "                    \n",
       "                if (document.getElementById(\"d042c476-0f88-4962-8f96-cbbabbfc6a5a\")) {\n",
       "                    Plotly.newPlot(\n",
       "                        'd042c476-0f88-4962-8f96-cbbabbfc6a5a',\n",
       "                        [{\"marker\": {\"color\": \"rgba(168, 50, 119, 1)\", \"size\": 18, \"symbol\": \"circle\"}, \"mode\": \"lines+markers\", \"name\": \"8 cols\", \"type\": \"scatter\", \"x\": [\"0.1\", \"0.2\", \"0.3\", \"0.4\", \"0.5\", \"0.6\", \"0.7\", \"0.8\", \"0.9\", \"1.0\"], \"y\": [0.62697, 0.797958, 0.9762759999999999, 1.1431269999999998, 1.337442, 1.4794319999999999, 1.675734, 1.8097280000000002, 1.971619, 2.183103]}, {\"marker\": {\"color\": \"rgba(168, 50, 119, 1)\", \"size\": 18, \"symbol\": \"circle\"}, \"mode\": \"markers\", \"name\": \"8FullScan\", \"showlegend\": false, \"type\": \"scatter\", \"x\": [-0.0], \"y\": [0.536941]}, {\"marker\": {\"color\": \"rgba(168, 50, 119, 1)\", \"size\": 18, \"symbol\": \"circle\"}, \"mode\": \"markers\", \"name\": \"8AKD\", \"showlegend\": false, \"type\": \"scatter\", \"x\": [-0.1], \"y\": [1.670378]}, {\"marker\": {\"color\": \"rgba(168, 50, 119, 1)\", \"size\": 18, \"symbol\": \"circle\"}, \"mode\": \"markers\", \"name\": \"8Quasii\", \"showlegend\": false, \"type\": \"scatter\", \"x\": [-0.2], \"y\": [2.84303]}, {\"marker\": {\"color\": \"rgba(235, 7, 7, 1)\", \"size\": 18, \"symbol\": \"square\"}, \"mode\": \"lines+markers\", \"name\": \"6 cols\", \"type\": \"scatter\", \"x\": [\"0.1\", \"0.2\", \"0.3\", \"0.4\", \"0.5\", \"0.6\", \"0.7\", \"0.8\", \"0.9\", \"1.0\"], \"y\": [0.530191, 0.660039, 0.7981850000000001, 0.8989929999999999, 1.024225, 1.151396, 1.2871879999999998, 1.4159430000000002, 1.5403339999999999, 1.677122]}, {\"marker\": {\"color\": \"rgba(235, 7, 7, 1)\", \"size\": 18, \"symbol\": \"square\"}, \"mode\": \"markers\", \"name\": \"6FullScan\", \"showlegend\": false, \"type\": \"scatter\", \"x\": [-0.0], \"y\": [0.442878]}, {\"marker\": {\"color\": \"rgba(235, 7, 7, 1)\", \"size\": 18, \"symbol\": \"square\"}, \"mode\": \"markers\", \"name\": \"6AKD\", \"showlegend\": false, \"type\": \"scatter\", \"x\": [-0.1], \"y\": [1.267778]}, {\"marker\": {\"color\": \"rgba(235, 7, 7, 1)\", \"size\": 18, \"symbol\": \"square\"}, \"mode\": \"markers\", \"name\": \"6Quasii\", \"showlegend\": false, \"type\": \"scatter\", \"x\": [-0.2], \"y\": [2.075673]}, {\"marker\": {\"color\": \"rgba(54, 50, 168, 1)\", \"size\": 18, \"symbol\": \"x\"}, \"mode\": \"lines+markers\", \"name\": \"4 cols\", \"type\": \"scatter\", \"x\": [\"0.1\", \"0.2\", \"0.3\", \"0.4\", \"0.5\", \"0.6\", \"0.7\", \"0.8\", \"0.9\", \"1.0\"], \"y\": [0.414018, 0.484907, 0.587182, 0.6840729999999999, 0.8102769999999999, 0.848867, 0.9487920000000001, 1.0418180000000001, 1.15755, 1.24913]}, {\"marker\": {\"color\": \"rgba(54, 50, 168, 1)\", \"size\": 18, \"symbol\": \"x\"}, \"mode\": \"markers\", \"name\": \"4FullScan\", \"showlegend\": false, \"type\": \"scatter\", \"x\": [-0.0], \"y\": [0.34419799999999995]}, {\"marker\": {\"color\": \"rgba(54, 50, 168, 1)\", \"size\": 18, \"symbol\": \"x\"}, \"mode\": \"markers\", \"name\": \"4AKD\", \"showlegend\": false, \"type\": \"scatter\", \"x\": [-0.1], \"y\": [0.789151]}, {\"marker\": {\"color\": \"rgba(54, 50, 168, 1)\", \"size\": 18, \"symbol\": \"x\"}, \"mode\": \"markers\", \"name\": \"4Quasii\", \"showlegend\": false, \"type\": \"scatter\", \"x\": [-0.2], \"y\": [1.57037]}, {\"marker\": {\"color\": \"rgba(1, 140, 22, 1)\", \"size\": 18, \"symbol\": \"star\"}, \"mode\": \"lines+markers\", \"name\": \"2 cols\", \"type\": \"scatter\", \"x\": [\"0.1\", \"0.2\", \"0.3\", \"0.4\", \"0.5\", \"0.6\", \"0.7\", \"0.8\", \"0.9\", \"1.0\"], \"y\": [0.26581600000000005, 0.30607900000000005, 0.34519200000000005, 0.37738000000000005, 0.423948, 0.461229, 0.502373, 0.5418780000000001, 0.58127, 0.6204450000000001]}, {\"marker\": {\"color\": \"rgba(1, 140, 22, 1)\", \"size\": 18, \"symbol\": \"star\"}, \"mode\": \"markers\", \"name\": \"2FullScan\", \"showlegend\": false, \"type\": \"scatter\", \"x\": [-0.0], \"y\": [0.26460100000000003]}, {\"marker\": {\"color\": \"rgba(1, 140, 22, 1)\", \"size\": 18, \"symbol\": \"star\"}, \"mode\": \"markers\", \"name\": \"2AKD\", \"showlegend\": false, \"type\": \"scatter\", \"x\": [-0.1], \"y\": [0.44989999999999997]}, {\"marker\": {\"color\": \"rgba(1, 140, 22, 1)\", \"size\": 18, \"symbol\": \"star\"}, \"mode\": \"markers\", \"name\": \"2Quasii\", \"showlegend\": false, \"type\": \"scatter\", \"x\": [-0.2], \"y\": [1.588893]}],\n",
       "                        {\"annotations\": [{\"text\": \"(PKD) Delta\", \"x\": 0.5, \"xref\": \"x\", \"y\": -0.35, \"yref\": \"paper\"}], \"autosize\": true, \"font\": {\"size\": 42}, \"legend\": {\"font\": {\"color\": \"black\", \"size\": 30}}, \"margin\": {\"b\": 180}, \"plot_bgcolor\": \"rgba(0,0,0,0)\", \"shapes\": [{\"line\": {\"dash\": \"dot\", \"width\": 4}, \"opacity\": 0.3, \"type\": \"line\", \"x0\": 0.2, \"x1\": 0.2, \"y0\": 0, \"y1\": 1, \"yref\": \"paper\"}], \"showlegend\": true, \"template\": {\"data\": {\"bar\": [{\"error_x\": {\"color\": \"#2a3f5f\"}, \"error_y\": {\"color\": \"#2a3f5f\"}, \"marker\": {\"line\": {\"color\": \"#E5ECF6\", \"width\": 0.5}}, \"type\": \"bar\"}], \"barpolar\": [{\"marker\": {\"line\": {\"color\": \"#E5ECF6\", \"width\": 0.5}}, \"type\": \"barpolar\"}], \"carpet\": [{\"aaxis\": {\"endlinecolor\": \"#2a3f5f\", \"gridcolor\": \"white\", \"linecolor\": \"white\", \"minorgridcolor\": \"white\", \"startlinecolor\": \"#2a3f5f\"}, \"baxis\": {\"endlinecolor\": \"#2a3f5f\", \"gridcolor\": \"white\", \"linecolor\": \"white\", \"minorgridcolor\": \"white\", \"startlinecolor\": \"#2a3f5f\"}, \"type\": \"carpet\"}], \"choropleth\": [{\"colorbar\": {\"outlinewidth\": 0, \"ticks\": \"\"}, \"type\": \"choropleth\"}], \"contour\": [{\"colorbar\": {\"outlinewidth\": 0, \"ticks\": \"\"}, \"colorscale\": [[0.0, \"#0d0887\"], [0.1111111111111111, \"#46039f\"], [0.2222222222222222, \"#7201a8\"], [0.3333333333333333, \"#9c179e\"], [0.4444444444444444, \"#bd3786\"], [0.5555555555555556, \"#d8576b\"], [0.6666666666666666, \"#ed7953\"], [0.7777777777777778, \"#fb9f3a\"], [0.8888888888888888, \"#fdca26\"], [1.0, \"#f0f921\"]], \"type\": \"contour\"}], \"contourcarpet\": [{\"colorbar\": {\"outlinewidth\": 0, \"ticks\": \"\"}, \"type\": \"contourcarpet\"}], \"heatmap\": [{\"colorbar\": {\"outlinewidth\": 0, \"ticks\": \"\"}, \"colorscale\": [[0.0, \"#0d0887\"], [0.1111111111111111, \"#46039f\"], [0.2222222222222222, \"#7201a8\"], [0.3333333333333333, \"#9c179e\"], [0.4444444444444444, \"#bd3786\"], [0.5555555555555556, \"#d8576b\"], [0.6666666666666666, \"#ed7953\"], [0.7777777777777778, \"#fb9f3a\"], [0.8888888888888888, \"#fdca26\"], [1.0, \"#f0f921\"]], \"type\": \"heatmap\"}], \"heatmapgl\": [{\"colorbar\": {\"outlinewidth\": 0, \"ticks\": \"\"}, \"colorscale\": [[0.0, \"#0d0887\"], [0.1111111111111111, \"#46039f\"], [0.2222222222222222, \"#7201a8\"], [0.3333333333333333, \"#9c179e\"], [0.4444444444444444, \"#bd3786\"], [0.5555555555555556, \"#d8576b\"], [0.6666666666666666, \"#ed7953\"], [0.7777777777777778, \"#fb9f3a\"], [0.8888888888888888, \"#fdca26\"], [1.0, \"#f0f921\"]], \"type\": \"heatmapgl\"}], \"histogram\": [{\"marker\": {\"colorbar\": {\"outlinewidth\": 0, \"ticks\": \"\"}}, \"type\": \"histogram\"}], \"histogram2d\": [{\"colorbar\": {\"outlinewidth\": 0, \"ticks\": \"\"}, \"colorscale\": [[0.0, \"#0d0887\"], [0.1111111111111111, \"#46039f\"], [0.2222222222222222, \"#7201a8\"], [0.3333333333333333, \"#9c179e\"], [0.4444444444444444, \"#bd3786\"], [0.5555555555555556, \"#d8576b\"], [0.6666666666666666, \"#ed7953\"], [0.7777777777777778, \"#fb9f3a\"], [0.8888888888888888, \"#fdca26\"], [1.0, \"#f0f921\"]], \"type\": \"histogram2d\"}], \"histogram2dcontour\": [{\"colorbar\": {\"outlinewidth\": 0, \"ticks\": \"\"}, \"colorscale\": [[0.0, \"#0d0887\"], [0.1111111111111111, \"#46039f\"], [0.2222222222222222, \"#7201a8\"], [0.3333333333333333, \"#9c179e\"], [0.4444444444444444, \"#bd3786\"], [0.5555555555555556, \"#d8576b\"], [0.6666666666666666, \"#ed7953\"], [0.7777777777777778, \"#fb9f3a\"], [0.8888888888888888, \"#fdca26\"], [1.0, \"#f0f921\"]], \"type\": \"histogram2dcontour\"}], \"mesh3d\": [{\"colorbar\": {\"outlinewidth\": 0, \"ticks\": \"\"}, \"type\": \"mesh3d\"}], \"parcoords\": [{\"line\": {\"colorbar\": {\"outlinewidth\": 0, \"ticks\": \"\"}}, \"type\": \"parcoords\"}], \"scatter\": [{\"marker\": {\"colorbar\": {\"outlinewidth\": 0, \"ticks\": \"\"}}, \"type\": \"scatter\"}], \"scatter3d\": [{\"line\": {\"colorbar\": {\"outlinewidth\": 0, \"ticks\": \"\"}}, \"marker\": {\"colorbar\": {\"outlinewidth\": 0, \"ticks\": \"\"}}, \"type\": \"scatter3d\"}], \"scattercarpet\": [{\"marker\": {\"colorbar\": {\"outlinewidth\": 0, \"ticks\": \"\"}}, \"type\": \"scattercarpet\"}], \"scattergeo\": [{\"marker\": {\"colorbar\": {\"outlinewidth\": 0, \"ticks\": \"\"}}, \"type\": \"scattergeo\"}], \"scattergl\": [{\"marker\": {\"colorbar\": {\"outlinewidth\": 0, \"ticks\": \"\"}}, \"type\": \"scattergl\"}], \"scattermapbox\": [{\"marker\": {\"colorbar\": {\"outlinewidth\": 0, \"ticks\": \"\"}}, \"type\": \"scattermapbox\"}], \"scatterpolar\": [{\"marker\": {\"colorbar\": {\"outlinewidth\": 0, \"ticks\": \"\"}}, \"type\": \"scatterpolar\"}], \"scatterpolargl\": [{\"marker\": {\"colorbar\": {\"outlinewidth\": 0, \"ticks\": \"\"}}, \"type\": \"scatterpolargl\"}], \"scatterternary\": [{\"marker\": {\"colorbar\": {\"outlinewidth\": 0, \"ticks\": \"\"}}, \"type\": \"scatterternary\"}], \"surface\": [{\"colorbar\": {\"outlinewidth\": 0, \"ticks\": \"\"}, \"colorscale\": [[0.0, \"#0d0887\"], [0.1111111111111111, \"#46039f\"], [0.2222222222222222, \"#7201a8\"], [0.3333333333333333, \"#9c179e\"], [0.4444444444444444, \"#bd3786\"], [0.5555555555555556, \"#d8576b\"], [0.6666666666666666, \"#ed7953\"], [0.7777777777777778, \"#fb9f3a\"], [0.8888888888888888, \"#fdca26\"], [1.0, \"#f0f921\"]], \"type\": \"surface\"}], \"table\": [{\"cells\": {\"fill\": {\"color\": \"#EBF0F8\"}, \"line\": {\"color\": \"white\"}}, \"header\": {\"fill\": {\"color\": \"#C8D4E3\"}, \"line\": {\"color\": \"white\"}}, \"type\": \"table\"}]}, \"layout\": {\"annotationdefaults\": {\"arrowcolor\": \"#2a3f5f\", \"arrowhead\": 0, \"arrowwidth\": 1}, \"colorscale\": {\"diverging\": [[0, \"#8e0152\"], [0.1, \"#c51b7d\"], [0.2, \"#de77ae\"], [0.3, \"#f1b6da\"], [0.4, \"#fde0ef\"], [0.5, \"#f7f7f7\"], [0.6, \"#e6f5d0\"], [0.7, \"#b8e186\"], [0.8, \"#7fbc41\"], [0.9, \"#4d9221\"], [1, \"#276419\"]], \"sequential\": [[0.0, \"#0d0887\"], [0.1111111111111111, \"#46039f\"], [0.2222222222222222, \"#7201a8\"], [0.3333333333333333, \"#9c179e\"], [0.4444444444444444, \"#bd3786\"], [0.5555555555555556, \"#d8576b\"], [0.6666666666666666, \"#ed7953\"], [0.7777777777777778, \"#fb9f3a\"], [0.8888888888888888, \"#fdca26\"], [1.0, \"#f0f921\"]], \"sequentialminus\": [[0.0, \"#0d0887\"], [0.1111111111111111, \"#46039f\"], [0.2222222222222222, \"#7201a8\"], [0.3333333333333333, \"#9c179e\"], [0.4444444444444444, \"#bd3786\"], [0.5555555555555556, \"#d8576b\"], [0.6666666666666666, \"#ed7953\"], [0.7777777777777778, \"#fb9f3a\"], [0.8888888888888888, \"#fdca26\"], [1.0, \"#f0f921\"]]}, \"colorway\": [\"#636efa\", \"#EF553B\", \"#00cc96\", \"#ab63fa\", \"#FFA15A\", \"#19d3f3\", \"#FF6692\", \"#B6E880\", \"#FF97FF\", \"#FECB52\"], \"font\": {\"color\": \"#2a3f5f\"}, \"geo\": {\"bgcolor\": \"white\", \"lakecolor\": \"white\", \"landcolor\": \"#E5ECF6\", \"showlakes\": true, \"showland\": true, \"subunitcolor\": \"white\"}, \"hoverlabel\": {\"align\": \"left\"}, \"hovermode\": \"closest\", \"mapbox\": {\"style\": \"light\"}, \"paper_bgcolor\": \"white\", \"plot_bgcolor\": \"#E5ECF6\", \"polar\": {\"angularaxis\": {\"gridcolor\": \"white\", \"linecolor\": \"white\", \"ticks\": \"\"}, \"bgcolor\": \"#E5ECF6\", \"radialaxis\": {\"gridcolor\": \"white\", \"linecolor\": \"white\", \"ticks\": \"\"}}, \"scene\": {\"xaxis\": {\"backgroundcolor\": \"#E5ECF6\", \"gridcolor\": \"white\", \"gridwidth\": 2, \"linecolor\": \"white\", \"showbackground\": true, \"ticks\": \"\", \"zerolinecolor\": \"white\"}, \"yaxis\": {\"backgroundcolor\": \"#E5ECF6\", \"gridcolor\": \"white\", \"gridwidth\": 2, \"linecolor\": \"white\", \"showbackground\": true, \"ticks\": \"\", \"zerolinecolor\": \"white\"}, \"zaxis\": {\"backgroundcolor\": \"#E5ECF6\", \"gridcolor\": \"white\", \"gridwidth\": 2, \"linecolor\": \"white\", \"showbackground\": true, \"ticks\": \"\", \"zerolinecolor\": \"white\"}}, \"shapedefaults\": {\"line\": {\"color\": \"#2a3f5f\"}}, \"ternary\": {\"aaxis\": {\"gridcolor\": \"white\", \"linecolor\": \"white\", \"ticks\": \"\"}, \"baxis\": {\"gridcolor\": \"white\", \"linecolor\": \"white\", \"ticks\": \"\"}, \"bgcolor\": \"#E5ECF6\", \"caxis\": {\"gridcolor\": \"white\", \"linecolor\": \"white\", \"ticks\": \"\"}}, \"title\": {\"x\": 0.05}, \"xaxis\": {\"automargin\": true, \"gridcolor\": \"white\", \"linecolor\": \"white\", \"ticks\": \"\", \"zerolinecolor\": \"white\", \"zerolinewidth\": 2}, \"yaxis\": {\"automargin\": true, \"gridcolor\": \"white\", \"linecolor\": \"white\", \"ticks\": \"\", \"zerolinecolor\": \"white\", \"zerolinewidth\": 2}}}, \"xaxis\": {\"linecolor\": \"black\", \"linewidth\": 2, \"showline\": true, \"tickangle\": 65, \"ticklen\": 5, \"tickmode\": \"array\", \"ticks\": \"inside\", \"ticktext\": [\"Q\", \"AKD\", \"FS\", \"0.1\", \"0.2\", \"0.3\", \"0.4\", \"0.5\", \"0.6\", \"0.7\", \"0.8\", \"0.9\", \"1.0\"], \"tickvals\": [-0.2, -0.1, -0.0, \"0.1\", \"0.2\", \"0.3\", \"0.4\", \"0.5\", \"0.6\", \"0.7\", \"0.8\", \"0.9\", \"1.0\"], \"zeroline\": true}, \"yaxis\": {\"dtick\": 0.5, \"gridcolor\": \"lightgrey\", \"gridwidth\": 1, \"linecolor\": \"black\", \"linewidth\": 2, \"rangemode\": \"tozero\", \"showgrid\": true, \"showline\": true, \"ticklen\": 5, \"tickmode\": \"linear\", \"ticks\": \"inside\", \"title\": {\"text\": \"First Query Cost [s]\"}, \"zeroline\": false, \"zerolinecolor\": \"rgba(0, 0, 0, 0)\"}},\n",
       "                        {\"responsive\": true}\n",
       "                    ).then(function(){\n",
       "                            \n",
       "var gd = document.getElementById('d042c476-0f88-4962-8f96-cbbabbfc6a5a');\n",
       "var x = new MutationObserver(function (mutations, observer) {{\n",
       "        var display = window.getComputedStyle(gd).display;\n",
       "        if (!display || display === 'none') {{\n",
       "            console.log([gd, 'removed!']);\n",
       "            Plotly.purge(gd);\n",
       "            observer.disconnect();\n",
       "        }}\n",
       "}});\n",
       "\n",
       "// Listen for the removal of the full notebook cells\n",
       "var notebookContainer = gd.closest('#notebook-container');\n",
       "if (notebookContainer) {{\n",
       "    x.observe(notebookContainer, {childList: true});\n",
       "}}\n",
       "\n",
       "// Listen for the clearing of the current output cell\n",
       "var outputEl = gd.closest('.output');\n",
       "if (outputEl) {{\n",
       "    x.observe(outputEl, {childList: true});\n",
       "}}\n",
       "\n",
       "                        })\n",
       "                };\n",
       "                });\n",
       "            </script>\n",
       "        </div>"
      ]
     },
     "metadata": {},
     "output_type": "display_data"
    }
   ],
   "source": [
    "fig = create_figure()\n",
    "\n",
    "cols = [8, 6, 4, 2]\n",
    "markers = delta_markers\n",
    "colors = ['rgba(168, 50, 119, 1)', 'rgba(235, 7, 7, 1)', 'rgba(54, 50, 168, 1)', 'rgba(1, 140, 22, 1)']\n",
    "markers = delta_markers\n",
    "\n",
    "lines = []\n",
    "shapes = []\n",
    "\n",
    "for i, marker, color in zip(cols, markers, colors):\n",
    "\n",
    "    fq_times = []\n",
    "    for d in deltas:\n",
    "        fq_times.append(get_first_query(read(f'ProgressiveIndex_{d}', f'Uniform{i}')))\n",
    "    lines.append(\n",
    "        go.Scatter(\n",
    "            name=f'{i} cols',\n",
    "            x=deltas,\n",
    "            y=fq_times,\n",
    "            mode='lines+markers',\n",
    "            marker=dict(\n",
    "                size=18,\n",
    "                symbol=marker\n",
    "            ),\n",
    "            marker_color=color\n",
    "        )\n",
    "    )\n",
    "    \n",
    "    # add other indices values\n",
    "    \n",
    "    lines.append(\n",
    "        go.Scatter(\n",
    "            name=f'{i}FullScan',\n",
    "            x=[-0.0],\n",
    "            y=[get_first_query(read(f'FullScan', f'Uniform{i}'))],\n",
    "            mode='markers',\n",
    "            marker_color=color,\n",
    "            marker=dict(\n",
    "                size=18,\n",
    "                symbol=marker\n",
    "            ),\n",
    "            showlegend=False\n",
    "        )\n",
    "    )\n",
    "    \n",
    "    lines.append(\n",
    "        go.Scatter(\n",
    "            name=f'{i}AKD',\n",
    "            x=[-0.1],\n",
    "            y=[get_first_query(read(f'CrackingKDTree' ,f'Uniform{i}'))],\n",
    "            mode='markers',\n",
    "            marker_color=color,\n",
    "            marker=dict(\n",
    "                size=18,\n",
    "                symbol=marker\n",
    "            ),\n",
    "            showlegend=False\n",
    "        )\n",
    "    )\n",
    "    \n",
    "    lines.append(\n",
    "        go.Scatter(\n",
    "            name=f'{i}Quasii',\n",
    "            x=[-0.2],\n",
    "            y=[get_first_query(read(f'Quasii' ,f'Uniform{i}'))],\n",
    "            mode='markers',\n",
    "            marker_color=color,\n",
    "            marker=dict(\n",
    "                size=18,\n",
    "                symbol=marker\n",
    "            ),\n",
    "            showlegend=False\n",
    "        )\n",
    "    )\n",
    "\n",
    "# add line at 0.2 delta\n",
    "shapes.append(\n",
    "    dict(\n",
    "        type= 'line',\n",
    "        yref=\"paper\", y0= 0, y1=1,\n",
    "        x0= 0.2, x1=0.2,\n",
    "        opacity=0.3,\n",
    "        line=dict(\n",
    "            width=4,\n",
    "            dash=\"dot\",\n",
    "        )\n",
    "    )\n",
    ")\n",
    "\n",
    "fig.add_traces(data=lines)\n",
    "fig.update_layout(showlegend=True, yaxis_title='First Query Cost [s]', shapes=shapes)\n",
    "fig.update_xaxes(tickangle=65)\n",
    "fig.update_layout(\n",
    "#     xaxis=dict(\n",
    "#         tickmode = 'linear',\n",
    "#         tick0 = 0.0,\n",
    "#         dtick = 0.1\n",
    "#     )\n",
    "    xaxis = dict(\n",
    "        tickmode = 'array',\n",
    "        tickvals = [-0.2, -0.1, -0.0] + deltas,\n",
    "        ticktext = ['Q', 'AKD', 'FS'] + deltas\n",
    "    ),\n",
    "    yaxis= dict(\n",
    "        tickmode ='linear',\n",
    "        dtick=0.5\n",
    "#         tickvals = [0, 0.5, 1, 1.5, 2, 2.5, 3],\n",
    "#         ticktext = [0, 0.5, 1, 1.5, 2, 2.5, 3]\n",
    "    ),\n",
    "    annotations=[\n",
    "        dict(\n",
    "            x=0.5,\n",
    "            y=-0.35,\n",
    "            text=\"(PKD) Delta\",\n",
    "            xref=\"x\",\n",
    "            yref=\"paper\",\n",
    "        )\n",
    "    ],\n",
    "    autosize=True,\n",
    "    margin=dict(\n",
    "        b=180\n",
    "    ),\n",
    ")\n",
    "fig.update_yaxes(rangemode=\"tozero\")\n",
    "fig"
   ]
  },
  {
   "cell_type": "markdown",
   "metadata": {},
   "source": [
    "# Payoff"
   ]
  },
  {
   "cell_type": "code",
   "execution_count": 49,
   "metadata": {},
   "outputs": [
    {
     "data": {
      "application/vnd.plotly.v1+json": {
       "config": {
        "plotlyServerURL": "https://plot.ly"
       },
       "data": [
        {
         "marker": {
          "color": "rgba(168, 50, 119, 1)",
          "size": 18,
          "symbol": "circle"
         },
         "mode": "lines+markers",
         "name": "8 cols",
         "type": "scatter",
         "x": [
          "0.1",
          "0.2",
          "0.3",
          "0.4",
          "0.5",
          "0.6",
          "0.7",
          "0.8",
          "0.9",
          "1.0"
         ],
         "y": [
          49,
          35,
          33,
          28,
          25,
          23,
          23,
          21,
          21,
          21
         ]
        },
        {
         "marker": {
          "color": "rgba(168, 50, 119, 1)",
          "size": 18,
          "symbol": "diamond"
         },
         "mode": "markers",
         "name": "8AKD",
         "showlegend": false,
         "type": "scatter",
         "x": [
          0
         ],
         "y": [
          7
         ]
        },
        {
         "marker": {
          "color": "rgba(168, 50, 119, 1)",
          "size": 18,
          "symbol": "circle"
         },
         "mode": "markers",
         "name": "8Quasii",
         "showlegend": false,
         "type": "scatter",
         "x": [
          -0.1
         ],
         "y": [
          12
         ]
        },
        {
         "marker": {
          "color": "rgba(168, 50, 119, 1)",
          "size": 18,
          "symbol": "circle"
         },
         "mode": "markers",
         "name": "8AvgKD",
         "showlegend": false,
         "type": "scatter",
         "x": [
          -0.2
         ],
         "y": [
          14
         ]
        },
        {
         "marker": {
          "color": "rgba(168, 50, 119, 1)",
          "size": 18,
          "symbol": "circle"
         },
         "mode": "markers",
         "name": "8MedKD",
         "showlegend": false,
         "type": "scatter",
         "x": [
          -0.3
         ],
         "y": [
          24
         ]
        },
        {
         "marker": {
          "color": "rgba(235, 7, 7, 1)",
          "size": 18,
          "symbol": "square"
         },
         "mode": "lines+markers",
         "name": "6 cols",
         "type": "scatter",
         "x": [
          "0.1",
          "0.2",
          "0.3",
          "0.4",
          "0.5",
          "0.6",
          "0.7",
          "0.8",
          "0.9",
          "1.0"
         ],
         "y": [
          31,
          22,
          21,
          21,
          21,
          20,
          20,
          19,
          19,
          19
         ]
        },
        {
         "marker": {
          "color": "rgba(235, 7, 7, 1)",
          "size": 18,
          "symbol": "diamond"
         },
         "mode": "markers",
         "name": "6AKD",
         "showlegend": false,
         "type": "scatter",
         "x": [
          0
         ],
         "y": [
          6
         ]
        },
        {
         "marker": {
          "color": "rgba(235, 7, 7, 1)",
          "size": 18,
          "symbol": "square"
         },
         "mode": "markers",
         "name": "6Quasii",
         "showlegend": false,
         "type": "scatter",
         "x": [
          -0.1
         ],
         "y": [
          9
         ]
        },
        {
         "marker": {
          "color": "rgba(235, 7, 7, 1)",
          "size": 18,
          "symbol": "square"
         },
         "mode": "markers",
         "name": "6AvgKD",
         "showlegend": false,
         "type": "scatter",
         "x": [
          -0.2
         ],
         "y": [
          14
         ]
        },
        {
         "marker": {
          "color": "rgba(235, 7, 7, 1)",
          "size": 18,
          "symbol": "square"
         },
         "mode": "markers",
         "name": "6MedKD",
         "showlegend": false,
         "type": "scatter",
         "x": [
          -0.3
         ],
         "y": [
          25
         ]
        },
        {
         "marker": {
          "color": "rgba(54, 50, 168, 1)",
          "size": 18,
          "symbol": "x"
         },
         "mode": "lines+markers",
         "name": "4 cols",
         "type": "scatter",
         "x": [
          "0.1",
          "0.2",
          "0.3",
          "0.4",
          "0.5",
          "0.6",
          "0.7",
          "0.8",
          "0.9",
          "1.0"
         ],
         "y": [
          9,
          11,
          11,
          12,
          14,
          17,
          16,
          16,
          15,
          15
         ]
        },
        {
         "marker": {
          "color": "rgba(54, 50, 168, 1)",
          "size": 18,
          "symbol": "diamond"
         },
         "mode": "markers",
         "name": "4AKD",
         "showlegend": false,
         "type": "scatter",
         "x": [
          0
         ],
         "y": [
          5
         ]
        },
        {
         "marker": {
          "color": "rgba(54, 50, 168, 1)",
          "size": 18,
          "symbol": "x"
         },
         "mode": "markers",
         "name": "4Quasii",
         "showlegend": false,
         "type": "scatter",
         "x": [
          -0.1
         ],
         "y": [
          9
         ]
        },
        {
         "marker": {
          "color": "rgba(54, 50, 168, 1)",
          "size": 18,
          "symbol": "x"
         },
         "mode": "markers",
         "name": "4AvgKD",
         "showlegend": false,
         "type": "scatter",
         "x": [
          -0.2
         ],
         "y": [
          14
         ]
        },
        {
         "marker": {
          "color": "rgba(54, 50, 168, 1)",
          "size": 18,
          "symbol": "x"
         },
         "mode": "markers",
         "name": "4MedKD",
         "showlegend": false,
         "type": "scatter",
         "x": [
          -0.3
         ],
         "y": [
          27
         ]
        },
        {
         "marker": {
          "color": "rgba(1, 140, 22, 1)",
          "size": 18,
          "symbol": "star"
         },
         "mode": "lines+markers",
         "name": "2 cols",
         "type": "scatter",
         "x": [
          "0.1",
          "0.2",
          "0.3",
          "0.4",
          "0.5",
          "0.6",
          "0.7",
          "0.8",
          "0.9",
          "1.0"
         ],
         "y": [
          8,
          6,
          7,
          8,
          15,
          18,
          18,
          18,
          18,
          17
         ]
        },
        {
         "marker": {
          "color": "rgba(1, 140, 22, 1)",
          "size": 18,
          "symbol": "diamond"
         },
         "mode": "markers",
         "name": "2AKD",
         "showlegend": false,
         "type": "scatter",
         "x": [
          0
         ],
         "y": [
          3
         ]
        },
        {
         "marker": {
          "color": "rgba(1, 140, 22, 1)",
          "size": 18,
          "symbol": "star"
         },
         "mode": "markers",
         "name": "2Quasii",
         "showlegend": false,
         "type": "scatter",
         "x": [
          -0.1
         ],
         "y": [
          13
         ]
        },
        {
         "marker": {
          "color": "rgba(1, 140, 22, 1)",
          "size": 18,
          "symbol": "star"
         },
         "mode": "markers",
         "name": "2AvgKD",
         "showlegend": false,
         "type": "scatter",
         "x": [
          -0.2
         ],
         "y": [
          19
         ]
        },
        {
         "marker": {
          "color": "rgba(1, 140, 22, 1)",
          "size": 18,
          "symbol": "star"
         },
         "mode": "markers",
         "name": "2MedKD",
         "showlegend": false,
         "type": "scatter",
         "x": [
          -0.3
         ],
         "y": [
          39
         ]
        }
       ],
       "layout": {
        "annotations": [
         {
          "text": "(PKD) Delta",
          "x": 0.5,
          "xref": "x",
          "y": -0.35,
          "yref": "paper"
         }
        ],
        "autosize": true,
        "font": {
         "size": 42
        },
        "legend": {
         "font": {
          "color": "black",
          "size": 30
         }
        },
        "margin": {
         "b": 190
        },
        "plot_bgcolor": "rgba(0, 0, 0, 0)",
        "shapes": [
         {
          "line": {
           "dash": "dot",
           "width": 4
          },
          "opacity": 0.3,
          "type": "line",
          "x0": 0.2,
          "x1": 0.2,
          "y0": 0,
          "y1": 1,
          "yref": "paper"
         }
        ],
        "showlegend": true,
        "template": {
         "data": {
          "bar": [
           {
            "error_x": {
             "color": "#2a3f5f"
            },
            "error_y": {
             "color": "#2a3f5f"
            },
            "marker": {
             "line": {
              "color": "#E5ECF6",
              "width": 0.5
             }
            },
            "type": "bar"
           }
          ],
          "barpolar": [
           {
            "marker": {
             "line": {
              "color": "#E5ECF6",
              "width": 0.5
             }
            },
            "type": "barpolar"
           }
          ],
          "carpet": [
           {
            "aaxis": {
             "endlinecolor": "#2a3f5f",
             "gridcolor": "white",
             "linecolor": "white",
             "minorgridcolor": "white",
             "startlinecolor": "#2a3f5f"
            },
            "baxis": {
             "endlinecolor": "#2a3f5f",
             "gridcolor": "white",
             "linecolor": "white",
             "minorgridcolor": "white",
             "startlinecolor": "#2a3f5f"
            },
            "type": "carpet"
           }
          ],
          "choropleth": [
           {
            "colorbar": {
             "outlinewidth": 0,
             "ticks": ""
            },
            "type": "choropleth"
           }
          ],
          "contour": [
           {
            "colorbar": {
             "outlinewidth": 0,
             "ticks": ""
            },
            "colorscale": [
             [
              0,
              "#0d0887"
             ],
             [
              0.1111111111111111,
              "#46039f"
             ],
             [
              0.2222222222222222,
              "#7201a8"
             ],
             [
              0.3333333333333333,
              "#9c179e"
             ],
             [
              0.4444444444444444,
              "#bd3786"
             ],
             [
              0.5555555555555556,
              "#d8576b"
             ],
             [
              0.6666666666666666,
              "#ed7953"
             ],
             [
              0.7777777777777778,
              "#fb9f3a"
             ],
             [
              0.8888888888888888,
              "#fdca26"
             ],
             [
              1,
              "#f0f921"
             ]
            ],
            "type": "contour"
           }
          ],
          "contourcarpet": [
           {
            "colorbar": {
             "outlinewidth": 0,
             "ticks": ""
            },
            "type": "contourcarpet"
           }
          ],
          "heatmap": [
           {
            "colorbar": {
             "outlinewidth": 0,
             "ticks": ""
            },
            "colorscale": [
             [
              0,
              "#0d0887"
             ],
             [
              0.1111111111111111,
              "#46039f"
             ],
             [
              0.2222222222222222,
              "#7201a8"
             ],
             [
              0.3333333333333333,
              "#9c179e"
             ],
             [
              0.4444444444444444,
              "#bd3786"
             ],
             [
              0.5555555555555556,
              "#d8576b"
             ],
             [
              0.6666666666666666,
              "#ed7953"
             ],
             [
              0.7777777777777778,
              "#fb9f3a"
             ],
             [
              0.8888888888888888,
              "#fdca26"
             ],
             [
              1,
              "#f0f921"
             ]
            ],
            "type": "heatmap"
           }
          ],
          "heatmapgl": [
           {
            "colorbar": {
             "outlinewidth": 0,
             "ticks": ""
            },
            "colorscale": [
             [
              0,
              "#0d0887"
             ],
             [
              0.1111111111111111,
              "#46039f"
             ],
             [
              0.2222222222222222,
              "#7201a8"
             ],
             [
              0.3333333333333333,
              "#9c179e"
             ],
             [
              0.4444444444444444,
              "#bd3786"
             ],
             [
              0.5555555555555556,
              "#d8576b"
             ],
             [
              0.6666666666666666,
              "#ed7953"
             ],
             [
              0.7777777777777778,
              "#fb9f3a"
             ],
             [
              0.8888888888888888,
              "#fdca26"
             ],
             [
              1,
              "#f0f921"
             ]
            ],
            "type": "heatmapgl"
           }
          ],
          "histogram": [
           {
            "marker": {
             "colorbar": {
              "outlinewidth": 0,
              "ticks": ""
             }
            },
            "type": "histogram"
           }
          ],
          "histogram2d": [
           {
            "colorbar": {
             "outlinewidth": 0,
             "ticks": ""
            },
            "colorscale": [
             [
              0,
              "#0d0887"
             ],
             [
              0.1111111111111111,
              "#46039f"
             ],
             [
              0.2222222222222222,
              "#7201a8"
             ],
             [
              0.3333333333333333,
              "#9c179e"
             ],
             [
              0.4444444444444444,
              "#bd3786"
             ],
             [
              0.5555555555555556,
              "#d8576b"
             ],
             [
              0.6666666666666666,
              "#ed7953"
             ],
             [
              0.7777777777777778,
              "#fb9f3a"
             ],
             [
              0.8888888888888888,
              "#fdca26"
             ],
             [
              1,
              "#f0f921"
             ]
            ],
            "type": "histogram2d"
           }
          ],
          "histogram2dcontour": [
           {
            "colorbar": {
             "outlinewidth": 0,
             "ticks": ""
            },
            "colorscale": [
             [
              0,
              "#0d0887"
             ],
             [
              0.1111111111111111,
              "#46039f"
             ],
             [
              0.2222222222222222,
              "#7201a8"
             ],
             [
              0.3333333333333333,
              "#9c179e"
             ],
             [
              0.4444444444444444,
              "#bd3786"
             ],
             [
              0.5555555555555556,
              "#d8576b"
             ],
             [
              0.6666666666666666,
              "#ed7953"
             ],
             [
              0.7777777777777778,
              "#fb9f3a"
             ],
             [
              0.8888888888888888,
              "#fdca26"
             ],
             [
              1,
              "#f0f921"
             ]
            ],
            "type": "histogram2dcontour"
           }
          ],
          "mesh3d": [
           {
            "colorbar": {
             "outlinewidth": 0,
             "ticks": ""
            },
            "type": "mesh3d"
           }
          ],
          "parcoords": [
           {
            "line": {
             "colorbar": {
              "outlinewidth": 0,
              "ticks": ""
             }
            },
            "type": "parcoords"
           }
          ],
          "scatter": [
           {
            "marker": {
             "colorbar": {
              "outlinewidth": 0,
              "ticks": ""
             }
            },
            "type": "scatter"
           }
          ],
          "scatter3d": [
           {
            "line": {
             "colorbar": {
              "outlinewidth": 0,
              "ticks": ""
             }
            },
            "marker": {
             "colorbar": {
              "outlinewidth": 0,
              "ticks": ""
             }
            },
            "type": "scatter3d"
           }
          ],
          "scattercarpet": [
           {
            "marker": {
             "colorbar": {
              "outlinewidth": 0,
              "ticks": ""
             }
            },
            "type": "scattercarpet"
           }
          ],
          "scattergeo": [
           {
            "marker": {
             "colorbar": {
              "outlinewidth": 0,
              "ticks": ""
             }
            },
            "type": "scattergeo"
           }
          ],
          "scattergl": [
           {
            "marker": {
             "colorbar": {
              "outlinewidth": 0,
              "ticks": ""
             }
            },
            "type": "scattergl"
           }
          ],
          "scattermapbox": [
           {
            "marker": {
             "colorbar": {
              "outlinewidth": 0,
              "ticks": ""
             }
            },
            "type": "scattermapbox"
           }
          ],
          "scatterpolar": [
           {
            "marker": {
             "colorbar": {
              "outlinewidth": 0,
              "ticks": ""
             }
            },
            "type": "scatterpolar"
           }
          ],
          "scatterpolargl": [
           {
            "marker": {
             "colorbar": {
              "outlinewidth": 0,
              "ticks": ""
             }
            },
            "type": "scatterpolargl"
           }
          ],
          "scatterternary": [
           {
            "marker": {
             "colorbar": {
              "outlinewidth": 0,
              "ticks": ""
             }
            },
            "type": "scatterternary"
           }
          ],
          "surface": [
           {
            "colorbar": {
             "outlinewidth": 0,
             "ticks": ""
            },
            "colorscale": [
             [
              0,
              "#0d0887"
             ],
             [
              0.1111111111111111,
              "#46039f"
             ],
             [
              0.2222222222222222,
              "#7201a8"
             ],
             [
              0.3333333333333333,
              "#9c179e"
             ],
             [
              0.4444444444444444,
              "#bd3786"
             ],
             [
              0.5555555555555556,
              "#d8576b"
             ],
             [
              0.6666666666666666,
              "#ed7953"
             ],
             [
              0.7777777777777778,
              "#fb9f3a"
             ],
             [
              0.8888888888888888,
              "#fdca26"
             ],
             [
              1,
              "#f0f921"
             ]
            ],
            "type": "surface"
           }
          ],
          "table": [
           {
            "cells": {
             "fill": {
              "color": "#EBF0F8"
             },
             "line": {
              "color": "white"
             }
            },
            "header": {
             "fill": {
              "color": "#C8D4E3"
             },
             "line": {
              "color": "white"
             }
            },
            "type": "table"
           }
          ]
         },
         "layout": {
          "annotationdefaults": {
           "arrowcolor": "#2a3f5f",
           "arrowhead": 0,
           "arrowwidth": 1
          },
          "colorscale": {
           "diverging": [
            [
             0,
             "#8e0152"
            ],
            [
             0.1,
             "#c51b7d"
            ],
            [
             0.2,
             "#de77ae"
            ],
            [
             0.3,
             "#f1b6da"
            ],
            [
             0.4,
             "#fde0ef"
            ],
            [
             0.5,
             "#f7f7f7"
            ],
            [
             0.6,
             "#e6f5d0"
            ],
            [
             0.7,
             "#b8e186"
            ],
            [
             0.8,
             "#7fbc41"
            ],
            [
             0.9,
             "#4d9221"
            ],
            [
             1,
             "#276419"
            ]
           ],
           "sequential": [
            [
             0,
             "#0d0887"
            ],
            [
             0.1111111111111111,
             "#46039f"
            ],
            [
             0.2222222222222222,
             "#7201a8"
            ],
            [
             0.3333333333333333,
             "#9c179e"
            ],
            [
             0.4444444444444444,
             "#bd3786"
            ],
            [
             0.5555555555555556,
             "#d8576b"
            ],
            [
             0.6666666666666666,
             "#ed7953"
            ],
            [
             0.7777777777777778,
             "#fb9f3a"
            ],
            [
             0.8888888888888888,
             "#fdca26"
            ],
            [
             1,
             "#f0f921"
            ]
           ],
           "sequentialminus": [
            [
             0,
             "#0d0887"
            ],
            [
             0.1111111111111111,
             "#46039f"
            ],
            [
             0.2222222222222222,
             "#7201a8"
            ],
            [
             0.3333333333333333,
             "#9c179e"
            ],
            [
             0.4444444444444444,
             "#bd3786"
            ],
            [
             0.5555555555555556,
             "#d8576b"
            ],
            [
             0.6666666666666666,
             "#ed7953"
            ],
            [
             0.7777777777777778,
             "#fb9f3a"
            ],
            [
             0.8888888888888888,
             "#fdca26"
            ],
            [
             1,
             "#f0f921"
            ]
           ]
          },
          "colorway": [
           "#636efa",
           "#EF553B",
           "#00cc96",
           "#ab63fa",
           "#FFA15A",
           "#19d3f3",
           "#FF6692",
           "#B6E880",
           "#FF97FF",
           "#FECB52"
          ],
          "font": {
           "color": "#2a3f5f"
          },
          "geo": {
           "bgcolor": "white",
           "lakecolor": "white",
           "landcolor": "#E5ECF6",
           "showlakes": true,
           "showland": true,
           "subunitcolor": "white"
          },
          "hoverlabel": {
           "align": "left"
          },
          "hovermode": "closest",
          "mapbox": {
           "style": "light"
          },
          "paper_bgcolor": "white",
          "plot_bgcolor": "#E5ECF6",
          "polar": {
           "angularaxis": {
            "gridcolor": "white",
            "linecolor": "white",
            "ticks": ""
           },
           "bgcolor": "#E5ECF6",
           "radialaxis": {
            "gridcolor": "white",
            "linecolor": "white",
            "ticks": ""
           }
          },
          "scene": {
           "xaxis": {
            "backgroundcolor": "#E5ECF6",
            "gridcolor": "white",
            "gridwidth": 2,
            "linecolor": "white",
            "showbackground": true,
            "ticks": "",
            "zerolinecolor": "white"
           },
           "yaxis": {
            "backgroundcolor": "#E5ECF6",
            "gridcolor": "white",
            "gridwidth": 2,
            "linecolor": "white",
            "showbackground": true,
            "ticks": "",
            "zerolinecolor": "white"
           },
           "zaxis": {
            "backgroundcolor": "#E5ECF6",
            "gridcolor": "white",
            "gridwidth": 2,
            "linecolor": "white",
            "showbackground": true,
            "ticks": "",
            "zerolinecolor": "white"
           }
          },
          "shapedefaults": {
           "line": {
            "color": "#2a3f5f"
           }
          },
          "ternary": {
           "aaxis": {
            "gridcolor": "white",
            "linecolor": "white",
            "ticks": ""
           },
           "baxis": {
            "gridcolor": "white",
            "linecolor": "white",
            "ticks": ""
           },
           "bgcolor": "#E5ECF6",
           "caxis": {
            "gridcolor": "white",
            "linecolor": "white",
            "ticks": ""
           }
          },
          "title": {
           "x": 0.05
          },
          "xaxis": {
           "automargin": true,
           "gridcolor": "white",
           "linecolor": "white",
           "ticks": "",
           "zerolinecolor": "white",
           "zerolinewidth": 2
          },
          "yaxis": {
           "automargin": true,
           "gridcolor": "white",
           "linecolor": "white",
           "ticks": "",
           "zerolinecolor": "white",
           "zerolinewidth": 2
          }
         }
        },
        "xaxis": {
         "autorange": true,
         "linecolor": "black",
         "linewidth": 2,
         "range": [
          -0.3900460677854557,
          1.0900460677854558
         ],
         "showline": true,
         "tickangle": 65,
         "ticklen": 5,
         "tickmode": "array",
         "ticks": "inside",
         "ticktext": [
          "MedKD",
          "AvgKD",
          "Q",
          "AKD",
          "0.1",
          "0.2",
          "0.3",
          "0.4",
          "0.5",
          "0.6",
          "0.7",
          "0.8",
          "0.9",
          "1.0"
         ],
         "tickvals": [
          -0.3,
          -0.2,
          -0.1,
          0,
          "0.1",
          "0.2",
          "0.3",
          "0.4",
          "0.5",
          "0.6",
          "0.7",
          "0.8",
          "0.9",
          "1.0"
         ],
         "type": "linear",
         "zeroline": true
        },
        "yaxis": {
         "autorange": true,
         "gridcolor": "lightgrey",
         "gridwidth": 1,
         "linecolor": "black",
         "linewidth": 2,
         "range": [
          -4.288065843621399,
          56.288065843621396
         ],
         "showgrid": true,
         "showline": true,
         "ticklen": 5,
         "ticks": "inside",
         "title": {
          "text": "#Queries"
         },
         "type": "linear",
         "zeroline": false,
         "zerolinecolor": "rgba(0, 0, 0, 0)"
        }
       }
      },
      "image/png": "[encoded data removed]",
      "text/html": [
       "<div>\n",
       "        \n",
       "        \n",
       "            <div id=\"eb53dd33-bb9d-42d6-9b21-750f7e7b071e\" class=\"plotly-graph-div\" style=\"height:525px; width:100%;\"></div>\n",
       "            <script type=\"text/javascript\">\n",
       "                require([\"plotly\"], function(Plotly) {\n",
       "                    window.PLOTLYENV=window.PLOTLYENV || {};\n",
       "                    \n",
       "                if (document.getElementById(\"eb53dd33-bb9d-42d6-9b21-750f7e7b071e\")) {\n",
       "                    Plotly.newPlot(\n",
       "                        'eb53dd33-bb9d-42d6-9b21-750f7e7b071e',\n",
       "                        [{\"marker\": {\"color\": \"rgba(168, 50, 119, 1)\", \"size\": 18, \"symbol\": \"circle\"}, \"mode\": \"lines+markers\", \"name\": \"8 cols\", \"type\": \"scatter\", \"x\": [\"0.1\", \"0.2\", \"0.3\", \"0.4\", \"0.5\", \"0.6\", \"0.7\", \"0.8\", \"0.9\", \"1.0\"], \"y\": [49, 35, 33, 28, 25, 23, 23, 21, 21, 21]}, {\"marker\": {\"color\": \"rgba(168, 50, 119, 1)\", \"size\": 18, \"symbol\": \"diamond\"}, \"mode\": \"markers\", \"name\": \"8AKD\", \"showlegend\": false, \"type\": \"scatter\", \"x\": [-0.0], \"y\": [7]}, {\"marker\": {\"color\": \"rgba(168, 50, 119, 1)\", \"size\": 18, \"symbol\": \"circle\"}, \"mode\": \"markers\", \"name\": \"8Quasii\", \"showlegend\": false, \"type\": \"scatter\", \"x\": [-0.1], \"y\": [12]}, {\"marker\": {\"color\": \"rgba(168, 50, 119, 1)\", \"size\": 18, \"symbol\": \"circle\"}, \"mode\": \"markers\", \"name\": \"8AvgKD\", \"showlegend\": false, \"type\": \"scatter\", \"x\": [-0.2], \"y\": [14]}, {\"marker\": {\"color\": \"rgba(168, 50, 119, 1)\", \"size\": 18, \"symbol\": \"circle\"}, \"mode\": \"markers\", \"name\": \"8MedKD\", \"showlegend\": false, \"type\": \"scatter\", \"x\": [-0.3], \"y\": [24]}, {\"marker\": {\"color\": \"rgba(235, 7, 7, 1)\", \"size\": 18, \"symbol\": \"square\"}, \"mode\": \"lines+markers\", \"name\": \"6 cols\", \"type\": \"scatter\", \"x\": [\"0.1\", \"0.2\", \"0.3\", \"0.4\", \"0.5\", \"0.6\", \"0.7\", \"0.8\", \"0.9\", \"1.0\"], \"y\": [31, 22, 21, 21, 21, 20, 20, 19, 19, 19]}, {\"marker\": {\"color\": \"rgba(235, 7, 7, 1)\", \"size\": 18, \"symbol\": \"diamond\"}, \"mode\": \"markers\", \"name\": \"6AKD\", \"showlegend\": false, \"type\": \"scatter\", \"x\": [-0.0], \"y\": [6]}, {\"marker\": {\"color\": \"rgba(235, 7, 7, 1)\", \"size\": 18, \"symbol\": \"square\"}, \"mode\": \"markers\", \"name\": \"6Quasii\", \"showlegend\": false, \"type\": \"scatter\", \"x\": [-0.1], \"y\": [9]}, {\"marker\": {\"color\": \"rgba(235, 7, 7, 1)\", \"size\": 18, \"symbol\": \"square\"}, \"mode\": \"markers\", \"name\": \"6AvgKD\", \"showlegend\": false, \"type\": \"scatter\", \"x\": [-0.2], \"y\": [14]}, {\"marker\": {\"color\": \"rgba(235, 7, 7, 1)\", \"size\": 18, \"symbol\": \"square\"}, \"mode\": \"markers\", \"name\": \"6MedKD\", \"showlegend\": false, \"type\": \"scatter\", \"x\": [-0.3], \"y\": [25]}, {\"marker\": {\"color\": \"rgba(54, 50, 168, 1)\", \"size\": 18, \"symbol\": \"x\"}, \"mode\": \"lines+markers\", \"name\": \"4 cols\", \"type\": \"scatter\", \"x\": [\"0.1\", \"0.2\", \"0.3\", \"0.4\", \"0.5\", \"0.6\", \"0.7\", \"0.8\", \"0.9\", \"1.0\"], \"y\": [9, 11, 11, 12, 14, 17, 16, 16, 15, 15]}, {\"marker\": {\"color\": \"rgba(54, 50, 168, 1)\", \"size\": 18, \"symbol\": \"diamond\"}, \"mode\": \"markers\", \"name\": \"4AKD\", \"showlegend\": false, \"type\": \"scatter\", \"x\": [-0.0], \"y\": [5]}, {\"marker\": {\"color\": \"rgba(54, 50, 168, 1)\", \"size\": 18, \"symbol\": \"x\"}, \"mode\": \"markers\", \"name\": \"4Quasii\", \"showlegend\": false, \"type\": \"scatter\", \"x\": [-0.1], \"y\": [9]}, {\"marker\": {\"color\": \"rgba(54, 50, 168, 1)\", \"size\": 18, \"symbol\": \"x\"}, \"mode\": \"markers\", \"name\": \"4AvgKD\", \"showlegend\": false, \"type\": \"scatter\", \"x\": [-0.2], \"y\": [14]}, {\"marker\": {\"color\": \"rgba(54, 50, 168, 1)\", \"size\": 18, \"symbol\": \"x\"}, \"mode\": \"markers\", \"name\": \"4MedKD\", \"showlegend\": false, \"type\": \"scatter\", \"x\": [-0.3], \"y\": [27]}, {\"marker\": {\"color\": \"rgba(1, 140, 22, 1)\", \"size\": 18, \"symbol\": \"star\"}, \"mode\": \"lines+markers\", \"name\": \"2 cols\", \"type\": \"scatter\", \"x\": [\"0.1\", \"0.2\", \"0.3\", \"0.4\", \"0.5\", \"0.6\", \"0.7\", \"0.8\", \"0.9\", \"1.0\"], \"y\": [8, 6, 7, 8, 15, 18, 18, 18, 18, 17]}, {\"marker\": {\"color\": \"rgba(1, 140, 22, 1)\", \"size\": 18, \"symbol\": \"diamond\"}, \"mode\": \"markers\", \"name\": \"2AKD\", \"showlegend\": false, \"type\": \"scatter\", \"x\": [-0.0], \"y\": [3]}, {\"marker\": {\"color\": \"rgba(1, 140, 22, 1)\", \"size\": 18, \"symbol\": \"star\"}, \"mode\": \"markers\", \"name\": \"2Quasii\", \"showlegend\": false, \"type\": \"scatter\", \"x\": [-0.1], \"y\": [13]}, {\"marker\": {\"color\": \"rgba(1, 140, 22, 1)\", \"size\": 18, \"symbol\": \"star\"}, \"mode\": \"markers\", \"name\": \"2AvgKD\", \"showlegend\": false, \"type\": \"scatter\", \"x\": [-0.2], \"y\": [19]}, {\"marker\": {\"color\": \"rgba(1, 140, 22, 1)\", \"size\": 18, \"symbol\": \"star\"}, \"mode\": \"markers\", \"name\": \"2MedKD\", \"showlegend\": false, \"type\": \"scatter\", \"x\": [-0.3], \"y\": [39]}],\n",
       "                        {\"annotations\": [{\"text\": \"(PKD) Delta\", \"x\": 0.5, \"xref\": \"x\", \"y\": -0.35, \"yref\": \"paper\"}], \"autosize\": true, \"font\": {\"size\": 42}, \"legend\": {\"font\": {\"color\": \"black\", \"size\": 30}}, \"margin\": {\"b\": 190}, \"plot_bgcolor\": \"rgba(0,0,0,0)\", \"shapes\": [{\"line\": {\"dash\": \"dot\", \"width\": 4}, \"opacity\": 0.3, \"type\": \"line\", \"x0\": 0.2, \"x1\": 0.2, \"y0\": 0, \"y1\": 1, \"yref\": \"paper\"}], \"showlegend\": true, \"template\": {\"data\": {\"bar\": [{\"error_x\": {\"color\": \"#2a3f5f\"}, \"error_y\": {\"color\": \"#2a3f5f\"}, \"marker\": {\"line\": {\"color\": \"#E5ECF6\", \"width\": 0.5}}, \"type\": \"bar\"}], \"barpolar\": [{\"marker\": {\"line\": {\"color\": \"#E5ECF6\", \"width\": 0.5}}, \"type\": \"barpolar\"}], \"carpet\": [{\"aaxis\": {\"endlinecolor\": \"#2a3f5f\", \"gridcolor\": \"white\", \"linecolor\": \"white\", \"minorgridcolor\": \"white\", \"startlinecolor\": \"#2a3f5f\"}, \"baxis\": {\"endlinecolor\": \"#2a3f5f\", \"gridcolor\": \"white\", \"linecolor\": \"white\", \"minorgridcolor\": \"white\", \"startlinecolor\": \"#2a3f5f\"}, \"type\": \"carpet\"}], \"choropleth\": [{\"colorbar\": {\"outlinewidth\": 0, \"ticks\": \"\"}, \"type\": \"choropleth\"}], \"contour\": [{\"colorbar\": {\"outlinewidth\": 0, \"ticks\": \"\"}, \"colorscale\": [[0.0, \"#0d0887\"], [0.1111111111111111, \"#46039f\"], [0.2222222222222222, \"#7201a8\"], [0.3333333333333333, \"#9c179e\"], [0.4444444444444444, \"#bd3786\"], [0.5555555555555556, \"#d8576b\"], [0.6666666666666666, \"#ed7953\"], [0.7777777777777778, \"#fb9f3a\"], [0.8888888888888888, \"#fdca26\"], [1.0, \"#f0f921\"]], \"type\": \"contour\"}], \"contourcarpet\": [{\"colorbar\": {\"outlinewidth\": 0, \"ticks\": \"\"}, \"type\": \"contourcarpet\"}], \"heatmap\": [{\"colorbar\": {\"outlinewidth\": 0, \"ticks\": \"\"}, \"colorscale\": [[0.0, \"#0d0887\"], [0.1111111111111111, \"#46039f\"], [0.2222222222222222, \"#7201a8\"], [0.3333333333333333, \"#9c179e\"], [0.4444444444444444, \"#bd3786\"], [0.5555555555555556, \"#d8576b\"], [0.6666666666666666, \"#ed7953\"], [0.7777777777777778, \"#fb9f3a\"], [0.8888888888888888, \"#fdca26\"], [1.0, \"#f0f921\"]], \"type\": \"heatmap\"}], \"heatmapgl\": [{\"colorbar\": {\"outlinewidth\": 0, \"ticks\": \"\"}, \"colorscale\": [[0.0, \"#0d0887\"], [0.1111111111111111, \"#46039f\"], [0.2222222222222222, \"#7201a8\"], [0.3333333333333333, \"#9c179e\"], [0.4444444444444444, \"#bd3786\"], [0.5555555555555556, \"#d8576b\"], [0.6666666666666666, \"#ed7953\"], [0.7777777777777778, \"#fb9f3a\"], [0.8888888888888888, \"#fdca26\"], [1.0, \"#f0f921\"]], \"type\": \"heatmapgl\"}], \"histogram\": [{\"marker\": {\"colorbar\": {\"outlinewidth\": 0, \"ticks\": \"\"}}, \"type\": \"histogram\"}], \"histogram2d\": [{\"colorbar\": {\"outlinewidth\": 0, \"ticks\": \"\"}, \"colorscale\": [[0.0, \"#0d0887\"], [0.1111111111111111, \"#46039f\"], [0.2222222222222222, \"#7201a8\"], [0.3333333333333333, \"#9c179e\"], [0.4444444444444444, \"#bd3786\"], [0.5555555555555556, \"#d8576b\"], [0.6666666666666666, \"#ed7953\"], [0.7777777777777778, \"#fb9f3a\"], [0.8888888888888888, \"#fdca26\"], [1.0, \"#f0f921\"]], \"type\": \"histogram2d\"}], \"histogram2dcontour\": [{\"colorbar\": {\"outlinewidth\": 0, \"ticks\": \"\"}, \"colorscale\": [[0.0, \"#0d0887\"], [0.1111111111111111, \"#46039f\"], [0.2222222222222222, \"#7201a8\"], [0.3333333333333333, \"#9c179e\"], [0.4444444444444444, \"#bd3786\"], [0.5555555555555556, \"#d8576b\"], [0.6666666666666666, \"#ed7953\"], [0.7777777777777778, \"#fb9f3a\"], [0.8888888888888888, \"#fdca26\"], [1.0, \"#f0f921\"]], \"type\": \"histogram2dcontour\"}], \"mesh3d\": [{\"colorbar\": {\"outlinewidth\": 0, \"ticks\": \"\"}, \"type\": \"mesh3d\"}], \"parcoords\": [{\"line\": {\"colorbar\": {\"outlinewidth\": 0, \"ticks\": \"\"}}, \"type\": \"parcoords\"}], \"scatter\": [{\"marker\": {\"colorbar\": {\"outlinewidth\": 0, \"ticks\": \"\"}}, \"type\": \"scatter\"}], \"scatter3d\": [{\"line\": {\"colorbar\": {\"outlinewidth\": 0, \"ticks\": \"\"}}, \"marker\": {\"colorbar\": {\"outlinewidth\": 0, \"ticks\": \"\"}}, \"type\": \"scatter3d\"}], \"scattercarpet\": [{\"marker\": {\"colorbar\": {\"outlinewidth\": 0, \"ticks\": \"\"}}, \"type\": \"scattercarpet\"}], \"scattergeo\": [{\"marker\": {\"colorbar\": {\"outlinewidth\": 0, \"ticks\": \"\"}}, \"type\": \"scattergeo\"}], \"scattergl\": [{\"marker\": {\"colorbar\": {\"outlinewidth\": 0, \"ticks\": \"\"}}, \"type\": \"scattergl\"}], \"scattermapbox\": [{\"marker\": {\"colorbar\": {\"outlinewidth\": 0, \"ticks\": \"\"}}, \"type\": \"scattermapbox\"}], \"scatterpolar\": [{\"marker\": {\"colorbar\": {\"outlinewidth\": 0, \"ticks\": \"\"}}, \"type\": \"scatterpolar\"}], \"scatterpolargl\": [{\"marker\": {\"colorbar\": {\"outlinewidth\": 0, \"ticks\": \"\"}}, \"type\": \"scatterpolargl\"}], \"scatterternary\": [{\"marker\": {\"colorbar\": {\"outlinewidth\": 0, \"ticks\": \"\"}}, \"type\": \"scatterternary\"}], \"surface\": [{\"colorbar\": {\"outlinewidth\": 0, \"ticks\": \"\"}, \"colorscale\": [[0.0, \"#0d0887\"], [0.1111111111111111, \"#46039f\"], [0.2222222222222222, \"#7201a8\"], [0.3333333333333333, \"#9c179e\"], [0.4444444444444444, \"#bd3786\"], [0.5555555555555556, \"#d8576b\"], [0.6666666666666666, \"#ed7953\"], [0.7777777777777778, \"#fb9f3a\"], [0.8888888888888888, \"#fdca26\"], [1.0, \"#f0f921\"]], \"type\": \"surface\"}], \"table\": [{\"cells\": {\"fill\": {\"color\": \"#EBF0F8\"}, \"line\": {\"color\": \"white\"}}, \"header\": {\"fill\": {\"color\": \"#C8D4E3\"}, \"line\": {\"color\": \"white\"}}, \"type\": \"table\"}]}, \"layout\": {\"annotationdefaults\": {\"arrowcolor\": \"#2a3f5f\", \"arrowhead\": 0, \"arrowwidth\": 1}, \"colorscale\": {\"diverging\": [[0, \"#8e0152\"], [0.1, \"#c51b7d\"], [0.2, \"#de77ae\"], [0.3, \"#f1b6da\"], [0.4, \"#fde0ef\"], [0.5, \"#f7f7f7\"], [0.6, \"#e6f5d0\"], [0.7, \"#b8e186\"], [0.8, \"#7fbc41\"], [0.9, \"#4d9221\"], [1, \"#276419\"]], \"sequential\": [[0.0, \"#0d0887\"], [0.1111111111111111, \"#46039f\"], [0.2222222222222222, \"#7201a8\"], [0.3333333333333333, \"#9c179e\"], [0.4444444444444444, \"#bd3786\"], [0.5555555555555556, \"#d8576b\"], [0.6666666666666666, \"#ed7953\"], [0.7777777777777778, \"#fb9f3a\"], [0.8888888888888888, \"#fdca26\"], [1.0, \"#f0f921\"]], \"sequentialminus\": [[0.0, \"#0d0887\"], [0.1111111111111111, \"#46039f\"], [0.2222222222222222, \"#7201a8\"], [0.3333333333333333, \"#9c179e\"], [0.4444444444444444, \"#bd3786\"], [0.5555555555555556, \"#d8576b\"], [0.6666666666666666, \"#ed7953\"], [0.7777777777777778, \"#fb9f3a\"], [0.8888888888888888, \"#fdca26\"], [1.0, \"#f0f921\"]]}, \"colorway\": [\"#636efa\", \"#EF553B\", \"#00cc96\", \"#ab63fa\", \"#FFA15A\", \"#19d3f3\", \"#FF6692\", \"#B6E880\", \"#FF97FF\", \"#FECB52\"], \"font\": {\"color\": \"#2a3f5f\"}, \"geo\": {\"bgcolor\": \"white\", \"lakecolor\": \"white\", \"landcolor\": \"#E5ECF6\", \"showlakes\": true, \"showland\": true, \"subunitcolor\": \"white\"}, \"hoverlabel\": {\"align\": \"left\"}, \"hovermode\": \"closest\", \"mapbox\": {\"style\": \"light\"}, \"paper_bgcolor\": \"white\", \"plot_bgcolor\": \"#E5ECF6\", \"polar\": {\"angularaxis\": {\"gridcolor\": \"white\", \"linecolor\": \"white\", \"ticks\": \"\"}, \"bgcolor\": \"#E5ECF6\", \"radialaxis\": {\"gridcolor\": \"white\", \"linecolor\": \"white\", \"ticks\": \"\"}}, \"scene\": {\"xaxis\": {\"backgroundcolor\": \"#E5ECF6\", \"gridcolor\": \"white\", \"gridwidth\": 2, \"linecolor\": \"white\", \"showbackground\": true, \"ticks\": \"\", \"zerolinecolor\": \"white\"}, \"yaxis\": {\"backgroundcolor\": \"#E5ECF6\", \"gridcolor\": \"white\", \"gridwidth\": 2, \"linecolor\": \"white\", \"showbackground\": true, \"ticks\": \"\", \"zerolinecolor\": \"white\"}, \"zaxis\": {\"backgroundcolor\": \"#E5ECF6\", \"gridcolor\": \"white\", \"gridwidth\": 2, \"linecolor\": \"white\", \"showbackground\": true, \"ticks\": \"\", \"zerolinecolor\": \"white\"}}, \"shapedefaults\": {\"line\": {\"color\": \"#2a3f5f\"}}, \"ternary\": {\"aaxis\": {\"gridcolor\": \"white\", \"linecolor\": \"white\", \"ticks\": \"\"}, \"baxis\": {\"gridcolor\": \"white\", \"linecolor\": \"white\", \"ticks\": \"\"}, \"bgcolor\": \"#E5ECF6\", \"caxis\": {\"gridcolor\": \"white\", \"linecolor\": \"white\", \"ticks\": \"\"}}, \"title\": {\"x\": 0.05}, \"xaxis\": {\"automargin\": true, \"gridcolor\": \"white\", \"linecolor\": \"white\", \"ticks\": \"\", \"zerolinecolor\": \"white\", \"zerolinewidth\": 2}, \"yaxis\": {\"automargin\": true, \"gridcolor\": \"white\", \"linecolor\": \"white\", \"ticks\": \"\", \"zerolinecolor\": \"white\", \"zerolinewidth\": 2}}}, \"xaxis\": {\"linecolor\": \"black\", \"linewidth\": 2, \"showline\": true, \"tickangle\": 65, \"ticklen\": 5, \"tickmode\": \"array\", \"ticks\": \"inside\", \"ticktext\": [\"MedKD\", \"AvgKD\", \"Q\", \"AKD\", \"0.1\", \"0.2\", \"0.3\", \"0.4\", \"0.5\", \"0.6\", \"0.7\", \"0.8\", \"0.9\", \"1.0\"], \"tickvals\": [-0.3, -0.2, -0.1, -0.0, \"0.1\", \"0.2\", \"0.3\", \"0.4\", \"0.5\", \"0.6\", \"0.7\", \"0.8\", \"0.9\", \"1.0\"], \"zeroline\": true}, \"yaxis\": {\"gridcolor\": \"lightgrey\", \"gridwidth\": 1, \"linecolor\": \"black\", \"linewidth\": 2, \"showgrid\": true, \"showline\": true, \"ticklen\": 5, \"ticks\": \"inside\", \"title\": {\"text\": \"#Queries\"}, \"zeroline\": false, \"zerolinecolor\": \"rgba(0, 0, 0, 0)\"}},\n",
       "                        {\"responsive\": true}\n",
       "                    ).then(function(){\n",
       "                            \n",
       "var gd = document.getElementById('eb53dd33-bb9d-42d6-9b21-750f7e7b071e');\n",
       "var x = new MutationObserver(function (mutations, observer) {{\n",
       "        var display = window.getComputedStyle(gd).display;\n",
       "        if (!display || display === 'none') {{\n",
       "            console.log([gd, 'removed!']);\n",
       "            Plotly.purge(gd);\n",
       "            observer.disconnect();\n",
       "        }}\n",
       "}});\n",
       "\n",
       "// Listen for the removal of the full notebook cells\n",
       "var notebookContainer = gd.closest('#notebook-container');\n",
       "if (notebookContainer) {{\n",
       "    x.observe(notebookContainer, {childList: true});\n",
       "}}\n",
       "\n",
       "// Listen for the clearing of the current output cell\n",
       "var outputEl = gd.closest('.output');\n",
       "if (outputEl) {{\n",
       "    x.observe(outputEl, {childList: true});\n",
       "}}\n",
       "\n",
       "                        })\n",
       "                };\n",
       "                });\n",
       "            </script>\n",
       "        </div>"
      ]
     },
     "metadata": {},
     "output_type": "display_data"
    }
   ],
   "source": [
    "fig = create_figure()\n",
    "\n",
    "cols = [8, 6, 4, 2]\n",
    "markers = delta_markers\n",
    "colors = ['rgba(168, 50, 119, 1)', 'rgba(235, 7, 7, 1)', 'rgba(54, 50, 168, 1)', 'rgba(1, 140, 22, 1)']\n",
    "\n",
    "lines = []\n",
    "\n",
    "for i, marker, color in zip(cols, markers, colors):\n",
    "    fq_times = []\n",
    "    for d in deltas:\n",
    "        fq_times.append(get_payoff(read(f'ProgressiveIndex_{d}', f'Uniform{i}'), read('FullScan', f'Uniform{i}')))\n",
    "    lines.append(\n",
    "        go.Scatter(\n",
    "            name=f'{i} cols',\n",
    "            x=deltas,\n",
    "            y=fq_times,\n",
    "            mode='lines+markers',\n",
    "            marker=dict(\n",
    "                size=18,\n",
    "                symbol=marker\n",
    "            ),\n",
    "            marker_color=color\n",
    "        )\n",
    "    )\n",
    "    \n",
    "    # add other indices values\n",
    "    lines.append(\n",
    "        go.Scatter(\n",
    "            name=f'{i}AKD',\n",
    "            x=[-0.0],\n",
    "            y=[get_payoff(read(f'CrackingKDTree' ,f'Uniform{i}'), read('FullScan', f'Uniform{i}'))],\n",
    "            mode='markers',\n",
    "            marker_color=color,\n",
    "            marker=dict(\n",
    "                size=18,\n",
    "                symbol='diamond'\n",
    "            ),\n",
    "            showlegend=False\n",
    "        )\n",
    "    )\n",
    "    \n",
    "    lines.append(\n",
    "        go.Scatter(\n",
    "            name=f'{i}Quasii',\n",
    "            x=[-0.1],\n",
    "            y=[get_payoff(read(f'Quasii' ,f'Uniform{i}'), read('FullScan', f'Uniform{i}'))],\n",
    "            mode='markers',\n",
    "            marker_color=color,\n",
    "            marker=dict(\n",
    "                size=18,\n",
    "                symbol=marker\n",
    "            ),\n",
    "            showlegend=False\n",
    "        )\n",
    "    )\n",
    "    \n",
    "    lines.append(\n",
    "        go.Scatter(\n",
    "            name=f'{i}AvgKD',\n",
    "            x=[-0.2],\n",
    "            y=[get_payoff(read(f'AverageKDTree' ,f'Uniform{i}'), read('FullScan', f'Uniform{i}'))],\n",
    "            mode='markers',\n",
    "            marker_color=color,\n",
    "            marker=dict(\n",
    "                size=18,\n",
    "                symbol=marker\n",
    "            ),\n",
    "            showlegend=False\n",
    "        )\n",
    "    )\n",
    "    \n",
    "    lines.append(\n",
    "        go.Scatter(\n",
    "            name=f'{i}MedKD',\n",
    "            x=[-0.3],\n",
    "            y=[get_payoff(read(f'MedianKDTree' ,f'Uniform{i}'), read('FullScan', f'Uniform{i}'))],\n",
    "            mode='markers',\n",
    "            marker_color=color,\n",
    "            marker=dict(\n",
    "                size=18,\n",
    "                symbol=marker\n",
    "            ),\n",
    "            showlegend=False\n",
    "        )\n",
    "    )\n",
    "\n",
    "# adding the 6 columns with 50% per attribute\n",
    "# fq_times = []\n",
    "# for d in deltas:\n",
    "#     fq_times.append(get_payoff(read(f'ProgressiveIndex_{d}', f'Uniform6_50'), read('FullScan', f'Uniform6_50')))\n",
    "# lines.append(\n",
    "#     go.Scatter(\n",
    "#         name=f'6 cols (50%)',\n",
    "#         x=deltas,\n",
    "#         y=fq_times,\n",
    "#         mode='lines+markers'\n",
    "#     )\n",
    "# )\n",
    "\n",
    "fig.add_traces(data=lines)\n",
    "fig.update_layout(showlegend=True, yaxis_title='#Queries')\n",
    "fig.update_xaxes(tickangle=65)\n",
    "fig.update_layout(\n",
    "    xaxis = dict(\n",
    "        tickmode = 'array',\n",
    "        tickvals = [-0.3, -0.2, -0.1, -0.0] + deltas,\n",
    "        ticktext = ['MedKD', 'AvgKD', 'Q', 'AKD'] + deltas\n",
    "    ),\n",
    "    shapes=[\n",
    "        dict(\n",
    "            type= 'line',\n",
    "            yref=\"paper\", y0= 0, y1=1,\n",
    "            x0= 0.2, x1=0.2,\n",
    "            opacity=0.3,\n",
    "            line=dict(\n",
    "                width=4,\n",
    "                dash=\"dot\",\n",
    "            )\n",
    "        )\n",
    "    ],\n",
    "    annotations=[\n",
    "        dict(\n",
    "            x=0.5,\n",
    "            y=-0.35,\n",
    "            text=\"(PKD) Delta\",\n",
    "            xref=\"x\",\n",
    "            yref=\"paper\",\n",
    "        )\n",
    "    ],\n",
    "    autosize=True,\n",
    "    margin=dict(\n",
    "        b=190\n",
    "    ),\n",
    ")\n",
    "fig"
   ]
  },
  {
   "cell_type": "markdown",
   "metadata": {},
   "source": [
    "# Convergence"
   ]
  },
  {
   "cell_type": "code",
   "execution_count": 50,
   "metadata": {},
   "outputs": [
    {
     "data": {
      "application/vnd.plotly.v1+json": {
       "config": {
        "plotlyServerURL": "https://plot.ly"
       },
       "data": [
        {
         "marker": {
          "color": "rgba(168, 50, 119, 1)",
          "size": 18,
          "symbol": "circle"
         },
         "mode": "lines+markers",
         "name": "8 cols",
         "type": "scatter",
         "x": [
          "0.1",
          "0.2",
          "0.3",
          "0.4",
          "0.5",
          "0.6",
          "0.7",
          "0.8",
          "0.9",
          "1.0"
         ],
         "y": [
          103,
          51,
          34,
          25,
          20,
          17,
          14,
          12,
          11,
          10
         ]
        },
        {
         "marker": {
          "color": "rgba(235, 7, 7, 1)",
          "size": 18,
          "symbol": "square"
         },
         "mode": "lines+markers",
         "name": "6 cols",
         "type": "scatter",
         "x": [
          "0.1",
          "0.2",
          "0.3",
          "0.4",
          "0.5",
          "0.6",
          "0.7",
          "0.8",
          "0.9",
          "1.0"
         ],
         "y": [
          103,
          51,
          34,
          25,
          20,
          17,
          14,
          12,
          11,
          10
         ]
        },
        {
         "marker": {
          "color": "rgba(54, 50, 168, 1)",
          "size": 18,
          "symbol": "x"
         },
         "mode": "lines+markers",
         "name": "4 cols",
         "type": "scatter",
         "x": [
          "0.1",
          "0.2",
          "0.3",
          "0.4",
          "0.5",
          "0.6",
          "0.7",
          "0.8",
          "0.9",
          "1.0"
         ],
         "y": [
          1103,
          1051,
          1034,
          1025,
          1020,
          17,
          14,
          12,
          11,
          10
         ]
        },
        {
         "marker": {
          "color": "rgba(1, 140, 22, 1)",
          "size": 18,
          "symbol": "star"
         },
         "mode": "lines+markers",
         "name": "2 cols",
         "type": "scatter",
         "x": [
          "0.1",
          "0.2",
          "0.3",
          "0.4",
          "0.5",
          "0.6",
          "0.7",
          "0.8",
          "0.9",
          "1.0"
         ],
         "y": [
          1103,
          1051,
          1034,
          1025,
          1020,
          1017,
          1014,
          1012,
          1011,
          1010
         ]
        }
       ],
       "layout": {
        "autosize": true,
        "font": {
         "size": 42
        },
        "legend": {
         "font": {
          "color": "black",
          "size": 30
         }
        },
        "plot_bgcolor": "rgba(0, 0, 0, 0)",
        "shapes": [
         {
          "line": {
           "dash": "dot",
           "width": 4
          },
          "opacity": 0.3,
          "type": "line",
          "x0": 0.2,
          "x1": 0.2,
          "y0": 0,
          "y1": 1,
          "yref": "paper"
         }
        ],
        "showlegend": true,
        "template": {
         "data": {
          "bar": [
           {
            "error_x": {
             "color": "#2a3f5f"
            },
            "error_y": {
             "color": "#2a3f5f"
            },
            "marker": {
             "line": {
              "color": "#E5ECF6",
              "width": 0.5
             }
            },
            "type": "bar"
           }
          ],
          "barpolar": [
           {
            "marker": {
             "line": {
              "color": "#E5ECF6",
              "width": 0.5
             }
            },
            "type": "barpolar"
           }
          ],
          "carpet": [
           {
            "aaxis": {
             "endlinecolor": "#2a3f5f",
             "gridcolor": "white",
             "linecolor": "white",
             "minorgridcolor": "white",
             "startlinecolor": "#2a3f5f"
            },
            "baxis": {
             "endlinecolor": "#2a3f5f",
             "gridcolor": "white",
             "linecolor": "white",
             "minorgridcolor": "white",
             "startlinecolor": "#2a3f5f"
            },
            "type": "carpet"
           }
          ],
          "choropleth": [
           {
            "colorbar": {
             "outlinewidth": 0,
             "ticks": ""
            },
            "type": "choropleth"
           }
          ],
          "contour": [
           {
            "colorbar": {
             "outlinewidth": 0,
             "ticks": ""
            },
            "colorscale": [
             [
              0,
              "#0d0887"
             ],
             [
              0.1111111111111111,
              "#46039f"
             ],
             [
              0.2222222222222222,
              "#7201a8"
             ],
             [
              0.3333333333333333,
              "#9c179e"
             ],
             [
              0.4444444444444444,
              "#bd3786"
             ],
             [
              0.5555555555555556,
              "#d8576b"
             ],
             [
              0.6666666666666666,
              "#ed7953"
             ],
             [
              0.7777777777777778,
              "#fb9f3a"
             ],
             [
              0.8888888888888888,
              "#fdca26"
             ],
             [
              1,
              "#f0f921"
             ]
            ],
            "type": "contour"
           }
          ],
          "contourcarpet": [
           {
            "colorbar": {
             "outlinewidth": 0,
             "ticks": ""
            },
            "type": "contourcarpet"
           }
          ],
          "heatmap": [
           {
            "colorbar": {
             "outlinewidth": 0,
             "ticks": ""
            },
            "colorscale": [
             [
              0,
              "#0d0887"
             ],
             [
              0.1111111111111111,
              "#46039f"
             ],
             [
              0.2222222222222222,
              "#7201a8"
             ],
             [
              0.3333333333333333,
              "#9c179e"
             ],
             [
              0.4444444444444444,
              "#bd3786"
             ],
             [
              0.5555555555555556,
              "#d8576b"
             ],
             [
              0.6666666666666666,
              "#ed7953"
             ],
             [
              0.7777777777777778,
              "#fb9f3a"
             ],
             [
              0.8888888888888888,
              "#fdca26"
             ],
             [
              1,
              "#f0f921"
             ]
            ],
            "type": "heatmap"
           }
          ],
          "heatmapgl": [
           {
            "colorbar": {
             "outlinewidth": 0,
             "ticks": ""
            },
            "colorscale": [
             [
              0,
              "#0d0887"
             ],
             [
              0.1111111111111111,
              "#46039f"
             ],
             [
              0.2222222222222222,
              "#7201a8"
             ],
             [
              0.3333333333333333,
              "#9c179e"
             ],
             [
              0.4444444444444444,
              "#bd3786"
             ],
             [
              0.5555555555555556,
              "#d8576b"
             ],
             [
              0.6666666666666666,
              "#ed7953"
             ],
             [
              0.7777777777777778,
              "#fb9f3a"
             ],
             [
              0.8888888888888888,
              "#fdca26"
             ],
             [
              1,
              "#f0f921"
             ]
            ],
            "type": "heatmapgl"
           }
          ],
          "histogram": [
           {
            "marker": {
             "colorbar": {
              "outlinewidth": 0,
              "ticks": ""
             }
            },
            "type": "histogram"
           }
          ],
          "histogram2d": [
           {
            "colorbar": {
             "outlinewidth": 0,
             "ticks": ""
            },
            "colorscale": [
             [
              0,
              "#0d0887"
             ],
             [
              0.1111111111111111,
              "#46039f"
             ],
             [
              0.2222222222222222,
              "#7201a8"
             ],
             [
              0.3333333333333333,
              "#9c179e"
             ],
             [
              0.4444444444444444,
              "#bd3786"
             ],
             [
              0.5555555555555556,
              "#d8576b"
             ],
             [
              0.6666666666666666,
              "#ed7953"
             ],
             [
              0.7777777777777778,
              "#fb9f3a"
             ],
             [
              0.8888888888888888,
              "#fdca26"
             ],
             [
              1,
              "#f0f921"
             ]
            ],
            "type": "histogram2d"
           }
          ],
          "histogram2dcontour": [
           {
            "colorbar": {
             "outlinewidth": 0,
             "ticks": ""
            },
            "colorscale": [
             [
              0,
              "#0d0887"
             ],
             [
              0.1111111111111111,
              "#46039f"
             ],
             [
              0.2222222222222222,
              "#7201a8"
             ],
             [
              0.3333333333333333,
              "#9c179e"
             ],
             [
              0.4444444444444444,
              "#bd3786"
             ],
             [
              0.5555555555555556,
              "#d8576b"
             ],
             [
              0.6666666666666666,
              "#ed7953"
             ],
             [
              0.7777777777777778,
              "#fb9f3a"
             ],
             [
              0.8888888888888888,
              "#fdca26"
             ],
             [
              1,
              "#f0f921"
             ]
            ],
            "type": "histogram2dcontour"
           }
          ],
          "mesh3d": [
           {
            "colorbar": {
             "outlinewidth": 0,
             "ticks": ""
            },
            "type": "mesh3d"
           }
          ],
          "parcoords": [
           {
            "line": {
             "colorbar": {
              "outlinewidth": 0,
              "ticks": ""
             }
            },
            "type": "parcoords"
           }
          ],
          "scatter": [
           {
            "marker": {
             "colorbar": {
              "outlinewidth": 0,
              "ticks": ""
             }
            },
            "type": "scatter"
           }
          ],
          "scatter3d": [
           {
            "line": {
             "colorbar": {
              "outlinewidth": 0,
              "ticks": ""
             }
            },
            "marker": {
             "colorbar": {
              "outlinewidth": 0,
              "ticks": ""
             }
            },
            "type": "scatter3d"
           }
          ],
          "scattercarpet": [
           {
            "marker": {
             "colorbar": {
              "outlinewidth": 0,
              "ticks": ""
             }
            },
            "type": "scattercarpet"
           }
          ],
          "scattergeo": [
           {
            "marker": {
             "colorbar": {
              "outlinewidth": 0,
              "ticks": ""
             }
            },
            "type": "scattergeo"
           }
          ],
          "scattergl": [
           {
            "marker": {
             "colorbar": {
              "outlinewidth": 0,
              "ticks": ""
             }
            },
            "type": "scattergl"
           }
          ],
          "scattermapbox": [
           {
            "marker": {
             "colorbar": {
              "outlinewidth": 0,
              "ticks": ""
             }
            },
            "type": "scattermapbox"
           }
          ],
          "scatterpolar": [
           {
            "marker": {
             "colorbar": {
              "outlinewidth": 0,
              "ticks": ""
             }
            },
            "type": "scatterpolar"
           }
          ],
          "scatterpolargl": [
           {
            "marker": {
             "colorbar": {
              "outlinewidth": 0,
              "ticks": ""
             }
            },
            "type": "scatterpolargl"
           }
          ],
          "scatterternary": [
           {
            "marker": {
             "colorbar": {
              "outlinewidth": 0,
              "ticks": ""
             }
            },
            "type": "scatterternary"
           }
          ],
          "surface": [
           {
            "colorbar": {
             "outlinewidth": 0,
             "ticks": ""
            },
            "colorscale": [
             [
              0,
              "#0d0887"
             ],
             [
              0.1111111111111111,
              "#46039f"
             ],
             [
              0.2222222222222222,
              "#7201a8"
             ],
             [
              0.3333333333333333,
              "#9c179e"
             ],
             [
              0.4444444444444444,
              "#bd3786"
             ],
             [
              0.5555555555555556,
              "#d8576b"
             ],
             [
              0.6666666666666666,
              "#ed7953"
             ],
             [
              0.7777777777777778,
              "#fb9f3a"
             ],
             [
              0.8888888888888888,
              "#fdca26"
             ],
             [
              1,
              "#f0f921"
             ]
            ],
            "type": "surface"
           }
          ],
          "table": [
           {
            "cells": {
             "fill": {
              "color": "#EBF0F8"
             },
             "line": {
              "color": "white"
             }
            },
            "header": {
             "fill": {
              "color": "#C8D4E3"
             },
             "line": {
              "color": "white"
             }
            },
            "type": "table"
           }
          ]
         },
         "layout": {
          "annotationdefaults": {
           "arrowcolor": "#2a3f5f",
           "arrowhead": 0,
           "arrowwidth": 1
          },
          "colorscale": {
           "diverging": [
            [
             0,
             "#8e0152"
            ],
            [
             0.1,
             "#c51b7d"
            ],
            [
             0.2,
             "#de77ae"
            ],
            [
             0.3,
             "#f1b6da"
            ],
            [
             0.4,
             "#fde0ef"
            ],
            [
             0.5,
             "#f7f7f7"
            ],
            [
             0.6,
             "#e6f5d0"
            ],
            [
             0.7,
             "#b8e186"
            ],
            [
             0.8,
             "#7fbc41"
            ],
            [
             0.9,
             "#4d9221"
            ],
            [
             1,
             "#276419"
            ]
           ],
           "sequential": [
            [
             0,
             "#0d0887"
            ],
            [
             0.1111111111111111,
             "#46039f"
            ],
            [
             0.2222222222222222,
             "#7201a8"
            ],
            [
             0.3333333333333333,
             "#9c179e"
            ],
            [
             0.4444444444444444,
             "#bd3786"
            ],
            [
             0.5555555555555556,
             "#d8576b"
            ],
            [
             0.6666666666666666,
             "#ed7953"
            ],
            [
             0.7777777777777778,
             "#fb9f3a"
            ],
            [
             0.8888888888888888,
             "#fdca26"
            ],
            [
             1,
             "#f0f921"
            ]
           ],
           "sequentialminus": [
            [
             0,
             "#0d0887"
            ],
            [
             0.1111111111111111,
             "#46039f"
            ],
            [
             0.2222222222222222,
             "#7201a8"
            ],
            [
             0.3333333333333333,
             "#9c179e"
            ],
            [
             0.4444444444444444,
             "#bd3786"
            ],
            [
             0.5555555555555556,
             "#d8576b"
            ],
            [
             0.6666666666666666,
             "#ed7953"
            ],
            [
             0.7777777777777778,
             "#fb9f3a"
            ],
            [
             0.8888888888888888,
             "#fdca26"
            ],
            [
             1,
             "#f0f921"
            ]
           ]
          },
          "colorway": [
           "#636efa",
           "#EF553B",
           "#00cc96",
           "#ab63fa",
           "#FFA15A",
           "#19d3f3",
           "#FF6692",
           "#B6E880",
           "#FF97FF",
           "#FECB52"
          ],
          "font": {
           "color": "#2a3f5f"
          },
          "geo": {
           "bgcolor": "white",
           "lakecolor": "white",
           "landcolor": "#E5ECF6",
           "showlakes": true,
           "showland": true,
           "subunitcolor": "white"
          },
          "hoverlabel": {
           "align": "left"
          },
          "hovermode": "closest",
          "mapbox": {
           "style": "light"
          },
          "paper_bgcolor": "white",
          "plot_bgcolor": "#E5ECF6",
          "polar": {
           "angularaxis": {
            "gridcolor": "white",
            "linecolor": "white",
            "ticks": ""
           },
           "bgcolor": "#E5ECF6",
           "radialaxis": {
            "gridcolor": "white",
            "linecolor": "white",
            "ticks": ""
           }
          },
          "scene": {
           "xaxis": {
            "backgroundcolor": "#E5ECF6",
            "gridcolor": "white",
            "gridwidth": 2,
            "linecolor": "white",
            "showbackground": true,
            "ticks": "",
            "zerolinecolor": "white"
           },
           "yaxis": {
            "backgroundcolor": "#E5ECF6",
            "gridcolor": "white",
            "gridwidth": 2,
            "linecolor": "white",
            "showbackground": true,
            "ticks": "",
            "zerolinecolor": "white"
           },
           "zaxis": {
            "backgroundcolor": "#E5ECF6",
            "gridcolor": "white",
            "gridwidth": 2,
            "linecolor": "white",
            "showbackground": true,
            "ticks": "",
            "zerolinecolor": "white"
           }
          },
          "shapedefaults": {
           "line": {
            "color": "#2a3f5f"
           }
          },
          "ternary": {
           "aaxis": {
            "gridcolor": "white",
            "linecolor": "white",
            "ticks": ""
           },
           "baxis": {
            "gridcolor": "white",
            "linecolor": "white",
            "ticks": ""
           },
           "bgcolor": "#E5ECF6",
           "caxis": {
            "gridcolor": "white",
            "linecolor": "white",
            "ticks": ""
           }
          },
          "title": {
           "x": 0.05
          },
          "xaxis": {
           "automargin": true,
           "gridcolor": "white",
           "linecolor": "white",
           "ticks": "",
           "zerolinecolor": "white",
           "zerolinewidth": 2
          },
          "yaxis": {
           "automargin": true,
           "gridcolor": "white",
           "linecolor": "white",
           "ticks": "",
           "zerolinecolor": "white",
           "zerolinewidth": 2
          }
         }
        },
        "xaxis": {
         "autorange": true,
         "dtick": 0.1,
         "linecolor": "black",
         "linewidth": 2,
         "range": [
          0.03699271592091573,
          1.0630072840790843
         ],
         "showline": true,
         "tick0": 0,
         "tickangle": 65,
         "ticklen": 5,
         "tickmode": "linear",
         "ticks": "inside",
         "title": {
          "text": "<br>(PKD) Delta"
         },
         "type": "linear",
         "zeroline": true
        },
        "yaxis": {
         "autorange": true,
         "gridcolor": "lightgrey",
         "gridwidth": 1,
         "linecolor": "black",
         "linewidth": 2,
         "range": [
          0,
          1214.3119266055046
         ],
         "rangemode": "tozero",
         "showgrid": true,
         "showline": true,
         "ticklen": 5,
         "ticks": "inside",
         "title": {
          "text": "#Queries"
         },
         "type": "linear",
         "zeroline": false,
         "zerolinecolor": "rgba(0, 0, 0, 0)"
        }
       }
      },
      "image/png": "[encoded data removed]",
      "text/html": [
       "<div>\n",
       "        \n",
       "        \n",
       "            <div id=\"c358fc15-76df-40dd-9f31-d1895f903026\" class=\"plotly-graph-div\" style=\"height:525px; width:100%;\"></div>\n",
       "            <script type=\"text/javascript\">\n",
       "                require([\"plotly\"], function(Plotly) {\n",
       "                    window.PLOTLYENV=window.PLOTLYENV || {};\n",
       "                    \n",
       "                if (document.getElementById(\"c358fc15-76df-40dd-9f31-d1895f903026\")) {\n",
       "                    Plotly.newPlot(\n",
       "                        'c358fc15-76df-40dd-9f31-d1895f903026',\n",
       "                        [{\"marker\": {\"color\": \"rgba(168, 50, 119, 1)\", \"size\": 18, \"symbol\": \"circle\"}, \"mode\": \"lines+markers\", \"name\": \"8 cols\", \"type\": \"scatter\", \"x\": [\"0.1\", \"0.2\", \"0.3\", \"0.4\", \"0.5\", \"0.6\", \"0.7\", \"0.8\", \"0.9\", \"1.0\"], \"y\": [103, 51, 34, 25, 20, 17, 14, 12, 11, 10]}, {\"marker\": {\"color\": \"rgba(235, 7, 7, 1)\", \"size\": 18, \"symbol\": \"square\"}, \"mode\": \"lines+markers\", \"name\": \"6 cols\", \"type\": \"scatter\", \"x\": [\"0.1\", \"0.2\", \"0.3\", \"0.4\", \"0.5\", \"0.6\", \"0.7\", \"0.8\", \"0.9\", \"1.0\"], \"y\": [103, 51, 34, 25, 20, 17, 14, 12, 11, 10]}, {\"marker\": {\"color\": \"rgba(54, 50, 168, 1)\", \"size\": 18, \"symbol\": \"x\"}, \"mode\": \"lines+markers\", \"name\": \"4 cols\", \"type\": \"scatter\", \"x\": [\"0.1\", \"0.2\", \"0.3\", \"0.4\", \"0.5\", \"0.6\", \"0.7\", \"0.8\", \"0.9\", \"1.0\"], \"y\": [1103, 1051, 1034, 1025, 1020, 17, 14, 12, 11, 10]}, {\"marker\": {\"color\": \"rgba(1, 140, 22, 1)\", \"size\": 18, \"symbol\": \"star\"}, \"mode\": \"lines+markers\", \"name\": \"2 cols\", \"type\": \"scatter\", \"x\": [\"0.1\", \"0.2\", \"0.3\", \"0.4\", \"0.5\", \"0.6\", \"0.7\", \"0.8\", \"0.9\", \"1.0\"], \"y\": [1103, 1051, 1034, 1025, 1020, 1017, 1014, 1012, 1011, 1010]}],\n",
       "                        {\"font\": {\"size\": 42}, \"legend\": {\"font\": {\"color\": \"black\", \"size\": 30}}, \"plot_bgcolor\": \"rgba(0,0,0,0)\", \"shapes\": [{\"line\": {\"dash\": \"dot\", \"width\": 4}, \"opacity\": 0.3, \"type\": \"line\", \"x0\": 0.2, \"x1\": 0.2, \"y0\": 0, \"y1\": 1, \"yref\": \"paper\"}], \"showlegend\": true, \"template\": {\"data\": {\"bar\": [{\"error_x\": {\"color\": \"#2a3f5f\"}, \"error_y\": {\"color\": \"#2a3f5f\"}, \"marker\": {\"line\": {\"color\": \"#E5ECF6\", \"width\": 0.5}}, \"type\": \"bar\"}], \"barpolar\": [{\"marker\": {\"line\": {\"color\": \"#E5ECF6\", \"width\": 0.5}}, \"type\": \"barpolar\"}], \"carpet\": [{\"aaxis\": {\"endlinecolor\": \"#2a3f5f\", \"gridcolor\": \"white\", \"linecolor\": \"white\", \"minorgridcolor\": \"white\", \"startlinecolor\": \"#2a3f5f\"}, \"baxis\": {\"endlinecolor\": \"#2a3f5f\", \"gridcolor\": \"white\", \"linecolor\": \"white\", \"minorgridcolor\": \"white\", \"startlinecolor\": \"#2a3f5f\"}, \"type\": \"carpet\"}], \"choropleth\": [{\"colorbar\": {\"outlinewidth\": 0, \"ticks\": \"\"}, \"type\": \"choropleth\"}], \"contour\": [{\"colorbar\": {\"outlinewidth\": 0, \"ticks\": \"\"}, \"colorscale\": [[0.0, \"#0d0887\"], [0.1111111111111111, \"#46039f\"], [0.2222222222222222, \"#7201a8\"], [0.3333333333333333, \"#9c179e\"], [0.4444444444444444, \"#bd3786\"], [0.5555555555555556, \"#d8576b\"], [0.6666666666666666, \"#ed7953\"], [0.7777777777777778, \"#fb9f3a\"], [0.8888888888888888, \"#fdca26\"], [1.0, \"#f0f921\"]], \"type\": \"contour\"}], \"contourcarpet\": [{\"colorbar\": {\"outlinewidth\": 0, \"ticks\": \"\"}, \"type\": \"contourcarpet\"}], \"heatmap\": [{\"colorbar\": {\"outlinewidth\": 0, \"ticks\": \"\"}, \"colorscale\": [[0.0, \"#0d0887\"], [0.1111111111111111, \"#46039f\"], [0.2222222222222222, \"#7201a8\"], [0.3333333333333333, \"#9c179e\"], [0.4444444444444444, \"#bd3786\"], [0.5555555555555556, \"#d8576b\"], [0.6666666666666666, \"#ed7953\"], [0.7777777777777778, \"#fb9f3a\"], [0.8888888888888888, \"#fdca26\"], [1.0, \"#f0f921\"]], \"type\": \"heatmap\"}], \"heatmapgl\": [{\"colorbar\": {\"outlinewidth\": 0, \"ticks\": \"\"}, \"colorscale\": [[0.0, \"#0d0887\"], [0.1111111111111111, \"#46039f\"], [0.2222222222222222, \"#7201a8\"], [0.3333333333333333, \"#9c179e\"], [0.4444444444444444, \"#bd3786\"], [0.5555555555555556, \"#d8576b\"], [0.6666666666666666, \"#ed7953\"], [0.7777777777777778, \"#fb9f3a\"], [0.8888888888888888, \"#fdca26\"], [1.0, \"#f0f921\"]], \"type\": \"heatmapgl\"}], \"histogram\": [{\"marker\": {\"colorbar\": {\"outlinewidth\": 0, \"ticks\": \"\"}}, \"type\": \"histogram\"}], \"histogram2d\": [{\"colorbar\": {\"outlinewidth\": 0, \"ticks\": \"\"}, \"colorscale\": [[0.0, \"#0d0887\"], [0.1111111111111111, \"#46039f\"], [0.2222222222222222, \"#7201a8\"], [0.3333333333333333, \"#9c179e\"], [0.4444444444444444, \"#bd3786\"], [0.5555555555555556, \"#d8576b\"], [0.6666666666666666, \"#ed7953\"], [0.7777777777777778, \"#fb9f3a\"], [0.8888888888888888, \"#fdca26\"], [1.0, \"#f0f921\"]], \"type\": \"histogram2d\"}], \"histogram2dcontour\": [{\"colorbar\": {\"outlinewidth\": 0, \"ticks\": \"\"}, \"colorscale\": [[0.0, \"#0d0887\"], [0.1111111111111111, \"#46039f\"], [0.2222222222222222, \"#7201a8\"], [0.3333333333333333, \"#9c179e\"], [0.4444444444444444, \"#bd3786\"], [0.5555555555555556, \"#d8576b\"], [0.6666666666666666, \"#ed7953\"], [0.7777777777777778, \"#fb9f3a\"], [0.8888888888888888, \"#fdca26\"], [1.0, \"#f0f921\"]], \"type\": \"histogram2dcontour\"}], \"mesh3d\": [{\"colorbar\": {\"outlinewidth\": 0, \"ticks\": \"\"}, \"type\": \"mesh3d\"}], \"parcoords\": [{\"line\": {\"colorbar\": {\"outlinewidth\": 0, \"ticks\": \"\"}}, \"type\": \"parcoords\"}], \"scatter\": [{\"marker\": {\"colorbar\": {\"outlinewidth\": 0, \"ticks\": \"\"}}, \"type\": \"scatter\"}], \"scatter3d\": [{\"line\": {\"colorbar\": {\"outlinewidth\": 0, \"ticks\": \"\"}}, \"marker\": {\"colorbar\": {\"outlinewidth\": 0, \"ticks\": \"\"}}, \"type\": \"scatter3d\"}], \"scattercarpet\": [{\"marker\": {\"colorbar\": {\"outlinewidth\": 0, \"ticks\": \"\"}}, \"type\": \"scattercarpet\"}], \"scattergeo\": [{\"marker\": {\"colorbar\": {\"outlinewidth\": 0, \"ticks\": \"\"}}, \"type\": \"scattergeo\"}], \"scattergl\": [{\"marker\": {\"colorbar\": {\"outlinewidth\": 0, \"ticks\": \"\"}}, \"type\": \"scattergl\"}], \"scattermapbox\": [{\"marker\": {\"colorbar\": {\"outlinewidth\": 0, \"ticks\": \"\"}}, \"type\": \"scattermapbox\"}], \"scatterpolar\": [{\"marker\": {\"colorbar\": {\"outlinewidth\": 0, \"ticks\": \"\"}}, \"type\": \"scatterpolar\"}], \"scatterpolargl\": [{\"marker\": {\"colorbar\": {\"outlinewidth\": 0, \"ticks\": \"\"}}, \"type\": \"scatterpolargl\"}], \"scatterternary\": [{\"marker\": {\"colorbar\": {\"outlinewidth\": 0, \"ticks\": \"\"}}, \"type\": \"scatterternary\"}], \"surface\": [{\"colorbar\": {\"outlinewidth\": 0, \"ticks\": \"\"}, \"colorscale\": [[0.0, \"#0d0887\"], [0.1111111111111111, \"#46039f\"], [0.2222222222222222, \"#7201a8\"], [0.3333333333333333, \"#9c179e\"], [0.4444444444444444, \"#bd3786\"], [0.5555555555555556, \"#d8576b\"], [0.6666666666666666, \"#ed7953\"], [0.7777777777777778, \"#fb9f3a\"], [0.8888888888888888, \"#fdca26\"], [1.0, \"#f0f921\"]], \"type\": \"surface\"}], \"table\": [{\"cells\": {\"fill\": {\"color\": \"#EBF0F8\"}, \"line\": {\"color\": \"white\"}}, \"header\": {\"fill\": {\"color\": \"#C8D4E3\"}, \"line\": {\"color\": \"white\"}}, \"type\": \"table\"}]}, \"layout\": {\"annotationdefaults\": {\"arrowcolor\": \"#2a3f5f\", \"arrowhead\": 0, \"arrowwidth\": 1}, \"colorscale\": {\"diverging\": [[0, \"#8e0152\"], [0.1, \"#c51b7d\"], [0.2, \"#de77ae\"], [0.3, \"#f1b6da\"], [0.4, \"#fde0ef\"], [0.5, \"#f7f7f7\"], [0.6, \"#e6f5d0\"], [0.7, \"#b8e186\"], [0.8, \"#7fbc41\"], [0.9, \"#4d9221\"], [1, \"#276419\"]], \"sequential\": [[0.0, \"#0d0887\"], [0.1111111111111111, \"#46039f\"], [0.2222222222222222, \"#7201a8\"], [0.3333333333333333, \"#9c179e\"], [0.4444444444444444, \"#bd3786\"], [0.5555555555555556, \"#d8576b\"], [0.6666666666666666, \"#ed7953\"], [0.7777777777777778, \"#fb9f3a\"], [0.8888888888888888, \"#fdca26\"], [1.0, \"#f0f921\"]], \"sequentialminus\": [[0.0, \"#0d0887\"], [0.1111111111111111, \"#46039f\"], [0.2222222222222222, \"#7201a8\"], [0.3333333333333333, \"#9c179e\"], [0.4444444444444444, \"#bd3786\"], [0.5555555555555556, \"#d8576b\"], [0.6666666666666666, \"#ed7953\"], [0.7777777777777778, \"#fb9f3a\"], [0.8888888888888888, \"#fdca26\"], [1.0, \"#f0f921\"]]}, \"colorway\": [\"#636efa\", \"#EF553B\", \"#00cc96\", \"#ab63fa\", \"#FFA15A\", \"#19d3f3\", \"#FF6692\", \"#B6E880\", \"#FF97FF\", \"#FECB52\"], \"font\": {\"color\": \"#2a3f5f\"}, \"geo\": {\"bgcolor\": \"white\", \"lakecolor\": \"white\", \"landcolor\": \"#E5ECF6\", \"showlakes\": true, \"showland\": true, \"subunitcolor\": \"white\"}, \"hoverlabel\": {\"align\": \"left\"}, \"hovermode\": \"closest\", \"mapbox\": {\"style\": \"light\"}, \"paper_bgcolor\": \"white\", \"plot_bgcolor\": \"#E5ECF6\", \"polar\": {\"angularaxis\": {\"gridcolor\": \"white\", \"linecolor\": \"white\", \"ticks\": \"\"}, \"bgcolor\": \"#E5ECF6\", \"radialaxis\": {\"gridcolor\": \"white\", \"linecolor\": \"white\", \"ticks\": \"\"}}, \"scene\": {\"xaxis\": {\"backgroundcolor\": \"#E5ECF6\", \"gridcolor\": \"white\", \"gridwidth\": 2, \"linecolor\": \"white\", \"showbackground\": true, \"ticks\": \"\", \"zerolinecolor\": \"white\"}, \"yaxis\": {\"backgroundcolor\": \"#E5ECF6\", \"gridcolor\": \"white\", \"gridwidth\": 2, \"linecolor\": \"white\", \"showbackground\": true, \"ticks\": \"\", \"zerolinecolor\": \"white\"}, \"zaxis\": {\"backgroundcolor\": \"#E5ECF6\", \"gridcolor\": \"white\", \"gridwidth\": 2, \"linecolor\": \"white\", \"showbackground\": true, \"ticks\": \"\", \"zerolinecolor\": \"white\"}}, \"shapedefaults\": {\"line\": {\"color\": \"#2a3f5f\"}}, \"ternary\": {\"aaxis\": {\"gridcolor\": \"white\", \"linecolor\": \"white\", \"ticks\": \"\"}, \"baxis\": {\"gridcolor\": \"white\", \"linecolor\": \"white\", \"ticks\": \"\"}, \"bgcolor\": \"#E5ECF6\", \"caxis\": {\"gridcolor\": \"white\", \"linecolor\": \"white\", \"ticks\": \"\"}}, \"title\": {\"x\": 0.05}, \"xaxis\": {\"automargin\": true, \"gridcolor\": \"white\", \"linecolor\": \"white\", \"ticks\": \"\", \"zerolinecolor\": \"white\", \"zerolinewidth\": 2}, \"yaxis\": {\"automargin\": true, \"gridcolor\": \"white\", \"linecolor\": \"white\", \"ticks\": \"\", \"zerolinecolor\": \"white\", \"zerolinewidth\": 2}}}, \"xaxis\": {\"dtick\": 0.1, \"linecolor\": \"black\", \"linewidth\": 2, \"showline\": true, \"tick0\": 0.0, \"tickangle\": 65, \"ticklen\": 5, \"tickmode\": \"linear\", \"ticks\": \"inside\", \"title\": {\"text\": \"<br>(PKD) Delta\"}, \"zeroline\": true}, \"yaxis\": {\"gridcolor\": \"lightgrey\", \"gridwidth\": 1, \"linecolor\": \"black\", \"linewidth\": 2, \"rangemode\": \"tozero\", \"showgrid\": true, \"showline\": true, \"ticklen\": 5, \"ticks\": \"inside\", \"title\": {\"text\": \"#Queries\"}, \"zeroline\": false, \"zerolinecolor\": \"rgba(0, 0, 0, 0)\"}},\n",
       "                        {\"responsive\": true}\n",
       "                    ).then(function(){\n",
       "                            \n",
       "var gd = document.getElementById('c358fc15-76df-40dd-9f31-d1895f903026');\n",
       "var x = new MutationObserver(function (mutations, observer) {{\n",
       "        var display = window.getComputedStyle(gd).display;\n",
       "        if (!display || display === 'none') {{\n",
       "            console.log([gd, 'removed!']);\n",
       "            Plotly.purge(gd);\n",
       "            observer.disconnect();\n",
       "        }}\n",
       "}});\n",
       "\n",
       "// Listen for the removal of the full notebook cells\n",
       "var notebookContainer = gd.closest('#notebook-container');\n",
       "if (notebookContainer) {{\n",
       "    x.observe(notebookContainer, {childList: true});\n",
       "}}\n",
       "\n",
       "// Listen for the clearing of the current output cell\n",
       "var outputEl = gd.closest('.output');\n",
       "if (outputEl) {{\n",
       "    x.observe(outputEl, {childList: true});\n",
       "}}\n",
       "\n",
       "                        })\n",
       "                };\n",
       "                });\n",
       "            </script>\n",
       "        </div>"
      ]
     },
     "metadata": {},
     "output_type": "display_data"
    }
   ],
   "source": [
    "fig = create_figure()\n",
    "\n",
    "cols = [8, 6, 4, 2]\n",
    "markers = delta_markers\n",
    "colors = ['rgba(168, 50, 119, 1)', 'rgba(235, 7, 7, 1)', 'rgba(54, 50, 168, 1)', 'rgba(1, 140, 22, 1)']\n",
    "\n",
    "lines = []\n",
    "\n",
    "for i, marker, color in zip(cols, markers, colors):\n",
    "    fq_times = []\n",
    "    for d in deltas:\n",
    "        fq_times.append(get_convergence(read(f'ProgressiveIndex_{d}', f'Uniform{i}')))\n",
    "    lines.append(\n",
    "        go.Scatter(\n",
    "            name=f'{i} cols',\n",
    "            x=deltas,\n",
    "            y=fq_times,\n",
    "            mode='lines+markers',\n",
    "            marker=dict(\n",
    "                size=18,\n",
    "                symbol=marker\n",
    "            ),\n",
    "            marker_color=color\n",
    "        )\n",
    "    )\n",
    "\n",
    "fig.add_traces(data=lines)\n",
    "fig.update_layout(showlegend=True, yaxis_title='#Queries', xaxis_title='<br>(PKD) Delta')\n",
    "fig.update_xaxes(tickangle=65)\n",
    "fig.update_layout(\n",
    "    xaxis=dict(\n",
    "        tickmode = 'linear',\n",
    "        tick0 = 0.0,\n",
    "        dtick = 0.1\n",
    "    ),\n",
    "    shapes=[\n",
    "        dict(\n",
    "            type= 'line',\n",
    "            yref=\"paper\", y0= 0, y1=1,\n",
    "            x0= 0.2, x1=0.2,\n",
    "            opacity=0.3,\n",
    "            line=dict(\n",
    "                width=4,\n",
    "                dash=\"dot\",\n",
    "            )\n",
    "        )\n",
    "    ]\n",
    ")\n",
    "fig.update_yaxes(rangemode=\"tozero\")\n",
    "fig"
   ]
  },
  {
   "cell_type": "markdown",
   "metadata": {},
   "source": [
    "# Cumulative cost after convergence vs total cumulative cost"
   ]
  },
  {
   "cell_type": "code",
   "execution_count": 47,
   "metadata": {},
   "outputs": [
    {
     "data": {
      "application/vnd.plotly.v1+json": {
       "config": {
        "plotlyServerURL": "https://plot.ly"
       },
       "data": [
        {
         "marker": {
          "color": "rgba(1, 140, 22, 1)"
         },
         "mode": "lines",
         "name": "2 cols",
         "showlegend": false,
         "type": "scatter",
         "x": [
          "0.1",
          "0.2",
          "0.3",
          "0.4",
          "0.5",
          "0.6",
          "0.7",
          "0.8",
          "0.9",
          "1.0"
         ],
         "y": [
          1.421621,
          1.53982,
          1.562082,
          1.653641,
          1.6637890000000002,
          1.606588,
          1.758398,
          1.8267820000000001,
          1.731183,
          1.688462
         ]
        },
        {
         "fill": "tonexty",
         "fillcolor": "rgba(1, 140, 22, 0.2)",
         "marker": {
          "color": "rgba(1, 140, 22, 1)"
         },
         "mode": "lines",
         "name": "2 cols",
         "type": "scatter",
         "x": [
          "0.1",
          "0.2",
          "0.3",
          "0.4",
          "0.5",
          "0.6",
          "0.7",
          "0.8",
          "0.9",
          "1.0"
         ],
         "y": [
          17.720481,
          14.457071999999997,
          13.038387,
          12.296904999999999,
          12.104386000000002,
          11.902145,
          11.802753,
          11.754846,
          11.747767,
          11.563183
         ]
        },
        {
         "marker": {
          "color": "rgba(1, 140, 22, 1)",
          "size": 18,
          "symbol": "triangle-up"
         },
         "mode": "markers",
         "name": "2 cols",
         "showlegend": false,
         "type": "scatter",
         "x": [
          "0.1",
          "0.2",
          "0.3",
          "0.4",
          "0.5",
          "0.6",
          "0.7",
          "0.8",
          "0.9",
          "1.0"
         ],
         "y": [
          1.421621,
          1.53982,
          1.562082,
          1.653641,
          1.6637890000000002,
          1.606588,
          1.758398,
          1.8267820000000001,
          1.731183,
          1.688462
         ]
        },
        {
         "marker": {
          "color": "rgba(1, 140, 22, 1)",
          "size": 18,
          "symbol": "triangle-down"
         },
         "mode": "markers",
         "name": "2 cols",
         "showlegend": false,
         "type": "scatter",
         "x": [
          "0.1",
          "0.2",
          "0.3",
          "0.4",
          "0.5",
          "0.6",
          "0.7",
          "0.8",
          "0.9",
          "1.0"
         ],
         "y": [
          17.720481,
          14.457071999999997,
          13.038387,
          12.296904999999999,
          12.104386000000002,
          11.902145,
          11.802753,
          11.754846,
          11.747767,
          11.563183
         ]
        },
        {
         "marker": {
          "color": "rgba(1, 140, 22, 1)",
          "size": 18,
          "symbol": "triangle-down"
         },
         "mode": "markers",
         "name": "2AKD",
         "showlegend": false,
         "type": "scatter",
         "x": [
          0
         ],
         "y": [
          4.870785
         ]
        },
        {
         "marker": {
          "color": "rgba(1, 140, 22, 1)",
          "size": 18,
          "symbol": "triangle-down"
         },
         "mode": "markers",
         "name": "2Quasii",
         "showlegend": false,
         "type": "scatter",
         "x": [
          -0.1
         ],
         "y": [
          5.639467000000001
         ]
        },
        {
         "marker": {
          "color": "rgba(1, 140, 22, 1)",
          "size": 18,
          "symbol": "triangle-down"
         },
         "mode": "markers",
         "name": "2AvgKD",
         "showlegend": false,
         "type": "scatter",
         "x": [
          -0.22
         ],
         "y": [
          6.071287
         ]
        },
        {
         "marker": {
          "color": "rgba(1, 140, 22, 1)",
          "size": 18,
          "symbol": "triangle-down"
         },
         "mode": "markers",
         "name": "2MedKD",
         "showlegend": false,
         "type": "scatter",
         "x": [
          -0.3
         ],
         "y": [
          10.349559
         ]
        },
        {
         "marker": {
          "color": "rgba(54, 50, 168, 1)"
         },
         "mode": "lines",
         "name": "4 cols",
         "showlegend": false,
         "type": "scatter",
         "x": [
          "0.1",
          "0.2",
          "0.3",
          "0.4",
          "0.5",
          "0.6",
          "0.7",
          "0.8",
          "0.9",
          "1.0"
         ],
         "y": [
          6.949922,
          7.364164000000001,
          7.498647,
          7.667733,
          7.739013,
          7.643485,
          7.868951000000001,
          7.967249,
          7.792228,
          7.770982
         ]
        },
        {
         "fill": "tonexty",
         "fillcolor": "rgba(54, 50, 168, 0.2)",
         "marker": {
          "color": "rgba(54, 50, 168, 1)"
         },
         "mode": "lines",
         "name": "4 cols",
         "type": "scatter",
         "x": [
          "0.1",
          "0.2",
          "0.3",
          "0.4",
          "0.5",
          "0.6",
          "0.7",
          "0.8",
          "0.9",
          "1.0"
         ],
         "y": [
          39.08442599999999,
          33.824514,
          30.107371,
          29.14564,
          28.232701999999996,
          13.915901,
          13.671614,
          13.469237000000001,
          13.385223,
          13.275388000000001
         ]
        },
        {
         "marker": {
          "color": "rgba(54, 50, 168, 1)",
          "size": 18,
          "symbol": "triangle-up"
         },
         "mode": "markers",
         "name": "4 cols",
         "showlegend": false,
         "type": "scatter",
         "x": [
          "0.1",
          "0.2",
          "0.3",
          "0.4",
          "0.5",
          "0.6",
          "0.7",
          "0.8",
          "0.9",
          "1.0"
         ],
         "y": [
          6.949922,
          7.364164000000001,
          7.498647,
          7.667733,
          7.739013,
          7.643485,
          7.868951000000001,
          7.967249,
          7.792228,
          7.770982
         ]
        },
        {
         "marker": {
          "color": "rgba(54, 50, 168, 1)",
          "size": 18,
          "symbol": "triangle-down"
         },
         "mode": "markers",
         "name": "4 cols",
         "showlegend": false,
         "type": "scatter",
         "x": [
          "0.1",
          "0.2",
          "0.3",
          "0.4",
          "0.5",
          "0.6",
          "0.7",
          "0.8",
          "0.9",
          "1.0"
         ],
         "y": [
          39.08442599999999,
          33.824514,
          30.107371,
          29.14564,
          28.232701999999996,
          13.915901,
          13.671614,
          13.469237000000001,
          13.385223,
          13.275388000000001
         ]
        },
        {
         "marker": {
          "color": "rgba(54, 50, 168, 1)",
          "size": 18,
          "symbol": "triangle-down"
         },
         "mode": "markers",
         "name": "4AKD",
         "showlegend": false,
         "type": "scatter",
         "x": [
          0
         ],
         "y": [
          12.629574
         ]
        },
        {
         "marker": {
          "color": "rgba(54, 50, 168, 1)",
          "size": 18,
          "symbol": "triangle-down"
         },
         "mode": "markers",
         "name": "4Quasii",
         "showlegend": false,
         "type": "scatter",
         "x": [
          -0.1
         ],
         "y": [
          11.945191
         ]
        },
        {
         "marker": {
          "color": "rgba(54, 50, 168, 1)",
          "size": 18,
          "symbol": "triangle-down"
         },
         "mode": "markers",
         "name": "4AvgKD",
         "showlegend": false,
         "type": "scatter",
         "x": [
          -0.22
         ],
         "y": [
          12.929284000000003
         ]
        },
        {
         "marker": {
          "color": "rgba(54, 50, 168, 1)",
          "size": 18,
          "symbol": "triangle-down"
         },
         "mode": "markers",
         "name": "4MedKD",
         "showlegend": false,
         "type": "scatter",
         "x": [
          -0.3
         ],
         "y": [
          17.232645999999995
         ]
        },
        {
         "marker": {
          "color": "rgba(235, 7, 7, 1)"
         },
         "mode": "lines",
         "name": "6 cols",
         "showlegend": false,
         "type": "scatter",
         "x": [
          "0.1",
          "0.2",
          "0.3",
          "0.4",
          "0.5",
          "0.6",
          "0.7",
          "0.8",
          "0.9",
          "1.0"
         ],
         "y": [
          25.385251000000004,
          26.778706999999997,
          27.219207,
          27.579770000000003,
          27.741889,
          27.728258,
          28.056812,
          28.161868000000002,
          27.987761,
          30.399013000000004
         ]
        },
        {
         "fill": "tonexty",
         "fillcolor": "rgba(235, 7, 7, 0.2)",
         "marker": {
          "color": "rgba(235, 7, 7, 1)"
         },
         "mode": "lines",
         "name": "6 cols",
         "type": "scatter",
         "x": [
          "0.1",
          "0.2",
          "0.3",
          "0.4",
          "0.5",
          "0.6",
          "0.7",
          "0.8",
          "0.9",
          "1.0"
         ],
         "y": [
          49.154064,
          41.363350000000004,
          38.746769,
          37.309922,
          36.840655999999996,
          36.473276,
          36.316805,
          35.999334000000005,
          35.775784,
          38.170792
         ]
        },
        {
         "marker": {
          "color": "rgba(235, 7, 7, 1)",
          "size": 18,
          "symbol": "triangle-up"
         },
         "mode": "markers",
         "name": "6 cols",
         "showlegend": false,
         "type": "scatter",
         "x": [
          "0.1",
          "0.2",
          "0.3",
          "0.4",
          "0.5",
          "0.6",
          "0.7",
          "0.8",
          "0.9",
          "1.0"
         ],
         "y": [
          25.385251000000004,
          26.778706999999997,
          27.219207,
          27.579770000000003,
          27.741889,
          27.728258,
          28.056812,
          28.161868000000002,
          27.987761,
          30.399013000000004
         ]
        },
        {
         "marker": {
          "color": "rgba(235, 7, 7, 1)",
          "size": 18,
          "symbol": "triangle-down"
         },
         "mode": "markers",
         "name": "6 cols",
         "showlegend": false,
         "type": "scatter",
         "x": [
          "0.1",
          "0.2",
          "0.3",
          "0.4",
          "0.5",
          "0.6",
          "0.7",
          "0.8",
          "0.9",
          "1.0"
         ],
         "y": [
          49.154064,
          41.363350000000004,
          38.746769,
          37.309922,
          36.840655999999996,
          36.473276,
          36.316805,
          35.999334000000005,
          35.775784,
          38.170792
         ]
        },
        {
         "marker": {
          "color": "rgba(235, 7, 7, 1)",
          "size": 18,
          "symbol": "triangle-down"
         },
         "mode": "markers",
         "name": "6AKD",
         "showlegend": false,
         "type": "scatter",
         "x": [
          0
         ],
         "y": [
          36.026379999999996
         ]
        },
        {
         "marker": {
          "color": "rgba(235, 7, 7, 1)",
          "size": 18,
          "symbol": "triangle-down"
         },
         "mode": "markers",
         "name": "6Quasii",
         "showlegend": false,
         "type": "scatter",
         "x": [
          -0.1
         ],
         "y": [
          30.763875
         ]
        },
        {
         "marker": {
          "color": "rgba(235, 7, 7, 1)",
          "size": 18,
          "symbol": "triangle-down"
         },
         "mode": "markers",
         "name": "6AvgKD",
         "showlegend": false,
         "type": "scatter",
         "x": [
          -0.22
         ],
         "y": [
          34.59402899999999
         ]
        },
        {
         "marker": {
          "color": "rgba(235, 7, 7, 1)",
          "size": 18,
          "symbol": "triangle-down"
         },
         "mode": "markers",
         "name": "6MedKD",
         "showlegend": false,
         "type": "scatter",
         "x": [
          -0.3
         ],
         "y": [
          38.945598
         ]
        },
        {
         "marker": {
          "color": "rgba(168, 50, 119, 1)"
         },
         "mode": "lines",
         "name": "8 cols",
         "showlegend": false,
         "type": "scatter",
         "x": [
          "0.1",
          "0.2",
          "0.3",
          "0.4",
          "0.5",
          "0.6",
          "0.7",
          "0.8",
          "0.9",
          "1.0"
         ],
         "y": [
          75.940442,
          80.89284,
          87.808603,
          83.521315,
          84.005315,
          83.583732,
          84.26999,
          84.698498,
          84.35025200000001,
          84.583328
         ]
        },
        {
         "fill": "tonexty",
         "fillcolor": "rgba(168, 50, 119, 0.2)",
         "marker": {
          "color": "rgba(168, 50, 119, 1)"
         },
         "mode": "lines",
         "name": "8 cols",
         "type": "scatter",
         "x": [
          "0.1",
          "0.2",
          "0.3",
          "0.4",
          "0.5",
          "0.6",
          "0.7",
          "0.8",
          "0.9",
          "1.0"
         ],
         "y": [
          115.888201,
          103.396424,
          105.42736500000001,
          98.18572,
          97.23752400000001,
          95.70613200000001,
          95.56387899999999,
          95.110084,
          94.653807,
          94.735098
         ]
        },
        {
         "marker": {
          "color": "rgba(168, 50, 119, 1)",
          "size": 18,
          "symbol": "triangle-up"
         },
         "mode": "markers",
         "name": "8 cols",
         "showlegend": false,
         "type": "scatter",
         "x": [
          "0.1",
          "0.2",
          "0.3",
          "0.4",
          "0.5",
          "0.6",
          "0.7",
          "0.8",
          "0.9",
          "1.0"
         ],
         "y": [
          75.940442,
          80.89284,
          87.808603,
          83.521315,
          84.005315,
          83.583732,
          84.26999,
          84.698498,
          84.35025200000001,
          84.583328
         ]
        },
        {
         "marker": {
          "color": "rgba(168, 50, 119, 1)",
          "size": 18,
          "symbol": "triangle-down"
         },
         "mode": "markers",
         "name": "8 cols",
         "showlegend": false,
         "type": "scatter",
         "x": [
          "0.1",
          "0.2",
          "0.3",
          "0.4",
          "0.5",
          "0.6",
          "0.7",
          "0.8",
          "0.9",
          "1.0"
         ],
         "y": [
          115.888201,
          103.396424,
          105.42736500000001,
          98.18572,
          97.23752400000001,
          95.70613200000001,
          95.56387899999999,
          95.110084,
          94.653807,
          94.735098
         ]
        },
        {
         "marker": {
          "color": "rgba(168, 50, 119, 1)",
          "size": 18,
          "symbol": "triangle-down"
         },
         "mode": "markers",
         "name": "8AKD",
         "showlegend": false,
         "type": "scatter",
         "x": [
          0
         ],
         "y": [
          63.085277000000005
         ]
        },
        {
         "marker": {
          "color": "rgba(168, 50, 119, 1)",
          "size": 18,
          "symbol": "triangle-down"
         },
         "mode": "markers",
         "name": "8Quasii",
         "showlegend": false,
         "type": "scatter",
         "x": [
          -0.1
         ],
         "y": [
          79.218968
         ]
        },
        {
         "marker": {
          "color": "rgba(168, 50, 119, 1)",
          "size": 18,
          "symbol": "triangle-down"
         },
         "mode": "markers",
         "name": "8AvgKD",
         "showlegend": false,
         "type": "scatter",
         "x": [
          -0.22
         ],
         "y": [
          94.1447
         ]
        },
        {
         "marker": {
          "color": "rgba(168, 50, 119, 1)",
          "size": 18,
          "symbol": "triangle-down"
         },
         "mode": "markers",
         "name": "8MedKD",
         "showlegend": false,
         "type": "scatter",
         "x": [
          -0.3
         ],
         "y": [
          98.290064
         ]
        },
        {
         "marker": {
          "color": "black",
          "size": 18,
          "symbol": "triangle-up"
         },
         "mode": "markers",
         "name": "After",
         "type": "scatter",
         "x": [
          null
         ],
         "y": [
          null
         ]
        },
        {
         "marker": {
          "color": "black",
          "size": 18,
          "symbol": "triangle-down"
         },
         "mode": "markers",
         "name": "Total",
         "type": "scatter",
         "x": [
          null
         ],
         "y": [
          null
         ]
        }
       ],
       "layout": {
        "annotations": [
         {
          "text": "(PKD) Delta",
          "x": 0.5,
          "xref": "x",
          "y": -0.35,
          "yref": "paper"
         }
        ],
        "autosize": true,
        "font": {
         "size": 42
        },
        "legend": {
         "font": {
          "color": "black",
          "size": 30
         }
        },
        "margin": {
         "b": 150
        },
        "plot_bgcolor": "rgba(0, 0, 0, 0)",
        "shapes": [
         {
          "line": {
           "dash": "dot",
           "width": 4
          },
          "opacity": 0.3,
          "type": "line",
          "x0": 0.2,
          "x1": 0.2,
          "y0": 0,
          "y1": 1,
          "yref": "paper"
         }
        ],
        "showlegend": true,
        "template": {
         "data": {
          "bar": [
           {
            "error_x": {
             "color": "#2a3f5f"
            },
            "error_y": {
             "color": "#2a3f5f"
            },
            "marker": {
             "line": {
              "color": "#E5ECF6",
              "width": 0.5
             }
            },
            "type": "bar"
           }
          ],
          "barpolar": [
           {
            "marker": {
             "line": {
              "color": "#E5ECF6",
              "width": 0.5
             }
            },
            "type": "barpolar"
           }
          ],
          "carpet": [
           {
            "aaxis": {
             "endlinecolor": "#2a3f5f",
             "gridcolor": "white",
             "linecolor": "white",
             "minorgridcolor": "white",
             "startlinecolor": "#2a3f5f"
            },
            "baxis": {
             "endlinecolor": "#2a3f5f",
             "gridcolor": "white",
             "linecolor": "white",
             "minorgridcolor": "white",
             "startlinecolor": "#2a3f5f"
            },
            "type": "carpet"
           }
          ],
          "choropleth": [
           {
            "colorbar": {
             "outlinewidth": 0,
             "ticks": ""
            },
            "type": "choropleth"
           }
          ],
          "contour": [
           {
            "colorbar": {
             "outlinewidth": 0,
             "ticks": ""
            },
            "colorscale": [
             [
              0,
              "#0d0887"
             ],
             [
              0.1111111111111111,
              "#46039f"
             ],
             [
              0.2222222222222222,
              "#7201a8"
             ],
             [
              0.3333333333333333,
              "#9c179e"
             ],
             [
              0.4444444444444444,
              "#bd3786"
             ],
             [
              0.5555555555555556,
              "#d8576b"
             ],
             [
              0.6666666666666666,
              "#ed7953"
             ],
             [
              0.7777777777777778,
              "#fb9f3a"
             ],
             [
              0.8888888888888888,
              "#fdca26"
             ],
             [
              1,
              "#f0f921"
             ]
            ],
            "type": "contour"
           }
          ],
          "contourcarpet": [
           {
            "colorbar": {
             "outlinewidth": 0,
             "ticks": ""
            },
            "type": "contourcarpet"
           }
          ],
          "heatmap": [
           {
            "colorbar": {
             "outlinewidth": 0,
             "ticks": ""
            },
            "colorscale": [
             [
              0,
              "#0d0887"
             ],
             [
              0.1111111111111111,
              "#46039f"
             ],
             [
              0.2222222222222222,
              "#7201a8"
             ],
             [
              0.3333333333333333,
              "#9c179e"
             ],
             [
              0.4444444444444444,
              "#bd3786"
             ],
             [
              0.5555555555555556,
              "#d8576b"
             ],
             [
              0.6666666666666666,
              "#ed7953"
             ],
             [
              0.7777777777777778,
              "#fb9f3a"
             ],
             [
              0.8888888888888888,
              "#fdca26"
             ],
             [
              1,
              "#f0f921"
             ]
            ],
            "type": "heatmap"
           }
          ],
          "heatmapgl": [
           {
            "colorbar": {
             "outlinewidth": 0,
             "ticks": ""
            },
            "colorscale": [
             [
              0,
              "#0d0887"
             ],
             [
              0.1111111111111111,
              "#46039f"
             ],
             [
              0.2222222222222222,
              "#7201a8"
             ],
             [
              0.3333333333333333,
              "#9c179e"
             ],
             [
              0.4444444444444444,
              "#bd3786"
             ],
             [
              0.5555555555555556,
              "#d8576b"
             ],
             [
              0.6666666666666666,
              "#ed7953"
             ],
             [
              0.7777777777777778,
              "#fb9f3a"
             ],
             [
              0.8888888888888888,
              "#fdca26"
             ],
             [
              1,
              "#f0f921"
             ]
            ],
            "type": "heatmapgl"
           }
          ],
          "histogram": [
           {
            "marker": {
             "colorbar": {
              "outlinewidth": 0,
              "ticks": ""
             }
            },
            "type": "histogram"
           }
          ],
          "histogram2d": [
           {
            "colorbar": {
             "outlinewidth": 0,
             "ticks": ""
            },
            "colorscale": [
             [
              0,
              "#0d0887"
             ],
             [
              0.1111111111111111,
              "#46039f"
             ],
             [
              0.2222222222222222,
              "#7201a8"
             ],
             [
              0.3333333333333333,
              "#9c179e"
             ],
             [
              0.4444444444444444,
              "#bd3786"
             ],
             [
              0.5555555555555556,
              "#d8576b"
             ],
             [
              0.6666666666666666,
              "#ed7953"
             ],
             [
              0.7777777777777778,
              "#fb9f3a"
             ],
             [
              0.8888888888888888,
              "#fdca26"
             ],
             [
              1,
              "#f0f921"
             ]
            ],
            "type": "histogram2d"
           }
          ],
          "histogram2dcontour": [
           {
            "colorbar": {
             "outlinewidth": 0,
             "ticks": ""
            },
            "colorscale": [
             [
              0,
              "#0d0887"
             ],
             [
              0.1111111111111111,
              "#46039f"
             ],
             [
              0.2222222222222222,
              "#7201a8"
             ],
             [
              0.3333333333333333,
              "#9c179e"
             ],
             [
              0.4444444444444444,
              "#bd3786"
             ],
             [
              0.5555555555555556,
              "#d8576b"
             ],
             [
              0.6666666666666666,
              "#ed7953"
             ],
             [
              0.7777777777777778,
              "#fb9f3a"
             ],
             [
              0.8888888888888888,
              "#fdca26"
             ],
             [
              1,
              "#f0f921"
             ]
            ],
            "type": "histogram2dcontour"
           }
          ],
          "mesh3d": [
           {
            "colorbar": {
             "outlinewidth": 0,
             "ticks": ""
            },
            "type": "mesh3d"
           }
          ],
          "parcoords": [
           {
            "line": {
             "colorbar": {
              "outlinewidth": 0,
              "ticks": ""
             }
            },
            "type": "parcoords"
           }
          ],
          "scatter": [
           {
            "marker": {
             "colorbar": {
              "outlinewidth": 0,
              "ticks": ""
             }
            },
            "type": "scatter"
           }
          ],
          "scatter3d": [
           {
            "line": {
             "colorbar": {
              "outlinewidth": 0,
              "ticks": ""
             }
            },
            "marker": {
             "colorbar": {
              "outlinewidth": 0,
              "ticks": ""
             }
            },
            "type": "scatter3d"
           }
          ],
          "scattercarpet": [
           {
            "marker": {
             "colorbar": {
              "outlinewidth": 0,
              "ticks": ""
             }
            },
            "type": "scattercarpet"
           }
          ],
          "scattergeo": [
           {
            "marker": {
             "colorbar": {
              "outlinewidth": 0,
              "ticks": ""
             }
            },
            "type": "scattergeo"
           }
          ],
          "scattergl": [
           {
            "marker": {
             "colorbar": {
              "outlinewidth": 0,
              "ticks": ""
             }
            },
            "type": "scattergl"
           }
          ],
          "scattermapbox": [
           {
            "marker": {
             "colorbar": {
              "outlinewidth": 0,
              "ticks": ""
             }
            },
            "type": "scattermapbox"
           }
          ],
          "scatterpolar": [
           {
            "marker": {
             "colorbar": {
              "outlinewidth": 0,
              "ticks": ""
             }
            },
            "type": "scatterpolar"
           }
          ],
          "scatterpolargl": [
           {
            "marker": {
             "colorbar": {
              "outlinewidth": 0,
              "ticks": ""
             }
            },
            "type": "scatterpolargl"
           }
          ],
          "scatterternary": [
           {
            "marker": {
             "colorbar": {
              "outlinewidth": 0,
              "ticks": ""
             }
            },
            "type": "scatterternary"
           }
          ],
          "surface": [
           {
            "colorbar": {
             "outlinewidth": 0,
             "ticks": ""
            },
            "colorscale": [
             [
              0,
              "#0d0887"
             ],
             [
              0.1111111111111111,
              "#46039f"
             ],
             [
              0.2222222222222222,
              "#7201a8"
             ],
             [
              0.3333333333333333,
              "#9c179e"
             ],
             [
              0.4444444444444444,
              "#bd3786"
             ],
             [
              0.5555555555555556,
              "#d8576b"
             ],
             [
              0.6666666666666666,
              "#ed7953"
             ],
             [
              0.7777777777777778,
              "#fb9f3a"
             ],
             [
              0.8888888888888888,
              "#fdca26"
             ],
             [
              1,
              "#f0f921"
             ]
            ],
            "type": "surface"
           }
          ],
          "table": [
           {
            "cells": {
             "fill": {
              "color": "#EBF0F8"
             },
             "line": {
              "color": "white"
             }
            },
            "header": {
             "fill": {
              "color": "#C8D4E3"
             },
             "line": {
              "color": "white"
             }
            },
            "type": "table"
           }
          ]
         },
         "layout": {
          "annotationdefaults": {
           "arrowcolor": "#2a3f5f",
           "arrowhead": 0,
           "arrowwidth": 1
          },
          "colorscale": {
           "diverging": [
            [
             0,
             "#8e0152"
            ],
            [
             0.1,
             "#c51b7d"
            ],
            [
             0.2,
             "#de77ae"
            ],
            [
             0.3,
             "#f1b6da"
            ],
            [
             0.4,
             "#fde0ef"
            ],
            [
             0.5,
             "#f7f7f7"
            ],
            [
             0.6,
             "#e6f5d0"
            ],
            [
             0.7,
             "#b8e186"
            ],
            [
             0.8,
             "#7fbc41"
            ],
            [
             0.9,
             "#4d9221"
            ],
            [
             1,
             "#276419"
            ]
           ],
           "sequential": [
            [
             0,
             "#0d0887"
            ],
            [
             0.1111111111111111,
             "#46039f"
            ],
            [
             0.2222222222222222,
             "#7201a8"
            ],
            [
             0.3333333333333333,
             "#9c179e"
            ],
            [
             0.4444444444444444,
             "#bd3786"
            ],
            [
             0.5555555555555556,
             "#d8576b"
            ],
            [
             0.6666666666666666,
             "#ed7953"
            ],
            [
             0.7777777777777778,
             "#fb9f3a"
            ],
            [
             0.8888888888888888,
             "#fdca26"
            ],
            [
             1,
             "#f0f921"
            ]
           ],
           "sequentialminus": [
            [
             0,
             "#0d0887"
            ],
            [
             0.1111111111111111,
             "#46039f"
            ],
            [
             0.2222222222222222,
             "#7201a8"
            ],
            [
             0.3333333333333333,
             "#9c179e"
            ],
            [
             0.4444444444444444,
             "#bd3786"
            ],
            [
             0.5555555555555556,
             "#d8576b"
            ],
            [
             0.6666666666666666,
             "#ed7953"
            ],
            [
             0.7777777777777778,
             "#fb9f3a"
            ],
            [
             0.8888888888888888,
             "#fdca26"
            ],
            [
             1,
             "#f0f921"
            ]
           ]
          },
          "colorway": [
           "#636efa",
           "#EF553B",
           "#00cc96",
           "#ab63fa",
           "#FFA15A",
           "#19d3f3",
           "#FF6692",
           "#B6E880",
           "#FF97FF",
           "#FECB52"
          ],
          "font": {
           "color": "#2a3f5f"
          },
          "geo": {
           "bgcolor": "white",
           "lakecolor": "white",
           "landcolor": "#E5ECF6",
           "showlakes": true,
           "showland": true,
           "subunitcolor": "white"
          },
          "hoverlabel": {
           "align": "left"
          },
          "hovermode": "closest",
          "mapbox": {
           "style": "light"
          },
          "paper_bgcolor": "white",
          "plot_bgcolor": "#E5ECF6",
          "polar": {
           "angularaxis": {
            "gridcolor": "white",
            "linecolor": "white",
            "ticks": ""
           },
           "bgcolor": "#E5ECF6",
           "radialaxis": {
            "gridcolor": "white",
            "linecolor": "white",
            "ticks": ""
           }
          },
          "scene": {
           "xaxis": {
            "backgroundcolor": "#E5ECF6",
            "gridcolor": "white",
            "gridwidth": 2,
            "linecolor": "white",
            "showbackground": true,
            "ticks": "",
            "zerolinecolor": "white"
           },
           "yaxis": {
            "backgroundcolor": "#E5ECF6",
            "gridcolor": "white",
            "gridwidth": 2,
            "linecolor": "white",
            "showbackground": true,
            "ticks": "",
            "zerolinecolor": "white"
           },
           "zaxis": {
            "backgroundcolor": "#E5ECF6",
            "gridcolor": "white",
            "gridwidth": 2,
            "linecolor": "white",
            "showbackground": true,
            "ticks": "",
            "zerolinecolor": "white"
           }
          },
          "shapedefaults": {
           "line": {
            "color": "#2a3f5f"
           }
          },
          "ternary": {
           "aaxis": {
            "gridcolor": "white",
            "linecolor": "white",
            "ticks": ""
           },
           "baxis": {
            "gridcolor": "white",
            "linecolor": "white",
            "ticks": ""
           },
           "bgcolor": "#E5ECF6",
           "caxis": {
            "gridcolor": "white",
            "linecolor": "white",
            "ticks": ""
           }
          },
          "title": {
           "x": 0.05
          },
          "xaxis": {
           "automargin": true,
           "gridcolor": "white",
           "linecolor": "white",
           "ticks": "",
           "zerolinecolor": "white",
           "zerolinewidth": 2
          },
          "yaxis": {
           "automargin": true,
           "gridcolor": "white",
           "linecolor": "white",
           "ticks": "",
           "zerolinecolor": "white",
           "zerolinewidth": 2
          }
         }
        },
        "xaxis": {
         "autorange": true,
         "linecolor": "black",
         "linewidth": 2,
         "range": [
          -0.3905155915794214,
          1.0905155915794214
         ],
         "showline": true,
         "tickangle": 65,
         "ticklen": 5,
         "tickmode": "array",
         "ticks": "inside",
         "ticktext": [
          "MedKD",
          "AvgKD",
          "Q",
          "AKD",
          "0.1",
          "0.2",
          "0.3",
          "0.4",
          "0.5",
          "0.6",
          "0.7",
          "0.8",
          "0.9",
          "1.0"
         ],
         "tickvals": [
          -0.3,
          -0.2,
          -0.1,
          0,
          "0.1",
          "0.2",
          "0.3",
          "0.4",
          "0.5",
          "0.6",
          "0.7",
          "0.8",
          "0.9",
          "1.0"
         ],
         "type": "linear",
         "zeroline": true
        },
        "yaxis": {
         "autorange": true,
         "gridcolor": "lightgrey",
         "gridwidth": 1,
         "linecolor": "black",
         "linewidth": 2,
         "range": [
          -16.714030563786004,
          134.023852563786
         ],
         "showgrid": true,
         "showline": true,
         "ticklen": 5,
         "ticks": "inside",
         "title": {
          "text": "Time [s]"
         },
         "type": "linear",
         "zeroline": false,
         "zerolinecolor": "rgba(0, 0, 0, 0)"
        }
       }
      },
      "image/png": "[encoded data removed]",
      "text/html": [
       "<div>\n",
       "        \n",
       "        \n",
       "            <div id=\"f473d592-5dec-405d-ba63-b01c97ae87e5\" class=\"plotly-graph-div\" style=\"height:525px; width:100%;\"></div>\n",
       "            <script type=\"text/javascript\">\n",
       "                require([\"plotly\"], function(Plotly) {\n",
       "                    window.PLOTLYENV=window.PLOTLYENV || {};\n",
       "                    \n",
       "                if (document.getElementById(\"f473d592-5dec-405d-ba63-b01c97ae87e5\")) {\n",
       "                    Plotly.newPlot(\n",
       "                        'f473d592-5dec-405d-ba63-b01c97ae87e5',\n",
       "                        [{\"marker\": {\"color\": \"rgba(1, 140, 22, 1)\"}, \"mode\": \"lines\", \"name\": \"2 cols\", \"showlegend\": false, \"type\": \"scatter\", \"x\": [\"0.1\", \"0.2\", \"0.3\", \"0.4\", \"0.5\", \"0.6\", \"0.7\", \"0.8\", \"0.9\", \"1.0\"], \"y\": [1.421621, 1.53982, 1.562082, 1.653641, 1.6637890000000002, 1.606588, 1.758398, 1.8267820000000001, 1.731183, 1.688462]}, {\"fill\": \"tonexty\", \"fillcolor\": \"rgba(1, 140, 22, 0.2)\", \"marker\": {\"color\": \"rgba(1, 140, 22, 1)\"}, \"mode\": \"lines\", \"name\": \"2 cols\", \"type\": \"scatter\", \"x\": [\"0.1\", \"0.2\", \"0.3\", \"0.4\", \"0.5\", \"0.6\", \"0.7\", \"0.8\", \"0.9\", \"1.0\"], \"y\": [17.720481, 14.457071999999997, 13.038387, 12.296904999999999, 12.104386000000002, 11.902145, 11.802753, 11.754846, 11.747767, 11.563183]}, {\"marker\": {\"color\": \"rgba(1, 140, 22, 1)\", \"size\": 18, \"symbol\": \"triangle-up\"}, \"mode\": \"markers\", \"name\": \"2 cols\", \"showlegend\": false, \"type\": \"scatter\", \"x\": [\"0.1\", \"0.2\", \"0.3\", \"0.4\", \"0.5\", \"0.6\", \"0.7\", \"0.8\", \"0.9\", \"1.0\"], \"y\": [1.421621, 1.53982, 1.562082, 1.653641, 1.6637890000000002, 1.606588, 1.758398, 1.8267820000000001, 1.731183, 1.688462]}, {\"marker\": {\"color\": \"rgba(1, 140, 22, 1)\", \"size\": 18, \"symbol\": \"triangle-down\"}, \"mode\": \"markers\", \"name\": \"2 cols\", \"showlegend\": false, \"type\": \"scatter\", \"x\": [\"0.1\", \"0.2\", \"0.3\", \"0.4\", \"0.5\", \"0.6\", \"0.7\", \"0.8\", \"0.9\", \"1.0\"], \"y\": [17.720481, 14.457071999999997, 13.038387, 12.296904999999999, 12.104386000000002, 11.902145, 11.802753, 11.754846, 11.747767, 11.563183]}, {\"marker\": {\"color\": \"rgba(1, 140, 22, 1)\", \"size\": 18, \"symbol\": \"triangle-down\"}, \"mode\": \"markers\", \"name\": \"2AKD\", \"showlegend\": false, \"type\": \"scatter\", \"x\": [-0.0], \"y\": [4.870785]}, {\"marker\": {\"color\": \"rgba(1, 140, 22, 1)\", \"size\": 18, \"symbol\": \"triangle-down\"}, \"mode\": \"markers\", \"name\": \"2Quasii\", \"showlegend\": false, \"type\": \"scatter\", \"x\": [-0.1], \"y\": [5.639467000000001]}, {\"marker\": {\"color\": \"rgba(1, 140, 22, 1)\", \"size\": 18, \"symbol\": \"triangle-down\"}, \"mode\": \"markers\", \"name\": \"2AvgKD\", \"showlegend\": false, \"type\": \"scatter\", \"x\": [-0.22], \"y\": [6.071287]}, {\"marker\": {\"color\": \"rgba(1, 140, 22, 1)\", \"size\": 18, \"symbol\": \"triangle-down\"}, \"mode\": \"markers\", \"name\": \"2MedKD\", \"showlegend\": false, \"type\": \"scatter\", \"x\": [-0.3], \"y\": [10.349559]}, {\"marker\": {\"color\": \"rgba(54, 50, 168, 1)\"}, \"mode\": \"lines\", \"name\": \"4 cols\", \"showlegend\": false, \"type\": \"scatter\", \"x\": [\"0.1\", \"0.2\", \"0.3\", \"0.4\", \"0.5\", \"0.6\", \"0.7\", \"0.8\", \"0.9\", \"1.0\"], \"y\": [6.949922, 7.364164000000001, 7.498647, 7.667733, 7.739013, 7.643485, 7.868951000000001, 7.967249, 7.792228, 7.770982]}, {\"fill\": \"tonexty\", \"fillcolor\": \"rgba(54, 50, 168, 0.2)\", \"marker\": {\"color\": \"rgba(54, 50, 168, 1)\"}, \"mode\": \"lines\", \"name\": \"4 cols\", \"type\": \"scatter\", \"x\": [\"0.1\", \"0.2\", \"0.3\", \"0.4\", \"0.5\", \"0.6\", \"0.7\", \"0.8\", \"0.9\", \"1.0\"], \"y\": [39.08442599999999, 33.824514, 30.107371, 29.14564, 28.232701999999996, 13.915901, 13.671614, 13.469237000000001, 13.385223, 13.275388000000001]}, {\"marker\": {\"color\": \"rgba(54, 50, 168, 1)\", \"size\": 18, \"symbol\": \"triangle-up\"}, \"mode\": \"markers\", \"name\": \"4 cols\", \"showlegend\": false, \"type\": \"scatter\", \"x\": [\"0.1\", \"0.2\", \"0.3\", \"0.4\", \"0.5\", \"0.6\", \"0.7\", \"0.8\", \"0.9\", \"1.0\"], \"y\": [6.949922, 7.364164000000001, 7.498647, 7.667733, 7.739013, 7.643485, 7.868951000000001, 7.967249, 7.792228, 7.770982]}, {\"marker\": {\"color\": \"rgba(54, 50, 168, 1)\", \"size\": 18, \"symbol\": \"triangle-down\"}, \"mode\": \"markers\", \"name\": \"4 cols\", \"showlegend\": false, \"type\": \"scatter\", \"x\": [\"0.1\", \"0.2\", \"0.3\", \"0.4\", \"0.5\", \"0.6\", \"0.7\", \"0.8\", \"0.9\", \"1.0\"], \"y\": [39.08442599999999, 33.824514, 30.107371, 29.14564, 28.232701999999996, 13.915901, 13.671614, 13.469237000000001, 13.385223, 13.275388000000001]}, {\"marker\": {\"color\": \"rgba(54, 50, 168, 1)\", \"size\": 18, \"symbol\": \"triangle-down\"}, \"mode\": \"markers\", \"name\": \"4AKD\", \"showlegend\": false, \"type\": \"scatter\", \"x\": [-0.0], \"y\": [12.629574]}, {\"marker\": {\"color\": \"rgba(54, 50, 168, 1)\", \"size\": 18, \"symbol\": \"triangle-down\"}, \"mode\": \"markers\", \"name\": \"4Quasii\", \"showlegend\": false, \"type\": \"scatter\", \"x\": [-0.1], \"y\": [11.945191]}, {\"marker\": {\"color\": \"rgba(54, 50, 168, 1)\", \"size\": 18, \"symbol\": \"triangle-down\"}, \"mode\": \"markers\", \"name\": \"4AvgKD\", \"showlegend\": false, \"type\": \"scatter\", \"x\": [-0.22], \"y\": [12.929284000000003]}, {\"marker\": {\"color\": \"rgba(54, 50, 168, 1)\", \"size\": 18, \"symbol\": \"triangle-down\"}, \"mode\": \"markers\", \"name\": \"4MedKD\", \"showlegend\": false, \"type\": \"scatter\", \"x\": [-0.3], \"y\": [17.232645999999995]}, {\"marker\": {\"color\": \"rgba(235, 7, 7, 1)\"}, \"mode\": \"lines\", \"name\": \"6 cols\", \"showlegend\": false, \"type\": \"scatter\", \"x\": [\"0.1\", \"0.2\", \"0.3\", \"0.4\", \"0.5\", \"0.6\", \"0.7\", \"0.8\", \"0.9\", \"1.0\"], \"y\": [25.385251000000004, 26.778706999999997, 27.219207, 27.579770000000003, 27.741889, 27.728258, 28.056812, 28.161868000000002, 27.987761, 30.399013000000004]}, {\"fill\": \"tonexty\", \"fillcolor\": \"rgba(235, 7, 7, 0.2)\", \"marker\": {\"color\": \"rgba(235, 7, 7, 1)\"}, \"mode\": \"lines\", \"name\": \"6 cols\", \"type\": \"scatter\", \"x\": [\"0.1\", \"0.2\", \"0.3\", \"0.4\", \"0.5\", \"0.6\", \"0.7\", \"0.8\", \"0.9\", \"1.0\"], \"y\": [49.154064, 41.363350000000004, 38.746769, 37.309922, 36.840655999999996, 36.473276, 36.316805, 35.999334000000005, 35.775784, 38.170792]}, {\"marker\": {\"color\": \"rgba(235, 7, 7, 1)\", \"size\": 18, \"symbol\": \"triangle-up\"}, \"mode\": \"markers\", \"name\": \"6 cols\", \"showlegend\": false, \"type\": \"scatter\", \"x\": [\"0.1\", \"0.2\", \"0.3\", \"0.4\", \"0.5\", \"0.6\", \"0.7\", \"0.8\", \"0.9\", \"1.0\"], \"y\": [25.385251000000004, 26.778706999999997, 27.219207, 27.579770000000003, 27.741889, 27.728258, 28.056812, 28.161868000000002, 27.987761, 30.399013000000004]}, {\"marker\": {\"color\": \"rgba(235, 7, 7, 1)\", \"size\": 18, \"symbol\": \"triangle-down\"}, \"mode\": \"markers\", \"name\": \"6 cols\", \"showlegend\": false, \"type\": \"scatter\", \"x\": [\"0.1\", \"0.2\", \"0.3\", \"0.4\", \"0.5\", \"0.6\", \"0.7\", \"0.8\", \"0.9\", \"1.0\"], \"y\": [49.154064, 41.363350000000004, 38.746769, 37.309922, 36.840655999999996, 36.473276, 36.316805, 35.999334000000005, 35.775784, 38.170792]}, {\"marker\": {\"color\": \"rgba(235, 7, 7, 1)\", \"size\": 18, \"symbol\": \"triangle-down\"}, \"mode\": \"markers\", \"name\": \"6AKD\", \"showlegend\": false, \"type\": \"scatter\", \"x\": [-0.0], \"y\": [36.026379999999996]}, {\"marker\": {\"color\": \"rgba(235, 7, 7, 1)\", \"size\": 18, \"symbol\": \"triangle-down\"}, \"mode\": \"markers\", \"name\": \"6Quasii\", \"showlegend\": false, \"type\": \"scatter\", \"x\": [-0.1], \"y\": [30.763875]}, {\"marker\": {\"color\": \"rgba(235, 7, 7, 1)\", \"size\": 18, \"symbol\": \"triangle-down\"}, \"mode\": \"markers\", \"name\": \"6AvgKD\", \"showlegend\": false, \"type\": \"scatter\", \"x\": [-0.22], \"y\": [34.59402899999999]}, {\"marker\": {\"color\": \"rgba(235, 7, 7, 1)\", \"size\": 18, \"symbol\": \"triangle-down\"}, \"mode\": \"markers\", \"name\": \"6MedKD\", \"showlegend\": false, \"type\": \"scatter\", \"x\": [-0.3], \"y\": [38.945598]}, {\"marker\": {\"color\": \"rgba(168, 50, 119, 1)\"}, \"mode\": \"lines\", \"name\": \"8 cols\", \"showlegend\": false, \"type\": \"scatter\", \"x\": [\"0.1\", \"0.2\", \"0.3\", \"0.4\", \"0.5\", \"0.6\", \"0.7\", \"0.8\", \"0.9\", \"1.0\"], \"y\": [75.940442, 80.89284, 87.808603, 83.521315, 84.005315, 83.583732, 84.26999, 84.698498, 84.35025200000001, 84.583328]}, {\"fill\": \"tonexty\", \"fillcolor\": \"rgba(168, 50, 119, 0.2)\", \"marker\": {\"color\": \"rgba(168, 50, 119, 1)\"}, \"mode\": \"lines\", \"name\": \"8 cols\", \"type\": \"scatter\", \"x\": [\"0.1\", \"0.2\", \"0.3\", \"0.4\", \"0.5\", \"0.6\", \"0.7\", \"0.8\", \"0.9\", \"1.0\"], \"y\": [115.888201, 103.396424, 105.42736500000001, 98.18572, 97.23752400000001, 95.70613200000001, 95.56387899999999, 95.110084, 94.653807, 94.735098]}, {\"marker\": {\"color\": \"rgba(168, 50, 119, 1)\", \"size\": 18, \"symbol\": \"triangle-up\"}, \"mode\": \"markers\", \"name\": \"8 cols\", \"showlegend\": false, \"type\": \"scatter\", \"x\": [\"0.1\", \"0.2\", \"0.3\", \"0.4\", \"0.5\", \"0.6\", \"0.7\", \"0.8\", \"0.9\", \"1.0\"], \"y\": [75.940442, 80.89284, 87.808603, 83.521315, 84.005315, 83.583732, 84.26999, 84.698498, 84.35025200000001, 84.583328]}, {\"marker\": {\"color\": \"rgba(168, 50, 119, 1)\", \"size\": 18, \"symbol\": \"triangle-down\"}, \"mode\": \"markers\", \"name\": \"8 cols\", \"showlegend\": false, \"type\": \"scatter\", \"x\": [\"0.1\", \"0.2\", \"0.3\", \"0.4\", \"0.5\", \"0.6\", \"0.7\", \"0.8\", \"0.9\", \"1.0\"], \"y\": [115.888201, 103.396424, 105.42736500000001, 98.18572, 97.23752400000001, 95.70613200000001, 95.56387899999999, 95.110084, 94.653807, 94.735098]}, {\"marker\": {\"color\": \"rgba(168, 50, 119, 1)\", \"size\": 18, \"symbol\": \"triangle-down\"}, \"mode\": \"markers\", \"name\": \"8AKD\", \"showlegend\": false, \"type\": \"scatter\", \"x\": [-0.0], \"y\": [63.085277000000005]}, {\"marker\": {\"color\": \"rgba(168, 50, 119, 1)\", \"size\": 18, \"symbol\": \"triangle-down\"}, \"mode\": \"markers\", \"name\": \"8Quasii\", \"showlegend\": false, \"type\": \"scatter\", \"x\": [-0.1], \"y\": [79.218968]}, {\"marker\": {\"color\": \"rgba(168, 50, 119, 1)\", \"size\": 18, \"symbol\": \"triangle-down\"}, \"mode\": \"markers\", \"name\": \"8AvgKD\", \"showlegend\": false, \"type\": \"scatter\", \"x\": [-0.22], \"y\": [94.1447]}, {\"marker\": {\"color\": \"rgba(168, 50, 119, 1)\", \"size\": 18, \"symbol\": \"triangle-down\"}, \"mode\": \"markers\", \"name\": \"8MedKD\", \"showlegend\": false, \"type\": \"scatter\", \"x\": [-0.3], \"y\": [98.290064]}, {\"marker\": {\"color\": \"black\", \"size\": 18, \"symbol\": \"triangle-up\"}, \"mode\": \"markers\", \"name\": \"After\", \"type\": \"scatter\", \"x\": [null], \"y\": [null]}, {\"marker\": {\"color\": \"black\", \"size\": 18, \"symbol\": \"triangle-down\"}, \"mode\": \"markers\", \"name\": \"Total\", \"type\": \"scatter\", \"x\": [null], \"y\": [null]}],\n",
       "                        {\"annotations\": [{\"text\": \"(PKD) Delta\", \"x\": 0.5, \"xref\": \"x\", \"y\": -0.35, \"yref\": \"paper\"}], \"autosize\": true, \"font\": {\"size\": 42}, \"legend\": {\"font\": {\"color\": \"black\", \"size\": 30}}, \"margin\": {\"b\": 150}, \"plot_bgcolor\": \"rgba(0,0,0,0)\", \"shapes\": [{\"line\": {\"dash\": \"dot\", \"width\": 4}, \"opacity\": 0.3, \"type\": \"line\", \"x0\": 0.2, \"x1\": 0.2, \"y0\": 0, \"y1\": 1, \"yref\": \"paper\"}], \"showlegend\": true, \"template\": {\"data\": {\"bar\": [{\"error_x\": {\"color\": \"#2a3f5f\"}, \"error_y\": {\"color\": \"#2a3f5f\"}, \"marker\": {\"line\": {\"color\": \"#E5ECF6\", \"width\": 0.5}}, \"type\": \"bar\"}], \"barpolar\": [{\"marker\": {\"line\": {\"color\": \"#E5ECF6\", \"width\": 0.5}}, \"type\": \"barpolar\"}], \"carpet\": [{\"aaxis\": {\"endlinecolor\": \"#2a3f5f\", \"gridcolor\": \"white\", \"linecolor\": \"white\", \"minorgridcolor\": \"white\", \"startlinecolor\": \"#2a3f5f\"}, \"baxis\": {\"endlinecolor\": \"#2a3f5f\", \"gridcolor\": \"white\", \"linecolor\": \"white\", \"minorgridcolor\": \"white\", \"startlinecolor\": \"#2a3f5f\"}, \"type\": \"carpet\"}], \"choropleth\": [{\"colorbar\": {\"outlinewidth\": 0, \"ticks\": \"\"}, \"type\": \"choropleth\"}], \"contour\": [{\"colorbar\": {\"outlinewidth\": 0, \"ticks\": \"\"}, \"colorscale\": [[0.0, \"#0d0887\"], [0.1111111111111111, \"#46039f\"], [0.2222222222222222, \"#7201a8\"], [0.3333333333333333, \"#9c179e\"], [0.4444444444444444, \"#bd3786\"], [0.5555555555555556, \"#d8576b\"], [0.6666666666666666, \"#ed7953\"], [0.7777777777777778, \"#fb9f3a\"], [0.8888888888888888, \"#fdca26\"], [1.0, \"#f0f921\"]], \"type\": \"contour\"}], \"contourcarpet\": [{\"colorbar\": {\"outlinewidth\": 0, \"ticks\": \"\"}, \"type\": \"contourcarpet\"}], \"heatmap\": [{\"colorbar\": {\"outlinewidth\": 0, \"ticks\": \"\"}, \"colorscale\": [[0.0, \"#0d0887\"], [0.1111111111111111, \"#46039f\"], [0.2222222222222222, \"#7201a8\"], [0.3333333333333333, \"#9c179e\"], [0.4444444444444444, \"#bd3786\"], [0.5555555555555556, \"#d8576b\"], [0.6666666666666666, \"#ed7953\"], [0.7777777777777778, \"#fb9f3a\"], [0.8888888888888888, \"#fdca26\"], [1.0, \"#f0f921\"]], \"type\": \"heatmap\"}], \"heatmapgl\": [{\"colorbar\": {\"outlinewidth\": 0, \"ticks\": \"\"}, \"colorscale\": [[0.0, \"#0d0887\"], [0.1111111111111111, \"#46039f\"], [0.2222222222222222, \"#7201a8\"], [0.3333333333333333, \"#9c179e\"], [0.4444444444444444, \"#bd3786\"], [0.5555555555555556, \"#d8576b\"], [0.6666666666666666, \"#ed7953\"], [0.7777777777777778, \"#fb9f3a\"], [0.8888888888888888, \"#fdca26\"], [1.0, \"#f0f921\"]], \"type\": \"heatmapgl\"}], \"histogram\": [{\"marker\": {\"colorbar\": {\"outlinewidth\": 0, \"ticks\": \"\"}}, \"type\": \"histogram\"}], \"histogram2d\": [{\"colorbar\": {\"outlinewidth\": 0, \"ticks\": \"\"}, \"colorscale\": [[0.0, \"#0d0887\"], [0.1111111111111111, \"#46039f\"], [0.2222222222222222, \"#7201a8\"], [0.3333333333333333, \"#9c179e\"], [0.4444444444444444, \"#bd3786\"], [0.5555555555555556, \"#d8576b\"], [0.6666666666666666, \"#ed7953\"], [0.7777777777777778, \"#fb9f3a\"], [0.8888888888888888, \"#fdca26\"], [1.0, \"#f0f921\"]], \"type\": \"histogram2d\"}], \"histogram2dcontour\": [{\"colorbar\": {\"outlinewidth\": 0, \"ticks\": \"\"}, \"colorscale\": [[0.0, \"#0d0887\"], [0.1111111111111111, \"#46039f\"], [0.2222222222222222, \"#7201a8\"], [0.3333333333333333, \"#9c179e\"], [0.4444444444444444, \"#bd3786\"], [0.5555555555555556, \"#d8576b\"], [0.6666666666666666, \"#ed7953\"], [0.7777777777777778, \"#fb9f3a\"], [0.8888888888888888, \"#fdca26\"], [1.0, \"#f0f921\"]], \"type\": \"histogram2dcontour\"}], \"mesh3d\": [{\"colorbar\": {\"outlinewidth\": 0, \"ticks\": \"\"}, \"type\": \"mesh3d\"}], \"parcoords\": [{\"line\": {\"colorbar\": {\"outlinewidth\": 0, \"ticks\": \"\"}}, \"type\": \"parcoords\"}], \"scatter\": [{\"marker\": {\"colorbar\": {\"outlinewidth\": 0, \"ticks\": \"\"}}, \"type\": \"scatter\"}], \"scatter3d\": [{\"line\": {\"colorbar\": {\"outlinewidth\": 0, \"ticks\": \"\"}}, \"marker\": {\"colorbar\": {\"outlinewidth\": 0, \"ticks\": \"\"}}, \"type\": \"scatter3d\"}], \"scattercarpet\": [{\"marker\": {\"colorbar\": {\"outlinewidth\": 0, \"ticks\": \"\"}}, \"type\": \"scattercarpet\"}], \"scattergeo\": [{\"marker\": {\"colorbar\": {\"outlinewidth\": 0, \"ticks\": \"\"}}, \"type\": \"scattergeo\"}], \"scattergl\": [{\"marker\": {\"colorbar\": {\"outlinewidth\": 0, \"ticks\": \"\"}}, \"type\": \"scattergl\"}], \"scattermapbox\": [{\"marker\": {\"colorbar\": {\"outlinewidth\": 0, \"ticks\": \"\"}}, \"type\": \"scattermapbox\"}], \"scatterpolar\": [{\"marker\": {\"colorbar\": {\"outlinewidth\": 0, \"ticks\": \"\"}}, \"type\": \"scatterpolar\"}], \"scatterpolargl\": [{\"marker\": {\"colorbar\": {\"outlinewidth\": 0, \"ticks\": \"\"}}, \"type\": \"scatterpolargl\"}], \"scatterternary\": [{\"marker\": {\"colorbar\": {\"outlinewidth\": 0, \"ticks\": \"\"}}, \"type\": \"scatterternary\"}], \"surface\": [{\"colorbar\": {\"outlinewidth\": 0, \"ticks\": \"\"}, \"colorscale\": [[0.0, \"#0d0887\"], [0.1111111111111111, \"#46039f\"], [0.2222222222222222, \"#7201a8\"], [0.3333333333333333, \"#9c179e\"], [0.4444444444444444, \"#bd3786\"], [0.5555555555555556, \"#d8576b\"], [0.6666666666666666, \"#ed7953\"], [0.7777777777777778, \"#fb9f3a\"], [0.8888888888888888, \"#fdca26\"], [1.0, \"#f0f921\"]], \"type\": \"surface\"}], \"table\": [{\"cells\": {\"fill\": {\"color\": \"#EBF0F8\"}, \"line\": {\"color\": \"white\"}}, \"header\": {\"fill\": {\"color\": \"#C8D4E3\"}, \"line\": {\"color\": \"white\"}}, \"type\": \"table\"}]}, \"layout\": {\"annotationdefaults\": {\"arrowcolor\": \"#2a3f5f\", \"arrowhead\": 0, \"arrowwidth\": 1}, \"colorscale\": {\"diverging\": [[0, \"#8e0152\"], [0.1, \"#c51b7d\"], [0.2, \"#de77ae\"], [0.3, \"#f1b6da\"], [0.4, \"#fde0ef\"], [0.5, \"#f7f7f7\"], [0.6, \"#e6f5d0\"], [0.7, \"#b8e186\"], [0.8, \"#7fbc41\"], [0.9, \"#4d9221\"], [1, \"#276419\"]], \"sequential\": [[0.0, \"#0d0887\"], [0.1111111111111111, \"#46039f\"], [0.2222222222222222, \"#7201a8\"], [0.3333333333333333, \"#9c179e\"], [0.4444444444444444, \"#bd3786\"], [0.5555555555555556, \"#d8576b\"], [0.6666666666666666, \"#ed7953\"], [0.7777777777777778, \"#fb9f3a\"], [0.8888888888888888, \"#fdca26\"], [1.0, \"#f0f921\"]], \"sequentialminus\": [[0.0, \"#0d0887\"], [0.1111111111111111, \"#46039f\"], [0.2222222222222222, \"#7201a8\"], [0.3333333333333333, \"#9c179e\"], [0.4444444444444444, \"#bd3786\"], [0.5555555555555556, \"#d8576b\"], [0.6666666666666666, \"#ed7953\"], [0.7777777777777778, \"#fb9f3a\"], [0.8888888888888888, \"#fdca26\"], [1.0, \"#f0f921\"]]}, \"colorway\": [\"#636efa\", \"#EF553B\", \"#00cc96\", \"#ab63fa\", \"#FFA15A\", \"#19d3f3\", \"#FF6692\", \"#B6E880\", \"#FF97FF\", \"#FECB52\"], \"font\": {\"color\": \"#2a3f5f\"}, \"geo\": {\"bgcolor\": \"white\", \"lakecolor\": \"white\", \"landcolor\": \"#E5ECF6\", \"showlakes\": true, \"showland\": true, \"subunitcolor\": \"white\"}, \"hoverlabel\": {\"align\": \"left\"}, \"hovermode\": \"closest\", \"mapbox\": {\"style\": \"light\"}, \"paper_bgcolor\": \"white\", \"plot_bgcolor\": \"#E5ECF6\", \"polar\": {\"angularaxis\": {\"gridcolor\": \"white\", \"linecolor\": \"white\", \"ticks\": \"\"}, \"bgcolor\": \"#E5ECF6\", \"radialaxis\": {\"gridcolor\": \"white\", \"linecolor\": \"white\", \"ticks\": \"\"}}, \"scene\": {\"xaxis\": {\"backgroundcolor\": \"#E5ECF6\", \"gridcolor\": \"white\", \"gridwidth\": 2, \"linecolor\": \"white\", \"showbackground\": true, \"ticks\": \"\", \"zerolinecolor\": \"white\"}, \"yaxis\": {\"backgroundcolor\": \"#E5ECF6\", \"gridcolor\": \"white\", \"gridwidth\": 2, \"linecolor\": \"white\", \"showbackground\": true, \"ticks\": \"\", \"zerolinecolor\": \"white\"}, \"zaxis\": {\"backgroundcolor\": \"#E5ECF6\", \"gridcolor\": \"white\", \"gridwidth\": 2, \"linecolor\": \"white\", \"showbackground\": true, \"ticks\": \"\", \"zerolinecolor\": \"white\"}}, \"shapedefaults\": {\"line\": {\"color\": \"#2a3f5f\"}}, \"ternary\": {\"aaxis\": {\"gridcolor\": \"white\", \"linecolor\": \"white\", \"ticks\": \"\"}, \"baxis\": {\"gridcolor\": \"white\", \"linecolor\": \"white\", \"ticks\": \"\"}, \"bgcolor\": \"#E5ECF6\", \"caxis\": {\"gridcolor\": \"white\", \"linecolor\": \"white\", \"ticks\": \"\"}}, \"title\": {\"x\": 0.05}, \"xaxis\": {\"automargin\": true, \"gridcolor\": \"white\", \"linecolor\": \"white\", \"ticks\": \"\", \"zerolinecolor\": \"white\", \"zerolinewidth\": 2}, \"yaxis\": {\"automargin\": true, \"gridcolor\": \"white\", \"linecolor\": \"white\", \"ticks\": \"\", \"zerolinecolor\": \"white\", \"zerolinewidth\": 2}}}, \"xaxis\": {\"linecolor\": \"black\", \"linewidth\": 2, \"showline\": true, \"tickangle\": 65, \"ticklen\": 5, \"tickmode\": \"array\", \"ticks\": \"inside\", \"ticktext\": [\"MedKD\", \"AvgKD\", \"Q\", \"AKD\", \"0.1\", \"0.2\", \"0.3\", \"0.4\", \"0.5\", \"0.6\", \"0.7\", \"0.8\", \"0.9\", \"1.0\"], \"tickvals\": [-0.3, -0.2, -0.1, -0.0, \"0.1\", \"0.2\", \"0.3\", \"0.4\", \"0.5\", \"0.6\", \"0.7\", \"0.8\", \"0.9\", \"1.0\"], \"zeroline\": true}, \"yaxis\": {\"gridcolor\": \"lightgrey\", \"gridwidth\": 1, \"linecolor\": \"black\", \"linewidth\": 2, \"showgrid\": true, \"showline\": true, \"ticklen\": 5, \"ticks\": \"inside\", \"title\": {\"text\": \"Time [s]\"}, \"zeroline\": false, \"zerolinecolor\": \"rgba(0, 0, 0, 0)\"}},\n",
       "                        {\"responsive\": true}\n",
       "                    ).then(function(){\n",
       "                            \n",
       "var gd = document.getElementById('f473d592-5dec-405d-ba63-b01c97ae87e5');\n",
       "var x = new MutationObserver(function (mutations, observer) {{\n",
       "        var display = window.getComputedStyle(gd).display;\n",
       "        if (!display || display === 'none') {{\n",
       "            console.log([gd, 'removed!']);\n",
       "            Plotly.purge(gd);\n",
       "            observer.disconnect();\n",
       "        }}\n",
       "}});\n",
       "\n",
       "// Listen for the removal of the full notebook cells\n",
       "var notebookContainer = gd.closest('#notebook-container');\n",
       "if (notebookContainer) {{\n",
       "    x.observe(notebookContainer, {childList: true});\n",
       "}}\n",
       "\n",
       "// Listen for the clearing of the current output cell\n",
       "var outputEl = gd.closest('.output');\n",
       "if (outputEl) {{\n",
       "    x.observe(outputEl, {childList: true});\n",
       "}}\n",
       "\n",
       "                        })\n",
       "                };\n",
       "                });\n",
       "            </script>\n",
       "        </div>"
      ]
     },
     "metadata": {},
     "output_type": "display_data"
    }
   ],
   "source": [
    "algs = [f'ProgressiveIndex_{d}' for d in deltas]\n",
    "exp = 'Uniform8'\n",
    "fig = create_figure()\n",
    "\n",
    "cols = [2, 4, 6, 8]\n",
    "markers = delta_markers\n",
    "colors = ['rgba(168, 50, 119, 1)', 'rgba(235, 7, 7, 1)', 'rgba(54, 50, 168, 1)', 'rgba(1, 140, 22, 1)']\n",
    "colors.reverse()\n",
    "fill_colors = ['rgba(168, 50, 119, 0.2)', 'rgba(235, 7, 7, 0.2)', 'rgba(54, 50, 168, 0.2)', 'rgba(1, 140, 22, 0.2)']\n",
    "fill_colors.reverse()\n",
    "lines = []\n",
    "\n",
    "for i, marker, color, fill_color in zip(cols, markers, colors, fill_colors):\n",
    "    fq_times = []\n",
    "    # Plot afters\n",
    "    for d in deltas:\n",
    "        fq_times.append(\n",
    "            get_total_time(\n",
    "                read(f'ProgressiveIndex_{d}', f'Uniform{i}'),\n",
    "                lower=get_convergence(read(f'ProgressiveIndex_{d}', f'Uniform{i}'))\n",
    "            )\n",
    "        )\n",
    "    lines.append(\n",
    "        go.Scatter(\n",
    "            name=f'{i} cols',\n",
    "            x=deltas,\n",
    "            y=fq_times,\n",
    "            mode='lines',\n",
    "            marker_color=color,\n",
    "            showlegend=False\n",
    "        )\n",
    "    )\n",
    "\n",
    "    \n",
    "    # Plot totals\n",
    "    fq_times = []\n",
    "    for d in deltas:\n",
    "        fq_times.append(\n",
    "            get_total_time(\n",
    "                read(f'ProgressiveIndex_{d}', f'Uniform{i}')\n",
    "            )\n",
    "        )\n",
    "    lines.append(\n",
    "        go.Scatter(\n",
    "            name=f'{i} cols',\n",
    "            x=deltas,\n",
    "            y=fq_times,\n",
    "            mode='lines',\n",
    "            marker_color=color,\n",
    "            fill='tonexty',\n",
    "            fillcolor=fill_color\n",
    "        )\n",
    "    )\n",
    "    \n",
    "    fq_times = []\n",
    "    # Plot afters triangles\n",
    "    for d in deltas:\n",
    "        fq_times.append(\n",
    "            get_total_time(\n",
    "                read(f'ProgressiveIndex_{d}', f'Uniform{i}'),\n",
    "                lower=get_convergence(read(f'ProgressiveIndex_{d}', f'Uniform{i}'))\n",
    "            )\n",
    "        )\n",
    "    lines.append(\n",
    "        go.Scatter(\n",
    "            name=f'{i} cols',\n",
    "            x=deltas,\n",
    "            y=fq_times,\n",
    "            mode='markers',\n",
    "            marker_color=color,\n",
    "            marker=dict(\n",
    "                size=18,\n",
    "                symbol='triangle-up'\n",
    "            ),\n",
    "            showlegend=False\n",
    "        )\n",
    "    )\n",
    "\n",
    "    \n",
    "    # Plot totals triangles\n",
    "    fq_times = []\n",
    "    for d in deltas:\n",
    "        fq_times.append(\n",
    "            get_total_time(\n",
    "                read(f'ProgressiveIndex_{d}', f'Uniform{i}')\n",
    "            )\n",
    "        )\n",
    "    lines.append(\n",
    "        go.Scatter(\n",
    "            name=f'{i} cols',\n",
    "            x=deltas,\n",
    "            y=fq_times,\n",
    "            mode='markers',\n",
    "            marker_color=color,\n",
    "            marker=dict(\n",
    "                size=18,\n",
    "                symbol='triangle-down'\n",
    "            ),\n",
    "            showlegend=False\n",
    "        )\n",
    "    )\n",
    "    \n",
    "    # add other indices values\n",
    "    lines.append(\n",
    "        go.Scatter(\n",
    "            name=f'{i}AKD',\n",
    "            x=[-0.0],\n",
    "            y=[get_total_time(read(f'CrackingKDTree' ,f'Uniform{i}'))],\n",
    "            mode='markers',\n",
    "            marker_color=color,\n",
    "            marker=dict(\n",
    "                size=18,\n",
    "                symbol='triangle-down'\n",
    "            ),\n",
    "            showlegend=False\n",
    "        )\n",
    "    )\n",
    "    \n",
    "    lines.append(\n",
    "        go.Scatter(\n",
    "            name=f'{i}Quasii',\n",
    "            x=[-0.1],\n",
    "            y=[get_total_time(read(f'Quasii' ,f'Uniform{i}'))],\n",
    "            mode='markers',\n",
    "            marker_color=color,\n",
    "            marker=dict(\n",
    "                size=18,\n",
    "                symbol='triangle-down'\n",
    "            ),\n",
    "            showlegend=False\n",
    "        )\n",
    "    )\n",
    "    \n",
    "    lines.append(\n",
    "        go.Scatter(\n",
    "            name=f'{i}AvgKD',\n",
    "            x=[-0.22],\n",
    "            y=[get_total_time(read(f'AverageKDTree' ,f'Uniform{i}'))],\n",
    "            mode='markers',\n",
    "            marker_color=color,\n",
    "            marker=dict(\n",
    "                size=18,\n",
    "                symbol='triangle-down'\n",
    "            ),\n",
    "            showlegend=False\n",
    "        )\n",
    "    )\n",
    "    \n",
    "    lines.append(\n",
    "        go.Scatter(\n",
    "            name=f'{i}MedKD',\n",
    "            x=[-0.3],\n",
    "            y=[get_total_time(read(f'MedianKDTree' ,f'Uniform{i}'))],\n",
    "            mode='markers',\n",
    "            marker_color=color,\n",
    "            marker=dict(\n",
    "                size=18,\n",
    "                symbol='triangle-down'\n",
    "            ),\n",
    "            showlegend=False\n",
    "        )\n",
    "    )\n",
    "\n",
    "\n",
    "# Add triangles in the legend\n",
    "lines.append(\n",
    "        go.Scatter(\n",
    "            name=f'After',\n",
    "            x=[None],\n",
    "            y=[None],\n",
    "            mode='markers',\n",
    "            marker_color='black',\n",
    "            marker=dict(\n",
    "                size=18,\n",
    "                symbol='triangle-up'\n",
    "            ),\n",
    "        )\n",
    "    )\n",
    "\n",
    "lines.append(\n",
    "        go.Scatter(\n",
    "            name=f'Total',\n",
    "            x=[None],\n",
    "            y=[None],\n",
    "            mode='markers',\n",
    "            marker_color='black',\n",
    "            marker=dict(\n",
    "                size=18,\n",
    "                symbol='triangle-down'\n",
    "            ),\n",
    "        )\n",
    "    )\n",
    "\n",
    "\n",
    "\n",
    "fig.add_traces(data=lines)\n",
    "fig.update_layout(showlegend=True, yaxis_title='Time [s]',)\n",
    "fig.update_xaxes(tickangle=65)\n",
    "fig.update_layout(\n",
    "    xaxis = dict(\n",
    "        tickmode = 'array',\n",
    "        tickvals = [-0.3, -0.2, -0.1, -0.0] + deltas,\n",
    "        ticktext = ['MedKD', 'AvgKD', 'Q', 'AKD'] + deltas\n",
    "    ),\n",
    "    shapes=[\n",
    "        dict(\n",
    "            type= 'line',\n",
    "            yref=\"paper\", y0= 0, y1=1,\n",
    "            x0= 0.2, x1=0.2,\n",
    "            opacity=0.3,\n",
    "            line=dict(\n",
    "                width=4,\n",
    "                dash=\"dot\",\n",
    "            )\n",
    "        )\n",
    "    ],\n",
    "    annotations=[\n",
    "        dict(\n",
    "            x=0.5,\n",
    "            y=-0.35,\n",
    "            text=\"(PKD) Delta\",\n",
    "            xref=\"x\",\n",
    "            yref=\"paper\",\n",
    "        )\n",
    "    ],\n",
    "    autosize=True,\n",
    "    margin=dict(\n",
    "        b=150\n",
    "    ),\n",
    ")\n",
    "fig"
   ]
  },
  {
   "cell_type": "code",
   "execution_count": 58,
   "metadata": {},
   "outputs": [
    {
     "data": {
      "text/plain": [
       "1000"
      ]
     },
     "execution_count": 58,
     "metadata": {},
     "output_type": "execute_result"
    }
   ],
   "source": [
    "len(read('ProgressiveIndex_0.1', 'Uniform8'))"
   ]
  },
  {
   "cell_type": "code",
   "execution_count": null,
   "metadata": {},
   "outputs": [],
   "source": []
  }
 ],
 "metadata": {
  "kernelspec": {
   "display_name": "Python 3",
   "language": "python",
   "name": "python3"
  },
  "language_info": {
   "codemirror_mode": {
    "name": "ipython",
    "version": 3
   },
   "file_extension": ".py",
   "mimetype": "text/x-python",
   "name": "python",
   "nbconvert_exporter": "python",
   "pygments_lexer": "ipython3",
   "version": "3.7.1"
  }
 },
 "nbformat": 4,
 "nbformat_minor": 4
}
