{
 "cells": [
  {
   "cell_type": "code",
   "execution_count": 2,
   "metadata": {},
   "outputs": [],
   "source": [
    "import pandas as pd\n",
    "import matplotlib.pyplot as plt\n",
    "import plotly.graph_objects as go\n",
    "import numpy as np\n",
    "import json\n",
    "pd.set_option('display.max_rows', 1000)\n",
    "%matplotlib inline"
   ]
  },
  {
   "cell_type": "code",
   "execution_count": 97,
   "metadata": {},
   "outputs": [],
   "source": [
    "# Read config\n",
    "with open('config.json') as json_file:\n",
    "    f = json.load(json_file)\n",
    "    NUMBER_OF_QUERIES = f['number_of_queries']\n",
    "    REPETITIONS = f['repetitions']\n",
    "    ROWS = f['rows']\n",
    "    SELECTIVITIES = [f['selectivity']]\n",
    "    COLS = f['cols']\n",
    "    EXPS_DEFAULTS = f['experiments']\n",
    "    PARTITION_SIZE = f['partition_size']\n",
    "    PROGRESSIVE_INDEX_DELTAS = f['deltas']\n",
    "\n",
    "# Algorithms and Experiments defitions\n",
    "algorithms = {\n",
    "    'FullScan': {\n",
    "        'name': 'full_scan_cl',\n",
    "        'color': 'black',\n",
    "        'dash': 'dot',\n",
    "        'show_name': 'FS',\n",
    "        'type': 'full_index',\n",
    "        'partition_size': '0',\n",
    "        'delta':'0.0',\n",
    "    },\n",
    "    'ProgressiveIndexTimeLimit': {\n",
    "        'name': 'progressive_index_time_limit',\n",
    "        'color': 'purple',\n",
    "        'dash': 'dot',\n",
    "        'show_name': 'GPFP(0.5)',\n",
    "        'type': 'adaptive',\n",
    "        'delta': PROGRESSIVE_INDEX_DELTAS[0],\n",
    "        'partition_size': PARTITION_SIZE\n",
    "    },\n",
    "    'ProgressiveIndexQueryLimit': {\n",
    "        'name': 'progressive_index_query_limit',\n",
    "        'color': 'purple',\n",
    "        'dash': 'solid',\n",
    "        'show_name': 'GPFQ(10)',\n",
    "        'type': 'adaptive',\n",
    "        'delta': PROGRESSIVE_INDEX_DELTAS[0],\n",
    "        'partition_size': PARTITION_SIZE\n",
    "    },\n",
    "    'ProgressiveIndexBelow': {\n",
    "        'name': 'progressive_index_below',\n",
    "        'color': 'black',\n",
    "        'dash': 'solid',\n",
    "        'show_name': 'PKD',\n",
    "        'type': 'adaptive',\n",
    "        'delta': PROGRESSIVE_INDEX_DELTAS[0],\n",
    "        'partition_size': PARTITION_SIZE\n",
    "    },\n",
    "    'CrackingKDTree': {\n",
    "        'name': 'cracking_kd_tree',\n",
    "        'color': 'green',\n",
    "        'dash': 'solid',\n",
    "        'show_name': 'AKD',\n",
    "        'type': 'adaptive',\n",
    "        'delta': '0.0',\n",
    "        'partition_size': PARTITION_SIZE\n",
    "    }\n",
    "}\n",
    "\n",
    "for key, value in algorithms.items():\n",
    "    name = value['name']\n",
    "    delta = value['delta']\n",
    "    partition_size = value['partition_size']\n",
    "    algorithms[key]['alg_id'] = f\"{name}-{delta}-{partition_size}\"\n",
    "    \n",
    "# Synthetic Experiments\n",
    "experiments = {}\n",
    "\n",
    "for i in [2, 4, 8, 16]:\n",
    "    temp = {\n",
    "        f'Uniform{i}': {\n",
    "            \"name\": f\"Unif({i})\",\n",
    "            'name-in-file': 'uniform',\n",
    "            'n_rows': ROWS,\n",
    "            'n_queries': NUMBER_OF_QUERIES,\n",
    "            'n_cols': f'{i}',\n",
    "            'sel': '0.01',\n",
    "        }\n",
    "    }\n",
    "    experiments = {**experiments, **temp}\n",
    "    \n",
    "for key, value in experiments.items():\n",
    "    name = value['name-in-file']\n",
    "    rows = value['n_rows']\n",
    "    n_queries = value['n_queries']\n",
    "    cols = value['n_cols']\n",
    "    sel = value['sel']\n",
    "    experiments[key]['exp_id'] = f\"{name}-{rows}-{n_queries}-{cols}-{sel}\""
   ]
  },
  {
   "cell_type": "code",
   "execution_count": 98,
   "metadata": {},
   "outputs": [],
   "source": [
    "# Input/Output\n",
    "def read(alg, exp):\n",
    "    if exp.startswith('Shifting'):\n",
    "        n_queries_per_run = 10\n",
    "        uni = read(alg, 'Uniform' + experiments[exp]['n_cols'])\n",
    "        n_runs = int(len(uni)/n_queries_per_run) - 1\n",
    "        df_final = uni.head(n_queries_per_run)\n",
    "        for _ in range(int(n_runs)):\n",
    "            temp = uni.head(n_queries_per_run).copy()\n",
    "            df_final = df_final.append(temp, ignore_index=True)\n",
    "    else:\n",
    "        df = pd.read_csv(f\"results/{algorithms[alg]['alg_id']}-{experiments[exp]['exp_id']}.csv\")\n",
    "        repetitions = df['repetition'].max() + 1\n",
    "        step = int(len(df.index)/repetitions)\n",
    "        df_final = df[:step].copy().reset_index()\n",
    "        for rep in range(1, repetitions):\n",
    "            df_final += df[step * (rep) : step * (rep + 1)].copy().reset_index()\n",
    "\n",
    "        df_final = df_final/repetitions\n",
    "    \n",
    "    if 'index_search_time' not in df_final:\n",
    "        df_final['index_search_time'] = 0.0\n",
    "    if 'tuples_scanned' not in df_final:\n",
    "        df_final['tuples_scanned'] = 0.0\n",
    "    if 'number_of_nodes' not in df_final:\n",
    "        df_final['number_of_nodes'] = 0.0\n",
    "    df_final['query_time'] = df_final['initialization_time'] + df_final['index_search_time'] + df_final['scan_time'] + df_final['adaptation_time']\n",
    "    df_final['query_time_cumsum'] = df_final['query_time'].cumsum()\n",
    "    return df_final\n",
    "\n",
    "                     \n",
    "def read_multiple(algs, exp):\n",
    "    ''' Reads multiple algorithms in an experiment, return three arrays: dfs, colors, names\n",
    "    '''\n",
    "    dfs = []\n",
    "    colors = []\n",
    "    names = []\n",
    "    dashes = []\n",
    "    for alg in algs:\n",
    "        dfs.append(read(alg, exp))\n",
    "        names.append(algorithms[alg]['show_name'])\n",
    "        colors.append(algorithms[alg]['color'])\n",
    "        dashes.append(algorithms[alg]['dash'])\n",
    "    \n",
    "    return dfs, colors, dashes, names,\n",
    "\n",
    "                     \n",
    "def save_figure(fig, fig_name):\n",
    "    fig.write_image(f\"figures/{fig_name}\", width=1024, height=768)\n",
    "                     \n",
    "def save_table(table, table_name):\n",
    "    with open(f\"tables/{table_name}\", 'w') as f:\n",
    "        f.write(table)"
   ]
  },
  {
   "cell_type": "code",
   "execution_count": 107,
   "metadata": {},
   "outputs": [],
   "source": [
    "# Figures\n",
    "\n",
    "def create_figure(data=[]):\n",
    "    fig = go.Figure(\n",
    "        data=data,\n",
    "        layout=go.Layout(\n",
    "#             width=1500,\n",
    "            plot_bgcolor='rgba(0,0,0,0)',\n",
    "            font=dict(\n",
    "                size=42\n",
    "            ),\n",
    "            yaxis=dict(\n",
    "                showline=True,\n",
    "                linewidth=2,\n",
    "                linecolor='black',\n",
    "                showgrid=True,\n",
    "                gridwidth=1,\n",
    "                gridcolor='lightgrey',\n",
    "                zeroline=False,\n",
    "                zerolinecolor='rgba(0, 0, 0, 0)',\n",
    "                ticks=\"inside\",\n",
    "                ticklen=5\n",
    "            ),\n",
    "            xaxis=dict(\n",
    "                showline=True,\n",
    "                linewidth=2,\n",
    "                linecolor='black',\n",
    "                ticks='inside',\n",
    "                zeroline=True,\n",
    "                ticklen=5\n",
    "            ),\n",
    "            legend=dict(\n",
    "                font=dict(\n",
    "                    size=30,\n",
    "                    color=\"black\"\n",
    "                )\n",
    "            )\n",
    "        )\n",
    "    )\n",
    "    return fig\n",
    "\n",
    "def per_query(exp, algs, limit=1000):\n",
    "    dfs, colors, dashes, names = read_multiple(algs, exp)\n",
    "    fig = create_figure()\n",
    "    \n",
    "    lines = []\n",
    "    \n",
    "    biggest = 0\n",
    "    \n",
    "    for i, df in enumerate(dfs):\n",
    "        alg = algs[i]\n",
    "        per_query_times = np.array(df['query_time'][:limit]) * 1000\n",
    "        if biggest < np.max(per_query_times):\n",
    "            biggest = np.max(per_query_times)\n",
    "        lines.append(\n",
    "            go.Scatter(\n",
    "                name=names[i],\n",
    "                x=list(range(len(per_query_times))),\n",
    "                y=per_query_times,\n",
    "                marker_color=colors[i],\n",
    "                mode='lines',\n",
    "                line=dict(width=6, dash=dashes[i])\n",
    "            )\n",
    "        )\n",
    "        \n",
    "    fig.add_traces(data=lines)\n",
    "    fig.update_layout(showlegend=True, yaxis_title='Time (milliseconds)')\n",
    "    fig.update_layout(legend_orientation=\"h\", legend=dict(x=.05, y=1.2))\n",
    "    fig.update_yaxes(type=\"log\", range=[0, 4], tickvals=[0, 1, 10, 100, 1000, 10000])\n",
    "    fig.update_xaxes(range=[0, 100], tickvals=[10, 20, 30, 40, 50, 60, 70, 80, 90, 100])\n",
    "    return fig"
   ]
  },
  {
   "cell_type": "code",
   "execution_count": 109,
   "metadata": {},
   "outputs": [
    {
     "data": {
      "application/vnd.plotly.v1+json": {
       "config": {
        "plotlyServerURL": "https://plot.ly"
       },
       "data": [
        {
         "line": {
          "dash": "dot",
          "width": 6
         },
         "marker": {
          "color": "black"
         },
         "mode": "lines",
         "name": "FS",
         "type": "scatter",
         "x": [
          0,
          1,
          2,
          3,
          4,
          5,
          6,
          7,
          8,
          9,
          10,
          11,
          12,
          13,
          14,
          15,
          16,
          17,
          18,
          19,
          20,
          21,
          22,
          23,
          24,
          25,
          26,
          27,
          28,
          29,
          30,
          31,
          32,
          33,
          34,
          35,
          36,
          37,
          38,
          39,
          40,
          41,
          42,
          43,
          44,
          45,
          46,
          47,
          48,
          49,
          50,
          51,
          52,
          53,
          54,
          55,
          56,
          57,
          58,
          59,
          60,
          61,
          62,
          63,
          64,
          65,
          66,
          67,
          68,
          69,
          70,
          71,
          72,
          73,
          74,
          75,
          76,
          77,
          78,
          79,
          80,
          81,
          82,
          83,
          84,
          85,
          86,
          87,
          88,
          89,
          90,
          91,
          92,
          93,
          94,
          95,
          96,
          97,
          98,
          99
         ],
         "y": [
          1262.1440000000002,
          781.436,
          1291.765,
          975.413,
          902.789,
          1048.325,
          1097.3319999999999,
          841.8120000000001,
          873.653,
          1027.067,
          977.93,
          789.918,
          755.7570000000001,
          1003.0729999999999,
          942.39,
          961.8190000000001,
          967.875,
          841.8180000000001,
          1062.645,
          867.9180000000001,
          1002.032,
          944.5050000000001,
          1118.804,
          874.3729999999999,
          959.807,
          909.121,
          1232.1870000000001,
          917.165,
          800.508,
          831.565,
          757.019,
          1084.575,
          742.487,
          795.424,
          895.861,
          775.924,
          1242.78,
          810.327,
          719.8760000000001,
          1010.048,
          865.124,
          869.2719999999999,
          934.6629999999999,
          734.4609999999999,
          780.399,
          714.8180000000001,
          749.8860000000001,
          1009.8739999999999,
          921.529,
          824.808,
          986.3370000000001,
          801.4789999999999,
          996.3760000000001,
          737.6689999999999,
          935.436,
          718.0600000000001,
          845.994,
          796.215,
          836.973,
          986.0899999999999,
          848.3459999999999,
          843.632,
          874.1110000000001,
          816.697,
          850.399,
          761.829,
          678.927,
          734.5149999999999,
          857.6959999999999,
          741.507,
          1070.668,
          886.2389999999999,
          735.194,
          740.974,
          859.8379999999999,
          1002.874,
          873.0959999999999,
          939.002,
          734.697,
          676.614,
          760.507,
          907.3899999999999,
          771.644,
          765.33,
          852.4280000000001,
          945.7520000000001,
          799.794,
          888.2110000000001,
          758.034,
          861.467,
          966.494,
          1026.942,
          929.391,
          916.281,
          977.7450000000001,
          879.6639999999999,
          773.235,
          970.2149999999999,
          775.2280000000001,
          948.859
         ]
        },
        {
         "line": {
          "dash": "solid",
          "width": 6
         },
         "marker": {
          "color": "purple"
         },
         "mode": "lines",
         "name": "GPFQ(10)",
         "type": "scatter",
         "x": [
          0,
          1,
          2,
          3,
          4,
          5,
          6,
          7,
          8,
          9,
          10,
          11,
          12,
          13,
          14,
          15,
          16,
          17,
          18,
          19,
          20,
          21,
          22,
          23,
          24,
          25,
          26,
          27,
          28,
          29,
          30,
          31,
          32,
          33,
          34,
          35,
          36,
          37,
          38,
          39,
          40,
          41,
          42,
          43,
          44,
          45,
          46,
          47,
          48,
          49,
          50,
          51,
          52,
          53,
          54,
          55,
          56,
          57,
          58,
          59,
          60,
          61,
          62,
          63,
          64,
          65,
          66,
          67,
          68,
          69,
          70,
          71,
          72,
          73,
          74,
          75,
          76,
          77,
          78,
          79,
          80,
          81,
          82,
          83,
          84,
          85,
          86,
          87,
          88,
          89,
          90,
          91,
          92,
          93,
          94,
          95,
          96,
          97,
          98,
          99
         ],
         "y": [
          1085.2469999999998,
          979.3670000000001,
          1022.6679999999999,
          1003.318,
          1017.8309999999999,
          1027.652,
          1056.2279999999998,
          991.1670000000001,
          980.3670000000001,
          994.3389999999999,
          982.4519999999999,
          991.0949999999999,
          978.1030000000001,
          997.924,
          990.9159999999999,
          995.5160000000001,
          983.7990000000001,
          978.4620000000002,
          981.6750000000001,
          993.551,
          977.2160000000001,
          1000.213,
          990.189,
          982.164,
          981.428,
          995.193,
          459.152,
          453.701,
          450.58700000000005,
          455.942,
          454.615,
          453.32099999999997,
          459.84499999999997,
          460.79799999999994,
          457.07800000000003,
          454.56399999999996,
          455.35400000000004,
          455.623,
          450.87999999999994,
          454.71700000000004,
          456.689,
          453.95799999999997,
          450.006,
          455.066,
          450.788,
          462.03799999999995,
          164.52299999999997,
          77.421,
          70.951,
          66.386,
          77.339,
          129.873,
          70.565,
          81.37399999999998,
          93.101,
          101.685,
          73.01299999999999,
          114.677,
          76.854,
          82.59,
          89.584,
          53.745000000000005,
          78.996,
          73.471,
          64.75,
          65.38000000000001,
          101.72,
          84.34899999999999,
          73.09,
          70.42800000000001,
          88.15599999999999,
          120.242,
          107.469,
          73.55700000000002,
          64.56,
          80.524,
          98.455,
          119.455,
          157.52399999999997,
          75.21600000000001,
          80.907,
          102.49299999999998,
          76.854,
          72.029,
          87.23999999999998,
          64.681,
          60.224999999999994,
          62.311,
          72.322,
          96.789,
          106.47,
          104.101,
          108.61300000000001,
          63.06099999999999,
          133.28,
          80.798,
          89.755,
          99.621,
          66.33600000000001,
          127.03299999999997
         ]
        },
        {
         "line": {
          "dash": "dot",
          "width": 6
         },
         "marker": {
          "color": "purple"
         },
         "mode": "lines",
         "name": "GPFP(0.5)",
         "type": "scatter",
         "x": [
          0,
          1,
          2,
          3,
          4,
          5,
          6,
          7,
          8,
          9,
          10,
          11,
          12,
          13,
          14,
          15,
          16,
          17,
          18,
          19,
          20,
          21,
          22,
          23,
          24,
          25,
          26,
          27,
          28,
          29,
          30,
          31,
          32,
          33,
          34,
          35,
          36,
          37,
          38,
          39,
          40,
          41,
          42,
          43,
          44,
          45,
          46,
          47,
          48,
          49,
          50,
          51,
          52,
          53,
          54,
          55,
          56,
          57,
          58,
          59,
          60,
          61,
          62,
          63,
          64,
          65,
          66,
          67,
          68,
          69,
          70,
          71,
          72,
          73,
          74,
          75,
          76,
          77,
          78,
          79,
          80,
          81,
          82,
          83,
          84,
          85,
          86,
          87,
          88,
          89,
          90,
          91,
          92,
          93,
          94,
          95,
          96,
          97,
          98,
          99
         ],
         "y": [
          1366.3750000000002,
          1321.626,
          1289.0099999999998,
          1250.074,
          1245.636,
          1256.981,
          1230.543,
          1248.037,
          1242.324,
          1235.7200000000003,
          1249.654,
          1255.05,
          1254.9859999999999,
          1245.1319999999998,
          452.294,
          454.68399999999997,
          457.766,
          456.87699999999995,
          460.661,
          452.764,
          452.25300000000004,
          460.14,
          453.392,
          458.012,
          454.64300000000003,
          455.576,
          460.76800000000003,
          454.106,
          309.513,
          85.68,
          78.276,
          101.03899999999999,
          95.57600000000001,
          68.726,
          95.95100000000001,
          67.58800000000001,
          85.841,
          70.387,
          72.332,
          65.124,
          108.79,
          76.982,
          113.56099999999999,
          98.298,
          74.891,
          63.767,
          86.622,
          72.566,
          70.07100000000001,
          66.509,
          77.424,
          127.579,
          70.187,
          80.805,
          92.519,
          100.847,
          73.59599999999999,
          113.38100000000001,
          77.80499999999999,
          81.708,
          88.94999999999999,
          67.90499999999999,
          65.422,
          73.507,
          65.063,
          64.845,
          99.971,
          83.547,
          72.94300000000001,
          70.051,
          89.569,
          121.121,
          107.33599999999998,
          73.947,
          64.667,
          80.04700000000001,
          98.79599999999999,
          120.60499999999999,
          158.99,
          77.558,
          81.402,
          104.86099999999999,
          77.35799999999999,
          71.19399999999999,
          86.486,
          69.038,
          59.143,
          61.454,
          73.80199999999999,
          96.44100000000002,
          109.41999999999999,
          107.42399999999999,
          109.883,
          64.199,
          134.81699999999998,
          80.33699999999999,
          91.866,
          99.395,
          80.595,
          108.87299999999999
         ]
        },
        {
         "line": {
          "dash": "solid",
          "width": 6
         },
         "marker": {
          "color": "black"
         },
         "mode": "lines",
         "name": "PKD",
         "type": "scatter",
         "x": [
          0,
          1,
          2,
          3,
          4,
          5,
          6,
          7,
          8,
          9,
          10,
          11,
          12,
          13,
          14,
          15,
          16,
          17,
          18,
          19,
          20,
          21,
          22,
          23,
          24,
          25,
          26,
          27,
          28,
          29,
          30,
          31,
          32,
          33,
          34,
          35,
          36,
          37,
          38,
          39,
          40,
          41,
          42,
          43,
          44,
          45,
          46,
          47,
          48,
          49,
          50,
          51,
          52,
          53,
          54,
          55,
          56,
          57,
          58,
          59,
          60,
          61,
          62,
          63,
          64,
          65,
          66,
          67,
          68,
          69,
          70,
          71,
          72,
          73,
          74,
          75,
          76,
          77,
          78,
          79,
          80,
          81,
          82,
          83,
          84,
          85,
          86,
          87,
          88,
          89,
          90,
          91,
          92,
          93,
          94,
          95,
          96,
          97,
          98,
          99
         ],
         "y": [
          1366.775,
          1181.0149999999999,
          1376.798,
          1349.328,
          1356.613,
          1108.916,
          1027.6419999999998,
          896.8770000000001,
          1016.2010000000001,
          935.901,
          1035.742,
          928.2,
          833.607,
          888.626,
          861.07,
          864.812,
          897.2520000000001,
          746.1920000000001,
          802.442,
          835.22,
          892.8249999999999,
          789.7529999999999,
          856.368,
          818.8299999999999,
          818.6759999999999,
          841.971,
          769.314,
          647.394,
          655.0670000000001,
          618.3209999999999,
          611.579,
          672.944,
          571.093,
          545.0889999999999,
          547.1010000000001,
          464.758,
          501.41399999999993,
          457.10499999999996,
          405.46700000000004,
          433.026,
          412.32,
          394.26800000000003,
          448.164,
          369.073,
          336.769,
          334.236,
          323.35999999999996,
          338.354,
          322.129,
          282.302,
          302.473,
          351.938,
          280.10400000000004,
          286.44000000000005,
          305.85200000000003,
          100.94099999999999,
          72.485,
          139.854,
          76.918,
          81.325,
          88.52600000000001,
          53.845,
          64.667,
          74.21900000000001,
          64.884,
          64.829,
          101.62899999999999,
          83.26499999999999,
          72.612,
          69.863,
          87.18599999999999,
          120.87999999999998,
          109.893,
          74.607,
          65.11200000000001,
          80.89200000000001,
          99.345,
          118.15599999999999,
          145.49200000000002,
          75.053,
          81.752,
          102.075,
          75.985,
          72.785,
          87.63900000000001,
          64.758,
          59.217,
          62.572,
          73.52199999999999,
          96.90199999999999,
          105.924,
          104.683,
          108.738,
          62.434999999999995,
          159.64800000000002,
          80.468,
          90.46300000000001,
          99.66000000000001,
          65.93700000000001,
          108.39399999999999
         ]
        },
        {
         "line": {
          "dash": "solid",
          "width": 6
         },
         "marker": {
          "color": "green"
         },
         "mode": "lines",
         "name": "AKD",
         "type": "scatter",
         "x": [
          0,
          1,
          2,
          3,
          4,
          5,
          6,
          7,
          8,
          9,
          10,
          11,
          12,
          13,
          14,
          15,
          16,
          17,
          18,
          19,
          20,
          21,
          22,
          23,
          24,
          25,
          26,
          27,
          28,
          29,
          30,
          31,
          32,
          33,
          34,
          35,
          36,
          37,
          38,
          39,
          40,
          41,
          42,
          43,
          44,
          45,
          46,
          47,
          48,
          49,
          50,
          51,
          52,
          53,
          54,
          55,
          56,
          57,
          58,
          59,
          60,
          61,
          62,
          63,
          64,
          65,
          66,
          67,
          68,
          69,
          70,
          71,
          72,
          73,
          74,
          75,
          76,
          77,
          78,
          79,
          80,
          81,
          82,
          83,
          84,
          85,
          86,
          87,
          88,
          89,
          90,
          91,
          92,
          93,
          94,
          95,
          96,
          97,
          98,
          99
         ],
         "y": [
          7217.158,
          1708.9479999999999,
          377.587,
          307.22700000000003,
          205.56,
          169.821,
          169.95899999999997,
          209.67,
          421.798,
          131.417,
          183.028,
          244.502,
          277.483,
          214.50399999999996,
          150.758,
          122.89,
          188.71,
          160.08,
          79.16,
          151.144,
          81.453,
          96.378,
          168.67700000000002,
          80.151,
          106.526,
          163.18300000000002,
          79.77799999999999,
          88.86300000000001,
          115.92000000000002,
          152.266,
          294.663,
          97.025,
          127.44,
          107.182,
          105.509,
          141.028,
          109.36900000000001,
          151.75900000000001,
          174.10399999999998,
          67.576,
          90.84800000000001,
          108.80699999999999,
          96.01799999999999,
          96.15899999999999,
          113.873,
          198.534,
          135.71800000000002,
          72.477,
          70.69800000000001,
          102.21299999999998,
          77.646,
          125.21,
          75.83800000000001,
          143.09400000000002,
          71.831,
          90.53699999999999,
          75.641,
          102.003,
          113.79099999999998,
          70.301,
          78.638,
          155.62400000000002,
          59.165000000000006,
          87.94,
          83.452,
          91.14800000000001,
          151.587,
          129.023,
          87.98299999999999,
          126.93299999999999,
          70.48000000000002,
          96.58200000000001,
          123.876,
          81.85100000000001,
          103.20100000000001,
          88.559,
          88.285,
          106.289,
          114.71299999999998,
          132.09,
          83.523,
          90.829,
          85.987,
          90.61700000000002,
          82.22399999999999,
          71.37800000000001,
          97.689,
          97.061,
          84.71500000000002,
          94.654,
          87.788,
          73.817,
          105.79699999999998,
          79.21300000000001,
          94.176,
          74.88799999999999,
          102.495,
          83.94900000000001,
          116.85400000000001,
          90.69999999999999
         ]
        }
       ],
       "layout": {
        "autosize": true,
        "font": {
         "size": 42
        },
        "legend": {
         "font": {
          "color": "black",
          "size": 30
         },
         "orientation": "h",
         "x": 0.05,
         "y": 1.2
        },
        "plot_bgcolor": "rgba(0, 0, 0, 0)",
        "showlegend": true,
        "template": {
         "data": {
          "bar": [
           {
            "error_x": {
             "color": "#2a3f5f"
            },
            "error_y": {
             "color": "#2a3f5f"
            },
            "marker": {
             "line": {
              "color": "#E5ECF6",
              "width": 0.5
             }
            },
            "type": "bar"
           }
          ],
          "barpolar": [
           {
            "marker": {
             "line": {
              "color": "#E5ECF6",
              "width": 0.5
             }
            },
            "type": "barpolar"
           }
          ],
          "carpet": [
           {
            "aaxis": {
             "endlinecolor": "#2a3f5f",
             "gridcolor": "white",
             "linecolor": "white",
             "minorgridcolor": "white",
             "startlinecolor": "#2a3f5f"
            },
            "baxis": {
             "endlinecolor": "#2a3f5f",
             "gridcolor": "white",
             "linecolor": "white",
             "minorgridcolor": "white",
             "startlinecolor": "#2a3f5f"
            },
            "type": "carpet"
           }
          ],
          "choropleth": [
           {
            "colorbar": {
             "outlinewidth": 0,
             "ticks": ""
            },
            "type": "choropleth"
           }
          ],
          "contour": [
           {
            "colorbar": {
             "outlinewidth": 0,
             "ticks": ""
            },
            "colorscale": [
             [
              0,
              "#0d0887"
             ],
             [
              0.1111111111111111,
              "#46039f"
             ],
             [
              0.2222222222222222,
              "#7201a8"
             ],
             [
              0.3333333333333333,
              "#9c179e"
             ],
             [
              0.4444444444444444,
              "#bd3786"
             ],
             [
              0.5555555555555556,
              "#d8576b"
             ],
             [
              0.6666666666666666,
              "#ed7953"
             ],
             [
              0.7777777777777778,
              "#fb9f3a"
             ],
             [
              0.8888888888888888,
              "#fdca26"
             ],
             [
              1,
              "#f0f921"
             ]
            ],
            "type": "contour"
           }
          ],
          "contourcarpet": [
           {
            "colorbar": {
             "outlinewidth": 0,
             "ticks": ""
            },
            "type": "contourcarpet"
           }
          ],
          "heatmap": [
           {
            "colorbar": {
             "outlinewidth": 0,
             "ticks": ""
            },
            "colorscale": [
             [
              0,
              "#0d0887"
             ],
             [
              0.1111111111111111,
              "#46039f"
             ],
             [
              0.2222222222222222,
              "#7201a8"
             ],
             [
              0.3333333333333333,
              "#9c179e"
             ],
             [
              0.4444444444444444,
              "#bd3786"
             ],
             [
              0.5555555555555556,
              "#d8576b"
             ],
             [
              0.6666666666666666,
              "#ed7953"
             ],
             [
              0.7777777777777778,
              "#fb9f3a"
             ],
             [
              0.8888888888888888,
              "#fdca26"
             ],
             [
              1,
              "#f0f921"
             ]
            ],
            "type": "heatmap"
           }
          ],
          "heatmapgl": [
           {
            "colorbar": {
             "outlinewidth": 0,
             "ticks": ""
            },
            "colorscale": [
             [
              0,
              "#0d0887"
             ],
             [
              0.1111111111111111,
              "#46039f"
             ],
             [
              0.2222222222222222,
              "#7201a8"
             ],
             [
              0.3333333333333333,
              "#9c179e"
             ],
             [
              0.4444444444444444,
              "#bd3786"
             ],
             [
              0.5555555555555556,
              "#d8576b"
             ],
             [
              0.6666666666666666,
              "#ed7953"
             ],
             [
              0.7777777777777778,
              "#fb9f3a"
             ],
             [
              0.8888888888888888,
              "#fdca26"
             ],
             [
              1,
              "#f0f921"
             ]
            ],
            "type": "heatmapgl"
           }
          ],
          "histogram": [
           {
            "marker": {
             "colorbar": {
              "outlinewidth": 0,
              "ticks": ""
             }
            },
            "type": "histogram"
           }
          ],
          "histogram2d": [
           {
            "colorbar": {
             "outlinewidth": 0,
             "ticks": ""
            },
            "colorscale": [
             [
              0,
              "#0d0887"
             ],
             [
              0.1111111111111111,
              "#46039f"
             ],
             [
              0.2222222222222222,
              "#7201a8"
             ],
             [
              0.3333333333333333,
              "#9c179e"
             ],
             [
              0.4444444444444444,
              "#bd3786"
             ],
             [
              0.5555555555555556,
              "#d8576b"
             ],
             [
              0.6666666666666666,
              "#ed7953"
             ],
             [
              0.7777777777777778,
              "#fb9f3a"
             ],
             [
              0.8888888888888888,
              "#fdca26"
             ],
             [
              1,
              "#f0f921"
             ]
            ],
            "type": "histogram2d"
           }
          ],
          "histogram2dcontour": [
           {
            "colorbar": {
             "outlinewidth": 0,
             "ticks": ""
            },
            "colorscale": [
             [
              0,
              "#0d0887"
             ],
             [
              0.1111111111111111,
              "#46039f"
             ],
             [
              0.2222222222222222,
              "#7201a8"
             ],
             [
              0.3333333333333333,
              "#9c179e"
             ],
             [
              0.4444444444444444,
              "#bd3786"
             ],
             [
              0.5555555555555556,
              "#d8576b"
             ],
             [
              0.6666666666666666,
              "#ed7953"
             ],
             [
              0.7777777777777778,
              "#fb9f3a"
             ],
             [
              0.8888888888888888,
              "#fdca26"
             ],
             [
              1,
              "#f0f921"
             ]
            ],
            "type": "histogram2dcontour"
           }
          ],
          "mesh3d": [
           {
            "colorbar": {
             "outlinewidth": 0,
             "ticks": ""
            },
            "type": "mesh3d"
           }
          ],
          "parcoords": [
           {
            "line": {
             "colorbar": {
              "outlinewidth": 0,
              "ticks": ""
             }
            },
            "type": "parcoords"
           }
          ],
          "scatter": [
           {
            "marker": {
             "colorbar": {
              "outlinewidth": 0,
              "ticks": ""
             }
            },
            "type": "scatter"
           }
          ],
          "scatter3d": [
           {
            "line": {
             "colorbar": {
              "outlinewidth": 0,
              "ticks": ""
             }
            },
            "marker": {
             "colorbar": {
              "outlinewidth": 0,
              "ticks": ""
             }
            },
            "type": "scatter3d"
           }
          ],
          "scattercarpet": [
           {
            "marker": {
             "colorbar": {
              "outlinewidth": 0,
              "ticks": ""
             }
            },
            "type": "scattercarpet"
           }
          ],
          "scattergeo": [
           {
            "marker": {
             "colorbar": {
              "outlinewidth": 0,
              "ticks": ""
             }
            },
            "type": "scattergeo"
           }
          ],
          "scattergl": [
           {
            "marker": {
             "colorbar": {
              "outlinewidth": 0,
              "ticks": ""
             }
            },
            "type": "scattergl"
           }
          ],
          "scattermapbox": [
           {
            "marker": {
             "colorbar": {
              "outlinewidth": 0,
              "ticks": ""
             }
            },
            "type": "scattermapbox"
           }
          ],
          "scatterpolar": [
           {
            "marker": {
             "colorbar": {
              "outlinewidth": 0,
              "ticks": ""
             }
            },
            "type": "scatterpolar"
           }
          ],
          "scatterpolargl": [
           {
            "marker": {
             "colorbar": {
              "outlinewidth": 0,
              "ticks": ""
             }
            },
            "type": "scatterpolargl"
           }
          ],
          "scatterternary": [
           {
            "marker": {
             "colorbar": {
              "outlinewidth": 0,
              "ticks": ""
             }
            },
            "type": "scatterternary"
           }
          ],
          "surface": [
           {
            "colorbar": {
             "outlinewidth": 0,
             "ticks": ""
            },
            "colorscale": [
             [
              0,
              "#0d0887"
             ],
             [
              0.1111111111111111,
              "#46039f"
             ],
             [
              0.2222222222222222,
              "#7201a8"
             ],
             [
              0.3333333333333333,
              "#9c179e"
             ],
             [
              0.4444444444444444,
              "#bd3786"
             ],
             [
              0.5555555555555556,
              "#d8576b"
             ],
             [
              0.6666666666666666,
              "#ed7953"
             ],
             [
              0.7777777777777778,
              "#fb9f3a"
             ],
             [
              0.8888888888888888,
              "#fdca26"
             ],
             [
              1,
              "#f0f921"
             ]
            ],
            "type": "surface"
           }
          ],
          "table": [
           {
            "cells": {
             "fill": {
              "color": "#EBF0F8"
             },
             "line": {
              "color": "white"
             }
            },
            "header": {
             "fill": {
              "color": "#C8D4E3"
             },
             "line": {
              "color": "white"
             }
            },
            "type": "table"
           }
          ]
         },
         "layout": {
          "annotationdefaults": {
           "arrowcolor": "#2a3f5f",
           "arrowhead": 0,
           "arrowwidth": 1
          },
          "colorscale": {
           "diverging": [
            [
             0,
             "#8e0152"
            ],
            [
             0.1,
             "#c51b7d"
            ],
            [
             0.2,
             "#de77ae"
            ],
            [
             0.3,
             "#f1b6da"
            ],
            [
             0.4,
             "#fde0ef"
            ],
            [
             0.5,
             "#f7f7f7"
            ],
            [
             0.6,
             "#e6f5d0"
            ],
            [
             0.7,
             "#b8e186"
            ],
            [
             0.8,
             "#7fbc41"
            ],
            [
             0.9,
             "#4d9221"
            ],
            [
             1,
             "#276419"
            ]
           ],
           "sequential": [
            [
             0,
             "#0d0887"
            ],
            [
             0.1111111111111111,
             "#46039f"
            ],
            [
             0.2222222222222222,
             "#7201a8"
            ],
            [
             0.3333333333333333,
             "#9c179e"
            ],
            [
             0.4444444444444444,
             "#bd3786"
            ],
            [
             0.5555555555555556,
             "#d8576b"
            ],
            [
             0.6666666666666666,
             "#ed7953"
            ],
            [
             0.7777777777777778,
             "#fb9f3a"
            ],
            [
             0.8888888888888888,
             "#fdca26"
            ],
            [
             1,
             "#f0f921"
            ]
           ],
           "sequentialminus": [
            [
             0,
             "#0d0887"
            ],
            [
             0.1111111111111111,
             "#46039f"
            ],
            [
             0.2222222222222222,
             "#7201a8"
            ],
            [
             0.3333333333333333,
             "#9c179e"
            ],
            [
             0.4444444444444444,
             "#bd3786"
            ],
            [
             0.5555555555555556,
             "#d8576b"
            ],
            [
             0.6666666666666666,
             "#ed7953"
            ],
            [
             0.7777777777777778,
             "#fb9f3a"
            ],
            [
             0.8888888888888888,
             "#fdca26"
            ],
            [
             1,
             "#f0f921"
            ]
           ]
          },
          "colorway": [
           "#636efa",
           "#EF553B",
           "#00cc96",
           "#ab63fa",
           "#FFA15A",
           "#19d3f3",
           "#FF6692",
           "#B6E880",
           "#FF97FF",
           "#FECB52"
          ],
          "font": {
           "color": "#2a3f5f"
          },
          "geo": {
           "bgcolor": "white",
           "lakecolor": "white",
           "landcolor": "#E5ECF6",
           "showlakes": true,
           "showland": true,
           "subunitcolor": "white"
          },
          "hoverlabel": {
           "align": "left"
          },
          "hovermode": "closest",
          "mapbox": {
           "style": "light"
          },
          "paper_bgcolor": "white",
          "plot_bgcolor": "#E5ECF6",
          "polar": {
           "angularaxis": {
            "gridcolor": "white",
            "linecolor": "white",
            "ticks": ""
           },
           "bgcolor": "#E5ECF6",
           "radialaxis": {
            "gridcolor": "white",
            "linecolor": "white",
            "ticks": ""
           }
          },
          "scene": {
           "xaxis": {
            "backgroundcolor": "#E5ECF6",
            "gridcolor": "white",
            "gridwidth": 2,
            "linecolor": "white",
            "showbackground": true,
            "ticks": "",
            "zerolinecolor": "white"
           },
           "yaxis": {
            "backgroundcolor": "#E5ECF6",
            "gridcolor": "white",
            "gridwidth": 2,
            "linecolor": "white",
            "showbackground": true,
            "ticks": "",
            "zerolinecolor": "white"
           },
           "zaxis": {
            "backgroundcolor": "#E5ECF6",
            "gridcolor": "white",
            "gridwidth": 2,
            "linecolor": "white",
            "showbackground": true,
            "ticks": "",
            "zerolinecolor": "white"
           }
          },
          "shapedefaults": {
           "line": {
            "color": "#2a3f5f"
           }
          },
          "ternary": {
           "aaxis": {
            "gridcolor": "white",
            "linecolor": "white",
            "ticks": ""
           },
           "baxis": {
            "gridcolor": "white",
            "linecolor": "white",
            "ticks": ""
           },
           "bgcolor": "#E5ECF6",
           "caxis": {
            "gridcolor": "white",
            "linecolor": "white",
            "ticks": ""
           }
          },
          "title": {
           "x": 0.05
          },
          "xaxis": {
           "automargin": true,
           "gridcolor": "white",
           "linecolor": "white",
           "ticks": "",
           "zerolinecolor": "white",
           "zerolinewidth": 2
          },
          "yaxis": {
           "automargin": true,
           "gridcolor": "white",
           "linecolor": "white",
           "ticks": "",
           "zerolinecolor": "white",
           "zerolinewidth": 2
          }
         }
        },
        "xaxis": {
         "linecolor": "black",
         "linewidth": 2,
         "range": [
          0,
          100
         ],
         "showline": true,
         "ticklen": 5,
         "ticks": "inside",
         "tickvals": [
          10,
          20,
          30,
          40,
          50,
          60,
          70,
          80,
          90,
          100
         ],
         "type": "linear",
         "zeroline": true
        },
        "yaxis": {
         "gridcolor": "lightgrey",
         "gridwidth": 1,
         "linecolor": "black",
         "linewidth": 2,
         "range": [
          0,
          4
         ],
         "showgrid": true,
         "showline": true,
         "ticklen": 5,
         "ticks": "inside",
         "tickvals": [
          0,
          1,
          10,
          100,
          1000,
          10000
         ],
         "title": {
          "text": "Time (milliseconds)"
         },
         "type": "log",
         "zeroline": false,
         "zerolinecolor": "rgba(0, 0, 0, 0)"
        }
       }
      },
      "image/png": "[encoded data removed]",
      "text/html": [
       "<div>\n",
       "        \n",
       "        \n",
       "            <div id=\"4f259b74-07d8-49cc-a75e-c949122f267c\" class=\"plotly-graph-div\" style=\"height:525px; width:100%;\"></div>\n",
       "            <script type=\"text/javascript\">\n",
       "                require([\"plotly\"], function(Plotly) {\n",
       "                    window.PLOTLYENV=window.PLOTLYENV || {};\n",
       "                    \n",
       "                if (document.getElementById(\"4f259b74-07d8-49cc-a75e-c949122f267c\")) {\n",
       "                    Plotly.newPlot(\n",
       "                        '4f259b74-07d8-49cc-a75e-c949122f267c',\n",
       "                        [{\"line\": {\"dash\": \"dot\", \"width\": 6}, \"marker\": {\"color\": \"black\"}, \"mode\": \"lines\", \"name\": \"FS\", \"type\": \"scatter\", \"x\": [0, 1, 2, 3, 4, 5, 6, 7, 8, 9, 10, 11, 12, 13, 14, 15, 16, 17, 18, 19, 20, 21, 22, 23, 24, 25, 26, 27, 28, 29, 30, 31, 32, 33, 34, 35, 36, 37, 38, 39, 40, 41, 42, 43, 44, 45, 46, 47, 48, 49, 50, 51, 52, 53, 54, 55, 56, 57, 58, 59, 60, 61, 62, 63, 64, 65, 66, 67, 68, 69, 70, 71, 72, 73, 74, 75, 76, 77, 78, 79, 80, 81, 82, 83, 84, 85, 86, 87, 88, 89, 90, 91, 92, 93, 94, 95, 96, 97, 98, 99], \"y\": [1262.1440000000002, 781.436, 1291.765, 975.413, 902.789, 1048.325, 1097.3319999999999, 841.8120000000001, 873.653, 1027.067, 977.93, 789.918, 755.7570000000001, 1003.0729999999999, 942.39, 961.8190000000001, 967.875, 841.8180000000001, 1062.645, 867.9180000000001, 1002.032, 944.5050000000001, 1118.804, 874.3729999999999, 959.807, 909.121, 1232.1870000000001, 917.165, 800.508, 831.565, 757.019, 1084.575, 742.487, 795.424, 895.861, 775.924, 1242.78, 810.327, 719.8760000000001, 1010.048, 865.124, 869.2719999999999, 934.6629999999999, 734.4609999999999, 780.399, 714.8180000000001, 749.8860000000001, 1009.8739999999999, 921.529, 824.808, 986.3370000000001, 801.4789999999999, 996.3760000000001, 737.6689999999999, 935.436, 718.0600000000001, 845.994, 796.215, 836.973, 986.0899999999999, 848.3459999999999, 843.632, 874.1110000000001, 816.697, 850.399, 761.829, 678.927, 734.5149999999999, 857.6959999999999, 741.507, 1070.668, 886.2389999999999, 735.194, 740.974, 859.8379999999999, 1002.874, 873.0959999999999, 939.002, 734.697, 676.614, 760.507, 907.3899999999999, 771.644, 765.33, 852.4280000000001, 945.7520000000001, 799.794, 888.2110000000001, 758.034, 861.467, 966.494, 1026.942, 929.391, 916.281, 977.7450000000001, 879.6639999999999, 773.235, 970.2149999999999, 775.2280000000001, 948.859]}, {\"line\": {\"dash\": \"solid\", \"width\": 6}, \"marker\": {\"color\": \"purple\"}, \"mode\": \"lines\", \"name\": \"GPFQ(10)\", \"type\": \"scatter\", \"x\": [0, 1, 2, 3, 4, 5, 6, 7, 8, 9, 10, 11, 12, 13, 14, 15, 16, 17, 18, 19, 20, 21, 22, 23, 24, 25, 26, 27, 28, 29, 30, 31, 32, 33, 34, 35, 36, 37, 38, 39, 40, 41, 42, 43, 44, 45, 46, 47, 48, 49, 50, 51, 52, 53, 54, 55, 56, 57, 58, 59, 60, 61, 62, 63, 64, 65, 66, 67, 68, 69, 70, 71, 72, 73, 74, 75, 76, 77, 78, 79, 80, 81, 82, 83, 84, 85, 86, 87, 88, 89, 90, 91, 92, 93, 94, 95, 96, 97, 98, 99], \"y\": [1085.2469999999998, 979.3670000000001, 1022.6679999999999, 1003.318, 1017.8309999999999, 1027.652, 1056.2279999999998, 991.1670000000001, 980.3670000000001, 994.3389999999999, 982.4519999999999, 991.0949999999999, 978.1030000000001, 997.924, 990.9159999999999, 995.5160000000001, 983.7990000000001, 978.4620000000002, 981.6750000000001, 993.551, 977.2160000000001, 1000.213, 990.189, 982.164, 981.428, 995.193, 459.152, 453.701, 450.58700000000005, 455.942, 454.615, 453.32099999999997, 459.84499999999997, 460.79799999999994, 457.07800000000003, 454.56399999999996, 455.35400000000004, 455.623, 450.87999999999994, 454.71700000000004, 456.689, 453.95799999999997, 450.006, 455.066, 450.788, 462.03799999999995, 164.52299999999997, 77.421, 70.951, 66.386, 77.339, 129.873, 70.565, 81.37399999999998, 93.101, 101.685, 73.01299999999999, 114.677, 76.854, 82.59, 89.584, 53.745000000000005, 78.996, 73.471, 64.75, 65.38000000000001, 101.72, 84.34899999999999, 73.09, 70.42800000000001, 88.15599999999999, 120.242, 107.469, 73.55700000000002, 64.56, 80.524, 98.455, 119.455, 157.52399999999997, 75.21600000000001, 80.907, 102.49299999999998, 76.854, 72.029, 87.23999999999998, 64.681, 60.224999999999994, 62.311, 72.322, 96.789, 106.47, 104.101, 108.61300000000001, 63.06099999999999, 133.28, 80.798, 89.755, 99.621, 66.33600000000001, 127.03299999999997]}, {\"line\": {\"dash\": \"dot\", \"width\": 6}, \"marker\": {\"color\": \"purple\"}, \"mode\": \"lines\", \"name\": \"GPFP(0.5)\", \"type\": \"scatter\", \"x\": [0, 1, 2, 3, 4, 5, 6, 7, 8, 9, 10, 11, 12, 13, 14, 15, 16, 17, 18, 19, 20, 21, 22, 23, 24, 25, 26, 27, 28, 29, 30, 31, 32, 33, 34, 35, 36, 37, 38, 39, 40, 41, 42, 43, 44, 45, 46, 47, 48, 49, 50, 51, 52, 53, 54, 55, 56, 57, 58, 59, 60, 61, 62, 63, 64, 65, 66, 67, 68, 69, 70, 71, 72, 73, 74, 75, 76, 77, 78, 79, 80, 81, 82, 83, 84, 85, 86, 87, 88, 89, 90, 91, 92, 93, 94, 95, 96, 97, 98, 99], \"y\": [1366.3750000000002, 1321.626, 1289.0099999999998, 1250.074, 1245.636, 1256.981, 1230.543, 1248.037, 1242.324, 1235.7200000000003, 1249.654, 1255.05, 1254.9859999999999, 1245.1319999999998, 452.294, 454.68399999999997, 457.766, 456.87699999999995, 460.661, 452.764, 452.25300000000004, 460.14, 453.392, 458.012, 454.64300000000003, 455.576, 460.76800000000003, 454.106, 309.513, 85.68, 78.276, 101.03899999999999, 95.57600000000001, 68.726, 95.95100000000001, 67.58800000000001, 85.841, 70.387, 72.332, 65.124, 108.79, 76.982, 113.56099999999999, 98.298, 74.891, 63.767, 86.622, 72.566, 70.07100000000001, 66.509, 77.424, 127.579, 70.187, 80.805, 92.519, 100.847, 73.59599999999999, 113.38100000000001, 77.80499999999999, 81.708, 88.94999999999999, 67.90499999999999, 65.422, 73.507, 65.063, 64.845, 99.971, 83.547, 72.94300000000001, 70.051, 89.569, 121.121, 107.33599999999998, 73.947, 64.667, 80.04700000000001, 98.79599999999999, 120.60499999999999, 158.99, 77.558, 81.402, 104.86099999999999, 77.35799999999999, 71.19399999999999, 86.486, 69.038, 59.143, 61.454, 73.80199999999999, 96.44100000000002, 109.41999999999999, 107.42399999999999, 109.883, 64.199, 134.81699999999998, 80.33699999999999, 91.866, 99.395, 80.595, 108.87299999999999]}, {\"line\": {\"dash\": \"solid\", \"width\": 6}, \"marker\": {\"color\": \"black\"}, \"mode\": \"lines\", \"name\": \"PKD\", \"type\": \"scatter\", \"x\": [0, 1, 2, 3, 4, 5, 6, 7, 8, 9, 10, 11, 12, 13, 14, 15, 16, 17, 18, 19, 20, 21, 22, 23, 24, 25, 26, 27, 28, 29, 30, 31, 32, 33, 34, 35, 36, 37, 38, 39, 40, 41, 42, 43, 44, 45, 46, 47, 48, 49, 50, 51, 52, 53, 54, 55, 56, 57, 58, 59, 60, 61, 62, 63, 64, 65, 66, 67, 68, 69, 70, 71, 72, 73, 74, 75, 76, 77, 78, 79, 80, 81, 82, 83, 84, 85, 86, 87, 88, 89, 90, 91, 92, 93, 94, 95, 96, 97, 98, 99], \"y\": [1366.775, 1181.0149999999999, 1376.798, 1349.328, 1356.613, 1108.916, 1027.6419999999998, 896.8770000000001, 1016.2010000000001, 935.901, 1035.742, 928.2, 833.607, 888.626, 861.07, 864.812, 897.2520000000001, 746.1920000000001, 802.442, 835.22, 892.8249999999999, 789.7529999999999, 856.368, 818.8299999999999, 818.6759999999999, 841.971, 769.314, 647.394, 655.0670000000001, 618.3209999999999, 611.579, 672.944, 571.093, 545.0889999999999, 547.1010000000001, 464.758, 501.41399999999993, 457.10499999999996, 405.46700000000004, 433.026, 412.32, 394.26800000000003, 448.164, 369.073, 336.769, 334.236, 323.35999999999996, 338.354, 322.129, 282.302, 302.473, 351.938, 280.10400000000004, 286.44000000000005, 305.85200000000003, 100.94099999999999, 72.485, 139.854, 76.918, 81.325, 88.52600000000001, 53.845, 64.667, 74.21900000000001, 64.884, 64.829, 101.62899999999999, 83.26499999999999, 72.612, 69.863, 87.18599999999999, 120.87999999999998, 109.893, 74.607, 65.11200000000001, 80.89200000000001, 99.345, 118.15599999999999, 145.49200000000002, 75.053, 81.752, 102.075, 75.985, 72.785, 87.63900000000001, 64.758, 59.217, 62.572, 73.52199999999999, 96.90199999999999, 105.924, 104.683, 108.738, 62.434999999999995, 159.64800000000002, 80.468, 90.46300000000001, 99.66000000000001, 65.93700000000001, 108.39399999999999]}, {\"line\": {\"dash\": \"solid\", \"width\": 6}, \"marker\": {\"color\": \"green\"}, \"mode\": \"lines\", \"name\": \"AKD\", \"type\": \"scatter\", \"x\": [0, 1, 2, 3, 4, 5, 6, 7, 8, 9, 10, 11, 12, 13, 14, 15, 16, 17, 18, 19, 20, 21, 22, 23, 24, 25, 26, 27, 28, 29, 30, 31, 32, 33, 34, 35, 36, 37, 38, 39, 40, 41, 42, 43, 44, 45, 46, 47, 48, 49, 50, 51, 52, 53, 54, 55, 56, 57, 58, 59, 60, 61, 62, 63, 64, 65, 66, 67, 68, 69, 70, 71, 72, 73, 74, 75, 76, 77, 78, 79, 80, 81, 82, 83, 84, 85, 86, 87, 88, 89, 90, 91, 92, 93, 94, 95, 96, 97, 98, 99], \"y\": [7217.158, 1708.9479999999999, 377.587, 307.22700000000003, 205.56, 169.821, 169.95899999999997, 209.67, 421.798, 131.417, 183.028, 244.502, 277.483, 214.50399999999996, 150.758, 122.89, 188.71, 160.08, 79.16, 151.144, 81.453, 96.378, 168.67700000000002, 80.151, 106.526, 163.18300000000002, 79.77799999999999, 88.86300000000001, 115.92000000000002, 152.266, 294.663, 97.025, 127.44, 107.182, 105.509, 141.028, 109.36900000000001, 151.75900000000001, 174.10399999999998, 67.576, 90.84800000000001, 108.80699999999999, 96.01799999999999, 96.15899999999999, 113.873, 198.534, 135.71800000000002, 72.477, 70.69800000000001, 102.21299999999998, 77.646, 125.21, 75.83800000000001, 143.09400000000002, 71.831, 90.53699999999999, 75.641, 102.003, 113.79099999999998, 70.301, 78.638, 155.62400000000002, 59.165000000000006, 87.94, 83.452, 91.14800000000001, 151.587, 129.023, 87.98299999999999, 126.93299999999999, 70.48000000000002, 96.58200000000001, 123.876, 81.85100000000001, 103.20100000000001, 88.559, 88.285, 106.289, 114.71299999999998, 132.09, 83.523, 90.829, 85.987, 90.61700000000002, 82.22399999999999, 71.37800000000001, 97.689, 97.061, 84.71500000000002, 94.654, 87.788, 73.817, 105.79699999999998, 79.21300000000001, 94.176, 74.88799999999999, 102.495, 83.94900000000001, 116.85400000000001, 90.69999999999999]}],\n",
       "                        {\"font\": {\"size\": 42}, \"legend\": {\"font\": {\"color\": \"black\", \"size\": 30}, \"orientation\": \"h\", \"x\": 0.05, \"y\": 1.2}, \"plot_bgcolor\": \"rgba(0,0,0,0)\", \"showlegend\": true, \"template\": {\"data\": {\"bar\": [{\"error_x\": {\"color\": \"#2a3f5f\"}, \"error_y\": {\"color\": \"#2a3f5f\"}, \"marker\": {\"line\": {\"color\": \"#E5ECF6\", \"width\": 0.5}}, \"type\": \"bar\"}], \"barpolar\": [{\"marker\": {\"line\": {\"color\": \"#E5ECF6\", \"width\": 0.5}}, \"type\": \"barpolar\"}], \"carpet\": [{\"aaxis\": {\"endlinecolor\": \"#2a3f5f\", \"gridcolor\": \"white\", \"linecolor\": \"white\", \"minorgridcolor\": \"white\", \"startlinecolor\": \"#2a3f5f\"}, \"baxis\": {\"endlinecolor\": \"#2a3f5f\", \"gridcolor\": \"white\", \"linecolor\": \"white\", \"minorgridcolor\": \"white\", \"startlinecolor\": \"#2a3f5f\"}, \"type\": \"carpet\"}], \"choropleth\": [{\"colorbar\": {\"outlinewidth\": 0, \"ticks\": \"\"}, \"type\": \"choropleth\"}], \"contour\": [{\"colorbar\": {\"outlinewidth\": 0, \"ticks\": \"\"}, \"colorscale\": [[0.0, \"#0d0887\"], [0.1111111111111111, \"#46039f\"], [0.2222222222222222, \"#7201a8\"], [0.3333333333333333, \"#9c179e\"], [0.4444444444444444, \"#bd3786\"], [0.5555555555555556, \"#d8576b\"], [0.6666666666666666, \"#ed7953\"], [0.7777777777777778, \"#fb9f3a\"], [0.8888888888888888, \"#fdca26\"], [1.0, \"#f0f921\"]], \"type\": \"contour\"}], \"contourcarpet\": [{\"colorbar\": {\"outlinewidth\": 0, \"ticks\": \"\"}, \"type\": \"contourcarpet\"}], \"heatmap\": [{\"colorbar\": {\"outlinewidth\": 0, \"ticks\": \"\"}, \"colorscale\": [[0.0, \"#0d0887\"], [0.1111111111111111, \"#46039f\"], [0.2222222222222222, \"#7201a8\"], [0.3333333333333333, \"#9c179e\"], [0.4444444444444444, \"#bd3786\"], [0.5555555555555556, \"#d8576b\"], [0.6666666666666666, \"#ed7953\"], [0.7777777777777778, \"#fb9f3a\"], [0.8888888888888888, \"#fdca26\"], [1.0, \"#f0f921\"]], \"type\": \"heatmap\"}], \"heatmapgl\": [{\"colorbar\": {\"outlinewidth\": 0, \"ticks\": \"\"}, \"colorscale\": [[0.0, \"#0d0887\"], [0.1111111111111111, \"#46039f\"], [0.2222222222222222, \"#7201a8\"], [0.3333333333333333, \"#9c179e\"], [0.4444444444444444, \"#bd3786\"], [0.5555555555555556, \"#d8576b\"], [0.6666666666666666, \"#ed7953\"], [0.7777777777777778, \"#fb9f3a\"], [0.8888888888888888, \"#fdca26\"], [1.0, \"#f0f921\"]], \"type\": \"heatmapgl\"}], \"histogram\": [{\"marker\": {\"colorbar\": {\"outlinewidth\": 0, \"ticks\": \"\"}}, \"type\": \"histogram\"}], \"histogram2d\": [{\"colorbar\": {\"outlinewidth\": 0, \"ticks\": \"\"}, \"colorscale\": [[0.0, \"#0d0887\"], [0.1111111111111111, \"#46039f\"], [0.2222222222222222, \"#7201a8\"], [0.3333333333333333, \"#9c179e\"], [0.4444444444444444, \"#bd3786\"], [0.5555555555555556, \"#d8576b\"], [0.6666666666666666, \"#ed7953\"], [0.7777777777777778, \"#fb9f3a\"], [0.8888888888888888, \"#fdca26\"], [1.0, \"#f0f921\"]], \"type\": \"histogram2d\"}], \"histogram2dcontour\": [{\"colorbar\": {\"outlinewidth\": 0, \"ticks\": \"\"}, \"colorscale\": [[0.0, \"#0d0887\"], [0.1111111111111111, \"#46039f\"], [0.2222222222222222, \"#7201a8\"], [0.3333333333333333, \"#9c179e\"], [0.4444444444444444, \"#bd3786\"], [0.5555555555555556, \"#d8576b\"], [0.6666666666666666, \"#ed7953\"], [0.7777777777777778, \"#fb9f3a\"], [0.8888888888888888, \"#fdca26\"], [1.0, \"#f0f921\"]], \"type\": \"histogram2dcontour\"}], \"mesh3d\": [{\"colorbar\": {\"outlinewidth\": 0, \"ticks\": \"\"}, \"type\": \"mesh3d\"}], \"parcoords\": [{\"line\": {\"colorbar\": {\"outlinewidth\": 0, \"ticks\": \"\"}}, \"type\": \"parcoords\"}], \"scatter\": [{\"marker\": {\"colorbar\": {\"outlinewidth\": 0, \"ticks\": \"\"}}, \"type\": \"scatter\"}], \"scatter3d\": [{\"line\": {\"colorbar\": {\"outlinewidth\": 0, \"ticks\": \"\"}}, \"marker\": {\"colorbar\": {\"outlinewidth\": 0, \"ticks\": \"\"}}, \"type\": \"scatter3d\"}], \"scattercarpet\": [{\"marker\": {\"colorbar\": {\"outlinewidth\": 0, \"ticks\": \"\"}}, \"type\": \"scattercarpet\"}], \"scattergeo\": [{\"marker\": {\"colorbar\": {\"outlinewidth\": 0, \"ticks\": \"\"}}, \"type\": \"scattergeo\"}], \"scattergl\": [{\"marker\": {\"colorbar\": {\"outlinewidth\": 0, \"ticks\": \"\"}}, \"type\": \"scattergl\"}], \"scattermapbox\": [{\"marker\": {\"colorbar\": {\"outlinewidth\": 0, \"ticks\": \"\"}}, \"type\": \"scattermapbox\"}], \"scatterpolar\": [{\"marker\": {\"colorbar\": {\"outlinewidth\": 0, \"ticks\": \"\"}}, \"type\": \"scatterpolar\"}], \"scatterpolargl\": [{\"marker\": {\"colorbar\": {\"outlinewidth\": 0, \"ticks\": \"\"}}, \"type\": \"scatterpolargl\"}], \"scatterternary\": [{\"marker\": {\"colorbar\": {\"outlinewidth\": 0, \"ticks\": \"\"}}, \"type\": \"scatterternary\"}], \"surface\": [{\"colorbar\": {\"outlinewidth\": 0, \"ticks\": \"\"}, \"colorscale\": [[0.0, \"#0d0887\"], [0.1111111111111111, \"#46039f\"], [0.2222222222222222, \"#7201a8\"], [0.3333333333333333, \"#9c179e\"], [0.4444444444444444, \"#bd3786\"], [0.5555555555555556, \"#d8576b\"], [0.6666666666666666, \"#ed7953\"], [0.7777777777777778, \"#fb9f3a\"], [0.8888888888888888, \"#fdca26\"], [1.0, \"#f0f921\"]], \"type\": \"surface\"}], \"table\": [{\"cells\": {\"fill\": {\"color\": \"#EBF0F8\"}, \"line\": {\"color\": \"white\"}}, \"header\": {\"fill\": {\"color\": \"#C8D4E3\"}, \"line\": {\"color\": \"white\"}}, \"type\": \"table\"}]}, \"layout\": {\"annotationdefaults\": {\"arrowcolor\": \"#2a3f5f\", \"arrowhead\": 0, \"arrowwidth\": 1}, \"colorscale\": {\"diverging\": [[0, \"#8e0152\"], [0.1, \"#c51b7d\"], [0.2, \"#de77ae\"], [0.3, \"#f1b6da\"], [0.4, \"#fde0ef\"], [0.5, \"#f7f7f7\"], [0.6, \"#e6f5d0\"], [0.7, \"#b8e186\"], [0.8, \"#7fbc41\"], [0.9, \"#4d9221\"], [1, \"#276419\"]], \"sequential\": [[0.0, \"#0d0887\"], [0.1111111111111111, \"#46039f\"], [0.2222222222222222, \"#7201a8\"], [0.3333333333333333, \"#9c179e\"], [0.4444444444444444, \"#bd3786\"], [0.5555555555555556, \"#d8576b\"], [0.6666666666666666, \"#ed7953\"], [0.7777777777777778, \"#fb9f3a\"], [0.8888888888888888, \"#fdca26\"], [1.0, \"#f0f921\"]], \"sequentialminus\": [[0.0, \"#0d0887\"], [0.1111111111111111, \"#46039f\"], [0.2222222222222222, \"#7201a8\"], [0.3333333333333333, \"#9c179e\"], [0.4444444444444444, \"#bd3786\"], [0.5555555555555556, \"#d8576b\"], [0.6666666666666666, \"#ed7953\"], [0.7777777777777778, \"#fb9f3a\"], [0.8888888888888888, \"#fdca26\"], [1.0, \"#f0f921\"]]}, \"colorway\": [\"#636efa\", \"#EF553B\", \"#00cc96\", \"#ab63fa\", \"#FFA15A\", \"#19d3f3\", \"#FF6692\", \"#B6E880\", \"#FF97FF\", \"#FECB52\"], \"font\": {\"color\": \"#2a3f5f\"}, \"geo\": {\"bgcolor\": \"white\", \"lakecolor\": \"white\", \"landcolor\": \"#E5ECF6\", \"showlakes\": true, \"showland\": true, \"subunitcolor\": \"white\"}, \"hoverlabel\": {\"align\": \"left\"}, \"hovermode\": \"closest\", \"mapbox\": {\"style\": \"light\"}, \"paper_bgcolor\": \"white\", \"plot_bgcolor\": \"#E5ECF6\", \"polar\": {\"angularaxis\": {\"gridcolor\": \"white\", \"linecolor\": \"white\", \"ticks\": \"\"}, \"bgcolor\": \"#E5ECF6\", \"radialaxis\": {\"gridcolor\": \"white\", \"linecolor\": \"white\", \"ticks\": \"\"}}, \"scene\": {\"xaxis\": {\"backgroundcolor\": \"#E5ECF6\", \"gridcolor\": \"white\", \"gridwidth\": 2, \"linecolor\": \"white\", \"showbackground\": true, \"ticks\": \"\", \"zerolinecolor\": \"white\"}, \"yaxis\": {\"backgroundcolor\": \"#E5ECF6\", \"gridcolor\": \"white\", \"gridwidth\": 2, \"linecolor\": \"white\", \"showbackground\": true, \"ticks\": \"\", \"zerolinecolor\": \"white\"}, \"zaxis\": {\"backgroundcolor\": \"#E5ECF6\", \"gridcolor\": \"white\", \"gridwidth\": 2, \"linecolor\": \"white\", \"showbackground\": true, \"ticks\": \"\", \"zerolinecolor\": \"white\"}}, \"shapedefaults\": {\"line\": {\"color\": \"#2a3f5f\"}}, \"ternary\": {\"aaxis\": {\"gridcolor\": \"white\", \"linecolor\": \"white\", \"ticks\": \"\"}, \"baxis\": {\"gridcolor\": \"white\", \"linecolor\": \"white\", \"ticks\": \"\"}, \"bgcolor\": \"#E5ECF6\", \"caxis\": {\"gridcolor\": \"white\", \"linecolor\": \"white\", \"ticks\": \"\"}}, \"title\": {\"x\": 0.05}, \"xaxis\": {\"automargin\": true, \"gridcolor\": \"white\", \"linecolor\": \"white\", \"ticks\": \"\", \"zerolinecolor\": \"white\", \"zerolinewidth\": 2}, \"yaxis\": {\"automargin\": true, \"gridcolor\": \"white\", \"linecolor\": \"white\", \"ticks\": \"\", \"zerolinecolor\": \"white\", \"zerolinewidth\": 2}}}, \"xaxis\": {\"linecolor\": \"black\", \"linewidth\": 2, \"range\": [0, 100], \"showline\": true, \"ticklen\": 5, \"ticks\": \"inside\", \"tickvals\": [10, 20, 30, 40, 50, 60, 70, 80, 90, 100], \"zeroline\": true}, \"yaxis\": {\"gridcolor\": \"lightgrey\", \"gridwidth\": 1, \"linecolor\": \"black\", \"linewidth\": 2, \"range\": [0, 4], \"showgrid\": true, \"showline\": true, \"ticklen\": 5, \"ticks\": \"inside\", \"tickvals\": [0, 1, 10, 100, 1000, 10000], \"title\": {\"text\": \"Time (milliseconds)\"}, \"type\": \"log\", \"zeroline\": false, \"zerolinecolor\": \"rgba(0, 0, 0, 0)\"}},\n",
       "                        {\"responsive\": true}\n",
       "                    ).then(function(){\n",
       "                            \n",
       "var gd = document.getElementById('4f259b74-07d8-49cc-a75e-c949122f267c');\n",
       "var x = new MutationObserver(function (mutations, observer) {{\n",
       "        var display = window.getComputedStyle(gd).display;\n",
       "        if (!display || display === 'none') {{\n",
       "            console.log([gd, 'removed!']);\n",
       "            Plotly.purge(gd);\n",
       "            observer.disconnect();\n",
       "        }}\n",
       "}});\n",
       "\n",
       "// Listen for the removal of the full notebook cells\n",
       "var notebookContainer = gd.closest('#notebook-container');\n",
       "if (notebookContainer) {{\n",
       "    x.observe(notebookContainer, {childList: true});\n",
       "}}\n",
       "\n",
       "// Listen for the clearing of the current output cell\n",
       "var outputEl = gd.closest('.output');\n",
       "if (outputEl) {{\n",
       "    x.observe(outputEl, {childList: true});\n",
       "}}\n",
       "\n",
       "                        })\n",
       "                };\n",
       "                });\n",
       "            </script>\n",
       "        </div>"
      ]
     },
     "metadata": {},
     "output_type": "display_data"
    }
   ],
   "source": [
    "a = per_query('Uniform8', ['FullScan', 'ProgressiveIndexQueryLimit', 'ProgressiveIndexTimeLimit', 'ProgressiveIndexBelow', 'CrackingKDTree'], 100)\n",
    "save_figure(a, 'over_interactive_threshold.pdf')\n",
    "a"
   ]
  },
  {
   "cell_type": "code",
   "execution_count": null,
   "metadata": {},
   "outputs": [],
   "source": []
  }
 ],
 "metadata": {
  "kernelspec": {
   "display_name": "Python 3",
   "language": "python",
   "name": "python3"
  },
  "language_info": {
   "codemirror_mode": {
    "name": "ipython",
    "version": 3
   },
   "file_extension": ".py",
   "mimetype": "text/x-python",
   "name": "python",
   "nbconvert_exporter": "python",
   "pygments_lexer": "ipython3",
   "version": "3.7.1"
  }
 },
 "nbformat": 4,
 "nbformat_minor": 4
}
