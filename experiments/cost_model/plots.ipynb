{
 "cells": [
  {
   "cell_type": "code",
   "execution_count": 2,
   "metadata": {},
   "outputs": [],
   "source": [
    "import pandas as pd\n",
    "import matplotlib.pyplot as plt\n",
    "import plotly.graph_objects as go\n",
    "import numpy as np\n",
    "import json\n",
    "pd.set_option('display.max_rows', 1000)\n",
    "%matplotlib inline"
   ]
  },
  {
   "cell_type": "code",
   "execution_count": 3,
   "metadata": {},
   "outputs": [],
   "source": [
    "# Read config\n",
    "with open('config.json') as json_file:\n",
    "    f = json.load(json_file)\n",
    "    NUMBER_OF_QUERIES = f['number_of_queries']\n",
    "    REPETITIONS = f['repetitions']\n",
    "    ROWS = f['rows']\n",
    "    SELECTIVITIES = [f['selectivity']]\n",
    "    COLS = f['cols']\n",
    "    EXPS_DEFAULTS = f['experiments']\n",
    "    PARTITION_SIZE = f['partition_size']\n",
    "    PROGRESSIVE_INDEX_DELTAS = f['deltas']\n",
    "\n",
    "# Algorithms and Experiments defitions\n",
    "algorithms = {\n",
    "    'FullScan': {\n",
    "        'name': 'full_scan_cl',\n",
    "        'color': 'black',\n",
    "        'dash': 'dot',\n",
    "        'show_name': 'FS',\n",
    "        'type': 'full_index',\n",
    "        'partition_size': '0',\n",
    "        'delta':'0.0',\n",
    "    },\n",
    "    'ProgressiveIndexTimeLimit': {\n",
    "        'name': 'progressive_index_time_limit',\n",
    "        'color': 'purple',\n",
    "        'dash': 'dot',\n",
    "        'show_name': 'PKDT(.2)',\n",
    "        'type': 'adaptive',\n",
    "        'delta': PROGRESSIVE_INDEX_DELTAS[0],\n",
    "        'partition_size': PARTITION_SIZE\n",
    "    },\n",
    "    'ProgressiveIndexQueryLimit': {\n",
    "        'name': 'progressive_index_query_limit',\n",
    "        'color': 'purple',\n",
    "        'dash': 'solid',\n",
    "        'show_name': 'PKDQ(.2)',\n",
    "        'type': 'adaptive',\n",
    "        'delta': PROGRESSIVE_INDEX_DELTAS[0],\n",
    "        'partition_size': PARTITION_SIZE\n",
    "    }\n",
    "}\n",
    "\n",
    "for key, value in algorithms.items():\n",
    "    name = value['name']\n",
    "    delta = value['delta']\n",
    "    partition_size = value['partition_size']\n",
    "    algorithms[key]['alg_id'] = f\"{name}-{delta}-{partition_size}\"\n",
    "    \n",
    "# Synthetic Experiments\n",
    "experiments = {}\n",
    "\n",
    "for i in [2, 4, 8, 16]:\n",
    "    temp = {\n",
    "        f'Uniform{i}': {\n",
    "            \"name\": f\"Unif({i})\",\n",
    "            'name-in-file': 'uniform',\n",
    "            'n_rows': ROWS,\n",
    "            'n_queries': NUMBER_OF_QUERIES,\n",
    "            'n_cols': f'{i}',\n",
    "            'sel': '0.01',\n",
    "        },\n",
    "        f'Skewed{i}': {\n",
    "            \"name\": f\"Skewed({i})\",\n",
    "            'name-in-file': 'skewed',\n",
    "            'n_rows': ROWS,\n",
    "            'n_queries': NUMBER_OF_QUERIES,\n",
    "            'n_cols': f'{i}',\n",
    "            'sel': '0.01',\n",
    "        },\n",
    "        f'Sequential{i}': {\n",
    "            \"name\": f\"Seq ({i})\",\n",
    "            'name-in-file': 'sequential',\n",
    "            'n_rows': ROWS,\n",
    "            'n_queries': NUMBER_OF_QUERIES,\n",
    "            'n_cols': f'{i}',\n",
    "            'sel': '0.01',\n",
    "        },\n",
    "        f'Periodic{i}': {\n",
    "            \"name\": f\"Prdc({i})\",\n",
    "            'name-in-file': 'periodic',\n",
    "            'n_rows': ROWS,\n",
    "            'n_queries': NUMBER_OF_QUERIES,\n",
    "            'n_cols': f'{i}',\n",
    "            'sel': '0.01',\n",
    "        },\n",
    "        f'ZoomIn{i}': {\n",
    "            \"name\": f\"Zoom({i})\",\n",
    "            'name-in-file': 'zoom_in',\n",
    "            'n_rows': ROWS,\n",
    "            'n_queries': NUMBER_OF_QUERIES,\n",
    "            'n_cols': f'{i}',\n",
    "            'sel': '0.01',\n",
    "        },\n",
    "        f'SequentialZoomIn{i}': {\n",
    "            \"name\": f\"SeqZoom({i})\",\n",
    "            'name-in-file': 'sequential_zoom_in',\n",
    "            'n_rows': ROWS,\n",
    "            'n_queries': NUMBER_OF_QUERIES,\n",
    "            'n_cols': f'{i}',\n",
    "            'sel': '0.01',\n",
    "        },\n",
    "        f'AlternatingZoomIn{i}': {\n",
    "            \"name\": f\"AltZoom({i})\",\n",
    "            'name-in-file': 'alternating_zoom_in',\n",
    "            'n_rows': ROWS,\n",
    "            'n_queries': NUMBER_OF_QUERIES,\n",
    "            'n_cols': f'{i}',\n",
    "            'sel': '0.01',\n",
    "        },\n",
    "        f'Shifting{i}': {\n",
    "            \"name\": f\"Shift({i})\",\n",
    "            'name-in-file': '',\n",
    "            'n_rows': ROWS,\n",
    "            'n_queries': NUMBER_OF_QUERIES,\n",
    "            'n_cols': f'{i}',\n",
    "            'sel': '0.01',\n",
    "        }\n",
    "    }\n",
    "    experiments = {**experiments, **temp}\n",
    "    \n",
    "for key, value in experiments.items():\n",
    "    name = value['name-in-file']\n",
    "    rows = value['n_rows']\n",
    "    n_queries = value['n_queries']\n",
    "    cols = value['n_cols']\n",
    "    sel = value['sel']\n",
    "    experiments[key]['exp_id'] = f\"{name}-{rows}-{n_queries}-{cols}-{sel}\""
   ]
  },
  {
   "cell_type": "code",
   "execution_count": 4,
   "metadata": {},
   "outputs": [],
   "source": [
    "# Input/Output\n",
    "def read(alg, exp):\n",
    "    if exp.startswith('Shifting'):\n",
    "        n_queries_per_run = 10\n",
    "        uni = read(alg, 'Uniform' + experiments[exp]['n_cols'])\n",
    "        n_runs = int(len(uni)/n_queries_per_run) - 1\n",
    "        df_final = uni.head(n_queries_per_run)\n",
    "        for _ in range(int(n_runs)):\n",
    "            temp = uni.head(n_queries_per_run).copy()\n",
    "            df_final = df_final.append(temp, ignore_index=True)\n",
    "    else:\n",
    "        df = pd.read_csv(f\"results/{algorithms[alg]['alg_id']}-{experiments[exp]['exp_id']}.csv\")\n",
    "        repetitions = df['repetition'].max() + 1\n",
    "        step = int(len(df.index)/repetitions)\n",
    "        df_final = df[:step].copy().reset_index()\n",
    "        for rep in range(1, repetitions):\n",
    "            df_final += df[step * (rep) : step * (rep + 1)].copy().reset_index()\n",
    "\n",
    "        df_final = df_final/repetitions\n",
    "    \n",
    "    if 'index_search_time' not in df_final:\n",
    "        df_final['index_search_time'] = 0.0\n",
    "    if 'tuples_scanned' not in df_final:\n",
    "        df_final['tuples_scanned'] = 0.0\n",
    "    if 'number_of_nodes' not in df_final:\n",
    "        df_final['number_of_nodes'] = 0.0\n",
    "    df_final['query_time'] = df_final['initialization_time'] + df_final['index_search_time'] + df_final['scan_time'] + df_final['adaptation_time']\n",
    "    df_final['query_time_cumsum'] = df_final['query_time'].cumsum()\n",
    "    return df_final\n",
    "\n",
    "                     \n",
    "def read_multiple(algs, exp):\n",
    "    ''' Reads multiple algorithms in an experiment, return three arrays: dfs, colors, names\n",
    "    '''\n",
    "    dfs = []\n",
    "    colors = []\n",
    "    names = []\n",
    "    dashes = []\n",
    "    for alg in algs:\n",
    "        dfs.append(read(alg, exp))\n",
    "        names.append(algorithms[alg]['show_name'])\n",
    "        colors.append(algorithms[alg]['color'])\n",
    "        dashes.append(algorithms[alg]['dash'])\n",
    "    \n",
    "    return dfs, colors, dashes, names,\n",
    "\n",
    "                     \n",
    "def save_figure(fig, fig_name):\n",
    "    fig.write_image(f\"figures/{fig_name}\", width=1024, height=768)\n",
    "                     \n",
    "def save_table(table, table_name):\n",
    "    with open(f\"tables/{table_name}\", 'w') as f:\n",
    "        f.write(table)"
   ]
  },
  {
   "cell_type": "code",
   "execution_count": 5,
   "metadata": {},
   "outputs": [],
   "source": [
    "# Helper methods\n",
    "def get_first_query(df):\n",
    "    return df['query_time'].iloc[0]\n",
    "\n",
    "def get_payoff(df, baseline):\n",
    "    p = [i for i, x in enumerate(df['query_time_cumsum'] - (baseline['query_time_cumsum'])) if x > 0]\n",
    "    if len(p) == 0:\n",
    "        return len(df)\n",
    "    return p[-1]\n",
    "\n",
    "def get_convergence(df, df_type=''):\n",
    "    if df_type == 'full_index':\n",
    "        return 0\n",
    "    c = [i for i, x in enumerate(df['adaptation_time']) if x != 0.0]\n",
    "    if(len(c) == 0):\n",
    "        return len(c)\n",
    "    else:\n",
    "        return c[-1]\n",
    "\n",
    "def get_robustness(df, df_type=''):\n",
    "    if df_type == 'full_index':\n",
    "        return 0\n",
    "    return np.var(df['query_time'][:min(50, get_convergence(df, df_type))])\n",
    "\n",
    "def get_total_time(df, lower=0, upper=-1):\n",
    "    return df['query_time'][lower:upper].sum()"
   ]
  },
  {
   "cell_type": "code",
   "execution_count": 6,
   "metadata": {},
   "outputs": [],
   "source": [
    "# Figures\n",
    "\n",
    "delta_cols = [2, 4, 5, 6, 7, 8]\n",
    "delta_markers = ['circle', 'square', 'x', 'star', 'triangle-up', 'diamond']\n",
    "\n",
    "def create_figure(data=[]):\n",
    "    fig = go.Figure(\n",
    "        data=data,\n",
    "        layout=go.Layout(\n",
    "#             width=1500,\n",
    "            plot_bgcolor='rgba(0,0,0,0)',\n",
    "            font=dict(\n",
    "                size=42\n",
    "            ),\n",
    "            yaxis=dict(\n",
    "                showline=True,\n",
    "                linewidth=2,\n",
    "                linecolor='black',\n",
    "                showgrid=True,\n",
    "                gridwidth=1,\n",
    "                gridcolor='lightgrey',\n",
    "                zeroline=False,\n",
    "                zerolinecolor='rgba(0, 0, 0, 0)',\n",
    "                ticks=\"inside\",\n",
    "                ticklen=5\n",
    "            ),\n",
    "            xaxis=dict(\n",
    "                showline=True,\n",
    "                linewidth=2,\n",
    "                linecolor='black',\n",
    "                ticks='inside',\n",
    "                zeroline=True,\n",
    "                ticklen=5\n",
    "            ),\n",
    "            legend=dict(\n",
    "                font=dict(\n",
    "                    size=30,\n",
    "                    color=\"black\"\n",
    "                )\n",
    "            )\n",
    "        )\n",
    "    )\n",
    "    return fig\n",
    "\n",
    "def line(exp, algs, attr, limit=2000):\n",
    "    dfs, colors, dashes, names = read_multiple(algs, exp)\n",
    "    fig = create_figure()\n",
    "    \n",
    "    lines = []\n",
    "    \n",
    "    biggest = 0\n",
    "    \n",
    "    for i, df in enumerate(dfs):\n",
    "        per_query_times = np.array(df[attr][:limit])\n",
    "        if biggest < np.max(per_query_times):\n",
    "            biggest = np.max(per_query_times)\n",
    "        lines.append(\n",
    "            go.Scatter(\n",
    "                name=names[i],\n",
    "                x=list(range(len(per_query_times))),\n",
    "                y=per_query_times,\n",
    "#                 marker_color=colors[i],\n",
    "                mode='lines',\n",
    "                line=dict(width=4, dash=dashes[i])\n",
    "            )\n",
    "        )\n",
    "    \n",
    "    fig.add_traces(data=lines)\n",
    "    fig.update_layout(showlegend=True, yaxis_title=attr)\n",
    "    return fig\n",
    "\n",
    "def workload_selectivity(exp):\n",
    "    fig = create_figure()\n",
    "    df = read('FullScan', exp)\n",
    "    sel = ((df['tuples_scanned']/df['scan_overhead'])/df['tuples_scanned']) * 100\n",
    "    \n",
    "    fig.add_traces(\n",
    "        data=go.Scatter(\n",
    "            name='selectivity',\n",
    "            x=list(range(len(sel))),\n",
    "            y=sel,\n",
    "            mode='lines',\n",
    "            line=dict(width=4)\n",
    "        )\n",
    "    )\n",
    "    fig.update_layout(showlegend=True, yaxis_title='Selectivity (%)')\n",
    "    return fig\n",
    "\n",
    "\n",
    "def per_query(exp, algs, limit=1000):\n",
    "    dfs, colors, dashes, names = read_multiple(algs, exp)\n",
    "    fig = create_figure()\n",
    "    \n",
    "    lines = []\n",
    "    \n",
    "    biggest = 0\n",
    "    \n",
    "    for i, df in enumerate(dfs):\n",
    "        alg = algs[i]\n",
    "        per_query_times = np.array(df['query_time'][:limit]) * 1000\n",
    "        if biggest < np.max(per_query_times):\n",
    "            biggest = np.max(per_query_times)\n",
    "        lines.append(\n",
    "            go.Scatter(\n",
    "                name=names[i],\n",
    "                x=list(range(len(per_query_times))),\n",
    "                y=per_query_times,\n",
    "                marker_color=colors[i],\n",
    "                mode='lines',\n",
    "                line=dict(width=6, dash=dashes[i])\n",
    "            )\n",
    "        )\n",
    "        \n",
    "    fig.add_traces(data=lines)\n",
    "    fig.update_layout(showlegend=True, yaxis_title='Time (milliseconds)')\n",
    "    fig.update_layout(legend_orientation=\"h\", legend=dict(x=.25, y=1.2))\n",
    "    fig.update_yaxes(type=\"log\")\n",
    "    return fig\n",
    "\n",
    "def cummulative(exp, algs, limit=5000):\n",
    "    dfs, colors, dashes, names = read_multiple(algs, exp)\n",
    "    fig = create_figure()\n",
    "    \n",
    "    lines = []\n",
    "    \n",
    "    biggest = 0\n",
    "    \n",
    "    for i, df in enumerate(dfs):\n",
    "        alg = algs[i]\n",
    "        per_query_times = np.array(df['query_time_cumsum'][:limit])\n",
    "        lines.append(\n",
    "            go.Scatter(\n",
    "                name=names[i],\n",
    "                x=list(range(len(per_query_times))),\n",
    "                y=per_query_times,\n",
    "                marker_color=colors[i],\n",
    "                mode='lines',\n",
    "                line=dict(width=6, dash=dashes[i])\n",
    "            )\n",
    "        )\n",
    "    \n",
    "    fig.add_traces(data=lines)\n",
    "    fig.update_layout(legend_orientation=\"h\", legend=dict(x=.25, y=1.2))\n",
    "    fig.update_layout(showlegend=True, yaxis_title='Time (Seconds)')\n",
    "    return fig\n",
    "\n",
    "def number_of_nodes(exp, algs, limit=5000):\n",
    "    dfs, colors, dashes, names = read_multiple(algs, exp)\n",
    "    fig = create_figure()\n",
    "    \n",
    "    lines = []\n",
    "    \n",
    "    biggest = 0\n",
    "    \n",
    "    for i, df in enumerate(dfs):\n",
    "        per_query_times = np.array(df['number_of_nodes'][:limit])\n",
    "        if biggest < np.max(per_query_times):\n",
    "            biggest = np.max(per_query_times)\n",
    "        lines.append(\n",
    "            go.Scatter(\n",
    "                name=names[i],\n",
    "                x=list(range(len(per_query_times))),\n",
    "                y=per_query_times,\n",
    "                marker_color=colors[i],\n",
    "                mode='lines',\n",
    "                line=dict(width=6, dash=dashes[i])\n",
    "            )\n",
    "        )\n",
    "    \n",
    "    fig.add_traces(data=lines)\n",
    "    fig.update_layout(legend_orientation=\"h\", legend=dict(x=.25, y=1.2))\n",
    "    fig.update_layout(showlegend=True, yaxis_title='# Nodes')\n",
    "    return fig\n",
    "\n",
    "def tuples_scanned(exp, algs, limit=5000):\n",
    "    dfs, colors, dashes, names = read_multiple(algs, exp)\n",
    "    fig = create_figure()\n",
    "    \n",
    "    lines = []\n",
    "    \n",
    "    \n",
    "    for i, df in enumerate(dfs):\n",
    "        per_query_times = np.array(df['tuples_scanned'][:limit])\n",
    "        lines.append(\n",
    "            go.Scatter(\n",
    "                name=names[i],\n",
    "                x=list(range(len(per_query_times))),\n",
    "                y=per_query_times,\n",
    "                marker_color=colors[i],\n",
    "                mode='lines',\n",
    "                line=dict(width=6, dash=dashes[i])\n",
    "            )\n",
    "        )\n",
    "    \n",
    "    fig.add_traces(data=lines)\n",
    "    fig.update_layout(legend_orientation=\"h\", legend=dict(x=.25, y=1.2))\n",
    "    fig.update_layout(showlegend=True, yaxis_title='Tuples Scanned')\n",
    "    return fig\n",
    "\n",
    "def break_down(exp, algs, limit):\n",
    "    dfs, _, _, names = read_multiple(algs, exp)\n",
    "    initializations = np.array([x['initialization_time'][:limit].sum() for x in dfs])\n",
    "    adaptation = np.array([x['adaptation_time'][:limit].sum() for x in dfs])\n",
    "    search = np.array([x['index_search_time'][:limit].sum() for x in dfs])\n",
    "    scan = np.array([x['scan_time'][:limit].sum() for x in dfs])\n",
    "    \n",
    "#     fig = create_figure(data=[\n",
    "#         go.Bar(name='Initialization', x=names, y=initializations, marker_color='rgb(176, 201, 146)'),\n",
    "#         go.Bar(name='Adaptation', x=names, y=adaptation, marker_color='rgb(195, 114, 28)'),\n",
    "#         go.Bar(name='Index Search', x=names, y=search, marker_color='rgb(197, 255, 114)'),\n",
    "#         go.Bar(name='Scan', x=names, y=scan, marker_color='rgb(237, 218, 123)'),\n",
    "#     ])\n",
    "\n",
    "    scan_color = '#AB63FA'\n",
    "    index_search_color = '#03CC96'\n",
    "    adaptation_color = '#EF553B'\n",
    "    initialization_color = '#636EFA'\n",
    "\n",
    "    data = [\n",
    "        go.Bar(name='Initialization', x=names, y=initializations, width=0.5, marker_color=initialization_color, showlegend=False),\n",
    "        go.Bar(name='Adaptation', x=names, y=adaptation, width=0.5, marker_color=adaptation_color, showlegend=False),\n",
    "        go.Bar(name='Index Search', x=names, y=search, width=0.5, marker_color=index_search_color,showlegend=False),\n",
    "        go.Bar(name='Scan', x=names, y=scan, width=0.5, marker_color=scan_color,showlegend=False),\n",
    "    ]\n",
    "    \n",
    "    data.append(\n",
    "        go.Scatter(\n",
    "            name='Initialization',\n",
    "            x=[None],\n",
    "            y=[None],\n",
    "            mode='markers',\n",
    "            marker_color=initialization_color,\n",
    "            marker=dict(\n",
    "                size=40,\n",
    "                symbol='square'\n",
    "            ),\n",
    "        )\n",
    "    )\n",
    "    \n",
    "    data.append(\n",
    "        go.Scatter(\n",
    "            name='Adaptation',\n",
    "            x=[None],\n",
    "            y=[None],\n",
    "            mode='markers',\n",
    "            marker_color=adaptation_color,\n",
    "            marker=dict(\n",
    "                size=40,\n",
    "                symbol='square'\n",
    "            ),\n",
    "        )\n",
    "    )\n",
    "    \n",
    "    data.append(\n",
    "        go.Scatter(\n",
    "            name='Index Search',\n",
    "            x=[None],\n",
    "            y=[None],\n",
    "            mode='markers',\n",
    "            marker_color=index_search_color,\n",
    "            marker=dict(\n",
    "                size=40,\n",
    "                symbol='square'\n",
    "            ),\n",
    "        )\n",
    "    )\n",
    "    \n",
    "    data.append(\n",
    "        go.Scatter(\n",
    "            name='Scan',\n",
    "            x=[None],\n",
    "            y=[None],\n",
    "            mode='markers',\n",
    "            marker_color=scan_color,\n",
    "            marker=dict(\n",
    "                size=40,\n",
    "                symbol='square'\n",
    "            ),\n",
    "        )\n",
    "    )\n",
    "\n",
    "    fig = create_figure(data=data)\n",
    "    \n",
    "    # Change the bar mode\n",
    "    fig.update_layout(barmode='stack')\n",
    "    fig.update_layout(legend_orientation=\"h\", legend=dict(x=.25, y=1.2))\n",
    "    fig.update_layout(yaxis_title='Time (seconds)')\n",
    "    return fig"
   ]
  },
  {
   "cell_type": "code",
   "execution_count": 11,
   "metadata": {},
   "outputs": [
    {
     "data": {
      "application/vnd.plotly.v1+json": {
       "config": {
        "plotlyServerURL": "https://plot.ly"
       },
       "data": [
        {
         "line": {
          "dash": "solid",
          "width": 6
         },
         "marker": {
          "color": "purple"
         },
         "mode": "lines",
         "name": "PKDQ(.2)",
         "type": "scatter",
         "x": [
          0,
          1,
          2,
          3,
          4,
          5,
          6,
          7,
          8,
          9,
          10,
          11,
          12,
          13,
          14,
          15,
          16,
          17,
          18,
          19,
          20,
          21,
          22,
          23,
          24,
          25,
          26,
          27,
          28,
          29,
          30,
          31,
          32,
          33,
          34,
          35,
          36,
          37,
          38,
          39,
          40,
          41,
          42,
          43,
          44,
          45,
          46,
          47,
          48,
          49,
          50,
          51,
          52,
          53,
          54,
          55,
          56,
          57,
          58,
          59,
          60,
          61,
          62,
          63,
          64,
          65,
          66,
          67,
          68,
          69,
          70,
          71,
          72,
          73,
          74,
          75,
          76,
          77,
          78,
          79,
          80,
          81,
          82,
          83,
          84,
          85,
          86,
          87,
          88,
          89,
          90,
          91,
          92,
          93,
          94,
          95,
          96,
          97,
          98,
          99
         ],
         "y": [
          6.481,
          14.582,
          16.423000000000002,
          5.85,
          5.819999999999999,
          5.894,
          5.880999999999999,
          5.9030000000000005,
          5.9750000000000005,
          5.902,
          5.9030000000000005,
          32.150999999999996,
          2.183,
          2.6060000000000003,
          2.2369999999999997,
          2.142,
          2.15,
          2.248,
          2.665,
          2.307,
          2.519,
          2.2059999999999995,
          2.218,
          2.17,
          2.144,
          2.254,
          2.225,
          2.3890000000000002,
          2.6879999999999997,
          2.19,
          2.5820000000000003,
          2.6159999999999997,
          2.234,
          2.227,
          2.382,
          2.423,
          2.197,
          2.4799999999999995,
          2.7960000000000003,
          2.387,
          2.2500000000000004,
          2.197,
          2.132,
          2.551,
          2.2470000000000003,
          2.2670000000000003,
          2.207,
          2.226,
          2.1470000000000002,
          2.3409999999999997,
          2.238,
          2.4949999999999997,
          2.2369999999999997,
          2.261,
          3.057,
          2.4920000000000004,
          2.223,
          2.679,
          2.68,
          2.4949999999999997,
          2.581,
          2.2689999999999997,
          2.6,
          2.2079999999999997,
          2.2659999999999996,
          2.254,
          2.322,
          2.185,
          2.57,
          2.5860000000000003,
          2.7439999999999998,
          2.254,
          2.4850000000000003,
          14.826999999999998,
          3.783,
          4.069,
          3.154,
          3.1879999999999997,
          3.541,
          3.246,
          3.576,
          2.598,
          3.408,
          3.8880000000000003,
          3.215,
          2.59,
          3.114,
          3.621,
          2.72,
          3.503,
          4.303999999999999,
          4.0680000000000005,
          2.9829999999999997,
          4.021,
          3.4270000000000005,
          3.24,
          3.6200000000000006,
          3.189,
          2.7520000000000002,
          3.192
         ]
        },
        {
         "line": {
          "dash": "dot",
          "width": 6
         },
         "marker": {
          "color": "purple"
         },
         "mode": "lines",
         "name": "PKDT(.2)",
         "type": "scatter",
         "x": [
          0,
          1,
          2,
          3,
          4,
          5,
          6,
          7,
          8,
          9,
          10,
          11,
          12,
          13,
          14,
          15,
          16,
          17,
          18,
          19,
          20,
          21,
          22,
          23,
          24,
          25,
          26,
          27,
          28,
          29,
          30,
          31,
          32,
          33,
          34,
          35,
          36,
          37,
          38,
          39,
          40,
          41,
          42,
          43,
          44,
          45,
          46,
          47,
          48,
          49,
          50,
          51,
          52,
          53,
          54,
          55,
          56,
          57,
          58,
          59,
          60,
          61,
          62,
          63,
          64,
          65,
          66,
          67,
          68,
          69,
          70,
          71,
          72,
          73,
          74,
          75,
          76,
          77,
          78,
          79,
          80,
          81,
          82,
          83,
          84,
          85,
          86,
          87,
          88,
          89,
          90,
          91,
          92,
          93,
          94,
          95,
          96,
          97,
          98,
          99
         ],
         "y": [
          8.839,
          79.92099999999999,
          2.9229999999999996,
          2.8480000000000003,
          3.0460000000000003,
          2.255,
          2.599,
          2.72,
          3.194,
          2.307,
          2.1820000000000004,
          2.219,
          2.2030000000000003,
          2.653,
          2.4240000000000004,
          2.3199999999999994,
          2.202,
          2.4299999999999997,
          2.497,
          2.1750000000000003,
          2.732,
          2.693,
          2.3430000000000004,
          2.181,
          2.2009999999999996,
          2.242,
          2.155,
          2.2390000000000003,
          2.555,
          2.176,
          2.672,
          2.553,
          2.201,
          2.217,
          2.3040000000000003,
          2.17,
          2.1249999999999996,
          2.6310000000000002,
          2.265,
          2.193,
          2.121,
          2.179,
          2.189,
          2.611,
          2.2140000000000004,
          2.2230000000000003,
          2.2619999999999996,
          2.186,
          2.2369999999999997,
          2.233,
          2.1569999999999996,
          2.487,
          2.259,
          2.175,
          2.936,
          2.499,
          2.328,
          2.5,
          2.633,
          2.544,
          2.5340000000000003,
          2.164,
          2.509,
          2.219,
          2.1879999999999997,
          2.25,
          2.1069999999999998,
          2.114,
          2.146,
          2.559,
          2.548,
          2.2649999999999997,
          2.307,
          2.413,
          2.1020000000000003,
          2.199,
          2.158,
          2.4819999999999998,
          2.33,
          2.5370000000000004,
          2.137,
          2.347,
          2.372,
          2.2079999999999997,
          2.2030000000000003,
          2.149,
          2.274,
          2.153,
          2.167,
          2.48,
          2.5159999999999996,
          2.289,
          2.2180000000000004,
          2.16,
          2.141,
          2.1290000000000004,
          2.1479999999999997,
          2.222,
          2.177,
          2.205
         ]
        }
       ],
       "layout": {
        "autosize": true,
        "font": {
         "size": 42
        },
        "legend": {
         "font": {
          "color": "black",
          "size": 30
         },
         "orientation": "h",
         "x": 0.25,
         "y": 1.2
        },
        "plot_bgcolor": "rgba(0, 0, 0, 0)",
        "showlegend": true,
        "template": {
         "data": {
          "bar": [
           {
            "error_x": {
             "color": "#2a3f5f"
            },
            "error_y": {
             "color": "#2a3f5f"
            },
            "marker": {
             "line": {
              "color": "#E5ECF6",
              "width": 0.5
             }
            },
            "type": "bar"
           }
          ],
          "barpolar": [
           {
            "marker": {
             "line": {
              "color": "#E5ECF6",
              "width": 0.5
             }
            },
            "type": "barpolar"
           }
          ],
          "carpet": [
           {
            "aaxis": {
             "endlinecolor": "#2a3f5f",
             "gridcolor": "white",
             "linecolor": "white",
             "minorgridcolor": "white",
             "startlinecolor": "#2a3f5f"
            },
            "baxis": {
             "endlinecolor": "#2a3f5f",
             "gridcolor": "white",
             "linecolor": "white",
             "minorgridcolor": "white",
             "startlinecolor": "#2a3f5f"
            },
            "type": "carpet"
           }
          ],
          "choropleth": [
           {
            "colorbar": {
             "outlinewidth": 0,
             "ticks": ""
            },
            "type": "choropleth"
           }
          ],
          "contour": [
           {
            "colorbar": {
             "outlinewidth": 0,
             "ticks": ""
            },
            "colorscale": [
             [
              0,
              "#0d0887"
             ],
             [
              0.1111111111111111,
              "#46039f"
             ],
             [
              0.2222222222222222,
              "#7201a8"
             ],
             [
              0.3333333333333333,
              "#9c179e"
             ],
             [
              0.4444444444444444,
              "#bd3786"
             ],
             [
              0.5555555555555556,
              "#d8576b"
             ],
             [
              0.6666666666666666,
              "#ed7953"
             ],
             [
              0.7777777777777778,
              "#fb9f3a"
             ],
             [
              0.8888888888888888,
              "#fdca26"
             ],
             [
              1,
              "#f0f921"
             ]
            ],
            "type": "contour"
           }
          ],
          "contourcarpet": [
           {
            "colorbar": {
             "outlinewidth": 0,
             "ticks": ""
            },
            "type": "contourcarpet"
           }
          ],
          "heatmap": [
           {
            "colorbar": {
             "outlinewidth": 0,
             "ticks": ""
            },
            "colorscale": [
             [
              0,
              "#0d0887"
             ],
             [
              0.1111111111111111,
              "#46039f"
             ],
             [
              0.2222222222222222,
              "#7201a8"
             ],
             [
              0.3333333333333333,
              "#9c179e"
             ],
             [
              0.4444444444444444,
              "#bd3786"
             ],
             [
              0.5555555555555556,
              "#d8576b"
             ],
             [
              0.6666666666666666,
              "#ed7953"
             ],
             [
              0.7777777777777778,
              "#fb9f3a"
             ],
             [
              0.8888888888888888,
              "#fdca26"
             ],
             [
              1,
              "#f0f921"
             ]
            ],
            "type": "heatmap"
           }
          ],
          "heatmapgl": [
           {
            "colorbar": {
             "outlinewidth": 0,
             "ticks": ""
            },
            "colorscale": [
             [
              0,
              "#0d0887"
             ],
             [
              0.1111111111111111,
              "#46039f"
             ],
             [
              0.2222222222222222,
              "#7201a8"
             ],
             [
              0.3333333333333333,
              "#9c179e"
             ],
             [
              0.4444444444444444,
              "#bd3786"
             ],
             [
              0.5555555555555556,
              "#d8576b"
             ],
             [
              0.6666666666666666,
              "#ed7953"
             ],
             [
              0.7777777777777778,
              "#fb9f3a"
             ],
             [
              0.8888888888888888,
              "#fdca26"
             ],
             [
              1,
              "#f0f921"
             ]
            ],
            "type": "heatmapgl"
           }
          ],
          "histogram": [
           {
            "marker": {
             "colorbar": {
              "outlinewidth": 0,
              "ticks": ""
             }
            },
            "type": "histogram"
           }
          ],
          "histogram2d": [
           {
            "colorbar": {
             "outlinewidth": 0,
             "ticks": ""
            },
            "colorscale": [
             [
              0,
              "#0d0887"
             ],
             [
              0.1111111111111111,
              "#46039f"
             ],
             [
              0.2222222222222222,
              "#7201a8"
             ],
             [
              0.3333333333333333,
              "#9c179e"
             ],
             [
              0.4444444444444444,
              "#bd3786"
             ],
             [
              0.5555555555555556,
              "#d8576b"
             ],
             [
              0.6666666666666666,
              "#ed7953"
             ],
             [
              0.7777777777777778,
              "#fb9f3a"
             ],
             [
              0.8888888888888888,
              "#fdca26"
             ],
             [
              1,
              "#f0f921"
             ]
            ],
            "type": "histogram2d"
           }
          ],
          "histogram2dcontour": [
           {
            "colorbar": {
             "outlinewidth": 0,
             "ticks": ""
            },
            "colorscale": [
             [
              0,
              "#0d0887"
             ],
             [
              0.1111111111111111,
              "#46039f"
             ],
             [
              0.2222222222222222,
              "#7201a8"
             ],
             [
              0.3333333333333333,
              "#9c179e"
             ],
             [
              0.4444444444444444,
              "#bd3786"
             ],
             [
              0.5555555555555556,
              "#d8576b"
             ],
             [
              0.6666666666666666,
              "#ed7953"
             ],
             [
              0.7777777777777778,
              "#fb9f3a"
             ],
             [
              0.8888888888888888,
              "#fdca26"
             ],
             [
              1,
              "#f0f921"
             ]
            ],
            "type": "histogram2dcontour"
           }
          ],
          "mesh3d": [
           {
            "colorbar": {
             "outlinewidth": 0,
             "ticks": ""
            },
            "type": "mesh3d"
           }
          ],
          "parcoords": [
           {
            "line": {
             "colorbar": {
              "outlinewidth": 0,
              "ticks": ""
             }
            },
            "type": "parcoords"
           }
          ],
          "scatter": [
           {
            "marker": {
             "colorbar": {
              "outlinewidth": 0,
              "ticks": ""
             }
            },
            "type": "scatter"
           }
          ],
          "scatter3d": [
           {
            "line": {
             "colorbar": {
              "outlinewidth": 0,
              "ticks": ""
             }
            },
            "marker": {
             "colorbar": {
              "outlinewidth": 0,
              "ticks": ""
             }
            },
            "type": "scatter3d"
           }
          ],
          "scattercarpet": [
           {
            "marker": {
             "colorbar": {
              "outlinewidth": 0,
              "ticks": ""
             }
            },
            "type": "scattercarpet"
           }
          ],
          "scattergeo": [
           {
            "marker": {
             "colorbar": {
              "outlinewidth": 0,
              "ticks": ""
             }
            },
            "type": "scattergeo"
           }
          ],
          "scattergl": [
           {
            "marker": {
             "colorbar": {
              "outlinewidth": 0,
              "ticks": ""
             }
            },
            "type": "scattergl"
           }
          ],
          "scattermapbox": [
           {
            "marker": {
             "colorbar": {
              "outlinewidth": 0,
              "ticks": ""
             }
            },
            "type": "scattermapbox"
           }
          ],
          "scatterpolar": [
           {
            "marker": {
             "colorbar": {
              "outlinewidth": 0,
              "ticks": ""
             }
            },
            "type": "scatterpolar"
           }
          ],
          "scatterpolargl": [
           {
            "marker": {
             "colorbar": {
              "outlinewidth": 0,
              "ticks": ""
             }
            },
            "type": "scatterpolargl"
           }
          ],
          "scatterternary": [
           {
            "marker": {
             "colorbar": {
              "outlinewidth": 0,
              "ticks": ""
             }
            },
            "type": "scatterternary"
           }
          ],
          "surface": [
           {
            "colorbar": {
             "outlinewidth": 0,
             "ticks": ""
            },
            "colorscale": [
             [
              0,
              "#0d0887"
             ],
             [
              0.1111111111111111,
              "#46039f"
             ],
             [
              0.2222222222222222,
              "#7201a8"
             ],
             [
              0.3333333333333333,
              "#9c179e"
             ],
             [
              0.4444444444444444,
              "#bd3786"
             ],
             [
              0.5555555555555556,
              "#d8576b"
             ],
             [
              0.6666666666666666,
              "#ed7953"
             ],
             [
              0.7777777777777778,
              "#fb9f3a"
             ],
             [
              0.8888888888888888,
              "#fdca26"
             ],
             [
              1,
              "#f0f921"
             ]
            ],
            "type": "surface"
           }
          ],
          "table": [
           {
            "cells": {
             "fill": {
              "color": "#EBF0F8"
             },
             "line": {
              "color": "white"
             }
            },
            "header": {
             "fill": {
              "color": "#C8D4E3"
             },
             "line": {
              "color": "white"
             }
            },
            "type": "table"
           }
          ]
         },
         "layout": {
          "annotationdefaults": {
           "arrowcolor": "#2a3f5f",
           "arrowhead": 0,
           "arrowwidth": 1
          },
          "colorscale": {
           "diverging": [
            [
             0,
             "#8e0152"
            ],
            [
             0.1,
             "#c51b7d"
            ],
            [
             0.2,
             "#de77ae"
            ],
            [
             0.3,
             "#f1b6da"
            ],
            [
             0.4,
             "#fde0ef"
            ],
            [
             0.5,
             "#f7f7f7"
            ],
            [
             0.6,
             "#e6f5d0"
            ],
            [
             0.7,
             "#b8e186"
            ],
            [
             0.8,
             "#7fbc41"
            ],
            [
             0.9,
             "#4d9221"
            ],
            [
             1,
             "#276419"
            ]
           ],
           "sequential": [
            [
             0,
             "#0d0887"
            ],
            [
             0.1111111111111111,
             "#46039f"
            ],
            [
             0.2222222222222222,
             "#7201a8"
            ],
            [
             0.3333333333333333,
             "#9c179e"
            ],
            [
             0.4444444444444444,
             "#bd3786"
            ],
            [
             0.5555555555555556,
             "#d8576b"
            ],
            [
             0.6666666666666666,
             "#ed7953"
            ],
            [
             0.7777777777777778,
             "#fb9f3a"
            ],
            [
             0.8888888888888888,
             "#fdca26"
            ],
            [
             1,
             "#f0f921"
            ]
           ],
           "sequentialminus": [
            [
             0,
             "#0d0887"
            ],
            [
             0.1111111111111111,
             "#46039f"
            ],
            [
             0.2222222222222222,
             "#7201a8"
            ],
            [
             0.3333333333333333,
             "#9c179e"
            ],
            [
             0.4444444444444444,
             "#bd3786"
            ],
            [
             0.5555555555555556,
             "#d8576b"
            ],
            [
             0.6666666666666666,
             "#ed7953"
            ],
            [
             0.7777777777777778,
             "#fb9f3a"
            ],
            [
             0.8888888888888888,
             "#fdca26"
            ],
            [
             1,
             "#f0f921"
            ]
           ]
          },
          "colorway": [
           "#636efa",
           "#EF553B",
           "#00cc96",
           "#ab63fa",
           "#FFA15A",
           "#19d3f3",
           "#FF6692",
           "#B6E880",
           "#FF97FF",
           "#FECB52"
          ],
          "font": {
           "color": "#2a3f5f"
          },
          "geo": {
           "bgcolor": "white",
           "lakecolor": "white",
           "landcolor": "#E5ECF6",
           "showlakes": true,
           "showland": true,
           "subunitcolor": "white"
          },
          "hoverlabel": {
           "align": "left"
          },
          "hovermode": "closest",
          "mapbox": {
           "style": "light"
          },
          "paper_bgcolor": "white",
          "plot_bgcolor": "#E5ECF6",
          "polar": {
           "angularaxis": {
            "gridcolor": "white",
            "linecolor": "white",
            "ticks": ""
           },
           "bgcolor": "#E5ECF6",
           "radialaxis": {
            "gridcolor": "white",
            "linecolor": "white",
            "ticks": ""
           }
          },
          "scene": {
           "xaxis": {
            "backgroundcolor": "#E5ECF6",
            "gridcolor": "white",
            "gridwidth": 2,
            "linecolor": "white",
            "showbackground": true,
            "ticks": "",
            "zerolinecolor": "white"
           },
           "yaxis": {
            "backgroundcolor": "#E5ECF6",
            "gridcolor": "white",
            "gridwidth": 2,
            "linecolor": "white",
            "showbackground": true,
            "ticks": "",
            "zerolinecolor": "white"
           },
           "zaxis": {
            "backgroundcolor": "#E5ECF6",
            "gridcolor": "white",
            "gridwidth": 2,
            "linecolor": "white",
            "showbackground": true,
            "ticks": "",
            "zerolinecolor": "white"
           }
          },
          "shapedefaults": {
           "line": {
            "color": "#2a3f5f"
           }
          },
          "ternary": {
           "aaxis": {
            "gridcolor": "white",
            "linecolor": "white",
            "ticks": ""
           },
           "baxis": {
            "gridcolor": "white",
            "linecolor": "white",
            "ticks": ""
           },
           "bgcolor": "#E5ECF6",
           "caxis": {
            "gridcolor": "white",
            "linecolor": "white",
            "ticks": ""
           }
          },
          "title": {
           "x": 0.05
          },
          "xaxis": {
           "automargin": true,
           "gridcolor": "white",
           "linecolor": "white",
           "ticks": "",
           "zerolinecolor": "white",
           "zerolinewidth": 2
          },
          "yaxis": {
           "automargin": true,
           "gridcolor": "white",
           "linecolor": "white",
           "ticks": "",
           "zerolinecolor": "white",
           "zerolinewidth": 2
          }
         }
        },
        "xaxis": {
         "autorange": true,
         "linecolor": "black",
         "linewidth": 2,
         "range": [
          0,
          99
         ],
         "showline": true,
         "ticklen": 5,
         "ticks": "inside",
         "type": "linear",
         "zeroline": true
        },
        "yaxis": {
         "autorange": true,
         "gridcolor": "lightgrey",
         "gridwidth": 1,
         "linecolor": "black",
         "linewidth": 2,
         "range": [
          0.23485336738073215,
          1.9904402536105588
         ],
         "showgrid": true,
         "showline": true,
         "ticklen": 5,
         "ticks": "inside",
         "title": {
          "text": "Time (milliseconds)"
         },
         "type": "log",
         "zeroline": false,
         "zerolinecolor": "rgba(0, 0, 0, 0)"
        }
       }
      },
      "image/png": "[encoded data removed]",
      "text/html": [
       "<div>\n",
       "        \n",
       "        \n",
       "            <div id=\"cfb87752-076b-4398-8b67-1007c807e043\" class=\"plotly-graph-div\" style=\"height:525px; width:100%;\"></div>\n",
       "            <script type=\"text/javascript\">\n",
       "                require([\"plotly\"], function(Plotly) {\n",
       "                    window.PLOTLYENV=window.PLOTLYENV || {};\n",
       "                    \n",
       "                if (document.getElementById(\"cfb87752-076b-4398-8b67-1007c807e043\")) {\n",
       "                    Plotly.newPlot(\n",
       "                        'cfb87752-076b-4398-8b67-1007c807e043',\n",
       "                        [{\"line\": {\"dash\": \"solid\", \"width\": 6}, \"marker\": {\"color\": \"purple\"}, \"mode\": \"lines\", \"name\": \"PKDQ(.2)\", \"type\": \"scatter\", \"x\": [0, 1, 2, 3, 4, 5, 6, 7, 8, 9, 10, 11, 12, 13, 14, 15, 16, 17, 18, 19, 20, 21, 22, 23, 24, 25, 26, 27, 28, 29, 30, 31, 32, 33, 34, 35, 36, 37, 38, 39, 40, 41, 42, 43, 44, 45, 46, 47, 48, 49, 50, 51, 52, 53, 54, 55, 56, 57, 58, 59, 60, 61, 62, 63, 64, 65, 66, 67, 68, 69, 70, 71, 72, 73, 74, 75, 76, 77, 78, 79, 80, 81, 82, 83, 84, 85, 86, 87, 88, 89, 90, 91, 92, 93, 94, 95, 96, 97, 98, 99], \"y\": [6.481, 14.582, 16.423000000000002, 5.85, 5.819999999999999, 5.894, 5.880999999999999, 5.9030000000000005, 5.9750000000000005, 5.902, 5.9030000000000005, 32.150999999999996, 2.183, 2.6060000000000003, 2.2369999999999997, 2.142, 2.15, 2.248, 2.665, 2.307, 2.519, 2.2059999999999995, 2.218, 2.17, 2.144, 2.254, 2.225, 2.3890000000000002, 2.6879999999999997, 2.19, 2.5820000000000003, 2.6159999999999997, 2.234, 2.227, 2.382, 2.423, 2.197, 2.4799999999999995, 2.7960000000000003, 2.387, 2.2500000000000004, 2.197, 2.132, 2.551, 2.2470000000000003, 2.2670000000000003, 2.207, 2.226, 2.1470000000000002, 2.3409999999999997, 2.238, 2.4949999999999997, 2.2369999999999997, 2.261, 3.057, 2.4920000000000004, 2.223, 2.679, 2.68, 2.4949999999999997, 2.581, 2.2689999999999997, 2.6, 2.2079999999999997, 2.2659999999999996, 2.254, 2.322, 2.185, 2.57, 2.5860000000000003, 2.7439999999999998, 2.254, 2.4850000000000003, 14.826999999999998, 3.783, 4.069, 3.154, 3.1879999999999997, 3.541, 3.246, 3.576, 2.598, 3.408, 3.8880000000000003, 3.215, 2.59, 3.114, 3.621, 2.72, 3.503, 4.303999999999999, 4.0680000000000005, 2.9829999999999997, 4.021, 3.4270000000000005, 3.24, 3.6200000000000006, 3.189, 2.7520000000000002, 3.192]}, {\"line\": {\"dash\": \"dot\", \"width\": 6}, \"marker\": {\"color\": \"purple\"}, \"mode\": \"lines\", \"name\": \"PKDT(.2)\", \"type\": \"scatter\", \"x\": [0, 1, 2, 3, 4, 5, 6, 7, 8, 9, 10, 11, 12, 13, 14, 15, 16, 17, 18, 19, 20, 21, 22, 23, 24, 25, 26, 27, 28, 29, 30, 31, 32, 33, 34, 35, 36, 37, 38, 39, 40, 41, 42, 43, 44, 45, 46, 47, 48, 49, 50, 51, 52, 53, 54, 55, 56, 57, 58, 59, 60, 61, 62, 63, 64, 65, 66, 67, 68, 69, 70, 71, 72, 73, 74, 75, 76, 77, 78, 79, 80, 81, 82, 83, 84, 85, 86, 87, 88, 89, 90, 91, 92, 93, 94, 95, 96, 97, 98, 99], \"y\": [8.839, 79.92099999999999, 2.9229999999999996, 2.8480000000000003, 3.0460000000000003, 2.255, 2.599, 2.72, 3.194, 2.307, 2.1820000000000004, 2.219, 2.2030000000000003, 2.653, 2.4240000000000004, 2.3199999999999994, 2.202, 2.4299999999999997, 2.497, 2.1750000000000003, 2.732, 2.693, 2.3430000000000004, 2.181, 2.2009999999999996, 2.242, 2.155, 2.2390000000000003, 2.555, 2.176, 2.672, 2.553, 2.201, 2.217, 2.3040000000000003, 2.17, 2.1249999999999996, 2.6310000000000002, 2.265, 2.193, 2.121, 2.179, 2.189, 2.611, 2.2140000000000004, 2.2230000000000003, 2.2619999999999996, 2.186, 2.2369999999999997, 2.233, 2.1569999999999996, 2.487, 2.259, 2.175, 2.936, 2.499, 2.328, 2.5, 2.633, 2.544, 2.5340000000000003, 2.164, 2.509, 2.219, 2.1879999999999997, 2.25, 2.1069999999999998, 2.114, 2.146, 2.559, 2.548, 2.2649999999999997, 2.307, 2.413, 2.1020000000000003, 2.199, 2.158, 2.4819999999999998, 2.33, 2.5370000000000004, 2.137, 2.347, 2.372, 2.2079999999999997, 2.2030000000000003, 2.149, 2.274, 2.153, 2.167, 2.48, 2.5159999999999996, 2.289, 2.2180000000000004, 2.16, 2.141, 2.1290000000000004, 2.1479999999999997, 2.222, 2.177, 2.205]}],\n",
       "                        {\"font\": {\"size\": 42}, \"legend\": {\"font\": {\"color\": \"black\", \"size\": 30}, \"orientation\": \"h\", \"x\": 0.25, \"y\": 1.2}, \"plot_bgcolor\": \"rgba(0,0,0,0)\", \"showlegend\": true, \"template\": {\"data\": {\"bar\": [{\"error_x\": {\"color\": \"#2a3f5f\"}, \"error_y\": {\"color\": \"#2a3f5f\"}, \"marker\": {\"line\": {\"color\": \"#E5ECF6\", \"width\": 0.5}}, \"type\": \"bar\"}], \"barpolar\": [{\"marker\": {\"line\": {\"color\": \"#E5ECF6\", \"width\": 0.5}}, \"type\": \"barpolar\"}], \"carpet\": [{\"aaxis\": {\"endlinecolor\": \"#2a3f5f\", \"gridcolor\": \"white\", \"linecolor\": \"white\", \"minorgridcolor\": \"white\", \"startlinecolor\": \"#2a3f5f\"}, \"baxis\": {\"endlinecolor\": \"#2a3f5f\", \"gridcolor\": \"white\", \"linecolor\": \"white\", \"minorgridcolor\": \"white\", \"startlinecolor\": \"#2a3f5f\"}, \"type\": \"carpet\"}], \"choropleth\": [{\"colorbar\": {\"outlinewidth\": 0, \"ticks\": \"\"}, \"type\": \"choropleth\"}], \"contour\": [{\"colorbar\": {\"outlinewidth\": 0, \"ticks\": \"\"}, \"colorscale\": [[0.0, \"#0d0887\"], [0.1111111111111111, \"#46039f\"], [0.2222222222222222, \"#7201a8\"], [0.3333333333333333, \"#9c179e\"], [0.4444444444444444, \"#bd3786\"], [0.5555555555555556, \"#d8576b\"], [0.6666666666666666, \"#ed7953\"], [0.7777777777777778, \"#fb9f3a\"], [0.8888888888888888, \"#fdca26\"], [1.0, \"#f0f921\"]], \"type\": \"contour\"}], \"contourcarpet\": [{\"colorbar\": {\"outlinewidth\": 0, \"ticks\": \"\"}, \"type\": \"contourcarpet\"}], \"heatmap\": [{\"colorbar\": {\"outlinewidth\": 0, \"ticks\": \"\"}, \"colorscale\": [[0.0, \"#0d0887\"], [0.1111111111111111, \"#46039f\"], [0.2222222222222222, \"#7201a8\"], [0.3333333333333333, \"#9c179e\"], [0.4444444444444444, \"#bd3786\"], [0.5555555555555556, \"#d8576b\"], [0.6666666666666666, \"#ed7953\"], [0.7777777777777778, \"#fb9f3a\"], [0.8888888888888888, \"#fdca26\"], [1.0, \"#f0f921\"]], \"type\": \"heatmap\"}], \"heatmapgl\": [{\"colorbar\": {\"outlinewidth\": 0, \"ticks\": \"\"}, \"colorscale\": [[0.0, \"#0d0887\"], [0.1111111111111111, \"#46039f\"], [0.2222222222222222, \"#7201a8\"], [0.3333333333333333, \"#9c179e\"], [0.4444444444444444, \"#bd3786\"], [0.5555555555555556, \"#d8576b\"], [0.6666666666666666, \"#ed7953\"], [0.7777777777777778, \"#fb9f3a\"], [0.8888888888888888, \"#fdca26\"], [1.0, \"#f0f921\"]], \"type\": \"heatmapgl\"}], \"histogram\": [{\"marker\": {\"colorbar\": {\"outlinewidth\": 0, \"ticks\": \"\"}}, \"type\": \"histogram\"}], \"histogram2d\": [{\"colorbar\": {\"outlinewidth\": 0, \"ticks\": \"\"}, \"colorscale\": [[0.0, \"#0d0887\"], [0.1111111111111111, \"#46039f\"], [0.2222222222222222, \"#7201a8\"], [0.3333333333333333, \"#9c179e\"], [0.4444444444444444, \"#bd3786\"], [0.5555555555555556, \"#d8576b\"], [0.6666666666666666, \"#ed7953\"], [0.7777777777777778, \"#fb9f3a\"], [0.8888888888888888, \"#fdca26\"], [1.0, \"#f0f921\"]], \"type\": \"histogram2d\"}], \"histogram2dcontour\": [{\"colorbar\": {\"outlinewidth\": 0, \"ticks\": \"\"}, \"colorscale\": [[0.0, \"#0d0887\"], [0.1111111111111111, \"#46039f\"], [0.2222222222222222, \"#7201a8\"], [0.3333333333333333, \"#9c179e\"], [0.4444444444444444, \"#bd3786\"], [0.5555555555555556, \"#d8576b\"], [0.6666666666666666, \"#ed7953\"], [0.7777777777777778, \"#fb9f3a\"], [0.8888888888888888, \"#fdca26\"], [1.0, \"#f0f921\"]], \"type\": \"histogram2dcontour\"}], \"mesh3d\": [{\"colorbar\": {\"outlinewidth\": 0, \"ticks\": \"\"}, \"type\": \"mesh3d\"}], \"parcoords\": [{\"line\": {\"colorbar\": {\"outlinewidth\": 0, \"ticks\": \"\"}}, \"type\": \"parcoords\"}], \"scatter\": [{\"marker\": {\"colorbar\": {\"outlinewidth\": 0, \"ticks\": \"\"}}, \"type\": \"scatter\"}], \"scatter3d\": [{\"line\": {\"colorbar\": {\"outlinewidth\": 0, \"ticks\": \"\"}}, \"marker\": {\"colorbar\": {\"outlinewidth\": 0, \"ticks\": \"\"}}, \"type\": \"scatter3d\"}], \"scattercarpet\": [{\"marker\": {\"colorbar\": {\"outlinewidth\": 0, \"ticks\": \"\"}}, \"type\": \"scattercarpet\"}], \"scattergeo\": [{\"marker\": {\"colorbar\": {\"outlinewidth\": 0, \"ticks\": \"\"}}, \"type\": \"scattergeo\"}], \"scattergl\": [{\"marker\": {\"colorbar\": {\"outlinewidth\": 0, \"ticks\": \"\"}}, \"type\": \"scattergl\"}], \"scattermapbox\": [{\"marker\": {\"colorbar\": {\"outlinewidth\": 0, \"ticks\": \"\"}}, \"type\": \"scattermapbox\"}], \"scatterpolar\": [{\"marker\": {\"colorbar\": {\"outlinewidth\": 0, \"ticks\": \"\"}}, \"type\": \"scatterpolar\"}], \"scatterpolargl\": [{\"marker\": {\"colorbar\": {\"outlinewidth\": 0, \"ticks\": \"\"}}, \"type\": \"scatterpolargl\"}], \"scatterternary\": [{\"marker\": {\"colorbar\": {\"outlinewidth\": 0, \"ticks\": \"\"}}, \"type\": \"scatterternary\"}], \"surface\": [{\"colorbar\": {\"outlinewidth\": 0, \"ticks\": \"\"}, \"colorscale\": [[0.0, \"#0d0887\"], [0.1111111111111111, \"#46039f\"], [0.2222222222222222, \"#7201a8\"], [0.3333333333333333, \"#9c179e\"], [0.4444444444444444, \"#bd3786\"], [0.5555555555555556, \"#d8576b\"], [0.6666666666666666, \"#ed7953\"], [0.7777777777777778, \"#fb9f3a\"], [0.8888888888888888, \"#fdca26\"], [1.0, \"#f0f921\"]], \"type\": \"surface\"}], \"table\": [{\"cells\": {\"fill\": {\"color\": \"#EBF0F8\"}, \"line\": {\"color\": \"white\"}}, \"header\": {\"fill\": {\"color\": \"#C8D4E3\"}, \"line\": {\"color\": \"white\"}}, \"type\": \"table\"}]}, \"layout\": {\"annotationdefaults\": {\"arrowcolor\": \"#2a3f5f\", \"arrowhead\": 0, \"arrowwidth\": 1}, \"colorscale\": {\"diverging\": [[0, \"#8e0152\"], [0.1, \"#c51b7d\"], [0.2, \"#de77ae\"], [0.3, \"#f1b6da\"], [0.4, \"#fde0ef\"], [0.5, \"#f7f7f7\"], [0.6, \"#e6f5d0\"], [0.7, \"#b8e186\"], [0.8, \"#7fbc41\"], [0.9, \"#4d9221\"], [1, \"#276419\"]], \"sequential\": [[0.0, \"#0d0887\"], [0.1111111111111111, \"#46039f\"], [0.2222222222222222, \"#7201a8\"], [0.3333333333333333, \"#9c179e\"], [0.4444444444444444, \"#bd3786\"], [0.5555555555555556, \"#d8576b\"], [0.6666666666666666, \"#ed7953\"], [0.7777777777777778, \"#fb9f3a\"], [0.8888888888888888, \"#fdca26\"], [1.0, \"#f0f921\"]], \"sequentialminus\": [[0.0, \"#0d0887\"], [0.1111111111111111, \"#46039f\"], [0.2222222222222222, \"#7201a8\"], [0.3333333333333333, \"#9c179e\"], [0.4444444444444444, \"#bd3786\"], [0.5555555555555556, \"#d8576b\"], [0.6666666666666666, \"#ed7953\"], [0.7777777777777778, \"#fb9f3a\"], [0.8888888888888888, \"#fdca26\"], [1.0, \"#f0f921\"]]}, \"colorway\": [\"#636efa\", \"#EF553B\", \"#00cc96\", \"#ab63fa\", \"#FFA15A\", \"#19d3f3\", \"#FF6692\", \"#B6E880\", \"#FF97FF\", \"#FECB52\"], \"font\": {\"color\": \"#2a3f5f\"}, \"geo\": {\"bgcolor\": \"white\", \"lakecolor\": \"white\", \"landcolor\": \"#E5ECF6\", \"showlakes\": true, \"showland\": true, \"subunitcolor\": \"white\"}, \"hoverlabel\": {\"align\": \"left\"}, \"hovermode\": \"closest\", \"mapbox\": {\"style\": \"light\"}, \"paper_bgcolor\": \"white\", \"plot_bgcolor\": \"#E5ECF6\", \"polar\": {\"angularaxis\": {\"gridcolor\": \"white\", \"linecolor\": \"white\", \"ticks\": \"\"}, \"bgcolor\": \"#E5ECF6\", \"radialaxis\": {\"gridcolor\": \"white\", \"linecolor\": \"white\", \"ticks\": \"\"}}, \"scene\": {\"xaxis\": {\"backgroundcolor\": \"#E5ECF6\", \"gridcolor\": \"white\", \"gridwidth\": 2, \"linecolor\": \"white\", \"showbackground\": true, \"ticks\": \"\", \"zerolinecolor\": \"white\"}, \"yaxis\": {\"backgroundcolor\": \"#E5ECF6\", \"gridcolor\": \"white\", \"gridwidth\": 2, \"linecolor\": \"white\", \"showbackground\": true, \"ticks\": \"\", \"zerolinecolor\": \"white\"}, \"zaxis\": {\"backgroundcolor\": \"#E5ECF6\", \"gridcolor\": \"white\", \"gridwidth\": 2, \"linecolor\": \"white\", \"showbackground\": true, \"ticks\": \"\", \"zerolinecolor\": \"white\"}}, \"shapedefaults\": {\"line\": {\"color\": \"#2a3f5f\"}}, \"ternary\": {\"aaxis\": {\"gridcolor\": \"white\", \"linecolor\": \"white\", \"ticks\": \"\"}, \"baxis\": {\"gridcolor\": \"white\", \"linecolor\": \"white\", \"ticks\": \"\"}, \"bgcolor\": \"#E5ECF6\", \"caxis\": {\"gridcolor\": \"white\", \"linecolor\": \"white\", \"ticks\": \"\"}}, \"title\": {\"x\": 0.05}, \"xaxis\": {\"automargin\": true, \"gridcolor\": \"white\", \"linecolor\": \"white\", \"ticks\": \"\", \"zerolinecolor\": \"white\", \"zerolinewidth\": 2}, \"yaxis\": {\"automargin\": true, \"gridcolor\": \"white\", \"linecolor\": \"white\", \"ticks\": \"\", \"zerolinecolor\": \"white\", \"zerolinewidth\": 2}}}, \"xaxis\": {\"linecolor\": \"black\", \"linewidth\": 2, \"showline\": true, \"ticklen\": 5, \"ticks\": \"inside\", \"zeroline\": true}, \"yaxis\": {\"gridcolor\": \"lightgrey\", \"gridwidth\": 1, \"linecolor\": \"black\", \"linewidth\": 2, \"showgrid\": true, \"showline\": true, \"ticklen\": 5, \"ticks\": \"inside\", \"title\": {\"text\": \"Time (milliseconds)\"}, \"type\": \"log\", \"zeroline\": false, \"zerolinecolor\": \"rgba(0, 0, 0, 0)\"}},\n",
       "                        {\"responsive\": true}\n",
       "                    ).then(function(){\n",
       "                            \n",
       "var gd = document.getElementById('cfb87752-076b-4398-8b67-1007c807e043');\n",
       "var x = new MutationObserver(function (mutations, observer) {{\n",
       "        var display = window.getComputedStyle(gd).display;\n",
       "        if (!display || display === 'none') {{\n",
       "            console.log([gd, 'removed!']);\n",
       "            Plotly.purge(gd);\n",
       "            observer.disconnect();\n",
       "        }}\n",
       "}});\n",
       "\n",
       "// Listen for the removal of the full notebook cells\n",
       "var notebookContainer = gd.closest('#notebook-container');\n",
       "if (notebookContainer) {{\n",
       "    x.observe(notebookContainer, {childList: true});\n",
       "}}\n",
       "\n",
       "// Listen for the clearing of the current output cell\n",
       "var outputEl = gd.closest('.output');\n",
       "if (outputEl) {{\n",
       "    x.observe(outputEl, {childList: true});\n",
       "}}\n",
       "\n",
       "                        })\n",
       "                };\n",
       "                });\n",
       "            </script>\n",
       "        </div>"
      ]
     },
     "metadata": {},
     "output_type": "display_data"
    }
   ],
   "source": [
    "per_query('Uniform8', ['ProgressiveIndexQueryLimit', 'ProgressiveIndexTimeLimit'], 100)"
   ]
  },
  {
   "cell_type": "code",
   "execution_count": null,
   "metadata": {},
   "outputs": [],
   "source": []
  }
 ],
 "metadata": {
  "kernelspec": {
   "display_name": "Python 3",
   "language": "python",
   "name": "python3"
  },
  "language_info": {
   "codemirror_mode": {
    "name": "ipython",
    "version": 3
   },
   "file_extension": ".py",
   "mimetype": "text/x-python",
   "name": "python",
   "nbconvert_exporter": "python",
   "pygments_lexer": "ipython3",
   "version": "3.7.1"
  }
 },
 "nbformat": 4,
 "nbformat_minor": 4
}
