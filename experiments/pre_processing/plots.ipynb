{
 "cells": [
  {
   "cell_type": "code",
   "execution_count": 130,
   "metadata": {},
   "outputs": [],
   "source": [
    "import pandas as pd\n",
    "import matplotlib.pyplot as plt\n",
    "import plotly.graph_objects as go\n",
    "import numpy as np\n",
    "import json\n",
    "pd.set_option('display.max_rows', 1000)\n",
    "%matplotlib inline"
   ]
  },
  {
   "cell_type": "code",
   "execution_count": 131,
   "metadata": {},
   "outputs": [],
   "source": [
    "# Read config\n",
    "with open('config.json') as json_file:\n",
    "    f = json.load(json_file)\n",
    "    NUMBER_OF_QUERIES = f['number_of_queries']\n",
    "    REPETITIONS = f['repetitions']\n",
    "    ROWS = f['rows']\n",
    "    SELECTIVITIES = [f['selectivity']]\n",
    "    COLS = f['cols']\n",
    "    EXPS_DEFAULTS = f['experiments']\n",
    "    PARTITION_SIZE = f['partition_size']\n",
    "    PROGRESSIVE_INDEX_DELTAS = f['deltas']\n",
    "\n",
    "# Algorithms and Experiments defitions\n",
    "algorithms = {\n",
    "    'FullScan': {\n",
    "        'name': 'full_scan_cl',\n",
    "        'color': 'black',\n",
    "        'dash': 'dot',\n",
    "        'show_name': 'FS',\n",
    "        'type': 'full_index',\n",
    "        'partition_size': '0',\n",
    "        'delta':'0.0',\n",
    "    },\n",
    "    'ProgressiveIndexTimeLimit': {\n",
    "        'name': 'progressive_index_time_limit',\n",
    "        'color': 'purple',\n",
    "        'dash': 'dot',\n",
    "        'show_name': 'GPFP(0.2)',\n",
    "        'type': 'adaptive',\n",
    "        'delta': PROGRESSIVE_INDEX_DELTAS[0],\n",
    "        'partition_size': PARTITION_SIZE\n",
    "    },\n",
    "    'ProgressiveIndexQueryLimit': {\n",
    "        'name': 'progressive_index_query_limit',\n",
    "        'color': 'purple',\n",
    "        'dash': 'solid',\n",
    "        'show_name': 'GPFQ(10)',\n",
    "        'type': 'adaptive',\n",
    "        'delta': PROGRESSIVE_INDEX_DELTAS[0],\n",
    "        'partition_size': PARTITION_SIZE\n",
    "    },\n",
    "    'ProgressiveIndexBelow': {\n",
    "        'name': 'progressive_index_below',\n",
    "        'color': 'black',\n",
    "        'dash': 'solid',\n",
    "        'show_name': 'PKD(0.2)',\n",
    "        'type': 'adaptive',\n",
    "        'delta': PROGRESSIVE_INDEX_DELTAS[0],\n",
    "        'partition_size': PARTITION_SIZE\n",
    "    },\n",
    "    'CrackingKDTree': {\n",
    "        'name': 'cracking_kd_tree',\n",
    "        'color': 'green',\n",
    "        'dash': 'solid',\n",
    "        'show_name': 'AKD',\n",
    "        'type': 'adaptive',\n",
    "        'delta': '0.0',\n",
    "        'partition_size': PARTITION_SIZE\n",
    "    }\n",
    "}\n",
    "\n",
    "for key, value in algorithms.items():\n",
    "    name = value['name']\n",
    "    delta = value['delta']\n",
    "    partition_size = value['partition_size']\n",
    "    algorithms[key]['alg_id'] = f\"{name}-{delta}-{partition_size}\"\n",
    "    \n",
    "# Synthetic Experiments\n",
    "experiments = {}\n",
    "\n",
    "for i in [2, 4, 8, 16]:\n",
    "    temp = {\n",
    "        f'Uniform{i}': {\n",
    "            \"name\": f\"Unif({i})\",\n",
    "            'name-in-file': 'uniform',\n",
    "            'n_rows': ROWS,\n",
    "            'n_queries': NUMBER_OF_QUERIES,\n",
    "            'n_cols': f'{i}',\n",
    "            'sel': '0.01',\n",
    "        }\n",
    "    }\n",
    "    experiments = {**experiments, **temp}\n",
    "    \n",
    "for key, value in experiments.items():\n",
    "    name = value['name-in-file']\n",
    "    rows = value['n_rows']\n",
    "    n_queries = value['n_queries']\n",
    "    cols = value['n_cols']\n",
    "    sel = value['sel']\n",
    "    experiments[key]['exp_id'] = f\"{name}-{rows}-{n_queries}-{cols}-{sel}\""
   ]
  },
  {
   "cell_type": "code",
   "execution_count": 132,
   "metadata": {},
   "outputs": [],
   "source": [
    "# Input/Output\n",
    "def read(alg, exp):\n",
    "    if exp.startswith('Shifting'):\n",
    "        n_queries_per_run = 10\n",
    "        uni = read(alg, 'Uniform' + experiments[exp]['n_cols'])\n",
    "        n_runs = int(len(uni)/n_queries_per_run) - 1\n",
    "        df_final = uni.head(n_queries_per_run)\n",
    "        for _ in range(int(n_runs)):\n",
    "            temp = uni.head(n_queries_per_run).copy()\n",
    "            df_final = df_final.append(temp, ignore_index=True)\n",
    "    else:\n",
    "        df = pd.read_csv(f\"results/{algorithms[alg]['alg_id']}-{experiments[exp]['exp_id']}.csv\")\n",
    "        repetitions = df['repetition'].max() + 1\n",
    "        step = int(len(df.index)/repetitions)\n",
    "        df_final = df[:step].copy().reset_index()\n",
    "        for rep in range(1, repetitions):\n",
    "            df_final += df[step * (rep) : step * (rep + 1)].copy().reset_index()\n",
    "\n",
    "        df_final = df_final/repetitions\n",
    "    \n",
    "    if 'index_search_time' not in df_final:\n",
    "        df_final['index_search_time'] = 0.0\n",
    "    if 'tuples_scanned' not in df_final:\n",
    "        df_final['tuples_scanned'] = 0.0\n",
    "    if 'number_of_nodes' not in df_final:\n",
    "        df_final['number_of_nodes'] = 0.0\n",
    "    df_final['query_time'] = df_final['initialization_time'] + df_final['index_search_time'] + df_final['scan_time'] + df_final['adaptation_time']\n",
    "    df_final['query_time_cumsum'] = df_final['query_time'].cumsum()\n",
    "    return df_final\n",
    "\n",
    "                     \n",
    "def read_multiple(algs, exp):\n",
    "    ''' Reads multiple algorithms in an experiment, return three arrays: dfs, colors, names\n",
    "    '''\n",
    "    dfs = []\n",
    "    colors = []\n",
    "    names = []\n",
    "    dashes = []\n",
    "    for alg in algs:\n",
    "        dfs.append(read(alg, exp))\n",
    "        names.append(algorithms[alg]['show_name'])\n",
    "        colors.append(algorithms[alg]['color'])\n",
    "        dashes.append(algorithms[alg]['dash'])\n",
    "    \n",
    "    return dfs, colors, dashes, names,\n",
    "\n",
    "                     \n",
    "def save_figure(fig, fig_name):\n",
    "    fig.write_image(f\"figures/{fig_name}\", width=1024, height=768)\n",
    "                     \n",
    "def save_table(table, table_name):\n",
    "    with open(f\"tables/{table_name}\", 'w') as f:\n",
    "        f.write(table)"
   ]
  },
  {
   "cell_type": "code",
   "execution_count": 149,
   "metadata": {},
   "outputs": [],
   "source": [
    "# Figures\n",
    "\n",
    "def create_figure(data=[]):\n",
    "    fig = go.Figure(\n",
    "        data=data,\n",
    "        layout=go.Layout(\n",
    "#             width=1500,\n",
    "            plot_bgcolor='rgba(0,0,0,0)',\n",
    "            font=dict(\n",
    "                size=42\n",
    "            ),\n",
    "            yaxis=dict(\n",
    "                showline=True,\n",
    "                linewidth=2,\n",
    "                linecolor='black',\n",
    "                showgrid=True,\n",
    "                gridwidth=1,\n",
    "                gridcolor='lightgrey',\n",
    "                zeroline=False,\n",
    "                zerolinecolor='rgba(0, 0, 0, 0)',\n",
    "                ticks=\"inside\",\n",
    "                ticklen=5\n",
    "            ),\n",
    "            xaxis=dict(\n",
    "                showline=True,\n",
    "                linewidth=2,\n",
    "                linecolor='black',\n",
    "                ticks='inside',\n",
    "                zeroline=True,\n",
    "                ticklen=5\n",
    "            ),\n",
    "            legend=dict(\n",
    "                font=dict(\n",
    "                    size=30,\n",
    "                    color=\"black\"\n",
    "                )\n",
    "            )\n",
    "        )\n",
    "    )\n",
    "    return fig\n",
    "\n",
    "def per_query(exp, algs, limit=1000):\n",
    "    dfs, colors, dashes, names = read_multiple(algs, exp)\n",
    "    fig = create_figure()\n",
    "    \n",
    "    lines = []\n",
    "    \n",
    "    biggest = 0\n",
    "    \n",
    "    for i, df in enumerate(dfs):\n",
    "        alg = algs[i]\n",
    "        per_query_times = np.array(df['query_time'][:limit]) * 1000\n",
    "        if biggest < np.max(per_query_times):\n",
    "            biggest = np.max(per_query_times)\n",
    "        lines.append(\n",
    "            go.Scatter(\n",
    "                name=names[i],\n",
    "                x=list(range(len(per_query_times))),\n",
    "                y=per_query_times,\n",
    "                marker_color=colors[i],\n",
    "                mode='lines',\n",
    "                line=dict(width=6, dash=dashes[i])\n",
    "            )\n",
    "        )\n",
    "        \n",
    "    fig.add_traces(data=lines)\n",
    "    fig.update_layout(showlegend=True, yaxis_title='Time (milliseconds)')\n",
    "    fig.update_layout(legend_orientation=\"h\", legend=dict(x=.05, y=1.2))\n",
    "    fig.update_yaxes(type=\"log\", range=[0, 4], tickvals=[0, 1, 10, 100, 1000, 10000])\n",
    "    fig.update_xaxes(range=[0, 100], tickvals=[10, 20, 30, 40, 50, 60, 70, 80, 90, 100])\n",
    "    return fig"
   ]
  },
  {
   "cell_type": "code",
   "execution_count": 150,
   "metadata": {},
   "outputs": [
    {
     "data": {
      "application/vnd.plotly.v1+json": {
       "config": {
        "plotlyServerURL": "https://plot.ly"
       },
       "data": [
        {
         "line": {
          "dash": "dot",
          "width": 6
         },
         "marker": {
          "color": "black"
         },
         "mode": "lines",
         "name": "FS",
         "type": "scatter",
         "x": [
          0,
          1,
          2,
          3,
          4,
          5,
          6,
          7,
          8,
          9,
          10,
          11,
          12,
          13,
          14,
          15,
          16,
          17,
          18,
          19,
          20,
          21,
          22,
          23,
          24,
          25,
          26,
          27,
          28,
          29,
          30,
          31,
          32,
          33,
          34,
          35,
          36,
          37,
          38,
          39,
          40,
          41,
          42,
          43,
          44,
          45,
          46,
          47,
          48,
          49,
          50,
          51,
          52,
          53,
          54,
          55,
          56,
          57,
          58,
          59,
          60,
          61,
          62,
          63,
          64,
          65,
          66,
          67,
          68,
          69,
          70,
          71,
          72,
          73,
          74,
          75,
          76,
          77,
          78,
          79,
          80,
          81,
          82,
          83,
          84,
          85,
          86,
          87,
          88,
          89,
          90,
          91,
          92,
          93,
          94,
          95,
          96,
          97,
          98,
          99
         ],
         "y": [
          901.071,
          701.8100000000001,
          1012.594,
          872.0049999999999,
          825.203,
          988.3309999999999,
          1021.1299999999999,
          791.9920000000001,
          803.766,
          958.4399999999999,
          902.129,
          749.866,
          675.422,
          942.621,
          868.0459999999998,
          906.93,
          897.949,
          775.4810000000001,
          1019.0440000000001,
          799.4359999999999,
          928.1669999999999,
          889.3120000000001,
          856.0110000000001,
          831.687,
          911.665,
          866.459,
          948.5440000000001,
          877.394,
          759.964,
          808.764,
          749.576,
          781.9430000000001,
          723.3629999999999,
          790.4069999999999,
          874.568,
          781.115,
          941.3889999999999,
          809.641,
          708.653,
          1020.13,
          780.167,
          869.743,
          923.276,
          754.78,
          772.109,
          682.2729999999999,
          742.925,
          1025.591,
          911.165,
          828.1350000000001,
          969.652,
          785.3919999999999,
          985.7819999999999,
          741.466,
          926.2479999999999,
          738.542,
          837.716,
          806.635,
          826.462,
          999.608,
          840.8770000000001,
          846.393,
          865.211,
          837.211,
          819.5319999999999,
          768.241,
          675.373,
          755.9970000000001,
          847.8040000000001,
          731.411,
          1068.5629999999999,
          870.8389999999999,
          727.874,
          732.754,
          862.6940000000001,
          1018.2249999999999,
          864.5809999999999,
          921.1959999999999,
          718.5409999999999,
          668.1010000000001,
          781.6890000000001,
          894.8950000000001,
          778.4680000000001,
          759.0550000000001,
          872.656,
          932.9129999999999,
          772.3489999999999,
          874.6440000000001,
          779.092,
          851.1350000000001,
          963.787,
          1038.664,
          894.594,
          903.4770000000001,
          976.7860000000001,
          897.5709999999999,
          764.1510000000001,
          1060.604,
          853.024,
          989.591
         ]
        },
        {
         "line": {
          "dash": "solid",
          "width": 6
         },
         "marker": {
          "color": "purple"
         },
         "mode": "lines",
         "name": "GPFQ(10)",
         "type": "scatter",
         "x": [
          0,
          1,
          2,
          3,
          4,
          5,
          6,
          7,
          8,
          9,
          10,
          11,
          12,
          13,
          14,
          15,
          16,
          17,
          18,
          19,
          20,
          21,
          22,
          23,
          24,
          25,
          26,
          27,
          28,
          29,
          30,
          31,
          32,
          33,
          34,
          35,
          36,
          37,
          38,
          39,
          40,
          41,
          42,
          43,
          44,
          45,
          46,
          47,
          48,
          49,
          50,
          51,
          52,
          53,
          54,
          55,
          56,
          57,
          58,
          59,
          60,
          61,
          62,
          63,
          64,
          65,
          66,
          67,
          68,
          69,
          70,
          71,
          72,
          73,
          74,
          75,
          76,
          77,
          78,
          79,
          80,
          81,
          82,
          83,
          84,
          85,
          86,
          87,
          88,
          89,
          90,
          91,
          92,
          93,
          94,
          95,
          96,
          97,
          98,
          99
         ],
         "y": [
          1498.877,
          1442.829,
          1524.447,
          1351.594,
          1351.489,
          1378.933,
          1362.5690000000002,
          1376.6229999999998,
          1369.755,
          1372.419,
          1373.4419999999998,
          1355.4869999999999,
          459.128,
          455.31699999999995,
          460.62,
          459.592,
          453.21900000000005,
          454.221,
          459.40099999999995,
          453.94199999999995,
          456.76800000000003,
          457.99100000000004,
          452.452,
          430.85999999999996,
          67.265,
          89.73100000000001,
          81.38100000000001,
          82.89699999999999,
          107.90899999999999,
          86.74699999999999,
          78.753,
          102.836,
          99.98800000000001,
          70.281,
          99.123,
          68.56,
          84.90100000000001,
          72.99,
          72.88900000000001,
          67.184,
          84.96100000000001,
          79.432,
          131.487,
          99.281,
          74.154,
          66.111,
          89.843,
          73.489,
          72.34800000000001,
          68.66499999999999,
          78.431,
          134.694,
          72.48700000000001,
          84.369,
          94.227,
          104.771,
          74.816,
          119.695,
          107.257,
          83.73800000000001,
          92.456,
          56.44799999999999,
          67.133,
          76.538,
          65.051,
          67.34199999999998,
          106.294,
          87.443,
          76.29799999999999,
          72.824,
          89.80799999999999,
          125.54,
          112.61200000000001,
          76.311,
          66.466,
          82.791,
          102.012,
          121.521,
          136.967,
          94.248,
          83.61399999999999,
          105.137,
          78.982,
          75.256,
          89.274,
          66.47,
          59.839000000000006,
          64.161,
          74.525,
          99.559,
          109.20100000000001,
          107.12799999999999,
          110.216,
          65.64399999999999,
          135.04,
          108.94699999999999,
          92.36000000000001,
          103.073,
          66.66799999999999,
          112.77199999999999
         ]
        },
        {
         "line": {
          "dash": "dot",
          "width": 6
         },
         "marker": {
          "color": "purple"
         },
         "mode": "lines",
         "name": "GPFP(0.2)",
         "type": "scatter",
         "x": [
          0,
          1,
          2,
          3,
          4,
          5,
          6,
          7,
          8,
          9,
          10,
          11,
          12,
          13,
          14,
          15,
          16,
          17,
          18,
          19,
          20,
          21,
          22,
          23,
          24,
          25,
          26,
          27,
          28,
          29,
          30,
          31,
          32,
          33,
          34,
          35,
          36,
          37,
          38,
          39,
          40,
          41,
          42,
          43,
          44,
          45,
          46,
          47,
          48,
          49,
          50,
          51,
          52,
          53,
          54,
          55,
          56,
          57,
          58,
          59,
          60,
          61,
          62,
          63,
          64,
          65,
          66,
          67,
          68,
          69,
          70,
          71,
          72,
          73,
          74,
          75,
          76,
          77,
          78,
          79,
          80,
          81,
          82,
          83,
          84,
          85,
          86,
          87,
          88,
          89,
          90,
          91,
          92,
          93,
          94,
          95,
          96,
          97,
          98,
          99
         ],
         "y": [
          1362.5500000000002,
          1311.8029999999999,
          1277.979,
          1254.7480000000003,
          1254.89,
          1248.74,
          1255.15,
          1241.362,
          1236.204,
          1243.17,
          1240.2289999999998,
          1250.415,
          1243.29,
          1244.1740000000002,
          451.55,
          453.29900000000004,
          451.226,
          451.40400000000005,
          459.804,
          451.983,
          458.221,
          458.846,
          452.28100000000006,
          457.534,
          453.697,
          454.492,
          474.649,
          462.15000000000003,
          248.85199999999998,
          87.30700000000002,
          79.68400000000001,
          104.63100000000001,
          99.263,
          70.563,
          99.992,
          68.91299999999998,
          85.813,
          99.04700000000001,
          72.707,
          67.89500000000001,
          85.152,
          79.751,
          118.42599999999999,
          101.16,
          73.898,
          65.47200000000001,
          89.769,
          73.98700000000001,
          71.999,
          67.77999999999999,
          79.19200000000001,
          133.39399999999998,
          71.81400000000001,
          84.80299999999998,
          94.934,
          104.14200000000001,
          74.686,
          133.921,
          80.93000000000002,
          84.82799999999999,
          92.13099999999999,
          55.796,
          66.57300000000001,
          76.39,
          66.64699999999999,
          66.558,
          107.98899999999999,
          87.963,
          76.53800000000001,
          72.025,
          90.879,
          123.40699999999998,
          112.838,
          76.578,
          66.75699999999999,
          108.42699999999999,
          101.721,
          122.63499999999999,
          138.33100000000002,
          79.771,
          82.679,
          105.853,
          79.395,
          75.642,
          89.76,
          67.543,
          61.462,
          63.82900000000001,
          74.341,
          99.85900000000001,
          109.36799999999998,
          107.93500000000002,
          110.314,
          66.249,
          151.556,
          83.09700000000001,
          93.65599999999999,
          102.85,
          68.287,
          112.13600000000001
         ]
        },
        {
         "line": {
          "dash": "solid",
          "width": 6
         },
         "marker": {
          "color": "black"
         },
         "mode": "lines",
         "name": "PKD(0.2)",
         "type": "scatter",
         "x": [
          0,
          1,
          2,
          3,
          4,
          5,
          6,
          7,
          8,
          9,
          10,
          11,
          12,
          13,
          14,
          15,
          16,
          17,
          18,
          19,
          20,
          21,
          22,
          23,
          24,
          25,
          26,
          27,
          28,
          29,
          30,
          31,
          32,
          33,
          34,
          35,
          36,
          37,
          38,
          39,
          40,
          41,
          42,
          43,
          44,
          45,
          46,
          47,
          48,
          49,
          50,
          51,
          52,
          53,
          54,
          55,
          56,
          57,
          58,
          59,
          60,
          61,
          62,
          63,
          64,
          65,
          66,
          67,
          68,
          69,
          70,
          71,
          72,
          73,
          74,
          75,
          76,
          77,
          78,
          79,
          80,
          81,
          82,
          83,
          84,
          85,
          86,
          87,
          88,
          89,
          90,
          91,
          92,
          93,
          94,
          95,
          96,
          97,
          98,
          99
         ],
         "y": [
          1368.7690000000002,
          1175.827,
          1372.357,
          1348.6609999999998,
          1355.423,
          1111.9540000000002,
          1032.861,
          900.7019999999999,
          1019.5319999999999,
          939.105,
          1039.85,
          928.9449999999999,
          838.0050000000001,
          891.184,
          861.1650000000001,
          865.8450000000001,
          914.031,
          731.6279999999999,
          805.0310000000001,
          837.5030000000002,
          895.2549999999999,
          792.769,
          856.2839999999999,
          819.028,
          819.9139999999999,
          843.451,
          836.246,
          649.155,
          669.934,
          605.2230000000001,
          613.0060000000001,
          674.376,
          572.0840000000001,
          546.689,
          548.347,
          468.47799999999995,
          528.842,
          433.65600000000006,
          407.43999999999994,
          434.562,
          428.191,
          382.739,
          448.53800000000007,
          370.984,
          338.472,
          310.576,
          326.04699999999997,
          340.52099999999996,
          324.11400000000003,
          304.485,
          304.61199999999997,
          341.159,
          282.92,
          287.159,
          334.41700000000003,
          104.513,
          74.89800000000001,
          118.94200000000001,
          79.493,
          84.647,
          92.322,
          55.508,
          67.321,
          75.914,
          67.277,
          67.467,
          107.546,
          85.15899999999999,
          74.879,
          72.58999999999999,
          90.882,
          123.47300000000001,
          125.196,
          76.33899999999998,
          66.28500000000001,
          83.139,
          102.18199999999999,
          121.106,
          137.456,
          79.387,
          83.415,
          106.93,
          78.391,
          74.68100000000001,
          88.83700000000002,
          66.78,
          61.64,
          66.958,
          74.092,
          125.862,
          110.357,
          106.72599999999998,
          109.83900000000001,
          65.10199999999999,
          135.38799999999998,
          82.857,
          93.75800000000001,
          103.26599999999999,
          67.81300000000002,
          111.48700000000001
         ]
        },
        {
         "line": {
          "dash": "solid",
          "width": 6
         },
         "marker": {
          "color": "green"
         },
         "mode": "lines",
         "name": "AKD",
         "type": "scatter",
         "x": [
          0,
          1,
          2,
          3,
          4,
          5,
          6,
          7,
          8,
          9,
          10,
          11,
          12,
          13,
          14,
          15,
          16,
          17,
          18,
          19,
          20,
          21,
          22,
          23,
          24,
          25,
          26,
          27,
          28,
          29,
          30,
          31,
          32,
          33,
          34,
          35,
          36,
          37,
          38,
          39,
          40,
          41,
          42,
          43,
          44,
          45,
          46,
          47,
          48,
          49,
          50,
          51,
          52,
          53,
          54,
          55,
          56,
          57,
          58,
          59,
          60,
          61,
          62,
          63,
          64,
          65,
          66,
          67,
          68,
          69,
          70,
          71,
          72,
          73,
          74,
          75,
          76,
          77,
          78,
          79,
          80,
          81,
          82,
          83,
          84,
          85,
          86,
          87,
          88,
          89,
          90,
          91,
          92,
          93,
          94,
          95,
          96,
          97,
          98,
          99
         ],
         "y": [
          7224.657999999999,
          1713.8329999999999,
          379.40999999999997,
          308.819,
          209.684,
          171.364,
          172.163,
          212.371,
          425.99299999999994,
          133.265,
          185.527,
          247.41200000000003,
          281.14799999999997,
          215.461,
          150.961,
          128.177,
          190.68699999999998,
          162.59099999999998,
          80.758,
          152.82299999999998,
          83.31400000000001,
          96.09,
          171.90800000000002,
          81.481,
          137.745,
          135.157,
          81.51400000000001,
          90.896,
          119.57100000000001,
          155.22599999999997,
          300.132,
          100.09899999999999,
          130.3,
          109.059,
          109.44800000000002,
          145.934,
          120.20400000000001,
          146.721,
          169.339,
          67.11699999999999,
          91.61,
          112.27000000000001,
          96.922,
          98.96000000000001,
          118.173,
          232.328,
          107.666,
          76.168,
          69.38999999999999,
          104.85900000000001,
          77.871,
          125.748,
          77.73599999999999,
          146.537,
          74.527,
          92.53800000000001,
          76.86,
          106.173,
          117.07,
          70.931,
          80.25200000000001,
          184.39500000000004,
          59.983000000000004,
          86.58099999999999,
          81.26700000000001,
          94.853,
          155.45700000000002,
          135.207,
          90.12200000000001,
          131.639,
          72.624,
          97.054,
          129.355,
          84.581,
          108.127,
          89.69000000000001,
          95.167,
          99.715,
          110.81799999999998,
          135.917,
          86.43,
          95.616,
          88.47700000000002,
          91.317,
          83.935,
          73.086,
          100.25999999999999,
          130.11,
          87.216,
          99.42399999999999,
          87.94,
          73.30099999999999,
          108.07099999999998,
          80.151,
          94.358,
          77.08899999999998,
          103.56400000000001,
          87.59700000000001,
          122.336,
          92.726
         ]
        }
       ],
       "layout": {
        "autosize": true,
        "font": {
         "size": 42
        },
        "legend": {
         "font": {
          "color": "black",
          "size": 30
         },
         "orientation": "h",
         "x": 0.05,
         "y": 1.2
        },
        "plot_bgcolor": "rgba(0, 0, 0, 0)",
        "showlegend": true,
        "template": {
         "data": {
          "bar": [
           {
            "error_x": {
             "color": "#2a3f5f"
            },
            "error_y": {
             "color": "#2a3f5f"
            },
            "marker": {
             "line": {
              "color": "#E5ECF6",
              "width": 0.5
             }
            },
            "type": "bar"
           }
          ],
          "barpolar": [
           {
            "marker": {
             "line": {
              "color": "#E5ECF6",
              "width": 0.5
             }
            },
            "type": "barpolar"
           }
          ],
          "carpet": [
           {
            "aaxis": {
             "endlinecolor": "#2a3f5f",
             "gridcolor": "white",
             "linecolor": "white",
             "minorgridcolor": "white",
             "startlinecolor": "#2a3f5f"
            },
            "baxis": {
             "endlinecolor": "#2a3f5f",
             "gridcolor": "white",
             "linecolor": "white",
             "minorgridcolor": "white",
             "startlinecolor": "#2a3f5f"
            },
            "type": "carpet"
           }
          ],
          "choropleth": [
           {
            "colorbar": {
             "outlinewidth": 0,
             "ticks": ""
            },
            "type": "choropleth"
           }
          ],
          "contour": [
           {
            "colorbar": {
             "outlinewidth": 0,
             "ticks": ""
            },
            "colorscale": [
             [
              0,
              "#0d0887"
             ],
             [
              0.1111111111111111,
              "#46039f"
             ],
             [
              0.2222222222222222,
              "#7201a8"
             ],
             [
              0.3333333333333333,
              "#9c179e"
             ],
             [
              0.4444444444444444,
              "#bd3786"
             ],
             [
              0.5555555555555556,
              "#d8576b"
             ],
             [
              0.6666666666666666,
              "#ed7953"
             ],
             [
              0.7777777777777778,
              "#fb9f3a"
             ],
             [
              0.8888888888888888,
              "#fdca26"
             ],
             [
              1,
              "#f0f921"
             ]
            ],
            "type": "contour"
           }
          ],
          "contourcarpet": [
           {
            "colorbar": {
             "outlinewidth": 0,
             "ticks": ""
            },
            "type": "contourcarpet"
           }
          ],
          "heatmap": [
           {
            "colorbar": {
             "outlinewidth": 0,
             "ticks": ""
            },
            "colorscale": [
             [
              0,
              "#0d0887"
             ],
             [
              0.1111111111111111,
              "#46039f"
             ],
             [
              0.2222222222222222,
              "#7201a8"
             ],
             [
              0.3333333333333333,
              "#9c179e"
             ],
             [
              0.4444444444444444,
              "#bd3786"
             ],
             [
              0.5555555555555556,
              "#d8576b"
             ],
             [
              0.6666666666666666,
              "#ed7953"
             ],
             [
              0.7777777777777778,
              "#fb9f3a"
             ],
             [
              0.8888888888888888,
              "#fdca26"
             ],
             [
              1,
              "#f0f921"
             ]
            ],
            "type": "heatmap"
           }
          ],
          "heatmapgl": [
           {
            "colorbar": {
             "outlinewidth": 0,
             "ticks": ""
            },
            "colorscale": [
             [
              0,
              "#0d0887"
             ],
             [
              0.1111111111111111,
              "#46039f"
             ],
             [
              0.2222222222222222,
              "#7201a8"
             ],
             [
              0.3333333333333333,
              "#9c179e"
             ],
             [
              0.4444444444444444,
              "#bd3786"
             ],
             [
              0.5555555555555556,
              "#d8576b"
             ],
             [
              0.6666666666666666,
              "#ed7953"
             ],
             [
              0.7777777777777778,
              "#fb9f3a"
             ],
             [
              0.8888888888888888,
              "#fdca26"
             ],
             [
              1,
              "#f0f921"
             ]
            ],
            "type": "heatmapgl"
           }
          ],
          "histogram": [
           {
            "marker": {
             "colorbar": {
              "outlinewidth": 0,
              "ticks": ""
             }
            },
            "type": "histogram"
           }
          ],
          "histogram2d": [
           {
            "colorbar": {
             "outlinewidth": 0,
             "ticks": ""
            },
            "colorscale": [
             [
              0,
              "#0d0887"
             ],
             [
              0.1111111111111111,
              "#46039f"
             ],
             [
              0.2222222222222222,
              "#7201a8"
             ],
             [
              0.3333333333333333,
              "#9c179e"
             ],
             [
              0.4444444444444444,
              "#bd3786"
             ],
             [
              0.5555555555555556,
              "#d8576b"
             ],
             [
              0.6666666666666666,
              "#ed7953"
             ],
             [
              0.7777777777777778,
              "#fb9f3a"
             ],
             [
              0.8888888888888888,
              "#fdca26"
             ],
             [
              1,
              "#f0f921"
             ]
            ],
            "type": "histogram2d"
           }
          ],
          "histogram2dcontour": [
           {
            "colorbar": {
             "outlinewidth": 0,
             "ticks": ""
            },
            "colorscale": [
             [
              0,
              "#0d0887"
             ],
             [
              0.1111111111111111,
              "#46039f"
             ],
             [
              0.2222222222222222,
              "#7201a8"
             ],
             [
              0.3333333333333333,
              "#9c179e"
             ],
             [
              0.4444444444444444,
              "#bd3786"
             ],
             [
              0.5555555555555556,
              "#d8576b"
             ],
             [
              0.6666666666666666,
              "#ed7953"
             ],
             [
              0.7777777777777778,
              "#fb9f3a"
             ],
             [
              0.8888888888888888,
              "#fdca26"
             ],
             [
              1,
              "#f0f921"
             ]
            ],
            "type": "histogram2dcontour"
           }
          ],
          "mesh3d": [
           {
            "colorbar": {
             "outlinewidth": 0,
             "ticks": ""
            },
            "type": "mesh3d"
           }
          ],
          "parcoords": [
           {
            "line": {
             "colorbar": {
              "outlinewidth": 0,
              "ticks": ""
             }
            },
            "type": "parcoords"
           }
          ],
          "scatter": [
           {
            "marker": {
             "colorbar": {
              "outlinewidth": 0,
              "ticks": ""
             }
            },
            "type": "scatter"
           }
          ],
          "scatter3d": [
           {
            "line": {
             "colorbar": {
              "outlinewidth": 0,
              "ticks": ""
             }
            },
            "marker": {
             "colorbar": {
              "outlinewidth": 0,
              "ticks": ""
             }
            },
            "type": "scatter3d"
           }
          ],
          "scattercarpet": [
           {
            "marker": {
             "colorbar": {
              "outlinewidth": 0,
              "ticks": ""
             }
            },
            "type": "scattercarpet"
           }
          ],
          "scattergeo": [
           {
            "marker": {
             "colorbar": {
              "outlinewidth": 0,
              "ticks": ""
             }
            },
            "type": "scattergeo"
           }
          ],
          "scattergl": [
           {
            "marker": {
             "colorbar": {
              "outlinewidth": 0,
              "ticks": ""
             }
            },
            "type": "scattergl"
           }
          ],
          "scattermapbox": [
           {
            "marker": {
             "colorbar": {
              "outlinewidth": 0,
              "ticks": ""
             }
            },
            "type": "scattermapbox"
           }
          ],
          "scatterpolar": [
           {
            "marker": {
             "colorbar": {
              "outlinewidth": 0,
              "ticks": ""
             }
            },
            "type": "scatterpolar"
           }
          ],
          "scatterpolargl": [
           {
            "marker": {
             "colorbar": {
              "outlinewidth": 0,
              "ticks": ""
             }
            },
            "type": "scatterpolargl"
           }
          ],
          "scatterternary": [
           {
            "marker": {
             "colorbar": {
              "outlinewidth": 0,
              "ticks": ""
             }
            },
            "type": "scatterternary"
           }
          ],
          "surface": [
           {
            "colorbar": {
             "outlinewidth": 0,
             "ticks": ""
            },
            "colorscale": [
             [
              0,
              "#0d0887"
             ],
             [
              0.1111111111111111,
              "#46039f"
             ],
             [
              0.2222222222222222,
              "#7201a8"
             ],
             [
              0.3333333333333333,
              "#9c179e"
             ],
             [
              0.4444444444444444,
              "#bd3786"
             ],
             [
              0.5555555555555556,
              "#d8576b"
             ],
             [
              0.6666666666666666,
              "#ed7953"
             ],
             [
              0.7777777777777778,
              "#fb9f3a"
             ],
             [
              0.8888888888888888,
              "#fdca26"
             ],
             [
              1,
              "#f0f921"
             ]
            ],
            "type": "surface"
           }
          ],
          "table": [
           {
            "cells": {
             "fill": {
              "color": "#EBF0F8"
             },
             "line": {
              "color": "white"
             }
            },
            "header": {
             "fill": {
              "color": "#C8D4E3"
             },
             "line": {
              "color": "white"
             }
            },
            "type": "table"
           }
          ]
         },
         "layout": {
          "annotationdefaults": {
           "arrowcolor": "#2a3f5f",
           "arrowhead": 0,
           "arrowwidth": 1
          },
          "colorscale": {
           "diverging": [
            [
             0,
             "#8e0152"
            ],
            [
             0.1,
             "#c51b7d"
            ],
            [
             0.2,
             "#de77ae"
            ],
            [
             0.3,
             "#f1b6da"
            ],
            [
             0.4,
             "#fde0ef"
            ],
            [
             0.5,
             "#f7f7f7"
            ],
            [
             0.6,
             "#e6f5d0"
            ],
            [
             0.7,
             "#b8e186"
            ],
            [
             0.8,
             "#7fbc41"
            ],
            [
             0.9,
             "#4d9221"
            ],
            [
             1,
             "#276419"
            ]
           ],
           "sequential": [
            [
             0,
             "#0d0887"
            ],
            [
             0.1111111111111111,
             "#46039f"
            ],
            [
             0.2222222222222222,
             "#7201a8"
            ],
            [
             0.3333333333333333,
             "#9c179e"
            ],
            [
             0.4444444444444444,
             "#bd3786"
            ],
            [
             0.5555555555555556,
             "#d8576b"
            ],
            [
             0.6666666666666666,
             "#ed7953"
            ],
            [
             0.7777777777777778,
             "#fb9f3a"
            ],
            [
             0.8888888888888888,
             "#fdca26"
            ],
            [
             1,
             "#f0f921"
            ]
           ],
           "sequentialminus": [
            [
             0,
             "#0d0887"
            ],
            [
             0.1111111111111111,
             "#46039f"
            ],
            [
             0.2222222222222222,
             "#7201a8"
            ],
            [
             0.3333333333333333,
             "#9c179e"
            ],
            [
             0.4444444444444444,
             "#bd3786"
            ],
            [
             0.5555555555555556,
             "#d8576b"
            ],
            [
             0.6666666666666666,
             "#ed7953"
            ],
            [
             0.7777777777777778,
             "#fb9f3a"
            ],
            [
             0.8888888888888888,
             "#fdca26"
            ],
            [
             1,
             "#f0f921"
            ]
           ]
          },
          "colorway": [
           "#636efa",
           "#EF553B",
           "#00cc96",
           "#ab63fa",
           "#FFA15A",
           "#19d3f3",
           "#FF6692",
           "#B6E880",
           "#FF97FF",
           "#FECB52"
          ],
          "font": {
           "color": "#2a3f5f"
          },
          "geo": {
           "bgcolor": "white",
           "lakecolor": "white",
           "landcolor": "#E5ECF6",
           "showlakes": true,
           "showland": true,
           "subunitcolor": "white"
          },
          "hoverlabel": {
           "align": "left"
          },
          "hovermode": "closest",
          "mapbox": {
           "style": "light"
          },
          "paper_bgcolor": "white",
          "plot_bgcolor": "#E5ECF6",
          "polar": {
           "angularaxis": {
            "gridcolor": "white",
            "linecolor": "white",
            "ticks": ""
           },
           "bgcolor": "#E5ECF6",
           "radialaxis": {
            "gridcolor": "white",
            "linecolor": "white",
            "ticks": ""
           }
          },
          "scene": {
           "xaxis": {
            "backgroundcolor": "#E5ECF6",
            "gridcolor": "white",
            "gridwidth": 2,
            "linecolor": "white",
            "showbackground": true,
            "ticks": "",
            "zerolinecolor": "white"
           },
           "yaxis": {
            "backgroundcolor": "#E5ECF6",
            "gridcolor": "white",
            "gridwidth": 2,
            "linecolor": "white",
            "showbackground": true,
            "ticks": "",
            "zerolinecolor": "white"
           },
           "zaxis": {
            "backgroundcolor": "#E5ECF6",
            "gridcolor": "white",
            "gridwidth": 2,
            "linecolor": "white",
            "showbackground": true,
            "ticks": "",
            "zerolinecolor": "white"
           }
          },
          "shapedefaults": {
           "line": {
            "color": "#2a3f5f"
           }
          },
          "ternary": {
           "aaxis": {
            "gridcolor": "white",
            "linecolor": "white",
            "ticks": ""
           },
           "baxis": {
            "gridcolor": "white",
            "linecolor": "white",
            "ticks": ""
           },
           "bgcolor": "#E5ECF6",
           "caxis": {
            "gridcolor": "white",
            "linecolor": "white",
            "ticks": ""
           }
          },
          "title": {
           "x": 0.05
          },
          "xaxis": {
           "automargin": true,
           "gridcolor": "white",
           "linecolor": "white",
           "ticks": "",
           "zerolinecolor": "white",
           "zerolinewidth": 2
          },
          "yaxis": {
           "automargin": true,
           "gridcolor": "white",
           "linecolor": "white",
           "ticks": "",
           "zerolinecolor": "white",
           "zerolinewidth": 2
          }
         }
        },
        "xaxis": {
         "linecolor": "black",
         "linewidth": 2,
         "range": [
          0,
          100
         ],
         "showline": true,
         "ticklen": 5,
         "ticks": "inside",
         "tickvals": [
          10,
          20,
          30,
          40,
          50,
          60,
          70,
          80,
          90,
          100
         ],
         "type": "linear",
         "zeroline": true
        },
        "yaxis": {
         "gridcolor": "lightgrey",
         "gridwidth": 1,
         "linecolor": "black",
         "linewidth": 2,
         "range": [
          0,
          4
         ],
         "showgrid": true,
         "showline": true,
         "ticklen": 5,
         "ticks": "inside",
         "tickvals": [
          0,
          1,
          10,
          100,
          1000,
          10000
         ],
         "title": {
          "text": "Time (milliseconds)"
         },
         "type": "log",
         "zeroline": false,
         "zerolinecolor": "rgba(0, 0, 0, 0)"
        }
       }
      },
      "image/png": "[encoded data removed]",
      "text/html": [
       "<div>\n",
       "        \n",
       "        \n",
       "            <div id=\"f44a24d6-20e4-4d23-adaf-da5732843e7b\" class=\"plotly-graph-div\" style=\"height:525px; width:100%;\"></div>\n",
       "            <script type=\"text/javascript\">\n",
       "                require([\"plotly\"], function(Plotly) {\n",
       "                    window.PLOTLYENV=window.PLOTLYENV || {};\n",
       "                    \n",
       "                if (document.getElementById(\"f44a24d6-20e4-4d23-adaf-da5732843e7b\")) {\n",
       "                    Plotly.newPlot(\n",
       "                        'f44a24d6-20e4-4d23-adaf-da5732843e7b',\n",
       "                        [{\"line\": {\"dash\": \"dot\", \"width\": 6}, \"marker\": {\"color\": \"black\"}, \"mode\": \"lines\", \"name\": \"FS\", \"type\": \"scatter\", \"x\": [0, 1, 2, 3, 4, 5, 6, 7, 8, 9, 10, 11, 12, 13, 14, 15, 16, 17, 18, 19, 20, 21, 22, 23, 24, 25, 26, 27, 28, 29, 30, 31, 32, 33, 34, 35, 36, 37, 38, 39, 40, 41, 42, 43, 44, 45, 46, 47, 48, 49, 50, 51, 52, 53, 54, 55, 56, 57, 58, 59, 60, 61, 62, 63, 64, 65, 66, 67, 68, 69, 70, 71, 72, 73, 74, 75, 76, 77, 78, 79, 80, 81, 82, 83, 84, 85, 86, 87, 88, 89, 90, 91, 92, 93, 94, 95, 96, 97, 98, 99], \"y\": [901.071, 701.8100000000001, 1012.594, 872.0049999999999, 825.203, 988.3309999999999, 1021.1299999999999, 791.9920000000001, 803.766, 958.4399999999999, 902.129, 749.866, 675.422, 942.621, 868.0459999999998, 906.93, 897.949, 775.4810000000001, 1019.0440000000001, 799.4359999999999, 928.1669999999999, 889.3120000000001, 856.0110000000001, 831.687, 911.665, 866.459, 948.5440000000001, 877.394, 759.964, 808.764, 749.576, 781.9430000000001, 723.3629999999999, 790.4069999999999, 874.568, 781.115, 941.3889999999999, 809.641, 708.653, 1020.13, 780.167, 869.743, 923.276, 754.78, 772.109, 682.2729999999999, 742.925, 1025.591, 911.165, 828.1350000000001, 969.652, 785.3919999999999, 985.7819999999999, 741.466, 926.2479999999999, 738.542, 837.716, 806.635, 826.462, 999.608, 840.8770000000001, 846.393, 865.211, 837.211, 819.5319999999999, 768.241, 675.373, 755.9970000000001, 847.8040000000001, 731.411, 1068.5629999999999, 870.8389999999999, 727.874, 732.754, 862.6940000000001, 1018.2249999999999, 864.5809999999999, 921.1959999999999, 718.5409999999999, 668.1010000000001, 781.6890000000001, 894.8950000000001, 778.4680000000001, 759.0550000000001, 872.656, 932.9129999999999, 772.3489999999999, 874.6440000000001, 779.092, 851.1350000000001, 963.787, 1038.664, 894.594, 903.4770000000001, 976.7860000000001, 897.5709999999999, 764.1510000000001, 1060.604, 853.024, 989.591]}, {\"line\": {\"dash\": \"solid\", \"width\": 6}, \"marker\": {\"color\": \"purple\"}, \"mode\": \"lines\", \"name\": \"GPFQ(10)\", \"type\": \"scatter\", \"x\": [0, 1, 2, 3, 4, 5, 6, 7, 8, 9, 10, 11, 12, 13, 14, 15, 16, 17, 18, 19, 20, 21, 22, 23, 24, 25, 26, 27, 28, 29, 30, 31, 32, 33, 34, 35, 36, 37, 38, 39, 40, 41, 42, 43, 44, 45, 46, 47, 48, 49, 50, 51, 52, 53, 54, 55, 56, 57, 58, 59, 60, 61, 62, 63, 64, 65, 66, 67, 68, 69, 70, 71, 72, 73, 74, 75, 76, 77, 78, 79, 80, 81, 82, 83, 84, 85, 86, 87, 88, 89, 90, 91, 92, 93, 94, 95, 96, 97, 98, 99], \"y\": [1498.877, 1442.829, 1524.447, 1351.594, 1351.489, 1378.933, 1362.5690000000002, 1376.6229999999998, 1369.755, 1372.419, 1373.4419999999998, 1355.4869999999999, 459.128, 455.31699999999995, 460.62, 459.592, 453.21900000000005, 454.221, 459.40099999999995, 453.94199999999995, 456.76800000000003, 457.99100000000004, 452.452, 430.85999999999996, 67.265, 89.73100000000001, 81.38100000000001, 82.89699999999999, 107.90899999999999, 86.74699999999999, 78.753, 102.836, 99.98800000000001, 70.281, 99.123, 68.56, 84.90100000000001, 72.99, 72.88900000000001, 67.184, 84.96100000000001, 79.432, 131.487, 99.281, 74.154, 66.111, 89.843, 73.489, 72.34800000000001, 68.66499999999999, 78.431, 134.694, 72.48700000000001, 84.369, 94.227, 104.771, 74.816, 119.695, 107.257, 83.73800000000001, 92.456, 56.44799999999999, 67.133, 76.538, 65.051, 67.34199999999998, 106.294, 87.443, 76.29799999999999, 72.824, 89.80799999999999, 125.54, 112.61200000000001, 76.311, 66.466, 82.791, 102.012, 121.521, 136.967, 94.248, 83.61399999999999, 105.137, 78.982, 75.256, 89.274, 66.47, 59.839000000000006, 64.161, 74.525, 99.559, 109.20100000000001, 107.12799999999999, 110.216, 65.64399999999999, 135.04, 108.94699999999999, 92.36000000000001, 103.073, 66.66799999999999, 112.77199999999999]}, {\"line\": {\"dash\": \"dot\", \"width\": 6}, \"marker\": {\"color\": \"purple\"}, \"mode\": \"lines\", \"name\": \"GPFP(0.2)\", \"type\": \"scatter\", \"x\": [0, 1, 2, 3, 4, 5, 6, 7, 8, 9, 10, 11, 12, 13, 14, 15, 16, 17, 18, 19, 20, 21, 22, 23, 24, 25, 26, 27, 28, 29, 30, 31, 32, 33, 34, 35, 36, 37, 38, 39, 40, 41, 42, 43, 44, 45, 46, 47, 48, 49, 50, 51, 52, 53, 54, 55, 56, 57, 58, 59, 60, 61, 62, 63, 64, 65, 66, 67, 68, 69, 70, 71, 72, 73, 74, 75, 76, 77, 78, 79, 80, 81, 82, 83, 84, 85, 86, 87, 88, 89, 90, 91, 92, 93, 94, 95, 96, 97, 98, 99], \"y\": [1362.5500000000002, 1311.8029999999999, 1277.979, 1254.7480000000003, 1254.89, 1248.74, 1255.15, 1241.362, 1236.204, 1243.17, 1240.2289999999998, 1250.415, 1243.29, 1244.1740000000002, 451.55, 453.29900000000004, 451.226, 451.40400000000005, 459.804, 451.983, 458.221, 458.846, 452.28100000000006, 457.534, 453.697, 454.492, 474.649, 462.15000000000003, 248.85199999999998, 87.30700000000002, 79.68400000000001, 104.63100000000001, 99.263, 70.563, 99.992, 68.91299999999998, 85.813, 99.04700000000001, 72.707, 67.89500000000001, 85.152, 79.751, 118.42599999999999, 101.16, 73.898, 65.47200000000001, 89.769, 73.98700000000001, 71.999, 67.77999999999999, 79.19200000000001, 133.39399999999998, 71.81400000000001, 84.80299999999998, 94.934, 104.14200000000001, 74.686, 133.921, 80.93000000000002, 84.82799999999999, 92.13099999999999, 55.796, 66.57300000000001, 76.39, 66.64699999999999, 66.558, 107.98899999999999, 87.963, 76.53800000000001, 72.025, 90.879, 123.40699999999998, 112.838, 76.578, 66.75699999999999, 108.42699999999999, 101.721, 122.63499999999999, 138.33100000000002, 79.771, 82.679, 105.853, 79.395, 75.642, 89.76, 67.543, 61.462, 63.82900000000001, 74.341, 99.85900000000001, 109.36799999999998, 107.93500000000002, 110.314, 66.249, 151.556, 83.09700000000001, 93.65599999999999, 102.85, 68.287, 112.13600000000001]}, {\"line\": {\"dash\": \"solid\", \"width\": 6}, \"marker\": {\"color\": \"black\"}, \"mode\": \"lines\", \"name\": \"PKD(0.2)\", \"type\": \"scatter\", \"x\": [0, 1, 2, 3, 4, 5, 6, 7, 8, 9, 10, 11, 12, 13, 14, 15, 16, 17, 18, 19, 20, 21, 22, 23, 24, 25, 26, 27, 28, 29, 30, 31, 32, 33, 34, 35, 36, 37, 38, 39, 40, 41, 42, 43, 44, 45, 46, 47, 48, 49, 50, 51, 52, 53, 54, 55, 56, 57, 58, 59, 60, 61, 62, 63, 64, 65, 66, 67, 68, 69, 70, 71, 72, 73, 74, 75, 76, 77, 78, 79, 80, 81, 82, 83, 84, 85, 86, 87, 88, 89, 90, 91, 92, 93, 94, 95, 96, 97, 98, 99], \"y\": [1368.7690000000002, 1175.827, 1372.357, 1348.6609999999998, 1355.423, 1111.9540000000002, 1032.861, 900.7019999999999, 1019.5319999999999, 939.105, 1039.85, 928.9449999999999, 838.0050000000001, 891.184, 861.1650000000001, 865.8450000000001, 914.031, 731.6279999999999, 805.0310000000001, 837.5030000000002, 895.2549999999999, 792.769, 856.2839999999999, 819.028, 819.9139999999999, 843.451, 836.246, 649.155, 669.934, 605.2230000000001, 613.0060000000001, 674.376, 572.0840000000001, 546.689, 548.347, 468.47799999999995, 528.842, 433.65600000000006, 407.43999999999994, 434.562, 428.191, 382.739, 448.53800000000007, 370.984, 338.472, 310.576, 326.04699999999997, 340.52099999999996, 324.11400000000003, 304.485, 304.61199999999997, 341.159, 282.92, 287.159, 334.41700000000003, 104.513, 74.89800000000001, 118.94200000000001, 79.493, 84.647, 92.322, 55.508, 67.321, 75.914, 67.277, 67.467, 107.546, 85.15899999999999, 74.879, 72.58999999999999, 90.882, 123.47300000000001, 125.196, 76.33899999999998, 66.28500000000001, 83.139, 102.18199999999999, 121.106, 137.456, 79.387, 83.415, 106.93, 78.391, 74.68100000000001, 88.83700000000002, 66.78, 61.64, 66.958, 74.092, 125.862, 110.357, 106.72599999999998, 109.83900000000001, 65.10199999999999, 135.38799999999998, 82.857, 93.75800000000001, 103.26599999999999, 67.81300000000002, 111.48700000000001]}, {\"line\": {\"dash\": \"solid\", \"width\": 6}, \"marker\": {\"color\": \"green\"}, \"mode\": \"lines\", \"name\": \"AKD\", \"type\": \"scatter\", \"x\": [0, 1, 2, 3, 4, 5, 6, 7, 8, 9, 10, 11, 12, 13, 14, 15, 16, 17, 18, 19, 20, 21, 22, 23, 24, 25, 26, 27, 28, 29, 30, 31, 32, 33, 34, 35, 36, 37, 38, 39, 40, 41, 42, 43, 44, 45, 46, 47, 48, 49, 50, 51, 52, 53, 54, 55, 56, 57, 58, 59, 60, 61, 62, 63, 64, 65, 66, 67, 68, 69, 70, 71, 72, 73, 74, 75, 76, 77, 78, 79, 80, 81, 82, 83, 84, 85, 86, 87, 88, 89, 90, 91, 92, 93, 94, 95, 96, 97, 98, 99], \"y\": [7224.657999999999, 1713.8329999999999, 379.40999999999997, 308.819, 209.684, 171.364, 172.163, 212.371, 425.99299999999994, 133.265, 185.527, 247.41200000000003, 281.14799999999997, 215.461, 150.961, 128.177, 190.68699999999998, 162.59099999999998, 80.758, 152.82299999999998, 83.31400000000001, 96.09, 171.90800000000002, 81.481, 137.745, 135.157, 81.51400000000001, 90.896, 119.57100000000001, 155.22599999999997, 300.132, 100.09899999999999, 130.3, 109.059, 109.44800000000002, 145.934, 120.20400000000001, 146.721, 169.339, 67.11699999999999, 91.61, 112.27000000000001, 96.922, 98.96000000000001, 118.173, 232.328, 107.666, 76.168, 69.38999999999999, 104.85900000000001, 77.871, 125.748, 77.73599999999999, 146.537, 74.527, 92.53800000000001, 76.86, 106.173, 117.07, 70.931, 80.25200000000001, 184.39500000000004, 59.983000000000004, 86.58099999999999, 81.26700000000001, 94.853, 155.45700000000002, 135.207, 90.12200000000001, 131.639, 72.624, 97.054, 129.355, 84.581, 108.127, 89.69000000000001, 95.167, 99.715, 110.81799999999998, 135.917, 86.43, 95.616, 88.47700000000002, 91.317, 83.935, 73.086, 100.25999999999999, 130.11, 87.216, 99.42399999999999, 87.94, 73.30099999999999, 108.07099999999998, 80.151, 94.358, 77.08899999999998, 103.56400000000001, 87.59700000000001, 122.336, 92.726]}],\n",
       "                        {\"font\": {\"size\": 42}, \"legend\": {\"font\": {\"color\": \"black\", \"size\": 30}, \"orientation\": \"h\", \"x\": 0.05, \"y\": 1.2}, \"plot_bgcolor\": \"rgba(0,0,0,0)\", \"showlegend\": true, \"template\": {\"data\": {\"bar\": [{\"error_x\": {\"color\": \"#2a3f5f\"}, \"error_y\": {\"color\": \"#2a3f5f\"}, \"marker\": {\"line\": {\"color\": \"#E5ECF6\", \"width\": 0.5}}, \"type\": \"bar\"}], \"barpolar\": [{\"marker\": {\"line\": {\"color\": \"#E5ECF6\", \"width\": 0.5}}, \"type\": \"barpolar\"}], \"carpet\": [{\"aaxis\": {\"endlinecolor\": \"#2a3f5f\", \"gridcolor\": \"white\", \"linecolor\": \"white\", \"minorgridcolor\": \"white\", \"startlinecolor\": \"#2a3f5f\"}, \"baxis\": {\"endlinecolor\": \"#2a3f5f\", \"gridcolor\": \"white\", \"linecolor\": \"white\", \"minorgridcolor\": \"white\", \"startlinecolor\": \"#2a3f5f\"}, \"type\": \"carpet\"}], \"choropleth\": [{\"colorbar\": {\"outlinewidth\": 0, \"ticks\": \"\"}, \"type\": \"choropleth\"}], \"contour\": [{\"colorbar\": {\"outlinewidth\": 0, \"ticks\": \"\"}, \"colorscale\": [[0.0, \"#0d0887\"], [0.1111111111111111, \"#46039f\"], [0.2222222222222222, \"#7201a8\"], [0.3333333333333333, \"#9c179e\"], [0.4444444444444444, \"#bd3786\"], [0.5555555555555556, \"#d8576b\"], [0.6666666666666666, \"#ed7953\"], [0.7777777777777778, \"#fb9f3a\"], [0.8888888888888888, \"#fdca26\"], [1.0, \"#f0f921\"]], \"type\": \"contour\"}], \"contourcarpet\": [{\"colorbar\": {\"outlinewidth\": 0, \"ticks\": \"\"}, \"type\": \"contourcarpet\"}], \"heatmap\": [{\"colorbar\": {\"outlinewidth\": 0, \"ticks\": \"\"}, \"colorscale\": [[0.0, \"#0d0887\"], [0.1111111111111111, \"#46039f\"], [0.2222222222222222, \"#7201a8\"], [0.3333333333333333, \"#9c179e\"], [0.4444444444444444, \"#bd3786\"], [0.5555555555555556, \"#d8576b\"], [0.6666666666666666, \"#ed7953\"], [0.7777777777777778, \"#fb9f3a\"], [0.8888888888888888, \"#fdca26\"], [1.0, \"#f0f921\"]], \"type\": \"heatmap\"}], \"heatmapgl\": [{\"colorbar\": {\"outlinewidth\": 0, \"ticks\": \"\"}, \"colorscale\": [[0.0, \"#0d0887\"], [0.1111111111111111, \"#46039f\"], [0.2222222222222222, \"#7201a8\"], [0.3333333333333333, \"#9c179e\"], [0.4444444444444444, \"#bd3786\"], [0.5555555555555556, \"#d8576b\"], [0.6666666666666666, \"#ed7953\"], [0.7777777777777778, \"#fb9f3a\"], [0.8888888888888888, \"#fdca26\"], [1.0, \"#f0f921\"]], \"type\": \"heatmapgl\"}], \"histogram\": [{\"marker\": {\"colorbar\": {\"outlinewidth\": 0, \"ticks\": \"\"}}, \"type\": \"histogram\"}], \"histogram2d\": [{\"colorbar\": {\"outlinewidth\": 0, \"ticks\": \"\"}, \"colorscale\": [[0.0, \"#0d0887\"], [0.1111111111111111, \"#46039f\"], [0.2222222222222222, \"#7201a8\"], [0.3333333333333333, \"#9c179e\"], [0.4444444444444444, \"#bd3786\"], [0.5555555555555556, \"#d8576b\"], [0.6666666666666666, \"#ed7953\"], [0.7777777777777778, \"#fb9f3a\"], [0.8888888888888888, \"#fdca26\"], [1.0, \"#f0f921\"]], \"type\": \"histogram2d\"}], \"histogram2dcontour\": [{\"colorbar\": {\"outlinewidth\": 0, \"ticks\": \"\"}, \"colorscale\": [[0.0, \"#0d0887\"], [0.1111111111111111, \"#46039f\"], [0.2222222222222222, \"#7201a8\"], [0.3333333333333333, \"#9c179e\"], [0.4444444444444444, \"#bd3786\"], [0.5555555555555556, \"#d8576b\"], [0.6666666666666666, \"#ed7953\"], [0.7777777777777778, \"#fb9f3a\"], [0.8888888888888888, \"#fdca26\"], [1.0, \"#f0f921\"]], \"type\": \"histogram2dcontour\"}], \"mesh3d\": [{\"colorbar\": {\"outlinewidth\": 0, \"ticks\": \"\"}, \"type\": \"mesh3d\"}], \"parcoords\": [{\"line\": {\"colorbar\": {\"outlinewidth\": 0, \"ticks\": \"\"}}, \"type\": \"parcoords\"}], \"scatter\": [{\"marker\": {\"colorbar\": {\"outlinewidth\": 0, \"ticks\": \"\"}}, \"type\": \"scatter\"}], \"scatter3d\": [{\"line\": {\"colorbar\": {\"outlinewidth\": 0, \"ticks\": \"\"}}, \"marker\": {\"colorbar\": {\"outlinewidth\": 0, \"ticks\": \"\"}}, \"type\": \"scatter3d\"}], \"scattercarpet\": [{\"marker\": {\"colorbar\": {\"outlinewidth\": 0, \"ticks\": \"\"}}, \"type\": \"scattercarpet\"}], \"scattergeo\": [{\"marker\": {\"colorbar\": {\"outlinewidth\": 0, \"ticks\": \"\"}}, \"type\": \"scattergeo\"}], \"scattergl\": [{\"marker\": {\"colorbar\": {\"outlinewidth\": 0, \"ticks\": \"\"}}, \"type\": \"scattergl\"}], \"scattermapbox\": [{\"marker\": {\"colorbar\": {\"outlinewidth\": 0, \"ticks\": \"\"}}, \"type\": \"scattermapbox\"}], \"scatterpolar\": [{\"marker\": {\"colorbar\": {\"outlinewidth\": 0, \"ticks\": \"\"}}, \"type\": \"scatterpolar\"}], \"scatterpolargl\": [{\"marker\": {\"colorbar\": {\"outlinewidth\": 0, \"ticks\": \"\"}}, \"type\": \"scatterpolargl\"}], \"scatterternary\": [{\"marker\": {\"colorbar\": {\"outlinewidth\": 0, \"ticks\": \"\"}}, \"type\": \"scatterternary\"}], \"surface\": [{\"colorbar\": {\"outlinewidth\": 0, \"ticks\": \"\"}, \"colorscale\": [[0.0, \"#0d0887\"], [0.1111111111111111, \"#46039f\"], [0.2222222222222222, \"#7201a8\"], [0.3333333333333333, \"#9c179e\"], [0.4444444444444444, \"#bd3786\"], [0.5555555555555556, \"#d8576b\"], [0.6666666666666666, \"#ed7953\"], [0.7777777777777778, \"#fb9f3a\"], [0.8888888888888888, \"#fdca26\"], [1.0, \"#f0f921\"]], \"type\": \"surface\"}], \"table\": [{\"cells\": {\"fill\": {\"color\": \"#EBF0F8\"}, \"line\": {\"color\": \"white\"}}, \"header\": {\"fill\": {\"color\": \"#C8D4E3\"}, \"line\": {\"color\": \"white\"}}, \"type\": \"table\"}]}, \"layout\": {\"annotationdefaults\": {\"arrowcolor\": \"#2a3f5f\", \"arrowhead\": 0, \"arrowwidth\": 1}, \"colorscale\": {\"diverging\": [[0, \"#8e0152\"], [0.1, \"#c51b7d\"], [0.2, \"#de77ae\"], [0.3, \"#f1b6da\"], [0.4, \"#fde0ef\"], [0.5, \"#f7f7f7\"], [0.6, \"#e6f5d0\"], [0.7, \"#b8e186\"], [0.8, \"#7fbc41\"], [0.9, \"#4d9221\"], [1, \"#276419\"]], \"sequential\": [[0.0, \"#0d0887\"], [0.1111111111111111, \"#46039f\"], [0.2222222222222222, \"#7201a8\"], [0.3333333333333333, \"#9c179e\"], [0.4444444444444444, \"#bd3786\"], [0.5555555555555556, \"#d8576b\"], [0.6666666666666666, \"#ed7953\"], [0.7777777777777778, \"#fb9f3a\"], [0.8888888888888888, \"#fdca26\"], [1.0, \"#f0f921\"]], \"sequentialminus\": [[0.0, \"#0d0887\"], [0.1111111111111111, \"#46039f\"], [0.2222222222222222, \"#7201a8\"], [0.3333333333333333, \"#9c179e\"], [0.4444444444444444, \"#bd3786\"], [0.5555555555555556, \"#d8576b\"], [0.6666666666666666, \"#ed7953\"], [0.7777777777777778, \"#fb9f3a\"], [0.8888888888888888, \"#fdca26\"], [1.0, \"#f0f921\"]]}, \"colorway\": [\"#636efa\", \"#EF553B\", \"#00cc96\", \"#ab63fa\", \"#FFA15A\", \"#19d3f3\", \"#FF6692\", \"#B6E880\", \"#FF97FF\", \"#FECB52\"], \"font\": {\"color\": \"#2a3f5f\"}, \"geo\": {\"bgcolor\": \"white\", \"lakecolor\": \"white\", \"landcolor\": \"#E5ECF6\", \"showlakes\": true, \"showland\": true, \"subunitcolor\": \"white\"}, \"hoverlabel\": {\"align\": \"left\"}, \"hovermode\": \"closest\", \"mapbox\": {\"style\": \"light\"}, \"paper_bgcolor\": \"white\", \"plot_bgcolor\": \"#E5ECF6\", \"polar\": {\"angularaxis\": {\"gridcolor\": \"white\", \"linecolor\": \"white\", \"ticks\": \"\"}, \"bgcolor\": \"#E5ECF6\", \"radialaxis\": {\"gridcolor\": \"white\", \"linecolor\": \"white\", \"ticks\": \"\"}}, \"scene\": {\"xaxis\": {\"backgroundcolor\": \"#E5ECF6\", \"gridcolor\": \"white\", \"gridwidth\": 2, \"linecolor\": \"white\", \"showbackground\": true, \"ticks\": \"\", \"zerolinecolor\": \"white\"}, \"yaxis\": {\"backgroundcolor\": \"#E5ECF6\", \"gridcolor\": \"white\", \"gridwidth\": 2, \"linecolor\": \"white\", \"showbackground\": true, \"ticks\": \"\", \"zerolinecolor\": \"white\"}, \"zaxis\": {\"backgroundcolor\": \"#E5ECF6\", \"gridcolor\": \"white\", \"gridwidth\": 2, \"linecolor\": \"white\", \"showbackground\": true, \"ticks\": \"\", \"zerolinecolor\": \"white\"}}, \"shapedefaults\": {\"line\": {\"color\": \"#2a3f5f\"}}, \"ternary\": {\"aaxis\": {\"gridcolor\": \"white\", \"linecolor\": \"white\", \"ticks\": \"\"}, \"baxis\": {\"gridcolor\": \"white\", \"linecolor\": \"white\", \"ticks\": \"\"}, \"bgcolor\": \"#E5ECF6\", \"caxis\": {\"gridcolor\": \"white\", \"linecolor\": \"white\", \"ticks\": \"\"}}, \"title\": {\"x\": 0.05}, \"xaxis\": {\"automargin\": true, \"gridcolor\": \"white\", \"linecolor\": \"white\", \"ticks\": \"\", \"zerolinecolor\": \"white\", \"zerolinewidth\": 2}, \"yaxis\": {\"automargin\": true, \"gridcolor\": \"white\", \"linecolor\": \"white\", \"ticks\": \"\", \"zerolinecolor\": \"white\", \"zerolinewidth\": 2}}}, \"xaxis\": {\"linecolor\": \"black\", \"linewidth\": 2, \"range\": [0, 100], \"showline\": true, \"ticklen\": 5, \"ticks\": \"inside\", \"tickvals\": [10, 20, 30, 40, 50, 60, 70, 80, 90, 100], \"zeroline\": true}, \"yaxis\": {\"gridcolor\": \"lightgrey\", \"gridwidth\": 1, \"linecolor\": \"black\", \"linewidth\": 2, \"range\": [0, 4], \"showgrid\": true, \"showline\": true, \"ticklen\": 5, \"ticks\": \"inside\", \"tickvals\": [0, 1, 10, 100, 1000, 10000], \"title\": {\"text\": \"Time (milliseconds)\"}, \"type\": \"log\", \"zeroline\": false, \"zerolinecolor\": \"rgba(0, 0, 0, 0)\"}},\n",
       "                        {\"responsive\": true}\n",
       "                    ).then(function(){\n",
       "                            \n",
       "var gd = document.getElementById('f44a24d6-20e4-4d23-adaf-da5732843e7b');\n",
       "var x = new MutationObserver(function (mutations, observer) {{\n",
       "        var display = window.getComputedStyle(gd).display;\n",
       "        if (!display || display === 'none') {{\n",
       "            console.log([gd, 'removed!']);\n",
       "            Plotly.purge(gd);\n",
       "            observer.disconnect();\n",
       "        }}\n",
       "}});\n",
       "\n",
       "// Listen for the removal of the full notebook cells\n",
       "var notebookContainer = gd.closest('#notebook-container');\n",
       "if (notebookContainer) {{\n",
       "    x.observe(notebookContainer, {childList: true});\n",
       "}}\n",
       "\n",
       "// Listen for the clearing of the current output cell\n",
       "var outputEl = gd.closest('.output');\n",
       "if (outputEl) {{\n",
       "    x.observe(outputEl, {childList: true});\n",
       "}}\n",
       "\n",
       "                        })\n",
       "                };\n",
       "                });\n",
       "            </script>\n",
       "        </div>"
      ]
     },
     "metadata": {},
     "output_type": "display_data"
    }
   ],
   "source": [
    "a = per_query('Uniform8', ['FullScan', 'ProgressiveIndexQueryLimit', 'ProgressiveIndexTimeLimit', 'ProgressiveIndexBelow', 'CrackingKDTree'], 100)\n",
    "save_figure(a, 'over_interactive_threshold.pdf')\n",
    "a"
   ]
  },
  {
   "cell_type": "code",
   "execution_count": null,
   "metadata": {},
   "outputs": [],
   "source": []
  }
 ],
 "metadata": {
  "kernelspec": {
   "display_name": "Python 3",
   "language": "python",
   "name": "python3"
  },
  "language_info": {
   "codemirror_mode": {
    "name": "ipython",
    "version": 3
   },
   "file_extension": ".py",
   "mimetype": "text/x-python",
   "name": "python",
   "nbconvert_exporter": "python",
   "pygments_lexer": "ipython3",
   "version": "3.7.1"
  }
 },
 "nbformat": 4,
 "nbformat_minor": 4
}
