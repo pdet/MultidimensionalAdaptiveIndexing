{
 "cells": [
  {
   "cell_type": "code",
   "execution_count": 1,
   "metadata": {},
   "outputs": [],
   "source": [
    "import pandas as pd\n",
    "import matplotlib.pyplot as plt\n",
    "import plotly.graph_objects as go\n",
    "import numpy as np\n",
    "pd.set_option('display.max_rows', 1000)\n",
    "%matplotlib inline"
   ]
  },
  {
   "cell_type": "code",
   "execution_count": 387,
   "metadata": {},
   "outputs": [],
   "source": [
    "# Algorithms and Experiments defitions\n",
    "algorithms = {\n",
    "    'AverageKDTree': {\n",
    "        'name': 'average_kd_tree',\n",
    "        'color': 'red',\n",
    "        'dash': 'dash',\n",
    "        'show_name': 'AvgKD',\n",
    "        'type': 'full_index',\n",
    "        'alg_id': 'average_kd_tree-0.0-1024'\n",
    "    },\n",
    "    'MedianKDTree': {\n",
    "        'name': 'median_kd_tree',\n",
    "        'color': 'red',\n",
    "        'dash': 'solid',\n",
    "        'show_name': 'MedKD',\n",
    "        'type': 'full_index',\n",
    "        'alg_id': 'median_kd_tree-0.0-1024'\n",
    "    },\n",
    "    'CrackingKDTree': {\n",
    "        'name': 'cracking_kd_tree',\n",
    "        'color': 'green',\n",
    "        'dash': 'dash',\n",
    "        'show_name': 'AKD',\n",
    "        'type': 'adaptive',\n",
    "        'alg_id': 'cracking_kd_tree-0.0-1024'\n",
    "    },\n",
    "    'Quasii': {\n",
    "        'name': 'quasii',\n",
    "        'color': 'green',\n",
    "        'dash': 'solid',\n",
    "        'show_name': 'Q',\n",
    "        'type': 'adaptive',\n",
    "        'alg_id': 'quasii-0.0-1024'\n",
    "    },\n",
    "    'FullScan': {\n",
    "        'name': 'full_scan_cl',\n",
    "        'color': 'black',\n",
    "        'dash': 'dot',\n",
    "        'show_name': 'FS',\n",
    "        'type': 'full_index',\n",
    "        'partition': '0',\n",
    "        'alg_id': 'full_scan_cl-0.0-0'\n",
    "    },\n",
    "    'ProgressiveIndexCostModel': {\n",
    "        'name': 'progressive_index_cm',\n",
    "        'color': 'purple',\n",
    "        'dash': 'dash',\n",
    "        'show_name': 'GPKD(.2)',\n",
    "        'type': 'adaptive',\n",
    "        'delta': '0.2',\n",
    "        'alg_id': 'progressive_index_cm-0.2-1024'\n",
    "    },\n",
    "    'ProgressiveIndex': {\n",
    "        'name': 'progressive_index',\n",
    "        'color': 'purple',\n",
    "        'dash': 'solid',\n",
    "        'show_name': 'PKD(.2)',\n",
    "        'type': 'adaptive',\n",
    "        'delta': '0.2',\n",
    "        'alg_id': 'progressive_index-0.2-1024'\n",
    "    }\n",
    "}\n",
    "\n",
    "deltas = [0.1, 0.2, 0.3, 0.4, 0.5, 0.6, 0.7, 0.8, 0.9, 1]\n",
    "\n",
    "for i in deltas:\n",
    "    # For the delta experiment\n",
    "    temp = {\n",
    "        f'ProgressiveIndexCostModel_{i}': {\n",
    "            'name': 'progressive_index_cm',\n",
    "            'color': '',\n",
    "            'dash': 'solid',\n",
    "            'marker': 'x',\n",
    "            'show_name': f'GPKD({i})',\n",
    "            'type': 'adaptive',\n",
    "            'delta': f'{i}',\n",
    "            'alg_id': f'progressive_index_cm-{i}-1024'\n",
    "        },\n",
    "        f'ProgressiveIndex_{i}': {\n",
    "            'name': 'progressive_index',\n",
    "            'color': '',\n",
    "            'dash': 'solid',\n",
    "            'marker': 'x-open',\n",
    "            'show_name': f'PKD({i})',\n",
    "            'type': 'adaptive',\n",
    "            'delta': f'{i}',\n",
    "            'alg_id': f'progressive_index-{i}-1024'\n",
    "        }\n",
    "    }\n",
    "    algorithms = {**algorithms, **temp}\n",
    "\n",
    "# Synthetic Experiments\n",
    "synthetic_experiments = {}\n",
    "\n",
    "for i in [2, 4, 5, 6, 7, 8, 16]:\n",
    "    temp = {\n",
    "        f'Uniform{i}': {\n",
    "            \"name\": f\"Unif({i})\",\n",
    "            'n_rows': '10000000',\n",
    "            'n_queries': '3000',\n",
    "            'n_cols': f'{i}',\n",
    "            'sel': '0.01',\n",
    "            'base_folder': 'synthetic_workloads/results',\n",
    "            'exp_id': f'uniform-30000000-1000-{i}-0.01'\n",
    "        },\n",
    "        f'Skewed{i}': {\n",
    "            \"name\": f\"Skewed({i})\",\n",
    "            'n_rows': '10000000',\n",
    "            'n_queries': '3000',\n",
    "            'n_cols': f'{i}',\n",
    "            'sel': '0.01',\n",
    "            'base_folder': 'synthetic_workloads/results',\n",
    "            'exp_id': f'skewed-30000000-1000-{i}-0.01'\n",
    "        },\n",
    "        f'Sequential{i}': {\n",
    "            \"name\": f\"Seq ({i})\",\n",
    "            'n_rows': '10000000',\n",
    "            'n_queries': '3000',\n",
    "            'n_cols': f'{i}',\n",
    "            'sel': '0.01',\n",
    "            'base_folder': 'synthetic_workloads/results',\n",
    "            'exp_id': f'sequential-30000000-1000-{i}-0.01'\n",
    "        },\n",
    "        f'Periodic{i}': {\n",
    "            \"name\": f\"Prdc({i})\",\n",
    "            'n_rows': '10000000',\n",
    "            'n_queries': '3000',\n",
    "            'n_cols': f'{i}',\n",
    "            'sel': '0.01',\n",
    "            'base_folder': 'synthetic_workloads/results',\n",
    "            'exp_id': f'periodic-30000000-1000-{i}-0.01'\n",
    "        },\n",
    "        f'ZoomIn{i}': {\n",
    "            \"name\": f\"Zoom({i})\",\n",
    "            'n_rows': '10000000',\n",
    "            'n_queries': '3000',\n",
    "            'n_cols': f'{i}',\n",
    "            'sel': '0.01',\n",
    "            'base_folder': 'synthetic_workloads/results',\n",
    "            'exp_id': f'zoom_in-30000000-1000-{i}-0.01'\n",
    "        },\n",
    "        f'SequentialZoomIn{i}': {\n",
    "            \"name\": f\"SeqZoom({i})\",\n",
    "            'n_rows': '10000000',\n",
    "            'n_queries': '3000',\n",
    "            'n_cols': f'{i}',\n",
    "            'sel': '0.01',\n",
    "            'base_folder': 'synthetic_workloads/results',\n",
    "            'exp_id': f'sequential_zoom_in-30000000-1000-{i}-0.01'\n",
    "        },\n",
    "        f'AlternatingZoomIn{i}': {\n",
    "            \"name\": f\"AltZoom({i})\",\n",
    "            'n_rows': '10000000',\n",
    "            'n_queries': '3000',\n",
    "            'n_cols': f'{i}',\n",
    "            'sel': '0.01',\n",
    "            'base_folder': 'synthetic_workloads/results',\n",
    "            'exp_id': f'alternating_zoom_in-30000000-1000-{i}-0.01'\n",
    "        },\n",
    "        f'Shifting{i}': {\n",
    "            \"name\": f\"Shift({i})\",\n",
    "            'n_cols': f'{i}'\n",
    "        }\n",
    "    }\n",
    "    \n",
    "    synthetic_experiments = {**synthetic_experiments, **temp}\n",
    "\n",
    "# Extra experiments\n",
    "synthetic_experiments['Uniform6_50']= {\n",
    "            \"name\": f\"Unif6(50% sel per attribute)\",\n",
    "            'n_rows': '10000000',\n",
    "            'n_queries': '3000',\n",
    "            'n_cols': '6',\n",
    "            'sel': '0.01',\n",
    "            'base_folder': 'synthetic_workloads/results',\n",
    "            'exp_id': f'uniform-30000000-1000-6-0.015625'\n",
    "        }\n",
    "synthetic_experiments['Uniform7_50']= {\n",
    "            \"name\": f\"Unif7(50% sel per attribute)\",\n",
    "            'n_rows': '10000000',\n",
    "            'n_queries': '3000',\n",
    "            'n_cols': '7',\n",
    "            'sel': '0.01',\n",
    "            'base_folder': 'synthetic_workloads/results',\n",
    "            'exp_id': f'uniform-30000000-1000-7-0.007812'\n",
    "        }\n",
    "    \n",
    "# Real World Experiments\n",
    "real_world_experiments = {\n",
    "    'Power': {\n",
    "        'name': 'Power',\n",
    "        'n_rows': '10000000',\n",
    "        'n_queries': '3000',\n",
    "        'n_cols': '',\n",
    "        'sel': '0.0',\n",
    "        'base_folder': 'real-data-workload/results',\n",
    "        'exp_id': 'power-10000000-3000-0.0'\n",
    "    },\n",
    "    'Skyserver': {\n",
    "        'name': 'Skyserver',\n",
    "        'n_rows': '10000000',\n",
    "        'n_queries': '3000',\n",
    "        'n_cols': '',\n",
    "        'sel': '0.0',\n",
    "        'base_folder': 'real-data-workload/results',\n",
    "        'exp_id': 'skyserver-0-0-0.0'\n",
    "    },\n",
    "    'Genomics Mixed': {\n",
    "        'name': f'Genomics',\n",
    "        'n_rows': '10000000',\n",
    "        'n_queries': '3000',\n",
    "        'n_cols': '',\n",
    "        'sel': '0.0',\n",
    "        'base_folder': 'real-data-workload/results',\n",
    "        'exp_id': f'genomics_query_{8}-10000000-3000-0.0'\n",
    "    }\n",
    "}\n",
    "\n",
    "for i in range(8):\n",
    "    real_world_experiments[f'Genomics{i}'] = {\n",
    "        'name': f'genomics{i}',\n",
    "        'n_rows': '10000000',\n",
    "        'n_queries': '3000',\n",
    "        'n_cols': '',\n",
    "        'sel': '0.0',\n",
    "        'base_folder': 'real-data-workload/results',\n",
    "        'exp_id': f'genomics_query_{i}-10000000-3000-0.0'\n",
    "    }\n",
    "\n",
    "experiments = {**synthetic_experiments, **real_world_experiments}"
   ]
  },
  {
   "cell_type": "code",
   "execution_count": 388,
   "metadata": {},
   "outputs": [],
   "source": [
    "# Input/Output\n",
    "def read(alg, exp):\n",
    "    if exp.startswith('Shifting'):\n",
    "        n_queries_per_run = 10\n",
    "        uni = read(alg, 'Uniform' + experiments[exp]['n_cols'])\n",
    "        n_runs = int(len(uni)/n_queries_per_run) - 1\n",
    "        df_final = uni.head(n_queries_per_run)\n",
    "        for _ in range(int(n_runs)):\n",
    "            temp = uni.head(n_queries_per_run).copy()\n",
    "            df_final = df_final.append(temp, ignore_index=True)\n",
    "    else:\n",
    "        df = pd.read_csv(f\"{experiments[exp]['base_folder']}/{algorithms[alg]['alg_id']}-{experiments[exp]['exp_id']}.csv\")\n",
    "        repetitions = df['repetition'].max() + 1\n",
    "        step = int(len(df.index)/repetitions)\n",
    "        df_final = df[:step].copy().reset_index()\n",
    "        for rep in range(1, repetitions):\n",
    "            df_final += df[step * (rep) : step * (rep + 1)].copy().reset_index()\n",
    "\n",
    "        df_final = df_final/repetitions\n",
    "    \n",
    "    if 'index_search_time' not in df_final:\n",
    "        df_final['index_search_time'] = 0.0\n",
    "    if 'tuples_scanned' not in df_final:\n",
    "        df_final['tuples_scanned'] = 0.0\n",
    "    if 'number_of_nodes' not in df_final:\n",
    "        df_final['number_of_nodes'] = 0.0\n",
    "    df_final['query_time'] = df_final['initialization_time'] + df_final['index_search_time'] + df_final['scan_time'] + df_final['adaptation_time']\n",
    "    df_final['query_time_cumsum'] = df_final['query_time'].cumsum()\n",
    "    return df_final\n",
    "\n",
    "                     \n",
    "def read_multiple(algs, exp):\n",
    "    ''' Reads multiple algorithms in an experiment, return three arrays: dfs, colors, names\n",
    "    '''\n",
    "    dfs = []\n",
    "    colors = []\n",
    "    names = []\n",
    "    dashes = []\n",
    "    for alg in algs:\n",
    "        dfs.append(read(alg, exp))\n",
    "        names.append(algorithms[alg]['show_name'])\n",
    "        colors.append(algorithms[alg]['color'])\n",
    "        dashes.append(algorithms[alg]['dash'])\n",
    "    \n",
    "    return dfs, colors, dashes, names,\n",
    "\n",
    "                     \n",
    "def save_figure(fig, fig_name):\n",
    "    fig.write_image(f\"figures/{fig_name}\", width=1024, height=768)\n",
    "                     \n",
    "def save_table(table, table_name):\n",
    "    with open(f\"tables/{table_name}\", 'w') as f:\n",
    "        f.write(table)"
   ]
  },
  {
   "cell_type": "code",
   "execution_count": 389,
   "metadata": {},
   "outputs": [],
   "source": [
    "# Helper methods\n",
    "def get_first_query(df):\n",
    "    return df['query_time'].iloc[0]\n",
    "\n",
    "def get_payoff(df, baseline):\n",
    "    p = [i for i, x in enumerate(df['query_time_cumsum'] - (baseline['query_time_cumsum'])) if x > 0]\n",
    "    if len(p) == 0:\n",
    "        return len(df)\n",
    "    return p[-1]\n",
    "\n",
    "def get_convergence(df, df_type=''):\n",
    "    if df_type == 'full_index':\n",
    "        return 0\n",
    "    c = [i for i, x in enumerate(df['adaptation_time']) if x != 0.0]\n",
    "    if(len(c) == 0):\n",
    "        return len(c)\n",
    "    else:\n",
    "        return c[-1]\n",
    "\n",
    "def get_robustness(df, df_type=''):\n",
    "    if df_type == 'full_index':\n",
    "        return 0\n",
    "    return np.var(df['query_time'][:min(50, get_convergence(df, df_type))])\n",
    "\n",
    "def get_total_time(df, lower=0, upper=-1):\n",
    "    return df['query_time'][lower:upper].sum()"
   ]
  },
  {
   "cell_type": "code",
   "execution_count": 390,
   "metadata": {},
   "outputs": [],
   "source": [
    "# Figures\n",
    "\n",
    "delta_cols = [2, 4, 5, 6, 7, 8]\n",
    "delta_markers = ['circle', 'square', 'x', 'star', 'triangle-up', 'diamond']\n",
    "\n",
    "def create_figure(data=[]):\n",
    "    return go.Figure(\n",
    "        data=data,\n",
    "        layout=go.Layout(\n",
    "#             width=1500,\n",
    "            plot_bgcolor='rgba(0,0,0,0)',\n",
    "            font=dict(\n",
    "                size=42\n",
    "            ),\n",
    "            yaxis=dict(\n",
    "                showline=True,\n",
    "                linewidth=2,\n",
    "                linecolor='black',\n",
    "                showgrid=True,\n",
    "                gridwidth=1,\n",
    "                gridcolor='lightgrey',\n",
    "                zeroline=True,\n",
    "                ticks=\"inside\",\n",
    "                ticklen=5\n",
    "            ),\n",
    "            xaxis=dict(\n",
    "                showline=True,\n",
    "                linewidth=2,\n",
    "                linecolor='black',\n",
    "                ticks='inside',\n",
    "                zeroline=True,\n",
    "                ticklen=5\n",
    "            ),\n",
    "            legend=dict(\n",
    "                font=dict(\n",
    "                    size=30,\n",
    "                    color=\"black\"\n",
    "                )\n",
    "            )\n",
    "        )\n",
    "    )\n",
    "\n",
    "# def delta_exp_total_time():\n",
    "#     fig = create_figure()\n",
    "\n",
    "#     cols = delta_cols\n",
    "#     markers = delta_markers\n",
    "\n",
    "#     lines = []\n",
    "\n",
    "#     for i, marker in zip(cols, markers):\n",
    "#         fq_times = []\n",
    "#         for d in deltas:\n",
    "#             fq_times.append(get_total_time(read(f'ProgressiveIndex_{d}', f'Uniform{i}')))\n",
    "#         lines.append(\n",
    "#             go.Scatter(\n",
    "#                 name=f'{i} cols',\n",
    "#                 x=deltas,\n",
    "#                 y=fq_times,\n",
    "#                 mode='lines+markers',\n",
    "#                 marker=dict(\n",
    "#                     size=18,\n",
    "#                     symbol=marker\n",
    "#                 )\n",
    "#             )\n",
    "#         )\n",
    "\n",
    "#     fig.add_traces(data=lines)\n",
    "#     fig.update_layout(showlegend=True, yaxis_title='Total Response Time [s]', xaxis_title='Delta')\n",
    "#     fig.update_xaxes(tickangle=45)\n",
    "#     return fig\n",
    "\n",
    "# def delta_exp_robustness():\n",
    "#     fig = create_figure()\n",
    "\n",
    "#     cols = delta_cols\n",
    "#     markers = delta_markers\n",
    "\n",
    "#     lines = []\n",
    "\n",
    "#     for i, marker in zip(cols, markers):\n",
    "#         fq_times = []\n",
    "#         for d in deltas:\n",
    "#             fq_times.append(get_robustness(read(f'ProgressiveIndex_{d}', f'Uniform{i}')))\n",
    "#         lines.append(\n",
    "#             go.Scatter(\n",
    "#                 name=f'{i} cols',\n",
    "#                 x=deltas,\n",
    "#                 y=fq_times,\n",
    "#                 mode='lines+markers',\n",
    "#                 marker=dict(\n",
    "#                     size=18,\n",
    "#                     symbol=marker\n",
    "#                 )\n",
    "#             )\n",
    "#         )\n",
    "\n",
    "#     fig.add_traces(data=lines)\n",
    "#     fig.update_layout(showlegend=True, yaxis_title='Robustness', xaxis_title='Delta')\n",
    "#     fig.update_xaxes(tickangle=45)\n",
    "#     return fig\n",
    "\n",
    "def line(exp, algs, attr, limit=2000):\n",
    "    dfs, colors, dashes, names = read_multiple(algs, exp)\n",
    "    fig = create_figure()\n",
    "    \n",
    "    lines = []\n",
    "    \n",
    "    biggest = 0\n",
    "    \n",
    "    for i, df in enumerate(dfs):\n",
    "        per_query_times = np.array(df[attr][:limit])\n",
    "        if biggest < np.max(per_query_times):\n",
    "            biggest = np.max(per_query_times)\n",
    "        lines.append(\n",
    "            go.Scatter(\n",
    "                name=names[i],\n",
    "                x=list(range(len(per_query_times))),\n",
    "                y=per_query_times,\n",
    "#                 marker_color=colors[i],\n",
    "                mode='lines',\n",
    "                line=dict(width=4, dash=dashes[i])\n",
    "            )\n",
    "        )\n",
    "    \n",
    "    fig.add_traces(data=lines)\n",
    "    fig.update_layout(showlegend=True, yaxis_title=attr)\n",
    "    return fig\n",
    "\n",
    "def workload_selectivity(exp):\n",
    "    fig = create_figure()\n",
    "    df = read('FullScan', exp)\n",
    "    sel = ((df['tuples_scanned']/df['scan_overhead'])/df['tuples_scanned']) * 100\n",
    "    \n",
    "    fig.add_traces(\n",
    "        data=go.Scatter(\n",
    "            name='selectivity',\n",
    "            x=list(range(len(sel))),\n",
    "            y=sel,\n",
    "            mode='lines',\n",
    "            line=dict(width=4)\n",
    "        )\n",
    "    )\n",
    "    fig.update_layout(showlegend=True, yaxis_title='Selectivity (%)')\n",
    "    return fig\n",
    "\n",
    "\n",
    "def per_query(exp, algs, limit=1000):\n",
    "    dfs, colors, dashes, names = read_multiple(algs, exp)\n",
    "    fig = create_figure()\n",
    "    \n",
    "    lines = []\n",
    "    \n",
    "    biggest = 0\n",
    "    \n",
    "    for i, df in enumerate(dfs):\n",
    "        alg = algs[i]\n",
    "        per_query_times = np.array(df['query_time'][:limit]) * 1000\n",
    "        if biggest < np.max(per_query_times):\n",
    "            biggest = np.max(per_query_times)\n",
    "        lines.append(\n",
    "            go.Scatter(\n",
    "                name=names[i],\n",
    "                x=list(range(len(per_query_times))),\n",
    "                y=per_query_times,\n",
    "                marker_color=colors[i],\n",
    "                mode='lines',\n",
    "                line=dict(width=4, dash=dashes[i])\n",
    "            )\n",
    "        )\n",
    "\n",
    "    fig.add_traces(data=lines)\n",
    "    fig.update_layout(showlegend=True, yaxis_title='Time (milliseconds)')\n",
    "    fig.update_layout(legend_orientation=\"h\", legend=dict(x=.25, y=1.2))\n",
    "    fig.update_yaxes(type=\"log\")\n",
    "    return fig\n",
    "\n",
    "def cummulative(exp, algs, limit=5000):\n",
    "    dfs, colors, dashes, names = read_multiple(algs, exp)\n",
    "    fig = create_figure()\n",
    "    \n",
    "    lines = []\n",
    "    \n",
    "    biggest = 0\n",
    "    \n",
    "    for i, df in enumerate(dfs):\n",
    "        alg = algs[i]\n",
    "        per_query_times = np.array(df['query_time_cumsum'][:limit])\n",
    "        lines.append(\n",
    "            go.Scatter(\n",
    "                name=names[i],\n",
    "                x=list(range(len(per_query_times))),\n",
    "                y=per_query_times,\n",
    "                marker_color=colors[i],\n",
    "                mode='lines',\n",
    "                line=dict(width=4, dash=dashes[i])\n",
    "            )\n",
    "        )\n",
    "    \n",
    "    fig.add_traces(data=lines)\n",
    "    fig.update_layout(legend_orientation=\"h\", legend=dict(x=.25, y=1.2))\n",
    "    fig.update_layout(showlegend=True, yaxis_title='Time (Seconds)')\n",
    "    return fig\n",
    "\n",
    "def number_of_nodes(exp, algs, limit=5000):\n",
    "    dfs, colors, dashes, names = read_multiple(algs, exp)\n",
    "    fig = create_figure()\n",
    "    \n",
    "    lines = []\n",
    "    \n",
    "    biggest = 0\n",
    "    \n",
    "    for i, df in enumerate(dfs):\n",
    "        per_query_times = np.array(df['number_of_nodes'][:limit])\n",
    "        if biggest < np.max(per_query_times):\n",
    "            biggest = np.max(per_query_times)\n",
    "        lines.append(\n",
    "            go.Scatter(\n",
    "                name=names[i],\n",
    "                x=list(range(len(per_query_times))),\n",
    "                y=per_query_times,\n",
    "                marker_color=colors[i],\n",
    "                mode='lines',\n",
    "                line=dict(width=4, dash=dashes[i])\n",
    "            )\n",
    "        )\n",
    "    \n",
    "    fig.add_traces(data=lines)\n",
    "    fig.update_layout(legend_orientation=\"h\", legend=dict(x=.25, y=1.2))\n",
    "    fig.update_layout(showlegend=True, yaxis_title='# Nodes')\n",
    "    return fig\n",
    "\n",
    "def tuples_scanned(exp, algs, limit=5000):\n",
    "    dfs, colors, dashes, names = read_multiple(algs, exp)\n",
    "    fig = create_figure()\n",
    "    \n",
    "    lines = []\n",
    "    \n",
    "    \n",
    "    for i, df in enumerate(dfs):\n",
    "        per_query_times = np.array(df['tuples_scanned'][:limit])\n",
    "        lines.append(\n",
    "            go.Scatter(\n",
    "                name=names[i],\n",
    "                x=list(range(len(per_query_times))),\n",
    "                y=per_query_times,\n",
    "                marker_color=colors[i],\n",
    "                mode='lines',\n",
    "                line=dict(width=4, dash=dashes[i])\n",
    "            )\n",
    "        )\n",
    "    \n",
    "    fig.add_traces(data=lines)\n",
    "    fig.update_layout(legend_orientation=\"h\", legend=dict(x=.25, y=1.2))\n",
    "    fig.update_layout(showlegend=True, yaxis_title='Tuples Scanned')\n",
    "    return fig\n",
    "\n",
    "def break_down(exp, algs, limit):\n",
    "    dfs, _, _, names = read_multiple(algs, exp)\n",
    "    initializations = np.array([x['initialization_time'][:limit].sum() for x in dfs])\n",
    "    adaptation = np.array([x['adaptation_time'][:limit].sum() for x in dfs])\n",
    "    search = np.array([x['index_search_time'][:limit].sum() for x in dfs])\n",
    "    scan = np.array([x['scan_time'][:limit].sum() for x in dfs])\n",
    "    \n",
    "#     fig = create_figure(data=[\n",
    "#         go.Bar(name='Initialization', x=names, y=initializations, marker_color='rgb(176, 201, 146)'),\n",
    "#         go.Bar(name='Adaptation', x=names, y=adaptation, marker_color='rgb(195, 114, 28)'),\n",
    "#         go.Bar(name='Index Search', x=names, y=search, marker_color='rgb(197, 255, 114)'),\n",
    "#         go.Bar(name='Scan', x=names, y=scan, marker_color='rgb(237, 218, 123)'),\n",
    "#     ])\n",
    "\n",
    "    fig = create_figure(data=[\n",
    "        go.Bar(name='Initialization', x=names, y=initializations),\n",
    "        go.Bar(name='Adaptation', x=names, y=adaptation),\n",
    "        go.Bar(name='Index Search', x=names, y=search),\n",
    "        go.Bar(name='Scan', x=names, y=scan),\n",
    "    ])\n",
    "    \n",
    "    # Change the bar mode\n",
    "    fig.update_layout(barmode='stack')\n",
    "    fig.update_layout(legend_orientation=\"h\", legend=dict(x=.25, y=1.2))\n",
    "    fig.update_layout(yaxis_title='Time (seconds)')\n",
    "    return fig"
   ]
  },
  {
   "cell_type": "code",
   "execution_count": 391,
   "metadata": {},
   "outputs": [],
   "source": [
    "# Latex Tables\n",
    "\n",
    "def pandas_to_latex(df, highlight='min', ignore_last=False, float_format=\"%.2f\"):\n",
    "    mins = []\n",
    "    maxs = []\n",
    "    for i in range(len(df)):\n",
    "        row = df.iloc[i]\n",
    "        c_min = float('inf')\n",
    "        c_max = -float('inf')\n",
    "        if ignore_last:\n",
    "            length = len(row) - 1\n",
    "        else:\n",
    "            length = len(row)\n",
    "        for j in range(length):\n",
    "            if row[j] == '-' or row[j] == '*':\n",
    "                continue\n",
    "            if c_min > float(row[j]):\n",
    "                c_min = float(row[j])\n",
    "            if c_max < float(row[j]):\n",
    "                c_max = float(row[j])\n",
    "        mins.append(c_min)\n",
    "        maxs.append(c_max)\n",
    "    \n",
    "    for i in range(len(df)):\n",
    "        row = df.iloc[i]\n",
    "        for j in range(len(row)):\n",
    "            if row[j] == '-' or row[j] == '*':\n",
    "                continue\n",
    "            if highlight == 'min':\n",
    "                if float(row[j]) == mins[i]:\n",
    "                    row[j] = \"\\cellcolor{green!25}\" + (float_format % float(row[j]))\n",
    "                else:\n",
    "                    row[j] = float_format % float(row[j])\n",
    "            if highlight == 'max':\n",
    "                if float(row[j]) == maxs[i]:\n",
    "                    row[j] = \"\\cellcolor{green!25}\" + (float_format % float(row[j]))\n",
    "                else:\n",
    "                    row[j] = float_format % float(row[j])\n",
    "    \n",
    "    return df.to_latex(multicolumn=True, multirow=True, escape=False)\n",
    "\n",
    "def metrics(exps, algs):\n",
    "    '''\n",
    "    ||||||||||||Algorithm 1| Algorithm 2|...\n",
    "    First Query|   1.11.   |     15.    |...\n",
    "    ...\n",
    "    '''\n",
    "    data = {}\n",
    "\n",
    "    # create indexes\n",
    "    index_exp = []\n",
    "    index_metric = []\n",
    "    \n",
    "    \n",
    "    metrics = ['First Query', 'PayOff', 'Convergence', 'Robustness', 'Time']\n",
    "\n",
    "    \n",
    "    for exp in exps:\n",
    "        dfs, _, _, names = read_multiple(algs, exp)\n",
    "        \n",
    "        # initialize the data dict with empty arrays for each algorithm\n",
    "        for name in names:\n",
    "            if name not in data:\n",
    "                data[name] = []\n",
    "\n",
    "        baseline = read('FullScan', exp)\n",
    "\n",
    "        index_exp += [experiments[exp]['name']] * len(metrics)\n",
    "        index_metric += metrics\n",
    "        \n",
    "        for df, name, alg in zip(dfs, names, algs):\n",
    "            data[name].append('%.2f' % get_first_query(df))\n",
    "            po = get_payoff(df, baseline)\n",
    "            if po == len(df):\n",
    "                data[name].append('-')\n",
    "            else:\n",
    "                data[name].append(po)\n",
    "            conv = get_convergence(df, algorithms[alg]['type'])\n",
    "            if conv == 0:\n",
    "                data[name].append('-')\n",
    "            elif conv >= len(df)-1:\n",
    "                data[name].append('*')\n",
    "            else:\n",
    "                data[name].append(conv)\n",
    "            \n",
    "            robust = get_robustness(df, algorithms[alg]['type'])\n",
    "            if robust == 0:\n",
    "                data[name].append('-') \n",
    "            else:\n",
    "                data[name].append('%.E' % robust)\n",
    "            \n",
    "            \n",
    "            data[name].append('%.2f' %get_total_time(df))\n",
    "\n",
    "    index = [index_exp, index_metric]\n",
    "    df = pd.DataFrame(data, index=index)\n",
    "\n",
    "    return df\n",
    "    \n",
    "    latex = df.to_latex(multicolumn=True, multirow=True)\n",
    "\n",
    "    for exp in exps:\n",
    "        latex = latex.replace(exp, \"\\\\rotatebox[origin=c]{90}{%s}\" % exp)\n",
    "    return latex"
   ]
  },
  {
   "cell_type": "markdown",
   "metadata": {},
   "source": [
    "# Analysis of results\n",
    "\n",
    "## Workloads\n",
    "In our experiments we used the following workloads:\n",
    "\n",
    "* Synthetic: synthetically generated data and queries. The data is always uniformly distributed, and the workloads follow the patterns described in Figure \\ref{}.\n",
    "* Power: Real world sensor data from a manufacturing installation \\cite{}. The workload is synthetically generated by selecting two random points for each attribute.\n",
    "* Genomics: Human genetic informatiom from the 1000 Genomes Project \\cite{}. The data consists of 10 million genomes, and the workload is randomly selected from 8 query templates designed by a group of Bioinformaticians.\n",
    "* Skyserver: The data represents a map of a large portion of the universe. The workload consists of two-dimensional range queries used on their platform.\n",
    "\n",
    "## Synthetic workloads description\n",
    "Here we briefly describe each synthetic workload pattern we created. The patterns were derived from \\cite{} and expanded to a multidimensional domain. Figure \\ref{} presents a two-dimensional view of each workload, with a color scale representing the order of the queries (blue being the beginning of the workload, and red the end). Unless stated, all queries have the same selectivity. The proposed patterns are:\n",
    "\n",
    "* Uniform: Uniform distributed multidimensional range queries.\n",
    "* Skewed: Skewed multidimensional range queries generated using a Normal distribution. The majority of queries will be in the center, while some will tend towards the edges.\n",
    "* Zoom In: A zoom pattern, where each query is enterelly contained inside the previous one. On this workload the query selectivity decreases with time.\n",
    "* Sequential: In this patter each query has no intersection with any other query on any of their attributes. Which means, the queries will follow one of the diagonals.\n",
    "* Periodic: This pattern follows the same concept of Sequential, with all but one attribute having no intersection with the other queries. Another point is that the sequence is repeated multiple times, but on different parts of the data.\n",
    "* Sequential Zoom In: Follows the same pattern as Sequential, with the addition that in every step there is also a zoom in operation. The query selecitivy is the same for every major step, but decreases during zoom in.\n",
    "* Alternating Zoom In: Follows the same pattern as Zoom In. However, the zoom operation happens on two separated locations. With queries alternating between each zoom. In this pattern the query selectivity also decreases during the zoom.\n",
    "* Shifting: Altough not in the picture, this pattern simulates a data scientist quickly exploring multiple tables. For example, the data scientist executes ten queries on one table, is not satisfied with the results and move on to the second table. The same process happens on the second table, and so on.\n",
    "\n",
    "This will be a table.\n",
    "* Synthetic: 30 M rows, 8 columns, 1000 queries\n",
    "    * Sequential: Has only 2 columns, as if we have a uniform data distribution, and 1% query selectivity, then using 8 columns the per attribute selectivity is around 56% (0.01 ^ (1/8)). While with two attributes the per attribute selectivity is around 10% (0.01 ^ (1/2)).\n",
    "* Power: 10 M rows, 2 columns, 3000 queries\n",
    "* Genomics Mixed: 10 M rows, 19 columns, 100 queries (same queries as in the paper Multidimensional Range Queries on Modern Hardware).\n",
    "* Skyserver: 69 M rows, 2 columns, 100 K queries\n",
    "\n",
    "All algorithms had 1024 maximum partition size\n",
    "Progressive Index delta was 0.2\n",
    "\n",
    "\n",
    "\n",
    "\n",
    "## Algorithms\n",
    "To test our algorithms we executed and compared the following algorithms on the benchmarks we described before. Inside the parenthesis the abbreviations we used in our figures and tables.\n",
    "\n",
    "* Average KDTree (AvgKD): Full Index KDTree where each level contains only one dimension, and the pivots are collected using average.\n",
    "* Median KDTree (MedKD): Full Index KDTree where each level contains only one dimension, and the pivots are collected using median.\n",
    "* Adaptive KDTree (AKD): Our first proposed algorithm, which aims towards low total response time.\n",
    "* Progressive KDTree (PKD): Our second proposed algorithm, which aims towards smaller payoff.\n",
    "* Adaptive Progressive KDTree (APKD): Our third proposed algorithm, which aims towards high robustness.\n",
    "* Quasii (Q): The state of the art on multidimensional adaptive indexes.\n"
   ]
  },
  {
   "cell_type": "code",
   "execution_count": 392,
   "metadata": {},
   "outputs": [],
   "source": [
    "# a = delta_exp_total_time()\n",
    "# a.update_layout(yaxis=dict(\n",
    "#         type='log',\n",
    "#         tickmode = 'linear',\n",
    "#         tick0 = 0.0,\n",
    "#         dtick = 1\n",
    "#     ))\n",
    "# a.update_layout(\n",
    "#     xaxis=dict(\n",
    "#         tickmode = 'linear',\n",
    "#         tick0 = 0.0,\n",
    "#         dtick = 0.1\n",
    "#     ),\n",
    "#     shapes=[\n",
    "#         dict(\n",
    "#             type= 'line',\n",
    "#             yref=\"paper\", y0= 0, y1=1,\n",
    "#             x0= 0.2, x1=0.2,\n",
    "#             opacity=0.2\n",
    "#         )\n",
    "#     ]\n",
    "# )\n",
    "# save_figure(a, 'delta_exp_total_time.pdf')\n",
    "# a"
   ]
  },
  {
   "cell_type": "code",
   "execution_count": 393,
   "metadata": {
    "scrolled": false
   },
   "outputs": [],
   "source": [
    "exps = ['Uniform8', 'Skewed8', 'ZoomIn8', 'Periodic8', 'SequentialZoomIn8', 'AlternatingZoomIn8', 'Shifting8', 'Sequential2', 'Power', 'Genomics Mixed', 'Skyserver']\n",
    "# exps = ['Uniform2', 'Uniform4', 'Uniform8']\n",
    "m = metrics(exps, [\n",
    "        'MedianKDTree',\n",
    "        'AverageKDTree',\n",
    "        'Quasii',\n",
    "        'CrackingKDTree',\n",
    "        'ProgressiveIndex',\n",
    "        'ProgressiveIndexCostModel',\n",
    "        'FullScan',\n",
    "])\n",
    "# save_table(m, 'power')"
   ]
  },
  {
   "cell_type": "markdown",
   "metadata": {},
   "source": [
    "# Comparison\n",
    "In this section we compare all mentioned indexes on the following benchmarks: Uniform, Skewed, Zoom In, Periodic, Sequential Zoom In, Alternating Zoom In, and Shifting all with eight attributes; Sequential with two attributes; And the real world benchmarks Power, Genomics, and Skyserver.\n",
    "\n",
    "We choose to use eight attributes (besides on Sequential benchmark), 30 millions tuples, and 1% query selectivity because scanning the data took more than 500 ms (interactive threshold). Sequential only has two attributes because of the per attribute selectivity, with eight attributes the per attribute selectivity is around 56% (0.56 ^ 8 around 0.01), which in turn makes it impossible to have two queries with no intersection.\n",
    "\n",
    "For the Genomics Benchmark we used only the workload pattern which uses all templates, as they end up using every attribute in the dataset. The original benchmark had workloads which would only touch certain attributes, however these workloads would heavily penalize Quasii, as it is never described how to handle queries on only a subset of attributes of a table."
   ]
  },
  {
   "cell_type": "markdown",
   "metadata": {},
   "source": [
    "# First Query Analysis\n",
    "We start by analyzing the response time for the first query. This is the time to copy the table to a secondary table structure, build the index or adapt with the first query, and then answer the query."
   ]
  },
  {
   "cell_type": "code",
   "execution_count": 394,
   "metadata": {},
   "outputs": [
    {
     "name": "stdout",
     "output_type": "stream",
     "text": [
      "\\begin{tabular}{llllllll}\n",
      "\\toprule\n",
      "{} &  MedKD & AvgKD &     Q &   AKD &                   PKD(.2) &                  GPKD(.2) &    FS \\\\\n",
      "\\midrule\n",
      "Unif(8)    &  11.16 &  7.07 &  2.90 &  1.73 &                      0.82 &  \\cellcolor{green!25}0.81 &  0.56 \\\\\n",
      "Skewed(8)  &  11.17 &  7.07 &  3.75 &  2.11 &  \\cellcolor{green!25}0.74 &  \\cellcolor{green!25}0.74 &  0.50 \\\\\n",
      "Zoom(8)    &  11.35 &  7.25 &  3.50 &  1.96 &  \\cellcolor{green!25}0.77 &  \\cellcolor{green!25}0.77 &  0.52 \\\\\n",
      "Prdc(8)    &  11.17 &  7.05 &  5.00 &  4.19 &                      0.59 &  \\cellcolor{green!25}0.57 &  0.38 \\\\\n",
      "SeqZoom(8) &  11.16 &  7.06 &  3.01 &  1.76 &                      0.83 &  \\cellcolor{green!25}0.81 &  0.56 \\\\\n",
      "AltZoom(8) &  11.13 &  7.04 &  4.99 &  4.19 &                      0.59 &  \\cellcolor{green!25}0.58 &  0.38 \\\\\n",
      "Shift(8)   &  11.16 &  7.07 &  2.90 &  1.73 &                      0.82 &  \\cellcolor{green!25}0.81 &  0.56 \\\\\n",
      "Seq (2)    &   8.83 &  4.72 &  2.47 &  0.48 &  \\cellcolor{green!25}0.18 &  \\cellcolor{green!25}0.18 &  0.14 \\\\\n",
      "Power      &   1.53 &  0.83 &  0.19 &  0.16 &  \\cellcolor{green!25}0.09 &  \\cellcolor{green!25}0.09 &  0.05 \\\\\n",
      "Genomics   &   2.57 &  2.61 &  2.71 &  1.45 &  \\cellcolor{green!25}0.27 &  \\cellcolor{green!25}0.27 &  0.04 \\\\\n",
      "Skyserver  &  14.47 &  6.97 &  1.17 &  0.62 &  \\cellcolor{green!25}0.35 &  \\cellcolor{green!25}0.35 &  0.23 \\\\\n",
      "\\bottomrule\n",
      "\\end{tabular}\n",
      "\n"
     ]
    },
    {
     "data": {
      "text/html": [
       "<div>\n",
       "<style scoped>\n",
       "    .dataframe tbody tr th:only-of-type {\n",
       "        vertical-align: middle;\n",
       "    }\n",
       "\n",
       "    .dataframe tbody tr th {\n",
       "        vertical-align: top;\n",
       "    }\n",
       "\n",
       "    .dataframe thead th {\n",
       "        text-align: right;\n",
       "    }\n",
       "</style>\n",
       "<table border=\"1\" class=\"dataframe\">\n",
       "  <thead>\n",
       "    <tr style=\"text-align: right;\">\n",
       "      <th></th>\n",
       "      <th>MedKD</th>\n",
       "      <th>AvgKD</th>\n",
       "      <th>Q</th>\n",
       "      <th>AKD</th>\n",
       "      <th>PKD(.2)</th>\n",
       "      <th>GPKD(.2)</th>\n",
       "      <th>FS</th>\n",
       "    </tr>\n",
       "  </thead>\n",
       "  <tbody>\n",
       "    <tr>\n",
       "      <td>Unif(8)</td>\n",
       "      <td>11.16</td>\n",
       "      <td>7.07</td>\n",
       "      <td>2.90</td>\n",
       "      <td>1.73</td>\n",
       "      <td>0.82</td>\n",
       "      <td>\\cellcolor{green!25}0.81</td>\n",
       "      <td>0.56</td>\n",
       "    </tr>\n",
       "    <tr>\n",
       "      <td>Skewed(8)</td>\n",
       "      <td>11.17</td>\n",
       "      <td>7.07</td>\n",
       "      <td>3.75</td>\n",
       "      <td>2.11</td>\n",
       "      <td>\\cellcolor{green!25}0.74</td>\n",
       "      <td>\\cellcolor{green!25}0.74</td>\n",
       "      <td>0.50</td>\n",
       "    </tr>\n",
       "    <tr>\n",
       "      <td>Zoom(8)</td>\n",
       "      <td>11.35</td>\n",
       "      <td>7.25</td>\n",
       "      <td>3.50</td>\n",
       "      <td>1.96</td>\n",
       "      <td>\\cellcolor{green!25}0.77</td>\n",
       "      <td>\\cellcolor{green!25}0.77</td>\n",
       "      <td>0.52</td>\n",
       "    </tr>\n",
       "    <tr>\n",
       "      <td>Prdc(8)</td>\n",
       "      <td>11.17</td>\n",
       "      <td>7.05</td>\n",
       "      <td>5.00</td>\n",
       "      <td>4.19</td>\n",
       "      <td>0.59</td>\n",
       "      <td>\\cellcolor{green!25}0.57</td>\n",
       "      <td>0.38</td>\n",
       "    </tr>\n",
       "    <tr>\n",
       "      <td>SeqZoom(8)</td>\n",
       "      <td>11.16</td>\n",
       "      <td>7.06</td>\n",
       "      <td>3.01</td>\n",
       "      <td>1.76</td>\n",
       "      <td>0.83</td>\n",
       "      <td>\\cellcolor{green!25}0.81</td>\n",
       "      <td>0.56</td>\n",
       "    </tr>\n",
       "    <tr>\n",
       "      <td>AltZoom(8)</td>\n",
       "      <td>11.13</td>\n",
       "      <td>7.04</td>\n",
       "      <td>4.99</td>\n",
       "      <td>4.19</td>\n",
       "      <td>0.59</td>\n",
       "      <td>\\cellcolor{green!25}0.58</td>\n",
       "      <td>0.38</td>\n",
       "    </tr>\n",
       "    <tr>\n",
       "      <td>Shift(8)</td>\n",
       "      <td>11.16</td>\n",
       "      <td>7.07</td>\n",
       "      <td>2.90</td>\n",
       "      <td>1.73</td>\n",
       "      <td>0.82</td>\n",
       "      <td>\\cellcolor{green!25}0.81</td>\n",
       "      <td>0.56</td>\n",
       "    </tr>\n",
       "    <tr>\n",
       "      <td>Seq (2)</td>\n",
       "      <td>8.83</td>\n",
       "      <td>4.72</td>\n",
       "      <td>2.47</td>\n",
       "      <td>0.48</td>\n",
       "      <td>\\cellcolor{green!25}0.18</td>\n",
       "      <td>\\cellcolor{green!25}0.18</td>\n",
       "      <td>0.14</td>\n",
       "    </tr>\n",
       "    <tr>\n",
       "      <td>Power</td>\n",
       "      <td>1.53</td>\n",
       "      <td>0.83</td>\n",
       "      <td>0.19</td>\n",
       "      <td>0.16</td>\n",
       "      <td>\\cellcolor{green!25}0.09</td>\n",
       "      <td>\\cellcolor{green!25}0.09</td>\n",
       "      <td>0.05</td>\n",
       "    </tr>\n",
       "    <tr>\n",
       "      <td>Genomics</td>\n",
       "      <td>2.57</td>\n",
       "      <td>2.61</td>\n",
       "      <td>2.71</td>\n",
       "      <td>1.45</td>\n",
       "      <td>\\cellcolor{green!25}0.27</td>\n",
       "      <td>\\cellcolor{green!25}0.27</td>\n",
       "      <td>0.04</td>\n",
       "    </tr>\n",
       "    <tr>\n",
       "      <td>Skyserver</td>\n",
       "      <td>14.47</td>\n",
       "      <td>6.97</td>\n",
       "      <td>1.17</td>\n",
       "      <td>0.62</td>\n",
       "      <td>\\cellcolor{green!25}0.35</td>\n",
       "      <td>\\cellcolor{green!25}0.35</td>\n",
       "      <td>0.23</td>\n",
       "    </tr>\n",
       "  </tbody>\n",
       "</table>\n",
       "</div>"
      ],
      "text/plain": [
       "            MedKD AvgKD     Q   AKD                   PKD(.2)  \\\n",
       "Unif(8)     11.16  7.07  2.90  1.73                      0.82   \n",
       "Skewed(8)   11.17  7.07  3.75  2.11  \\cellcolor{green!25}0.74   \n",
       "Zoom(8)     11.35  7.25  3.50  1.96  \\cellcolor{green!25}0.77   \n",
       "Prdc(8)     11.17  7.05  5.00  4.19                      0.59   \n",
       "SeqZoom(8)  11.16  7.06  3.01  1.76                      0.83   \n",
       "AltZoom(8)  11.13  7.04  4.99  4.19                      0.59   \n",
       "Shift(8)    11.16  7.07  2.90  1.73                      0.82   \n",
       "Seq (2)      8.83  4.72  2.47  0.48  \\cellcolor{green!25}0.18   \n",
       "Power        1.53  0.83  0.19  0.16  \\cellcolor{green!25}0.09   \n",
       "Genomics     2.57  2.61  2.71  1.45  \\cellcolor{green!25}0.27   \n",
       "Skyserver   14.47  6.97  1.17  0.62  \\cellcolor{green!25}0.35   \n",
       "\n",
       "                            GPKD(.2)    FS  \n",
       "Unif(8)     \\cellcolor{green!25}0.81  0.56  \n",
       "Skewed(8)   \\cellcolor{green!25}0.74  0.50  \n",
       "Zoom(8)     \\cellcolor{green!25}0.77  0.52  \n",
       "Prdc(8)     \\cellcolor{green!25}0.57  0.38  \n",
       "SeqZoom(8)  \\cellcolor{green!25}0.81  0.56  \n",
       "AltZoom(8)  \\cellcolor{green!25}0.58  0.38  \n",
       "Shift(8)    \\cellcolor{green!25}0.81  0.56  \n",
       "Seq (2)     \\cellcolor{green!25}0.18  0.14  \n",
       "Power       \\cellcolor{green!25}0.09  0.05  \n",
       "Genomics    \\cellcolor{green!25}0.27  0.04  \n",
       "Skyserver   \\cellcolor{green!25}0.35  0.23  "
      ]
     },
     "execution_count": 394,
     "metadata": {},
     "output_type": "execute_result"
    }
   ],
   "source": [
    "idx = pd.IndexSlice\n",
    "a = m.loc[idx[:, 'First Query'], :]\n",
    "a = a.reset_index(level=1, drop=True)\n",
    "print(pandas_to_latex(a, 'min', ignore_last=True))\n",
    "a"
   ]
  },
  {
   "cell_type": "markdown",
   "metadata": {},
   "source": [
    "From Table \\ref{fig:exp-first-query}. Full indexes have slower first query response time, as they have to index the entire dataset. With the Median KDTree being the slowest between the two, because finding medians is more costly than finding averages. Adaptive indexes are faster than Full Indexes, because they only index the relevant parts of the data to answer the query. Quasii takes longer than the Adaptive KDTree because it creates much more nodes on the first query. For example, on the uniform workload Quasii creates 6298 nodes, while the Adaptive KDTree creates only 155. Finally, the Progressive indexes have similar time to a full scan. As they are limited by amount of data reorganized or time spent.\n",
    "\n",
    "For the Genomics Mixed benchmark, the number of attributes is too high (19 attributes) for the number of tuples (10 million). If we analyze the number of nodes created on the first query, the Average KDTree and the Median KDTree create 27 and 19 nodes, respectively. While Quasii creates 1390. Which explains why Quasii has a higher first query cost. The other point is that the Average KDTree has a higher first query cost compared to the Median KDTree. This can be explained by the number of nodes created, the Median KDTree creates exactly 19 nodes, one for each attribute. While the Average KDTree creates 27 nodes, which means some of the nodes created bring no benefit to the index.\n",
    "\n",
    "Figure \\ref{fig:first-query-break-down} presents a time breakdown for the first query of Genomics Mixed. All indexes spend around 0.5 seconds copying the table to the secondary structure, then Quasii spends around 2.2 seconds adapting for the first query. While both full indexes take only 2 seconds to build."
   ]
  },
  {
   "cell_type": "code",
   "execution_count": 395,
   "metadata": {
    "scrolled": false
   },
   "outputs": [
    {
     "data": {
      "application/vnd.plotly.v1+json": {
       "config": {
        "plotlyServerURL": "https://plot.ly"
       },
       "data": [
        {
         "name": "Initialization",
         "type": "bar",
         "x": [
          "AvgKD",
          "MedKD",
          "AKD",
          "Q"
         ],
         "y": [
          2.605223,
          2.56807,
          0.49363599999999996,
          0.511342
         ]
        },
        {
         "name": "Adaptation",
         "type": "bar",
         "x": [
          "AvgKD",
          "MedKD",
          "AKD",
          "Q"
         ],
         "y": [
          0,
          0,
          0.9601879999999999,
          2.203475
         ]
        },
        {
         "name": "Index Search",
         "type": "bar",
         "x": [
          "AvgKD",
          "MedKD",
          "AKD",
          "Q"
         ],
         "y": [
          8e-06,
          9e-06,
          3.4e-05,
          4.8e-05
         ]
        },
        {
         "name": "Scan",
         "type": "bar",
         "x": [
          "AvgKD",
          "MedKD",
          "AKD",
          "Q"
         ],
         "y": [
          0.00594,
          0.0033399999999999997,
          0.000285,
          6.1e-05
         ]
        }
       ],
       "layout": {
        "barmode": "stack",
        "font": {
         "size": 42
        },
        "legend": {
         "font": {
          "color": "black",
          "size": 30
         },
         "orientation": "h",
         "x": 0.25,
         "y": 1.2
        },
        "plot_bgcolor": "rgba(0,0,0,0)",
        "template": {
         "data": {
          "bar": [
           {
            "error_x": {
             "color": "#2a3f5f"
            },
            "error_y": {
             "color": "#2a3f5f"
            },
            "marker": {
             "line": {
              "color": "#E5ECF6",
              "width": 0.5
             }
            },
            "type": "bar"
           }
          ],
          "barpolar": [
           {
            "marker": {
             "line": {
              "color": "#E5ECF6",
              "width": 0.5
             }
            },
            "type": "barpolar"
           }
          ],
          "carpet": [
           {
            "aaxis": {
             "endlinecolor": "#2a3f5f",
             "gridcolor": "white",
             "linecolor": "white",
             "minorgridcolor": "white",
             "startlinecolor": "#2a3f5f"
            },
            "baxis": {
             "endlinecolor": "#2a3f5f",
             "gridcolor": "white",
             "linecolor": "white",
             "minorgridcolor": "white",
             "startlinecolor": "#2a3f5f"
            },
            "type": "carpet"
           }
          ],
          "choropleth": [
           {
            "colorbar": {
             "outlinewidth": 0,
             "ticks": ""
            },
            "type": "choropleth"
           }
          ],
          "contour": [
           {
            "colorbar": {
             "outlinewidth": 0,
             "ticks": ""
            },
            "colorscale": [
             [
              0,
              "#0d0887"
             ],
             [
              0.1111111111111111,
              "#46039f"
             ],
             [
              0.2222222222222222,
              "#7201a8"
             ],
             [
              0.3333333333333333,
              "#9c179e"
             ],
             [
              0.4444444444444444,
              "#bd3786"
             ],
             [
              0.5555555555555556,
              "#d8576b"
             ],
             [
              0.6666666666666666,
              "#ed7953"
             ],
             [
              0.7777777777777778,
              "#fb9f3a"
             ],
             [
              0.8888888888888888,
              "#fdca26"
             ],
             [
              1,
              "#f0f921"
             ]
            ],
            "type": "contour"
           }
          ],
          "contourcarpet": [
           {
            "colorbar": {
             "outlinewidth": 0,
             "ticks": ""
            },
            "type": "contourcarpet"
           }
          ],
          "heatmap": [
           {
            "colorbar": {
             "outlinewidth": 0,
             "ticks": ""
            },
            "colorscale": [
             [
              0,
              "#0d0887"
             ],
             [
              0.1111111111111111,
              "#46039f"
             ],
             [
              0.2222222222222222,
              "#7201a8"
             ],
             [
              0.3333333333333333,
              "#9c179e"
             ],
             [
              0.4444444444444444,
              "#bd3786"
             ],
             [
              0.5555555555555556,
              "#d8576b"
             ],
             [
              0.6666666666666666,
              "#ed7953"
             ],
             [
              0.7777777777777778,
              "#fb9f3a"
             ],
             [
              0.8888888888888888,
              "#fdca26"
             ],
             [
              1,
              "#f0f921"
             ]
            ],
            "type": "heatmap"
           }
          ],
          "heatmapgl": [
           {
            "colorbar": {
             "outlinewidth": 0,
             "ticks": ""
            },
            "colorscale": [
             [
              0,
              "#0d0887"
             ],
             [
              0.1111111111111111,
              "#46039f"
             ],
             [
              0.2222222222222222,
              "#7201a8"
             ],
             [
              0.3333333333333333,
              "#9c179e"
             ],
             [
              0.4444444444444444,
              "#bd3786"
             ],
             [
              0.5555555555555556,
              "#d8576b"
             ],
             [
              0.6666666666666666,
              "#ed7953"
             ],
             [
              0.7777777777777778,
              "#fb9f3a"
             ],
             [
              0.8888888888888888,
              "#fdca26"
             ],
             [
              1,
              "#f0f921"
             ]
            ],
            "type": "heatmapgl"
           }
          ],
          "histogram": [
           {
            "marker": {
             "colorbar": {
              "outlinewidth": 0,
              "ticks": ""
             }
            },
            "type": "histogram"
           }
          ],
          "histogram2d": [
           {
            "colorbar": {
             "outlinewidth": 0,
             "ticks": ""
            },
            "colorscale": [
             [
              0,
              "#0d0887"
             ],
             [
              0.1111111111111111,
              "#46039f"
             ],
             [
              0.2222222222222222,
              "#7201a8"
             ],
             [
              0.3333333333333333,
              "#9c179e"
             ],
             [
              0.4444444444444444,
              "#bd3786"
             ],
             [
              0.5555555555555556,
              "#d8576b"
             ],
             [
              0.6666666666666666,
              "#ed7953"
             ],
             [
              0.7777777777777778,
              "#fb9f3a"
             ],
             [
              0.8888888888888888,
              "#fdca26"
             ],
             [
              1,
              "#f0f921"
             ]
            ],
            "type": "histogram2d"
           }
          ],
          "histogram2dcontour": [
           {
            "colorbar": {
             "outlinewidth": 0,
             "ticks": ""
            },
            "colorscale": [
             [
              0,
              "#0d0887"
             ],
             [
              0.1111111111111111,
              "#46039f"
             ],
             [
              0.2222222222222222,
              "#7201a8"
             ],
             [
              0.3333333333333333,
              "#9c179e"
             ],
             [
              0.4444444444444444,
              "#bd3786"
             ],
             [
              0.5555555555555556,
              "#d8576b"
             ],
             [
              0.6666666666666666,
              "#ed7953"
             ],
             [
              0.7777777777777778,
              "#fb9f3a"
             ],
             [
              0.8888888888888888,
              "#fdca26"
             ],
             [
              1,
              "#f0f921"
             ]
            ],
            "type": "histogram2dcontour"
           }
          ],
          "mesh3d": [
           {
            "colorbar": {
             "outlinewidth": 0,
             "ticks": ""
            },
            "type": "mesh3d"
           }
          ],
          "parcoords": [
           {
            "line": {
             "colorbar": {
              "outlinewidth": 0,
              "ticks": ""
             }
            },
            "type": "parcoords"
           }
          ],
          "scatter": [
           {
            "marker": {
             "colorbar": {
              "outlinewidth": 0,
              "ticks": ""
             }
            },
            "type": "scatter"
           }
          ],
          "scatter3d": [
           {
            "line": {
             "colorbar": {
              "outlinewidth": 0,
              "ticks": ""
             }
            },
            "marker": {
             "colorbar": {
              "outlinewidth": 0,
              "ticks": ""
             }
            },
            "type": "scatter3d"
           }
          ],
          "scattercarpet": [
           {
            "marker": {
             "colorbar": {
              "outlinewidth": 0,
              "ticks": ""
             }
            },
            "type": "scattercarpet"
           }
          ],
          "scattergeo": [
           {
            "marker": {
             "colorbar": {
              "outlinewidth": 0,
              "ticks": ""
             }
            },
            "type": "scattergeo"
           }
          ],
          "scattergl": [
           {
            "marker": {
             "colorbar": {
              "outlinewidth": 0,
              "ticks": ""
             }
            },
            "type": "scattergl"
           }
          ],
          "scattermapbox": [
           {
            "marker": {
             "colorbar": {
              "outlinewidth": 0,
              "ticks": ""
             }
            },
            "type": "scattermapbox"
           }
          ],
          "scatterpolar": [
           {
            "marker": {
             "colorbar": {
              "outlinewidth": 0,
              "ticks": ""
             }
            },
            "type": "scatterpolar"
           }
          ],
          "scatterpolargl": [
           {
            "marker": {
             "colorbar": {
              "outlinewidth": 0,
              "ticks": ""
             }
            },
            "type": "scatterpolargl"
           }
          ],
          "scatterternary": [
           {
            "marker": {
             "colorbar": {
              "outlinewidth": 0,
              "ticks": ""
             }
            },
            "type": "scatterternary"
           }
          ],
          "surface": [
           {
            "colorbar": {
             "outlinewidth": 0,
             "ticks": ""
            },
            "colorscale": [
             [
              0,
              "#0d0887"
             ],
             [
              0.1111111111111111,
              "#46039f"
             ],
             [
              0.2222222222222222,
              "#7201a8"
             ],
             [
              0.3333333333333333,
              "#9c179e"
             ],
             [
              0.4444444444444444,
              "#bd3786"
             ],
             [
              0.5555555555555556,
              "#d8576b"
             ],
             [
              0.6666666666666666,
              "#ed7953"
             ],
             [
              0.7777777777777778,
              "#fb9f3a"
             ],
             [
              0.8888888888888888,
              "#fdca26"
             ],
             [
              1,
              "#f0f921"
             ]
            ],
            "type": "surface"
           }
          ],
          "table": [
           {
            "cells": {
             "fill": {
              "color": "#EBF0F8"
             },
             "line": {
              "color": "white"
             }
            },
            "header": {
             "fill": {
              "color": "#C8D4E3"
             },
             "line": {
              "color": "white"
             }
            },
            "type": "table"
           }
          ]
         },
         "layout": {
          "annotationdefaults": {
           "arrowcolor": "#2a3f5f",
           "arrowhead": 0,
           "arrowwidth": 1
          },
          "colorscale": {
           "diverging": [
            [
             0,
             "#8e0152"
            ],
            [
             0.1,
             "#c51b7d"
            ],
            [
             0.2,
             "#de77ae"
            ],
            [
             0.3,
             "#f1b6da"
            ],
            [
             0.4,
             "#fde0ef"
            ],
            [
             0.5,
             "#f7f7f7"
            ],
            [
             0.6,
             "#e6f5d0"
            ],
            [
             0.7,
             "#b8e186"
            ],
            [
             0.8,
             "#7fbc41"
            ],
            [
             0.9,
             "#4d9221"
            ],
            [
             1,
             "#276419"
            ]
           ],
           "sequential": [
            [
             0,
             "#0d0887"
            ],
            [
             0.1111111111111111,
             "#46039f"
            ],
            [
             0.2222222222222222,
             "#7201a8"
            ],
            [
             0.3333333333333333,
             "#9c179e"
            ],
            [
             0.4444444444444444,
             "#bd3786"
            ],
            [
             0.5555555555555556,
             "#d8576b"
            ],
            [
             0.6666666666666666,
             "#ed7953"
            ],
            [
             0.7777777777777778,
             "#fb9f3a"
            ],
            [
             0.8888888888888888,
             "#fdca26"
            ],
            [
             1,
             "#f0f921"
            ]
           ],
           "sequentialminus": [
            [
             0,
             "#0d0887"
            ],
            [
             0.1111111111111111,
             "#46039f"
            ],
            [
             0.2222222222222222,
             "#7201a8"
            ],
            [
             0.3333333333333333,
             "#9c179e"
            ],
            [
             0.4444444444444444,
             "#bd3786"
            ],
            [
             0.5555555555555556,
             "#d8576b"
            ],
            [
             0.6666666666666666,
             "#ed7953"
            ],
            [
             0.7777777777777778,
             "#fb9f3a"
            ],
            [
             0.8888888888888888,
             "#fdca26"
            ],
            [
             1,
             "#f0f921"
            ]
           ]
          },
          "colorway": [
           "#636efa",
           "#EF553B",
           "#00cc96",
           "#ab63fa",
           "#FFA15A",
           "#19d3f3",
           "#FF6692",
           "#B6E880",
           "#FF97FF",
           "#FECB52"
          ],
          "font": {
           "color": "#2a3f5f"
          },
          "geo": {
           "bgcolor": "white",
           "lakecolor": "white",
           "landcolor": "#E5ECF6",
           "showlakes": true,
           "showland": true,
           "subunitcolor": "white"
          },
          "hoverlabel": {
           "align": "left"
          },
          "hovermode": "closest",
          "mapbox": {
           "style": "light"
          },
          "paper_bgcolor": "white",
          "plot_bgcolor": "#E5ECF6",
          "polar": {
           "angularaxis": {
            "gridcolor": "white",
            "linecolor": "white",
            "ticks": ""
           },
           "bgcolor": "#E5ECF6",
           "radialaxis": {
            "gridcolor": "white",
            "linecolor": "white",
            "ticks": ""
           }
          },
          "scene": {
           "xaxis": {
            "backgroundcolor": "#E5ECF6",
            "gridcolor": "white",
            "gridwidth": 2,
            "linecolor": "white",
            "showbackground": true,
            "ticks": "",
            "zerolinecolor": "white"
           },
           "yaxis": {
            "backgroundcolor": "#E5ECF6",
            "gridcolor": "white",
            "gridwidth": 2,
            "linecolor": "white",
            "showbackground": true,
            "ticks": "",
            "zerolinecolor": "white"
           },
           "zaxis": {
            "backgroundcolor": "#E5ECF6",
            "gridcolor": "white",
            "gridwidth": 2,
            "linecolor": "white",
            "showbackground": true,
            "ticks": "",
            "zerolinecolor": "white"
           }
          },
          "shapedefaults": {
           "line": {
            "color": "#2a3f5f"
           }
          },
          "ternary": {
           "aaxis": {
            "gridcolor": "white",
            "linecolor": "white",
            "ticks": ""
           },
           "baxis": {
            "gridcolor": "white",
            "linecolor": "white",
            "ticks": ""
           },
           "bgcolor": "#E5ECF6",
           "caxis": {
            "gridcolor": "white",
            "linecolor": "white",
            "ticks": ""
           }
          },
          "title": {
           "x": 0.05
          },
          "xaxis": {
           "automargin": true,
           "gridcolor": "white",
           "linecolor": "white",
           "ticks": "",
           "zerolinecolor": "white",
           "zerolinewidth": 2
          },
          "yaxis": {
           "automargin": true,
           "gridcolor": "white",
           "linecolor": "white",
           "ticks": "",
           "zerolinecolor": "white",
           "zerolinewidth": 2
          }
         }
        },
        "xaxis": {
         "linecolor": "black",
         "linewidth": 2,
         "showline": true,
         "ticklen": 5,
         "ticks": "inside",
         "zeroline": true
        },
        "yaxis": {
         "gridcolor": "lightgrey",
         "gridwidth": 1,
         "linecolor": "black",
         "linewidth": 2,
         "showgrid": true,
         "showline": true,
         "ticklen": 5,
         "ticks": "inside",
         "title": {
          "text": "Time (seconds)"
         },
         "zeroline": true
        }
       }
      },
      "text/html": [
       "<div>\n",
       "        \n",
       "        \n",
       "            <div id=\"a80c2175-db6d-4965-8343-3104f5fab7a7\" class=\"plotly-graph-div\" style=\"height:525px; width:100%;\"></div>\n",
       "            <script type=\"text/javascript\">\n",
       "                require([\"plotly\"], function(Plotly) {\n",
       "                    window.PLOTLYENV=window.PLOTLYENV || {};\n",
       "                    \n",
       "                if (document.getElementById(\"a80c2175-db6d-4965-8343-3104f5fab7a7\")) {\n",
       "                    Plotly.newPlot(\n",
       "                        'a80c2175-db6d-4965-8343-3104f5fab7a7',\n",
       "                        [{\"name\": \"Initialization\", \"type\": \"bar\", \"x\": [\"AvgKD\", \"MedKD\", \"AKD\", \"Q\"], \"y\": [2.605223, 2.56807, 0.49363599999999996, 0.511342]}, {\"name\": \"Adaptation\", \"type\": \"bar\", \"x\": [\"AvgKD\", \"MedKD\", \"AKD\", \"Q\"], \"y\": [0.0, 0.0, 0.9601879999999999, 2.203475]}, {\"name\": \"Index Search\", \"type\": \"bar\", \"x\": [\"AvgKD\", \"MedKD\", \"AKD\", \"Q\"], \"y\": [8e-06, 9e-06, 3.4e-05, 4.8e-05]}, {\"name\": \"Scan\", \"type\": \"bar\", \"x\": [\"AvgKD\", \"MedKD\", \"AKD\", \"Q\"], \"y\": [0.00594, 0.0033399999999999997, 0.000285, 6.1e-05]}],\n",
       "                        {\"barmode\": \"stack\", \"font\": {\"size\": 42}, \"legend\": {\"font\": {\"color\": \"black\", \"size\": 30}, \"orientation\": \"h\", \"x\": 0.25, \"y\": 1.2}, \"plot_bgcolor\": \"rgba(0,0,0,0)\", \"template\": {\"data\": {\"bar\": [{\"error_x\": {\"color\": \"#2a3f5f\"}, \"error_y\": {\"color\": \"#2a3f5f\"}, \"marker\": {\"line\": {\"color\": \"#E5ECF6\", \"width\": 0.5}}, \"type\": \"bar\"}], \"barpolar\": [{\"marker\": {\"line\": {\"color\": \"#E5ECF6\", \"width\": 0.5}}, \"type\": \"barpolar\"}], \"carpet\": [{\"aaxis\": {\"endlinecolor\": \"#2a3f5f\", \"gridcolor\": \"white\", \"linecolor\": \"white\", \"minorgridcolor\": \"white\", \"startlinecolor\": \"#2a3f5f\"}, \"baxis\": {\"endlinecolor\": \"#2a3f5f\", \"gridcolor\": \"white\", \"linecolor\": \"white\", \"minorgridcolor\": \"white\", \"startlinecolor\": \"#2a3f5f\"}, \"type\": \"carpet\"}], \"choropleth\": [{\"colorbar\": {\"outlinewidth\": 0, \"ticks\": \"\"}, \"type\": \"choropleth\"}], \"contour\": [{\"colorbar\": {\"outlinewidth\": 0, \"ticks\": \"\"}, \"colorscale\": [[0.0, \"#0d0887\"], [0.1111111111111111, \"#46039f\"], [0.2222222222222222, \"#7201a8\"], [0.3333333333333333, \"#9c179e\"], [0.4444444444444444, \"#bd3786\"], [0.5555555555555556, \"#d8576b\"], [0.6666666666666666, \"#ed7953\"], [0.7777777777777778, \"#fb9f3a\"], [0.8888888888888888, \"#fdca26\"], [1.0, \"#f0f921\"]], \"type\": \"contour\"}], \"contourcarpet\": [{\"colorbar\": {\"outlinewidth\": 0, \"ticks\": \"\"}, \"type\": \"contourcarpet\"}], \"heatmap\": [{\"colorbar\": {\"outlinewidth\": 0, \"ticks\": \"\"}, \"colorscale\": [[0.0, \"#0d0887\"], [0.1111111111111111, \"#46039f\"], [0.2222222222222222, \"#7201a8\"], [0.3333333333333333, \"#9c179e\"], [0.4444444444444444, \"#bd3786\"], [0.5555555555555556, \"#d8576b\"], [0.6666666666666666, \"#ed7953\"], [0.7777777777777778, \"#fb9f3a\"], [0.8888888888888888, \"#fdca26\"], [1.0, \"#f0f921\"]], \"type\": \"heatmap\"}], \"heatmapgl\": [{\"colorbar\": {\"outlinewidth\": 0, \"ticks\": \"\"}, \"colorscale\": [[0.0, \"#0d0887\"], [0.1111111111111111, \"#46039f\"], [0.2222222222222222, \"#7201a8\"], [0.3333333333333333, \"#9c179e\"], [0.4444444444444444, \"#bd3786\"], [0.5555555555555556, \"#d8576b\"], [0.6666666666666666, \"#ed7953\"], [0.7777777777777778, \"#fb9f3a\"], [0.8888888888888888, \"#fdca26\"], [1.0, \"#f0f921\"]], \"type\": \"heatmapgl\"}], \"histogram\": [{\"marker\": {\"colorbar\": {\"outlinewidth\": 0, \"ticks\": \"\"}}, \"type\": \"histogram\"}], \"histogram2d\": [{\"colorbar\": {\"outlinewidth\": 0, \"ticks\": \"\"}, \"colorscale\": [[0.0, \"#0d0887\"], [0.1111111111111111, \"#46039f\"], [0.2222222222222222, \"#7201a8\"], [0.3333333333333333, \"#9c179e\"], [0.4444444444444444, \"#bd3786\"], [0.5555555555555556, \"#d8576b\"], [0.6666666666666666, \"#ed7953\"], [0.7777777777777778, \"#fb9f3a\"], [0.8888888888888888, \"#fdca26\"], [1.0, \"#f0f921\"]], \"type\": \"histogram2d\"}], \"histogram2dcontour\": [{\"colorbar\": {\"outlinewidth\": 0, \"ticks\": \"\"}, \"colorscale\": [[0.0, \"#0d0887\"], [0.1111111111111111, \"#46039f\"], [0.2222222222222222, \"#7201a8\"], [0.3333333333333333, \"#9c179e\"], [0.4444444444444444, \"#bd3786\"], [0.5555555555555556, \"#d8576b\"], [0.6666666666666666, \"#ed7953\"], [0.7777777777777778, \"#fb9f3a\"], [0.8888888888888888, \"#fdca26\"], [1.0, \"#f0f921\"]], \"type\": \"histogram2dcontour\"}], \"mesh3d\": [{\"colorbar\": {\"outlinewidth\": 0, \"ticks\": \"\"}, \"type\": \"mesh3d\"}], \"parcoords\": [{\"line\": {\"colorbar\": {\"outlinewidth\": 0, \"ticks\": \"\"}}, \"type\": \"parcoords\"}], \"scatter\": [{\"marker\": {\"colorbar\": {\"outlinewidth\": 0, \"ticks\": \"\"}}, \"type\": \"scatter\"}], \"scatter3d\": [{\"line\": {\"colorbar\": {\"outlinewidth\": 0, \"ticks\": \"\"}}, \"marker\": {\"colorbar\": {\"outlinewidth\": 0, \"ticks\": \"\"}}, \"type\": \"scatter3d\"}], \"scattercarpet\": [{\"marker\": {\"colorbar\": {\"outlinewidth\": 0, \"ticks\": \"\"}}, \"type\": \"scattercarpet\"}], \"scattergeo\": [{\"marker\": {\"colorbar\": {\"outlinewidth\": 0, \"ticks\": \"\"}}, \"type\": \"scattergeo\"}], \"scattergl\": [{\"marker\": {\"colorbar\": {\"outlinewidth\": 0, \"ticks\": \"\"}}, \"type\": \"scattergl\"}], \"scattermapbox\": [{\"marker\": {\"colorbar\": {\"outlinewidth\": 0, \"ticks\": \"\"}}, \"type\": \"scattermapbox\"}], \"scatterpolar\": [{\"marker\": {\"colorbar\": {\"outlinewidth\": 0, \"ticks\": \"\"}}, \"type\": \"scatterpolar\"}], \"scatterpolargl\": [{\"marker\": {\"colorbar\": {\"outlinewidth\": 0, \"ticks\": \"\"}}, \"type\": \"scatterpolargl\"}], \"scatterternary\": [{\"marker\": {\"colorbar\": {\"outlinewidth\": 0, \"ticks\": \"\"}}, \"type\": \"scatterternary\"}], \"surface\": [{\"colorbar\": {\"outlinewidth\": 0, \"ticks\": \"\"}, \"colorscale\": [[0.0, \"#0d0887\"], [0.1111111111111111, \"#46039f\"], [0.2222222222222222, \"#7201a8\"], [0.3333333333333333, \"#9c179e\"], [0.4444444444444444, \"#bd3786\"], [0.5555555555555556, \"#d8576b\"], [0.6666666666666666, \"#ed7953\"], [0.7777777777777778, \"#fb9f3a\"], [0.8888888888888888, \"#fdca26\"], [1.0, \"#f0f921\"]], \"type\": \"surface\"}], \"table\": [{\"cells\": {\"fill\": {\"color\": \"#EBF0F8\"}, \"line\": {\"color\": \"white\"}}, \"header\": {\"fill\": {\"color\": \"#C8D4E3\"}, \"line\": {\"color\": \"white\"}}, \"type\": \"table\"}]}, \"layout\": {\"annotationdefaults\": {\"arrowcolor\": \"#2a3f5f\", \"arrowhead\": 0, \"arrowwidth\": 1}, \"colorscale\": {\"diverging\": [[0, \"#8e0152\"], [0.1, \"#c51b7d\"], [0.2, \"#de77ae\"], [0.3, \"#f1b6da\"], [0.4, \"#fde0ef\"], [0.5, \"#f7f7f7\"], [0.6, \"#e6f5d0\"], [0.7, \"#b8e186\"], [0.8, \"#7fbc41\"], [0.9, \"#4d9221\"], [1, \"#276419\"]], \"sequential\": [[0.0, \"#0d0887\"], [0.1111111111111111, \"#46039f\"], [0.2222222222222222, \"#7201a8\"], [0.3333333333333333, \"#9c179e\"], [0.4444444444444444, \"#bd3786\"], [0.5555555555555556, \"#d8576b\"], [0.6666666666666666, \"#ed7953\"], [0.7777777777777778, \"#fb9f3a\"], [0.8888888888888888, \"#fdca26\"], [1.0, \"#f0f921\"]], \"sequentialminus\": [[0.0, \"#0d0887\"], [0.1111111111111111, \"#46039f\"], [0.2222222222222222, \"#7201a8\"], [0.3333333333333333, \"#9c179e\"], [0.4444444444444444, \"#bd3786\"], [0.5555555555555556, \"#d8576b\"], [0.6666666666666666, \"#ed7953\"], [0.7777777777777778, \"#fb9f3a\"], [0.8888888888888888, \"#fdca26\"], [1.0, \"#f0f921\"]]}, \"colorway\": [\"#636efa\", \"#EF553B\", \"#00cc96\", \"#ab63fa\", \"#FFA15A\", \"#19d3f3\", \"#FF6692\", \"#B6E880\", \"#FF97FF\", \"#FECB52\"], \"font\": {\"color\": \"#2a3f5f\"}, \"geo\": {\"bgcolor\": \"white\", \"lakecolor\": \"white\", \"landcolor\": \"#E5ECF6\", \"showlakes\": true, \"showland\": true, \"subunitcolor\": \"white\"}, \"hoverlabel\": {\"align\": \"left\"}, \"hovermode\": \"closest\", \"mapbox\": {\"style\": \"light\"}, \"paper_bgcolor\": \"white\", \"plot_bgcolor\": \"#E5ECF6\", \"polar\": {\"angularaxis\": {\"gridcolor\": \"white\", \"linecolor\": \"white\", \"ticks\": \"\"}, \"bgcolor\": \"#E5ECF6\", \"radialaxis\": {\"gridcolor\": \"white\", \"linecolor\": \"white\", \"ticks\": \"\"}}, \"scene\": {\"xaxis\": {\"backgroundcolor\": \"#E5ECF6\", \"gridcolor\": \"white\", \"gridwidth\": 2, \"linecolor\": \"white\", \"showbackground\": true, \"ticks\": \"\", \"zerolinecolor\": \"white\"}, \"yaxis\": {\"backgroundcolor\": \"#E5ECF6\", \"gridcolor\": \"white\", \"gridwidth\": 2, \"linecolor\": \"white\", \"showbackground\": true, \"ticks\": \"\", \"zerolinecolor\": \"white\"}, \"zaxis\": {\"backgroundcolor\": \"#E5ECF6\", \"gridcolor\": \"white\", \"gridwidth\": 2, \"linecolor\": \"white\", \"showbackground\": true, \"ticks\": \"\", \"zerolinecolor\": \"white\"}}, \"shapedefaults\": {\"line\": {\"color\": \"#2a3f5f\"}}, \"ternary\": {\"aaxis\": {\"gridcolor\": \"white\", \"linecolor\": \"white\", \"ticks\": \"\"}, \"baxis\": {\"gridcolor\": \"white\", \"linecolor\": \"white\", \"ticks\": \"\"}, \"bgcolor\": \"#E5ECF6\", \"caxis\": {\"gridcolor\": \"white\", \"linecolor\": \"white\", \"ticks\": \"\"}}, \"title\": {\"x\": 0.05}, \"xaxis\": {\"automargin\": true, \"gridcolor\": \"white\", \"linecolor\": \"white\", \"ticks\": \"\", \"zerolinecolor\": \"white\", \"zerolinewidth\": 2}, \"yaxis\": {\"automargin\": true, \"gridcolor\": \"white\", \"linecolor\": \"white\", \"ticks\": \"\", \"zerolinecolor\": \"white\", \"zerolinewidth\": 2}}}, \"xaxis\": {\"linecolor\": \"black\", \"linewidth\": 2, \"showline\": true, \"ticklen\": 5, \"ticks\": \"inside\", \"zeroline\": true}, \"yaxis\": {\"gridcolor\": \"lightgrey\", \"gridwidth\": 1, \"linecolor\": \"black\", \"linewidth\": 2, \"showgrid\": true, \"showline\": true, \"ticklen\": 5, \"ticks\": \"inside\", \"title\": {\"text\": \"Time (seconds)\"}, \"zeroline\": true}},\n",
       "                        {\"responsive\": true}\n",
       "                    ).then(function(){\n",
       "                            \n",
       "var gd = document.getElementById('a80c2175-db6d-4965-8343-3104f5fab7a7');\n",
       "var x = new MutationObserver(function (mutations, observer) {{\n",
       "        var display = window.getComputedStyle(gd).display;\n",
       "        if (!display || display === 'none') {{\n",
       "            console.log([gd, 'removed!']);\n",
       "            Plotly.purge(gd);\n",
       "            observer.disconnect();\n",
       "        }}\n",
       "}});\n",
       "\n",
       "// Listen for the removal of the full notebook cells\n",
       "var notebookContainer = gd.closest('#notebook-container');\n",
       "if (notebookContainer) {{\n",
       "    x.observe(notebookContainer, {childList: true});\n",
       "}}\n",
       "\n",
       "// Listen for the clearing of the current output cell\n",
       "var outputEl = gd.closest('.output');\n",
       "if (outputEl) {{\n",
       "    x.observe(outputEl, {childList: true});\n",
       "}}\n",
       "\n",
       "                        })\n",
       "                };\n",
       "                });\n",
       "            </script>\n",
       "        </div>"
      ]
     },
     "metadata": {},
     "output_type": "display_data"
    }
   ],
   "source": [
    "a = break_down('Genomics Mixed',[\n",
    "    'AverageKDTree',\n",
    "    'MedianKDTree',\n",
    "    'CrackingKDTree',\n",
    "    'Quasii',\n",
    "], 1)\n",
    "save_figure(a, 'first_query_genomics_break_down.pdf')\n",
    "a"
   ]
  },
  {
   "cell_type": "markdown",
   "metadata": {},
   "source": [
    "# Payoff Analysis\n",
    "Now we analyze the payoff for each algorithm in different benchmarks. We define payoff as when the cummulative query time of the algorithm is smaller than of the full scan. Whenever there is a '-' in the table, it means the algorithm never paid off."
   ]
  },
  {
   "cell_type": "code",
   "execution_count": 406,
   "metadata": {},
   "outputs": [
    {
     "name": "stdout",
     "output_type": "stream",
     "text": [
      "\\begin{tabular}{lllllll}\n",
      "\\toprule\n",
      "{} &                   AvgKD &                   MedKD &                     AKD &    Q & PKD(.2) &               GPKD(.2) \\\\\n",
      "\\midrule\n",
      "Unif(8)    &                      14 &                      23 &   \\cellcolor{green!25}7 &   12 &      34 &                     26 \\\\\n",
      "Skewed(8)  &                      16 &                      26 &   \\cellcolor{green!25}5 &   11 &      52 &                     47 \\\\\n",
      "Zoom(8)    &                      27 &                      42 &   \\cellcolor{green!25}2 &    5 &      61 &                     55 \\\\\n",
      "Prdc(8)    &                      19 &                      31 &   \\cellcolor{green!25}9 &   11 &      36 &                     35 \\\\\n",
      "SeqZoom(8) &                      14 &                      24 &   \\cellcolor{green!25}2 &    4 &      49 &                     33 \\\\\n",
      "AltZoom(8) &                      14 &                      23 &   \\cellcolor{green!25}7 &    9 &      18 &                     29 \\\\\n",
      "Shift(8)   &                     999 &                     999 &  \\cellcolor{green!25}23 &  999 &     999 &                    999 \\\\\n",
      "Seq (2)    &                       8 &                       8 &                       4 &    8 &       4 &  \\cellcolor{green!25}1 \\\\\n",
      "Power      &                      16 &                      30 &   \\cellcolor{green!25}6 &   11 &       8 &                     25 \\\\\n",
      "Genomics   &  \\cellcolor{green!25}25 &  \\cellcolor{green!25}25 &                      42 &   65 &      68 &                     91 \\\\\n",
      "Skyserver  &                      29 &                      61 &   \\cellcolor{green!25}2 &    4 &       8 &                     39 \\\\\n",
      "\\bottomrule\n",
      "\\end{tabular}\n",
      "\n"
     ]
    },
    {
     "data": {
      "text/html": [
       "<div>\n",
       "<style scoped>\n",
       "    .dataframe tbody tr th:only-of-type {\n",
       "        vertical-align: middle;\n",
       "    }\n",
       "\n",
       "    .dataframe tbody tr th {\n",
       "        vertical-align: top;\n",
       "    }\n",
       "\n",
       "    .dataframe thead th {\n",
       "        text-align: right;\n",
       "    }\n",
       "</style>\n",
       "<table border=\"1\" class=\"dataframe\">\n",
       "  <thead>\n",
       "    <tr style=\"text-align: right;\">\n",
       "      <th></th>\n",
       "      <th>AvgKD</th>\n",
       "      <th>MedKD</th>\n",
       "      <th>AKD</th>\n",
       "      <th>Q</th>\n",
       "      <th>PKD(.2)</th>\n",
       "      <th>GPKD(.2)</th>\n",
       "    </tr>\n",
       "  </thead>\n",
       "  <tbody>\n",
       "    <tr>\n",
       "      <td>Unif(8)</td>\n",
       "      <td>14</td>\n",
       "      <td>23</td>\n",
       "      <td>\\cellcolor{green!25}7</td>\n",
       "      <td>12</td>\n",
       "      <td>34</td>\n",
       "      <td>26</td>\n",
       "    </tr>\n",
       "    <tr>\n",
       "      <td>Skewed(8)</td>\n",
       "      <td>16</td>\n",
       "      <td>26</td>\n",
       "      <td>\\cellcolor{green!25}5</td>\n",
       "      <td>11</td>\n",
       "      <td>52</td>\n",
       "      <td>47</td>\n",
       "    </tr>\n",
       "    <tr>\n",
       "      <td>Zoom(8)</td>\n",
       "      <td>27</td>\n",
       "      <td>42</td>\n",
       "      <td>\\cellcolor{green!25}2</td>\n",
       "      <td>5</td>\n",
       "      <td>61</td>\n",
       "      <td>55</td>\n",
       "    </tr>\n",
       "    <tr>\n",
       "      <td>Prdc(8)</td>\n",
       "      <td>19</td>\n",
       "      <td>31</td>\n",
       "      <td>\\cellcolor{green!25}9</td>\n",
       "      <td>11</td>\n",
       "      <td>36</td>\n",
       "      <td>35</td>\n",
       "    </tr>\n",
       "    <tr>\n",
       "      <td>SeqZoom(8)</td>\n",
       "      <td>14</td>\n",
       "      <td>24</td>\n",
       "      <td>\\cellcolor{green!25}2</td>\n",
       "      <td>4</td>\n",
       "      <td>49</td>\n",
       "      <td>33</td>\n",
       "    </tr>\n",
       "    <tr>\n",
       "      <td>AltZoom(8)</td>\n",
       "      <td>14</td>\n",
       "      <td>23</td>\n",
       "      <td>\\cellcolor{green!25}7</td>\n",
       "      <td>9</td>\n",
       "      <td>18</td>\n",
       "      <td>29</td>\n",
       "    </tr>\n",
       "    <tr>\n",
       "      <td>Shift(8)</td>\n",
       "      <td>999</td>\n",
       "      <td>999</td>\n",
       "      <td>\\cellcolor{green!25}23</td>\n",
       "      <td>999</td>\n",
       "      <td>999</td>\n",
       "      <td>999</td>\n",
       "    </tr>\n",
       "    <tr>\n",
       "      <td>Seq (2)</td>\n",
       "      <td>8</td>\n",
       "      <td>8</td>\n",
       "      <td>4</td>\n",
       "      <td>8</td>\n",
       "      <td>4</td>\n",
       "      <td>\\cellcolor{green!25}1</td>\n",
       "    </tr>\n",
       "    <tr>\n",
       "      <td>Power</td>\n",
       "      <td>16</td>\n",
       "      <td>30</td>\n",
       "      <td>\\cellcolor{green!25}6</td>\n",
       "      <td>11</td>\n",
       "      <td>8</td>\n",
       "      <td>25</td>\n",
       "    </tr>\n",
       "    <tr>\n",
       "      <td>Genomics</td>\n",
       "      <td>\\cellcolor{green!25}25</td>\n",
       "      <td>\\cellcolor{green!25}25</td>\n",
       "      <td>42</td>\n",
       "      <td>65</td>\n",
       "      <td>68</td>\n",
       "      <td>91</td>\n",
       "    </tr>\n",
       "    <tr>\n",
       "      <td>Skyserver</td>\n",
       "      <td>29</td>\n",
       "      <td>61</td>\n",
       "      <td>\\cellcolor{green!25}2</td>\n",
       "      <td>4</td>\n",
       "      <td>8</td>\n",
       "      <td>39</td>\n",
       "    </tr>\n",
       "  </tbody>\n",
       "</table>\n",
       "</div>"
      ],
      "text/plain": [
       "                             AvgKD                   MedKD  \\\n",
       "Unif(8)                         14                      23   \n",
       "Skewed(8)                       16                      26   \n",
       "Zoom(8)                         27                      42   \n",
       "Prdc(8)                         19                      31   \n",
       "SeqZoom(8)                      14                      24   \n",
       "AltZoom(8)                      14                      23   \n",
       "Shift(8)                       999                     999   \n",
       "Seq (2)                          8                       8   \n",
       "Power                           16                      30   \n",
       "Genomics    \\cellcolor{green!25}25  \\cellcolor{green!25}25   \n",
       "Skyserver                       29                      61   \n",
       "\n",
       "                               AKD    Q PKD(.2)               GPKD(.2)  \n",
       "Unif(8)      \\cellcolor{green!25}7   12      34                     26  \n",
       "Skewed(8)    \\cellcolor{green!25}5   11      52                     47  \n",
       "Zoom(8)      \\cellcolor{green!25}2    5      61                     55  \n",
       "Prdc(8)      \\cellcolor{green!25}9   11      36                     35  \n",
       "SeqZoom(8)   \\cellcolor{green!25}2    4      49                     33  \n",
       "AltZoom(8)   \\cellcolor{green!25}7    9      18                     29  \n",
       "Shift(8)    \\cellcolor{green!25}23  999     999                    999  \n",
       "Seq (2)                          4    8       4  \\cellcolor{green!25}1  \n",
       "Power        \\cellcolor{green!25}6   11       8                     25  \n",
       "Genomics                        42   65      68                     91  \n",
       "Skyserver    \\cellcolor{green!25}2    4       8                     39  "
      ]
     },
     "execution_count": 406,
     "metadata": {},
     "output_type": "execute_result"
    }
   ],
   "source": [
    "idx = pd.IndexSlice\n",
    "a = m[['AvgKD', 'MedKD', 'AKD', 'Q', 'PKD(.2)', 'GPKD(.2)']].loc[idx[:, 'PayOff'], :]\n",
    "a = a.reset_index(level=1, drop=True)\n",
    "print(pandas_to_latex(a, 'min', ignore_last=False, float_format=\"%.0f\"))\n",
    "a"
   ]
  },
  {
   "cell_type": "markdown",
   "metadata": {},
   "source": [
    "On Table \\ref{fig:payoff} we can oberserve that the Average KDTree has a smaller payoff compared to the Median KDTree, because of its lower index creation cost. Adaptive indexes have a smaller payoff than Full Indexes, because they have lower cost on the first query and are adapted to the workload. The Adaptive KDTree has a smaller payoff than Quasii because Quasii has a higher adaptation time. As we can see in Figure \\ref{fig:payoff-number-of-nodes}, when comparing the number of nodes created on the Uniform(8) benchmark, Quasii creates much more nodes until it stabilizes around query 25, which results in a higher payoff. Finally, progressive indexes have restrictions on the amount of data reorganized or time spent, which will improve convergence and robustness, respectively. However, they end up having higher payoffs.\n",
    "\n",
    "On the sequential workload, the Average KDtree, Median KDTree, and Quasii end up never paying off because the number of queries is too small (Sequential has around 10 queries). Figure \\ref{fig:payoff-per-query} provides a per query response time for the entire workload. The Median KDTree is at least two orders of magnitude faster than a full scan. Hence, with more queries it would eventually payoff.\n",
    "\n",
    "For the shifting workload, no algorithm besides the Adaptive KDTree payoff because the number of queries executed before moving on to the next table is too small.\n",
    "\n",
    "On the Genomics Mixed benchmark, Figure \\ref{fig:payoff-genomics} presents the cummulative response time for the first 30 queries. We can observe that adaptive and progressive indexes take longer to payoff compared to full indexes because full indexes have, in this case, low first query cost (as we discussed previously), and low per query response time. While adaptive and progressive indexes, have low first query cost but take longer to achieve a low per query response time."
   ]
  },
  {
   "cell_type": "code",
   "execution_count": 397,
   "metadata": {},
   "outputs": [
    {
     "data": {
      "application/vnd.plotly.v1+json": {
       "config": {
        "plotlyServerURL": "https://plot.ly"
       },
       "data": [
        {
         "line": {
          "dash": "solid",
          "width": 4
         },
         "marker": {
          "color": "green"
         },
         "mode": "lines",
         "name": "Q",
         "type": "scatter",
         "x": [
          0,
          1,
          2,
          3,
          4,
          5,
          6,
          7,
          8,
          9,
          10,
          11,
          12,
          13,
          14,
          15,
          16,
          17,
          18,
          19,
          20,
          21,
          22,
          23,
          24,
          25,
          26,
          27,
          28,
          29,
          30,
          31,
          32,
          33,
          34,
          35,
          36,
          37,
          38,
          39,
          40,
          41,
          42,
          43,
          44,
          45,
          46,
          47,
          48,
          49
         ],
         "y": [
          6298,
          17482,
          22288,
          28349,
          36240,
          39851,
          41694,
          42463,
          49427,
          50004,
          50443,
          52172,
          52597,
          54421,
          56002,
          56479,
          57244,
          58042,
          58122,
          58437,
          58790,
          58917,
          59487,
          59848,
          60075,
          60201,
          60251,
          60743,
          60777,
          61034,
          62016,
          62149,
          62253,
          62643,
          62665,
          63143,
          63195,
          63336,
          63418,
          63837,
          63837,
          63982,
          63992,
          64026,
          64104,
          64231,
          64336,
          64368,
          64549,
          64592
         ]
        },
        {
         "line": {
          "dash": "dash",
          "width": 4
         },
         "marker": {
          "color": "green"
         },
         "mode": "lines",
         "name": "AKD",
         "type": "scatter",
         "x": [
          0,
          1,
          2,
          3,
          4,
          5,
          6,
          7,
          8,
          9,
          10,
          11,
          12,
          13,
          14,
          15,
          16,
          17,
          18,
          19,
          20,
          21,
          22,
          23,
          24,
          25,
          26,
          27,
          28,
          29,
          30,
          31,
          32,
          33,
          34,
          35,
          36,
          37,
          38,
          39,
          40,
          41,
          42,
          43,
          44,
          45,
          46,
          47,
          48,
          49
         ],
         "y": [
          155,
          1554,
          4258,
          7390,
          11035,
          13424,
          15558,
          18197,
          22281,
          24635,
          27651,
          30787,
          35006,
          38949,
          42155,
          44858,
          47634,
          49717,
          50652,
          52945,
          53577,
          55473,
          58029,
          58892,
          59742,
          61479,
          61747,
          63155,
          64089,
          65690,
          73570,
          73893,
          75262,
          76705,
          76781,
          78594,
          80250,
          81860,
          83262,
          83628,
          84294,
          85957,
          86026,
          86485,
          86701,
          88707,
          89441,
          89645,
          89716,
          90453
         ]
        }
       ],
       "layout": {
        "font": {
         "size": 42
        },
        "legend": {
         "font": {
          "color": "black",
          "size": 30
         },
         "orientation": "h",
         "x": 0.25,
         "y": 1.2
        },
        "plot_bgcolor": "rgba(0,0,0,0)",
        "showlegend": true,
        "template": {
         "data": {
          "bar": [
           {
            "error_x": {
             "color": "#2a3f5f"
            },
            "error_y": {
             "color": "#2a3f5f"
            },
            "marker": {
             "line": {
              "color": "#E5ECF6",
              "width": 0.5
             }
            },
            "type": "bar"
           }
          ],
          "barpolar": [
           {
            "marker": {
             "line": {
              "color": "#E5ECF6",
              "width": 0.5
             }
            },
            "type": "barpolar"
           }
          ],
          "carpet": [
           {
            "aaxis": {
             "endlinecolor": "#2a3f5f",
             "gridcolor": "white",
             "linecolor": "white",
             "minorgridcolor": "white",
             "startlinecolor": "#2a3f5f"
            },
            "baxis": {
             "endlinecolor": "#2a3f5f",
             "gridcolor": "white",
             "linecolor": "white",
             "minorgridcolor": "white",
             "startlinecolor": "#2a3f5f"
            },
            "type": "carpet"
           }
          ],
          "choropleth": [
           {
            "colorbar": {
             "outlinewidth": 0,
             "ticks": ""
            },
            "type": "choropleth"
           }
          ],
          "contour": [
           {
            "colorbar": {
             "outlinewidth": 0,
             "ticks": ""
            },
            "colorscale": [
             [
              0,
              "#0d0887"
             ],
             [
              0.1111111111111111,
              "#46039f"
             ],
             [
              0.2222222222222222,
              "#7201a8"
             ],
             [
              0.3333333333333333,
              "#9c179e"
             ],
             [
              0.4444444444444444,
              "#bd3786"
             ],
             [
              0.5555555555555556,
              "#d8576b"
             ],
             [
              0.6666666666666666,
              "#ed7953"
             ],
             [
              0.7777777777777778,
              "#fb9f3a"
             ],
             [
              0.8888888888888888,
              "#fdca26"
             ],
             [
              1,
              "#f0f921"
             ]
            ],
            "type": "contour"
           }
          ],
          "contourcarpet": [
           {
            "colorbar": {
             "outlinewidth": 0,
             "ticks": ""
            },
            "type": "contourcarpet"
           }
          ],
          "heatmap": [
           {
            "colorbar": {
             "outlinewidth": 0,
             "ticks": ""
            },
            "colorscale": [
             [
              0,
              "#0d0887"
             ],
             [
              0.1111111111111111,
              "#46039f"
             ],
             [
              0.2222222222222222,
              "#7201a8"
             ],
             [
              0.3333333333333333,
              "#9c179e"
             ],
             [
              0.4444444444444444,
              "#bd3786"
             ],
             [
              0.5555555555555556,
              "#d8576b"
             ],
             [
              0.6666666666666666,
              "#ed7953"
             ],
             [
              0.7777777777777778,
              "#fb9f3a"
             ],
             [
              0.8888888888888888,
              "#fdca26"
             ],
             [
              1,
              "#f0f921"
             ]
            ],
            "type": "heatmap"
           }
          ],
          "heatmapgl": [
           {
            "colorbar": {
             "outlinewidth": 0,
             "ticks": ""
            },
            "colorscale": [
             [
              0,
              "#0d0887"
             ],
             [
              0.1111111111111111,
              "#46039f"
             ],
             [
              0.2222222222222222,
              "#7201a8"
             ],
             [
              0.3333333333333333,
              "#9c179e"
             ],
             [
              0.4444444444444444,
              "#bd3786"
             ],
             [
              0.5555555555555556,
              "#d8576b"
             ],
             [
              0.6666666666666666,
              "#ed7953"
             ],
             [
              0.7777777777777778,
              "#fb9f3a"
             ],
             [
              0.8888888888888888,
              "#fdca26"
             ],
             [
              1,
              "#f0f921"
             ]
            ],
            "type": "heatmapgl"
           }
          ],
          "histogram": [
           {
            "marker": {
             "colorbar": {
              "outlinewidth": 0,
              "ticks": ""
             }
            },
            "type": "histogram"
           }
          ],
          "histogram2d": [
           {
            "colorbar": {
             "outlinewidth": 0,
             "ticks": ""
            },
            "colorscale": [
             [
              0,
              "#0d0887"
             ],
             [
              0.1111111111111111,
              "#46039f"
             ],
             [
              0.2222222222222222,
              "#7201a8"
             ],
             [
              0.3333333333333333,
              "#9c179e"
             ],
             [
              0.4444444444444444,
              "#bd3786"
             ],
             [
              0.5555555555555556,
              "#d8576b"
             ],
             [
              0.6666666666666666,
              "#ed7953"
             ],
             [
              0.7777777777777778,
              "#fb9f3a"
             ],
             [
              0.8888888888888888,
              "#fdca26"
             ],
             [
              1,
              "#f0f921"
             ]
            ],
            "type": "histogram2d"
           }
          ],
          "histogram2dcontour": [
           {
            "colorbar": {
             "outlinewidth": 0,
             "ticks": ""
            },
            "colorscale": [
             [
              0,
              "#0d0887"
             ],
             [
              0.1111111111111111,
              "#46039f"
             ],
             [
              0.2222222222222222,
              "#7201a8"
             ],
             [
              0.3333333333333333,
              "#9c179e"
             ],
             [
              0.4444444444444444,
              "#bd3786"
             ],
             [
              0.5555555555555556,
              "#d8576b"
             ],
             [
              0.6666666666666666,
              "#ed7953"
             ],
             [
              0.7777777777777778,
              "#fb9f3a"
             ],
             [
              0.8888888888888888,
              "#fdca26"
             ],
             [
              1,
              "#f0f921"
             ]
            ],
            "type": "histogram2dcontour"
           }
          ],
          "mesh3d": [
           {
            "colorbar": {
             "outlinewidth": 0,
             "ticks": ""
            },
            "type": "mesh3d"
           }
          ],
          "parcoords": [
           {
            "line": {
             "colorbar": {
              "outlinewidth": 0,
              "ticks": ""
             }
            },
            "type": "parcoords"
           }
          ],
          "scatter": [
           {
            "marker": {
             "colorbar": {
              "outlinewidth": 0,
              "ticks": ""
             }
            },
            "type": "scatter"
           }
          ],
          "scatter3d": [
           {
            "line": {
             "colorbar": {
              "outlinewidth": 0,
              "ticks": ""
             }
            },
            "marker": {
             "colorbar": {
              "outlinewidth": 0,
              "ticks": ""
             }
            },
            "type": "scatter3d"
           }
          ],
          "scattercarpet": [
           {
            "marker": {
             "colorbar": {
              "outlinewidth": 0,
              "ticks": ""
             }
            },
            "type": "scattercarpet"
           }
          ],
          "scattergeo": [
           {
            "marker": {
             "colorbar": {
              "outlinewidth": 0,
              "ticks": ""
             }
            },
            "type": "scattergeo"
           }
          ],
          "scattergl": [
           {
            "marker": {
             "colorbar": {
              "outlinewidth": 0,
              "ticks": ""
             }
            },
            "type": "scattergl"
           }
          ],
          "scattermapbox": [
           {
            "marker": {
             "colorbar": {
              "outlinewidth": 0,
              "ticks": ""
             }
            },
            "type": "scattermapbox"
           }
          ],
          "scatterpolar": [
           {
            "marker": {
             "colorbar": {
              "outlinewidth": 0,
              "ticks": ""
             }
            },
            "type": "scatterpolar"
           }
          ],
          "scatterpolargl": [
           {
            "marker": {
             "colorbar": {
              "outlinewidth": 0,
              "ticks": ""
             }
            },
            "type": "scatterpolargl"
           }
          ],
          "scatterternary": [
           {
            "marker": {
             "colorbar": {
              "outlinewidth": 0,
              "ticks": ""
             }
            },
            "type": "scatterternary"
           }
          ],
          "surface": [
           {
            "colorbar": {
             "outlinewidth": 0,
             "ticks": ""
            },
            "colorscale": [
             [
              0,
              "#0d0887"
             ],
             [
              0.1111111111111111,
              "#46039f"
             ],
             [
              0.2222222222222222,
              "#7201a8"
             ],
             [
              0.3333333333333333,
              "#9c179e"
             ],
             [
              0.4444444444444444,
              "#bd3786"
             ],
             [
              0.5555555555555556,
              "#d8576b"
             ],
             [
              0.6666666666666666,
              "#ed7953"
             ],
             [
              0.7777777777777778,
              "#fb9f3a"
             ],
             [
              0.8888888888888888,
              "#fdca26"
             ],
             [
              1,
              "#f0f921"
             ]
            ],
            "type": "surface"
           }
          ],
          "table": [
           {
            "cells": {
             "fill": {
              "color": "#EBF0F8"
             },
             "line": {
              "color": "white"
             }
            },
            "header": {
             "fill": {
              "color": "#C8D4E3"
             },
             "line": {
              "color": "white"
             }
            },
            "type": "table"
           }
          ]
         },
         "layout": {
          "annotationdefaults": {
           "arrowcolor": "#2a3f5f",
           "arrowhead": 0,
           "arrowwidth": 1
          },
          "colorscale": {
           "diverging": [
            [
             0,
             "#8e0152"
            ],
            [
             0.1,
             "#c51b7d"
            ],
            [
             0.2,
             "#de77ae"
            ],
            [
             0.3,
             "#f1b6da"
            ],
            [
             0.4,
             "#fde0ef"
            ],
            [
             0.5,
             "#f7f7f7"
            ],
            [
             0.6,
             "#e6f5d0"
            ],
            [
             0.7,
             "#b8e186"
            ],
            [
             0.8,
             "#7fbc41"
            ],
            [
             0.9,
             "#4d9221"
            ],
            [
             1,
             "#276419"
            ]
           ],
           "sequential": [
            [
             0,
             "#0d0887"
            ],
            [
             0.1111111111111111,
             "#46039f"
            ],
            [
             0.2222222222222222,
             "#7201a8"
            ],
            [
             0.3333333333333333,
             "#9c179e"
            ],
            [
             0.4444444444444444,
             "#bd3786"
            ],
            [
             0.5555555555555556,
             "#d8576b"
            ],
            [
             0.6666666666666666,
             "#ed7953"
            ],
            [
             0.7777777777777778,
             "#fb9f3a"
            ],
            [
             0.8888888888888888,
             "#fdca26"
            ],
            [
             1,
             "#f0f921"
            ]
           ],
           "sequentialminus": [
            [
             0,
             "#0d0887"
            ],
            [
             0.1111111111111111,
             "#46039f"
            ],
            [
             0.2222222222222222,
             "#7201a8"
            ],
            [
             0.3333333333333333,
             "#9c179e"
            ],
            [
             0.4444444444444444,
             "#bd3786"
            ],
            [
             0.5555555555555556,
             "#d8576b"
            ],
            [
             0.6666666666666666,
             "#ed7953"
            ],
            [
             0.7777777777777778,
             "#fb9f3a"
            ],
            [
             0.8888888888888888,
             "#fdca26"
            ],
            [
             1,
             "#f0f921"
            ]
           ]
          },
          "colorway": [
           "#636efa",
           "#EF553B",
           "#00cc96",
           "#ab63fa",
           "#FFA15A",
           "#19d3f3",
           "#FF6692",
           "#B6E880",
           "#FF97FF",
           "#FECB52"
          ],
          "font": {
           "color": "#2a3f5f"
          },
          "geo": {
           "bgcolor": "white",
           "lakecolor": "white",
           "landcolor": "#E5ECF6",
           "showlakes": true,
           "showland": true,
           "subunitcolor": "white"
          },
          "hoverlabel": {
           "align": "left"
          },
          "hovermode": "closest",
          "mapbox": {
           "style": "light"
          },
          "paper_bgcolor": "white",
          "plot_bgcolor": "#E5ECF6",
          "polar": {
           "angularaxis": {
            "gridcolor": "white",
            "linecolor": "white",
            "ticks": ""
           },
           "bgcolor": "#E5ECF6",
           "radialaxis": {
            "gridcolor": "white",
            "linecolor": "white",
            "ticks": ""
           }
          },
          "scene": {
           "xaxis": {
            "backgroundcolor": "#E5ECF6",
            "gridcolor": "white",
            "gridwidth": 2,
            "linecolor": "white",
            "showbackground": true,
            "ticks": "",
            "zerolinecolor": "white"
           },
           "yaxis": {
            "backgroundcolor": "#E5ECF6",
            "gridcolor": "white",
            "gridwidth": 2,
            "linecolor": "white",
            "showbackground": true,
            "ticks": "",
            "zerolinecolor": "white"
           },
           "zaxis": {
            "backgroundcolor": "#E5ECF6",
            "gridcolor": "white",
            "gridwidth": 2,
            "linecolor": "white",
            "showbackground": true,
            "ticks": "",
            "zerolinecolor": "white"
           }
          },
          "shapedefaults": {
           "line": {
            "color": "#2a3f5f"
           }
          },
          "ternary": {
           "aaxis": {
            "gridcolor": "white",
            "linecolor": "white",
            "ticks": ""
           },
           "baxis": {
            "gridcolor": "white",
            "linecolor": "white",
            "ticks": ""
           },
           "bgcolor": "#E5ECF6",
           "caxis": {
            "gridcolor": "white",
            "linecolor": "white",
            "ticks": ""
           }
          },
          "title": {
           "x": 0.05
          },
          "xaxis": {
           "automargin": true,
           "gridcolor": "white",
           "linecolor": "white",
           "ticks": "",
           "zerolinecolor": "white",
           "zerolinewidth": 2
          },
          "yaxis": {
           "automargin": true,
           "gridcolor": "white",
           "linecolor": "white",
           "ticks": "",
           "zerolinecolor": "white",
           "zerolinewidth": 2
          }
         }
        },
        "xaxis": {
         "linecolor": "black",
         "linewidth": 2,
         "showline": true,
         "ticklen": 5,
         "ticks": "inside",
         "zeroline": true
        },
        "yaxis": {
         "gridcolor": "lightgrey",
         "gridwidth": 1,
         "linecolor": "black",
         "linewidth": 2,
         "showgrid": true,
         "showline": true,
         "ticklen": 5,
         "ticks": "inside",
         "title": {
          "text": "# Nodes"
         },
         "zeroline": true
        }
       }
      },
      "text/html": [
       "<div>\n",
       "        \n",
       "        \n",
       "            <div id=\"b6140bef-fa50-49b9-b258-14fb4f97a3e7\" class=\"plotly-graph-div\" style=\"height:525px; width:100%;\"></div>\n",
       "            <script type=\"text/javascript\">\n",
       "                require([\"plotly\"], function(Plotly) {\n",
       "                    window.PLOTLYENV=window.PLOTLYENV || {};\n",
       "                    \n",
       "                if (document.getElementById(\"b6140bef-fa50-49b9-b258-14fb4f97a3e7\")) {\n",
       "                    Plotly.newPlot(\n",
       "                        'b6140bef-fa50-49b9-b258-14fb4f97a3e7',\n",
       "                        [{\"line\": {\"dash\": \"solid\", \"width\": 4}, \"marker\": {\"color\": \"green\"}, \"mode\": \"lines\", \"name\": \"Q\", \"type\": \"scatter\", \"x\": [0, 1, 2, 3, 4, 5, 6, 7, 8, 9, 10, 11, 12, 13, 14, 15, 16, 17, 18, 19, 20, 21, 22, 23, 24, 25, 26, 27, 28, 29, 30, 31, 32, 33, 34, 35, 36, 37, 38, 39, 40, 41, 42, 43, 44, 45, 46, 47, 48, 49], \"y\": [6298.0, 17482.0, 22288.0, 28349.0, 36240.0, 39851.0, 41694.0, 42463.0, 49427.0, 50004.0, 50443.0, 52172.0, 52597.0, 54421.0, 56002.0, 56479.0, 57244.0, 58042.0, 58122.0, 58437.0, 58790.0, 58917.0, 59487.0, 59848.0, 60075.0, 60201.0, 60251.0, 60743.0, 60777.0, 61034.0, 62016.0, 62149.0, 62253.0, 62643.0, 62665.0, 63143.0, 63195.0, 63336.0, 63418.0, 63837.0, 63837.0, 63982.0, 63992.0, 64026.0, 64104.0, 64231.0, 64336.0, 64368.0, 64549.0, 64592.0]}, {\"line\": {\"dash\": \"dash\", \"width\": 4}, \"marker\": {\"color\": \"green\"}, \"mode\": \"lines\", \"name\": \"AKD\", \"type\": \"scatter\", \"x\": [0, 1, 2, 3, 4, 5, 6, 7, 8, 9, 10, 11, 12, 13, 14, 15, 16, 17, 18, 19, 20, 21, 22, 23, 24, 25, 26, 27, 28, 29, 30, 31, 32, 33, 34, 35, 36, 37, 38, 39, 40, 41, 42, 43, 44, 45, 46, 47, 48, 49], \"y\": [155.0, 1554.0, 4258.0, 7390.0, 11035.0, 13424.0, 15558.0, 18197.0, 22281.0, 24635.0, 27651.0, 30787.0, 35006.0, 38949.0, 42155.0, 44858.0, 47634.0, 49717.0, 50652.0, 52945.0, 53577.0, 55473.0, 58029.0, 58892.0, 59742.0, 61479.0, 61747.0, 63155.0, 64089.0, 65690.0, 73570.0, 73893.0, 75262.0, 76705.0, 76781.0, 78594.0, 80250.0, 81860.0, 83262.0, 83628.0, 84294.0, 85957.0, 86026.0, 86485.0, 86701.0, 88707.0, 89441.0, 89645.0, 89716.0, 90453.0]}],\n",
       "                        {\"font\": {\"size\": 42}, \"legend\": {\"font\": {\"color\": \"black\", \"size\": 30}, \"orientation\": \"h\", \"x\": 0.25, \"y\": 1.2}, \"plot_bgcolor\": \"rgba(0,0,0,0)\", \"showlegend\": true, \"template\": {\"data\": {\"bar\": [{\"error_x\": {\"color\": \"#2a3f5f\"}, \"error_y\": {\"color\": \"#2a3f5f\"}, \"marker\": {\"line\": {\"color\": \"#E5ECF6\", \"width\": 0.5}}, \"type\": \"bar\"}], \"barpolar\": [{\"marker\": {\"line\": {\"color\": \"#E5ECF6\", \"width\": 0.5}}, \"type\": \"barpolar\"}], \"carpet\": [{\"aaxis\": {\"endlinecolor\": \"#2a3f5f\", \"gridcolor\": \"white\", \"linecolor\": \"white\", \"minorgridcolor\": \"white\", \"startlinecolor\": \"#2a3f5f\"}, \"baxis\": {\"endlinecolor\": \"#2a3f5f\", \"gridcolor\": \"white\", \"linecolor\": \"white\", \"minorgridcolor\": \"white\", \"startlinecolor\": \"#2a3f5f\"}, \"type\": \"carpet\"}], \"choropleth\": [{\"colorbar\": {\"outlinewidth\": 0, \"ticks\": \"\"}, \"type\": \"choropleth\"}], \"contour\": [{\"colorbar\": {\"outlinewidth\": 0, \"ticks\": \"\"}, \"colorscale\": [[0.0, \"#0d0887\"], [0.1111111111111111, \"#46039f\"], [0.2222222222222222, \"#7201a8\"], [0.3333333333333333, \"#9c179e\"], [0.4444444444444444, \"#bd3786\"], [0.5555555555555556, \"#d8576b\"], [0.6666666666666666, \"#ed7953\"], [0.7777777777777778, \"#fb9f3a\"], [0.8888888888888888, \"#fdca26\"], [1.0, \"#f0f921\"]], \"type\": \"contour\"}], \"contourcarpet\": [{\"colorbar\": {\"outlinewidth\": 0, \"ticks\": \"\"}, \"type\": \"contourcarpet\"}], \"heatmap\": [{\"colorbar\": {\"outlinewidth\": 0, \"ticks\": \"\"}, \"colorscale\": [[0.0, \"#0d0887\"], [0.1111111111111111, \"#46039f\"], [0.2222222222222222, \"#7201a8\"], [0.3333333333333333, \"#9c179e\"], [0.4444444444444444, \"#bd3786\"], [0.5555555555555556, \"#d8576b\"], [0.6666666666666666, \"#ed7953\"], [0.7777777777777778, \"#fb9f3a\"], [0.8888888888888888, \"#fdca26\"], [1.0, \"#f0f921\"]], \"type\": \"heatmap\"}], \"heatmapgl\": [{\"colorbar\": {\"outlinewidth\": 0, \"ticks\": \"\"}, \"colorscale\": [[0.0, \"#0d0887\"], [0.1111111111111111, \"#46039f\"], [0.2222222222222222, \"#7201a8\"], [0.3333333333333333, \"#9c179e\"], [0.4444444444444444, \"#bd3786\"], [0.5555555555555556, \"#d8576b\"], [0.6666666666666666, \"#ed7953\"], [0.7777777777777778, \"#fb9f3a\"], [0.8888888888888888, \"#fdca26\"], [1.0, \"#f0f921\"]], \"type\": \"heatmapgl\"}], \"histogram\": [{\"marker\": {\"colorbar\": {\"outlinewidth\": 0, \"ticks\": \"\"}}, \"type\": \"histogram\"}], \"histogram2d\": [{\"colorbar\": {\"outlinewidth\": 0, \"ticks\": \"\"}, \"colorscale\": [[0.0, \"#0d0887\"], [0.1111111111111111, \"#46039f\"], [0.2222222222222222, \"#7201a8\"], [0.3333333333333333, \"#9c179e\"], [0.4444444444444444, \"#bd3786\"], [0.5555555555555556, \"#d8576b\"], [0.6666666666666666, \"#ed7953\"], [0.7777777777777778, \"#fb9f3a\"], [0.8888888888888888, \"#fdca26\"], [1.0, \"#f0f921\"]], \"type\": \"histogram2d\"}], \"histogram2dcontour\": [{\"colorbar\": {\"outlinewidth\": 0, \"ticks\": \"\"}, \"colorscale\": [[0.0, \"#0d0887\"], [0.1111111111111111, \"#46039f\"], [0.2222222222222222, \"#7201a8\"], [0.3333333333333333, \"#9c179e\"], [0.4444444444444444, \"#bd3786\"], [0.5555555555555556, \"#d8576b\"], [0.6666666666666666, \"#ed7953\"], [0.7777777777777778, \"#fb9f3a\"], [0.8888888888888888, \"#fdca26\"], [1.0, \"#f0f921\"]], \"type\": \"histogram2dcontour\"}], \"mesh3d\": [{\"colorbar\": {\"outlinewidth\": 0, \"ticks\": \"\"}, \"type\": \"mesh3d\"}], \"parcoords\": [{\"line\": {\"colorbar\": {\"outlinewidth\": 0, \"ticks\": \"\"}}, \"type\": \"parcoords\"}], \"scatter\": [{\"marker\": {\"colorbar\": {\"outlinewidth\": 0, \"ticks\": \"\"}}, \"type\": \"scatter\"}], \"scatter3d\": [{\"line\": {\"colorbar\": {\"outlinewidth\": 0, \"ticks\": \"\"}}, \"marker\": {\"colorbar\": {\"outlinewidth\": 0, \"ticks\": \"\"}}, \"type\": \"scatter3d\"}], \"scattercarpet\": [{\"marker\": {\"colorbar\": {\"outlinewidth\": 0, \"ticks\": \"\"}}, \"type\": \"scattercarpet\"}], \"scattergeo\": [{\"marker\": {\"colorbar\": {\"outlinewidth\": 0, \"ticks\": \"\"}}, \"type\": \"scattergeo\"}], \"scattergl\": [{\"marker\": {\"colorbar\": {\"outlinewidth\": 0, \"ticks\": \"\"}}, \"type\": \"scattergl\"}], \"scattermapbox\": [{\"marker\": {\"colorbar\": {\"outlinewidth\": 0, \"ticks\": \"\"}}, \"type\": \"scattermapbox\"}], \"scatterpolar\": [{\"marker\": {\"colorbar\": {\"outlinewidth\": 0, \"ticks\": \"\"}}, \"type\": \"scatterpolar\"}], \"scatterpolargl\": [{\"marker\": {\"colorbar\": {\"outlinewidth\": 0, \"ticks\": \"\"}}, \"type\": \"scatterpolargl\"}], \"scatterternary\": [{\"marker\": {\"colorbar\": {\"outlinewidth\": 0, \"ticks\": \"\"}}, \"type\": \"scatterternary\"}], \"surface\": [{\"colorbar\": {\"outlinewidth\": 0, \"ticks\": \"\"}, \"colorscale\": [[0.0, \"#0d0887\"], [0.1111111111111111, \"#46039f\"], [0.2222222222222222, \"#7201a8\"], [0.3333333333333333, \"#9c179e\"], [0.4444444444444444, \"#bd3786\"], [0.5555555555555556, \"#d8576b\"], [0.6666666666666666, \"#ed7953\"], [0.7777777777777778, \"#fb9f3a\"], [0.8888888888888888, \"#fdca26\"], [1.0, \"#f0f921\"]], \"type\": \"surface\"}], \"table\": [{\"cells\": {\"fill\": {\"color\": \"#EBF0F8\"}, \"line\": {\"color\": \"white\"}}, \"header\": {\"fill\": {\"color\": \"#C8D4E3\"}, \"line\": {\"color\": \"white\"}}, \"type\": \"table\"}]}, \"layout\": {\"annotationdefaults\": {\"arrowcolor\": \"#2a3f5f\", \"arrowhead\": 0, \"arrowwidth\": 1}, \"colorscale\": {\"diverging\": [[0, \"#8e0152\"], [0.1, \"#c51b7d\"], [0.2, \"#de77ae\"], [0.3, \"#f1b6da\"], [0.4, \"#fde0ef\"], [0.5, \"#f7f7f7\"], [0.6, \"#e6f5d0\"], [0.7, \"#b8e186\"], [0.8, \"#7fbc41\"], [0.9, \"#4d9221\"], [1, \"#276419\"]], \"sequential\": [[0.0, \"#0d0887\"], [0.1111111111111111, \"#46039f\"], [0.2222222222222222, \"#7201a8\"], [0.3333333333333333, \"#9c179e\"], [0.4444444444444444, \"#bd3786\"], [0.5555555555555556, \"#d8576b\"], [0.6666666666666666, \"#ed7953\"], [0.7777777777777778, \"#fb9f3a\"], [0.8888888888888888, \"#fdca26\"], [1.0, \"#f0f921\"]], \"sequentialminus\": [[0.0, \"#0d0887\"], [0.1111111111111111, \"#46039f\"], [0.2222222222222222, \"#7201a8\"], [0.3333333333333333, \"#9c179e\"], [0.4444444444444444, \"#bd3786\"], [0.5555555555555556, \"#d8576b\"], [0.6666666666666666, \"#ed7953\"], [0.7777777777777778, \"#fb9f3a\"], [0.8888888888888888, \"#fdca26\"], [1.0, \"#f0f921\"]]}, \"colorway\": [\"#636efa\", \"#EF553B\", \"#00cc96\", \"#ab63fa\", \"#FFA15A\", \"#19d3f3\", \"#FF6692\", \"#B6E880\", \"#FF97FF\", \"#FECB52\"], \"font\": {\"color\": \"#2a3f5f\"}, \"geo\": {\"bgcolor\": \"white\", \"lakecolor\": \"white\", \"landcolor\": \"#E5ECF6\", \"showlakes\": true, \"showland\": true, \"subunitcolor\": \"white\"}, \"hoverlabel\": {\"align\": \"left\"}, \"hovermode\": \"closest\", \"mapbox\": {\"style\": \"light\"}, \"paper_bgcolor\": \"white\", \"plot_bgcolor\": \"#E5ECF6\", \"polar\": {\"angularaxis\": {\"gridcolor\": \"white\", \"linecolor\": \"white\", \"ticks\": \"\"}, \"bgcolor\": \"#E5ECF6\", \"radialaxis\": {\"gridcolor\": \"white\", \"linecolor\": \"white\", \"ticks\": \"\"}}, \"scene\": {\"xaxis\": {\"backgroundcolor\": \"#E5ECF6\", \"gridcolor\": \"white\", \"gridwidth\": 2, \"linecolor\": \"white\", \"showbackground\": true, \"ticks\": \"\", \"zerolinecolor\": \"white\"}, \"yaxis\": {\"backgroundcolor\": \"#E5ECF6\", \"gridcolor\": \"white\", \"gridwidth\": 2, \"linecolor\": \"white\", \"showbackground\": true, \"ticks\": \"\", \"zerolinecolor\": \"white\"}, \"zaxis\": {\"backgroundcolor\": \"#E5ECF6\", \"gridcolor\": \"white\", \"gridwidth\": 2, \"linecolor\": \"white\", \"showbackground\": true, \"ticks\": \"\", \"zerolinecolor\": \"white\"}}, \"shapedefaults\": {\"line\": {\"color\": \"#2a3f5f\"}}, \"ternary\": {\"aaxis\": {\"gridcolor\": \"white\", \"linecolor\": \"white\", \"ticks\": \"\"}, \"baxis\": {\"gridcolor\": \"white\", \"linecolor\": \"white\", \"ticks\": \"\"}, \"bgcolor\": \"#E5ECF6\", \"caxis\": {\"gridcolor\": \"white\", \"linecolor\": \"white\", \"ticks\": \"\"}}, \"title\": {\"x\": 0.05}, \"xaxis\": {\"automargin\": true, \"gridcolor\": \"white\", \"linecolor\": \"white\", \"ticks\": \"\", \"zerolinecolor\": \"white\", \"zerolinewidth\": 2}, \"yaxis\": {\"automargin\": true, \"gridcolor\": \"white\", \"linecolor\": \"white\", \"ticks\": \"\", \"zerolinecolor\": \"white\", \"zerolinewidth\": 2}}}, \"xaxis\": {\"linecolor\": \"black\", \"linewidth\": 2, \"showline\": true, \"ticklen\": 5, \"ticks\": \"inside\", \"zeroline\": true}, \"yaxis\": {\"gridcolor\": \"lightgrey\", \"gridwidth\": 1, \"linecolor\": \"black\", \"linewidth\": 2, \"showgrid\": true, \"showline\": true, \"ticklen\": 5, \"ticks\": \"inside\", \"title\": {\"text\": \"# Nodes\"}, \"zeroline\": true}},\n",
       "                        {\"responsive\": true}\n",
       "                    ).then(function(){\n",
       "                            \n",
       "var gd = document.getElementById('b6140bef-fa50-49b9-b258-14fb4f97a3e7');\n",
       "var x = new MutationObserver(function (mutations, observer) {{\n",
       "        var display = window.getComputedStyle(gd).display;\n",
       "        if (!display || display === 'none') {{\n",
       "            console.log([gd, 'removed!']);\n",
       "            Plotly.purge(gd);\n",
       "            observer.disconnect();\n",
       "        }}\n",
       "}});\n",
       "\n",
       "// Listen for the removal of the full notebook cells\n",
       "var notebookContainer = gd.closest('#notebook-container');\n",
       "if (notebookContainer) {{\n",
       "    x.observe(notebookContainer, {childList: true});\n",
       "}}\n",
       "\n",
       "// Listen for the clearing of the current output cell\n",
       "var outputEl = gd.closest('.output');\n",
       "if (outputEl) {{\n",
       "    x.observe(outputEl, {childList: true});\n",
       "}}\n",
       "\n",
       "                        })\n",
       "                };\n",
       "                });\n",
       "            </script>\n",
       "        </div>"
      ]
     },
     "metadata": {},
     "output_type": "display_data"
    }
   ],
   "source": [
    "a = number_of_nodes('Uniform8', ['Quasii', 'CrackingKDTree', ], 50)\n",
    "save_figure(a, 'payoff-number-of-nodes.pdf')\n",
    "a"
   ]
  },
  {
   "cell_type": "code",
   "execution_count": 398,
   "metadata": {},
   "outputs": [
    {
     "data": {
      "application/vnd.plotly.v1+json": {
       "config": {
        "plotlyServerURL": "https://plot.ly"
       },
       "data": [
        {
         "line": {
          "dash": "dash",
          "width": 4
         },
         "marker": {
          "color": "red"
         },
         "mode": "lines",
         "name": "AvgKD",
         "type": "scatter",
         "x": [
          0,
          1,
          2,
          3,
          4,
          5,
          6,
          7,
          8
         ],
         "y": [
          4715.637000000001,
          1.43,
          1.477,
          1.528,
          1.6560000000000001,
          1.718,
          1.581,
          1.524,
          1.497
         ]
        },
        {
         "line": {
          "dash": "solid",
          "width": 4
         },
         "marker": {
          "color": "red"
         },
         "mode": "lines",
         "name": "MedKD",
         "type": "scatter",
         "x": [
          0,
          1,
          2,
          3,
          4,
          5,
          6,
          7,
          8
         ],
         "y": [
          8825.752000000002,
          1.595,
          1.6390000000000002,
          1.6179999999999999,
          1.4889999999999999,
          1.4559999999999997,
          1.6010000000000002,
          1.646,
          1.604
         ]
        },
        {
         "line": {
          "dash": "solid",
          "width": 4
         },
         "marker": {
          "color": "green"
         },
         "mode": "lines",
         "name": "Q",
         "type": "scatter",
         "x": [
          0,
          1,
          2,
          3,
          4,
          5,
          6,
          7,
          8
         ],
         "y": [
          2468.479,
          173.114,
          160.394,
          138.958,
          121.421,
          112.351,
          85.1,
          68.86,
          45.858
         ]
        },
        {
         "line": {
          "dash": "dot",
          "width": 4
         },
         "marker": {
          "color": "black"
         },
         "mode": "lines",
         "name": "FS",
         "type": "scatter",
         "x": [
          0,
          1,
          2,
          3,
          4,
          5,
          6,
          7,
          8
         ],
         "y": [
          137.66500000000002,
          173.91700000000003,
          206.59,
          242.54999999999998,
          281.23400000000004,
          302.69800000000004,
          271.923,
          229.49499999999998,
          191.079
         ]
        }
       ],
       "layout": {
        "font": {
         "size": 42
        },
        "legend": {
         "font": {
          "color": "black",
          "size": 30
         },
         "orientation": "h",
         "x": 0.25,
         "y": 1.2
        },
        "plot_bgcolor": "rgba(0,0,0,0)",
        "showlegend": true,
        "template": {
         "data": {
          "bar": [
           {
            "error_x": {
             "color": "#2a3f5f"
            },
            "error_y": {
             "color": "#2a3f5f"
            },
            "marker": {
             "line": {
              "color": "#E5ECF6",
              "width": 0.5
             }
            },
            "type": "bar"
           }
          ],
          "barpolar": [
           {
            "marker": {
             "line": {
              "color": "#E5ECF6",
              "width": 0.5
             }
            },
            "type": "barpolar"
           }
          ],
          "carpet": [
           {
            "aaxis": {
             "endlinecolor": "#2a3f5f",
             "gridcolor": "white",
             "linecolor": "white",
             "minorgridcolor": "white",
             "startlinecolor": "#2a3f5f"
            },
            "baxis": {
             "endlinecolor": "#2a3f5f",
             "gridcolor": "white",
             "linecolor": "white",
             "minorgridcolor": "white",
             "startlinecolor": "#2a3f5f"
            },
            "type": "carpet"
           }
          ],
          "choropleth": [
           {
            "colorbar": {
             "outlinewidth": 0,
             "ticks": ""
            },
            "type": "choropleth"
           }
          ],
          "contour": [
           {
            "colorbar": {
             "outlinewidth": 0,
             "ticks": ""
            },
            "colorscale": [
             [
              0,
              "#0d0887"
             ],
             [
              0.1111111111111111,
              "#46039f"
             ],
             [
              0.2222222222222222,
              "#7201a8"
             ],
             [
              0.3333333333333333,
              "#9c179e"
             ],
             [
              0.4444444444444444,
              "#bd3786"
             ],
             [
              0.5555555555555556,
              "#d8576b"
             ],
             [
              0.6666666666666666,
              "#ed7953"
             ],
             [
              0.7777777777777778,
              "#fb9f3a"
             ],
             [
              0.8888888888888888,
              "#fdca26"
             ],
             [
              1,
              "#f0f921"
             ]
            ],
            "type": "contour"
           }
          ],
          "contourcarpet": [
           {
            "colorbar": {
             "outlinewidth": 0,
             "ticks": ""
            },
            "type": "contourcarpet"
           }
          ],
          "heatmap": [
           {
            "colorbar": {
             "outlinewidth": 0,
             "ticks": ""
            },
            "colorscale": [
             [
              0,
              "#0d0887"
             ],
             [
              0.1111111111111111,
              "#46039f"
             ],
             [
              0.2222222222222222,
              "#7201a8"
             ],
             [
              0.3333333333333333,
              "#9c179e"
             ],
             [
              0.4444444444444444,
              "#bd3786"
             ],
             [
              0.5555555555555556,
              "#d8576b"
             ],
             [
              0.6666666666666666,
              "#ed7953"
             ],
             [
              0.7777777777777778,
              "#fb9f3a"
             ],
             [
              0.8888888888888888,
              "#fdca26"
             ],
             [
              1,
              "#f0f921"
             ]
            ],
            "type": "heatmap"
           }
          ],
          "heatmapgl": [
           {
            "colorbar": {
             "outlinewidth": 0,
             "ticks": ""
            },
            "colorscale": [
             [
              0,
              "#0d0887"
             ],
             [
              0.1111111111111111,
              "#46039f"
             ],
             [
              0.2222222222222222,
              "#7201a8"
             ],
             [
              0.3333333333333333,
              "#9c179e"
             ],
             [
              0.4444444444444444,
              "#bd3786"
             ],
             [
              0.5555555555555556,
              "#d8576b"
             ],
             [
              0.6666666666666666,
              "#ed7953"
             ],
             [
              0.7777777777777778,
              "#fb9f3a"
             ],
             [
              0.8888888888888888,
              "#fdca26"
             ],
             [
              1,
              "#f0f921"
             ]
            ],
            "type": "heatmapgl"
           }
          ],
          "histogram": [
           {
            "marker": {
             "colorbar": {
              "outlinewidth": 0,
              "ticks": ""
             }
            },
            "type": "histogram"
           }
          ],
          "histogram2d": [
           {
            "colorbar": {
             "outlinewidth": 0,
             "ticks": ""
            },
            "colorscale": [
             [
              0,
              "#0d0887"
             ],
             [
              0.1111111111111111,
              "#46039f"
             ],
             [
              0.2222222222222222,
              "#7201a8"
             ],
             [
              0.3333333333333333,
              "#9c179e"
             ],
             [
              0.4444444444444444,
              "#bd3786"
             ],
             [
              0.5555555555555556,
              "#d8576b"
             ],
             [
              0.6666666666666666,
              "#ed7953"
             ],
             [
              0.7777777777777778,
              "#fb9f3a"
             ],
             [
              0.8888888888888888,
              "#fdca26"
             ],
             [
              1,
              "#f0f921"
             ]
            ],
            "type": "histogram2d"
           }
          ],
          "histogram2dcontour": [
           {
            "colorbar": {
             "outlinewidth": 0,
             "ticks": ""
            },
            "colorscale": [
             [
              0,
              "#0d0887"
             ],
             [
              0.1111111111111111,
              "#46039f"
             ],
             [
              0.2222222222222222,
              "#7201a8"
             ],
             [
              0.3333333333333333,
              "#9c179e"
             ],
             [
              0.4444444444444444,
              "#bd3786"
             ],
             [
              0.5555555555555556,
              "#d8576b"
             ],
             [
              0.6666666666666666,
              "#ed7953"
             ],
             [
              0.7777777777777778,
              "#fb9f3a"
             ],
             [
              0.8888888888888888,
              "#fdca26"
             ],
             [
              1,
              "#f0f921"
             ]
            ],
            "type": "histogram2dcontour"
           }
          ],
          "mesh3d": [
           {
            "colorbar": {
             "outlinewidth": 0,
             "ticks": ""
            },
            "type": "mesh3d"
           }
          ],
          "parcoords": [
           {
            "line": {
             "colorbar": {
              "outlinewidth": 0,
              "ticks": ""
             }
            },
            "type": "parcoords"
           }
          ],
          "scatter": [
           {
            "marker": {
             "colorbar": {
              "outlinewidth": 0,
              "ticks": ""
             }
            },
            "type": "scatter"
           }
          ],
          "scatter3d": [
           {
            "line": {
             "colorbar": {
              "outlinewidth": 0,
              "ticks": ""
             }
            },
            "marker": {
             "colorbar": {
              "outlinewidth": 0,
              "ticks": ""
             }
            },
            "type": "scatter3d"
           }
          ],
          "scattercarpet": [
           {
            "marker": {
             "colorbar": {
              "outlinewidth": 0,
              "ticks": ""
             }
            },
            "type": "scattercarpet"
           }
          ],
          "scattergeo": [
           {
            "marker": {
             "colorbar": {
              "outlinewidth": 0,
              "ticks": ""
             }
            },
            "type": "scattergeo"
           }
          ],
          "scattergl": [
           {
            "marker": {
             "colorbar": {
              "outlinewidth": 0,
              "ticks": ""
             }
            },
            "type": "scattergl"
           }
          ],
          "scattermapbox": [
           {
            "marker": {
             "colorbar": {
              "outlinewidth": 0,
              "ticks": ""
             }
            },
            "type": "scattermapbox"
           }
          ],
          "scatterpolar": [
           {
            "marker": {
             "colorbar": {
              "outlinewidth": 0,
              "ticks": ""
             }
            },
            "type": "scatterpolar"
           }
          ],
          "scatterpolargl": [
           {
            "marker": {
             "colorbar": {
              "outlinewidth": 0,
              "ticks": ""
             }
            },
            "type": "scatterpolargl"
           }
          ],
          "scatterternary": [
           {
            "marker": {
             "colorbar": {
              "outlinewidth": 0,
              "ticks": ""
             }
            },
            "type": "scatterternary"
           }
          ],
          "surface": [
           {
            "colorbar": {
             "outlinewidth": 0,
             "ticks": ""
            },
            "colorscale": [
             [
              0,
              "#0d0887"
             ],
             [
              0.1111111111111111,
              "#46039f"
             ],
             [
              0.2222222222222222,
              "#7201a8"
             ],
             [
              0.3333333333333333,
              "#9c179e"
             ],
             [
              0.4444444444444444,
              "#bd3786"
             ],
             [
              0.5555555555555556,
              "#d8576b"
             ],
             [
              0.6666666666666666,
              "#ed7953"
             ],
             [
              0.7777777777777778,
              "#fb9f3a"
             ],
             [
              0.8888888888888888,
              "#fdca26"
             ],
             [
              1,
              "#f0f921"
             ]
            ],
            "type": "surface"
           }
          ],
          "table": [
           {
            "cells": {
             "fill": {
              "color": "#EBF0F8"
             },
             "line": {
              "color": "white"
             }
            },
            "header": {
             "fill": {
              "color": "#C8D4E3"
             },
             "line": {
              "color": "white"
             }
            },
            "type": "table"
           }
          ]
         },
         "layout": {
          "annotationdefaults": {
           "arrowcolor": "#2a3f5f",
           "arrowhead": 0,
           "arrowwidth": 1
          },
          "colorscale": {
           "diverging": [
            [
             0,
             "#8e0152"
            ],
            [
             0.1,
             "#c51b7d"
            ],
            [
             0.2,
             "#de77ae"
            ],
            [
             0.3,
             "#f1b6da"
            ],
            [
             0.4,
             "#fde0ef"
            ],
            [
             0.5,
             "#f7f7f7"
            ],
            [
             0.6,
             "#e6f5d0"
            ],
            [
             0.7,
             "#b8e186"
            ],
            [
             0.8,
             "#7fbc41"
            ],
            [
             0.9,
             "#4d9221"
            ],
            [
             1,
             "#276419"
            ]
           ],
           "sequential": [
            [
             0,
             "#0d0887"
            ],
            [
             0.1111111111111111,
             "#46039f"
            ],
            [
             0.2222222222222222,
             "#7201a8"
            ],
            [
             0.3333333333333333,
             "#9c179e"
            ],
            [
             0.4444444444444444,
             "#bd3786"
            ],
            [
             0.5555555555555556,
             "#d8576b"
            ],
            [
             0.6666666666666666,
             "#ed7953"
            ],
            [
             0.7777777777777778,
             "#fb9f3a"
            ],
            [
             0.8888888888888888,
             "#fdca26"
            ],
            [
             1,
             "#f0f921"
            ]
           ],
           "sequentialminus": [
            [
             0,
             "#0d0887"
            ],
            [
             0.1111111111111111,
             "#46039f"
            ],
            [
             0.2222222222222222,
             "#7201a8"
            ],
            [
             0.3333333333333333,
             "#9c179e"
            ],
            [
             0.4444444444444444,
             "#bd3786"
            ],
            [
             0.5555555555555556,
             "#d8576b"
            ],
            [
             0.6666666666666666,
             "#ed7953"
            ],
            [
             0.7777777777777778,
             "#fb9f3a"
            ],
            [
             0.8888888888888888,
             "#fdca26"
            ],
            [
             1,
             "#f0f921"
            ]
           ]
          },
          "colorway": [
           "#636efa",
           "#EF553B",
           "#00cc96",
           "#ab63fa",
           "#FFA15A",
           "#19d3f3",
           "#FF6692",
           "#B6E880",
           "#FF97FF",
           "#FECB52"
          ],
          "font": {
           "color": "#2a3f5f"
          },
          "geo": {
           "bgcolor": "white",
           "lakecolor": "white",
           "landcolor": "#E5ECF6",
           "showlakes": true,
           "showland": true,
           "subunitcolor": "white"
          },
          "hoverlabel": {
           "align": "left"
          },
          "hovermode": "closest",
          "mapbox": {
           "style": "light"
          },
          "paper_bgcolor": "white",
          "plot_bgcolor": "#E5ECF6",
          "polar": {
           "angularaxis": {
            "gridcolor": "white",
            "linecolor": "white",
            "ticks": ""
           },
           "bgcolor": "#E5ECF6",
           "radialaxis": {
            "gridcolor": "white",
            "linecolor": "white",
            "ticks": ""
           }
          },
          "scene": {
           "xaxis": {
            "backgroundcolor": "#E5ECF6",
            "gridcolor": "white",
            "gridwidth": 2,
            "linecolor": "white",
            "showbackground": true,
            "ticks": "",
            "zerolinecolor": "white"
           },
           "yaxis": {
            "backgroundcolor": "#E5ECF6",
            "gridcolor": "white",
            "gridwidth": 2,
            "linecolor": "white",
            "showbackground": true,
            "ticks": "",
            "zerolinecolor": "white"
           },
           "zaxis": {
            "backgroundcolor": "#E5ECF6",
            "gridcolor": "white",
            "gridwidth": 2,
            "linecolor": "white",
            "showbackground": true,
            "ticks": "",
            "zerolinecolor": "white"
           }
          },
          "shapedefaults": {
           "line": {
            "color": "#2a3f5f"
           }
          },
          "ternary": {
           "aaxis": {
            "gridcolor": "white",
            "linecolor": "white",
            "ticks": ""
           },
           "baxis": {
            "gridcolor": "white",
            "linecolor": "white",
            "ticks": ""
           },
           "bgcolor": "#E5ECF6",
           "caxis": {
            "gridcolor": "white",
            "linecolor": "white",
            "ticks": ""
           }
          },
          "title": {
           "x": 0.05
          },
          "xaxis": {
           "automargin": true,
           "gridcolor": "white",
           "linecolor": "white",
           "ticks": "",
           "zerolinecolor": "white",
           "zerolinewidth": 2
          },
          "yaxis": {
           "automargin": true,
           "gridcolor": "white",
           "linecolor": "white",
           "ticks": "",
           "zerolinecolor": "white",
           "zerolinewidth": 2
          }
         }
        },
        "xaxis": {
         "linecolor": "black",
         "linewidth": 2,
         "showline": true,
         "ticklen": 5,
         "ticks": "inside",
         "zeroline": true
        },
        "yaxis": {
         "dtick": 1,
         "gridcolor": "lightgrey",
         "gridwidth": 1,
         "linecolor": "black",
         "linewidth": 2,
         "showgrid": true,
         "showline": true,
         "tick0": 0,
         "ticklen": 5,
         "tickmode": "linear",
         "ticks": "inside",
         "title": {
          "text": "Time (milliseconds)"
         },
         "type": "log",
         "zeroline": true
        }
       }
      },
      "text/html": [
       "<div>\n",
       "        \n",
       "        \n",
       "            <div id=\"ef1111fd-447b-4ec7-8ab0-fc25cb19901a\" class=\"plotly-graph-div\" style=\"height:525px; width:100%;\"></div>\n",
       "            <script type=\"text/javascript\">\n",
       "                require([\"plotly\"], function(Plotly) {\n",
       "                    window.PLOTLYENV=window.PLOTLYENV || {};\n",
       "                    \n",
       "                if (document.getElementById(\"ef1111fd-447b-4ec7-8ab0-fc25cb19901a\")) {\n",
       "                    Plotly.newPlot(\n",
       "                        'ef1111fd-447b-4ec7-8ab0-fc25cb19901a',\n",
       "                        [{\"line\": {\"dash\": \"dash\", \"width\": 4}, \"marker\": {\"color\": \"red\"}, \"mode\": \"lines\", \"name\": \"AvgKD\", \"type\": \"scatter\", \"x\": [0, 1, 2, 3, 4, 5, 6, 7, 8], \"y\": [4715.637000000001, 1.43, 1.477, 1.528, 1.6560000000000001, 1.718, 1.581, 1.524, 1.497]}, {\"line\": {\"dash\": \"solid\", \"width\": 4}, \"marker\": {\"color\": \"red\"}, \"mode\": \"lines\", \"name\": \"MedKD\", \"type\": \"scatter\", \"x\": [0, 1, 2, 3, 4, 5, 6, 7, 8], \"y\": [8825.752000000002, 1.595, 1.6390000000000002, 1.6179999999999999, 1.4889999999999999, 1.4559999999999997, 1.6010000000000002, 1.646, 1.604]}, {\"line\": {\"dash\": \"solid\", \"width\": 4}, \"marker\": {\"color\": \"green\"}, \"mode\": \"lines\", \"name\": \"Q\", \"type\": \"scatter\", \"x\": [0, 1, 2, 3, 4, 5, 6, 7, 8], \"y\": [2468.479, 173.114, 160.394, 138.958, 121.421, 112.351, 85.1, 68.86, 45.858]}, {\"line\": {\"dash\": \"dot\", \"width\": 4}, \"marker\": {\"color\": \"black\"}, \"mode\": \"lines\", \"name\": \"FS\", \"type\": \"scatter\", \"x\": [0, 1, 2, 3, 4, 5, 6, 7, 8], \"y\": [137.66500000000002, 173.91700000000003, 206.59, 242.54999999999998, 281.23400000000004, 302.69800000000004, 271.923, 229.49499999999998, 191.079]}],\n",
       "                        {\"font\": {\"size\": 42}, \"legend\": {\"font\": {\"color\": \"black\", \"size\": 30}, \"orientation\": \"h\", \"x\": 0.25, \"y\": 1.2}, \"plot_bgcolor\": \"rgba(0,0,0,0)\", \"showlegend\": true, \"template\": {\"data\": {\"bar\": [{\"error_x\": {\"color\": \"#2a3f5f\"}, \"error_y\": {\"color\": \"#2a3f5f\"}, \"marker\": {\"line\": {\"color\": \"#E5ECF6\", \"width\": 0.5}}, \"type\": \"bar\"}], \"barpolar\": [{\"marker\": {\"line\": {\"color\": \"#E5ECF6\", \"width\": 0.5}}, \"type\": \"barpolar\"}], \"carpet\": [{\"aaxis\": {\"endlinecolor\": \"#2a3f5f\", \"gridcolor\": \"white\", \"linecolor\": \"white\", \"minorgridcolor\": \"white\", \"startlinecolor\": \"#2a3f5f\"}, \"baxis\": {\"endlinecolor\": \"#2a3f5f\", \"gridcolor\": \"white\", \"linecolor\": \"white\", \"minorgridcolor\": \"white\", \"startlinecolor\": \"#2a3f5f\"}, \"type\": \"carpet\"}], \"choropleth\": [{\"colorbar\": {\"outlinewidth\": 0, \"ticks\": \"\"}, \"type\": \"choropleth\"}], \"contour\": [{\"colorbar\": {\"outlinewidth\": 0, \"ticks\": \"\"}, \"colorscale\": [[0.0, \"#0d0887\"], [0.1111111111111111, \"#46039f\"], [0.2222222222222222, \"#7201a8\"], [0.3333333333333333, \"#9c179e\"], [0.4444444444444444, \"#bd3786\"], [0.5555555555555556, \"#d8576b\"], [0.6666666666666666, \"#ed7953\"], [0.7777777777777778, \"#fb9f3a\"], [0.8888888888888888, \"#fdca26\"], [1.0, \"#f0f921\"]], \"type\": \"contour\"}], \"contourcarpet\": [{\"colorbar\": {\"outlinewidth\": 0, \"ticks\": \"\"}, \"type\": \"contourcarpet\"}], \"heatmap\": [{\"colorbar\": {\"outlinewidth\": 0, \"ticks\": \"\"}, \"colorscale\": [[0.0, \"#0d0887\"], [0.1111111111111111, \"#46039f\"], [0.2222222222222222, \"#7201a8\"], [0.3333333333333333, \"#9c179e\"], [0.4444444444444444, \"#bd3786\"], [0.5555555555555556, \"#d8576b\"], [0.6666666666666666, \"#ed7953\"], [0.7777777777777778, \"#fb9f3a\"], [0.8888888888888888, \"#fdca26\"], [1.0, \"#f0f921\"]], \"type\": \"heatmap\"}], \"heatmapgl\": [{\"colorbar\": {\"outlinewidth\": 0, \"ticks\": \"\"}, \"colorscale\": [[0.0, \"#0d0887\"], [0.1111111111111111, \"#46039f\"], [0.2222222222222222, \"#7201a8\"], [0.3333333333333333, \"#9c179e\"], [0.4444444444444444, \"#bd3786\"], [0.5555555555555556, \"#d8576b\"], [0.6666666666666666, \"#ed7953\"], [0.7777777777777778, \"#fb9f3a\"], [0.8888888888888888, \"#fdca26\"], [1.0, \"#f0f921\"]], \"type\": \"heatmapgl\"}], \"histogram\": [{\"marker\": {\"colorbar\": {\"outlinewidth\": 0, \"ticks\": \"\"}}, \"type\": \"histogram\"}], \"histogram2d\": [{\"colorbar\": {\"outlinewidth\": 0, \"ticks\": \"\"}, \"colorscale\": [[0.0, \"#0d0887\"], [0.1111111111111111, \"#46039f\"], [0.2222222222222222, \"#7201a8\"], [0.3333333333333333, \"#9c179e\"], [0.4444444444444444, \"#bd3786\"], [0.5555555555555556, \"#d8576b\"], [0.6666666666666666, \"#ed7953\"], [0.7777777777777778, \"#fb9f3a\"], [0.8888888888888888, \"#fdca26\"], [1.0, \"#f0f921\"]], \"type\": \"histogram2d\"}], \"histogram2dcontour\": [{\"colorbar\": {\"outlinewidth\": 0, \"ticks\": \"\"}, \"colorscale\": [[0.0, \"#0d0887\"], [0.1111111111111111, \"#46039f\"], [0.2222222222222222, \"#7201a8\"], [0.3333333333333333, \"#9c179e\"], [0.4444444444444444, \"#bd3786\"], [0.5555555555555556, \"#d8576b\"], [0.6666666666666666, \"#ed7953\"], [0.7777777777777778, \"#fb9f3a\"], [0.8888888888888888, \"#fdca26\"], [1.0, \"#f0f921\"]], \"type\": \"histogram2dcontour\"}], \"mesh3d\": [{\"colorbar\": {\"outlinewidth\": 0, \"ticks\": \"\"}, \"type\": \"mesh3d\"}], \"parcoords\": [{\"line\": {\"colorbar\": {\"outlinewidth\": 0, \"ticks\": \"\"}}, \"type\": \"parcoords\"}], \"scatter\": [{\"marker\": {\"colorbar\": {\"outlinewidth\": 0, \"ticks\": \"\"}}, \"type\": \"scatter\"}], \"scatter3d\": [{\"line\": {\"colorbar\": {\"outlinewidth\": 0, \"ticks\": \"\"}}, \"marker\": {\"colorbar\": {\"outlinewidth\": 0, \"ticks\": \"\"}}, \"type\": \"scatter3d\"}], \"scattercarpet\": [{\"marker\": {\"colorbar\": {\"outlinewidth\": 0, \"ticks\": \"\"}}, \"type\": \"scattercarpet\"}], \"scattergeo\": [{\"marker\": {\"colorbar\": {\"outlinewidth\": 0, \"ticks\": \"\"}}, \"type\": \"scattergeo\"}], \"scattergl\": [{\"marker\": {\"colorbar\": {\"outlinewidth\": 0, \"ticks\": \"\"}}, \"type\": \"scattergl\"}], \"scattermapbox\": [{\"marker\": {\"colorbar\": {\"outlinewidth\": 0, \"ticks\": \"\"}}, \"type\": \"scattermapbox\"}], \"scatterpolar\": [{\"marker\": {\"colorbar\": {\"outlinewidth\": 0, \"ticks\": \"\"}}, \"type\": \"scatterpolar\"}], \"scatterpolargl\": [{\"marker\": {\"colorbar\": {\"outlinewidth\": 0, \"ticks\": \"\"}}, \"type\": \"scatterpolargl\"}], \"scatterternary\": [{\"marker\": {\"colorbar\": {\"outlinewidth\": 0, \"ticks\": \"\"}}, \"type\": \"scatterternary\"}], \"surface\": [{\"colorbar\": {\"outlinewidth\": 0, \"ticks\": \"\"}, \"colorscale\": [[0.0, \"#0d0887\"], [0.1111111111111111, \"#46039f\"], [0.2222222222222222, \"#7201a8\"], [0.3333333333333333, \"#9c179e\"], [0.4444444444444444, \"#bd3786\"], [0.5555555555555556, \"#d8576b\"], [0.6666666666666666, \"#ed7953\"], [0.7777777777777778, \"#fb9f3a\"], [0.8888888888888888, \"#fdca26\"], [1.0, \"#f0f921\"]], \"type\": \"surface\"}], \"table\": [{\"cells\": {\"fill\": {\"color\": \"#EBF0F8\"}, \"line\": {\"color\": \"white\"}}, \"header\": {\"fill\": {\"color\": \"#C8D4E3\"}, \"line\": {\"color\": \"white\"}}, \"type\": \"table\"}]}, \"layout\": {\"annotationdefaults\": {\"arrowcolor\": \"#2a3f5f\", \"arrowhead\": 0, \"arrowwidth\": 1}, \"colorscale\": {\"diverging\": [[0, \"#8e0152\"], [0.1, \"#c51b7d\"], [0.2, \"#de77ae\"], [0.3, \"#f1b6da\"], [0.4, \"#fde0ef\"], [0.5, \"#f7f7f7\"], [0.6, \"#e6f5d0\"], [0.7, \"#b8e186\"], [0.8, \"#7fbc41\"], [0.9, \"#4d9221\"], [1, \"#276419\"]], \"sequential\": [[0.0, \"#0d0887\"], [0.1111111111111111, \"#46039f\"], [0.2222222222222222, \"#7201a8\"], [0.3333333333333333, \"#9c179e\"], [0.4444444444444444, \"#bd3786\"], [0.5555555555555556, \"#d8576b\"], [0.6666666666666666, \"#ed7953\"], [0.7777777777777778, \"#fb9f3a\"], [0.8888888888888888, \"#fdca26\"], [1.0, \"#f0f921\"]], \"sequentialminus\": [[0.0, \"#0d0887\"], [0.1111111111111111, \"#46039f\"], [0.2222222222222222, \"#7201a8\"], [0.3333333333333333, \"#9c179e\"], [0.4444444444444444, \"#bd3786\"], [0.5555555555555556, \"#d8576b\"], [0.6666666666666666, \"#ed7953\"], [0.7777777777777778, \"#fb9f3a\"], [0.8888888888888888, \"#fdca26\"], [1.0, \"#f0f921\"]]}, \"colorway\": [\"#636efa\", \"#EF553B\", \"#00cc96\", \"#ab63fa\", \"#FFA15A\", \"#19d3f3\", \"#FF6692\", \"#B6E880\", \"#FF97FF\", \"#FECB52\"], \"font\": {\"color\": \"#2a3f5f\"}, \"geo\": {\"bgcolor\": \"white\", \"lakecolor\": \"white\", \"landcolor\": \"#E5ECF6\", \"showlakes\": true, \"showland\": true, \"subunitcolor\": \"white\"}, \"hoverlabel\": {\"align\": \"left\"}, \"hovermode\": \"closest\", \"mapbox\": {\"style\": \"light\"}, \"paper_bgcolor\": \"white\", \"plot_bgcolor\": \"#E5ECF6\", \"polar\": {\"angularaxis\": {\"gridcolor\": \"white\", \"linecolor\": \"white\", \"ticks\": \"\"}, \"bgcolor\": \"#E5ECF6\", \"radialaxis\": {\"gridcolor\": \"white\", \"linecolor\": \"white\", \"ticks\": \"\"}}, \"scene\": {\"xaxis\": {\"backgroundcolor\": \"#E5ECF6\", \"gridcolor\": \"white\", \"gridwidth\": 2, \"linecolor\": \"white\", \"showbackground\": true, \"ticks\": \"\", \"zerolinecolor\": \"white\"}, \"yaxis\": {\"backgroundcolor\": \"#E5ECF6\", \"gridcolor\": \"white\", \"gridwidth\": 2, \"linecolor\": \"white\", \"showbackground\": true, \"ticks\": \"\", \"zerolinecolor\": \"white\"}, \"zaxis\": {\"backgroundcolor\": \"#E5ECF6\", \"gridcolor\": \"white\", \"gridwidth\": 2, \"linecolor\": \"white\", \"showbackground\": true, \"ticks\": \"\", \"zerolinecolor\": \"white\"}}, \"shapedefaults\": {\"line\": {\"color\": \"#2a3f5f\"}}, \"ternary\": {\"aaxis\": {\"gridcolor\": \"white\", \"linecolor\": \"white\", \"ticks\": \"\"}, \"baxis\": {\"gridcolor\": \"white\", \"linecolor\": \"white\", \"ticks\": \"\"}, \"bgcolor\": \"#E5ECF6\", \"caxis\": {\"gridcolor\": \"white\", \"linecolor\": \"white\", \"ticks\": \"\"}}, \"title\": {\"x\": 0.05}, \"xaxis\": {\"automargin\": true, \"gridcolor\": \"white\", \"linecolor\": \"white\", \"ticks\": \"\", \"zerolinecolor\": \"white\", \"zerolinewidth\": 2}, \"yaxis\": {\"automargin\": true, \"gridcolor\": \"white\", \"linecolor\": \"white\", \"ticks\": \"\", \"zerolinecolor\": \"white\", \"zerolinewidth\": 2}}}, \"xaxis\": {\"linecolor\": \"black\", \"linewidth\": 2, \"showline\": true, \"ticklen\": 5, \"ticks\": \"inside\", \"zeroline\": true}, \"yaxis\": {\"dtick\": 1, \"gridcolor\": \"lightgrey\", \"gridwidth\": 1, \"linecolor\": \"black\", \"linewidth\": 2, \"showgrid\": true, \"showline\": true, \"tick0\": 0.0, \"ticklen\": 5, \"tickmode\": \"linear\", \"ticks\": \"inside\", \"title\": {\"text\": \"Time (milliseconds)\"}, \"type\": \"log\", \"zeroline\": true}},\n",
       "                        {\"responsive\": true}\n",
       "                    ).then(function(){\n",
       "                            \n",
       "var gd = document.getElementById('ef1111fd-447b-4ec7-8ab0-fc25cb19901a');\n",
       "var x = new MutationObserver(function (mutations, observer) {{\n",
       "        var display = window.getComputedStyle(gd).display;\n",
       "        if (!display || display === 'none') {{\n",
       "            console.log([gd, 'removed!']);\n",
       "            Plotly.purge(gd);\n",
       "            observer.disconnect();\n",
       "        }}\n",
       "}});\n",
       "\n",
       "// Listen for the removal of the full notebook cells\n",
       "var notebookContainer = gd.closest('#notebook-container');\n",
       "if (notebookContainer) {{\n",
       "    x.observe(notebookContainer, {childList: true});\n",
       "}}\n",
       "\n",
       "// Listen for the clearing of the current output cell\n",
       "var outputEl = gd.closest('.output');\n",
       "if (outputEl) {{\n",
       "    x.observe(outputEl, {childList: true});\n",
       "}}\n",
       "\n",
       "                        })\n",
       "                };\n",
       "                });\n",
       "            </script>\n",
       "        </div>"
      ]
     },
     "metadata": {},
     "output_type": "display_data"
    }
   ],
   "source": [
    "a = per_query('Sequential2', ['AverageKDTree', 'MedianKDTree', 'Quasii', 'FullScan'])\n",
    "a.update_layout(yaxis=dict(\n",
    "        tickmode = 'linear',\n",
    "        tick0 = 0.0,\n",
    "        dtick = 1\n",
    "    ))\n",
    "save_figure(a, 'payoff-per-query.pdf')\n",
    "a"
   ]
  },
  {
   "cell_type": "code",
   "execution_count": 399,
   "metadata": {},
   "outputs": [
    {
     "data": {
      "application/vnd.plotly.v1+json": {
       "config": {
        "plotlyServerURL": "https://plot.ly"
       },
       "data": [
        {
         "line": {
          "dash": "dash",
          "width": 4
         },
         "marker": {
          "color": "red"
         },
         "mode": "lines",
         "name": "AvgKD",
         "type": "scatter",
         "x": [
          0,
          1,
          2,
          3,
          4,
          5,
          6,
          7,
          8,
          9,
          10,
          11,
          12,
          13,
          14,
          15,
          16,
          17,
          18,
          19,
          20,
          21,
          22,
          23,
          24,
          25,
          26,
          27,
          28,
          29
         ],
         "y": [
          2.6111709999999997,
          2.7700379999999996,
          2.9252439999999997,
          3.0054299999999996,
          3.1629259999999997,
          3.2644189999999997,
          3.3455559999999998,
          3.3684079999999996,
          3.3811349999999996,
          3.3917219999999997,
          3.416759,
          3.41933,
          3.425312,
          3.444616,
          3.477125,
          3.682894,
          3.69984,
          3.723587,
          3.9562250000000003,
          3.9757710000000004,
          3.9865580000000005,
          4.005278000000001,
          4.268714000000001,
          4.280222000000001,
          4.306605000000001,
          4.328882000000001,
          4.354636000000001,
          4.382795000000001,
          4.4036480000000005,
          4.417931
         ]
        },
        {
         "line": {
          "dash": "solid",
          "width": 4
         },
         "marker": {
          "color": "red"
         },
         "mode": "lines",
         "name": "MedKD",
         "type": "scatter",
         "x": [
          0,
          1,
          2,
          3,
          4,
          5,
          6,
          7,
          8,
          9,
          10,
          11,
          12,
          13,
          14,
          15,
          16,
          17,
          18,
          19,
          20,
          21,
          22,
          23,
          24,
          25,
          26,
          27,
          28,
          29
         ],
         "y": [
          2.571419,
          2.723177,
          2.867646,
          2.965433,
          3.110941,
          3.224458,
          3.322686,
          3.344455,
          3.376918,
          3.4036999999999997,
          3.428012,
          3.4315179999999996,
          3.4612269999999996,
          3.4908909999999995,
          3.5294619999999997,
          3.716855,
          3.729139,
          3.742608,
          3.955877,
          3.976906,
          4.012341,
          4.024492,
          4.266721,
          4.2908360000000005,
          4.325364,
          4.347362,
          4.373856,
          4.411736,
          4.431695,
          4.461843
         ]
        },
        {
         "line": {
          "dash": "dash",
          "width": 4
         },
         "marker": {
          "color": "green"
         },
         "mode": "lines",
         "name": "AKD",
         "type": "scatter",
         "x": [
          0,
          1,
          2,
          3,
          4,
          5,
          6,
          7,
          8,
          9,
          10,
          11,
          12,
          13,
          14,
          15,
          16,
          17,
          18,
          19,
          20,
          21,
          22,
          23,
          24,
          25,
          26,
          27,
          28,
          29
         ],
         "y": [
          1.4541429999999997,
          2.3407139999999997,
          2.4375459999999998,
          2.823625,
          3.3303439999999997,
          3.8046239999999996,
          3.8914159999999995,
          4.012242,
          4.135834,
          4.21855,
          4.490455,
          4.491464,
          4.542832,
          4.581385,
          4.620037,
          4.702519,
          5.061160999999999,
          5.144785,
          5.410225,
          5.529160999999999,
          5.573994999999999,
          5.616946999999999,
          5.989929999999998,
          5.993889999999999,
          6.042486999999999,
          6.091685999999998,
          6.110986999999998,
          6.144085999999998,
          6.179493999999998,
          6.202374999999998
         ]
        },
        {
         "line": {
          "dash": "solid",
          "width": 4
         },
         "marker": {
          "color": "green"
         },
         "mode": "lines",
         "name": "Q",
         "type": "scatter",
         "x": [
          0,
          1,
          2,
          3,
          4,
          5,
          6,
          7,
          8,
          9,
          10,
          11,
          12,
          13,
          14,
          15,
          16,
          17,
          18,
          19,
          20,
          21,
          22,
          23,
          24,
          25,
          26,
          27,
          28,
          29
         ],
         "y": [
          2.714926,
          4.4356990000000005,
          4.487478,
          4.871402000000001,
          5.221195000000001,
          5.449187,
          5.523798,
          5.56348,
          5.597752,
          5.630121,
          5.979964,
          6.023016,
          6.03387,
          6.042077,
          6.094696,
          6.569281999999999,
          6.775202999999999,
          6.898363,
          7.1810659999999995,
          7.359284,
          7.437894,
          7.457116,
          7.736388,
          7.739052,
          7.802472,
          7.8182599999999995,
          8.067072999999999,
          8.109283999999999,
          8.29361,
          8.338434999999999
         ]
        },
        {
         "line": {
          "dash": "solid",
          "width": 4
         },
         "marker": {
          "color": "purple"
         },
         "mode": "lines",
         "name": "PKD(.2)",
         "type": "scatter",
         "x": [
          0,
          1,
          2,
          3,
          4,
          5,
          6,
          7,
          8,
          9,
          10,
          11,
          12,
          13,
          14,
          15,
          16,
          17,
          18,
          19,
          20,
          21,
          22,
          23,
          24,
          25,
          26,
          27,
          28,
          29
         ],
         "y": [
          0.272943,
          0.6947829999999999,
          1.0903239999999998,
          1.4543059999999999,
          1.8856899999999999,
          2.209596,
          2.5412429999999997,
          2.779139,
          3.0026829999999998,
          3.1981849999999996,
          3.3931599999999995,
          3.5274669999999997,
          3.6809089999999998,
          3.7936289999999997,
          3.8944759999999996,
          4.218844,
          4.2970619999999995,
          4.436230999999999,
          4.680216999999999,
          4.825032999999999,
          4.894043999999998,
          4.970982999999999,
          5.240288999999999,
          5.312813999999999,
          5.438199999999998,
          5.565331999999998,
          5.669286999999998,
          5.719348999999998,
          5.826832999999998,
          5.906622999999998
         ]
        },
        {
         "line": {
          "dash": "dash",
          "width": 4
         },
         "marker": {
          "color": "purple"
         },
         "mode": "lines",
         "name": "GPKD(.2)",
         "type": "scatter",
         "x": [
          0,
          1,
          2,
          3,
          4,
          5,
          6,
          7,
          8,
          9,
          10,
          11,
          12,
          13,
          14,
          15,
          16,
          17,
          18,
          19,
          20,
          21,
          22,
          23,
          24,
          25,
          26,
          27,
          28,
          29
         ],
         "y": [
          0.273526,
          0.602184,
          0.927845,
          1.284583,
          1.6054300000000001,
          1.8576810000000001,
          2.104013,
          2.358864,
          2.610986,
          2.857634,
          3.109722,
          3.359087,
          3.609283,
          3.862985,
          4.11283,
          4.362591,
          4.608782,
          4.856737,
          5.106406,
          5.357238,
          5.605131999999999,
          5.851328999999999,
          6.103466999999999,
          6.357265999999999,
          6.604682999999999,
          6.859377999999999,
          7.113935999999999,
          7.360935999999999,
          7.613593999999999,
          7.864550999999999
         ]
        },
        {
         "line": {
          "dash": "dot",
          "width": 4
         },
         "marker": {
          "color": "black"
         },
         "mode": "lines",
         "name": "FS",
         "type": "scatter",
         "x": [
          0,
          1,
          2,
          3,
          4,
          5,
          6,
          7,
          8,
          9,
          10,
          11,
          12,
          13,
          14,
          15,
          16,
          17,
          18,
          19,
          20,
          21,
          22,
          23,
          24,
          25,
          26,
          27,
          28,
          29
         ],
         "y": [
          0.037485000000000004,
          0.275397,
          0.514044,
          0.7100289999999999,
          0.949792,
          1.190038,
          1.386896,
          1.5239239999999998,
          1.6564549999999998,
          1.7847239999999998,
          1.9235319999999998,
          1.9609609999999997,
          2.089556,
          2.218783,
          2.359224,
          2.617014,
          2.752403,
          2.8907320000000003,
          3.1466490000000005,
          3.2831280000000005,
          3.4208670000000003,
          3.5551260000000005,
          3.8483360000000006,
          3.9802160000000004,
          4.117444000000001,
          4.256829000000001,
          4.399123,
          4.53735,
          4.674216,
          4.807595
         ]
        }
       ],
       "layout": {
        "font": {
         "size": 42
        },
        "legend": {
         "font": {
          "color": "black",
          "size": 30
         },
         "orientation": "h",
         "x": 0,
         "y": 1.2
        },
        "plot_bgcolor": "rgba(0,0,0,0)",
        "showlegend": true,
        "template": {
         "data": {
          "bar": [
           {
            "error_x": {
             "color": "#2a3f5f"
            },
            "error_y": {
             "color": "#2a3f5f"
            },
            "marker": {
             "line": {
              "color": "#E5ECF6",
              "width": 0.5
             }
            },
            "type": "bar"
           }
          ],
          "barpolar": [
           {
            "marker": {
             "line": {
              "color": "#E5ECF6",
              "width": 0.5
             }
            },
            "type": "barpolar"
           }
          ],
          "carpet": [
           {
            "aaxis": {
             "endlinecolor": "#2a3f5f",
             "gridcolor": "white",
             "linecolor": "white",
             "minorgridcolor": "white",
             "startlinecolor": "#2a3f5f"
            },
            "baxis": {
             "endlinecolor": "#2a3f5f",
             "gridcolor": "white",
             "linecolor": "white",
             "minorgridcolor": "white",
             "startlinecolor": "#2a3f5f"
            },
            "type": "carpet"
           }
          ],
          "choropleth": [
           {
            "colorbar": {
             "outlinewidth": 0,
             "ticks": ""
            },
            "type": "choropleth"
           }
          ],
          "contour": [
           {
            "colorbar": {
             "outlinewidth": 0,
             "ticks": ""
            },
            "colorscale": [
             [
              0,
              "#0d0887"
             ],
             [
              0.1111111111111111,
              "#46039f"
             ],
             [
              0.2222222222222222,
              "#7201a8"
             ],
             [
              0.3333333333333333,
              "#9c179e"
             ],
             [
              0.4444444444444444,
              "#bd3786"
             ],
             [
              0.5555555555555556,
              "#d8576b"
             ],
             [
              0.6666666666666666,
              "#ed7953"
             ],
             [
              0.7777777777777778,
              "#fb9f3a"
             ],
             [
              0.8888888888888888,
              "#fdca26"
             ],
             [
              1,
              "#f0f921"
             ]
            ],
            "type": "contour"
           }
          ],
          "contourcarpet": [
           {
            "colorbar": {
             "outlinewidth": 0,
             "ticks": ""
            },
            "type": "contourcarpet"
           }
          ],
          "heatmap": [
           {
            "colorbar": {
             "outlinewidth": 0,
             "ticks": ""
            },
            "colorscale": [
             [
              0,
              "#0d0887"
             ],
             [
              0.1111111111111111,
              "#46039f"
             ],
             [
              0.2222222222222222,
              "#7201a8"
             ],
             [
              0.3333333333333333,
              "#9c179e"
             ],
             [
              0.4444444444444444,
              "#bd3786"
             ],
             [
              0.5555555555555556,
              "#d8576b"
             ],
             [
              0.6666666666666666,
              "#ed7953"
             ],
             [
              0.7777777777777778,
              "#fb9f3a"
             ],
             [
              0.8888888888888888,
              "#fdca26"
             ],
             [
              1,
              "#f0f921"
             ]
            ],
            "type": "heatmap"
           }
          ],
          "heatmapgl": [
           {
            "colorbar": {
             "outlinewidth": 0,
             "ticks": ""
            },
            "colorscale": [
             [
              0,
              "#0d0887"
             ],
             [
              0.1111111111111111,
              "#46039f"
             ],
             [
              0.2222222222222222,
              "#7201a8"
             ],
             [
              0.3333333333333333,
              "#9c179e"
             ],
             [
              0.4444444444444444,
              "#bd3786"
             ],
             [
              0.5555555555555556,
              "#d8576b"
             ],
             [
              0.6666666666666666,
              "#ed7953"
             ],
             [
              0.7777777777777778,
              "#fb9f3a"
             ],
             [
              0.8888888888888888,
              "#fdca26"
             ],
             [
              1,
              "#f0f921"
             ]
            ],
            "type": "heatmapgl"
           }
          ],
          "histogram": [
           {
            "marker": {
             "colorbar": {
              "outlinewidth": 0,
              "ticks": ""
             }
            },
            "type": "histogram"
           }
          ],
          "histogram2d": [
           {
            "colorbar": {
             "outlinewidth": 0,
             "ticks": ""
            },
            "colorscale": [
             [
              0,
              "#0d0887"
             ],
             [
              0.1111111111111111,
              "#46039f"
             ],
             [
              0.2222222222222222,
              "#7201a8"
             ],
             [
              0.3333333333333333,
              "#9c179e"
             ],
             [
              0.4444444444444444,
              "#bd3786"
             ],
             [
              0.5555555555555556,
              "#d8576b"
             ],
             [
              0.6666666666666666,
              "#ed7953"
             ],
             [
              0.7777777777777778,
              "#fb9f3a"
             ],
             [
              0.8888888888888888,
              "#fdca26"
             ],
             [
              1,
              "#f0f921"
             ]
            ],
            "type": "histogram2d"
           }
          ],
          "histogram2dcontour": [
           {
            "colorbar": {
             "outlinewidth": 0,
             "ticks": ""
            },
            "colorscale": [
             [
              0,
              "#0d0887"
             ],
             [
              0.1111111111111111,
              "#46039f"
             ],
             [
              0.2222222222222222,
              "#7201a8"
             ],
             [
              0.3333333333333333,
              "#9c179e"
             ],
             [
              0.4444444444444444,
              "#bd3786"
             ],
             [
              0.5555555555555556,
              "#d8576b"
             ],
             [
              0.6666666666666666,
              "#ed7953"
             ],
             [
              0.7777777777777778,
              "#fb9f3a"
             ],
             [
              0.8888888888888888,
              "#fdca26"
             ],
             [
              1,
              "#f0f921"
             ]
            ],
            "type": "histogram2dcontour"
           }
          ],
          "mesh3d": [
           {
            "colorbar": {
             "outlinewidth": 0,
             "ticks": ""
            },
            "type": "mesh3d"
           }
          ],
          "parcoords": [
           {
            "line": {
             "colorbar": {
              "outlinewidth": 0,
              "ticks": ""
             }
            },
            "type": "parcoords"
           }
          ],
          "scatter": [
           {
            "marker": {
             "colorbar": {
              "outlinewidth": 0,
              "ticks": ""
             }
            },
            "type": "scatter"
           }
          ],
          "scatter3d": [
           {
            "line": {
             "colorbar": {
              "outlinewidth": 0,
              "ticks": ""
             }
            },
            "marker": {
             "colorbar": {
              "outlinewidth": 0,
              "ticks": ""
             }
            },
            "type": "scatter3d"
           }
          ],
          "scattercarpet": [
           {
            "marker": {
             "colorbar": {
              "outlinewidth": 0,
              "ticks": ""
             }
            },
            "type": "scattercarpet"
           }
          ],
          "scattergeo": [
           {
            "marker": {
             "colorbar": {
              "outlinewidth": 0,
              "ticks": ""
             }
            },
            "type": "scattergeo"
           }
          ],
          "scattergl": [
           {
            "marker": {
             "colorbar": {
              "outlinewidth": 0,
              "ticks": ""
             }
            },
            "type": "scattergl"
           }
          ],
          "scattermapbox": [
           {
            "marker": {
             "colorbar": {
              "outlinewidth": 0,
              "ticks": ""
             }
            },
            "type": "scattermapbox"
           }
          ],
          "scatterpolar": [
           {
            "marker": {
             "colorbar": {
              "outlinewidth": 0,
              "ticks": ""
             }
            },
            "type": "scatterpolar"
           }
          ],
          "scatterpolargl": [
           {
            "marker": {
             "colorbar": {
              "outlinewidth": 0,
              "ticks": ""
             }
            },
            "type": "scatterpolargl"
           }
          ],
          "scatterternary": [
           {
            "marker": {
             "colorbar": {
              "outlinewidth": 0,
              "ticks": ""
             }
            },
            "type": "scatterternary"
           }
          ],
          "surface": [
           {
            "colorbar": {
             "outlinewidth": 0,
             "ticks": ""
            },
            "colorscale": [
             [
              0,
              "#0d0887"
             ],
             [
              0.1111111111111111,
              "#46039f"
             ],
             [
              0.2222222222222222,
              "#7201a8"
             ],
             [
              0.3333333333333333,
              "#9c179e"
             ],
             [
              0.4444444444444444,
              "#bd3786"
             ],
             [
              0.5555555555555556,
              "#d8576b"
             ],
             [
              0.6666666666666666,
              "#ed7953"
             ],
             [
              0.7777777777777778,
              "#fb9f3a"
             ],
             [
              0.8888888888888888,
              "#fdca26"
             ],
             [
              1,
              "#f0f921"
             ]
            ],
            "type": "surface"
           }
          ],
          "table": [
           {
            "cells": {
             "fill": {
              "color": "#EBF0F8"
             },
             "line": {
              "color": "white"
             }
            },
            "header": {
             "fill": {
              "color": "#C8D4E3"
             },
             "line": {
              "color": "white"
             }
            },
            "type": "table"
           }
          ]
         },
         "layout": {
          "annotationdefaults": {
           "arrowcolor": "#2a3f5f",
           "arrowhead": 0,
           "arrowwidth": 1
          },
          "colorscale": {
           "diverging": [
            [
             0,
             "#8e0152"
            ],
            [
             0.1,
             "#c51b7d"
            ],
            [
             0.2,
             "#de77ae"
            ],
            [
             0.3,
             "#f1b6da"
            ],
            [
             0.4,
             "#fde0ef"
            ],
            [
             0.5,
             "#f7f7f7"
            ],
            [
             0.6,
             "#e6f5d0"
            ],
            [
             0.7,
             "#b8e186"
            ],
            [
             0.8,
             "#7fbc41"
            ],
            [
             0.9,
             "#4d9221"
            ],
            [
             1,
             "#276419"
            ]
           ],
           "sequential": [
            [
             0,
             "#0d0887"
            ],
            [
             0.1111111111111111,
             "#46039f"
            ],
            [
             0.2222222222222222,
             "#7201a8"
            ],
            [
             0.3333333333333333,
             "#9c179e"
            ],
            [
             0.4444444444444444,
             "#bd3786"
            ],
            [
             0.5555555555555556,
             "#d8576b"
            ],
            [
             0.6666666666666666,
             "#ed7953"
            ],
            [
             0.7777777777777778,
             "#fb9f3a"
            ],
            [
             0.8888888888888888,
             "#fdca26"
            ],
            [
             1,
             "#f0f921"
            ]
           ],
           "sequentialminus": [
            [
             0,
             "#0d0887"
            ],
            [
             0.1111111111111111,
             "#46039f"
            ],
            [
             0.2222222222222222,
             "#7201a8"
            ],
            [
             0.3333333333333333,
             "#9c179e"
            ],
            [
             0.4444444444444444,
             "#bd3786"
            ],
            [
             0.5555555555555556,
             "#d8576b"
            ],
            [
             0.6666666666666666,
             "#ed7953"
            ],
            [
             0.7777777777777778,
             "#fb9f3a"
            ],
            [
             0.8888888888888888,
             "#fdca26"
            ],
            [
             1,
             "#f0f921"
            ]
           ]
          },
          "colorway": [
           "#636efa",
           "#EF553B",
           "#00cc96",
           "#ab63fa",
           "#FFA15A",
           "#19d3f3",
           "#FF6692",
           "#B6E880",
           "#FF97FF",
           "#FECB52"
          ],
          "font": {
           "color": "#2a3f5f"
          },
          "geo": {
           "bgcolor": "white",
           "lakecolor": "white",
           "landcolor": "#E5ECF6",
           "showlakes": true,
           "showland": true,
           "subunitcolor": "white"
          },
          "hoverlabel": {
           "align": "left"
          },
          "hovermode": "closest",
          "mapbox": {
           "style": "light"
          },
          "paper_bgcolor": "white",
          "plot_bgcolor": "#E5ECF6",
          "polar": {
           "angularaxis": {
            "gridcolor": "white",
            "linecolor": "white",
            "ticks": ""
           },
           "bgcolor": "#E5ECF6",
           "radialaxis": {
            "gridcolor": "white",
            "linecolor": "white",
            "ticks": ""
           }
          },
          "scene": {
           "xaxis": {
            "backgroundcolor": "#E5ECF6",
            "gridcolor": "white",
            "gridwidth": 2,
            "linecolor": "white",
            "showbackground": true,
            "ticks": "",
            "zerolinecolor": "white"
           },
           "yaxis": {
            "backgroundcolor": "#E5ECF6",
            "gridcolor": "white",
            "gridwidth": 2,
            "linecolor": "white",
            "showbackground": true,
            "ticks": "",
            "zerolinecolor": "white"
           },
           "zaxis": {
            "backgroundcolor": "#E5ECF6",
            "gridcolor": "white",
            "gridwidth": 2,
            "linecolor": "white",
            "showbackground": true,
            "ticks": "",
            "zerolinecolor": "white"
           }
          },
          "shapedefaults": {
           "line": {
            "color": "#2a3f5f"
           }
          },
          "ternary": {
           "aaxis": {
            "gridcolor": "white",
            "linecolor": "white",
            "ticks": ""
           },
           "baxis": {
            "gridcolor": "white",
            "linecolor": "white",
            "ticks": ""
           },
           "bgcolor": "#E5ECF6",
           "caxis": {
            "gridcolor": "white",
            "linecolor": "white",
            "ticks": ""
           }
          },
          "title": {
           "x": 0.05
          },
          "xaxis": {
           "automargin": true,
           "gridcolor": "white",
           "linecolor": "white",
           "ticks": "",
           "zerolinecolor": "white",
           "zerolinewidth": 2
          },
          "yaxis": {
           "automargin": true,
           "gridcolor": "white",
           "linecolor": "white",
           "ticks": "",
           "zerolinecolor": "white",
           "zerolinewidth": 2
          }
         }
        },
        "xaxis": {
         "linecolor": "black",
         "linewidth": 2,
         "showline": true,
         "ticklen": 5,
         "ticks": "inside",
         "zeroline": true
        },
        "yaxis": {
         "gridcolor": "lightgrey",
         "gridwidth": 1,
         "linecolor": "black",
         "linewidth": 2,
         "showgrid": true,
         "showline": true,
         "ticklen": 5,
         "ticks": "inside",
         "title": {
          "text": "Time (Seconds)"
         },
         "zeroline": true
        }
       }
      },
      "text/html": [
       "<div>\n",
       "        \n",
       "        \n",
       "            <div id=\"b9d87419-fcb7-4dbc-a243-d6ae7e0f846a\" class=\"plotly-graph-div\" style=\"height:525px; width:100%;\"></div>\n",
       "            <script type=\"text/javascript\">\n",
       "                require([\"plotly\"], function(Plotly) {\n",
       "                    window.PLOTLYENV=window.PLOTLYENV || {};\n",
       "                    \n",
       "                if (document.getElementById(\"b9d87419-fcb7-4dbc-a243-d6ae7e0f846a\")) {\n",
       "                    Plotly.newPlot(\n",
       "                        'b9d87419-fcb7-4dbc-a243-d6ae7e0f846a',\n",
       "                        [{\"line\": {\"dash\": \"dash\", \"width\": 4}, \"marker\": {\"color\": \"red\"}, \"mode\": \"lines\", \"name\": \"AvgKD\", \"type\": \"scatter\", \"x\": [0, 1, 2, 3, 4, 5, 6, 7, 8, 9, 10, 11, 12, 13, 14, 15, 16, 17, 18, 19, 20, 21, 22, 23, 24, 25, 26, 27, 28, 29], \"y\": [2.6111709999999997, 2.7700379999999996, 2.9252439999999997, 3.0054299999999996, 3.1629259999999997, 3.2644189999999997, 3.3455559999999998, 3.3684079999999996, 3.3811349999999996, 3.3917219999999997, 3.416759, 3.41933, 3.425312, 3.444616, 3.477125, 3.682894, 3.69984, 3.723587, 3.9562250000000003, 3.9757710000000004, 3.9865580000000005, 4.005278000000001, 4.268714000000001, 4.280222000000001, 4.306605000000001, 4.328882000000001, 4.354636000000001, 4.382795000000001, 4.4036480000000005, 4.417931]}, {\"line\": {\"dash\": \"solid\", \"width\": 4}, \"marker\": {\"color\": \"red\"}, \"mode\": \"lines\", \"name\": \"MedKD\", \"type\": \"scatter\", \"x\": [0, 1, 2, 3, 4, 5, 6, 7, 8, 9, 10, 11, 12, 13, 14, 15, 16, 17, 18, 19, 20, 21, 22, 23, 24, 25, 26, 27, 28, 29], \"y\": [2.571419, 2.723177, 2.867646, 2.965433, 3.110941, 3.224458, 3.322686, 3.344455, 3.376918, 3.4036999999999997, 3.428012, 3.4315179999999996, 3.4612269999999996, 3.4908909999999995, 3.5294619999999997, 3.716855, 3.729139, 3.742608, 3.955877, 3.976906, 4.012341, 4.024492, 4.266721, 4.2908360000000005, 4.325364, 4.347362, 4.373856, 4.411736, 4.431695, 4.461843]}, {\"line\": {\"dash\": \"dash\", \"width\": 4}, \"marker\": {\"color\": \"green\"}, \"mode\": \"lines\", \"name\": \"AKD\", \"type\": \"scatter\", \"x\": [0, 1, 2, 3, 4, 5, 6, 7, 8, 9, 10, 11, 12, 13, 14, 15, 16, 17, 18, 19, 20, 21, 22, 23, 24, 25, 26, 27, 28, 29], \"y\": [1.4541429999999997, 2.3407139999999997, 2.4375459999999998, 2.823625, 3.3303439999999997, 3.8046239999999996, 3.8914159999999995, 4.012242, 4.135834, 4.21855, 4.490455, 4.491464, 4.542832, 4.581385, 4.620037, 4.702519, 5.061160999999999, 5.144785, 5.410225, 5.529160999999999, 5.573994999999999, 5.616946999999999, 5.989929999999998, 5.993889999999999, 6.042486999999999, 6.091685999999998, 6.110986999999998, 6.144085999999998, 6.179493999999998, 6.202374999999998]}, {\"line\": {\"dash\": \"solid\", \"width\": 4}, \"marker\": {\"color\": \"green\"}, \"mode\": \"lines\", \"name\": \"Q\", \"type\": \"scatter\", \"x\": [0, 1, 2, 3, 4, 5, 6, 7, 8, 9, 10, 11, 12, 13, 14, 15, 16, 17, 18, 19, 20, 21, 22, 23, 24, 25, 26, 27, 28, 29], \"y\": [2.714926, 4.4356990000000005, 4.487478, 4.871402000000001, 5.221195000000001, 5.449187, 5.523798, 5.56348, 5.597752, 5.630121, 5.979964, 6.023016, 6.03387, 6.042077, 6.094696, 6.569281999999999, 6.775202999999999, 6.898363, 7.1810659999999995, 7.359284, 7.437894, 7.457116, 7.736388, 7.739052, 7.802472, 7.8182599999999995, 8.067072999999999, 8.109283999999999, 8.29361, 8.338434999999999]}, {\"line\": {\"dash\": \"solid\", \"width\": 4}, \"marker\": {\"color\": \"purple\"}, \"mode\": \"lines\", \"name\": \"PKD(.2)\", \"type\": \"scatter\", \"x\": [0, 1, 2, 3, 4, 5, 6, 7, 8, 9, 10, 11, 12, 13, 14, 15, 16, 17, 18, 19, 20, 21, 22, 23, 24, 25, 26, 27, 28, 29], \"y\": [0.272943, 0.6947829999999999, 1.0903239999999998, 1.4543059999999999, 1.8856899999999999, 2.209596, 2.5412429999999997, 2.779139, 3.0026829999999998, 3.1981849999999996, 3.3931599999999995, 3.5274669999999997, 3.6809089999999998, 3.7936289999999997, 3.8944759999999996, 4.218844, 4.2970619999999995, 4.436230999999999, 4.680216999999999, 4.825032999999999, 4.894043999999998, 4.970982999999999, 5.240288999999999, 5.312813999999999, 5.438199999999998, 5.565331999999998, 5.669286999999998, 5.719348999999998, 5.826832999999998, 5.906622999999998]}, {\"line\": {\"dash\": \"dash\", \"width\": 4}, \"marker\": {\"color\": \"purple\"}, \"mode\": \"lines\", \"name\": \"GPKD(.2)\", \"type\": \"scatter\", \"x\": [0, 1, 2, 3, 4, 5, 6, 7, 8, 9, 10, 11, 12, 13, 14, 15, 16, 17, 18, 19, 20, 21, 22, 23, 24, 25, 26, 27, 28, 29], \"y\": [0.273526, 0.602184, 0.927845, 1.284583, 1.6054300000000001, 1.8576810000000001, 2.104013, 2.358864, 2.610986, 2.857634, 3.109722, 3.359087, 3.609283, 3.862985, 4.11283, 4.362591, 4.608782, 4.856737, 5.106406, 5.357238, 5.605131999999999, 5.851328999999999, 6.103466999999999, 6.357265999999999, 6.604682999999999, 6.859377999999999, 7.113935999999999, 7.360935999999999, 7.613593999999999, 7.864550999999999]}, {\"line\": {\"dash\": \"dot\", \"width\": 4}, \"marker\": {\"color\": \"black\"}, \"mode\": \"lines\", \"name\": \"FS\", \"type\": \"scatter\", \"x\": [0, 1, 2, 3, 4, 5, 6, 7, 8, 9, 10, 11, 12, 13, 14, 15, 16, 17, 18, 19, 20, 21, 22, 23, 24, 25, 26, 27, 28, 29], \"y\": [0.037485000000000004, 0.275397, 0.514044, 0.7100289999999999, 0.949792, 1.190038, 1.386896, 1.5239239999999998, 1.6564549999999998, 1.7847239999999998, 1.9235319999999998, 1.9609609999999997, 2.089556, 2.218783, 2.359224, 2.617014, 2.752403, 2.8907320000000003, 3.1466490000000005, 3.2831280000000005, 3.4208670000000003, 3.5551260000000005, 3.8483360000000006, 3.9802160000000004, 4.117444000000001, 4.256829000000001, 4.399123, 4.53735, 4.674216, 4.807595]}],\n",
       "                        {\"font\": {\"size\": 42}, \"legend\": {\"font\": {\"color\": \"black\", \"size\": 30}, \"orientation\": \"h\", \"x\": 0.0, \"y\": 1.2}, \"plot_bgcolor\": \"rgba(0,0,0,0)\", \"showlegend\": true, \"template\": {\"data\": {\"bar\": [{\"error_x\": {\"color\": \"#2a3f5f\"}, \"error_y\": {\"color\": \"#2a3f5f\"}, \"marker\": {\"line\": {\"color\": \"#E5ECF6\", \"width\": 0.5}}, \"type\": \"bar\"}], \"barpolar\": [{\"marker\": {\"line\": {\"color\": \"#E5ECF6\", \"width\": 0.5}}, \"type\": \"barpolar\"}], \"carpet\": [{\"aaxis\": {\"endlinecolor\": \"#2a3f5f\", \"gridcolor\": \"white\", \"linecolor\": \"white\", \"minorgridcolor\": \"white\", \"startlinecolor\": \"#2a3f5f\"}, \"baxis\": {\"endlinecolor\": \"#2a3f5f\", \"gridcolor\": \"white\", \"linecolor\": \"white\", \"minorgridcolor\": \"white\", \"startlinecolor\": \"#2a3f5f\"}, \"type\": \"carpet\"}], \"choropleth\": [{\"colorbar\": {\"outlinewidth\": 0, \"ticks\": \"\"}, \"type\": \"choropleth\"}], \"contour\": [{\"colorbar\": {\"outlinewidth\": 0, \"ticks\": \"\"}, \"colorscale\": [[0.0, \"#0d0887\"], [0.1111111111111111, \"#46039f\"], [0.2222222222222222, \"#7201a8\"], [0.3333333333333333, \"#9c179e\"], [0.4444444444444444, \"#bd3786\"], [0.5555555555555556, \"#d8576b\"], [0.6666666666666666, \"#ed7953\"], [0.7777777777777778, \"#fb9f3a\"], [0.8888888888888888, \"#fdca26\"], [1.0, \"#f0f921\"]], \"type\": \"contour\"}], \"contourcarpet\": [{\"colorbar\": {\"outlinewidth\": 0, \"ticks\": \"\"}, \"type\": \"contourcarpet\"}], \"heatmap\": [{\"colorbar\": {\"outlinewidth\": 0, \"ticks\": \"\"}, \"colorscale\": [[0.0, \"#0d0887\"], [0.1111111111111111, \"#46039f\"], [0.2222222222222222, \"#7201a8\"], [0.3333333333333333, \"#9c179e\"], [0.4444444444444444, \"#bd3786\"], [0.5555555555555556, \"#d8576b\"], [0.6666666666666666, \"#ed7953\"], [0.7777777777777778, \"#fb9f3a\"], [0.8888888888888888, \"#fdca26\"], [1.0, \"#f0f921\"]], \"type\": \"heatmap\"}], \"heatmapgl\": [{\"colorbar\": {\"outlinewidth\": 0, \"ticks\": \"\"}, \"colorscale\": [[0.0, \"#0d0887\"], [0.1111111111111111, \"#46039f\"], [0.2222222222222222, \"#7201a8\"], [0.3333333333333333, \"#9c179e\"], [0.4444444444444444, \"#bd3786\"], [0.5555555555555556, \"#d8576b\"], [0.6666666666666666, \"#ed7953\"], [0.7777777777777778, \"#fb9f3a\"], [0.8888888888888888, \"#fdca26\"], [1.0, \"#f0f921\"]], \"type\": \"heatmapgl\"}], \"histogram\": [{\"marker\": {\"colorbar\": {\"outlinewidth\": 0, \"ticks\": \"\"}}, \"type\": \"histogram\"}], \"histogram2d\": [{\"colorbar\": {\"outlinewidth\": 0, \"ticks\": \"\"}, \"colorscale\": [[0.0, \"#0d0887\"], [0.1111111111111111, \"#46039f\"], [0.2222222222222222, \"#7201a8\"], [0.3333333333333333, \"#9c179e\"], [0.4444444444444444, \"#bd3786\"], [0.5555555555555556, \"#d8576b\"], [0.6666666666666666, \"#ed7953\"], [0.7777777777777778, \"#fb9f3a\"], [0.8888888888888888, \"#fdca26\"], [1.0, \"#f0f921\"]], \"type\": \"histogram2d\"}], \"histogram2dcontour\": [{\"colorbar\": {\"outlinewidth\": 0, \"ticks\": \"\"}, \"colorscale\": [[0.0, \"#0d0887\"], [0.1111111111111111, \"#46039f\"], [0.2222222222222222, \"#7201a8\"], [0.3333333333333333, \"#9c179e\"], [0.4444444444444444, \"#bd3786\"], [0.5555555555555556, \"#d8576b\"], [0.6666666666666666, \"#ed7953\"], [0.7777777777777778, \"#fb9f3a\"], [0.8888888888888888, \"#fdca26\"], [1.0, \"#f0f921\"]], \"type\": \"histogram2dcontour\"}], \"mesh3d\": [{\"colorbar\": {\"outlinewidth\": 0, \"ticks\": \"\"}, \"type\": \"mesh3d\"}], \"parcoords\": [{\"line\": {\"colorbar\": {\"outlinewidth\": 0, \"ticks\": \"\"}}, \"type\": \"parcoords\"}], \"scatter\": [{\"marker\": {\"colorbar\": {\"outlinewidth\": 0, \"ticks\": \"\"}}, \"type\": \"scatter\"}], \"scatter3d\": [{\"line\": {\"colorbar\": {\"outlinewidth\": 0, \"ticks\": \"\"}}, \"marker\": {\"colorbar\": {\"outlinewidth\": 0, \"ticks\": \"\"}}, \"type\": \"scatter3d\"}], \"scattercarpet\": [{\"marker\": {\"colorbar\": {\"outlinewidth\": 0, \"ticks\": \"\"}}, \"type\": \"scattercarpet\"}], \"scattergeo\": [{\"marker\": {\"colorbar\": {\"outlinewidth\": 0, \"ticks\": \"\"}}, \"type\": \"scattergeo\"}], \"scattergl\": [{\"marker\": {\"colorbar\": {\"outlinewidth\": 0, \"ticks\": \"\"}}, \"type\": \"scattergl\"}], \"scattermapbox\": [{\"marker\": {\"colorbar\": {\"outlinewidth\": 0, \"ticks\": \"\"}}, \"type\": \"scattermapbox\"}], \"scatterpolar\": [{\"marker\": {\"colorbar\": {\"outlinewidth\": 0, \"ticks\": \"\"}}, \"type\": \"scatterpolar\"}], \"scatterpolargl\": [{\"marker\": {\"colorbar\": {\"outlinewidth\": 0, \"ticks\": \"\"}}, \"type\": \"scatterpolargl\"}], \"scatterternary\": [{\"marker\": {\"colorbar\": {\"outlinewidth\": 0, \"ticks\": \"\"}}, \"type\": \"scatterternary\"}], \"surface\": [{\"colorbar\": {\"outlinewidth\": 0, \"ticks\": \"\"}, \"colorscale\": [[0.0, \"#0d0887\"], [0.1111111111111111, \"#46039f\"], [0.2222222222222222, \"#7201a8\"], [0.3333333333333333, \"#9c179e\"], [0.4444444444444444, \"#bd3786\"], [0.5555555555555556, \"#d8576b\"], [0.6666666666666666, \"#ed7953\"], [0.7777777777777778, \"#fb9f3a\"], [0.8888888888888888, \"#fdca26\"], [1.0, \"#f0f921\"]], \"type\": \"surface\"}], \"table\": [{\"cells\": {\"fill\": {\"color\": \"#EBF0F8\"}, \"line\": {\"color\": \"white\"}}, \"header\": {\"fill\": {\"color\": \"#C8D4E3\"}, \"line\": {\"color\": \"white\"}}, \"type\": \"table\"}]}, \"layout\": {\"annotationdefaults\": {\"arrowcolor\": \"#2a3f5f\", \"arrowhead\": 0, \"arrowwidth\": 1}, \"colorscale\": {\"diverging\": [[0, \"#8e0152\"], [0.1, \"#c51b7d\"], [0.2, \"#de77ae\"], [0.3, \"#f1b6da\"], [0.4, \"#fde0ef\"], [0.5, \"#f7f7f7\"], [0.6, \"#e6f5d0\"], [0.7, \"#b8e186\"], [0.8, \"#7fbc41\"], [0.9, \"#4d9221\"], [1, \"#276419\"]], \"sequential\": [[0.0, \"#0d0887\"], [0.1111111111111111, \"#46039f\"], [0.2222222222222222, \"#7201a8\"], [0.3333333333333333, \"#9c179e\"], [0.4444444444444444, \"#bd3786\"], [0.5555555555555556, \"#d8576b\"], [0.6666666666666666, \"#ed7953\"], [0.7777777777777778, \"#fb9f3a\"], [0.8888888888888888, \"#fdca26\"], [1.0, \"#f0f921\"]], \"sequentialminus\": [[0.0, \"#0d0887\"], [0.1111111111111111, \"#46039f\"], [0.2222222222222222, \"#7201a8\"], [0.3333333333333333, \"#9c179e\"], [0.4444444444444444, \"#bd3786\"], [0.5555555555555556, \"#d8576b\"], [0.6666666666666666, \"#ed7953\"], [0.7777777777777778, \"#fb9f3a\"], [0.8888888888888888, \"#fdca26\"], [1.0, \"#f0f921\"]]}, \"colorway\": [\"#636efa\", \"#EF553B\", \"#00cc96\", \"#ab63fa\", \"#FFA15A\", \"#19d3f3\", \"#FF6692\", \"#B6E880\", \"#FF97FF\", \"#FECB52\"], \"font\": {\"color\": \"#2a3f5f\"}, \"geo\": {\"bgcolor\": \"white\", \"lakecolor\": \"white\", \"landcolor\": \"#E5ECF6\", \"showlakes\": true, \"showland\": true, \"subunitcolor\": \"white\"}, \"hoverlabel\": {\"align\": \"left\"}, \"hovermode\": \"closest\", \"mapbox\": {\"style\": \"light\"}, \"paper_bgcolor\": \"white\", \"plot_bgcolor\": \"#E5ECF6\", \"polar\": {\"angularaxis\": {\"gridcolor\": \"white\", \"linecolor\": \"white\", \"ticks\": \"\"}, \"bgcolor\": \"#E5ECF6\", \"radialaxis\": {\"gridcolor\": \"white\", \"linecolor\": \"white\", \"ticks\": \"\"}}, \"scene\": {\"xaxis\": {\"backgroundcolor\": \"#E5ECF6\", \"gridcolor\": \"white\", \"gridwidth\": 2, \"linecolor\": \"white\", \"showbackground\": true, \"ticks\": \"\", \"zerolinecolor\": \"white\"}, \"yaxis\": {\"backgroundcolor\": \"#E5ECF6\", \"gridcolor\": \"white\", \"gridwidth\": 2, \"linecolor\": \"white\", \"showbackground\": true, \"ticks\": \"\", \"zerolinecolor\": \"white\"}, \"zaxis\": {\"backgroundcolor\": \"#E5ECF6\", \"gridcolor\": \"white\", \"gridwidth\": 2, \"linecolor\": \"white\", \"showbackground\": true, \"ticks\": \"\", \"zerolinecolor\": \"white\"}}, \"shapedefaults\": {\"line\": {\"color\": \"#2a3f5f\"}}, \"ternary\": {\"aaxis\": {\"gridcolor\": \"white\", \"linecolor\": \"white\", \"ticks\": \"\"}, \"baxis\": {\"gridcolor\": \"white\", \"linecolor\": \"white\", \"ticks\": \"\"}, \"bgcolor\": \"#E5ECF6\", \"caxis\": {\"gridcolor\": \"white\", \"linecolor\": \"white\", \"ticks\": \"\"}}, \"title\": {\"x\": 0.05}, \"xaxis\": {\"automargin\": true, \"gridcolor\": \"white\", \"linecolor\": \"white\", \"ticks\": \"\", \"zerolinecolor\": \"white\", \"zerolinewidth\": 2}, \"yaxis\": {\"automargin\": true, \"gridcolor\": \"white\", \"linecolor\": \"white\", \"ticks\": \"\", \"zerolinecolor\": \"white\", \"zerolinewidth\": 2}}}, \"xaxis\": {\"linecolor\": \"black\", \"linewidth\": 2, \"showline\": true, \"ticklen\": 5, \"ticks\": \"inside\", \"zeroline\": true}, \"yaxis\": {\"gridcolor\": \"lightgrey\", \"gridwidth\": 1, \"linecolor\": \"black\", \"linewidth\": 2, \"showgrid\": true, \"showline\": true, \"ticklen\": 5, \"ticks\": \"inside\", \"title\": {\"text\": \"Time (Seconds)\"}, \"zeroline\": true}},\n",
       "                        {\"responsive\": true}\n",
       "                    ).then(function(){\n",
       "                            \n",
       "var gd = document.getElementById('b9d87419-fcb7-4dbc-a243-d6ae7e0f846a');\n",
       "var x = new MutationObserver(function (mutations, observer) {{\n",
       "        var display = window.getComputedStyle(gd).display;\n",
       "        if (!display || display === 'none') {{\n",
       "            console.log([gd, 'removed!']);\n",
       "            Plotly.purge(gd);\n",
       "            observer.disconnect();\n",
       "        }}\n",
       "}});\n",
       "\n",
       "// Listen for the removal of the full notebook cells\n",
       "var notebookContainer = gd.closest('#notebook-container');\n",
       "if (notebookContainer) {{\n",
       "    x.observe(notebookContainer, {childList: true});\n",
       "}}\n",
       "\n",
       "// Listen for the clearing of the current output cell\n",
       "var outputEl = gd.closest('.output');\n",
       "if (outputEl) {{\n",
       "    x.observe(outputEl, {childList: true});\n",
       "}}\n",
       "\n",
       "                        })\n",
       "                };\n",
       "                });\n",
       "            </script>\n",
       "        </div>"
      ]
     },
     "metadata": {},
     "output_type": "display_data"
    }
   ],
   "source": [
    "a = cummulative('Genomics Mixed', [\n",
    "    'AverageKDTree',\n",
    "    'MedianKDTree',\n",
    "    'CrackingKDTree',\n",
    "    'Quasii',\n",
    "    'ProgressiveIndex',\n",
    "    'ProgressiveIndexCostModel',\n",
    "    'FullScan'\n",
    "], 30)\n",
    "a.update_layout(\n",
    "    legend_orientation=\"h\",\n",
    "    legend=dict(\n",
    "        x=.0,\n",
    "        y=1.2,\n",
    "        font=dict(\n",
    "            size=30,\n",
    "            color=\"black\"\n",
    "        )\n",
    "    )\n",
    ")\n",
    "save_figure(a, 'payoff-cummulative.pdf')\n",
    "a"
   ]
  },
  {
   "cell_type": "markdown",
   "metadata": {},
   "source": [
    "### Robustness\n",
    "In this section we analyze the robustness of the adaptive and progressive indexes. We define robustness as the variance of the first 50 queries or until convergence, the smallest value between the two. We only measure this for adaptive and progressive indexes."
   ]
  },
  {
   "cell_type": "code",
   "execution_count": 400,
   "metadata": {},
   "outputs": [
    {
     "name": "stdout",
     "output_type": "stream",
     "text": [
      "\\begin{tabular}{lllll}\n",
      "\\toprule\n",
      "{} &    AKD &      Q & PKD(.2) &                   GPKD(.2) \\\\\n",
      "\\midrule\n",
      "Unif(8)    &  9E-02 &  2E-01 &   3E-02 &  \\cellcolor{green!25}4E-04 \\\\\n",
      "Skewed(8)  &  9E-02 &  3E-01 &   3E-02 &  \\cellcolor{green!25}2E-04 \\\\\n",
      "Zoom(8)    &  8E-02 &  2E-01 &   3E-02 &  \\cellcolor{green!25}4E-04 \\\\\n",
      "Prdc(8)    &  3E-01 &  5E-01 &   1E-02 &  \\cellcolor{green!25}2E-04 \\\\\n",
      "SeqZoom(8) &  6E-02 &  2E-01 &   3E-02 &  \\cellcolor{green!25}4E-04 \\\\\n",
      "AltZoom(8) &  3E-01 &  5E-01 &   3E-02 &  \\cellcolor{green!25}2E-04 \\\\\n",
      "Shift(8)   &  3E-01 &  7E-01 &   8E-03 &  \\cellcolor{green!25}6E-04 \\\\\n",
      "Seq (2)    &  2E-02 &  6E-01 &   4E-04 &  \\cellcolor{green!25}1E-04 \\\\\n",
      "Power      &  6E-04 &  1E-03 &   3E-04 &  \\cellcolor{green!25}3E-06 \\\\\n",
      "Genomics   &  6E-02 &  2E-01 &   1E-02 &  \\cellcolor{green!25}5E-04 \\\\\n",
      "Skyserver  &  8E-03 &  4E-02 &   4E-03 &  \\cellcolor{green!25}2E-04 \\\\\n",
      "\\bottomrule\n",
      "\\end{tabular}\n",
      "\n"
     ]
    },
    {
     "data": {
      "text/html": [
       "<div>\n",
       "<style scoped>\n",
       "    .dataframe tbody tr th:only-of-type {\n",
       "        vertical-align: middle;\n",
       "    }\n",
       "\n",
       "    .dataframe tbody tr th {\n",
       "        vertical-align: top;\n",
       "    }\n",
       "\n",
       "    .dataframe thead th {\n",
       "        text-align: right;\n",
       "    }\n",
       "</style>\n",
       "<table border=\"1\" class=\"dataframe\">\n",
       "  <thead>\n",
       "    <tr style=\"text-align: right;\">\n",
       "      <th></th>\n",
       "      <th>AKD</th>\n",
       "      <th>Q</th>\n",
       "      <th>PKD(.2)</th>\n",
       "      <th>GPKD(.2)</th>\n",
       "    </tr>\n",
       "  </thead>\n",
       "  <tbody>\n",
       "    <tr>\n",
       "      <td>Unif(8)</td>\n",
       "      <td>9E-02</td>\n",
       "      <td>2E-01</td>\n",
       "      <td>3E-02</td>\n",
       "      <td>\\cellcolor{green!25}4E-04</td>\n",
       "    </tr>\n",
       "    <tr>\n",
       "      <td>Skewed(8)</td>\n",
       "      <td>9E-02</td>\n",
       "      <td>3E-01</td>\n",
       "      <td>3E-02</td>\n",
       "      <td>\\cellcolor{green!25}2E-04</td>\n",
       "    </tr>\n",
       "    <tr>\n",
       "      <td>Zoom(8)</td>\n",
       "      <td>8E-02</td>\n",
       "      <td>2E-01</td>\n",
       "      <td>3E-02</td>\n",
       "      <td>\\cellcolor{green!25}4E-04</td>\n",
       "    </tr>\n",
       "    <tr>\n",
       "      <td>Prdc(8)</td>\n",
       "      <td>3E-01</td>\n",
       "      <td>5E-01</td>\n",
       "      <td>1E-02</td>\n",
       "      <td>\\cellcolor{green!25}2E-04</td>\n",
       "    </tr>\n",
       "    <tr>\n",
       "      <td>SeqZoom(8)</td>\n",
       "      <td>6E-02</td>\n",
       "      <td>2E-01</td>\n",
       "      <td>3E-02</td>\n",
       "      <td>\\cellcolor{green!25}4E-04</td>\n",
       "    </tr>\n",
       "    <tr>\n",
       "      <td>AltZoom(8)</td>\n",
       "      <td>3E-01</td>\n",
       "      <td>5E-01</td>\n",
       "      <td>3E-02</td>\n",
       "      <td>\\cellcolor{green!25}2E-04</td>\n",
       "    </tr>\n",
       "    <tr>\n",
       "      <td>Shift(8)</td>\n",
       "      <td>3E-01</td>\n",
       "      <td>7E-01</td>\n",
       "      <td>8E-03</td>\n",
       "      <td>\\cellcolor{green!25}6E-04</td>\n",
       "    </tr>\n",
       "    <tr>\n",
       "      <td>Seq (2)</td>\n",
       "      <td>2E-02</td>\n",
       "      <td>6E-01</td>\n",
       "      <td>4E-04</td>\n",
       "      <td>\\cellcolor{green!25}1E-04</td>\n",
       "    </tr>\n",
       "    <tr>\n",
       "      <td>Power</td>\n",
       "      <td>6E-04</td>\n",
       "      <td>1E-03</td>\n",
       "      <td>3E-04</td>\n",
       "      <td>\\cellcolor{green!25}3E-06</td>\n",
       "    </tr>\n",
       "    <tr>\n",
       "      <td>Genomics</td>\n",
       "      <td>6E-02</td>\n",
       "      <td>2E-01</td>\n",
       "      <td>1E-02</td>\n",
       "      <td>\\cellcolor{green!25}5E-04</td>\n",
       "    </tr>\n",
       "    <tr>\n",
       "      <td>Skyserver</td>\n",
       "      <td>8E-03</td>\n",
       "      <td>4E-02</td>\n",
       "      <td>4E-03</td>\n",
       "      <td>\\cellcolor{green!25}2E-04</td>\n",
       "    </tr>\n",
       "  </tbody>\n",
       "</table>\n",
       "</div>"
      ],
      "text/plain": [
       "              AKD      Q PKD(.2)                   GPKD(.2)\n",
       "Unif(8)     9E-02  2E-01   3E-02  \\cellcolor{green!25}4E-04\n",
       "Skewed(8)   9E-02  3E-01   3E-02  \\cellcolor{green!25}2E-04\n",
       "Zoom(8)     8E-02  2E-01   3E-02  \\cellcolor{green!25}4E-04\n",
       "Prdc(8)     3E-01  5E-01   1E-02  \\cellcolor{green!25}2E-04\n",
       "SeqZoom(8)  6E-02  2E-01   3E-02  \\cellcolor{green!25}4E-04\n",
       "AltZoom(8)  3E-01  5E-01   3E-02  \\cellcolor{green!25}2E-04\n",
       "Shift(8)    3E-01  7E-01   8E-03  \\cellcolor{green!25}6E-04\n",
       "Seq (2)     2E-02  6E-01   4E-04  \\cellcolor{green!25}1E-04\n",
       "Power       6E-04  1E-03   3E-04  \\cellcolor{green!25}3E-06\n",
       "Genomics    6E-02  2E-01   1E-02  \\cellcolor{green!25}5E-04\n",
       "Skyserver   8E-03  4E-02   4E-03  \\cellcolor{green!25}2E-04"
      ]
     },
     "execution_count": 400,
     "metadata": {},
     "output_type": "execute_result"
    }
   ],
   "source": [
    "idx = pd.IndexSlice\n",
    "a = m[['AKD', 'Q', 'PKD(.2)', 'GPKD(.2)']].loc[idx[:, 'Robustness'], :]\n",
    "a = a.reset_index(level=1, drop=True)\n",
    "print(pandas_to_latex(a, 'min', ignore_last=False, float_format='%.E'))\n",
    "a"
   ]
  },
  {
   "cell_type": "markdown",
   "metadata": {},
   "source": [
    "On Table \\ref{table:robustness} we can visualize that both progressive indexes are more robust (i.e. lower variance) than the adaptive indexes. Figure \\ref{fig:robustness-per-query} presents a per query response time for each index, on the Uniform benchmark. The Adaptive Progressive KDTree does not have a huge variance until query 18 (when it converges), and is the more robust index, as expected. Followed by the Progressive KDTree, which is more robust than the the adaptive indexes, because it limits the number tuples reorganized but has no time limit for adaptation. Then, the adaptive indexes, which have no limitations on amount of data reorganized or time spent, hence their robustness is dependent on the workload."
   ]
  },
  {
   "cell_type": "code",
   "execution_count": 401,
   "metadata": {},
   "outputs": [
    {
     "data": {
      "application/vnd.plotly.v1+json": {
       "config": {
        "plotlyServerURL": "https://plot.ly"
       },
       "data": [
        {
         "line": {
          "dash": "dash",
          "width": 4
         },
         "marker": {
          "color": "green"
         },
         "mode": "lines",
         "name": "AKD",
         "type": "scatter",
         "x": [
          0,
          1,
          2,
          3,
          4,
          5,
          6,
          7,
          8,
          9,
          10,
          11,
          12,
          13,
          14,
          15,
          16,
          17,
          18,
          19,
          20,
          21,
          22,
          23,
          24,
          25,
          26,
          27,
          28,
          29,
          30,
          31,
          32,
          33,
          34,
          35,
          36,
          37,
          38,
          39,
          40,
          41,
          42,
          43,
          44,
          45,
          46,
          47,
          48,
          49
         ],
         "y": [
          1732.543,
          1457.929,
          165.75900000000001,
          274.25,
          171.571,
          176.367,
          122.294,
          181.228,
          318.52599999999995,
          88.181,
          89.334,
          234.67999999999998,
          169.546,
          179.47199999999998,
          121.45,
          105.821,
          208.91700000000003,
          110.984,
          44.61,
          95.81200000000001,
          55.211,
          91.70799999999998,
          108.49499999999999,
          47.117,
          58.31,
          101.48899999999999,
          38.824,
          64.194,
          62.029,
          87.324,
          367.80800000000005,
          59.76599999999999,
          85.79500000000002,
          75.211,
          62.592000000000006,
          78.031,
          74.17199999999998,
          88.751,
          101.92000000000002,
          39.802,
          60.191,
          72.592,
          59.719,
          58.285000000000004,
          75.95000000000002,
          125.444,
          70.01899999999999,
          44.559000000000005,
          52.125,
          83.13100000000001
         ]
        },
        {
         "line": {
          "dash": "solid",
          "width": 4
         },
         "marker": {
          "color": "green"
         },
         "mode": "lines",
         "name": "Q",
         "type": "scatter",
         "x": [
          0,
          1,
          2,
          3,
          4,
          5,
          6,
          7,
          8,
          9,
          10,
          11,
          12,
          13,
          14,
          15,
          16,
          17,
          18,
          19,
          20,
          21,
          22,
          23,
          24,
          25,
          26,
          27,
          28,
          29,
          30,
          31,
          32,
          33,
          34,
          35,
          36,
          37,
          38,
          39,
          40,
          41,
          42,
          43,
          44,
          45,
          46,
          47,
          48,
          49
         ],
         "y": [
          2902.241,
          1584.0700000000002,
          288.62399999999997,
          500.188,
          655.517,
          190.218,
          100.92900000000002,
          115.52999999999999,
          393.47999999999996,
          96.787,
          92.49799999999999,
          105.03699999999999,
          59.778999999999996,
          143.626,
          155.64600000000002,
          117.85799999999999,
          99.893,
          82.431,
          88.797,
          100.68500000000002,
          128.97199999999998,
          58.159,
          93.311,
          74.515,
          89.44300000000001,
          81.21300000000001,
          74.03999999999999,
          95.146,
          63.208,
          83.55600000000001,
          98.771,
          73.34199999999998,
          81.11900000000001,
          67.145,
          115.469,
          77.07900000000001,
          89.313,
          63.46800000000001,
          62.769999999999996,
          89.17800000000001,
          72.051,
          60.243,
          84.47,
          73.38700000000001,
          99.086,
          68.721,
          64.034,
          99.823,
          88.44300000000001,
          105.629
         ]
        },
        {
         "line": {
          "dash": "solid",
          "width": 4
         },
         "marker": {
          "color": "purple"
         },
         "mode": "lines",
         "name": "PKD(.2)",
         "type": "scatter",
         "x": [
          0,
          1,
          2,
          3,
          4,
          5,
          6,
          7,
          8,
          9,
          10,
          11,
          12,
          13,
          14,
          15,
          16,
          17,
          18,
          19,
          20,
          21,
          22,
          23,
          24,
          25,
          26,
          27,
          28,
          29,
          30,
          31,
          32,
          33,
          34,
          35,
          36,
          37,
          38,
          39,
          40,
          41,
          42,
          43,
          44,
          45,
          46,
          47,
          48,
          49
         ],
         "y": [
          820.484,
          680.096,
          784.8219999999999,
          741.877,
          764.582,
          664.491,
          581.032,
          572.8420000000001,
          580.8839999999999,
          620.4260000000002,
          545.616,
          531.929,
          541.082,
          514.192,
          585.398,
          531.471,
          474.7530000000001,
          416.52900000000005,
          465.62199999999996,
          508.01000000000005,
          495.57099999999997,
          531.905,
          588.6279999999999,
          638.4589999999998,
          479.08299999999997,
          570.295,
          455.632,
          496.59999999999997,
          421.968,
          395.05999999999995,
          350.53100000000006,
          450.389,
          389.53900000000004,
          361.82000000000005,
          400.906,
          346.661,
          282.36499999999995,
          288.68399999999997,
          310.37199999999996,
          273.231,
          299.432,
          249.13599999999997,
          300.889,
          292.277,
          286.31600000000003,
          240.197,
          213.237,
          217.244,
          231.57299999999998,
          190.05700000000002
         ]
        },
        {
         "line": {
          "dash": "dash",
          "width": 4
         },
         "marker": {
          "color": "purple"
         },
         "mode": "lines",
         "name": "GPKD(.2)",
         "type": "scatter",
         "x": [
          0,
          1,
          2,
          3,
          4,
          5,
          6,
          7,
          8,
          9,
          10,
          11,
          12,
          13,
          14,
          15,
          16,
          17,
          18,
          19,
          20,
          21,
          22,
          23,
          24,
          25,
          26,
          27,
          28,
          29,
          30,
          31,
          32,
          33,
          34,
          35,
          36,
          37,
          38,
          39,
          40,
          41,
          42,
          43,
          44,
          45,
          46,
          47,
          48,
          49
         ],
         "y": [
          812.222,
          782.8459999999999,
          768.3109999999999,
          739.738,
          738.105,
          735.275,
          734.503,
          746.3900000000001,
          733.6460000000001,
          734.614,
          735.665,
          733.2259999999999,
          745.1790000000001,
          739.6210000000001,
          735.602,
          746.0469999999999,
          743.328,
          745.551,
          704.093,
          81.055,
          78.128,
          86.103,
          83.508,
          70.297,
          76.02000000000001,
          84.52,
          92.691,
          107.07,
          93.79499999999999,
          118.172,
          84.32799999999999,
          118.994,
          93.059,
          73.75999999999999,
          82.658,
          75.308,
          73.64099999999999,
          72.684,
          77.149,
          75.22699999999999,
          95.03399999999999,
          99.684,
          128.457,
          107.038,
          87,
          75.357,
          97.13199999999999,
          76.422,
          91.443,
          70.23
         ]
        }
       ],
       "layout": {
        "font": {
         "size": 42
        },
        "legend": {
         "font": {
          "color": "black",
          "size": 30
         },
         "orientation": "h",
         "x": 0.25,
         "y": 1.2
        },
        "plot_bgcolor": "rgba(0,0,0,0)",
        "showlegend": true,
        "template": {
         "data": {
          "bar": [
           {
            "error_x": {
             "color": "#2a3f5f"
            },
            "error_y": {
             "color": "#2a3f5f"
            },
            "marker": {
             "line": {
              "color": "#E5ECF6",
              "width": 0.5
             }
            },
            "type": "bar"
           }
          ],
          "barpolar": [
           {
            "marker": {
             "line": {
              "color": "#E5ECF6",
              "width": 0.5
             }
            },
            "type": "barpolar"
           }
          ],
          "carpet": [
           {
            "aaxis": {
             "endlinecolor": "#2a3f5f",
             "gridcolor": "white",
             "linecolor": "white",
             "minorgridcolor": "white",
             "startlinecolor": "#2a3f5f"
            },
            "baxis": {
             "endlinecolor": "#2a3f5f",
             "gridcolor": "white",
             "linecolor": "white",
             "minorgridcolor": "white",
             "startlinecolor": "#2a3f5f"
            },
            "type": "carpet"
           }
          ],
          "choropleth": [
           {
            "colorbar": {
             "outlinewidth": 0,
             "ticks": ""
            },
            "type": "choropleth"
           }
          ],
          "contour": [
           {
            "colorbar": {
             "outlinewidth": 0,
             "ticks": ""
            },
            "colorscale": [
             [
              0,
              "#0d0887"
             ],
             [
              0.1111111111111111,
              "#46039f"
             ],
             [
              0.2222222222222222,
              "#7201a8"
             ],
             [
              0.3333333333333333,
              "#9c179e"
             ],
             [
              0.4444444444444444,
              "#bd3786"
             ],
             [
              0.5555555555555556,
              "#d8576b"
             ],
             [
              0.6666666666666666,
              "#ed7953"
             ],
             [
              0.7777777777777778,
              "#fb9f3a"
             ],
             [
              0.8888888888888888,
              "#fdca26"
             ],
             [
              1,
              "#f0f921"
             ]
            ],
            "type": "contour"
           }
          ],
          "contourcarpet": [
           {
            "colorbar": {
             "outlinewidth": 0,
             "ticks": ""
            },
            "type": "contourcarpet"
           }
          ],
          "heatmap": [
           {
            "colorbar": {
             "outlinewidth": 0,
             "ticks": ""
            },
            "colorscale": [
             [
              0,
              "#0d0887"
             ],
             [
              0.1111111111111111,
              "#46039f"
             ],
             [
              0.2222222222222222,
              "#7201a8"
             ],
             [
              0.3333333333333333,
              "#9c179e"
             ],
             [
              0.4444444444444444,
              "#bd3786"
             ],
             [
              0.5555555555555556,
              "#d8576b"
             ],
             [
              0.6666666666666666,
              "#ed7953"
             ],
             [
              0.7777777777777778,
              "#fb9f3a"
             ],
             [
              0.8888888888888888,
              "#fdca26"
             ],
             [
              1,
              "#f0f921"
             ]
            ],
            "type": "heatmap"
           }
          ],
          "heatmapgl": [
           {
            "colorbar": {
             "outlinewidth": 0,
             "ticks": ""
            },
            "colorscale": [
             [
              0,
              "#0d0887"
             ],
             [
              0.1111111111111111,
              "#46039f"
             ],
             [
              0.2222222222222222,
              "#7201a8"
             ],
             [
              0.3333333333333333,
              "#9c179e"
             ],
             [
              0.4444444444444444,
              "#bd3786"
             ],
             [
              0.5555555555555556,
              "#d8576b"
             ],
             [
              0.6666666666666666,
              "#ed7953"
             ],
             [
              0.7777777777777778,
              "#fb9f3a"
             ],
             [
              0.8888888888888888,
              "#fdca26"
             ],
             [
              1,
              "#f0f921"
             ]
            ],
            "type": "heatmapgl"
           }
          ],
          "histogram": [
           {
            "marker": {
             "colorbar": {
              "outlinewidth": 0,
              "ticks": ""
             }
            },
            "type": "histogram"
           }
          ],
          "histogram2d": [
           {
            "colorbar": {
             "outlinewidth": 0,
             "ticks": ""
            },
            "colorscale": [
             [
              0,
              "#0d0887"
             ],
             [
              0.1111111111111111,
              "#46039f"
             ],
             [
              0.2222222222222222,
              "#7201a8"
             ],
             [
              0.3333333333333333,
              "#9c179e"
             ],
             [
              0.4444444444444444,
              "#bd3786"
             ],
             [
              0.5555555555555556,
              "#d8576b"
             ],
             [
              0.6666666666666666,
              "#ed7953"
             ],
             [
              0.7777777777777778,
              "#fb9f3a"
             ],
             [
              0.8888888888888888,
              "#fdca26"
             ],
             [
              1,
              "#f0f921"
             ]
            ],
            "type": "histogram2d"
           }
          ],
          "histogram2dcontour": [
           {
            "colorbar": {
             "outlinewidth": 0,
             "ticks": ""
            },
            "colorscale": [
             [
              0,
              "#0d0887"
             ],
             [
              0.1111111111111111,
              "#46039f"
             ],
             [
              0.2222222222222222,
              "#7201a8"
             ],
             [
              0.3333333333333333,
              "#9c179e"
             ],
             [
              0.4444444444444444,
              "#bd3786"
             ],
             [
              0.5555555555555556,
              "#d8576b"
             ],
             [
              0.6666666666666666,
              "#ed7953"
             ],
             [
              0.7777777777777778,
              "#fb9f3a"
             ],
             [
              0.8888888888888888,
              "#fdca26"
             ],
             [
              1,
              "#f0f921"
             ]
            ],
            "type": "histogram2dcontour"
           }
          ],
          "mesh3d": [
           {
            "colorbar": {
             "outlinewidth": 0,
             "ticks": ""
            },
            "type": "mesh3d"
           }
          ],
          "parcoords": [
           {
            "line": {
             "colorbar": {
              "outlinewidth": 0,
              "ticks": ""
             }
            },
            "type": "parcoords"
           }
          ],
          "scatter": [
           {
            "marker": {
             "colorbar": {
              "outlinewidth": 0,
              "ticks": ""
             }
            },
            "type": "scatter"
           }
          ],
          "scatter3d": [
           {
            "line": {
             "colorbar": {
              "outlinewidth": 0,
              "ticks": ""
             }
            },
            "marker": {
             "colorbar": {
              "outlinewidth": 0,
              "ticks": ""
             }
            },
            "type": "scatter3d"
           }
          ],
          "scattercarpet": [
           {
            "marker": {
             "colorbar": {
              "outlinewidth": 0,
              "ticks": ""
             }
            },
            "type": "scattercarpet"
           }
          ],
          "scattergeo": [
           {
            "marker": {
             "colorbar": {
              "outlinewidth": 0,
              "ticks": ""
             }
            },
            "type": "scattergeo"
           }
          ],
          "scattergl": [
           {
            "marker": {
             "colorbar": {
              "outlinewidth": 0,
              "ticks": ""
             }
            },
            "type": "scattergl"
           }
          ],
          "scattermapbox": [
           {
            "marker": {
             "colorbar": {
              "outlinewidth": 0,
              "ticks": ""
             }
            },
            "type": "scattermapbox"
           }
          ],
          "scatterpolar": [
           {
            "marker": {
             "colorbar": {
              "outlinewidth": 0,
              "ticks": ""
             }
            },
            "type": "scatterpolar"
           }
          ],
          "scatterpolargl": [
           {
            "marker": {
             "colorbar": {
              "outlinewidth": 0,
              "ticks": ""
             }
            },
            "type": "scatterpolargl"
           }
          ],
          "scatterternary": [
           {
            "marker": {
             "colorbar": {
              "outlinewidth": 0,
              "ticks": ""
             }
            },
            "type": "scatterternary"
           }
          ],
          "surface": [
           {
            "colorbar": {
             "outlinewidth": 0,
             "ticks": ""
            },
            "colorscale": [
             [
              0,
              "#0d0887"
             ],
             [
              0.1111111111111111,
              "#46039f"
             ],
             [
              0.2222222222222222,
              "#7201a8"
             ],
             [
              0.3333333333333333,
              "#9c179e"
             ],
             [
              0.4444444444444444,
              "#bd3786"
             ],
             [
              0.5555555555555556,
              "#d8576b"
             ],
             [
              0.6666666666666666,
              "#ed7953"
             ],
             [
              0.7777777777777778,
              "#fb9f3a"
             ],
             [
              0.8888888888888888,
              "#fdca26"
             ],
             [
              1,
              "#f0f921"
             ]
            ],
            "type": "surface"
           }
          ],
          "table": [
           {
            "cells": {
             "fill": {
              "color": "#EBF0F8"
             },
             "line": {
              "color": "white"
             }
            },
            "header": {
             "fill": {
              "color": "#C8D4E3"
             },
             "line": {
              "color": "white"
             }
            },
            "type": "table"
           }
          ]
         },
         "layout": {
          "annotationdefaults": {
           "arrowcolor": "#2a3f5f",
           "arrowhead": 0,
           "arrowwidth": 1
          },
          "colorscale": {
           "diverging": [
            [
             0,
             "#8e0152"
            ],
            [
             0.1,
             "#c51b7d"
            ],
            [
             0.2,
             "#de77ae"
            ],
            [
             0.3,
             "#f1b6da"
            ],
            [
             0.4,
             "#fde0ef"
            ],
            [
             0.5,
             "#f7f7f7"
            ],
            [
             0.6,
             "#e6f5d0"
            ],
            [
             0.7,
             "#b8e186"
            ],
            [
             0.8,
             "#7fbc41"
            ],
            [
             0.9,
             "#4d9221"
            ],
            [
             1,
             "#276419"
            ]
           ],
           "sequential": [
            [
             0,
             "#0d0887"
            ],
            [
             0.1111111111111111,
             "#46039f"
            ],
            [
             0.2222222222222222,
             "#7201a8"
            ],
            [
             0.3333333333333333,
             "#9c179e"
            ],
            [
             0.4444444444444444,
             "#bd3786"
            ],
            [
             0.5555555555555556,
             "#d8576b"
            ],
            [
             0.6666666666666666,
             "#ed7953"
            ],
            [
             0.7777777777777778,
             "#fb9f3a"
            ],
            [
             0.8888888888888888,
             "#fdca26"
            ],
            [
             1,
             "#f0f921"
            ]
           ],
           "sequentialminus": [
            [
             0,
             "#0d0887"
            ],
            [
             0.1111111111111111,
             "#46039f"
            ],
            [
             0.2222222222222222,
             "#7201a8"
            ],
            [
             0.3333333333333333,
             "#9c179e"
            ],
            [
             0.4444444444444444,
             "#bd3786"
            ],
            [
             0.5555555555555556,
             "#d8576b"
            ],
            [
             0.6666666666666666,
             "#ed7953"
            ],
            [
             0.7777777777777778,
             "#fb9f3a"
            ],
            [
             0.8888888888888888,
             "#fdca26"
            ],
            [
             1,
             "#f0f921"
            ]
           ]
          },
          "colorway": [
           "#636efa",
           "#EF553B",
           "#00cc96",
           "#ab63fa",
           "#FFA15A",
           "#19d3f3",
           "#FF6692",
           "#B6E880",
           "#FF97FF",
           "#FECB52"
          ],
          "font": {
           "color": "#2a3f5f"
          },
          "geo": {
           "bgcolor": "white",
           "lakecolor": "white",
           "landcolor": "#E5ECF6",
           "showlakes": true,
           "showland": true,
           "subunitcolor": "white"
          },
          "hoverlabel": {
           "align": "left"
          },
          "hovermode": "closest",
          "mapbox": {
           "style": "light"
          },
          "paper_bgcolor": "white",
          "plot_bgcolor": "#E5ECF6",
          "polar": {
           "angularaxis": {
            "gridcolor": "white",
            "linecolor": "white",
            "ticks": ""
           },
           "bgcolor": "#E5ECF6",
           "radialaxis": {
            "gridcolor": "white",
            "linecolor": "white",
            "ticks": ""
           }
          },
          "scene": {
           "xaxis": {
            "backgroundcolor": "#E5ECF6",
            "gridcolor": "white",
            "gridwidth": 2,
            "linecolor": "white",
            "showbackground": true,
            "ticks": "",
            "zerolinecolor": "white"
           },
           "yaxis": {
            "backgroundcolor": "#E5ECF6",
            "gridcolor": "white",
            "gridwidth": 2,
            "linecolor": "white",
            "showbackground": true,
            "ticks": "",
            "zerolinecolor": "white"
           },
           "zaxis": {
            "backgroundcolor": "#E5ECF6",
            "gridcolor": "white",
            "gridwidth": 2,
            "linecolor": "white",
            "showbackground": true,
            "ticks": "",
            "zerolinecolor": "white"
           }
          },
          "shapedefaults": {
           "line": {
            "color": "#2a3f5f"
           }
          },
          "ternary": {
           "aaxis": {
            "gridcolor": "white",
            "linecolor": "white",
            "ticks": ""
           },
           "baxis": {
            "gridcolor": "white",
            "linecolor": "white",
            "ticks": ""
           },
           "bgcolor": "#E5ECF6",
           "caxis": {
            "gridcolor": "white",
            "linecolor": "white",
            "ticks": ""
           }
          },
          "title": {
           "x": 0.05
          },
          "xaxis": {
           "automargin": true,
           "gridcolor": "white",
           "linecolor": "white",
           "ticks": "",
           "zerolinecolor": "white",
           "zerolinewidth": 2
          },
          "yaxis": {
           "automargin": true,
           "gridcolor": "white",
           "linecolor": "white",
           "ticks": "",
           "zerolinecolor": "white",
           "zerolinewidth": 2
          }
         }
        },
        "xaxis": {
         "linecolor": "black",
         "linewidth": 2,
         "showline": true,
         "ticklen": 5,
         "ticks": "inside",
         "zeroline": true
        },
        "yaxis": {
         "dtick": 1,
         "gridcolor": "lightgrey",
         "gridwidth": 1,
         "linecolor": "black",
         "linewidth": 2,
         "showgrid": true,
         "showline": true,
         "tick0": 0,
         "ticklen": 5,
         "tickmode": "linear",
         "ticks": "inside",
         "title": {
          "text": "Time (milliseconds)"
         },
         "type": "log",
         "zeroline": true
        }
       }
      },
      "text/html": [
       "<div>\n",
       "        \n",
       "        \n",
       "            <div id=\"74eb7608-994a-44ce-889b-de2c868d697a\" class=\"plotly-graph-div\" style=\"height:525px; width:100%;\"></div>\n",
       "            <script type=\"text/javascript\">\n",
       "                require([\"plotly\"], function(Plotly) {\n",
       "                    window.PLOTLYENV=window.PLOTLYENV || {};\n",
       "                    \n",
       "                if (document.getElementById(\"74eb7608-994a-44ce-889b-de2c868d697a\")) {\n",
       "                    Plotly.newPlot(\n",
       "                        '74eb7608-994a-44ce-889b-de2c868d697a',\n",
       "                        [{\"line\": {\"dash\": \"dash\", \"width\": 4}, \"marker\": {\"color\": \"green\"}, \"mode\": \"lines\", \"name\": \"AKD\", \"type\": \"scatter\", \"x\": [0, 1, 2, 3, 4, 5, 6, 7, 8, 9, 10, 11, 12, 13, 14, 15, 16, 17, 18, 19, 20, 21, 22, 23, 24, 25, 26, 27, 28, 29, 30, 31, 32, 33, 34, 35, 36, 37, 38, 39, 40, 41, 42, 43, 44, 45, 46, 47, 48, 49], \"y\": [1732.543, 1457.929, 165.75900000000001, 274.25, 171.571, 176.367, 122.294, 181.228, 318.52599999999995, 88.181, 89.334, 234.67999999999998, 169.546, 179.47199999999998, 121.45, 105.821, 208.91700000000003, 110.984, 44.61, 95.81200000000001, 55.211, 91.70799999999998, 108.49499999999999, 47.117, 58.31, 101.48899999999999, 38.824, 64.194, 62.029, 87.324, 367.80800000000005, 59.76599999999999, 85.79500000000002, 75.211, 62.592000000000006, 78.031, 74.17199999999998, 88.751, 101.92000000000002, 39.802, 60.191, 72.592, 59.719, 58.285000000000004, 75.95000000000002, 125.444, 70.01899999999999, 44.559000000000005, 52.125, 83.13100000000001]}, {\"line\": {\"dash\": \"solid\", \"width\": 4}, \"marker\": {\"color\": \"green\"}, \"mode\": \"lines\", \"name\": \"Q\", \"type\": \"scatter\", \"x\": [0, 1, 2, 3, 4, 5, 6, 7, 8, 9, 10, 11, 12, 13, 14, 15, 16, 17, 18, 19, 20, 21, 22, 23, 24, 25, 26, 27, 28, 29, 30, 31, 32, 33, 34, 35, 36, 37, 38, 39, 40, 41, 42, 43, 44, 45, 46, 47, 48, 49], \"y\": [2902.241, 1584.0700000000002, 288.62399999999997, 500.188, 655.517, 190.218, 100.92900000000002, 115.52999999999999, 393.47999999999996, 96.787, 92.49799999999999, 105.03699999999999, 59.778999999999996, 143.626, 155.64600000000002, 117.85799999999999, 99.893, 82.431, 88.797, 100.68500000000002, 128.97199999999998, 58.159, 93.311, 74.515, 89.44300000000001, 81.21300000000001, 74.03999999999999, 95.146, 63.208, 83.55600000000001, 98.771, 73.34199999999998, 81.11900000000001, 67.145, 115.469, 77.07900000000001, 89.313, 63.46800000000001, 62.769999999999996, 89.17800000000001, 72.051, 60.243, 84.47, 73.38700000000001, 99.086, 68.721, 64.034, 99.823, 88.44300000000001, 105.629]}, {\"line\": {\"dash\": \"solid\", \"width\": 4}, \"marker\": {\"color\": \"purple\"}, \"mode\": \"lines\", \"name\": \"PKD(.2)\", \"type\": \"scatter\", \"x\": [0, 1, 2, 3, 4, 5, 6, 7, 8, 9, 10, 11, 12, 13, 14, 15, 16, 17, 18, 19, 20, 21, 22, 23, 24, 25, 26, 27, 28, 29, 30, 31, 32, 33, 34, 35, 36, 37, 38, 39, 40, 41, 42, 43, 44, 45, 46, 47, 48, 49], \"y\": [820.484, 680.096, 784.8219999999999, 741.877, 764.582, 664.491, 581.032, 572.8420000000001, 580.8839999999999, 620.4260000000002, 545.616, 531.929, 541.082, 514.192, 585.398, 531.471, 474.7530000000001, 416.52900000000005, 465.62199999999996, 508.01000000000005, 495.57099999999997, 531.905, 588.6279999999999, 638.4589999999998, 479.08299999999997, 570.295, 455.632, 496.59999999999997, 421.968, 395.05999999999995, 350.53100000000006, 450.389, 389.53900000000004, 361.82000000000005, 400.906, 346.661, 282.36499999999995, 288.68399999999997, 310.37199999999996, 273.231, 299.432, 249.13599999999997, 300.889, 292.277, 286.31600000000003, 240.197, 213.237, 217.244, 231.57299999999998, 190.05700000000002]}, {\"line\": {\"dash\": \"dash\", \"width\": 4}, \"marker\": {\"color\": \"purple\"}, \"mode\": \"lines\", \"name\": \"GPKD(.2)\", \"type\": \"scatter\", \"x\": [0, 1, 2, 3, 4, 5, 6, 7, 8, 9, 10, 11, 12, 13, 14, 15, 16, 17, 18, 19, 20, 21, 22, 23, 24, 25, 26, 27, 28, 29, 30, 31, 32, 33, 34, 35, 36, 37, 38, 39, 40, 41, 42, 43, 44, 45, 46, 47, 48, 49], \"y\": [812.222, 782.8459999999999, 768.3109999999999, 739.738, 738.105, 735.275, 734.503, 746.3900000000001, 733.6460000000001, 734.614, 735.665, 733.2259999999999, 745.1790000000001, 739.6210000000001, 735.602, 746.0469999999999, 743.328, 745.551, 704.093, 81.055, 78.128, 86.103, 83.508, 70.297, 76.02000000000001, 84.52, 92.691, 107.07, 93.79499999999999, 118.172, 84.32799999999999, 118.994, 93.059, 73.75999999999999, 82.658, 75.308, 73.64099999999999, 72.684, 77.149, 75.22699999999999, 95.03399999999999, 99.684, 128.457, 107.038, 87.0, 75.357, 97.13199999999999, 76.422, 91.443, 70.23]}],\n",
       "                        {\"font\": {\"size\": 42}, \"legend\": {\"font\": {\"color\": \"black\", \"size\": 30}, \"orientation\": \"h\", \"x\": 0.25, \"y\": 1.2}, \"plot_bgcolor\": \"rgba(0,0,0,0)\", \"showlegend\": true, \"template\": {\"data\": {\"bar\": [{\"error_x\": {\"color\": \"#2a3f5f\"}, \"error_y\": {\"color\": \"#2a3f5f\"}, \"marker\": {\"line\": {\"color\": \"#E5ECF6\", \"width\": 0.5}}, \"type\": \"bar\"}], \"barpolar\": [{\"marker\": {\"line\": {\"color\": \"#E5ECF6\", \"width\": 0.5}}, \"type\": \"barpolar\"}], \"carpet\": [{\"aaxis\": {\"endlinecolor\": \"#2a3f5f\", \"gridcolor\": \"white\", \"linecolor\": \"white\", \"minorgridcolor\": \"white\", \"startlinecolor\": \"#2a3f5f\"}, \"baxis\": {\"endlinecolor\": \"#2a3f5f\", \"gridcolor\": \"white\", \"linecolor\": \"white\", \"minorgridcolor\": \"white\", \"startlinecolor\": \"#2a3f5f\"}, \"type\": \"carpet\"}], \"choropleth\": [{\"colorbar\": {\"outlinewidth\": 0, \"ticks\": \"\"}, \"type\": \"choropleth\"}], \"contour\": [{\"colorbar\": {\"outlinewidth\": 0, \"ticks\": \"\"}, \"colorscale\": [[0.0, \"#0d0887\"], [0.1111111111111111, \"#46039f\"], [0.2222222222222222, \"#7201a8\"], [0.3333333333333333, \"#9c179e\"], [0.4444444444444444, \"#bd3786\"], [0.5555555555555556, \"#d8576b\"], [0.6666666666666666, \"#ed7953\"], [0.7777777777777778, \"#fb9f3a\"], [0.8888888888888888, \"#fdca26\"], [1.0, \"#f0f921\"]], \"type\": \"contour\"}], \"contourcarpet\": [{\"colorbar\": {\"outlinewidth\": 0, \"ticks\": \"\"}, \"type\": \"contourcarpet\"}], \"heatmap\": [{\"colorbar\": {\"outlinewidth\": 0, \"ticks\": \"\"}, \"colorscale\": [[0.0, \"#0d0887\"], [0.1111111111111111, \"#46039f\"], [0.2222222222222222, \"#7201a8\"], [0.3333333333333333, \"#9c179e\"], [0.4444444444444444, \"#bd3786\"], [0.5555555555555556, \"#d8576b\"], [0.6666666666666666, \"#ed7953\"], [0.7777777777777778, \"#fb9f3a\"], [0.8888888888888888, \"#fdca26\"], [1.0, \"#f0f921\"]], \"type\": \"heatmap\"}], \"heatmapgl\": [{\"colorbar\": {\"outlinewidth\": 0, \"ticks\": \"\"}, \"colorscale\": [[0.0, \"#0d0887\"], [0.1111111111111111, \"#46039f\"], [0.2222222222222222, \"#7201a8\"], [0.3333333333333333, \"#9c179e\"], [0.4444444444444444, \"#bd3786\"], [0.5555555555555556, \"#d8576b\"], [0.6666666666666666, \"#ed7953\"], [0.7777777777777778, \"#fb9f3a\"], [0.8888888888888888, \"#fdca26\"], [1.0, \"#f0f921\"]], \"type\": \"heatmapgl\"}], \"histogram\": [{\"marker\": {\"colorbar\": {\"outlinewidth\": 0, \"ticks\": \"\"}}, \"type\": \"histogram\"}], \"histogram2d\": [{\"colorbar\": {\"outlinewidth\": 0, \"ticks\": \"\"}, \"colorscale\": [[0.0, \"#0d0887\"], [0.1111111111111111, \"#46039f\"], [0.2222222222222222, \"#7201a8\"], [0.3333333333333333, \"#9c179e\"], [0.4444444444444444, \"#bd3786\"], [0.5555555555555556, \"#d8576b\"], [0.6666666666666666, \"#ed7953\"], [0.7777777777777778, \"#fb9f3a\"], [0.8888888888888888, \"#fdca26\"], [1.0, \"#f0f921\"]], \"type\": \"histogram2d\"}], \"histogram2dcontour\": [{\"colorbar\": {\"outlinewidth\": 0, \"ticks\": \"\"}, \"colorscale\": [[0.0, \"#0d0887\"], [0.1111111111111111, \"#46039f\"], [0.2222222222222222, \"#7201a8\"], [0.3333333333333333, \"#9c179e\"], [0.4444444444444444, \"#bd3786\"], [0.5555555555555556, \"#d8576b\"], [0.6666666666666666, \"#ed7953\"], [0.7777777777777778, \"#fb9f3a\"], [0.8888888888888888, \"#fdca26\"], [1.0, \"#f0f921\"]], \"type\": \"histogram2dcontour\"}], \"mesh3d\": [{\"colorbar\": {\"outlinewidth\": 0, \"ticks\": \"\"}, \"type\": \"mesh3d\"}], \"parcoords\": [{\"line\": {\"colorbar\": {\"outlinewidth\": 0, \"ticks\": \"\"}}, \"type\": \"parcoords\"}], \"scatter\": [{\"marker\": {\"colorbar\": {\"outlinewidth\": 0, \"ticks\": \"\"}}, \"type\": \"scatter\"}], \"scatter3d\": [{\"line\": {\"colorbar\": {\"outlinewidth\": 0, \"ticks\": \"\"}}, \"marker\": {\"colorbar\": {\"outlinewidth\": 0, \"ticks\": \"\"}}, \"type\": \"scatter3d\"}], \"scattercarpet\": [{\"marker\": {\"colorbar\": {\"outlinewidth\": 0, \"ticks\": \"\"}}, \"type\": \"scattercarpet\"}], \"scattergeo\": [{\"marker\": {\"colorbar\": {\"outlinewidth\": 0, \"ticks\": \"\"}}, \"type\": \"scattergeo\"}], \"scattergl\": [{\"marker\": {\"colorbar\": {\"outlinewidth\": 0, \"ticks\": \"\"}}, \"type\": \"scattergl\"}], \"scattermapbox\": [{\"marker\": {\"colorbar\": {\"outlinewidth\": 0, \"ticks\": \"\"}}, \"type\": \"scattermapbox\"}], \"scatterpolar\": [{\"marker\": {\"colorbar\": {\"outlinewidth\": 0, \"ticks\": \"\"}}, \"type\": \"scatterpolar\"}], \"scatterpolargl\": [{\"marker\": {\"colorbar\": {\"outlinewidth\": 0, \"ticks\": \"\"}}, \"type\": \"scatterpolargl\"}], \"scatterternary\": [{\"marker\": {\"colorbar\": {\"outlinewidth\": 0, \"ticks\": \"\"}}, \"type\": \"scatterternary\"}], \"surface\": [{\"colorbar\": {\"outlinewidth\": 0, \"ticks\": \"\"}, \"colorscale\": [[0.0, \"#0d0887\"], [0.1111111111111111, \"#46039f\"], [0.2222222222222222, \"#7201a8\"], [0.3333333333333333, \"#9c179e\"], [0.4444444444444444, \"#bd3786\"], [0.5555555555555556, \"#d8576b\"], [0.6666666666666666, \"#ed7953\"], [0.7777777777777778, \"#fb9f3a\"], [0.8888888888888888, \"#fdca26\"], [1.0, \"#f0f921\"]], \"type\": \"surface\"}], \"table\": [{\"cells\": {\"fill\": {\"color\": \"#EBF0F8\"}, \"line\": {\"color\": \"white\"}}, \"header\": {\"fill\": {\"color\": \"#C8D4E3\"}, \"line\": {\"color\": \"white\"}}, \"type\": \"table\"}]}, \"layout\": {\"annotationdefaults\": {\"arrowcolor\": \"#2a3f5f\", \"arrowhead\": 0, \"arrowwidth\": 1}, \"colorscale\": {\"diverging\": [[0, \"#8e0152\"], [0.1, \"#c51b7d\"], [0.2, \"#de77ae\"], [0.3, \"#f1b6da\"], [0.4, \"#fde0ef\"], [0.5, \"#f7f7f7\"], [0.6, \"#e6f5d0\"], [0.7, \"#b8e186\"], [0.8, \"#7fbc41\"], [0.9, \"#4d9221\"], [1, \"#276419\"]], \"sequential\": [[0.0, \"#0d0887\"], [0.1111111111111111, \"#46039f\"], [0.2222222222222222, \"#7201a8\"], [0.3333333333333333, \"#9c179e\"], [0.4444444444444444, \"#bd3786\"], [0.5555555555555556, \"#d8576b\"], [0.6666666666666666, \"#ed7953\"], [0.7777777777777778, \"#fb9f3a\"], [0.8888888888888888, \"#fdca26\"], [1.0, \"#f0f921\"]], \"sequentialminus\": [[0.0, \"#0d0887\"], [0.1111111111111111, \"#46039f\"], [0.2222222222222222, \"#7201a8\"], [0.3333333333333333, \"#9c179e\"], [0.4444444444444444, \"#bd3786\"], [0.5555555555555556, \"#d8576b\"], [0.6666666666666666, \"#ed7953\"], [0.7777777777777778, \"#fb9f3a\"], [0.8888888888888888, \"#fdca26\"], [1.0, \"#f0f921\"]]}, \"colorway\": [\"#636efa\", \"#EF553B\", \"#00cc96\", \"#ab63fa\", \"#FFA15A\", \"#19d3f3\", \"#FF6692\", \"#B6E880\", \"#FF97FF\", \"#FECB52\"], \"font\": {\"color\": \"#2a3f5f\"}, \"geo\": {\"bgcolor\": \"white\", \"lakecolor\": \"white\", \"landcolor\": \"#E5ECF6\", \"showlakes\": true, \"showland\": true, \"subunitcolor\": \"white\"}, \"hoverlabel\": {\"align\": \"left\"}, \"hovermode\": \"closest\", \"mapbox\": {\"style\": \"light\"}, \"paper_bgcolor\": \"white\", \"plot_bgcolor\": \"#E5ECF6\", \"polar\": {\"angularaxis\": {\"gridcolor\": \"white\", \"linecolor\": \"white\", \"ticks\": \"\"}, \"bgcolor\": \"#E5ECF6\", \"radialaxis\": {\"gridcolor\": \"white\", \"linecolor\": \"white\", \"ticks\": \"\"}}, \"scene\": {\"xaxis\": {\"backgroundcolor\": \"#E5ECF6\", \"gridcolor\": \"white\", \"gridwidth\": 2, \"linecolor\": \"white\", \"showbackground\": true, \"ticks\": \"\", \"zerolinecolor\": \"white\"}, \"yaxis\": {\"backgroundcolor\": \"#E5ECF6\", \"gridcolor\": \"white\", \"gridwidth\": 2, \"linecolor\": \"white\", \"showbackground\": true, \"ticks\": \"\", \"zerolinecolor\": \"white\"}, \"zaxis\": {\"backgroundcolor\": \"#E5ECF6\", \"gridcolor\": \"white\", \"gridwidth\": 2, \"linecolor\": \"white\", \"showbackground\": true, \"ticks\": \"\", \"zerolinecolor\": \"white\"}}, \"shapedefaults\": {\"line\": {\"color\": \"#2a3f5f\"}}, \"ternary\": {\"aaxis\": {\"gridcolor\": \"white\", \"linecolor\": \"white\", \"ticks\": \"\"}, \"baxis\": {\"gridcolor\": \"white\", \"linecolor\": \"white\", \"ticks\": \"\"}, \"bgcolor\": \"#E5ECF6\", \"caxis\": {\"gridcolor\": \"white\", \"linecolor\": \"white\", \"ticks\": \"\"}}, \"title\": {\"x\": 0.05}, \"xaxis\": {\"automargin\": true, \"gridcolor\": \"white\", \"linecolor\": \"white\", \"ticks\": \"\", \"zerolinecolor\": \"white\", \"zerolinewidth\": 2}, \"yaxis\": {\"automargin\": true, \"gridcolor\": \"white\", \"linecolor\": \"white\", \"ticks\": \"\", \"zerolinecolor\": \"white\", \"zerolinewidth\": 2}}}, \"xaxis\": {\"linecolor\": \"black\", \"linewidth\": 2, \"showline\": true, \"ticklen\": 5, \"ticks\": \"inside\", \"zeroline\": true}, \"yaxis\": {\"dtick\": 1, \"gridcolor\": \"lightgrey\", \"gridwidth\": 1, \"linecolor\": \"black\", \"linewidth\": 2, \"showgrid\": true, \"showline\": true, \"tick0\": 0.0, \"ticklen\": 5, \"tickmode\": \"linear\", \"ticks\": \"inside\", \"title\": {\"text\": \"Time (milliseconds)\"}, \"type\": \"log\", \"zeroline\": true}},\n",
       "                        {\"responsive\": true}\n",
       "                    ).then(function(){\n",
       "                            \n",
       "var gd = document.getElementById('74eb7608-994a-44ce-889b-de2c868d697a');\n",
       "var x = new MutationObserver(function (mutations, observer) {{\n",
       "        var display = window.getComputedStyle(gd).display;\n",
       "        if (!display || display === 'none') {{\n",
       "            console.log([gd, 'removed!']);\n",
       "            Plotly.purge(gd);\n",
       "            observer.disconnect();\n",
       "        }}\n",
       "}});\n",
       "\n",
       "// Listen for the removal of the full notebook cells\n",
       "var notebookContainer = gd.closest('#notebook-container');\n",
       "if (notebookContainer) {{\n",
       "    x.observe(notebookContainer, {childList: true});\n",
       "}}\n",
       "\n",
       "// Listen for the clearing of the current output cell\n",
       "var outputEl = gd.closest('.output');\n",
       "if (outputEl) {{\n",
       "    x.observe(outputEl, {childList: true});\n",
       "}}\n",
       "\n",
       "                        })\n",
       "                };\n",
       "                });\n",
       "            </script>\n",
       "        </div>"
      ]
     },
     "metadata": {},
     "output_type": "display_data"
    }
   ],
   "source": [
    "a = per_query('Uniform8', ['CrackingKDTree', 'Quasii', 'ProgressiveIndex','ProgressiveIndexCostModel'], 50)\n",
    "a.update_layout(yaxis=dict(\n",
    "        tickmode = 'linear',\n",
    "        tick0 = 0.0,\n",
    "        dtick = 1\n",
    "    ))\n",
    "save_figure(a, 'robustness-per-query.pdf')\n",
    "a"
   ]
  },
  {
   "cell_type": "markdown",
   "metadata": {},
   "source": [
    "# Response time\n",
    "In this section we analyze the total response time for each benchmark. Table \\ref{table:total-response-time} presents the results."
   ]
  },
  {
   "cell_type": "code",
   "execution_count": 402,
   "metadata": {},
   "outputs": [
    {
     "name": "stdout",
     "output_type": "stream",
     "text": [
      "\\begin{tabular}{llllllll}\n",
      "\\toprule\n",
      "{} &   MedKD &  AvgKD &                         Q &                        AKD & PKD(.2) & GPKD(.2) &       FS \\\\\n",
      "\\midrule\n",
      "Unif(8)    &    98.6 &   94.3 &                      83.3 &   \\cellcolor{green!25}63.2 &   106.7 &    104.1 &    532.0 \\\\\n",
      "Skewed(8)  &   126.2 &  122.0 &                      91.7 &   \\cellcolor{green!25}33.2 &   140.6 &    136.2 &    521.4 \\\\\n",
      "Zoom(8)    &    34.5 &   30.9 &                       7.1 &    \\cellcolor{green!25}5.0 &    41.2 &     39.8 &    374.1 \\\\\n",
      "Prdc(8)    &    67.9 &   63.2 &  \\cellcolor{green!25}52.8 &                      124.7 &    72.7 &     71.1 &    501.1 \\\\\n",
      "SeqZoom(8) &    21.7 &   17.8 &                       5.0 &    \\cellcolor{green!25}2.9 &    32.5 &     25.9 &    279.8 \\\\\n",
      "AltZoom(8) &    31.1 &   26.7 &  \\cellcolor{green!25}13.9 &                       14.2 &    36.2 &     36.2 &    415.0 \\\\\n",
      "Shift(8)   &  1192.6 &  781.3 &                     682.7 &  \\cellcolor{green!25}468.8 &   680.5 &    751.8 &    544.7 \\\\\n",
      "Seq (2)    &     8.8 &    4.7 &                       3.3 &    \\cellcolor{green!25}1.4 &     1.7 &      1.4 &      1.9 \\\\\n",
      "Power      &    23.2 &   20.6 &                      21.0 &   \\cellcolor{green!25}19.1 &    22.2 &     22.0 &    159.5 \\\\\n",
      "Genomics   &     9.3 &    9.1 &                      12.3 &    \\cellcolor{green!25}8.3 &    14.6 &     15.4 &     16.2 \\\\\n",
      "Skyserver  &    16.1 &   11.7 &   \\cellcolor{green!25}6.8 &                        8.4 &    10.5 &     10.2 &  22986.4 \\\\\n",
      "\\bottomrule\n",
      "\\end{tabular}\n",
      "\n"
     ]
    },
    {
     "data": {
      "text/html": [
       "<div>\n",
       "<style scoped>\n",
       "    .dataframe tbody tr th:only-of-type {\n",
       "        vertical-align: middle;\n",
       "    }\n",
       "\n",
       "    .dataframe tbody tr th {\n",
       "        vertical-align: top;\n",
       "    }\n",
       "\n",
       "    .dataframe thead th {\n",
       "        text-align: right;\n",
       "    }\n",
       "</style>\n",
       "<table border=\"1\" class=\"dataframe\">\n",
       "  <thead>\n",
       "    <tr style=\"text-align: right;\">\n",
       "      <th></th>\n",
       "      <th>MedKD</th>\n",
       "      <th>AvgKD</th>\n",
       "      <th>Q</th>\n",
       "      <th>AKD</th>\n",
       "      <th>PKD(.2)</th>\n",
       "      <th>GPKD(.2)</th>\n",
       "      <th>FS</th>\n",
       "    </tr>\n",
       "  </thead>\n",
       "  <tbody>\n",
       "    <tr>\n",
       "      <td>Unif(8)</td>\n",
       "      <td>98.6</td>\n",
       "      <td>94.3</td>\n",
       "      <td>83.3</td>\n",
       "      <td>\\cellcolor{green!25}63.2</td>\n",
       "      <td>106.7</td>\n",
       "      <td>104.1</td>\n",
       "      <td>532.0</td>\n",
       "    </tr>\n",
       "    <tr>\n",
       "      <td>Skewed(8)</td>\n",
       "      <td>126.2</td>\n",
       "      <td>122.0</td>\n",
       "      <td>91.7</td>\n",
       "      <td>\\cellcolor{green!25}33.2</td>\n",
       "      <td>140.6</td>\n",
       "      <td>136.2</td>\n",
       "      <td>521.4</td>\n",
       "    </tr>\n",
       "    <tr>\n",
       "      <td>Zoom(8)</td>\n",
       "      <td>34.5</td>\n",
       "      <td>30.9</td>\n",
       "      <td>7.1</td>\n",
       "      <td>\\cellcolor{green!25}5.0</td>\n",
       "      <td>41.2</td>\n",
       "      <td>39.8</td>\n",
       "      <td>374.1</td>\n",
       "    </tr>\n",
       "    <tr>\n",
       "      <td>Prdc(8)</td>\n",
       "      <td>67.9</td>\n",
       "      <td>63.2</td>\n",
       "      <td>\\cellcolor{green!25}52.8</td>\n",
       "      <td>124.7</td>\n",
       "      <td>72.7</td>\n",
       "      <td>71.1</td>\n",
       "      <td>501.1</td>\n",
       "    </tr>\n",
       "    <tr>\n",
       "      <td>SeqZoom(8)</td>\n",
       "      <td>21.7</td>\n",
       "      <td>17.8</td>\n",
       "      <td>5.0</td>\n",
       "      <td>\\cellcolor{green!25}2.9</td>\n",
       "      <td>32.5</td>\n",
       "      <td>25.9</td>\n",
       "      <td>279.8</td>\n",
       "    </tr>\n",
       "    <tr>\n",
       "      <td>AltZoom(8)</td>\n",
       "      <td>31.1</td>\n",
       "      <td>26.7</td>\n",
       "      <td>\\cellcolor{green!25}13.9</td>\n",
       "      <td>14.2</td>\n",
       "      <td>36.2</td>\n",
       "      <td>36.2</td>\n",
       "      <td>415.0</td>\n",
       "    </tr>\n",
       "    <tr>\n",
       "      <td>Shift(8)</td>\n",
       "      <td>1192.6</td>\n",
       "      <td>781.3</td>\n",
       "      <td>682.7</td>\n",
       "      <td>\\cellcolor{green!25}468.8</td>\n",
       "      <td>680.5</td>\n",
       "      <td>751.8</td>\n",
       "      <td>544.7</td>\n",
       "    </tr>\n",
       "    <tr>\n",
       "      <td>Seq (2)</td>\n",
       "      <td>8.8</td>\n",
       "      <td>4.7</td>\n",
       "      <td>3.3</td>\n",
       "      <td>\\cellcolor{green!25}1.4</td>\n",
       "      <td>1.7</td>\n",
       "      <td>1.4</td>\n",
       "      <td>1.9</td>\n",
       "    </tr>\n",
       "    <tr>\n",
       "      <td>Power</td>\n",
       "      <td>23.2</td>\n",
       "      <td>20.6</td>\n",
       "      <td>21.0</td>\n",
       "      <td>\\cellcolor{green!25}19.1</td>\n",
       "      <td>22.2</td>\n",
       "      <td>22.0</td>\n",
       "      <td>159.5</td>\n",
       "    </tr>\n",
       "    <tr>\n",
       "      <td>Genomics</td>\n",
       "      <td>9.3</td>\n",
       "      <td>9.1</td>\n",
       "      <td>12.3</td>\n",
       "      <td>\\cellcolor{green!25}8.3</td>\n",
       "      <td>14.6</td>\n",
       "      <td>15.4</td>\n",
       "      <td>16.2</td>\n",
       "    </tr>\n",
       "    <tr>\n",
       "      <td>Skyserver</td>\n",
       "      <td>16.1</td>\n",
       "      <td>11.7</td>\n",
       "      <td>\\cellcolor{green!25}6.8</td>\n",
       "      <td>8.4</td>\n",
       "      <td>10.5</td>\n",
       "      <td>10.2</td>\n",
       "      <td>22986.4</td>\n",
       "    </tr>\n",
       "  </tbody>\n",
       "</table>\n",
       "</div>"
      ],
      "text/plain": [
       "             MedKD  AvgKD                         Q  \\\n",
       "Unif(8)       98.6   94.3                      83.3   \n",
       "Skewed(8)    126.2  122.0                      91.7   \n",
       "Zoom(8)       34.5   30.9                       7.1   \n",
       "Prdc(8)       67.9   63.2  \\cellcolor{green!25}52.8   \n",
       "SeqZoom(8)    21.7   17.8                       5.0   \n",
       "AltZoom(8)    31.1   26.7  \\cellcolor{green!25}13.9   \n",
       "Shift(8)    1192.6  781.3                     682.7   \n",
       "Seq (2)        8.8    4.7                       3.3   \n",
       "Power         23.2   20.6                      21.0   \n",
       "Genomics       9.3    9.1                      12.3   \n",
       "Skyserver     16.1   11.7   \\cellcolor{green!25}6.8   \n",
       "\n",
       "                                  AKD PKD(.2) GPKD(.2)       FS  \n",
       "Unif(8)      \\cellcolor{green!25}63.2   106.7    104.1    532.0  \n",
       "Skewed(8)    \\cellcolor{green!25}33.2   140.6    136.2    521.4  \n",
       "Zoom(8)       \\cellcolor{green!25}5.0    41.2     39.8    374.1  \n",
       "Prdc(8)                         124.7    72.7     71.1    501.1  \n",
       "SeqZoom(8)    \\cellcolor{green!25}2.9    32.5     25.9    279.8  \n",
       "AltZoom(8)                       14.2    36.2     36.2    415.0  \n",
       "Shift(8)    \\cellcolor{green!25}468.8   680.5    751.8    544.7  \n",
       "Seq (2)       \\cellcolor{green!25}1.4     1.7      1.4      1.9  \n",
       "Power        \\cellcolor{green!25}19.1    22.2     22.0    159.5  \n",
       "Genomics      \\cellcolor{green!25}8.3    14.6     15.4     16.2  \n",
       "Skyserver                         8.4    10.5     10.2  22986.4  "
      ]
     },
     "execution_count": 402,
     "metadata": {},
     "output_type": "execute_result"
    }
   ],
   "source": [
    "idx = pd.IndexSlice\n",
    "a = m.loc[idx[:, 'Time'], :]\n",
    "a = a.reset_index(level=1, drop=True)\n",
    "print(pandas_to_latex(a, 'min', ignore_last=False, float_format=\"%.1f\"))\n",
    "a"
   ]
  },
  {
   "cell_type": "markdown",
   "metadata": {},
   "source": [
    "Adaptive indexes usually have the lowest total response time, as they adapt as little as possible to efficiently answer a multidimensional range query. We can see on Table \\ref{table:response-time} that on the majority of scenarios the Adaptive KDTree has the lowest total response time. Progressive indexes are usually on par with full indexes, specifically because they prioritize robustness and convergence over total response time."
   ]
  },
  {
   "cell_type": "markdown",
   "metadata": {},
   "source": [
    "Figure \\ref{fig:total-response-time-break-down} presents a time breakdown of the Periodic benchmark for the Adaptive KDTree and Quasii. We can see that the Adaptive KDTree has much more index search time than Quasii, this happens because the Adaptive KDTree does not adapt well with a periodic workload. Figure \\ref{fig:total-time-number-of-nodes} shows the number of nodes in the index per query on the Periodic benchmark. We can see that at query 250 and 500 the Adaptive KDTree has a sudden increase in the number of nodes. This is no coincidence, as this queries are the ones where the peridic sequence resets. On query 750, which is also a reset, the index has already converged."
   ]
  },
  {
   "cell_type": "code",
   "execution_count": 403,
   "metadata": {},
   "outputs": [
    {
     "data": {
      "application/vnd.plotly.v1+json": {
       "config": {
        "plotlyServerURL": "https://plot.ly"
       },
       "data": [
        {
         "name": "Initialization",
         "type": "bar",
         "x": [
          "AKD",
          "Q"
         ],
         "y": [
          0.627391,
          0.671405
         ]
        },
        {
         "name": "Adaptation",
         "type": "bar",
         "x": [
          "AKD",
          "Q"
         ],
         "y": [
          27.158603,
          6.205931
         ]
        },
        {
         "name": "Index Search",
         "type": "bar",
         "x": [
          "AKD",
          "Q"
         ],
         "y": [
          12.099012000000002,
          0.572279
         ]
        },
        {
         "name": "Scan",
         "type": "bar",
         "x": [
          "AKD",
          "Q"
         ],
         "y": [
          84.77798899999999,
          45.340911000000006
         ]
        }
       ],
       "layout": {
        "barmode": "stack",
        "font": {
         "size": 42
        },
        "legend": {
         "font": {
          "color": "black",
          "size": 30
         },
         "orientation": "h",
         "x": 0.25,
         "y": 1.2
        },
        "plot_bgcolor": "rgba(0,0,0,0)",
        "template": {
         "data": {
          "bar": [
           {
            "error_x": {
             "color": "#2a3f5f"
            },
            "error_y": {
             "color": "#2a3f5f"
            },
            "marker": {
             "line": {
              "color": "#E5ECF6",
              "width": 0.5
             }
            },
            "type": "bar"
           }
          ],
          "barpolar": [
           {
            "marker": {
             "line": {
              "color": "#E5ECF6",
              "width": 0.5
             }
            },
            "type": "barpolar"
           }
          ],
          "carpet": [
           {
            "aaxis": {
             "endlinecolor": "#2a3f5f",
             "gridcolor": "white",
             "linecolor": "white",
             "minorgridcolor": "white",
             "startlinecolor": "#2a3f5f"
            },
            "baxis": {
             "endlinecolor": "#2a3f5f",
             "gridcolor": "white",
             "linecolor": "white",
             "minorgridcolor": "white",
             "startlinecolor": "#2a3f5f"
            },
            "type": "carpet"
           }
          ],
          "choropleth": [
           {
            "colorbar": {
             "outlinewidth": 0,
             "ticks": ""
            },
            "type": "choropleth"
           }
          ],
          "contour": [
           {
            "colorbar": {
             "outlinewidth": 0,
             "ticks": ""
            },
            "colorscale": [
             [
              0,
              "#0d0887"
             ],
             [
              0.1111111111111111,
              "#46039f"
             ],
             [
              0.2222222222222222,
              "#7201a8"
             ],
             [
              0.3333333333333333,
              "#9c179e"
             ],
             [
              0.4444444444444444,
              "#bd3786"
             ],
             [
              0.5555555555555556,
              "#d8576b"
             ],
             [
              0.6666666666666666,
              "#ed7953"
             ],
             [
              0.7777777777777778,
              "#fb9f3a"
             ],
             [
              0.8888888888888888,
              "#fdca26"
             ],
             [
              1,
              "#f0f921"
             ]
            ],
            "type": "contour"
           }
          ],
          "contourcarpet": [
           {
            "colorbar": {
             "outlinewidth": 0,
             "ticks": ""
            },
            "type": "contourcarpet"
           }
          ],
          "heatmap": [
           {
            "colorbar": {
             "outlinewidth": 0,
             "ticks": ""
            },
            "colorscale": [
             [
              0,
              "#0d0887"
             ],
             [
              0.1111111111111111,
              "#46039f"
             ],
             [
              0.2222222222222222,
              "#7201a8"
             ],
             [
              0.3333333333333333,
              "#9c179e"
             ],
             [
              0.4444444444444444,
              "#bd3786"
             ],
             [
              0.5555555555555556,
              "#d8576b"
             ],
             [
              0.6666666666666666,
              "#ed7953"
             ],
             [
              0.7777777777777778,
              "#fb9f3a"
             ],
             [
              0.8888888888888888,
              "#fdca26"
             ],
             [
              1,
              "#f0f921"
             ]
            ],
            "type": "heatmap"
           }
          ],
          "heatmapgl": [
           {
            "colorbar": {
             "outlinewidth": 0,
             "ticks": ""
            },
            "colorscale": [
             [
              0,
              "#0d0887"
             ],
             [
              0.1111111111111111,
              "#46039f"
             ],
             [
              0.2222222222222222,
              "#7201a8"
             ],
             [
              0.3333333333333333,
              "#9c179e"
             ],
             [
              0.4444444444444444,
              "#bd3786"
             ],
             [
              0.5555555555555556,
              "#d8576b"
             ],
             [
              0.6666666666666666,
              "#ed7953"
             ],
             [
              0.7777777777777778,
              "#fb9f3a"
             ],
             [
              0.8888888888888888,
              "#fdca26"
             ],
             [
              1,
              "#f0f921"
             ]
            ],
            "type": "heatmapgl"
           }
          ],
          "histogram": [
           {
            "marker": {
             "colorbar": {
              "outlinewidth": 0,
              "ticks": ""
             }
            },
            "type": "histogram"
           }
          ],
          "histogram2d": [
           {
            "colorbar": {
             "outlinewidth": 0,
             "ticks": ""
            },
            "colorscale": [
             [
              0,
              "#0d0887"
             ],
             [
              0.1111111111111111,
              "#46039f"
             ],
             [
              0.2222222222222222,
              "#7201a8"
             ],
             [
              0.3333333333333333,
              "#9c179e"
             ],
             [
              0.4444444444444444,
              "#bd3786"
             ],
             [
              0.5555555555555556,
              "#d8576b"
             ],
             [
              0.6666666666666666,
              "#ed7953"
             ],
             [
              0.7777777777777778,
              "#fb9f3a"
             ],
             [
              0.8888888888888888,
              "#fdca26"
             ],
             [
              1,
              "#f0f921"
             ]
            ],
            "type": "histogram2d"
           }
          ],
          "histogram2dcontour": [
           {
            "colorbar": {
             "outlinewidth": 0,
             "ticks": ""
            },
            "colorscale": [
             [
              0,
              "#0d0887"
             ],
             [
              0.1111111111111111,
              "#46039f"
             ],
             [
              0.2222222222222222,
              "#7201a8"
             ],
             [
              0.3333333333333333,
              "#9c179e"
             ],
             [
              0.4444444444444444,
              "#bd3786"
             ],
             [
              0.5555555555555556,
              "#d8576b"
             ],
             [
              0.6666666666666666,
              "#ed7953"
             ],
             [
              0.7777777777777778,
              "#fb9f3a"
             ],
             [
              0.8888888888888888,
              "#fdca26"
             ],
             [
              1,
              "#f0f921"
             ]
            ],
            "type": "histogram2dcontour"
           }
          ],
          "mesh3d": [
           {
            "colorbar": {
             "outlinewidth": 0,
             "ticks": ""
            },
            "type": "mesh3d"
           }
          ],
          "parcoords": [
           {
            "line": {
             "colorbar": {
              "outlinewidth": 0,
              "ticks": ""
             }
            },
            "type": "parcoords"
           }
          ],
          "scatter": [
           {
            "marker": {
             "colorbar": {
              "outlinewidth": 0,
              "ticks": ""
             }
            },
            "type": "scatter"
           }
          ],
          "scatter3d": [
           {
            "line": {
             "colorbar": {
              "outlinewidth": 0,
              "ticks": ""
             }
            },
            "marker": {
             "colorbar": {
              "outlinewidth": 0,
              "ticks": ""
             }
            },
            "type": "scatter3d"
           }
          ],
          "scattercarpet": [
           {
            "marker": {
             "colorbar": {
              "outlinewidth": 0,
              "ticks": ""
             }
            },
            "type": "scattercarpet"
           }
          ],
          "scattergeo": [
           {
            "marker": {
             "colorbar": {
              "outlinewidth": 0,
              "ticks": ""
             }
            },
            "type": "scattergeo"
           }
          ],
          "scattergl": [
           {
            "marker": {
             "colorbar": {
              "outlinewidth": 0,
              "ticks": ""
             }
            },
            "type": "scattergl"
           }
          ],
          "scattermapbox": [
           {
            "marker": {
             "colorbar": {
              "outlinewidth": 0,
              "ticks": ""
             }
            },
            "type": "scattermapbox"
           }
          ],
          "scatterpolar": [
           {
            "marker": {
             "colorbar": {
              "outlinewidth": 0,
              "ticks": ""
             }
            },
            "type": "scatterpolar"
           }
          ],
          "scatterpolargl": [
           {
            "marker": {
             "colorbar": {
              "outlinewidth": 0,
              "ticks": ""
             }
            },
            "type": "scatterpolargl"
           }
          ],
          "scatterternary": [
           {
            "marker": {
             "colorbar": {
              "outlinewidth": 0,
              "ticks": ""
             }
            },
            "type": "scatterternary"
           }
          ],
          "surface": [
           {
            "colorbar": {
             "outlinewidth": 0,
             "ticks": ""
            },
            "colorscale": [
             [
              0,
              "#0d0887"
             ],
             [
              0.1111111111111111,
              "#46039f"
             ],
             [
              0.2222222222222222,
              "#7201a8"
             ],
             [
              0.3333333333333333,
              "#9c179e"
             ],
             [
              0.4444444444444444,
              "#bd3786"
             ],
             [
              0.5555555555555556,
              "#d8576b"
             ],
             [
              0.6666666666666666,
              "#ed7953"
             ],
             [
              0.7777777777777778,
              "#fb9f3a"
             ],
             [
              0.8888888888888888,
              "#fdca26"
             ],
             [
              1,
              "#f0f921"
             ]
            ],
            "type": "surface"
           }
          ],
          "table": [
           {
            "cells": {
             "fill": {
              "color": "#EBF0F8"
             },
             "line": {
              "color": "white"
             }
            },
            "header": {
             "fill": {
              "color": "#C8D4E3"
             },
             "line": {
              "color": "white"
             }
            },
            "type": "table"
           }
          ]
         },
         "layout": {
          "annotationdefaults": {
           "arrowcolor": "#2a3f5f",
           "arrowhead": 0,
           "arrowwidth": 1
          },
          "colorscale": {
           "diverging": [
            [
             0,
             "#8e0152"
            ],
            [
             0.1,
             "#c51b7d"
            ],
            [
             0.2,
             "#de77ae"
            ],
            [
             0.3,
             "#f1b6da"
            ],
            [
             0.4,
             "#fde0ef"
            ],
            [
             0.5,
             "#f7f7f7"
            ],
            [
             0.6,
             "#e6f5d0"
            ],
            [
             0.7,
             "#b8e186"
            ],
            [
             0.8,
             "#7fbc41"
            ],
            [
             0.9,
             "#4d9221"
            ],
            [
             1,
             "#276419"
            ]
           ],
           "sequential": [
            [
             0,
             "#0d0887"
            ],
            [
             0.1111111111111111,
             "#46039f"
            ],
            [
             0.2222222222222222,
             "#7201a8"
            ],
            [
             0.3333333333333333,
             "#9c179e"
            ],
            [
             0.4444444444444444,
             "#bd3786"
            ],
            [
             0.5555555555555556,
             "#d8576b"
            ],
            [
             0.6666666666666666,
             "#ed7953"
            ],
            [
             0.7777777777777778,
             "#fb9f3a"
            ],
            [
             0.8888888888888888,
             "#fdca26"
            ],
            [
             1,
             "#f0f921"
            ]
           ],
           "sequentialminus": [
            [
             0,
             "#0d0887"
            ],
            [
             0.1111111111111111,
             "#46039f"
            ],
            [
             0.2222222222222222,
             "#7201a8"
            ],
            [
             0.3333333333333333,
             "#9c179e"
            ],
            [
             0.4444444444444444,
             "#bd3786"
            ],
            [
             0.5555555555555556,
             "#d8576b"
            ],
            [
             0.6666666666666666,
             "#ed7953"
            ],
            [
             0.7777777777777778,
             "#fb9f3a"
            ],
            [
             0.8888888888888888,
             "#fdca26"
            ],
            [
             1,
             "#f0f921"
            ]
           ]
          },
          "colorway": [
           "#636efa",
           "#EF553B",
           "#00cc96",
           "#ab63fa",
           "#FFA15A",
           "#19d3f3",
           "#FF6692",
           "#B6E880",
           "#FF97FF",
           "#FECB52"
          ],
          "font": {
           "color": "#2a3f5f"
          },
          "geo": {
           "bgcolor": "white",
           "lakecolor": "white",
           "landcolor": "#E5ECF6",
           "showlakes": true,
           "showland": true,
           "subunitcolor": "white"
          },
          "hoverlabel": {
           "align": "left"
          },
          "hovermode": "closest",
          "mapbox": {
           "style": "light"
          },
          "paper_bgcolor": "white",
          "plot_bgcolor": "#E5ECF6",
          "polar": {
           "angularaxis": {
            "gridcolor": "white",
            "linecolor": "white",
            "ticks": ""
           },
           "bgcolor": "#E5ECF6",
           "radialaxis": {
            "gridcolor": "white",
            "linecolor": "white",
            "ticks": ""
           }
          },
          "scene": {
           "xaxis": {
            "backgroundcolor": "#E5ECF6",
            "gridcolor": "white",
            "gridwidth": 2,
            "linecolor": "white",
            "showbackground": true,
            "ticks": "",
            "zerolinecolor": "white"
           },
           "yaxis": {
            "backgroundcolor": "#E5ECF6",
            "gridcolor": "white",
            "gridwidth": 2,
            "linecolor": "white",
            "showbackground": true,
            "ticks": "",
            "zerolinecolor": "white"
           },
           "zaxis": {
            "backgroundcolor": "#E5ECF6",
            "gridcolor": "white",
            "gridwidth": 2,
            "linecolor": "white",
            "showbackground": true,
            "ticks": "",
            "zerolinecolor": "white"
           }
          },
          "shapedefaults": {
           "line": {
            "color": "#2a3f5f"
           }
          },
          "ternary": {
           "aaxis": {
            "gridcolor": "white",
            "linecolor": "white",
            "ticks": ""
           },
           "baxis": {
            "gridcolor": "white",
            "linecolor": "white",
            "ticks": ""
           },
           "bgcolor": "#E5ECF6",
           "caxis": {
            "gridcolor": "white",
            "linecolor": "white",
            "ticks": ""
           }
          },
          "title": {
           "x": 0.05
          },
          "xaxis": {
           "automargin": true,
           "gridcolor": "white",
           "linecolor": "white",
           "ticks": "",
           "zerolinecolor": "white",
           "zerolinewidth": 2
          },
          "yaxis": {
           "automargin": true,
           "gridcolor": "white",
           "linecolor": "white",
           "ticks": "",
           "zerolinecolor": "white",
           "zerolinewidth": 2
          }
         }
        },
        "xaxis": {
         "linecolor": "black",
         "linewidth": 2,
         "showline": true,
         "ticklen": 5,
         "ticks": "inside",
         "zeroline": true
        },
        "yaxis": {
         "gridcolor": "lightgrey",
         "gridwidth": 1,
         "linecolor": "black",
         "linewidth": 2,
         "showgrid": true,
         "showline": true,
         "ticklen": 5,
         "ticks": "inside",
         "title": {
          "text": "Time (seconds)"
         },
         "zeroline": true
        }
       }
      },
      "text/html": [
       "<div>\n",
       "        \n",
       "        \n",
       "            <div id=\"4801f4fc-0d9a-4b5d-bfbe-54ba327cd3bc\" class=\"plotly-graph-div\" style=\"height:525px; width:100%;\"></div>\n",
       "            <script type=\"text/javascript\">\n",
       "                require([\"plotly\"], function(Plotly) {\n",
       "                    window.PLOTLYENV=window.PLOTLYENV || {};\n",
       "                    \n",
       "                if (document.getElementById(\"4801f4fc-0d9a-4b5d-bfbe-54ba327cd3bc\")) {\n",
       "                    Plotly.newPlot(\n",
       "                        '4801f4fc-0d9a-4b5d-bfbe-54ba327cd3bc',\n",
       "                        [{\"name\": \"Initialization\", \"type\": \"bar\", \"x\": [\"AKD\", \"Q\"], \"y\": [0.627391, 0.671405]}, {\"name\": \"Adaptation\", \"type\": \"bar\", \"x\": [\"AKD\", \"Q\"], \"y\": [27.158603, 6.205931]}, {\"name\": \"Index Search\", \"type\": \"bar\", \"x\": [\"AKD\", \"Q\"], \"y\": [12.099012000000002, 0.572279]}, {\"name\": \"Scan\", \"type\": \"bar\", \"x\": [\"AKD\", \"Q\"], \"y\": [84.77798899999999, 45.340911000000006]}],\n",
       "                        {\"barmode\": \"stack\", \"font\": {\"size\": 42}, \"legend\": {\"font\": {\"color\": \"black\", \"size\": 30}, \"orientation\": \"h\", \"x\": 0.25, \"y\": 1.2}, \"plot_bgcolor\": \"rgba(0,0,0,0)\", \"template\": {\"data\": {\"bar\": [{\"error_x\": {\"color\": \"#2a3f5f\"}, \"error_y\": {\"color\": \"#2a3f5f\"}, \"marker\": {\"line\": {\"color\": \"#E5ECF6\", \"width\": 0.5}}, \"type\": \"bar\"}], \"barpolar\": [{\"marker\": {\"line\": {\"color\": \"#E5ECF6\", \"width\": 0.5}}, \"type\": \"barpolar\"}], \"carpet\": [{\"aaxis\": {\"endlinecolor\": \"#2a3f5f\", \"gridcolor\": \"white\", \"linecolor\": \"white\", \"minorgridcolor\": \"white\", \"startlinecolor\": \"#2a3f5f\"}, \"baxis\": {\"endlinecolor\": \"#2a3f5f\", \"gridcolor\": \"white\", \"linecolor\": \"white\", \"minorgridcolor\": \"white\", \"startlinecolor\": \"#2a3f5f\"}, \"type\": \"carpet\"}], \"choropleth\": [{\"colorbar\": {\"outlinewidth\": 0, \"ticks\": \"\"}, \"type\": \"choropleth\"}], \"contour\": [{\"colorbar\": {\"outlinewidth\": 0, \"ticks\": \"\"}, \"colorscale\": [[0.0, \"#0d0887\"], [0.1111111111111111, \"#46039f\"], [0.2222222222222222, \"#7201a8\"], [0.3333333333333333, \"#9c179e\"], [0.4444444444444444, \"#bd3786\"], [0.5555555555555556, \"#d8576b\"], [0.6666666666666666, \"#ed7953\"], [0.7777777777777778, \"#fb9f3a\"], [0.8888888888888888, \"#fdca26\"], [1.0, \"#f0f921\"]], \"type\": \"contour\"}], \"contourcarpet\": [{\"colorbar\": {\"outlinewidth\": 0, \"ticks\": \"\"}, \"type\": \"contourcarpet\"}], \"heatmap\": [{\"colorbar\": {\"outlinewidth\": 0, \"ticks\": \"\"}, \"colorscale\": [[0.0, \"#0d0887\"], [0.1111111111111111, \"#46039f\"], [0.2222222222222222, \"#7201a8\"], [0.3333333333333333, \"#9c179e\"], [0.4444444444444444, \"#bd3786\"], [0.5555555555555556, \"#d8576b\"], [0.6666666666666666, \"#ed7953\"], [0.7777777777777778, \"#fb9f3a\"], [0.8888888888888888, \"#fdca26\"], [1.0, \"#f0f921\"]], \"type\": \"heatmap\"}], \"heatmapgl\": [{\"colorbar\": {\"outlinewidth\": 0, \"ticks\": \"\"}, \"colorscale\": [[0.0, \"#0d0887\"], [0.1111111111111111, \"#46039f\"], [0.2222222222222222, \"#7201a8\"], [0.3333333333333333, \"#9c179e\"], [0.4444444444444444, \"#bd3786\"], [0.5555555555555556, \"#d8576b\"], [0.6666666666666666, \"#ed7953\"], [0.7777777777777778, \"#fb9f3a\"], [0.8888888888888888, \"#fdca26\"], [1.0, \"#f0f921\"]], \"type\": \"heatmapgl\"}], \"histogram\": [{\"marker\": {\"colorbar\": {\"outlinewidth\": 0, \"ticks\": \"\"}}, \"type\": \"histogram\"}], \"histogram2d\": [{\"colorbar\": {\"outlinewidth\": 0, \"ticks\": \"\"}, \"colorscale\": [[0.0, \"#0d0887\"], [0.1111111111111111, \"#46039f\"], [0.2222222222222222, \"#7201a8\"], [0.3333333333333333, \"#9c179e\"], [0.4444444444444444, \"#bd3786\"], [0.5555555555555556, \"#d8576b\"], [0.6666666666666666, \"#ed7953\"], [0.7777777777777778, \"#fb9f3a\"], [0.8888888888888888, \"#fdca26\"], [1.0, \"#f0f921\"]], \"type\": \"histogram2d\"}], \"histogram2dcontour\": [{\"colorbar\": {\"outlinewidth\": 0, \"ticks\": \"\"}, \"colorscale\": [[0.0, \"#0d0887\"], [0.1111111111111111, \"#46039f\"], [0.2222222222222222, \"#7201a8\"], [0.3333333333333333, \"#9c179e\"], [0.4444444444444444, \"#bd3786\"], [0.5555555555555556, \"#d8576b\"], [0.6666666666666666, \"#ed7953\"], [0.7777777777777778, \"#fb9f3a\"], [0.8888888888888888, \"#fdca26\"], [1.0, \"#f0f921\"]], \"type\": \"histogram2dcontour\"}], \"mesh3d\": [{\"colorbar\": {\"outlinewidth\": 0, \"ticks\": \"\"}, \"type\": \"mesh3d\"}], \"parcoords\": [{\"line\": {\"colorbar\": {\"outlinewidth\": 0, \"ticks\": \"\"}}, \"type\": \"parcoords\"}], \"scatter\": [{\"marker\": {\"colorbar\": {\"outlinewidth\": 0, \"ticks\": \"\"}}, \"type\": \"scatter\"}], \"scatter3d\": [{\"line\": {\"colorbar\": {\"outlinewidth\": 0, \"ticks\": \"\"}}, \"marker\": {\"colorbar\": {\"outlinewidth\": 0, \"ticks\": \"\"}}, \"type\": \"scatter3d\"}], \"scattercarpet\": [{\"marker\": {\"colorbar\": {\"outlinewidth\": 0, \"ticks\": \"\"}}, \"type\": \"scattercarpet\"}], \"scattergeo\": [{\"marker\": {\"colorbar\": {\"outlinewidth\": 0, \"ticks\": \"\"}}, \"type\": \"scattergeo\"}], \"scattergl\": [{\"marker\": {\"colorbar\": {\"outlinewidth\": 0, \"ticks\": \"\"}}, \"type\": \"scattergl\"}], \"scattermapbox\": [{\"marker\": {\"colorbar\": {\"outlinewidth\": 0, \"ticks\": \"\"}}, \"type\": \"scattermapbox\"}], \"scatterpolar\": [{\"marker\": {\"colorbar\": {\"outlinewidth\": 0, \"ticks\": \"\"}}, \"type\": \"scatterpolar\"}], \"scatterpolargl\": [{\"marker\": {\"colorbar\": {\"outlinewidth\": 0, \"ticks\": \"\"}}, \"type\": \"scatterpolargl\"}], \"scatterternary\": [{\"marker\": {\"colorbar\": {\"outlinewidth\": 0, \"ticks\": \"\"}}, \"type\": \"scatterternary\"}], \"surface\": [{\"colorbar\": {\"outlinewidth\": 0, \"ticks\": \"\"}, \"colorscale\": [[0.0, \"#0d0887\"], [0.1111111111111111, \"#46039f\"], [0.2222222222222222, \"#7201a8\"], [0.3333333333333333, \"#9c179e\"], [0.4444444444444444, \"#bd3786\"], [0.5555555555555556, \"#d8576b\"], [0.6666666666666666, \"#ed7953\"], [0.7777777777777778, \"#fb9f3a\"], [0.8888888888888888, \"#fdca26\"], [1.0, \"#f0f921\"]], \"type\": \"surface\"}], \"table\": [{\"cells\": {\"fill\": {\"color\": \"#EBF0F8\"}, \"line\": {\"color\": \"white\"}}, \"header\": {\"fill\": {\"color\": \"#C8D4E3\"}, \"line\": {\"color\": \"white\"}}, \"type\": \"table\"}]}, \"layout\": {\"annotationdefaults\": {\"arrowcolor\": \"#2a3f5f\", \"arrowhead\": 0, \"arrowwidth\": 1}, \"colorscale\": {\"diverging\": [[0, \"#8e0152\"], [0.1, \"#c51b7d\"], [0.2, \"#de77ae\"], [0.3, \"#f1b6da\"], [0.4, \"#fde0ef\"], [0.5, \"#f7f7f7\"], [0.6, \"#e6f5d0\"], [0.7, \"#b8e186\"], [0.8, \"#7fbc41\"], [0.9, \"#4d9221\"], [1, \"#276419\"]], \"sequential\": [[0.0, \"#0d0887\"], [0.1111111111111111, \"#46039f\"], [0.2222222222222222, \"#7201a8\"], [0.3333333333333333, \"#9c179e\"], [0.4444444444444444, \"#bd3786\"], [0.5555555555555556, \"#d8576b\"], [0.6666666666666666, \"#ed7953\"], [0.7777777777777778, \"#fb9f3a\"], [0.8888888888888888, \"#fdca26\"], [1.0, \"#f0f921\"]], \"sequentialminus\": [[0.0, \"#0d0887\"], [0.1111111111111111, \"#46039f\"], [0.2222222222222222, \"#7201a8\"], [0.3333333333333333, \"#9c179e\"], [0.4444444444444444, \"#bd3786\"], [0.5555555555555556, \"#d8576b\"], [0.6666666666666666, \"#ed7953\"], [0.7777777777777778, \"#fb9f3a\"], [0.8888888888888888, \"#fdca26\"], [1.0, \"#f0f921\"]]}, \"colorway\": [\"#636efa\", \"#EF553B\", \"#00cc96\", \"#ab63fa\", \"#FFA15A\", \"#19d3f3\", \"#FF6692\", \"#B6E880\", \"#FF97FF\", \"#FECB52\"], \"font\": {\"color\": \"#2a3f5f\"}, \"geo\": {\"bgcolor\": \"white\", \"lakecolor\": \"white\", \"landcolor\": \"#E5ECF6\", \"showlakes\": true, \"showland\": true, \"subunitcolor\": \"white\"}, \"hoverlabel\": {\"align\": \"left\"}, \"hovermode\": \"closest\", \"mapbox\": {\"style\": \"light\"}, \"paper_bgcolor\": \"white\", \"plot_bgcolor\": \"#E5ECF6\", \"polar\": {\"angularaxis\": {\"gridcolor\": \"white\", \"linecolor\": \"white\", \"ticks\": \"\"}, \"bgcolor\": \"#E5ECF6\", \"radialaxis\": {\"gridcolor\": \"white\", \"linecolor\": \"white\", \"ticks\": \"\"}}, \"scene\": {\"xaxis\": {\"backgroundcolor\": \"#E5ECF6\", \"gridcolor\": \"white\", \"gridwidth\": 2, \"linecolor\": \"white\", \"showbackground\": true, \"ticks\": \"\", \"zerolinecolor\": \"white\"}, \"yaxis\": {\"backgroundcolor\": \"#E5ECF6\", \"gridcolor\": \"white\", \"gridwidth\": 2, \"linecolor\": \"white\", \"showbackground\": true, \"ticks\": \"\", \"zerolinecolor\": \"white\"}, \"zaxis\": {\"backgroundcolor\": \"#E5ECF6\", \"gridcolor\": \"white\", \"gridwidth\": 2, \"linecolor\": \"white\", \"showbackground\": true, \"ticks\": \"\", \"zerolinecolor\": \"white\"}}, \"shapedefaults\": {\"line\": {\"color\": \"#2a3f5f\"}}, \"ternary\": {\"aaxis\": {\"gridcolor\": \"white\", \"linecolor\": \"white\", \"ticks\": \"\"}, \"baxis\": {\"gridcolor\": \"white\", \"linecolor\": \"white\", \"ticks\": \"\"}, \"bgcolor\": \"#E5ECF6\", \"caxis\": {\"gridcolor\": \"white\", \"linecolor\": \"white\", \"ticks\": \"\"}}, \"title\": {\"x\": 0.05}, \"xaxis\": {\"automargin\": true, \"gridcolor\": \"white\", \"linecolor\": \"white\", \"ticks\": \"\", \"zerolinecolor\": \"white\", \"zerolinewidth\": 2}, \"yaxis\": {\"automargin\": true, \"gridcolor\": \"white\", \"linecolor\": \"white\", \"ticks\": \"\", \"zerolinecolor\": \"white\", \"zerolinewidth\": 2}}}, \"xaxis\": {\"linecolor\": \"black\", \"linewidth\": 2, \"showline\": true, \"ticklen\": 5, \"ticks\": \"inside\", \"zeroline\": true}, \"yaxis\": {\"gridcolor\": \"lightgrey\", \"gridwidth\": 1, \"linecolor\": \"black\", \"linewidth\": 2, \"showgrid\": true, \"showline\": true, \"ticklen\": 5, \"ticks\": \"inside\", \"title\": {\"text\": \"Time (seconds)\"}, \"zeroline\": true}},\n",
       "                        {\"responsive\": true}\n",
       "                    ).then(function(){\n",
       "                            \n",
       "var gd = document.getElementById('4801f4fc-0d9a-4b5d-bfbe-54ba327cd3bc');\n",
       "var x = new MutationObserver(function (mutations, observer) {{\n",
       "        var display = window.getComputedStyle(gd).display;\n",
       "        if (!display || display === 'none') {{\n",
       "            console.log([gd, 'removed!']);\n",
       "            Plotly.purge(gd);\n",
       "            observer.disconnect();\n",
       "        }}\n",
       "}});\n",
       "\n",
       "// Listen for the removal of the full notebook cells\n",
       "var notebookContainer = gd.closest('#notebook-container');\n",
       "if (notebookContainer) {{\n",
       "    x.observe(notebookContainer, {childList: true});\n",
       "}}\n",
       "\n",
       "// Listen for the clearing of the current output cell\n",
       "var outputEl = gd.closest('.output');\n",
       "if (outputEl) {{\n",
       "    x.observe(outputEl, {childList: true});\n",
       "}}\n",
       "\n",
       "                        })\n",
       "                };\n",
       "                });\n",
       "            </script>\n",
       "        </div>"
      ]
     },
     "metadata": {},
     "output_type": "display_data"
    }
   ],
   "source": [
    "a = break_down('Periodic8', ['CrackingKDTree', 'Quasii'], -1)\n",
    "save_figure(a, 'total_response_time_break_down.pdf')\n",
    "a"
   ]
  },
  {
   "cell_type": "code",
   "execution_count": 404,
   "metadata": {},
   "outputs": [
    {
     "data": {
      "application/vnd.plotly.v1+json": {
       "config": {
        "plotlyServerURL": "https://plot.ly"
       },
       "data": [
        {
         "line": {
          "dash": "dash",
          "width": 4
         },
         "marker": {
          "color": "green"
         },
         "mode": "lines",
         "name": "AKD",
         "type": "scatter",
         "x": [
          0,
          1,
          2,
          3,
          4,
          5,
          6,
          7,
          8,
          9,
          10,
          11,
          12,
          13,
          14,
          15,
          16,
          17,
          18,
          19,
          20,
          21,
          22,
          23,
          24,
          25,
          26,
          27,
          28,
          29,
          30,
          31,
          32,
          33,
          34,
          35,
          36,
          37,
          38,
          39,
          40,
          41,
          42,
          43,
          44,
          45,
          46,
          47,
          48,
          49,
          50,
          51,
          52,
          53,
          54,
          55,
          56,
          57,
          58,
          59,
          60,
          61,
          62,
          63,
          64,
          65,
          66,
          67,
          68,
          69,
          70,
          71,
          72,
          73,
          74,
          75,
          76,
          77,
          78,
          79,
          80,
          81,
          82,
          83,
          84,
          85,
          86,
          87,
          88,
          89,
          90,
          91,
          92,
          93,
          94,
          95,
          96,
          97,
          98,
          99,
          100,
          101,
          102,
          103,
          104,
          105,
          106,
          107,
          108,
          109,
          110,
          111,
          112,
          113,
          114,
          115,
          116,
          117,
          118,
          119,
          120,
          121,
          122,
          123,
          124,
          125,
          126,
          127,
          128,
          129,
          130,
          131,
          132,
          133,
          134,
          135,
          136,
          137,
          138,
          139,
          140,
          141,
          142,
          143,
          144,
          145,
          146,
          147,
          148,
          149,
          150,
          151,
          152,
          153,
          154,
          155,
          156,
          157,
          158,
          159,
          160,
          161,
          162,
          163,
          164,
          165,
          166,
          167,
          168,
          169,
          170,
          171,
          172,
          173,
          174,
          175,
          176,
          177,
          178,
          179,
          180,
          181,
          182,
          183,
          184,
          185,
          186,
          187,
          188,
          189,
          190,
          191,
          192,
          193,
          194,
          195,
          196,
          197,
          198,
          199,
          200,
          201,
          202,
          203,
          204,
          205,
          206,
          207,
          208,
          209,
          210,
          211,
          212,
          213,
          214,
          215,
          216,
          217,
          218,
          219,
          220,
          221,
          222,
          223,
          224,
          225,
          226,
          227,
          228,
          229,
          230,
          231,
          232,
          233,
          234,
          235,
          236,
          237,
          238,
          239,
          240,
          241,
          242,
          243,
          244,
          245,
          246,
          247,
          248,
          249,
          250,
          251,
          252,
          253,
          254,
          255,
          256,
          257,
          258,
          259,
          260,
          261,
          262,
          263,
          264,
          265,
          266,
          267,
          268,
          269,
          270,
          271,
          272,
          273,
          274,
          275,
          276,
          277,
          278,
          279,
          280,
          281,
          282,
          283,
          284,
          285,
          286,
          287,
          288,
          289,
          290,
          291,
          292,
          293,
          294,
          295,
          296,
          297,
          298,
          299,
          300,
          301,
          302,
          303,
          304,
          305,
          306,
          307,
          308,
          309,
          310,
          311,
          312,
          313,
          314,
          315,
          316,
          317,
          318,
          319,
          320,
          321,
          322,
          323,
          324,
          325,
          326,
          327,
          328,
          329,
          330,
          331,
          332,
          333,
          334,
          335,
          336,
          337,
          338,
          339,
          340,
          341,
          342,
          343,
          344,
          345,
          346,
          347,
          348,
          349,
          350,
          351,
          352,
          353,
          354,
          355,
          356,
          357,
          358,
          359,
          360,
          361,
          362,
          363,
          364,
          365,
          366,
          367,
          368,
          369,
          370,
          371,
          372,
          373,
          374,
          375,
          376,
          377,
          378,
          379,
          380,
          381,
          382,
          383,
          384,
          385,
          386,
          387,
          388,
          389,
          390,
          391,
          392,
          393,
          394,
          395,
          396,
          397,
          398,
          399,
          400,
          401,
          402,
          403,
          404,
          405,
          406,
          407,
          408,
          409,
          410,
          411,
          412,
          413,
          414,
          415,
          416,
          417,
          418,
          419,
          420,
          421,
          422,
          423,
          424,
          425,
          426,
          427,
          428,
          429,
          430,
          431,
          432,
          433,
          434,
          435,
          436,
          437,
          438,
          439,
          440,
          441,
          442,
          443,
          444,
          445,
          446,
          447,
          448,
          449,
          450,
          451,
          452,
          453,
          454,
          455,
          456,
          457,
          458,
          459,
          460,
          461,
          462,
          463,
          464,
          465,
          466,
          467,
          468,
          469,
          470,
          471,
          472,
          473,
          474,
          475,
          476,
          477,
          478,
          479,
          480,
          481,
          482,
          483,
          484,
          485,
          486,
          487,
          488,
          489,
          490,
          491,
          492,
          493,
          494,
          495,
          496,
          497,
          498,
          499,
          500,
          501,
          502,
          503,
          504,
          505,
          506,
          507,
          508,
          509,
          510,
          511,
          512,
          513,
          514,
          515,
          516,
          517,
          518,
          519,
          520,
          521,
          522,
          523,
          524,
          525,
          526,
          527,
          528,
          529,
          530,
          531,
          532,
          533,
          534,
          535,
          536,
          537,
          538,
          539,
          540,
          541,
          542,
          543,
          544,
          545,
          546,
          547,
          548,
          549,
          550,
          551,
          552,
          553,
          554,
          555,
          556,
          557,
          558,
          559,
          560,
          561,
          562,
          563,
          564,
          565,
          566,
          567,
          568,
          569,
          570,
          571,
          572,
          573,
          574,
          575,
          576,
          577,
          578,
          579,
          580,
          581,
          582,
          583,
          584,
          585,
          586,
          587,
          588,
          589,
          590,
          591,
          592,
          593,
          594,
          595,
          596,
          597,
          598,
          599,
          600,
          601,
          602,
          603,
          604,
          605,
          606,
          607,
          608,
          609,
          610,
          611,
          612,
          613,
          614,
          615,
          616,
          617,
          618,
          619,
          620,
          621,
          622,
          623,
          624,
          625,
          626,
          627,
          628,
          629,
          630,
          631,
          632,
          633,
          634,
          635,
          636,
          637,
          638,
          639,
          640,
          641,
          642,
          643,
          644,
          645,
          646,
          647,
          648,
          649,
          650,
          651,
          652,
          653,
          654,
          655,
          656,
          657,
          658,
          659,
          660,
          661,
          662,
          663,
          664,
          665,
          666,
          667,
          668,
          669,
          670,
          671,
          672,
          673,
          674,
          675,
          676,
          677,
          678,
          679,
          680,
          681,
          682,
          683,
          684,
          685,
          686,
          687,
          688,
          689,
          690,
          691,
          692,
          693,
          694,
          695,
          696,
          697,
          698,
          699,
          700,
          701,
          702,
          703,
          704,
          705,
          706,
          707,
          708,
          709,
          710,
          711,
          712,
          713,
          714,
          715,
          716,
          717,
          718,
          719,
          720,
          721,
          722,
          723,
          724,
          725,
          726,
          727,
          728,
          729,
          730,
          731,
          732,
          733,
          734,
          735,
          736,
          737,
          738,
          739,
          740,
          741,
          742,
          743,
          744,
          745,
          746,
          747,
          748,
          749,
          750,
          751,
          752,
          753,
          754,
          755,
          756,
          757,
          758,
          759,
          760,
          761,
          762,
          763,
          764,
          765,
          766,
          767,
          768,
          769,
          770,
          771,
          772,
          773,
          774,
          775,
          776,
          777,
          778,
          779,
          780,
          781,
          782,
          783,
          784,
          785,
          786,
          787,
          788,
          789,
          790,
          791,
          792,
          793,
          794,
          795,
          796,
          797,
          798,
          799,
          800,
          801,
          802,
          803,
          804,
          805,
          806,
          807,
          808,
          809,
          810,
          811,
          812,
          813,
          814,
          815,
          816,
          817,
          818,
          819,
          820,
          821,
          822,
          823,
          824,
          825,
          826,
          827,
          828,
          829,
          830,
          831,
          832,
          833,
          834,
          835,
          836,
          837,
          838,
          839,
          840,
          841,
          842,
          843,
          844,
          845,
          846,
          847,
          848,
          849,
          850,
          851,
          852,
          853,
          854,
          855,
          856,
          857,
          858,
          859,
          860,
          861,
          862,
          863,
          864,
          865,
          866,
          867,
          868,
          869,
          870,
          871,
          872,
          873,
          874,
          875,
          876,
          877,
          878,
          879,
          880,
          881,
          882,
          883,
          884,
          885,
          886,
          887,
          888,
          889,
          890,
          891,
          892,
          893,
          894,
          895,
          896,
          897,
          898,
          899,
          900,
          901,
          902,
          903,
          904,
          905,
          906,
          907,
          908,
          909,
          910,
          911,
          912,
          913,
          914,
          915,
          916,
          917,
          918,
          919,
          920,
          921,
          922,
          923,
          924,
          925,
          926,
          927,
          928,
          929,
          930,
          931,
          932,
          933,
          934,
          935,
          936,
          937,
          938,
          939,
          940,
          941,
          942,
          943,
          944,
          945,
          946,
          947,
          948,
          949,
          950,
          951,
          952,
          953,
          954,
          955,
          956,
          957,
          958,
          959,
          960,
          961,
          962,
          963,
          964,
          965,
          966,
          967,
          968,
          969,
          970,
          971,
          972,
          973,
          974,
          975,
          976,
          977,
          978,
          979,
          980,
          981,
          982,
          983,
          984,
          985,
          986,
          987,
          988,
          989,
          990,
          991,
          992,
          993,
          994,
          995,
          996,
          997,
          998,
          999
         ],
         "y": [
          263,
          299,
          328,
          357,
          386,
          415,
          444,
          473,
          502,
          531,
          560,
          589,
          618,
          647,
          676,
          705,
          734,
          763,
          792,
          821,
          850,
          879,
          908,
          937,
          966,
          995,
          1024,
          1053,
          1082,
          1111,
          1140,
          1169,
          1198,
          1227,
          1256,
          1285,
          1314,
          1343,
          1372,
          1401,
          1430,
          1459,
          1488,
          1517,
          1546,
          1575,
          1604,
          1633,
          1662,
          1691,
          1720,
          1749,
          1778,
          1807,
          1836,
          1865,
          1894,
          1923,
          1952,
          1981,
          2010,
          2039,
          2068,
          2097,
          2126,
          2155,
          2184,
          2213,
          2242,
          2271,
          2300,
          2329,
          2358,
          2387,
          2416,
          2445,
          2474,
          2503,
          2532,
          2561,
          2590,
          2619,
          2648,
          2677,
          2706,
          2735,
          2764,
          2793,
          2822,
          2851,
          2880,
          2909,
          2938,
          2967,
          2996,
          3025,
          3054,
          3083,
          3112,
          3141,
          3170,
          3199,
          3228,
          3257,
          3286,
          3315,
          3344,
          3373,
          3402,
          3431,
          3460,
          3489,
          3518,
          3547,
          3576,
          3605,
          3634,
          3663,
          3692,
          3721,
          3750,
          3779,
          3808,
          3837,
          3866,
          3895,
          3924,
          3953,
          3982,
          4011,
          4040,
          4069,
          4098,
          4127,
          4156,
          4185,
          4214,
          4243,
          4272,
          4301,
          4330,
          4359,
          4388,
          4417,
          4446,
          4475,
          4504,
          4533,
          4562,
          4591,
          4620,
          4649,
          4678,
          4707,
          4736,
          4765,
          4794,
          4823,
          4852,
          4881,
          4910,
          4939,
          4968,
          4997,
          5026,
          5055,
          5084,
          5113,
          5142,
          5171,
          5200,
          5229,
          5258,
          5287,
          5316,
          5345,
          5374,
          5403,
          5432,
          5461,
          5490,
          5519,
          5548,
          5577,
          5606,
          5635,
          5664,
          5693,
          5722,
          5751,
          5780,
          5809,
          5838,
          5867,
          5884,
          5898,
          5912,
          5926,
          5940,
          5954,
          5968,
          5982,
          5996,
          6010,
          6024,
          6038,
          6052,
          6066,
          6080,
          6094,
          6108,
          6122,
          6136,
          6150,
          6164,
          6178,
          6180,
          6180,
          6180,
          6180,
          6180,
          6180,
          6180,
          6180,
          6180,
          6180,
          6180,
          6180,
          6180,
          6180,
          6180,
          6180,
          6180,
          6180,
          6180,
          6180,
          6180,
          6180,
          6180,
          6180,
          6180,
          6180,
          6180,
          6180,
          6180,
          6180,
          6180,
          6180,
          6180,
          6180,
          11577,
          15618,
          19624,
          23629,
          27634,
          31639,
          35644,
          39587,
          43385,
          47107,
          50797,
          54487,
          58177,
          61867,
          65555,
          69227,
          72780,
          76214,
          79519,
          82740,
          85918,
          89083,
          92248,
          95413,
          98578,
          101743,
          104898,
          108023,
          111090,
          114033,
          116939,
          119788,
          122595,
          125331,
          127999,
          130658,
          133305,
          135945,
          138585,
          141225,
          143865,
          146505,
          149145,
          151749,
          154327,
          156837,
          159302,
          161750,
          164184,
          166614,
          169044,
          171470,
          173885,
          176285,
          178661,
          181020,
          183363,
          185698,
          188028,
          190353,
          192678,
          195003,
          197328,
          199653,
          201978,
          204303,
          206628,
          208953,
          211276,
          213591,
          215891,
          218169,
          220428,
          222678,
          224920,
          227161,
          229402,
          231643,
          233884,
          236125,
          238366,
          240607,
          242848,
          245089,
          247330,
          249571,
          251812,
          254053,
          256294,
          258535,
          260776,
          263017,
          265256,
          267492,
          269725,
          271952,
          274178,
          276402,
          278623,
          280843,
          283063,
          285283,
          287503,
          289723,
          291943,
          294163,
          296383,
          298603,
          300823,
          303043,
          305263,
          307483,
          309703,
          311923,
          314143,
          316363,
          318583,
          320801,
          323013,
          325223,
          327430,
          329636,
          331842,
          334048,
          336254,
          338460,
          340666,
          342872,
          345078,
          347284,
          349490,
          351696,
          353902,
          356108,
          358314,
          360518,
          362721,
          364921,
          367114,
          369303,
          371489,
          373674,
          375859,
          378044,
          380229,
          382414,
          384599,
          386784,
          388969,
          391154,
          393333,
          395501,
          397647,
          399771,
          401885,
          403994,
          406102,
          408210,
          410318,
          412424,
          414524,
          416616,
          418690,
          420723,
          422720,
          424704,
          426680,
          428642,
          430589,
          432522,
          434433,
          436315,
          438152,
          439941,
          441711,
          443474,
          445217,
          446918,
          448549,
          450113,
          451628,
          453126,
          454598,
          456012,
          457328,
          458560,
          459751,
          460902,
          461942,
          462869,
          463735,
          464487,
          465123,
          465660,
          466090,
          466400,
          466616,
          466738,
          466790,
          466799,
          466799,
          466799,
          466799,
          466799,
          466799,
          466799,
          466799,
          466799,
          466799,
          466799,
          466799,
          466799,
          466799,
          466799,
          466799,
          466799,
          466799,
          466799,
          466799,
          466799,
          466799,
          466799,
          466799,
          466799,
          466799,
          466799,
          466799,
          466799,
          466799,
          466799,
          466799,
          466799,
          466799,
          466799,
          466799,
          466799,
          466799,
          466799,
          466799,
          466799,
          466799,
          466799,
          466799,
          466799,
          466799,
          466799,
          466799,
          466799,
          466799,
          466799,
          481424,
          483742,
          485472,
          487201,
          488930,
          490655,
          492370,
          494065,
          495743,
          497406,
          499053,
          500668,
          502250,
          503790,
          505273,
          506708,
          508093,
          509428,
          510706,
          511914,
          513054,
          514135,
          515161,
          516133,
          517056,
          517929,
          518766,
          519581,
          520375,
          521151,
          521903,
          522635,
          523348,
          524039,
          524715,
          525374,
          526017,
          526648,
          527268,
          527876,
          528462,
          529022,
          529546,
          530025,
          530453,
          530843,
          531203,
          531540,
          531861,
          532164,
          532453,
          532734,
          533007,
          533275,
          533535,
          533789,
          534041,
          534291,
          534538,
          534778,
          535005,
          535221,
          535426,
          535611,
          535773,
          535908,
          536019,
          536108,
          536175,
          536229,
          536278,
          536325,
          536371,
          536414,
          536456,
          536498,
          536540,
          536582,
          536624,
          536666,
          536705,
          536741,
          536775,
          536806,
          536834,
          536860,
          536885,
          536907,
          536925,
          536941,
          536954,
          536965,
          536975,
          536984,
          536991,
          536996,
          536996,
          536996,
          536996,
          536996,
          536996,
          536996,
          536996,
          536996,
          536996,
          536996,
          536996,
          536996,
          536996,
          536996,
          536996,
          536996,
          536996,
          536996,
          536996,
          536996,
          536996,
          536996,
          536996,
          536996,
          536996,
          536996,
          536996,
          536996,
          536996,
          536996,
          536996,
          536996,
          536996,
          536996,
          536996,
          536996,
          536996,
          536996,
          536996,
          536996,
          536996,
          536996,
          536996,
          536996,
          536996,
          536996,
          536996,
          536996,
          536996,
          536996,
          536996,
          536996,
          536996,
          536996,
          536996,
          536996,
          536996,
          536996,
          536996,
          536996,
          536996,
          536996,
          536996,
          536996,
          536996,
          536996,
          536996,
          536996,
          536996,
          536996,
          536996,
          536996,
          536996,
          536996,
          536996,
          536996,
          536996,
          536996,
          536996,
          536996,
          536996,
          536996,
          536996,
          536996,
          536996,
          536996,
          536996,
          536996,
          536996,
          536996,
          536996,
          536996,
          536996,
          536996,
          536996,
          536996,
          536996,
          536996,
          536996,
          536996,
          536996,
          536996,
          536996,
          536996,
          536996,
          536996,
          536996,
          536996,
          536996,
          536996,
          536996,
          536996,
          536996,
          536996,
          536996,
          536996,
          536996,
          536996,
          536996,
          536996,
          536996,
          536996,
          536996,
          536996,
          536996,
          536996,
          536996,
          536996,
          536996,
          536996,
          536996,
          536996,
          536996,
          536996,
          536996,
          536996,
          536996,
          536996,
          536996,
          536996,
          536996,
          536996,
          536996,
          536996,
          536996,
          536996,
          536996,
          536996,
          536996,
          536996,
          536996,
          536996,
          536996,
          536996,
          536996,
          536996,
          536996,
          536996,
          536996,
          536996,
          536996,
          536996,
          536996,
          536996,
          536996,
          536996,
          536996,
          536996,
          536996,
          536996,
          536996,
          536996,
          536996,
          536996,
          536996,
          536996,
          536996,
          536996,
          536996,
          536996,
          536996,
          536996,
          536996,
          536996,
          536996,
          536996,
          536996,
          536996,
          536996,
          536996,
          536996,
          536996,
          536996,
          536996,
          536996,
          536996,
          536996,
          536996,
          536996,
          536996,
          536996,
          536996,
          536996,
          536996,
          536996,
          536996,
          536996,
          536996,
          536996,
          536996,
          536996,
          536996,
          536996,
          536996,
          536996,
          536996,
          536996,
          536996,
          536996,
          536996,
          536996,
          536996,
          536996,
          536996,
          536996,
          536996,
          536996,
          536996,
          536996,
          536996,
          536996,
          536996,
          536996,
          536996,
          536996,
          536996,
          536996,
          536996,
          536996,
          536996,
          536996,
          536996,
          536996,
          536996,
          536996,
          536996,
          536996,
          536996,
          536996,
          536996,
          536996,
          536996,
          536996,
          536996,
          536996,
          536996,
          536996,
          536996,
          536996,
          536996,
          536996,
          536996,
          536996,
          536996,
          536996,
          536996,
          536996,
          536996,
          536996,
          536996,
          536996,
          536996,
          536996,
          536996,
          536996,
          536996,
          536996,
          536996,
          536996,
          536996,
          536996,
          536996,
          536996,
          536996,
          536996,
          536996,
          536996,
          536996,
          536996,
          536996,
          536996,
          536996,
          536996,
          536996,
          536996,
          536996,
          536996,
          536996,
          536996,
          536996,
          536996,
          536996,
          536996,
          536996,
          536996,
          536996,
          536996,
          536996,
          536996,
          536996,
          536996,
          536996,
          536996,
          536996,
          536996,
          536996,
          536996,
          536996,
          536996,
          536996,
          536996,
          536996,
          536996,
          536996,
          536996,
          536996,
          536996,
          536996,
          536996,
          536996,
          536996,
          536996,
          536996,
          536996,
          536996,
          536996,
          536996,
          536996,
          536996,
          536996,
          536996,
          536996,
          536996,
          536996,
          536996,
          536996,
          536996,
          536996,
          536996,
          536996,
          536996,
          536996,
          536996,
          536996,
          536996,
          536996,
          536996,
          536996,
          536996,
          536996,
          536996,
          536996,
          536996,
          536996,
          536996,
          536996,
          536996,
          536996,
          536996,
          536996,
          536996,
          536996,
          536996,
          536996,
          536996,
          536996,
          536996,
          536996,
          536996,
          536996,
          536996,
          536996,
          536996,
          536996,
          536996,
          536996,
          536996,
          536996,
          536996,
          536996,
          536996,
          536996,
          536996,
          536996,
          536996,
          536996,
          536996,
          536996,
          536996,
          536996,
          536996,
          536996,
          536996,
          536996
         ]
        },
        {
         "line": {
          "dash": "solid",
          "width": 4
         },
         "marker": {
          "color": "green"
         },
         "mode": "lines",
         "name": "Q",
         "type": "scatter",
         "x": [
          0,
          1,
          2,
          3,
          4,
          5,
          6,
          7,
          8,
          9,
          10,
          11,
          12,
          13,
          14,
          15,
          16,
          17,
          18,
          19,
          20,
          21,
          22,
          23,
          24,
          25,
          26,
          27,
          28,
          29,
          30,
          31,
          32,
          33,
          34,
          35,
          36,
          37,
          38,
          39,
          40,
          41,
          42,
          43,
          44,
          45,
          46,
          47,
          48,
          49,
          50,
          51,
          52,
          53,
          54,
          55,
          56,
          57,
          58,
          59,
          60,
          61,
          62,
          63,
          64,
          65,
          66,
          67,
          68,
          69,
          70,
          71,
          72,
          73,
          74,
          75,
          76,
          77,
          78,
          79,
          80,
          81,
          82,
          83,
          84,
          85,
          86,
          87,
          88,
          89,
          90,
          91,
          92,
          93,
          94,
          95,
          96,
          97,
          98,
          99,
          100,
          101,
          102,
          103,
          104,
          105,
          106,
          107,
          108,
          109,
          110,
          111,
          112,
          113,
          114,
          115,
          116,
          117,
          118,
          119,
          120,
          121,
          122,
          123,
          124,
          125,
          126,
          127,
          128,
          129,
          130,
          131,
          132,
          133,
          134,
          135,
          136,
          137,
          138,
          139,
          140,
          141,
          142,
          143,
          144,
          145,
          146,
          147,
          148,
          149,
          150,
          151,
          152,
          153,
          154,
          155,
          156,
          157,
          158,
          159,
          160,
          161,
          162,
          163,
          164,
          165,
          166,
          167,
          168,
          169,
          170,
          171,
          172,
          173,
          174,
          175,
          176,
          177,
          178,
          179,
          180,
          181,
          182,
          183,
          184,
          185,
          186,
          187,
          188,
          189,
          190,
          191,
          192,
          193,
          194,
          195,
          196,
          197,
          198,
          199,
          200,
          201,
          202,
          203,
          204,
          205,
          206,
          207,
          208,
          209,
          210,
          211,
          212,
          213,
          214,
          215,
          216,
          217,
          218,
          219,
          220,
          221,
          222,
          223,
          224,
          225,
          226,
          227,
          228,
          229,
          230,
          231,
          232,
          233,
          234,
          235,
          236,
          237,
          238,
          239,
          240,
          241,
          242,
          243,
          244,
          245,
          246,
          247,
          248,
          249,
          250,
          251,
          252,
          253,
          254,
          255,
          256,
          257,
          258,
          259,
          260,
          261,
          262,
          263,
          264,
          265,
          266,
          267,
          268,
          269,
          270,
          271,
          272,
          273,
          274,
          275,
          276,
          277,
          278,
          279,
          280,
          281,
          282,
          283,
          284,
          285,
          286,
          287,
          288,
          289,
          290,
          291,
          292,
          293,
          294,
          295,
          296,
          297,
          298,
          299,
          300,
          301,
          302,
          303,
          304,
          305,
          306,
          307,
          308,
          309,
          310,
          311,
          312,
          313,
          314,
          315,
          316,
          317,
          318,
          319,
          320,
          321,
          322,
          323,
          324,
          325,
          326,
          327,
          328,
          329,
          330,
          331,
          332,
          333,
          334,
          335,
          336,
          337,
          338,
          339,
          340,
          341,
          342,
          343,
          344,
          345,
          346,
          347,
          348,
          349,
          350,
          351,
          352,
          353,
          354,
          355,
          356,
          357,
          358,
          359,
          360,
          361,
          362,
          363,
          364,
          365,
          366,
          367,
          368,
          369,
          370,
          371,
          372,
          373,
          374,
          375,
          376,
          377,
          378,
          379,
          380,
          381,
          382,
          383,
          384,
          385,
          386,
          387,
          388,
          389,
          390,
          391,
          392,
          393,
          394,
          395,
          396,
          397,
          398,
          399,
          400,
          401,
          402,
          403,
          404,
          405,
          406,
          407,
          408,
          409,
          410,
          411,
          412,
          413,
          414,
          415,
          416,
          417,
          418,
          419,
          420,
          421,
          422,
          423,
          424,
          425,
          426,
          427,
          428,
          429,
          430,
          431,
          432,
          433,
          434,
          435,
          436,
          437,
          438,
          439,
          440,
          441,
          442,
          443,
          444,
          445,
          446,
          447,
          448,
          449,
          450,
          451,
          452,
          453,
          454,
          455,
          456,
          457,
          458,
          459,
          460,
          461,
          462,
          463,
          464,
          465,
          466,
          467,
          468,
          469,
          470,
          471,
          472,
          473,
          474,
          475,
          476,
          477,
          478,
          479,
          480,
          481,
          482,
          483,
          484,
          485,
          486,
          487,
          488,
          489,
          490,
          491,
          492,
          493,
          494,
          495,
          496,
          497,
          498,
          499,
          500,
          501,
          502,
          503,
          504,
          505,
          506,
          507,
          508,
          509,
          510,
          511,
          512,
          513,
          514,
          515,
          516,
          517,
          518,
          519,
          520,
          521,
          522,
          523,
          524,
          525,
          526,
          527,
          528,
          529,
          530,
          531,
          532,
          533,
          534,
          535,
          536,
          537,
          538,
          539,
          540,
          541,
          542,
          543,
          544,
          545,
          546,
          547,
          548,
          549,
          550,
          551,
          552,
          553,
          554,
          555,
          556,
          557,
          558,
          559,
          560,
          561,
          562,
          563,
          564,
          565,
          566,
          567,
          568,
          569,
          570,
          571,
          572,
          573,
          574,
          575,
          576,
          577,
          578,
          579,
          580,
          581,
          582,
          583,
          584,
          585,
          586,
          587,
          588,
          589,
          590,
          591,
          592,
          593,
          594,
          595,
          596,
          597,
          598,
          599,
          600,
          601,
          602,
          603,
          604,
          605,
          606,
          607,
          608,
          609,
          610,
          611,
          612,
          613,
          614,
          615,
          616,
          617,
          618,
          619,
          620,
          621,
          622,
          623,
          624,
          625,
          626,
          627,
          628,
          629,
          630,
          631,
          632,
          633,
          634,
          635,
          636,
          637,
          638,
          639,
          640,
          641,
          642,
          643,
          644,
          645,
          646,
          647,
          648,
          649,
          650,
          651,
          652,
          653,
          654,
          655,
          656,
          657,
          658,
          659,
          660,
          661,
          662,
          663,
          664,
          665,
          666,
          667,
          668,
          669,
          670,
          671,
          672,
          673,
          674,
          675,
          676,
          677,
          678,
          679,
          680,
          681,
          682,
          683,
          684,
          685,
          686,
          687,
          688,
          689,
          690,
          691,
          692,
          693,
          694,
          695,
          696,
          697,
          698,
          699,
          700,
          701,
          702,
          703,
          704,
          705,
          706,
          707,
          708,
          709,
          710,
          711,
          712,
          713,
          714,
          715,
          716,
          717,
          718,
          719,
          720,
          721,
          722,
          723,
          724,
          725,
          726,
          727,
          728,
          729,
          730,
          731,
          732,
          733,
          734,
          735,
          736,
          737,
          738,
          739,
          740,
          741,
          742,
          743,
          744,
          745,
          746,
          747,
          748,
          749,
          750,
          751,
          752,
          753,
          754,
          755,
          756,
          757,
          758,
          759,
          760,
          761,
          762,
          763,
          764,
          765,
          766,
          767,
          768,
          769,
          770,
          771,
          772,
          773,
          774,
          775,
          776,
          777,
          778,
          779,
          780,
          781,
          782,
          783,
          784,
          785,
          786,
          787,
          788,
          789,
          790,
          791,
          792,
          793,
          794,
          795,
          796,
          797,
          798,
          799,
          800,
          801,
          802,
          803,
          804,
          805,
          806,
          807,
          808,
          809,
          810,
          811,
          812,
          813,
          814,
          815,
          816,
          817,
          818,
          819,
          820,
          821,
          822,
          823,
          824,
          825,
          826,
          827,
          828,
          829,
          830,
          831,
          832,
          833,
          834,
          835,
          836,
          837,
          838,
          839,
          840,
          841,
          842,
          843,
          844,
          845,
          846,
          847,
          848,
          849,
          850,
          851,
          852,
          853,
          854,
          855,
          856,
          857,
          858,
          859,
          860,
          861,
          862,
          863,
          864,
          865,
          866,
          867,
          868,
          869,
          870,
          871,
          872,
          873,
          874,
          875,
          876,
          877,
          878,
          879,
          880,
          881,
          882,
          883,
          884,
          885,
          886,
          887,
          888,
          889,
          890,
          891,
          892,
          893,
          894,
          895,
          896,
          897,
          898,
          899,
          900,
          901,
          902,
          903,
          904,
          905,
          906,
          907,
          908,
          909,
          910,
          911,
          912,
          913,
          914,
          915,
          916,
          917,
          918,
          919,
          920,
          921,
          922,
          923,
          924,
          925,
          926,
          927,
          928,
          929,
          930,
          931,
          932,
          933,
          934,
          935,
          936,
          937,
          938,
          939,
          940,
          941,
          942,
          943,
          944,
          945,
          946,
          947,
          948,
          949,
          950,
          951,
          952,
          953,
          954,
          955,
          956,
          957,
          958,
          959,
          960,
          961,
          962,
          963,
          964,
          965,
          966,
          967,
          968,
          969,
          970,
          971,
          972,
          973,
          974,
          975,
          976,
          977,
          978,
          979,
          980,
          981,
          982,
          983,
          984,
          985,
          986,
          987,
          988,
          989,
          990,
          991,
          992,
          993,
          994,
          995,
          996,
          997,
          998,
          999
         ],
         "y": [
          22085,
          22085,
          22085,
          22085,
          22085,
          22085,
          22085,
          22085,
          22085,
          22085,
          22085,
          22085,
          22085,
          22085,
          22085,
          22085,
          22085,
          22085,
          22085,
          22085,
          22085,
          22085,
          22085,
          22085,
          22085,
          22085,
          22085,
          22085,
          22085,
          22085,
          22085,
          22085,
          22085,
          22085,
          22085,
          22085,
          22085,
          22085,
          22085,
          22085,
          22085,
          22085,
          22085,
          22085,
          22085,
          22085,
          22085,
          22085,
          22085,
          22085,
          22085,
          22085,
          22085,
          22085,
          22085,
          22085,
          22085,
          22085,
          22085,
          22085,
          22085,
          22085,
          22085,
          22085,
          22085,
          22085,
          22085,
          22085,
          22085,
          22085,
          22085,
          22085,
          22085,
          22085,
          22085,
          22085,
          22085,
          22085,
          22085,
          22085,
          22085,
          22085,
          22085,
          22085,
          22085,
          22085,
          22085,
          22085,
          22085,
          22085,
          22085,
          22085,
          22085,
          22085,
          22085,
          22085,
          22085,
          22085,
          22085,
          22085,
          22085,
          22085,
          22085,
          22085,
          22085,
          22085,
          22085,
          22085,
          22085,
          22085,
          22085,
          22085,
          22085,
          22085,
          22085,
          22085,
          22085,
          22085,
          22085,
          22085,
          22085,
          22085,
          22085,
          22085,
          22085,
          22085,
          22085,
          22085,
          22085,
          22085,
          22085,
          22085,
          22085,
          22085,
          22085,
          22085,
          22085,
          22085,
          22085,
          22085,
          22085,
          22085,
          22085,
          22085,
          22085,
          22085,
          22085,
          22085,
          22085,
          22085,
          22085,
          22085,
          22085,
          22085,
          22085,
          22085,
          22085,
          22085,
          22085,
          22085,
          22085,
          22085,
          22085,
          22085,
          22085,
          22085,
          22085,
          22085,
          22085,
          22085,
          22085,
          22085,
          22085,
          22085,
          22085,
          22085,
          22085,
          22085,
          22085,
          22085,
          22085,
          22085,
          22085,
          22085,
          22085,
          22085,
          22085,
          22085,
          22085,
          22085,
          22085,
          22085,
          22085,
          22085,
          22085,
          22085,
          22085,
          22085,
          22085,
          22085,
          22085,
          22085,
          22085,
          22085,
          22085,
          22085,
          22085,
          22085,
          22085,
          22085,
          22085,
          22085,
          22085,
          22085,
          22085,
          22085,
          22085,
          22085,
          22085,
          22085,
          22085,
          22085,
          22085,
          22085,
          22085,
          22085,
          22085,
          22085,
          22085,
          22085,
          22085,
          22085,
          22085,
          22085,
          22085,
          22085,
          22085,
          22085,
          22085,
          22085,
          22085,
          22085,
          22085,
          22085,
          22085,
          22085,
          22085,
          22085,
          22085,
          22085,
          40863,
          50480,
          53523,
          54164,
          54267,
          54293,
          54306,
          54317,
          54324,
          54328,
          54330,
          54332,
          54334,
          54335,
          54336,
          54337,
          54337,
          54337,
          54337,
          54337,
          54337,
          54337,
          54337,
          54337,
          54337,
          54337,
          54337,
          54337,
          54337,
          54337,
          54337,
          54337,
          54337,
          54337,
          54337,
          54337,
          54337,
          54337,
          54337,
          54337,
          54337,
          54337,
          54337,
          54337,
          54337,
          54337,
          54337,
          54337,
          54337,
          54337,
          54337,
          54337,
          54337,
          54337,
          54337,
          54337,
          54337,
          54337,
          54337,
          54337,
          54337,
          54337,
          54337,
          54337,
          54337,
          54337,
          54337,
          54337,
          54337,
          54337,
          54337,
          54337,
          54337,
          54337,
          54337,
          54337,
          54337,
          54337,
          54337,
          54337,
          54337,
          54337,
          54337,
          54337,
          54337,
          54337,
          54337,
          54337,
          54337,
          54337,
          54337,
          54337,
          54337,
          54337,
          54337,
          54337,
          54337,
          54337,
          54337,
          54337,
          54337,
          54337,
          54337,
          54337,
          54337,
          54337,
          54337,
          54337,
          54337,
          54337,
          54337,
          54337,
          54337,
          54337,
          54337,
          54337,
          54337,
          54337,
          54337,
          54337,
          54337,
          54337,
          54337,
          54337,
          54337,
          54337,
          54337,
          54337,
          54337,
          54337,
          54337,
          54337,
          54337,
          54337,
          54337,
          54337,
          54337,
          54337,
          54337,
          54337,
          54337,
          54337,
          54337,
          54337,
          54337,
          54337,
          54337,
          54337,
          54337,
          54337,
          54337,
          54337,
          54337,
          54337,
          54337,
          54337,
          54337,
          54337,
          54337,
          54337,
          54337,
          54337,
          54337,
          54337,
          54337,
          54337,
          54337,
          54337,
          54337,
          54337,
          54337,
          54337,
          54337,
          54337,
          54337,
          54337,
          54337,
          54337,
          54337,
          54337,
          54337,
          54337,
          54337,
          54337,
          54337,
          54337,
          54337,
          54337,
          54337,
          54337,
          54337,
          54337,
          54337,
          54337,
          54337,
          54337,
          54337,
          54337,
          54337,
          54337,
          54337,
          54337,
          54337,
          54337,
          54337,
          54337,
          54337,
          54337,
          54337,
          54337,
          54337,
          54337,
          54337,
          54337,
          54337,
          54337,
          54337,
          54337,
          54337,
          54337,
          54337,
          54337,
          54337,
          54337,
          54337,
          54337,
          54337,
          54337,
          54337,
          54337,
          54337,
          54337,
          54337,
          54337,
          54337,
          54337,
          54337,
          54337,
          54337,
          54337,
          54337,
          54337,
          54337,
          54337,
          54337,
          54337,
          54337,
          54337,
          54337,
          54337,
          54337,
          54337,
          54337,
          54337,
          54337,
          54337,
          54337,
          54337,
          54337,
          54337,
          54337,
          54337,
          54337,
          54337,
          54337,
          54337,
          54337,
          54337,
          54337,
          54337,
          54337,
          54337,
          54337,
          54337,
          54337,
          54337,
          54337,
          54337,
          54337,
          54337,
          54337,
          54337,
          54337,
          54337,
          54337,
          54337,
          54337,
          54337,
          54337,
          54337,
          54337,
          54337,
          54337,
          54337,
          54337,
          54337,
          54337,
          54337,
          54337,
          54337,
          54337,
          54337,
          54337,
          54337,
          54337,
          54337,
          54337,
          54337,
          54337,
          54337,
          54337,
          54337,
          54337,
          54337,
          54337,
          54337,
          54337,
          54337,
          54337,
          54337,
          54337,
          54337,
          54337,
          54337,
          54337,
          54337,
          54337,
          54337,
          54337,
          54337,
          54337,
          54337,
          54337,
          54337,
          54337,
          54337,
          54337,
          54337,
          54337,
          54337,
          54337,
          54337,
          54337,
          54337,
          54337,
          54337,
          54337,
          54337,
          54337,
          54337,
          54337,
          54337,
          54337,
          54337,
          54337,
          54337,
          54337,
          54337,
          54337,
          54337,
          54337,
          54337,
          54337,
          54337,
          54337,
          54337,
          54337,
          54337,
          54337,
          54337,
          54337,
          54337,
          54337,
          54337,
          54337,
          54337,
          54337,
          54337,
          54337,
          54337,
          54337,
          54337,
          54337,
          54337,
          54337,
          54337,
          54337,
          54337,
          54337,
          54337,
          54337,
          54337,
          54337,
          54337,
          54337,
          54337,
          54337,
          54337,
          54337,
          54337,
          54337,
          54337,
          54337,
          54337,
          54337,
          54337,
          54337,
          54337,
          54337,
          54337,
          54337,
          54337,
          54337,
          54337,
          54337,
          54337,
          54337,
          54337,
          54337,
          54337,
          54337,
          54337,
          54337,
          54337,
          54337,
          54337,
          54337,
          54337,
          54337,
          54337,
          54337,
          54337,
          54337,
          54337,
          54337,
          54337,
          54337,
          54337,
          54337,
          54337,
          54337,
          54337,
          54337,
          54337,
          54337,
          54337,
          54337,
          54337,
          54337,
          54337,
          54337,
          54337,
          54337,
          54337,
          54337,
          54337,
          54337,
          54337,
          54337,
          54337,
          54337,
          54337,
          54337,
          54337,
          54337,
          54337,
          54337,
          54337,
          54337,
          54337,
          54337,
          54337,
          54337,
          54337,
          54337,
          54337,
          54337,
          54337,
          54337,
          54337,
          54337,
          54337,
          54337,
          54337,
          54337,
          54337,
          54337,
          54337,
          54337,
          54337,
          54337,
          54337,
          54337,
          54337,
          54337,
          54337,
          54337,
          54337,
          54337,
          54337,
          54337,
          54337,
          54337,
          54337,
          54337,
          54337,
          54337,
          54337,
          54337,
          54337,
          54337,
          54337,
          54337,
          54337,
          54337,
          54337,
          54337,
          54337,
          54337,
          54337,
          54337,
          54337,
          54337,
          54337,
          54337,
          54337,
          54337,
          54337,
          54337,
          54337,
          54337,
          54337,
          54337,
          54337,
          54337,
          54337,
          54337,
          54337,
          54337,
          54337,
          54337,
          54337,
          54337,
          54337,
          54337,
          54337,
          54337,
          54337,
          54337,
          54337,
          54337,
          54337,
          54337,
          54337,
          54337,
          54337,
          54337,
          54337,
          54337,
          54337,
          54337,
          54337,
          54337,
          54337,
          54337,
          54337,
          54337,
          54337,
          54337,
          54337,
          54337,
          54337,
          54337,
          54337,
          54337,
          54337,
          54337,
          54337,
          54337,
          54337,
          54337,
          54337,
          54337,
          54337,
          54337,
          54337,
          54337,
          54337,
          54337,
          54337,
          54337,
          54337,
          54337,
          54337,
          54337,
          54337,
          54337,
          54337,
          54337,
          54337,
          54337,
          54337,
          54337,
          54337,
          54337,
          54337,
          54337,
          54337,
          54337,
          54337,
          54337,
          54337,
          54337,
          54337,
          54337,
          54337,
          54337,
          54337,
          54337,
          54337,
          54337,
          54337,
          54337,
          54337,
          54337,
          54337,
          54337,
          54337,
          54337,
          54337,
          54337,
          54337,
          54337,
          54337,
          54337,
          54337,
          54337,
          54337,
          54337,
          54337,
          54337,
          54337,
          54337,
          54337,
          54337,
          54337,
          54337,
          54337,
          54337,
          54337,
          54337,
          54337,
          54337,
          54337,
          54337,
          54337,
          54337,
          54337,
          54337,
          54337,
          54337,
          54337,
          54337,
          54337,
          54337,
          54337,
          54337,
          54337,
          54337,
          54337,
          54337,
          54337,
          54337,
          54337,
          54337,
          54337,
          54337,
          54337,
          54337,
          54337,
          54337,
          54337,
          54337,
          54337,
          54337,
          54337,
          54337,
          54337,
          54337,
          54337,
          54337,
          54337,
          54337,
          54337,
          54337,
          54337,
          54337,
          54337,
          54337,
          54337,
          54337,
          54337,
          54337,
          54337,
          54337,
          54337,
          54337,
          54337,
          54337,
          54337,
          54337,
          54337,
          54337,
          54337,
          54337,
          54337,
          54337,
          54337,
          54337,
          54337,
          54337,
          54337,
          54337,
          54337,
          54337,
          54337,
          54337,
          54337,
          54337,
          54337,
          54337,
          54337,
          54337,
          54337,
          54337,
          54337,
          54337,
          54337,
          54337,
          54337,
          54337,
          54337,
          54337,
          54337,
          54337,
          54337,
          54337,
          54337,
          54337,
          54337
         ]
        }
       ],
       "layout": {
        "font": {
         "size": 42
        },
        "legend": {
         "font": {
          "color": "black",
          "size": 30
         },
         "orientation": "h",
         "x": 0.25,
         "y": 1.2
        },
        "plot_bgcolor": "rgba(0,0,0,0)",
        "showlegend": true,
        "template": {
         "data": {
          "bar": [
           {
            "error_x": {
             "color": "#2a3f5f"
            },
            "error_y": {
             "color": "#2a3f5f"
            },
            "marker": {
             "line": {
              "color": "#E5ECF6",
              "width": 0.5
             }
            },
            "type": "bar"
           }
          ],
          "barpolar": [
           {
            "marker": {
             "line": {
              "color": "#E5ECF6",
              "width": 0.5
             }
            },
            "type": "barpolar"
           }
          ],
          "carpet": [
           {
            "aaxis": {
             "endlinecolor": "#2a3f5f",
             "gridcolor": "white",
             "linecolor": "white",
             "minorgridcolor": "white",
             "startlinecolor": "#2a3f5f"
            },
            "baxis": {
             "endlinecolor": "#2a3f5f",
             "gridcolor": "white",
             "linecolor": "white",
             "minorgridcolor": "white",
             "startlinecolor": "#2a3f5f"
            },
            "type": "carpet"
           }
          ],
          "choropleth": [
           {
            "colorbar": {
             "outlinewidth": 0,
             "ticks": ""
            },
            "type": "choropleth"
           }
          ],
          "contour": [
           {
            "colorbar": {
             "outlinewidth": 0,
             "ticks": ""
            },
            "colorscale": [
             [
              0,
              "#0d0887"
             ],
             [
              0.1111111111111111,
              "#46039f"
             ],
             [
              0.2222222222222222,
              "#7201a8"
             ],
             [
              0.3333333333333333,
              "#9c179e"
             ],
             [
              0.4444444444444444,
              "#bd3786"
             ],
             [
              0.5555555555555556,
              "#d8576b"
             ],
             [
              0.6666666666666666,
              "#ed7953"
             ],
             [
              0.7777777777777778,
              "#fb9f3a"
             ],
             [
              0.8888888888888888,
              "#fdca26"
             ],
             [
              1,
              "#f0f921"
             ]
            ],
            "type": "contour"
           }
          ],
          "contourcarpet": [
           {
            "colorbar": {
             "outlinewidth": 0,
             "ticks": ""
            },
            "type": "contourcarpet"
           }
          ],
          "heatmap": [
           {
            "colorbar": {
             "outlinewidth": 0,
             "ticks": ""
            },
            "colorscale": [
             [
              0,
              "#0d0887"
             ],
             [
              0.1111111111111111,
              "#46039f"
             ],
             [
              0.2222222222222222,
              "#7201a8"
             ],
             [
              0.3333333333333333,
              "#9c179e"
             ],
             [
              0.4444444444444444,
              "#bd3786"
             ],
             [
              0.5555555555555556,
              "#d8576b"
             ],
             [
              0.6666666666666666,
              "#ed7953"
             ],
             [
              0.7777777777777778,
              "#fb9f3a"
             ],
             [
              0.8888888888888888,
              "#fdca26"
             ],
             [
              1,
              "#f0f921"
             ]
            ],
            "type": "heatmap"
           }
          ],
          "heatmapgl": [
           {
            "colorbar": {
             "outlinewidth": 0,
             "ticks": ""
            },
            "colorscale": [
             [
              0,
              "#0d0887"
             ],
             [
              0.1111111111111111,
              "#46039f"
             ],
             [
              0.2222222222222222,
              "#7201a8"
             ],
             [
              0.3333333333333333,
              "#9c179e"
             ],
             [
              0.4444444444444444,
              "#bd3786"
             ],
             [
              0.5555555555555556,
              "#d8576b"
             ],
             [
              0.6666666666666666,
              "#ed7953"
             ],
             [
              0.7777777777777778,
              "#fb9f3a"
             ],
             [
              0.8888888888888888,
              "#fdca26"
             ],
             [
              1,
              "#f0f921"
             ]
            ],
            "type": "heatmapgl"
           }
          ],
          "histogram": [
           {
            "marker": {
             "colorbar": {
              "outlinewidth": 0,
              "ticks": ""
             }
            },
            "type": "histogram"
           }
          ],
          "histogram2d": [
           {
            "colorbar": {
             "outlinewidth": 0,
             "ticks": ""
            },
            "colorscale": [
             [
              0,
              "#0d0887"
             ],
             [
              0.1111111111111111,
              "#46039f"
             ],
             [
              0.2222222222222222,
              "#7201a8"
             ],
             [
              0.3333333333333333,
              "#9c179e"
             ],
             [
              0.4444444444444444,
              "#bd3786"
             ],
             [
              0.5555555555555556,
              "#d8576b"
             ],
             [
              0.6666666666666666,
              "#ed7953"
             ],
             [
              0.7777777777777778,
              "#fb9f3a"
             ],
             [
              0.8888888888888888,
              "#fdca26"
             ],
             [
              1,
              "#f0f921"
             ]
            ],
            "type": "histogram2d"
           }
          ],
          "histogram2dcontour": [
           {
            "colorbar": {
             "outlinewidth": 0,
             "ticks": ""
            },
            "colorscale": [
             [
              0,
              "#0d0887"
             ],
             [
              0.1111111111111111,
              "#46039f"
             ],
             [
              0.2222222222222222,
              "#7201a8"
             ],
             [
              0.3333333333333333,
              "#9c179e"
             ],
             [
              0.4444444444444444,
              "#bd3786"
             ],
             [
              0.5555555555555556,
              "#d8576b"
             ],
             [
              0.6666666666666666,
              "#ed7953"
             ],
             [
              0.7777777777777778,
              "#fb9f3a"
             ],
             [
              0.8888888888888888,
              "#fdca26"
             ],
             [
              1,
              "#f0f921"
             ]
            ],
            "type": "histogram2dcontour"
           }
          ],
          "mesh3d": [
           {
            "colorbar": {
             "outlinewidth": 0,
             "ticks": ""
            },
            "type": "mesh3d"
           }
          ],
          "parcoords": [
           {
            "line": {
             "colorbar": {
              "outlinewidth": 0,
              "ticks": ""
             }
            },
            "type": "parcoords"
           }
          ],
          "scatter": [
           {
            "marker": {
             "colorbar": {
              "outlinewidth": 0,
              "ticks": ""
             }
            },
            "type": "scatter"
           }
          ],
          "scatter3d": [
           {
            "line": {
             "colorbar": {
              "outlinewidth": 0,
              "ticks": ""
             }
            },
            "marker": {
             "colorbar": {
              "outlinewidth": 0,
              "ticks": ""
             }
            },
            "type": "scatter3d"
           }
          ],
          "scattercarpet": [
           {
            "marker": {
             "colorbar": {
              "outlinewidth": 0,
              "ticks": ""
             }
            },
            "type": "scattercarpet"
           }
          ],
          "scattergeo": [
           {
            "marker": {
             "colorbar": {
              "outlinewidth": 0,
              "ticks": ""
             }
            },
            "type": "scattergeo"
           }
          ],
          "scattergl": [
           {
            "marker": {
             "colorbar": {
              "outlinewidth": 0,
              "ticks": ""
             }
            },
            "type": "scattergl"
           }
          ],
          "scattermapbox": [
           {
            "marker": {
             "colorbar": {
              "outlinewidth": 0,
              "ticks": ""
             }
            },
            "type": "scattermapbox"
           }
          ],
          "scatterpolar": [
           {
            "marker": {
             "colorbar": {
              "outlinewidth": 0,
              "ticks": ""
             }
            },
            "type": "scatterpolar"
           }
          ],
          "scatterpolargl": [
           {
            "marker": {
             "colorbar": {
              "outlinewidth": 0,
              "ticks": ""
             }
            },
            "type": "scatterpolargl"
           }
          ],
          "scatterternary": [
           {
            "marker": {
             "colorbar": {
              "outlinewidth": 0,
              "ticks": ""
             }
            },
            "type": "scatterternary"
           }
          ],
          "surface": [
           {
            "colorbar": {
             "outlinewidth": 0,
             "ticks": ""
            },
            "colorscale": [
             [
              0,
              "#0d0887"
             ],
             [
              0.1111111111111111,
              "#46039f"
             ],
             [
              0.2222222222222222,
              "#7201a8"
             ],
             [
              0.3333333333333333,
              "#9c179e"
             ],
             [
              0.4444444444444444,
              "#bd3786"
             ],
             [
              0.5555555555555556,
              "#d8576b"
             ],
             [
              0.6666666666666666,
              "#ed7953"
             ],
             [
              0.7777777777777778,
              "#fb9f3a"
             ],
             [
              0.8888888888888888,
              "#fdca26"
             ],
             [
              1,
              "#f0f921"
             ]
            ],
            "type": "surface"
           }
          ],
          "table": [
           {
            "cells": {
             "fill": {
              "color": "#EBF0F8"
             },
             "line": {
              "color": "white"
             }
            },
            "header": {
             "fill": {
              "color": "#C8D4E3"
             },
             "line": {
              "color": "white"
             }
            },
            "type": "table"
           }
          ]
         },
         "layout": {
          "annotationdefaults": {
           "arrowcolor": "#2a3f5f",
           "arrowhead": 0,
           "arrowwidth": 1
          },
          "colorscale": {
           "diverging": [
            [
             0,
             "#8e0152"
            ],
            [
             0.1,
             "#c51b7d"
            ],
            [
             0.2,
             "#de77ae"
            ],
            [
             0.3,
             "#f1b6da"
            ],
            [
             0.4,
             "#fde0ef"
            ],
            [
             0.5,
             "#f7f7f7"
            ],
            [
             0.6,
             "#e6f5d0"
            ],
            [
             0.7,
             "#b8e186"
            ],
            [
             0.8,
             "#7fbc41"
            ],
            [
             0.9,
             "#4d9221"
            ],
            [
             1,
             "#276419"
            ]
           ],
           "sequential": [
            [
             0,
             "#0d0887"
            ],
            [
             0.1111111111111111,
             "#46039f"
            ],
            [
             0.2222222222222222,
             "#7201a8"
            ],
            [
             0.3333333333333333,
             "#9c179e"
            ],
            [
             0.4444444444444444,
             "#bd3786"
            ],
            [
             0.5555555555555556,
             "#d8576b"
            ],
            [
             0.6666666666666666,
             "#ed7953"
            ],
            [
             0.7777777777777778,
             "#fb9f3a"
            ],
            [
             0.8888888888888888,
             "#fdca26"
            ],
            [
             1,
             "#f0f921"
            ]
           ],
           "sequentialminus": [
            [
             0,
             "#0d0887"
            ],
            [
             0.1111111111111111,
             "#46039f"
            ],
            [
             0.2222222222222222,
             "#7201a8"
            ],
            [
             0.3333333333333333,
             "#9c179e"
            ],
            [
             0.4444444444444444,
             "#bd3786"
            ],
            [
             0.5555555555555556,
             "#d8576b"
            ],
            [
             0.6666666666666666,
             "#ed7953"
            ],
            [
             0.7777777777777778,
             "#fb9f3a"
            ],
            [
             0.8888888888888888,
             "#fdca26"
            ],
            [
             1,
             "#f0f921"
            ]
           ]
          },
          "colorway": [
           "#636efa",
           "#EF553B",
           "#00cc96",
           "#ab63fa",
           "#FFA15A",
           "#19d3f3",
           "#FF6692",
           "#B6E880",
           "#FF97FF",
           "#FECB52"
          ],
          "font": {
           "color": "#2a3f5f"
          },
          "geo": {
           "bgcolor": "white",
           "lakecolor": "white",
           "landcolor": "#E5ECF6",
           "showlakes": true,
           "showland": true,
           "subunitcolor": "white"
          },
          "hoverlabel": {
           "align": "left"
          },
          "hovermode": "closest",
          "mapbox": {
           "style": "light"
          },
          "paper_bgcolor": "white",
          "plot_bgcolor": "#E5ECF6",
          "polar": {
           "angularaxis": {
            "gridcolor": "white",
            "linecolor": "white",
            "ticks": ""
           },
           "bgcolor": "#E5ECF6",
           "radialaxis": {
            "gridcolor": "white",
            "linecolor": "white",
            "ticks": ""
           }
          },
          "scene": {
           "xaxis": {
            "backgroundcolor": "#E5ECF6",
            "gridcolor": "white",
            "gridwidth": 2,
            "linecolor": "white",
            "showbackground": true,
            "ticks": "",
            "zerolinecolor": "white"
           },
           "yaxis": {
            "backgroundcolor": "#E5ECF6",
            "gridcolor": "white",
            "gridwidth": 2,
            "linecolor": "white",
            "showbackground": true,
            "ticks": "",
            "zerolinecolor": "white"
           },
           "zaxis": {
            "backgroundcolor": "#E5ECF6",
            "gridcolor": "white",
            "gridwidth": 2,
            "linecolor": "white",
            "showbackground": true,
            "ticks": "",
            "zerolinecolor": "white"
           }
          },
          "shapedefaults": {
           "line": {
            "color": "#2a3f5f"
           }
          },
          "ternary": {
           "aaxis": {
            "gridcolor": "white",
            "linecolor": "white",
            "ticks": ""
           },
           "baxis": {
            "gridcolor": "white",
            "linecolor": "white",
            "ticks": ""
           },
           "bgcolor": "#E5ECF6",
           "caxis": {
            "gridcolor": "white",
            "linecolor": "white",
            "ticks": ""
           }
          },
          "title": {
           "x": 0.05
          },
          "xaxis": {
           "automargin": true,
           "gridcolor": "white",
           "linecolor": "white",
           "ticks": "",
           "zerolinecolor": "white",
           "zerolinewidth": 2
          },
          "yaxis": {
           "automargin": true,
           "gridcolor": "white",
           "linecolor": "white",
           "ticks": "",
           "zerolinecolor": "white",
           "zerolinewidth": 2
          }
         }
        },
        "xaxis": {
         "linecolor": "black",
         "linewidth": 2,
         "showline": true,
         "ticklen": 5,
         "ticks": "inside",
         "zeroline": true
        },
        "yaxis": {
         "gridcolor": "lightgrey",
         "gridwidth": 1,
         "linecolor": "black",
         "linewidth": 2,
         "showgrid": true,
         "showline": true,
         "ticklen": 5,
         "ticks": "inside",
         "title": {
          "text": "# Nodes"
         },
         "zeroline": true
        }
       }
      },
      "text/html": [
       "<div>\n",
       "        \n",
       "        \n",
       "            <div id=\"1459f486-ee92-45ee-baee-653a6aa89973\" class=\"plotly-graph-div\" style=\"height:525px; width:100%;\"></div>\n",
       "            <script type=\"text/javascript\">\n",
       "                require([\"plotly\"], function(Plotly) {\n",
       "                    window.PLOTLYENV=window.PLOTLYENV || {};\n",
       "                    \n",
       "                if (document.getElementById(\"1459f486-ee92-45ee-baee-653a6aa89973\")) {\n",
       "                    Plotly.newPlot(\n",
       "                        '1459f486-ee92-45ee-baee-653a6aa89973',\n",
       "                        [{\"line\": {\"dash\": \"dash\", \"width\": 4}, \"marker\": {\"color\": \"green\"}, \"mode\": \"lines\", \"name\": \"AKD\", \"type\": \"scatter\", \"x\": [0, 1, 2, 3, 4, 5, 6, 7, 8, 9, 10, 11, 12, 13, 14, 15, 16, 17, 18, 19, 20, 21, 22, 23, 24, 25, 26, 27, 28, 29, 30, 31, 32, 33, 34, 35, 36, 37, 38, 39, 40, 41, 42, 43, 44, 45, 46, 47, 48, 49, 50, 51, 52, 53, 54, 55, 56, 57, 58, 59, 60, 61, 62, 63, 64, 65, 66, 67, 68, 69, 70, 71, 72, 73, 74, 75, 76, 77, 78, 79, 80, 81, 82, 83, 84, 85, 86, 87, 88, 89, 90, 91, 92, 93, 94, 95, 96, 97, 98, 99, 100, 101, 102, 103, 104, 105, 106, 107, 108, 109, 110, 111, 112, 113, 114, 115, 116, 117, 118, 119, 120, 121, 122, 123, 124, 125, 126, 127, 128, 129, 130, 131, 132, 133, 134, 135, 136, 137, 138, 139, 140, 141, 142, 143, 144, 145, 146, 147, 148, 149, 150, 151, 152, 153, 154, 155, 156, 157, 158, 159, 160, 161, 162, 163, 164, 165, 166, 167, 168, 169, 170, 171, 172, 173, 174, 175, 176, 177, 178, 179, 180, 181, 182, 183, 184, 185, 186, 187, 188, 189, 190, 191, 192, 193, 194, 195, 196, 197, 198, 199, 200, 201, 202, 203, 204, 205, 206, 207, 208, 209, 210, 211, 212, 213, 214, 215, 216, 217, 218, 219, 220, 221, 222, 223, 224, 225, 226, 227, 228, 229, 230, 231, 232, 233, 234, 235, 236, 237, 238, 239, 240, 241, 242, 243, 244, 245, 246, 247, 248, 249, 250, 251, 252, 253, 254, 255, 256, 257, 258, 259, 260, 261, 262, 263, 264, 265, 266, 267, 268, 269, 270, 271, 272, 273, 274, 275, 276, 277, 278, 279, 280, 281, 282, 283, 284, 285, 286, 287, 288, 289, 290, 291, 292, 293, 294, 295, 296, 297, 298, 299, 300, 301, 302, 303, 304, 305, 306, 307, 308, 309, 310, 311, 312, 313, 314, 315, 316, 317, 318, 319, 320, 321, 322, 323, 324, 325, 326, 327, 328, 329, 330, 331, 332, 333, 334, 335, 336, 337, 338, 339, 340, 341, 342, 343, 344, 345, 346, 347, 348, 349, 350, 351, 352, 353, 354, 355, 356, 357, 358, 359, 360, 361, 362, 363, 364, 365, 366, 367, 368, 369, 370, 371, 372, 373, 374, 375, 376, 377, 378, 379, 380, 381, 382, 383, 384, 385, 386, 387, 388, 389, 390, 391, 392, 393, 394, 395, 396, 397, 398, 399, 400, 401, 402, 403, 404, 405, 406, 407, 408, 409, 410, 411, 412, 413, 414, 415, 416, 417, 418, 419, 420, 421, 422, 423, 424, 425, 426, 427, 428, 429, 430, 431, 432, 433, 434, 435, 436, 437, 438, 439, 440, 441, 442, 443, 444, 445, 446, 447, 448, 449, 450, 451, 452, 453, 454, 455, 456, 457, 458, 459, 460, 461, 462, 463, 464, 465, 466, 467, 468, 469, 470, 471, 472, 473, 474, 475, 476, 477, 478, 479, 480, 481, 482, 483, 484, 485, 486, 487, 488, 489, 490, 491, 492, 493, 494, 495, 496, 497, 498, 499, 500, 501, 502, 503, 504, 505, 506, 507, 508, 509, 510, 511, 512, 513, 514, 515, 516, 517, 518, 519, 520, 521, 522, 523, 524, 525, 526, 527, 528, 529, 530, 531, 532, 533, 534, 535, 536, 537, 538, 539, 540, 541, 542, 543, 544, 545, 546, 547, 548, 549, 550, 551, 552, 553, 554, 555, 556, 557, 558, 559, 560, 561, 562, 563, 564, 565, 566, 567, 568, 569, 570, 571, 572, 573, 574, 575, 576, 577, 578, 579, 580, 581, 582, 583, 584, 585, 586, 587, 588, 589, 590, 591, 592, 593, 594, 595, 596, 597, 598, 599, 600, 601, 602, 603, 604, 605, 606, 607, 608, 609, 610, 611, 612, 613, 614, 615, 616, 617, 618, 619, 620, 621, 622, 623, 624, 625, 626, 627, 628, 629, 630, 631, 632, 633, 634, 635, 636, 637, 638, 639, 640, 641, 642, 643, 644, 645, 646, 647, 648, 649, 650, 651, 652, 653, 654, 655, 656, 657, 658, 659, 660, 661, 662, 663, 664, 665, 666, 667, 668, 669, 670, 671, 672, 673, 674, 675, 676, 677, 678, 679, 680, 681, 682, 683, 684, 685, 686, 687, 688, 689, 690, 691, 692, 693, 694, 695, 696, 697, 698, 699, 700, 701, 702, 703, 704, 705, 706, 707, 708, 709, 710, 711, 712, 713, 714, 715, 716, 717, 718, 719, 720, 721, 722, 723, 724, 725, 726, 727, 728, 729, 730, 731, 732, 733, 734, 735, 736, 737, 738, 739, 740, 741, 742, 743, 744, 745, 746, 747, 748, 749, 750, 751, 752, 753, 754, 755, 756, 757, 758, 759, 760, 761, 762, 763, 764, 765, 766, 767, 768, 769, 770, 771, 772, 773, 774, 775, 776, 777, 778, 779, 780, 781, 782, 783, 784, 785, 786, 787, 788, 789, 790, 791, 792, 793, 794, 795, 796, 797, 798, 799, 800, 801, 802, 803, 804, 805, 806, 807, 808, 809, 810, 811, 812, 813, 814, 815, 816, 817, 818, 819, 820, 821, 822, 823, 824, 825, 826, 827, 828, 829, 830, 831, 832, 833, 834, 835, 836, 837, 838, 839, 840, 841, 842, 843, 844, 845, 846, 847, 848, 849, 850, 851, 852, 853, 854, 855, 856, 857, 858, 859, 860, 861, 862, 863, 864, 865, 866, 867, 868, 869, 870, 871, 872, 873, 874, 875, 876, 877, 878, 879, 880, 881, 882, 883, 884, 885, 886, 887, 888, 889, 890, 891, 892, 893, 894, 895, 896, 897, 898, 899, 900, 901, 902, 903, 904, 905, 906, 907, 908, 909, 910, 911, 912, 913, 914, 915, 916, 917, 918, 919, 920, 921, 922, 923, 924, 925, 926, 927, 928, 929, 930, 931, 932, 933, 934, 935, 936, 937, 938, 939, 940, 941, 942, 943, 944, 945, 946, 947, 948, 949, 950, 951, 952, 953, 954, 955, 956, 957, 958, 959, 960, 961, 962, 963, 964, 965, 966, 967, 968, 969, 970, 971, 972, 973, 974, 975, 976, 977, 978, 979, 980, 981, 982, 983, 984, 985, 986, 987, 988, 989, 990, 991, 992, 993, 994, 995, 996, 997, 998, 999], \"y\": [263.0, 299.0, 328.0, 357.0, 386.0, 415.0, 444.0, 473.0, 502.0, 531.0, 560.0, 589.0, 618.0, 647.0, 676.0, 705.0, 734.0, 763.0, 792.0, 821.0, 850.0, 879.0, 908.0, 937.0, 966.0, 995.0, 1024.0, 1053.0, 1082.0, 1111.0, 1140.0, 1169.0, 1198.0, 1227.0, 1256.0, 1285.0, 1314.0, 1343.0, 1372.0, 1401.0, 1430.0, 1459.0, 1488.0, 1517.0, 1546.0, 1575.0, 1604.0, 1633.0, 1662.0, 1691.0, 1720.0, 1749.0, 1778.0, 1807.0, 1836.0, 1865.0, 1894.0, 1923.0, 1952.0, 1981.0, 2010.0, 2039.0, 2068.0, 2097.0, 2126.0, 2155.0, 2184.0, 2213.0, 2242.0, 2271.0, 2300.0, 2329.0, 2358.0, 2387.0, 2416.0, 2445.0, 2474.0, 2503.0, 2532.0, 2561.0, 2590.0, 2619.0, 2648.0, 2677.0, 2706.0, 2735.0, 2764.0, 2793.0, 2822.0, 2851.0, 2880.0, 2909.0, 2938.0, 2967.0, 2996.0, 3025.0, 3054.0, 3083.0, 3112.0, 3141.0, 3170.0, 3199.0, 3228.0, 3257.0, 3286.0, 3315.0, 3344.0, 3373.0, 3402.0, 3431.0, 3460.0, 3489.0, 3518.0, 3547.0, 3576.0, 3605.0, 3634.0, 3663.0, 3692.0, 3721.0, 3750.0, 3779.0, 3808.0, 3837.0, 3866.0, 3895.0, 3924.0, 3953.0, 3982.0, 4011.0, 4040.0, 4069.0, 4098.0, 4127.0, 4156.0, 4185.0, 4214.0, 4243.0, 4272.0, 4301.0, 4330.0, 4359.0, 4388.0, 4417.0, 4446.0, 4475.0, 4504.0, 4533.0, 4562.0, 4591.0, 4620.0, 4649.0, 4678.0, 4707.0, 4736.0, 4765.0, 4794.0, 4823.0, 4852.0, 4881.0, 4910.0, 4939.0, 4968.0, 4997.0, 5026.0, 5055.0, 5084.0, 5113.0, 5142.0, 5171.0, 5200.0, 5229.0, 5258.0, 5287.0, 5316.0, 5345.0, 5374.0, 5403.0, 5432.0, 5461.0, 5490.0, 5519.0, 5548.0, 5577.0, 5606.0, 5635.0, 5664.0, 5693.0, 5722.0, 5751.0, 5780.0, 5809.0, 5838.0, 5867.0, 5884.0, 5898.0, 5912.0, 5926.0, 5940.0, 5954.0, 5968.0, 5982.0, 5996.0, 6010.0, 6024.0, 6038.0, 6052.0, 6066.0, 6080.0, 6094.0, 6108.0, 6122.0, 6136.0, 6150.0, 6164.0, 6178.0, 6180.0, 6180.0, 6180.0, 6180.0, 6180.0, 6180.0, 6180.0, 6180.0, 6180.0, 6180.0, 6180.0, 6180.0, 6180.0, 6180.0, 6180.0, 6180.0, 6180.0, 6180.0, 6180.0, 6180.0, 6180.0, 6180.0, 6180.0, 6180.0, 6180.0, 6180.0, 6180.0, 6180.0, 6180.0, 6180.0, 6180.0, 6180.0, 6180.0, 6180.0, 11577.0, 15618.0, 19624.0, 23629.0, 27634.0, 31639.0, 35644.0, 39587.0, 43385.0, 47107.0, 50797.0, 54487.0, 58177.0, 61867.0, 65555.0, 69227.0, 72780.0, 76214.0, 79519.0, 82740.0, 85918.0, 89083.0, 92248.0, 95413.0, 98578.0, 101743.0, 104898.0, 108023.0, 111090.0, 114033.0, 116939.0, 119788.0, 122595.0, 125331.0, 127999.0, 130658.0, 133305.0, 135945.0, 138585.0, 141225.0, 143865.0, 146505.0, 149145.0, 151749.0, 154327.0, 156837.0, 159302.0, 161750.0, 164184.0, 166614.0, 169044.0, 171470.0, 173885.0, 176285.0, 178661.0, 181020.0, 183363.0, 185698.0, 188028.0, 190353.0, 192678.0, 195003.0, 197328.0, 199653.0, 201978.0, 204303.0, 206628.0, 208953.0, 211276.0, 213591.0, 215891.0, 218169.0, 220428.0, 222678.0, 224920.0, 227161.0, 229402.0, 231643.0, 233884.0, 236125.0, 238366.0, 240607.0, 242848.0, 245089.0, 247330.0, 249571.0, 251812.0, 254053.0, 256294.0, 258535.0, 260776.0, 263017.0, 265256.0, 267492.0, 269725.0, 271952.0, 274178.0, 276402.0, 278623.0, 280843.0, 283063.0, 285283.0, 287503.0, 289723.0, 291943.0, 294163.0, 296383.0, 298603.0, 300823.0, 303043.0, 305263.0, 307483.0, 309703.0, 311923.0, 314143.0, 316363.0, 318583.0, 320801.0, 323013.0, 325223.0, 327430.0, 329636.0, 331842.0, 334048.0, 336254.0, 338460.0, 340666.0, 342872.0, 345078.0, 347284.0, 349490.0, 351696.0, 353902.0, 356108.0, 358314.0, 360518.0, 362721.0, 364921.0, 367114.0, 369303.0, 371489.0, 373674.0, 375859.0, 378044.0, 380229.0, 382414.0, 384599.0, 386784.0, 388969.0, 391154.0, 393333.0, 395501.0, 397647.0, 399771.0, 401885.0, 403994.0, 406102.0, 408210.0, 410318.0, 412424.0, 414524.0, 416616.0, 418690.0, 420723.0, 422720.0, 424704.0, 426680.0, 428642.0, 430589.0, 432522.0, 434433.0, 436315.0, 438152.0, 439941.0, 441711.0, 443474.0, 445217.0, 446918.0, 448549.0, 450113.0, 451628.0, 453126.0, 454598.0, 456012.0, 457328.0, 458560.0, 459751.0, 460902.0, 461942.0, 462869.0, 463735.0, 464487.0, 465123.0, 465660.0, 466090.0, 466400.0, 466616.0, 466738.0, 466790.0, 466799.0, 466799.0, 466799.0, 466799.0, 466799.0, 466799.0, 466799.0, 466799.0, 466799.0, 466799.0, 466799.0, 466799.0, 466799.0, 466799.0, 466799.0, 466799.0, 466799.0, 466799.0, 466799.0, 466799.0, 466799.0, 466799.0, 466799.0, 466799.0, 466799.0, 466799.0, 466799.0, 466799.0, 466799.0, 466799.0, 466799.0, 466799.0, 466799.0, 466799.0, 466799.0, 466799.0, 466799.0, 466799.0, 466799.0, 466799.0, 466799.0, 466799.0, 466799.0, 466799.0, 466799.0, 466799.0, 466799.0, 466799.0, 466799.0, 466799.0, 466799.0, 481424.0, 483742.0, 485472.0, 487201.0, 488930.0, 490655.0, 492370.0, 494065.0, 495743.0, 497406.0, 499053.0, 500668.0, 502250.0, 503790.0, 505273.0, 506708.0, 508093.0, 509428.0, 510706.0, 511914.0, 513054.0, 514135.0, 515161.0, 516133.0, 517056.0, 517929.0, 518766.0, 519581.0, 520375.0, 521151.0, 521903.0, 522635.0, 523348.0, 524039.0, 524715.0, 525374.0, 526017.0, 526648.0, 527268.0, 527876.0, 528462.0, 529022.0, 529546.0, 530025.0, 530453.0, 530843.0, 531203.0, 531540.0, 531861.0, 532164.0, 532453.0, 532734.0, 533007.0, 533275.0, 533535.0, 533789.0, 534041.0, 534291.0, 534538.0, 534778.0, 535005.0, 535221.0, 535426.0, 535611.0, 535773.0, 535908.0, 536019.0, 536108.0, 536175.0, 536229.0, 536278.0, 536325.0, 536371.0, 536414.0, 536456.0, 536498.0, 536540.0, 536582.0, 536624.0, 536666.0, 536705.0, 536741.0, 536775.0, 536806.0, 536834.0, 536860.0, 536885.0, 536907.0, 536925.0, 536941.0, 536954.0, 536965.0, 536975.0, 536984.0, 536991.0, 536996.0, 536996.0, 536996.0, 536996.0, 536996.0, 536996.0, 536996.0, 536996.0, 536996.0, 536996.0, 536996.0, 536996.0, 536996.0, 536996.0, 536996.0, 536996.0, 536996.0, 536996.0, 536996.0, 536996.0, 536996.0, 536996.0, 536996.0, 536996.0, 536996.0, 536996.0, 536996.0, 536996.0, 536996.0, 536996.0, 536996.0, 536996.0, 536996.0, 536996.0, 536996.0, 536996.0, 536996.0, 536996.0, 536996.0, 536996.0, 536996.0, 536996.0, 536996.0, 536996.0, 536996.0, 536996.0, 536996.0, 536996.0, 536996.0, 536996.0, 536996.0, 536996.0, 536996.0, 536996.0, 536996.0, 536996.0, 536996.0, 536996.0, 536996.0, 536996.0, 536996.0, 536996.0, 536996.0, 536996.0, 536996.0, 536996.0, 536996.0, 536996.0, 536996.0, 536996.0, 536996.0, 536996.0, 536996.0, 536996.0, 536996.0, 536996.0, 536996.0, 536996.0, 536996.0, 536996.0, 536996.0, 536996.0, 536996.0, 536996.0, 536996.0, 536996.0, 536996.0, 536996.0, 536996.0, 536996.0, 536996.0, 536996.0, 536996.0, 536996.0, 536996.0, 536996.0, 536996.0, 536996.0, 536996.0, 536996.0, 536996.0, 536996.0, 536996.0, 536996.0, 536996.0, 536996.0, 536996.0, 536996.0, 536996.0, 536996.0, 536996.0, 536996.0, 536996.0, 536996.0, 536996.0, 536996.0, 536996.0, 536996.0, 536996.0, 536996.0, 536996.0, 536996.0, 536996.0, 536996.0, 536996.0, 536996.0, 536996.0, 536996.0, 536996.0, 536996.0, 536996.0, 536996.0, 536996.0, 536996.0, 536996.0, 536996.0, 536996.0, 536996.0, 536996.0, 536996.0, 536996.0, 536996.0, 536996.0, 536996.0, 536996.0, 536996.0, 536996.0, 536996.0, 536996.0, 536996.0, 536996.0, 536996.0, 536996.0, 536996.0, 536996.0, 536996.0, 536996.0, 536996.0, 536996.0, 536996.0, 536996.0, 536996.0, 536996.0, 536996.0, 536996.0, 536996.0, 536996.0, 536996.0, 536996.0, 536996.0, 536996.0, 536996.0, 536996.0, 536996.0, 536996.0, 536996.0, 536996.0, 536996.0, 536996.0, 536996.0, 536996.0, 536996.0, 536996.0, 536996.0, 536996.0, 536996.0, 536996.0, 536996.0, 536996.0, 536996.0, 536996.0, 536996.0, 536996.0, 536996.0, 536996.0, 536996.0, 536996.0, 536996.0, 536996.0, 536996.0, 536996.0, 536996.0, 536996.0, 536996.0, 536996.0, 536996.0, 536996.0, 536996.0, 536996.0, 536996.0, 536996.0, 536996.0, 536996.0, 536996.0, 536996.0, 536996.0, 536996.0, 536996.0, 536996.0, 536996.0, 536996.0, 536996.0, 536996.0, 536996.0, 536996.0, 536996.0, 536996.0, 536996.0, 536996.0, 536996.0, 536996.0, 536996.0, 536996.0, 536996.0, 536996.0, 536996.0, 536996.0, 536996.0, 536996.0, 536996.0, 536996.0, 536996.0, 536996.0, 536996.0, 536996.0, 536996.0, 536996.0, 536996.0, 536996.0, 536996.0, 536996.0, 536996.0, 536996.0, 536996.0, 536996.0, 536996.0, 536996.0, 536996.0, 536996.0, 536996.0, 536996.0, 536996.0, 536996.0, 536996.0, 536996.0, 536996.0, 536996.0, 536996.0, 536996.0, 536996.0, 536996.0, 536996.0, 536996.0, 536996.0, 536996.0, 536996.0, 536996.0, 536996.0, 536996.0, 536996.0, 536996.0, 536996.0, 536996.0, 536996.0, 536996.0, 536996.0, 536996.0, 536996.0, 536996.0, 536996.0, 536996.0, 536996.0, 536996.0, 536996.0, 536996.0, 536996.0, 536996.0, 536996.0, 536996.0, 536996.0, 536996.0, 536996.0, 536996.0, 536996.0, 536996.0, 536996.0, 536996.0, 536996.0, 536996.0, 536996.0, 536996.0, 536996.0, 536996.0, 536996.0, 536996.0, 536996.0, 536996.0, 536996.0, 536996.0, 536996.0, 536996.0, 536996.0, 536996.0, 536996.0, 536996.0, 536996.0, 536996.0, 536996.0, 536996.0, 536996.0, 536996.0, 536996.0, 536996.0, 536996.0, 536996.0, 536996.0, 536996.0, 536996.0, 536996.0, 536996.0, 536996.0, 536996.0, 536996.0, 536996.0, 536996.0, 536996.0, 536996.0, 536996.0, 536996.0, 536996.0, 536996.0, 536996.0, 536996.0, 536996.0, 536996.0, 536996.0, 536996.0, 536996.0, 536996.0, 536996.0, 536996.0, 536996.0, 536996.0, 536996.0, 536996.0, 536996.0, 536996.0, 536996.0, 536996.0, 536996.0, 536996.0, 536996.0, 536996.0, 536996.0, 536996.0, 536996.0, 536996.0, 536996.0, 536996.0, 536996.0, 536996.0, 536996.0, 536996.0, 536996.0, 536996.0, 536996.0, 536996.0, 536996.0, 536996.0, 536996.0, 536996.0, 536996.0, 536996.0, 536996.0, 536996.0, 536996.0, 536996.0, 536996.0, 536996.0, 536996.0, 536996.0, 536996.0, 536996.0, 536996.0, 536996.0]}, {\"line\": {\"dash\": \"solid\", \"width\": 4}, \"marker\": {\"color\": \"green\"}, \"mode\": \"lines\", \"name\": \"Q\", \"type\": \"scatter\", \"x\": [0, 1, 2, 3, 4, 5, 6, 7, 8, 9, 10, 11, 12, 13, 14, 15, 16, 17, 18, 19, 20, 21, 22, 23, 24, 25, 26, 27, 28, 29, 30, 31, 32, 33, 34, 35, 36, 37, 38, 39, 40, 41, 42, 43, 44, 45, 46, 47, 48, 49, 50, 51, 52, 53, 54, 55, 56, 57, 58, 59, 60, 61, 62, 63, 64, 65, 66, 67, 68, 69, 70, 71, 72, 73, 74, 75, 76, 77, 78, 79, 80, 81, 82, 83, 84, 85, 86, 87, 88, 89, 90, 91, 92, 93, 94, 95, 96, 97, 98, 99, 100, 101, 102, 103, 104, 105, 106, 107, 108, 109, 110, 111, 112, 113, 114, 115, 116, 117, 118, 119, 120, 121, 122, 123, 124, 125, 126, 127, 128, 129, 130, 131, 132, 133, 134, 135, 136, 137, 138, 139, 140, 141, 142, 143, 144, 145, 146, 147, 148, 149, 150, 151, 152, 153, 154, 155, 156, 157, 158, 159, 160, 161, 162, 163, 164, 165, 166, 167, 168, 169, 170, 171, 172, 173, 174, 175, 176, 177, 178, 179, 180, 181, 182, 183, 184, 185, 186, 187, 188, 189, 190, 191, 192, 193, 194, 195, 196, 197, 198, 199, 200, 201, 202, 203, 204, 205, 206, 207, 208, 209, 210, 211, 212, 213, 214, 215, 216, 217, 218, 219, 220, 221, 222, 223, 224, 225, 226, 227, 228, 229, 230, 231, 232, 233, 234, 235, 236, 237, 238, 239, 240, 241, 242, 243, 244, 245, 246, 247, 248, 249, 250, 251, 252, 253, 254, 255, 256, 257, 258, 259, 260, 261, 262, 263, 264, 265, 266, 267, 268, 269, 270, 271, 272, 273, 274, 275, 276, 277, 278, 279, 280, 281, 282, 283, 284, 285, 286, 287, 288, 289, 290, 291, 292, 293, 294, 295, 296, 297, 298, 299, 300, 301, 302, 303, 304, 305, 306, 307, 308, 309, 310, 311, 312, 313, 314, 315, 316, 317, 318, 319, 320, 321, 322, 323, 324, 325, 326, 327, 328, 329, 330, 331, 332, 333, 334, 335, 336, 337, 338, 339, 340, 341, 342, 343, 344, 345, 346, 347, 348, 349, 350, 351, 352, 353, 354, 355, 356, 357, 358, 359, 360, 361, 362, 363, 364, 365, 366, 367, 368, 369, 370, 371, 372, 373, 374, 375, 376, 377, 378, 379, 380, 381, 382, 383, 384, 385, 386, 387, 388, 389, 390, 391, 392, 393, 394, 395, 396, 397, 398, 399, 400, 401, 402, 403, 404, 405, 406, 407, 408, 409, 410, 411, 412, 413, 414, 415, 416, 417, 418, 419, 420, 421, 422, 423, 424, 425, 426, 427, 428, 429, 430, 431, 432, 433, 434, 435, 436, 437, 438, 439, 440, 441, 442, 443, 444, 445, 446, 447, 448, 449, 450, 451, 452, 453, 454, 455, 456, 457, 458, 459, 460, 461, 462, 463, 464, 465, 466, 467, 468, 469, 470, 471, 472, 473, 474, 475, 476, 477, 478, 479, 480, 481, 482, 483, 484, 485, 486, 487, 488, 489, 490, 491, 492, 493, 494, 495, 496, 497, 498, 499, 500, 501, 502, 503, 504, 505, 506, 507, 508, 509, 510, 511, 512, 513, 514, 515, 516, 517, 518, 519, 520, 521, 522, 523, 524, 525, 526, 527, 528, 529, 530, 531, 532, 533, 534, 535, 536, 537, 538, 539, 540, 541, 542, 543, 544, 545, 546, 547, 548, 549, 550, 551, 552, 553, 554, 555, 556, 557, 558, 559, 560, 561, 562, 563, 564, 565, 566, 567, 568, 569, 570, 571, 572, 573, 574, 575, 576, 577, 578, 579, 580, 581, 582, 583, 584, 585, 586, 587, 588, 589, 590, 591, 592, 593, 594, 595, 596, 597, 598, 599, 600, 601, 602, 603, 604, 605, 606, 607, 608, 609, 610, 611, 612, 613, 614, 615, 616, 617, 618, 619, 620, 621, 622, 623, 624, 625, 626, 627, 628, 629, 630, 631, 632, 633, 634, 635, 636, 637, 638, 639, 640, 641, 642, 643, 644, 645, 646, 647, 648, 649, 650, 651, 652, 653, 654, 655, 656, 657, 658, 659, 660, 661, 662, 663, 664, 665, 666, 667, 668, 669, 670, 671, 672, 673, 674, 675, 676, 677, 678, 679, 680, 681, 682, 683, 684, 685, 686, 687, 688, 689, 690, 691, 692, 693, 694, 695, 696, 697, 698, 699, 700, 701, 702, 703, 704, 705, 706, 707, 708, 709, 710, 711, 712, 713, 714, 715, 716, 717, 718, 719, 720, 721, 722, 723, 724, 725, 726, 727, 728, 729, 730, 731, 732, 733, 734, 735, 736, 737, 738, 739, 740, 741, 742, 743, 744, 745, 746, 747, 748, 749, 750, 751, 752, 753, 754, 755, 756, 757, 758, 759, 760, 761, 762, 763, 764, 765, 766, 767, 768, 769, 770, 771, 772, 773, 774, 775, 776, 777, 778, 779, 780, 781, 782, 783, 784, 785, 786, 787, 788, 789, 790, 791, 792, 793, 794, 795, 796, 797, 798, 799, 800, 801, 802, 803, 804, 805, 806, 807, 808, 809, 810, 811, 812, 813, 814, 815, 816, 817, 818, 819, 820, 821, 822, 823, 824, 825, 826, 827, 828, 829, 830, 831, 832, 833, 834, 835, 836, 837, 838, 839, 840, 841, 842, 843, 844, 845, 846, 847, 848, 849, 850, 851, 852, 853, 854, 855, 856, 857, 858, 859, 860, 861, 862, 863, 864, 865, 866, 867, 868, 869, 870, 871, 872, 873, 874, 875, 876, 877, 878, 879, 880, 881, 882, 883, 884, 885, 886, 887, 888, 889, 890, 891, 892, 893, 894, 895, 896, 897, 898, 899, 900, 901, 902, 903, 904, 905, 906, 907, 908, 909, 910, 911, 912, 913, 914, 915, 916, 917, 918, 919, 920, 921, 922, 923, 924, 925, 926, 927, 928, 929, 930, 931, 932, 933, 934, 935, 936, 937, 938, 939, 940, 941, 942, 943, 944, 945, 946, 947, 948, 949, 950, 951, 952, 953, 954, 955, 956, 957, 958, 959, 960, 961, 962, 963, 964, 965, 966, 967, 968, 969, 970, 971, 972, 973, 974, 975, 976, 977, 978, 979, 980, 981, 982, 983, 984, 985, 986, 987, 988, 989, 990, 991, 992, 993, 994, 995, 996, 997, 998, 999], \"y\": [22085.0, 22085.0, 22085.0, 22085.0, 22085.0, 22085.0, 22085.0, 22085.0, 22085.0, 22085.0, 22085.0, 22085.0, 22085.0, 22085.0, 22085.0, 22085.0, 22085.0, 22085.0, 22085.0, 22085.0, 22085.0, 22085.0, 22085.0, 22085.0, 22085.0, 22085.0, 22085.0, 22085.0, 22085.0, 22085.0, 22085.0, 22085.0, 22085.0, 22085.0, 22085.0, 22085.0, 22085.0, 22085.0, 22085.0, 22085.0, 22085.0, 22085.0, 22085.0, 22085.0, 22085.0, 22085.0, 22085.0, 22085.0, 22085.0, 22085.0, 22085.0, 22085.0, 22085.0, 22085.0, 22085.0, 22085.0, 22085.0, 22085.0, 22085.0, 22085.0, 22085.0, 22085.0, 22085.0, 22085.0, 22085.0, 22085.0, 22085.0, 22085.0, 22085.0, 22085.0, 22085.0, 22085.0, 22085.0, 22085.0, 22085.0, 22085.0, 22085.0, 22085.0, 22085.0, 22085.0, 22085.0, 22085.0, 22085.0, 22085.0, 22085.0, 22085.0, 22085.0, 22085.0, 22085.0, 22085.0, 22085.0, 22085.0, 22085.0, 22085.0, 22085.0, 22085.0, 22085.0, 22085.0, 22085.0, 22085.0, 22085.0, 22085.0, 22085.0, 22085.0, 22085.0, 22085.0, 22085.0, 22085.0, 22085.0, 22085.0, 22085.0, 22085.0, 22085.0, 22085.0, 22085.0, 22085.0, 22085.0, 22085.0, 22085.0, 22085.0, 22085.0, 22085.0, 22085.0, 22085.0, 22085.0, 22085.0, 22085.0, 22085.0, 22085.0, 22085.0, 22085.0, 22085.0, 22085.0, 22085.0, 22085.0, 22085.0, 22085.0, 22085.0, 22085.0, 22085.0, 22085.0, 22085.0, 22085.0, 22085.0, 22085.0, 22085.0, 22085.0, 22085.0, 22085.0, 22085.0, 22085.0, 22085.0, 22085.0, 22085.0, 22085.0, 22085.0, 22085.0, 22085.0, 22085.0, 22085.0, 22085.0, 22085.0, 22085.0, 22085.0, 22085.0, 22085.0, 22085.0, 22085.0, 22085.0, 22085.0, 22085.0, 22085.0, 22085.0, 22085.0, 22085.0, 22085.0, 22085.0, 22085.0, 22085.0, 22085.0, 22085.0, 22085.0, 22085.0, 22085.0, 22085.0, 22085.0, 22085.0, 22085.0, 22085.0, 22085.0, 22085.0, 22085.0, 22085.0, 22085.0, 22085.0, 22085.0, 22085.0, 22085.0, 22085.0, 22085.0, 22085.0, 22085.0, 22085.0, 22085.0, 22085.0, 22085.0, 22085.0, 22085.0, 22085.0, 22085.0, 22085.0, 22085.0, 22085.0, 22085.0, 22085.0, 22085.0, 22085.0, 22085.0, 22085.0, 22085.0, 22085.0, 22085.0, 22085.0, 22085.0, 22085.0, 22085.0, 22085.0, 22085.0, 22085.0, 22085.0, 22085.0, 22085.0, 22085.0, 22085.0, 22085.0, 22085.0, 22085.0, 22085.0, 22085.0, 22085.0, 22085.0, 22085.0, 22085.0, 22085.0, 22085.0, 22085.0, 22085.0, 22085.0, 22085.0, 22085.0, 40863.0, 50480.0, 53523.0, 54164.0, 54267.0, 54293.0, 54306.0, 54317.0, 54324.0, 54328.0, 54330.0, 54332.0, 54334.0, 54335.0, 54336.0, 54337.0, 54337.0, 54337.0, 54337.0, 54337.0, 54337.0, 54337.0, 54337.0, 54337.0, 54337.0, 54337.0, 54337.0, 54337.0, 54337.0, 54337.0, 54337.0, 54337.0, 54337.0, 54337.0, 54337.0, 54337.0, 54337.0, 54337.0, 54337.0, 54337.0, 54337.0, 54337.0, 54337.0, 54337.0, 54337.0, 54337.0, 54337.0, 54337.0, 54337.0, 54337.0, 54337.0, 54337.0, 54337.0, 54337.0, 54337.0, 54337.0, 54337.0, 54337.0, 54337.0, 54337.0, 54337.0, 54337.0, 54337.0, 54337.0, 54337.0, 54337.0, 54337.0, 54337.0, 54337.0, 54337.0, 54337.0, 54337.0, 54337.0, 54337.0, 54337.0, 54337.0, 54337.0, 54337.0, 54337.0, 54337.0, 54337.0, 54337.0, 54337.0, 54337.0, 54337.0, 54337.0, 54337.0, 54337.0, 54337.0, 54337.0, 54337.0, 54337.0, 54337.0, 54337.0, 54337.0, 54337.0, 54337.0, 54337.0, 54337.0, 54337.0, 54337.0, 54337.0, 54337.0, 54337.0, 54337.0, 54337.0, 54337.0, 54337.0, 54337.0, 54337.0, 54337.0, 54337.0, 54337.0, 54337.0, 54337.0, 54337.0, 54337.0, 54337.0, 54337.0, 54337.0, 54337.0, 54337.0, 54337.0, 54337.0, 54337.0, 54337.0, 54337.0, 54337.0, 54337.0, 54337.0, 54337.0, 54337.0, 54337.0, 54337.0, 54337.0, 54337.0, 54337.0, 54337.0, 54337.0, 54337.0, 54337.0, 54337.0, 54337.0, 54337.0, 54337.0, 54337.0, 54337.0, 54337.0, 54337.0, 54337.0, 54337.0, 54337.0, 54337.0, 54337.0, 54337.0, 54337.0, 54337.0, 54337.0, 54337.0, 54337.0, 54337.0, 54337.0, 54337.0, 54337.0, 54337.0, 54337.0, 54337.0, 54337.0, 54337.0, 54337.0, 54337.0, 54337.0, 54337.0, 54337.0, 54337.0, 54337.0, 54337.0, 54337.0, 54337.0, 54337.0, 54337.0, 54337.0, 54337.0, 54337.0, 54337.0, 54337.0, 54337.0, 54337.0, 54337.0, 54337.0, 54337.0, 54337.0, 54337.0, 54337.0, 54337.0, 54337.0, 54337.0, 54337.0, 54337.0, 54337.0, 54337.0, 54337.0, 54337.0, 54337.0, 54337.0, 54337.0, 54337.0, 54337.0, 54337.0, 54337.0, 54337.0, 54337.0, 54337.0, 54337.0, 54337.0, 54337.0, 54337.0, 54337.0, 54337.0, 54337.0, 54337.0, 54337.0, 54337.0, 54337.0, 54337.0, 54337.0, 54337.0, 54337.0, 54337.0, 54337.0, 54337.0, 54337.0, 54337.0, 54337.0, 54337.0, 54337.0, 54337.0, 54337.0, 54337.0, 54337.0, 54337.0, 54337.0, 54337.0, 54337.0, 54337.0, 54337.0, 54337.0, 54337.0, 54337.0, 54337.0, 54337.0, 54337.0, 54337.0, 54337.0, 54337.0, 54337.0, 54337.0, 54337.0, 54337.0, 54337.0, 54337.0, 54337.0, 54337.0, 54337.0, 54337.0, 54337.0, 54337.0, 54337.0, 54337.0, 54337.0, 54337.0, 54337.0, 54337.0, 54337.0, 54337.0, 54337.0, 54337.0, 54337.0, 54337.0, 54337.0, 54337.0, 54337.0, 54337.0, 54337.0, 54337.0, 54337.0, 54337.0, 54337.0, 54337.0, 54337.0, 54337.0, 54337.0, 54337.0, 54337.0, 54337.0, 54337.0, 54337.0, 54337.0, 54337.0, 54337.0, 54337.0, 54337.0, 54337.0, 54337.0, 54337.0, 54337.0, 54337.0, 54337.0, 54337.0, 54337.0, 54337.0, 54337.0, 54337.0, 54337.0, 54337.0, 54337.0, 54337.0, 54337.0, 54337.0, 54337.0, 54337.0, 54337.0, 54337.0, 54337.0, 54337.0, 54337.0, 54337.0, 54337.0, 54337.0, 54337.0, 54337.0, 54337.0, 54337.0, 54337.0, 54337.0, 54337.0, 54337.0, 54337.0, 54337.0, 54337.0, 54337.0, 54337.0, 54337.0, 54337.0, 54337.0, 54337.0, 54337.0, 54337.0, 54337.0, 54337.0, 54337.0, 54337.0, 54337.0, 54337.0, 54337.0, 54337.0, 54337.0, 54337.0, 54337.0, 54337.0, 54337.0, 54337.0, 54337.0, 54337.0, 54337.0, 54337.0, 54337.0, 54337.0, 54337.0, 54337.0, 54337.0, 54337.0, 54337.0, 54337.0, 54337.0, 54337.0, 54337.0, 54337.0, 54337.0, 54337.0, 54337.0, 54337.0, 54337.0, 54337.0, 54337.0, 54337.0, 54337.0, 54337.0, 54337.0, 54337.0, 54337.0, 54337.0, 54337.0, 54337.0, 54337.0, 54337.0, 54337.0, 54337.0, 54337.0, 54337.0, 54337.0, 54337.0, 54337.0, 54337.0, 54337.0, 54337.0, 54337.0, 54337.0, 54337.0, 54337.0, 54337.0, 54337.0, 54337.0, 54337.0, 54337.0, 54337.0, 54337.0, 54337.0, 54337.0, 54337.0, 54337.0, 54337.0, 54337.0, 54337.0, 54337.0, 54337.0, 54337.0, 54337.0, 54337.0, 54337.0, 54337.0, 54337.0, 54337.0, 54337.0, 54337.0, 54337.0, 54337.0, 54337.0, 54337.0, 54337.0, 54337.0, 54337.0, 54337.0, 54337.0, 54337.0, 54337.0, 54337.0, 54337.0, 54337.0, 54337.0, 54337.0, 54337.0, 54337.0, 54337.0, 54337.0, 54337.0, 54337.0, 54337.0, 54337.0, 54337.0, 54337.0, 54337.0, 54337.0, 54337.0, 54337.0, 54337.0, 54337.0, 54337.0, 54337.0, 54337.0, 54337.0, 54337.0, 54337.0, 54337.0, 54337.0, 54337.0, 54337.0, 54337.0, 54337.0, 54337.0, 54337.0, 54337.0, 54337.0, 54337.0, 54337.0, 54337.0, 54337.0, 54337.0, 54337.0, 54337.0, 54337.0, 54337.0, 54337.0, 54337.0, 54337.0, 54337.0, 54337.0, 54337.0, 54337.0, 54337.0, 54337.0, 54337.0, 54337.0, 54337.0, 54337.0, 54337.0, 54337.0, 54337.0, 54337.0, 54337.0, 54337.0, 54337.0, 54337.0, 54337.0, 54337.0, 54337.0, 54337.0, 54337.0, 54337.0, 54337.0, 54337.0, 54337.0, 54337.0, 54337.0, 54337.0, 54337.0, 54337.0, 54337.0, 54337.0, 54337.0, 54337.0, 54337.0, 54337.0, 54337.0, 54337.0, 54337.0, 54337.0, 54337.0, 54337.0, 54337.0, 54337.0, 54337.0, 54337.0, 54337.0, 54337.0, 54337.0, 54337.0, 54337.0, 54337.0, 54337.0, 54337.0, 54337.0, 54337.0, 54337.0, 54337.0, 54337.0, 54337.0, 54337.0, 54337.0, 54337.0, 54337.0, 54337.0, 54337.0, 54337.0, 54337.0, 54337.0, 54337.0, 54337.0, 54337.0, 54337.0, 54337.0, 54337.0, 54337.0, 54337.0, 54337.0, 54337.0, 54337.0, 54337.0, 54337.0, 54337.0, 54337.0, 54337.0, 54337.0, 54337.0, 54337.0, 54337.0, 54337.0, 54337.0, 54337.0, 54337.0, 54337.0, 54337.0, 54337.0, 54337.0, 54337.0, 54337.0, 54337.0, 54337.0, 54337.0, 54337.0, 54337.0, 54337.0, 54337.0, 54337.0, 54337.0, 54337.0, 54337.0, 54337.0, 54337.0, 54337.0, 54337.0, 54337.0, 54337.0, 54337.0, 54337.0, 54337.0, 54337.0, 54337.0, 54337.0, 54337.0, 54337.0, 54337.0, 54337.0, 54337.0, 54337.0, 54337.0, 54337.0, 54337.0, 54337.0, 54337.0, 54337.0, 54337.0, 54337.0, 54337.0, 54337.0, 54337.0, 54337.0, 54337.0, 54337.0, 54337.0, 54337.0, 54337.0, 54337.0, 54337.0, 54337.0, 54337.0, 54337.0, 54337.0, 54337.0, 54337.0, 54337.0, 54337.0, 54337.0, 54337.0, 54337.0, 54337.0, 54337.0, 54337.0, 54337.0, 54337.0, 54337.0, 54337.0, 54337.0, 54337.0, 54337.0, 54337.0, 54337.0, 54337.0, 54337.0, 54337.0, 54337.0, 54337.0, 54337.0, 54337.0, 54337.0, 54337.0, 54337.0, 54337.0, 54337.0, 54337.0, 54337.0, 54337.0, 54337.0, 54337.0, 54337.0, 54337.0, 54337.0, 54337.0, 54337.0, 54337.0, 54337.0, 54337.0, 54337.0, 54337.0, 54337.0, 54337.0, 54337.0, 54337.0, 54337.0, 54337.0, 54337.0, 54337.0, 54337.0, 54337.0, 54337.0, 54337.0, 54337.0, 54337.0, 54337.0, 54337.0, 54337.0, 54337.0, 54337.0, 54337.0, 54337.0, 54337.0, 54337.0, 54337.0, 54337.0, 54337.0, 54337.0, 54337.0, 54337.0, 54337.0, 54337.0, 54337.0, 54337.0, 54337.0, 54337.0, 54337.0, 54337.0, 54337.0, 54337.0, 54337.0, 54337.0, 54337.0, 54337.0, 54337.0, 54337.0, 54337.0, 54337.0, 54337.0, 54337.0, 54337.0, 54337.0, 54337.0, 54337.0, 54337.0, 54337.0, 54337.0]}],\n",
       "                        {\"font\": {\"size\": 42}, \"legend\": {\"font\": {\"color\": \"black\", \"size\": 30}, \"orientation\": \"h\", \"x\": 0.25, \"y\": 1.2}, \"plot_bgcolor\": \"rgba(0,0,0,0)\", \"showlegend\": true, \"template\": {\"data\": {\"bar\": [{\"error_x\": {\"color\": \"#2a3f5f\"}, \"error_y\": {\"color\": \"#2a3f5f\"}, \"marker\": {\"line\": {\"color\": \"#E5ECF6\", \"width\": 0.5}}, \"type\": \"bar\"}], \"barpolar\": [{\"marker\": {\"line\": {\"color\": \"#E5ECF6\", \"width\": 0.5}}, \"type\": \"barpolar\"}], \"carpet\": [{\"aaxis\": {\"endlinecolor\": \"#2a3f5f\", \"gridcolor\": \"white\", \"linecolor\": \"white\", \"minorgridcolor\": \"white\", \"startlinecolor\": \"#2a3f5f\"}, \"baxis\": {\"endlinecolor\": \"#2a3f5f\", \"gridcolor\": \"white\", \"linecolor\": \"white\", \"minorgridcolor\": \"white\", \"startlinecolor\": \"#2a3f5f\"}, \"type\": \"carpet\"}], \"choropleth\": [{\"colorbar\": {\"outlinewidth\": 0, \"ticks\": \"\"}, \"type\": \"choropleth\"}], \"contour\": [{\"colorbar\": {\"outlinewidth\": 0, \"ticks\": \"\"}, \"colorscale\": [[0.0, \"#0d0887\"], [0.1111111111111111, \"#46039f\"], [0.2222222222222222, \"#7201a8\"], [0.3333333333333333, \"#9c179e\"], [0.4444444444444444, \"#bd3786\"], [0.5555555555555556, \"#d8576b\"], [0.6666666666666666, \"#ed7953\"], [0.7777777777777778, \"#fb9f3a\"], [0.8888888888888888, \"#fdca26\"], [1.0, \"#f0f921\"]], \"type\": \"contour\"}], \"contourcarpet\": [{\"colorbar\": {\"outlinewidth\": 0, \"ticks\": \"\"}, \"type\": \"contourcarpet\"}], \"heatmap\": [{\"colorbar\": {\"outlinewidth\": 0, \"ticks\": \"\"}, \"colorscale\": [[0.0, \"#0d0887\"], [0.1111111111111111, \"#46039f\"], [0.2222222222222222, \"#7201a8\"], [0.3333333333333333, \"#9c179e\"], [0.4444444444444444, \"#bd3786\"], [0.5555555555555556, \"#d8576b\"], [0.6666666666666666, \"#ed7953\"], [0.7777777777777778, \"#fb9f3a\"], [0.8888888888888888, \"#fdca26\"], [1.0, \"#f0f921\"]], \"type\": \"heatmap\"}], \"heatmapgl\": [{\"colorbar\": {\"outlinewidth\": 0, \"ticks\": \"\"}, \"colorscale\": [[0.0, \"#0d0887\"], [0.1111111111111111, \"#46039f\"], [0.2222222222222222, \"#7201a8\"], [0.3333333333333333, \"#9c179e\"], [0.4444444444444444, \"#bd3786\"], [0.5555555555555556, \"#d8576b\"], [0.6666666666666666, \"#ed7953\"], [0.7777777777777778, \"#fb9f3a\"], [0.8888888888888888, \"#fdca26\"], [1.0, \"#f0f921\"]], \"type\": \"heatmapgl\"}], \"histogram\": [{\"marker\": {\"colorbar\": {\"outlinewidth\": 0, \"ticks\": \"\"}}, \"type\": \"histogram\"}], \"histogram2d\": [{\"colorbar\": {\"outlinewidth\": 0, \"ticks\": \"\"}, \"colorscale\": [[0.0, \"#0d0887\"], [0.1111111111111111, \"#46039f\"], [0.2222222222222222, \"#7201a8\"], [0.3333333333333333, \"#9c179e\"], [0.4444444444444444, \"#bd3786\"], [0.5555555555555556, \"#d8576b\"], [0.6666666666666666, \"#ed7953\"], [0.7777777777777778, \"#fb9f3a\"], [0.8888888888888888, \"#fdca26\"], [1.0, \"#f0f921\"]], \"type\": \"histogram2d\"}], \"histogram2dcontour\": [{\"colorbar\": {\"outlinewidth\": 0, \"ticks\": \"\"}, \"colorscale\": [[0.0, \"#0d0887\"], [0.1111111111111111, \"#46039f\"], [0.2222222222222222, \"#7201a8\"], [0.3333333333333333, \"#9c179e\"], [0.4444444444444444, \"#bd3786\"], [0.5555555555555556, \"#d8576b\"], [0.6666666666666666, \"#ed7953\"], [0.7777777777777778, \"#fb9f3a\"], [0.8888888888888888, \"#fdca26\"], [1.0, \"#f0f921\"]], \"type\": \"histogram2dcontour\"}], \"mesh3d\": [{\"colorbar\": {\"outlinewidth\": 0, \"ticks\": \"\"}, \"type\": \"mesh3d\"}], \"parcoords\": [{\"line\": {\"colorbar\": {\"outlinewidth\": 0, \"ticks\": \"\"}}, \"type\": \"parcoords\"}], \"scatter\": [{\"marker\": {\"colorbar\": {\"outlinewidth\": 0, \"ticks\": \"\"}}, \"type\": \"scatter\"}], \"scatter3d\": [{\"line\": {\"colorbar\": {\"outlinewidth\": 0, \"ticks\": \"\"}}, \"marker\": {\"colorbar\": {\"outlinewidth\": 0, \"ticks\": \"\"}}, \"type\": \"scatter3d\"}], \"scattercarpet\": [{\"marker\": {\"colorbar\": {\"outlinewidth\": 0, \"ticks\": \"\"}}, \"type\": \"scattercarpet\"}], \"scattergeo\": [{\"marker\": {\"colorbar\": {\"outlinewidth\": 0, \"ticks\": \"\"}}, \"type\": \"scattergeo\"}], \"scattergl\": [{\"marker\": {\"colorbar\": {\"outlinewidth\": 0, \"ticks\": \"\"}}, \"type\": \"scattergl\"}], \"scattermapbox\": [{\"marker\": {\"colorbar\": {\"outlinewidth\": 0, \"ticks\": \"\"}}, \"type\": \"scattermapbox\"}], \"scatterpolar\": [{\"marker\": {\"colorbar\": {\"outlinewidth\": 0, \"ticks\": \"\"}}, \"type\": \"scatterpolar\"}], \"scatterpolargl\": [{\"marker\": {\"colorbar\": {\"outlinewidth\": 0, \"ticks\": \"\"}}, \"type\": \"scatterpolargl\"}], \"scatterternary\": [{\"marker\": {\"colorbar\": {\"outlinewidth\": 0, \"ticks\": \"\"}}, \"type\": \"scatterternary\"}], \"surface\": [{\"colorbar\": {\"outlinewidth\": 0, \"ticks\": \"\"}, \"colorscale\": [[0.0, \"#0d0887\"], [0.1111111111111111, \"#46039f\"], [0.2222222222222222, \"#7201a8\"], [0.3333333333333333, \"#9c179e\"], [0.4444444444444444, \"#bd3786\"], [0.5555555555555556, \"#d8576b\"], [0.6666666666666666, \"#ed7953\"], [0.7777777777777778, \"#fb9f3a\"], [0.8888888888888888, \"#fdca26\"], [1.0, \"#f0f921\"]], \"type\": \"surface\"}], \"table\": [{\"cells\": {\"fill\": {\"color\": \"#EBF0F8\"}, \"line\": {\"color\": \"white\"}}, \"header\": {\"fill\": {\"color\": \"#C8D4E3\"}, \"line\": {\"color\": \"white\"}}, \"type\": \"table\"}]}, \"layout\": {\"annotationdefaults\": {\"arrowcolor\": \"#2a3f5f\", \"arrowhead\": 0, \"arrowwidth\": 1}, \"colorscale\": {\"diverging\": [[0, \"#8e0152\"], [0.1, \"#c51b7d\"], [0.2, \"#de77ae\"], [0.3, \"#f1b6da\"], [0.4, \"#fde0ef\"], [0.5, \"#f7f7f7\"], [0.6, \"#e6f5d0\"], [0.7, \"#b8e186\"], [0.8, \"#7fbc41\"], [0.9, \"#4d9221\"], [1, \"#276419\"]], \"sequential\": [[0.0, \"#0d0887\"], [0.1111111111111111, \"#46039f\"], [0.2222222222222222, \"#7201a8\"], [0.3333333333333333, \"#9c179e\"], [0.4444444444444444, \"#bd3786\"], [0.5555555555555556, \"#d8576b\"], [0.6666666666666666, \"#ed7953\"], [0.7777777777777778, \"#fb9f3a\"], [0.8888888888888888, \"#fdca26\"], [1.0, \"#f0f921\"]], \"sequentialminus\": [[0.0, \"#0d0887\"], [0.1111111111111111, \"#46039f\"], [0.2222222222222222, \"#7201a8\"], [0.3333333333333333, \"#9c179e\"], [0.4444444444444444, \"#bd3786\"], [0.5555555555555556, \"#d8576b\"], [0.6666666666666666, \"#ed7953\"], [0.7777777777777778, \"#fb9f3a\"], [0.8888888888888888, \"#fdca26\"], [1.0, \"#f0f921\"]]}, \"colorway\": [\"#636efa\", \"#EF553B\", \"#00cc96\", \"#ab63fa\", \"#FFA15A\", \"#19d3f3\", \"#FF6692\", \"#B6E880\", \"#FF97FF\", \"#FECB52\"], \"font\": {\"color\": \"#2a3f5f\"}, \"geo\": {\"bgcolor\": \"white\", \"lakecolor\": \"white\", \"landcolor\": \"#E5ECF6\", \"showlakes\": true, \"showland\": true, \"subunitcolor\": \"white\"}, \"hoverlabel\": {\"align\": \"left\"}, \"hovermode\": \"closest\", \"mapbox\": {\"style\": \"light\"}, \"paper_bgcolor\": \"white\", \"plot_bgcolor\": \"#E5ECF6\", \"polar\": {\"angularaxis\": {\"gridcolor\": \"white\", \"linecolor\": \"white\", \"ticks\": \"\"}, \"bgcolor\": \"#E5ECF6\", \"radialaxis\": {\"gridcolor\": \"white\", \"linecolor\": \"white\", \"ticks\": \"\"}}, \"scene\": {\"xaxis\": {\"backgroundcolor\": \"#E5ECF6\", \"gridcolor\": \"white\", \"gridwidth\": 2, \"linecolor\": \"white\", \"showbackground\": true, \"ticks\": \"\", \"zerolinecolor\": \"white\"}, \"yaxis\": {\"backgroundcolor\": \"#E5ECF6\", \"gridcolor\": \"white\", \"gridwidth\": 2, \"linecolor\": \"white\", \"showbackground\": true, \"ticks\": \"\", \"zerolinecolor\": \"white\"}, \"zaxis\": {\"backgroundcolor\": \"#E5ECF6\", \"gridcolor\": \"white\", \"gridwidth\": 2, \"linecolor\": \"white\", \"showbackground\": true, \"ticks\": \"\", \"zerolinecolor\": \"white\"}}, \"shapedefaults\": {\"line\": {\"color\": \"#2a3f5f\"}}, \"ternary\": {\"aaxis\": {\"gridcolor\": \"white\", \"linecolor\": \"white\", \"ticks\": \"\"}, \"baxis\": {\"gridcolor\": \"white\", \"linecolor\": \"white\", \"ticks\": \"\"}, \"bgcolor\": \"#E5ECF6\", \"caxis\": {\"gridcolor\": \"white\", \"linecolor\": \"white\", \"ticks\": \"\"}}, \"title\": {\"x\": 0.05}, \"xaxis\": {\"automargin\": true, \"gridcolor\": \"white\", \"linecolor\": \"white\", \"ticks\": \"\", \"zerolinecolor\": \"white\", \"zerolinewidth\": 2}, \"yaxis\": {\"automargin\": true, \"gridcolor\": \"white\", \"linecolor\": \"white\", \"ticks\": \"\", \"zerolinecolor\": \"white\", \"zerolinewidth\": 2}}}, \"xaxis\": {\"linecolor\": \"black\", \"linewidth\": 2, \"showline\": true, \"ticklen\": 5, \"ticks\": \"inside\", \"zeroline\": true}, \"yaxis\": {\"gridcolor\": \"lightgrey\", \"gridwidth\": 1, \"linecolor\": \"black\", \"linewidth\": 2, \"showgrid\": true, \"showline\": true, \"ticklen\": 5, \"ticks\": \"inside\", \"title\": {\"text\": \"# Nodes\"}, \"zeroline\": true}},\n",
       "                        {\"responsive\": true}\n",
       "                    ).then(function(){\n",
       "                            \n",
       "var gd = document.getElementById('1459f486-ee92-45ee-baee-653a6aa89973');\n",
       "var x = new MutationObserver(function (mutations, observer) {{\n",
       "        var display = window.getComputedStyle(gd).display;\n",
       "        if (!display || display === 'none') {{\n",
       "            console.log([gd, 'removed!']);\n",
       "            Plotly.purge(gd);\n",
       "            observer.disconnect();\n",
       "        }}\n",
       "}});\n",
       "\n",
       "// Listen for the removal of the full notebook cells\n",
       "var notebookContainer = gd.closest('#notebook-container');\n",
       "if (notebookContainer) {{\n",
       "    x.observe(notebookContainer, {childList: true});\n",
       "}}\n",
       "\n",
       "// Listen for the clearing of the current output cell\n",
       "var outputEl = gd.closest('.output');\n",
       "if (outputEl) {{\n",
       "    x.observe(outputEl, {childList: true});\n",
       "}}\n",
       "\n",
       "                        })\n",
       "                };\n",
       "                });\n",
       "            </script>\n",
       "        </div>"
      ]
     },
     "metadata": {},
     "output_type": "display_data"
    }
   ],
   "source": [
    "a = number_of_nodes('Periodic8', ['CrackingKDTree', 'Quasii'])\n",
    "save_figure(a, 'total_response_time_number_of_nodes.pdf')\n",
    "a"
   ]
  },
  {
   "cell_type": "markdown",
   "metadata": {},
   "source": [
    "On the shifting benchmark, the only index that has total response time smaller than scanning only is the Adaptive KDtree, as it is the only index capable of quickly paying off for such a small window of queries. Whereas, Quasii's adaptation process is heavier, hence it takes more queries to payoff; Full Indexes also need more queries because of the cost to build them; and Progressive Indexes have higher payoffs as their focus is on robustness and convergence."
   ]
  },
  {
   "cell_type": "markdown",
   "metadata": {},
   "source": [
    "# Comparison with different number of columns\n",
    "Here I expect that only the total response time changes the pattern, the rest will probably remain equal.\n",
    "Hence, we could use a plot with lines to show the pattern."
   ]
  },
  {
   "cell_type": "code",
   "execution_count": 405,
   "metadata": {
    "scrolled": false
   },
   "outputs": [
    {
     "name": "stdout",
     "output_type": "stream",
     "text": [
      "\\begin{tabular}{lllllllll}\n",
      "\\toprule\n",
      "         &      &   MedKD &   AvgKD &                          Q &                         AKD &                   PKD(.2) &                   GPKD(.2) &      FS \\\\\n",
      "\\midrule\n",
      "\\multirow{5}{*}{\\rotatebox[origin=c]{90}{Unif(2)}} & First Query &    8.85 &    4.72 &                       1.61 &                        0.47 &                      0.31 &   \\cellcolor{green!25}0.30 &    0.26 \\\\\n",
      "         & PayOff &   39.00 &   19.00 &                      13.00 &    \\cellcolor{green!25}3.00 &                      6.00 &                      20.00 &       - \\\\\n",
      "         & Convergence &       - &       - &                          * &                           * &                     51.00 &  \\cellcolor{green!25}16.00 &       - \\\\\n",
      "         & Robustness &       - &       - &                       0.06 &                        0.01 &                      0.00 &   \\cellcolor{green!25}0.00 &       - \\\\\n",
      "         & Time &   10.42 &    6.27 &                       5.70 &    \\cellcolor{green!25}5.02 &                      7.17 &                       6.36 &  226.58 \\\\\n",
      "\\cline{1-9}\n",
      "\\multirow{5}{*}{\\rotatebox[origin=c]{90}{Unif(4)}} & First Query &    9.54 &    5.38 &                       1.58 &                        0.83 &  \\cellcolor{green!25}0.48 &                       0.49 &    0.35 \\\\\n",
      "         & PayOff &   27.00 &   14.00 &                       9.00 &    \\cellcolor{green!25}6.00 &                     11.00 &                      18.00 &       - \\\\\n",
      "         & Convergence &       - &       - &                          * &                           * &                     51.00 &  \\cellcolor{green!25}15.00 &       - \\\\\n",
      "         & Robustness &       - &       - &                       0.06 &                        0.02 &                      0.01 &   \\cellcolor{green!25}0.00 &       - \\\\\n",
      "         & Time &   17.36 &   13.16 &  \\cellcolor{green!25}12.10 &                       12.86 &                     16.51 &                      15.07 &  357.30 \\\\\n",
      "\\cline{1-9}\n",
      "\\multirow{5}{*}{\\rotatebox[origin=c]{90}{Unif(8)}} & First Query &   11.16 &    7.07 &                       2.90 &                        1.73 &                      0.82 &   \\cellcolor{green!25}0.81 &    0.56 \\\\\n",
      "         & PayOff &   23.00 &   14.00 &                      12.00 &    \\cellcolor{green!25}7.00 &                     34.00 &                      26.00 &       - \\\\\n",
      "         & Convergence &       - &       - &                          * &                           * &                     51.00 &  \\cellcolor{green!25}18.00 &       - \\\\\n",
      "         & Robustness &       - &       - &                       0.20 &                        0.09 &                      0.03 &   \\cellcolor{green!25}0.00 &       - \\\\\n",
      "         & Time &   98.60 &   94.30 &                      83.29 &   \\cellcolor{green!25}63.21 &                    106.72 &                     104.08 &  531.95 \\\\\n",
      "\\cline{1-9}\n",
      "\\multirow{5}{*}{\\rotatebox[origin=c]{90}{Unif(16)}} & First Query &   26.79 &   22.05 &                      15.67 &                        6.12 &  \\cellcolor{green!25}1.27 &   \\cellcolor{green!25}1.27 &    0.71 \\\\\n",
      "         & PayOff &  999.00 &  999.00 &                      59.00 &   \\cellcolor{green!25}34.00 &                    999.00 &                     999.00 &       - \\\\\n",
      "         & Convergence &       - &       - &                          * &                           * &                     58.00 &  \\cellcolor{green!25}41.00 &       - \\\\\n",
      "         & Robustness &       - &       - &                       5.00 &                        0.80 &  \\cellcolor{green!25}0.01 &                       0.02 &       - \\\\\n",
      "         & Time &  720.93 &  715.85 &                     373.57 &  \\cellcolor{green!25}209.99 &                    732.22 &                     734.98 &  696.80 \\\\\n",
      "\\bottomrule\n",
      "\\end{tabular}\n",
      "\n"
     ]
    },
    {
     "data": {
      "text/html": [
       "<div>\n",
       "<style scoped>\n",
       "    .dataframe tbody tr th:only-of-type {\n",
       "        vertical-align: middle;\n",
       "    }\n",
       "\n",
       "    .dataframe tbody tr th {\n",
       "        vertical-align: top;\n",
       "    }\n",
       "\n",
       "    .dataframe thead th {\n",
       "        text-align: right;\n",
       "    }\n",
       "</style>\n",
       "<table border=\"1\" class=\"dataframe\">\n",
       "  <thead>\n",
       "    <tr style=\"text-align: right;\">\n",
       "      <th></th>\n",
       "      <th></th>\n",
       "      <th>MedKD</th>\n",
       "      <th>AvgKD</th>\n",
       "      <th>Q</th>\n",
       "      <th>AKD</th>\n",
       "      <th>PKD(.2)</th>\n",
       "      <th>GPKD(.2)</th>\n",
       "      <th>FS</th>\n",
       "    </tr>\n",
       "  </thead>\n",
       "  <tbody>\n",
       "    <tr>\n",
       "      <td rowspan=\"5\" valign=\"top\">Unif(2)</td>\n",
       "      <td>First Query</td>\n",
       "      <td>8.85</td>\n",
       "      <td>4.72</td>\n",
       "      <td>1.61</td>\n",
       "      <td>0.47</td>\n",
       "      <td>0.31</td>\n",
       "      <td>\\cellcolor{green!25}0.30</td>\n",
       "      <td>0.26</td>\n",
       "    </tr>\n",
       "    <tr>\n",
       "      <td>PayOff</td>\n",
       "      <td>39.00</td>\n",
       "      <td>19.00</td>\n",
       "      <td>13.00</td>\n",
       "      <td>\\cellcolor{green!25}3.00</td>\n",
       "      <td>6.00</td>\n",
       "      <td>20.00</td>\n",
       "      <td>-</td>\n",
       "    </tr>\n",
       "    <tr>\n",
       "      <td>Convergence</td>\n",
       "      <td>-</td>\n",
       "      <td>-</td>\n",
       "      <td>*</td>\n",
       "      <td>*</td>\n",
       "      <td>51.00</td>\n",
       "      <td>\\cellcolor{green!25}16.00</td>\n",
       "      <td>-</td>\n",
       "    </tr>\n",
       "    <tr>\n",
       "      <td>Robustness</td>\n",
       "      <td>-</td>\n",
       "      <td>-</td>\n",
       "      <td>0.06</td>\n",
       "      <td>0.01</td>\n",
       "      <td>0.00</td>\n",
       "      <td>\\cellcolor{green!25}0.00</td>\n",
       "      <td>-</td>\n",
       "    </tr>\n",
       "    <tr>\n",
       "      <td>Time</td>\n",
       "      <td>10.42</td>\n",
       "      <td>6.27</td>\n",
       "      <td>5.70</td>\n",
       "      <td>\\cellcolor{green!25}5.02</td>\n",
       "      <td>7.17</td>\n",
       "      <td>6.36</td>\n",
       "      <td>226.58</td>\n",
       "    </tr>\n",
       "    <tr>\n",
       "      <td rowspan=\"5\" valign=\"top\">Unif(4)</td>\n",
       "      <td>First Query</td>\n",
       "      <td>9.54</td>\n",
       "      <td>5.38</td>\n",
       "      <td>1.58</td>\n",
       "      <td>0.83</td>\n",
       "      <td>\\cellcolor{green!25}0.48</td>\n",
       "      <td>0.49</td>\n",
       "      <td>0.35</td>\n",
       "    </tr>\n",
       "    <tr>\n",
       "      <td>PayOff</td>\n",
       "      <td>27.00</td>\n",
       "      <td>14.00</td>\n",
       "      <td>9.00</td>\n",
       "      <td>\\cellcolor{green!25}6.00</td>\n",
       "      <td>11.00</td>\n",
       "      <td>18.00</td>\n",
       "      <td>-</td>\n",
       "    </tr>\n",
       "    <tr>\n",
       "      <td>Convergence</td>\n",
       "      <td>-</td>\n",
       "      <td>-</td>\n",
       "      <td>*</td>\n",
       "      <td>*</td>\n",
       "      <td>51.00</td>\n",
       "      <td>\\cellcolor{green!25}15.00</td>\n",
       "      <td>-</td>\n",
       "    </tr>\n",
       "    <tr>\n",
       "      <td>Robustness</td>\n",
       "      <td>-</td>\n",
       "      <td>-</td>\n",
       "      <td>0.06</td>\n",
       "      <td>0.02</td>\n",
       "      <td>0.01</td>\n",
       "      <td>\\cellcolor{green!25}0.00</td>\n",
       "      <td>-</td>\n",
       "    </tr>\n",
       "    <tr>\n",
       "      <td>Time</td>\n",
       "      <td>17.36</td>\n",
       "      <td>13.16</td>\n",
       "      <td>\\cellcolor{green!25}12.10</td>\n",
       "      <td>12.86</td>\n",
       "      <td>16.51</td>\n",
       "      <td>15.07</td>\n",
       "      <td>357.30</td>\n",
       "    </tr>\n",
       "    <tr>\n",
       "      <td rowspan=\"5\" valign=\"top\">Unif(8)</td>\n",
       "      <td>First Query</td>\n",
       "      <td>11.16</td>\n",
       "      <td>7.07</td>\n",
       "      <td>2.90</td>\n",
       "      <td>1.73</td>\n",
       "      <td>0.82</td>\n",
       "      <td>\\cellcolor{green!25}0.81</td>\n",
       "      <td>0.56</td>\n",
       "    </tr>\n",
       "    <tr>\n",
       "      <td>PayOff</td>\n",
       "      <td>23.00</td>\n",
       "      <td>14.00</td>\n",
       "      <td>12.00</td>\n",
       "      <td>\\cellcolor{green!25}7.00</td>\n",
       "      <td>34.00</td>\n",
       "      <td>26.00</td>\n",
       "      <td>-</td>\n",
       "    </tr>\n",
       "    <tr>\n",
       "      <td>Convergence</td>\n",
       "      <td>-</td>\n",
       "      <td>-</td>\n",
       "      <td>*</td>\n",
       "      <td>*</td>\n",
       "      <td>51.00</td>\n",
       "      <td>\\cellcolor{green!25}18.00</td>\n",
       "      <td>-</td>\n",
       "    </tr>\n",
       "    <tr>\n",
       "      <td>Robustness</td>\n",
       "      <td>-</td>\n",
       "      <td>-</td>\n",
       "      <td>0.20</td>\n",
       "      <td>0.09</td>\n",
       "      <td>0.03</td>\n",
       "      <td>\\cellcolor{green!25}0.00</td>\n",
       "      <td>-</td>\n",
       "    </tr>\n",
       "    <tr>\n",
       "      <td>Time</td>\n",
       "      <td>98.60</td>\n",
       "      <td>94.30</td>\n",
       "      <td>83.29</td>\n",
       "      <td>\\cellcolor{green!25}63.21</td>\n",
       "      <td>106.72</td>\n",
       "      <td>104.08</td>\n",
       "      <td>531.95</td>\n",
       "    </tr>\n",
       "    <tr>\n",
       "      <td rowspan=\"5\" valign=\"top\">Unif(16)</td>\n",
       "      <td>First Query</td>\n",
       "      <td>26.79</td>\n",
       "      <td>22.05</td>\n",
       "      <td>15.67</td>\n",
       "      <td>6.12</td>\n",
       "      <td>\\cellcolor{green!25}1.27</td>\n",
       "      <td>\\cellcolor{green!25}1.27</td>\n",
       "      <td>0.71</td>\n",
       "    </tr>\n",
       "    <tr>\n",
       "      <td>PayOff</td>\n",
       "      <td>999.00</td>\n",
       "      <td>999.00</td>\n",
       "      <td>59.00</td>\n",
       "      <td>\\cellcolor{green!25}34.00</td>\n",
       "      <td>999.00</td>\n",
       "      <td>999.00</td>\n",
       "      <td>-</td>\n",
       "    </tr>\n",
       "    <tr>\n",
       "      <td>Convergence</td>\n",
       "      <td>-</td>\n",
       "      <td>-</td>\n",
       "      <td>*</td>\n",
       "      <td>*</td>\n",
       "      <td>58.00</td>\n",
       "      <td>\\cellcolor{green!25}41.00</td>\n",
       "      <td>-</td>\n",
       "    </tr>\n",
       "    <tr>\n",
       "      <td>Robustness</td>\n",
       "      <td>-</td>\n",
       "      <td>-</td>\n",
       "      <td>5.00</td>\n",
       "      <td>0.80</td>\n",
       "      <td>\\cellcolor{green!25}0.01</td>\n",
       "      <td>0.02</td>\n",
       "      <td>-</td>\n",
       "    </tr>\n",
       "    <tr>\n",
       "      <td>Time</td>\n",
       "      <td>720.93</td>\n",
       "      <td>715.85</td>\n",
       "      <td>373.57</td>\n",
       "      <td>\\cellcolor{green!25}209.99</td>\n",
       "      <td>732.22</td>\n",
       "      <td>734.98</td>\n",
       "      <td>696.80</td>\n",
       "    </tr>\n",
       "  </tbody>\n",
       "</table>\n",
       "</div>"
      ],
      "text/plain": [
       "                       MedKD   AvgKD                          Q  \\\n",
       "Unif(2)  First Query    8.85    4.72                       1.61   \n",
       "         PayOff        39.00   19.00                      13.00   \n",
       "         Convergence       -       -                          *   \n",
       "         Robustness        -       -                       0.06   \n",
       "         Time          10.42    6.27                       5.70   \n",
       "Unif(4)  First Query    9.54    5.38                       1.58   \n",
       "         PayOff        27.00   14.00                       9.00   \n",
       "         Convergence       -       -                          *   \n",
       "         Robustness        -       -                       0.06   \n",
       "         Time          17.36   13.16  \\cellcolor{green!25}12.10   \n",
       "Unif(8)  First Query   11.16    7.07                       2.90   \n",
       "         PayOff        23.00   14.00                      12.00   \n",
       "         Convergence       -       -                          *   \n",
       "         Robustness        -       -                       0.20   \n",
       "         Time          98.60   94.30                      83.29   \n",
       "Unif(16) First Query   26.79   22.05                      15.67   \n",
       "         PayOff       999.00  999.00                      59.00   \n",
       "         Convergence       -       -                          *   \n",
       "         Robustness        -       -                       5.00   \n",
       "         Time         720.93  715.85                     373.57   \n",
       "\n",
       "                                             AKD                   PKD(.2)  \\\n",
       "Unif(2)  First Query                        0.47                      0.31   \n",
       "         PayOff         \\cellcolor{green!25}3.00                      6.00   \n",
       "         Convergence                           *                     51.00   \n",
       "         Robustness                         0.01                      0.00   \n",
       "         Time           \\cellcolor{green!25}5.02                      7.17   \n",
       "Unif(4)  First Query                        0.83  \\cellcolor{green!25}0.48   \n",
       "         PayOff         \\cellcolor{green!25}6.00                     11.00   \n",
       "         Convergence                           *                     51.00   \n",
       "         Robustness                         0.02                      0.01   \n",
       "         Time                              12.86                     16.51   \n",
       "Unif(8)  First Query                        1.73                      0.82   \n",
       "         PayOff         \\cellcolor{green!25}7.00                     34.00   \n",
       "         Convergence                           *                     51.00   \n",
       "         Robustness                         0.09                      0.03   \n",
       "         Time          \\cellcolor{green!25}63.21                    106.72   \n",
       "Unif(16) First Query                        6.12  \\cellcolor{green!25}1.27   \n",
       "         PayOff        \\cellcolor{green!25}34.00                    999.00   \n",
       "         Convergence                           *                     58.00   \n",
       "         Robustness                         0.80  \\cellcolor{green!25}0.01   \n",
       "         Time         \\cellcolor{green!25}209.99                    732.22   \n",
       "\n",
       "                                       GPKD(.2)      FS  \n",
       "Unif(2)  First Query   \\cellcolor{green!25}0.30    0.26  \n",
       "         PayOff                           20.00       -  \n",
       "         Convergence  \\cellcolor{green!25}16.00       -  \n",
       "         Robustness    \\cellcolor{green!25}0.00       -  \n",
       "         Time                              6.36  226.58  \n",
       "Unif(4)  First Query                       0.49    0.35  \n",
       "         PayOff                           18.00       -  \n",
       "         Convergence  \\cellcolor{green!25}15.00       -  \n",
       "         Robustness    \\cellcolor{green!25}0.00       -  \n",
       "         Time                             15.07  357.30  \n",
       "Unif(8)  First Query   \\cellcolor{green!25}0.81    0.56  \n",
       "         PayOff                           26.00       -  \n",
       "         Convergence  \\cellcolor{green!25}18.00       -  \n",
       "         Robustness    \\cellcolor{green!25}0.00       -  \n",
       "         Time                            104.08  531.95  \n",
       "Unif(16) First Query   \\cellcolor{green!25}1.27    0.71  \n",
       "         PayOff                          999.00       -  \n",
       "         Convergence  \\cellcolor{green!25}41.00       -  \n",
       "         Robustness                        0.02       -  \n",
       "         Time                            734.98  696.80  "
      ]
     },
     "execution_count": 405,
     "metadata": {},
     "output_type": "execute_result"
    }
   ],
   "source": [
    "exps = []\n",
    "\n",
    "for i in [2, 4, 8, 16]:\n",
    "    exps.append(f'Uniform{i}')\n",
    "\n",
    "a = metrics(exps, [\n",
    "        'MedianKDTree',\n",
    "        'AverageKDTree',\n",
    "        'Quasii',\n",
    "        'CrackingKDTree',\n",
    "        'ProgressiveIndex',\n",
    "        'ProgressiveIndexCostModel',\n",
    "        'FullScan',\n",
    "])\n",
    "latex = pandas_to_latex(a, 'min', ignore_last=True)\n",
    "for exp in exps:\n",
    "    latex = latex.replace(experiments[exp]['name'], \"\\\\rotatebox[origin=c]{90}{%s}\" % experiments[exp]['name'])\n",
    "print(latex)\n",
    "a"
   ]
  },
  {
   "cell_type": "markdown",
   "metadata": {},
   "source": [
    "# First Query"
   ]
  },
  {
   "cell_type": "code",
   "execution_count": 416,
   "metadata": {},
   "outputs": [
    {
     "data": {
      "application/vnd.plotly.v1+json": {
       "config": {
        "plotlyServerURL": "https://plot.ly"
       },
       "data": [
        {
         "marker": {
          "color": "rgba(168, 50, 119, 1)",
          "size": 18,
          "symbol": "circle"
         },
         "mode": "lines+markers",
         "name": "8 cols",
         "type": "scatter",
         "x": [
          0.1,
          0.2,
          0.3,
          0.4,
          0.5,
          0.6,
          0.7,
          0.8,
          0.9,
          1
         ],
         "y": [
          0.6465540000000001,
          0.820484,
          1.003824,
          1.175114,
          1.372622,
          1.518174,
          1.704782,
          1.8603779999999999,
          2.0292470000000002,
          2.2574579999999997
         ]
        },
        {
         "marker": {
          "color": "rgba(168, 50, 119, 1)",
          "size": 18,
          "symbol": "circle"
         },
         "mode": "markers",
         "name": "8FullScan",
         "showlegend": false,
         "type": "scatter",
         "x": [
          0
         ],
         "y": [
          0.557766
         ]
        },
        {
         "marker": {
          "color": "rgba(168, 50, 119, 1)",
          "size": 18,
          "symbol": "circle"
         },
         "mode": "markers",
         "name": "8AKD",
         "showlegend": false,
         "type": "scatter",
         "x": [
          -0.1
         ],
         "y": [
          1.732543
         ]
        },
        {
         "marker": {
          "color": "rgba(168, 50, 119, 1)",
          "size": 18,
          "symbol": "circle"
         },
         "mode": "markers",
         "name": "8Quasii",
         "showlegend": false,
         "type": "scatter",
         "x": [
          -0.2
         ],
         "y": [
          2.902241
         ]
        },
        {
         "marker": {
          "color": "rgba(235, 7, 7, 1)",
          "size": 18,
          "symbol": "square"
         },
         "mode": "lines+markers",
         "name": "6 cols",
         "type": "scatter",
         "x": [
          0.1,
          0.2,
          0.3,
          0.4,
          0.5,
          0.6,
          0.7,
          0.8,
          0.9,
          1
         ],
         "y": [
          0.545354,
          0.6814370000000001,
          0.8105260000000001,
          0.925521,
          1.0550929999999998,
          1.2045180000000002,
          1.324647,
          1.454514,
          1.582071,
          1.723035
         ]
        },
        {
         "marker": {
          "color": "rgba(235, 7, 7, 1)",
          "size": 18,
          "symbol": "square"
         },
         "mode": "markers",
         "name": "6FullScan",
         "showlegend": false,
         "type": "scatter",
         "x": [
          0
         ],
         "y": [
          0.46291400000000005
         ]
        },
        {
         "marker": {
          "color": "rgba(235, 7, 7, 1)",
          "size": 18,
          "symbol": "square"
         },
         "mode": "markers",
         "name": "6AKD",
         "showlegend": false,
         "type": "scatter",
         "x": [
          -0.1
         ],
         "y": [
          1.301458
         ]
        },
        {
         "marker": {
          "color": "rgba(235, 7, 7, 1)",
          "size": 18,
          "symbol": "square"
         },
         "mode": "markers",
         "name": "6Quasii",
         "showlegend": false,
         "type": "scatter",
         "x": [
          -0.2
         ],
         "y": [
          2.119992
         ]
        },
        {
         "marker": {
          "color": "rgba(54, 50, 168, 1)",
          "size": 18,
          "symbol": "x"
         },
         "mode": "lines+markers",
         "name": "4 cols",
         "type": "scatter",
         "x": [
          0.1,
          0.2,
          0.3,
          0.4,
          0.5,
          0.6,
          0.7,
          0.8,
          0.9,
          1
         ],
         "y": [
          0.410698,
          0.481155,
          0.582088,
          0.678834,
          0.791281,
          0.872518,
          0.976126,
          1.067897,
          1.18829,
          1.278736
         ]
        },
        {
         "marker": {
          "color": "rgba(54, 50, 168, 1)",
          "size": 18,
          "symbol": "x"
         },
         "mode": "markers",
         "name": "4FullScan",
         "showlegend": false,
         "type": "scatter",
         "x": [
          0
         ],
         "y": [
          0.353272
         ]
        },
        {
         "marker": {
          "color": "rgba(54, 50, 168, 1)",
          "size": 18,
          "symbol": "x"
         },
         "mode": "markers",
         "name": "4AKD",
         "showlegend": false,
         "type": "scatter",
         "x": [
          -0.1
         ],
         "y": [
          0.834193
         ]
        },
        {
         "marker": {
          "color": "rgba(54, 50, 168, 1)",
          "size": 18,
          "symbol": "x"
         },
         "mode": "markers",
         "name": "4Quasii",
         "showlegend": false,
         "type": "scatter",
         "x": [
          -0.2
         ],
         "y": [
          1.58025
         ]
        },
        {
         "marker": {
          "color": "rgba(1, 140, 22, 1)",
          "size": 18,
          "symbol": "star"
         },
         "mode": "lines+markers",
         "name": "2 cols",
         "type": "scatter",
         "x": [
          0.1,
          0.2,
          0.3,
          0.4,
          0.5,
          0.6,
          0.7,
          0.8,
          0.9,
          1
         ],
         "y": [
          0.264899,
          0.30954299999999996,
          0.344362,
          0.379595,
          0.418719,
          0.45938500000000004,
          0.500852,
          0.538124,
          0.577188,
          0.616386
         ]
        },
        {
         "marker": {
          "color": "rgba(1, 140, 22, 1)",
          "size": 18,
          "symbol": "star"
         },
         "mode": "markers",
         "name": "2FullScan",
         "showlegend": false,
         "type": "scatter",
         "x": [
          0
         ],
         "y": [
          0.261219
         ]
        },
        {
         "marker": {
          "color": "rgba(1, 140, 22, 1)",
          "size": 18,
          "symbol": "star"
         },
         "mode": "markers",
         "name": "2AKD",
         "showlegend": false,
         "type": "scatter",
         "x": [
          -0.1
         ],
         "y": [
          0.46905699999999995
         ]
        },
        {
         "marker": {
          "color": "rgba(1, 140, 22, 1)",
          "size": 18,
          "symbol": "star"
         },
         "mode": "markers",
         "name": "2Quasii",
         "showlegend": false,
         "type": "scatter",
         "x": [
          -0.2
         ],
         "y": [
          1.614749
         ]
        }
       ],
       "layout": {
        "font": {
         "size": 42
        },
        "legend": {
         "font": {
          "color": "black",
          "size": 30
         }
        },
        "plot_bgcolor": "rgba(0,0,0,0)",
        "shapes": [
         {
          "opacity": 0.1,
          "type": "line",
          "x0": 0.2,
          "x1": 0.2,
          "y0": 0,
          "y1": 1,
          "yref": "paper"
         }
        ],
        "showlegend": true,
        "template": {
         "data": {
          "bar": [
           {
            "error_x": {
             "color": "#2a3f5f"
            },
            "error_y": {
             "color": "#2a3f5f"
            },
            "marker": {
             "line": {
              "color": "#E5ECF6",
              "width": 0.5
             }
            },
            "type": "bar"
           }
          ],
          "barpolar": [
           {
            "marker": {
             "line": {
              "color": "#E5ECF6",
              "width": 0.5
             }
            },
            "type": "barpolar"
           }
          ],
          "carpet": [
           {
            "aaxis": {
             "endlinecolor": "#2a3f5f",
             "gridcolor": "white",
             "linecolor": "white",
             "minorgridcolor": "white",
             "startlinecolor": "#2a3f5f"
            },
            "baxis": {
             "endlinecolor": "#2a3f5f",
             "gridcolor": "white",
             "linecolor": "white",
             "minorgridcolor": "white",
             "startlinecolor": "#2a3f5f"
            },
            "type": "carpet"
           }
          ],
          "choropleth": [
           {
            "colorbar": {
             "outlinewidth": 0,
             "ticks": ""
            },
            "type": "choropleth"
           }
          ],
          "contour": [
           {
            "colorbar": {
             "outlinewidth": 0,
             "ticks": ""
            },
            "colorscale": [
             [
              0,
              "#0d0887"
             ],
             [
              0.1111111111111111,
              "#46039f"
             ],
             [
              0.2222222222222222,
              "#7201a8"
             ],
             [
              0.3333333333333333,
              "#9c179e"
             ],
             [
              0.4444444444444444,
              "#bd3786"
             ],
             [
              0.5555555555555556,
              "#d8576b"
             ],
             [
              0.6666666666666666,
              "#ed7953"
             ],
             [
              0.7777777777777778,
              "#fb9f3a"
             ],
             [
              0.8888888888888888,
              "#fdca26"
             ],
             [
              1,
              "#f0f921"
             ]
            ],
            "type": "contour"
           }
          ],
          "contourcarpet": [
           {
            "colorbar": {
             "outlinewidth": 0,
             "ticks": ""
            },
            "type": "contourcarpet"
           }
          ],
          "heatmap": [
           {
            "colorbar": {
             "outlinewidth": 0,
             "ticks": ""
            },
            "colorscale": [
             [
              0,
              "#0d0887"
             ],
             [
              0.1111111111111111,
              "#46039f"
             ],
             [
              0.2222222222222222,
              "#7201a8"
             ],
             [
              0.3333333333333333,
              "#9c179e"
             ],
             [
              0.4444444444444444,
              "#bd3786"
             ],
             [
              0.5555555555555556,
              "#d8576b"
             ],
             [
              0.6666666666666666,
              "#ed7953"
             ],
             [
              0.7777777777777778,
              "#fb9f3a"
             ],
             [
              0.8888888888888888,
              "#fdca26"
             ],
             [
              1,
              "#f0f921"
             ]
            ],
            "type": "heatmap"
           }
          ],
          "heatmapgl": [
           {
            "colorbar": {
             "outlinewidth": 0,
             "ticks": ""
            },
            "colorscale": [
             [
              0,
              "#0d0887"
             ],
             [
              0.1111111111111111,
              "#46039f"
             ],
             [
              0.2222222222222222,
              "#7201a8"
             ],
             [
              0.3333333333333333,
              "#9c179e"
             ],
             [
              0.4444444444444444,
              "#bd3786"
             ],
             [
              0.5555555555555556,
              "#d8576b"
             ],
             [
              0.6666666666666666,
              "#ed7953"
             ],
             [
              0.7777777777777778,
              "#fb9f3a"
             ],
             [
              0.8888888888888888,
              "#fdca26"
             ],
             [
              1,
              "#f0f921"
             ]
            ],
            "type": "heatmapgl"
           }
          ],
          "histogram": [
           {
            "marker": {
             "colorbar": {
              "outlinewidth": 0,
              "ticks": ""
             }
            },
            "type": "histogram"
           }
          ],
          "histogram2d": [
           {
            "colorbar": {
             "outlinewidth": 0,
             "ticks": ""
            },
            "colorscale": [
             [
              0,
              "#0d0887"
             ],
             [
              0.1111111111111111,
              "#46039f"
             ],
             [
              0.2222222222222222,
              "#7201a8"
             ],
             [
              0.3333333333333333,
              "#9c179e"
             ],
             [
              0.4444444444444444,
              "#bd3786"
             ],
             [
              0.5555555555555556,
              "#d8576b"
             ],
             [
              0.6666666666666666,
              "#ed7953"
             ],
             [
              0.7777777777777778,
              "#fb9f3a"
             ],
             [
              0.8888888888888888,
              "#fdca26"
             ],
             [
              1,
              "#f0f921"
             ]
            ],
            "type": "histogram2d"
           }
          ],
          "histogram2dcontour": [
           {
            "colorbar": {
             "outlinewidth": 0,
             "ticks": ""
            },
            "colorscale": [
             [
              0,
              "#0d0887"
             ],
             [
              0.1111111111111111,
              "#46039f"
             ],
             [
              0.2222222222222222,
              "#7201a8"
             ],
             [
              0.3333333333333333,
              "#9c179e"
             ],
             [
              0.4444444444444444,
              "#bd3786"
             ],
             [
              0.5555555555555556,
              "#d8576b"
             ],
             [
              0.6666666666666666,
              "#ed7953"
             ],
             [
              0.7777777777777778,
              "#fb9f3a"
             ],
             [
              0.8888888888888888,
              "#fdca26"
             ],
             [
              1,
              "#f0f921"
             ]
            ],
            "type": "histogram2dcontour"
           }
          ],
          "mesh3d": [
           {
            "colorbar": {
             "outlinewidth": 0,
             "ticks": ""
            },
            "type": "mesh3d"
           }
          ],
          "parcoords": [
           {
            "line": {
             "colorbar": {
              "outlinewidth": 0,
              "ticks": ""
             }
            },
            "type": "parcoords"
           }
          ],
          "scatter": [
           {
            "marker": {
             "colorbar": {
              "outlinewidth": 0,
              "ticks": ""
             }
            },
            "type": "scatter"
           }
          ],
          "scatter3d": [
           {
            "line": {
             "colorbar": {
              "outlinewidth": 0,
              "ticks": ""
             }
            },
            "marker": {
             "colorbar": {
              "outlinewidth": 0,
              "ticks": ""
             }
            },
            "type": "scatter3d"
           }
          ],
          "scattercarpet": [
           {
            "marker": {
             "colorbar": {
              "outlinewidth": 0,
              "ticks": ""
             }
            },
            "type": "scattercarpet"
           }
          ],
          "scattergeo": [
           {
            "marker": {
             "colorbar": {
              "outlinewidth": 0,
              "ticks": ""
             }
            },
            "type": "scattergeo"
           }
          ],
          "scattergl": [
           {
            "marker": {
             "colorbar": {
              "outlinewidth": 0,
              "ticks": ""
             }
            },
            "type": "scattergl"
           }
          ],
          "scattermapbox": [
           {
            "marker": {
             "colorbar": {
              "outlinewidth": 0,
              "ticks": ""
             }
            },
            "type": "scattermapbox"
           }
          ],
          "scatterpolar": [
           {
            "marker": {
             "colorbar": {
              "outlinewidth": 0,
              "ticks": ""
             }
            },
            "type": "scatterpolar"
           }
          ],
          "scatterpolargl": [
           {
            "marker": {
             "colorbar": {
              "outlinewidth": 0,
              "ticks": ""
             }
            },
            "type": "scatterpolargl"
           }
          ],
          "scatterternary": [
           {
            "marker": {
             "colorbar": {
              "outlinewidth": 0,
              "ticks": ""
             }
            },
            "type": "scatterternary"
           }
          ],
          "surface": [
           {
            "colorbar": {
             "outlinewidth": 0,
             "ticks": ""
            },
            "colorscale": [
             [
              0,
              "#0d0887"
             ],
             [
              0.1111111111111111,
              "#46039f"
             ],
             [
              0.2222222222222222,
              "#7201a8"
             ],
             [
              0.3333333333333333,
              "#9c179e"
             ],
             [
              0.4444444444444444,
              "#bd3786"
             ],
             [
              0.5555555555555556,
              "#d8576b"
             ],
             [
              0.6666666666666666,
              "#ed7953"
             ],
             [
              0.7777777777777778,
              "#fb9f3a"
             ],
             [
              0.8888888888888888,
              "#fdca26"
             ],
             [
              1,
              "#f0f921"
             ]
            ],
            "type": "surface"
           }
          ],
          "table": [
           {
            "cells": {
             "fill": {
              "color": "#EBF0F8"
             },
             "line": {
              "color": "white"
             }
            },
            "header": {
             "fill": {
              "color": "#C8D4E3"
             },
             "line": {
              "color": "white"
             }
            },
            "type": "table"
           }
          ]
         },
         "layout": {
          "annotationdefaults": {
           "arrowcolor": "#2a3f5f",
           "arrowhead": 0,
           "arrowwidth": 1
          },
          "colorscale": {
           "diverging": [
            [
             0,
             "#8e0152"
            ],
            [
             0.1,
             "#c51b7d"
            ],
            [
             0.2,
             "#de77ae"
            ],
            [
             0.3,
             "#f1b6da"
            ],
            [
             0.4,
             "#fde0ef"
            ],
            [
             0.5,
             "#f7f7f7"
            ],
            [
             0.6,
             "#e6f5d0"
            ],
            [
             0.7,
             "#b8e186"
            ],
            [
             0.8,
             "#7fbc41"
            ],
            [
             0.9,
             "#4d9221"
            ],
            [
             1,
             "#276419"
            ]
           ],
           "sequential": [
            [
             0,
             "#0d0887"
            ],
            [
             0.1111111111111111,
             "#46039f"
            ],
            [
             0.2222222222222222,
             "#7201a8"
            ],
            [
             0.3333333333333333,
             "#9c179e"
            ],
            [
             0.4444444444444444,
             "#bd3786"
            ],
            [
             0.5555555555555556,
             "#d8576b"
            ],
            [
             0.6666666666666666,
             "#ed7953"
            ],
            [
             0.7777777777777778,
             "#fb9f3a"
            ],
            [
             0.8888888888888888,
             "#fdca26"
            ],
            [
             1,
             "#f0f921"
            ]
           ],
           "sequentialminus": [
            [
             0,
             "#0d0887"
            ],
            [
             0.1111111111111111,
             "#46039f"
            ],
            [
             0.2222222222222222,
             "#7201a8"
            ],
            [
             0.3333333333333333,
             "#9c179e"
            ],
            [
             0.4444444444444444,
             "#bd3786"
            ],
            [
             0.5555555555555556,
             "#d8576b"
            ],
            [
             0.6666666666666666,
             "#ed7953"
            ],
            [
             0.7777777777777778,
             "#fb9f3a"
            ],
            [
             0.8888888888888888,
             "#fdca26"
            ],
            [
             1,
             "#f0f921"
            ]
           ]
          },
          "colorway": [
           "#636efa",
           "#EF553B",
           "#00cc96",
           "#ab63fa",
           "#FFA15A",
           "#19d3f3",
           "#FF6692",
           "#B6E880",
           "#FF97FF",
           "#FECB52"
          ],
          "font": {
           "color": "#2a3f5f"
          },
          "geo": {
           "bgcolor": "white",
           "lakecolor": "white",
           "landcolor": "#E5ECF6",
           "showlakes": true,
           "showland": true,
           "subunitcolor": "white"
          },
          "hoverlabel": {
           "align": "left"
          },
          "hovermode": "closest",
          "mapbox": {
           "style": "light"
          },
          "paper_bgcolor": "white",
          "plot_bgcolor": "#E5ECF6",
          "polar": {
           "angularaxis": {
            "gridcolor": "white",
            "linecolor": "white",
            "ticks": ""
           },
           "bgcolor": "#E5ECF6",
           "radialaxis": {
            "gridcolor": "white",
            "linecolor": "white",
            "ticks": ""
           }
          },
          "scene": {
           "xaxis": {
            "backgroundcolor": "#E5ECF6",
            "gridcolor": "white",
            "gridwidth": 2,
            "linecolor": "white",
            "showbackground": true,
            "ticks": "",
            "zerolinecolor": "white"
           },
           "yaxis": {
            "backgroundcolor": "#E5ECF6",
            "gridcolor": "white",
            "gridwidth": 2,
            "linecolor": "white",
            "showbackground": true,
            "ticks": "",
            "zerolinecolor": "white"
           },
           "zaxis": {
            "backgroundcolor": "#E5ECF6",
            "gridcolor": "white",
            "gridwidth": 2,
            "linecolor": "white",
            "showbackground": true,
            "ticks": "",
            "zerolinecolor": "white"
           }
          },
          "shapedefaults": {
           "line": {
            "color": "#2a3f5f"
           }
          },
          "ternary": {
           "aaxis": {
            "gridcolor": "white",
            "linecolor": "white",
            "ticks": ""
           },
           "baxis": {
            "gridcolor": "white",
            "linecolor": "white",
            "ticks": ""
           },
           "bgcolor": "#E5ECF6",
           "caxis": {
            "gridcolor": "white",
            "linecolor": "white",
            "ticks": ""
           }
          },
          "title": {
           "x": 0.05
          },
          "xaxis": {
           "automargin": true,
           "gridcolor": "white",
           "linecolor": "white",
           "ticks": "",
           "zerolinecolor": "white",
           "zerolinewidth": 2
          },
          "yaxis": {
           "automargin": true,
           "gridcolor": "white",
           "linecolor": "white",
           "ticks": "",
           "zerolinecolor": "white",
           "zerolinewidth": 2
          }
         }
        },
        "xaxis": {
         "linecolor": "black",
         "linewidth": 2,
         "showline": true,
         "tickangle": 45,
         "ticklen": 5,
         "tickmode": "array",
         "ticks": "inside",
         "ticktext": [
          "Q",
          "AKD",
          "FS",
          0.1,
          0.2,
          0.3,
          0.4,
          0.5,
          0.6,
          0.7,
          0.8,
          0.9,
          1
         ],
         "tickvals": [
          -0.2,
          -0.1,
          0,
          0.1,
          0.2,
          0.3,
          0.4,
          0.5,
          0.6,
          0.7,
          0.8,
          0.9,
          1
         ],
         "title": {
          "text": "(PKD)Delta"
         },
         "zeroline": true
        },
        "yaxis": {
         "gridcolor": "lightgrey",
         "gridwidth": 1,
         "linecolor": "black",
         "linewidth": 2,
         "showgrid": true,
         "showline": true,
         "ticklen": 5,
         "ticks": "inside",
         "title": {
          "text": "First Query Cost [s]"
         },
         "zeroline": true
        }
       }
      },
      "text/html": [
       "<div>\n",
       "        \n",
       "        \n",
       "            <div id=\"bcc779c0-7f6f-40d5-9695-0f6d4061f20b\" class=\"plotly-graph-div\" style=\"height:525px; width:100%;\"></div>\n",
       "            <script type=\"text/javascript\">\n",
       "                require([\"plotly\"], function(Plotly) {\n",
       "                    window.PLOTLYENV=window.PLOTLYENV || {};\n",
       "                    \n",
       "                if (document.getElementById(\"bcc779c0-7f6f-40d5-9695-0f6d4061f20b\")) {\n",
       "                    Plotly.newPlot(\n",
       "                        'bcc779c0-7f6f-40d5-9695-0f6d4061f20b',\n",
       "                        [{\"marker\": {\"color\": \"rgba(168, 50, 119, 1)\", \"size\": 18, \"symbol\": \"circle\"}, \"mode\": \"lines+markers\", \"name\": \"8 cols\", \"type\": \"scatter\", \"x\": [0.1, 0.2, 0.3, 0.4, 0.5, 0.6, 0.7, 0.8, 0.9, 1], \"y\": [0.6465540000000001, 0.820484, 1.003824, 1.175114, 1.372622, 1.518174, 1.704782, 1.8603779999999999, 2.0292470000000002, 2.2574579999999997]}, {\"marker\": {\"color\": \"rgba(168, 50, 119, 1)\", \"size\": 18, \"symbol\": \"circle\"}, \"mode\": \"markers\", \"name\": \"8FullScan\", \"showlegend\": false, \"type\": \"scatter\", \"x\": [-0.0], \"y\": [0.557766]}, {\"marker\": {\"color\": \"rgba(168, 50, 119, 1)\", \"size\": 18, \"symbol\": \"circle\"}, \"mode\": \"markers\", \"name\": \"8AKD\", \"showlegend\": false, \"type\": \"scatter\", \"x\": [-0.1], \"y\": [1.732543]}, {\"marker\": {\"color\": \"rgba(168, 50, 119, 1)\", \"size\": 18, \"symbol\": \"circle\"}, \"mode\": \"markers\", \"name\": \"8Quasii\", \"showlegend\": false, \"type\": \"scatter\", \"x\": [-0.2], \"y\": [2.902241]}, {\"marker\": {\"color\": \"rgba(235, 7, 7, 1)\", \"size\": 18, \"symbol\": \"square\"}, \"mode\": \"lines+markers\", \"name\": \"6 cols\", \"type\": \"scatter\", \"x\": [0.1, 0.2, 0.3, 0.4, 0.5, 0.6, 0.7, 0.8, 0.9, 1], \"y\": [0.545354, 0.6814370000000001, 0.8105260000000001, 0.925521, 1.0550929999999998, 1.2045180000000002, 1.324647, 1.454514, 1.582071, 1.723035]}, {\"marker\": {\"color\": \"rgba(235, 7, 7, 1)\", \"size\": 18, \"symbol\": \"square\"}, \"mode\": \"markers\", \"name\": \"6FullScan\", \"showlegend\": false, \"type\": \"scatter\", \"x\": [-0.0], \"y\": [0.46291400000000005]}, {\"marker\": {\"color\": \"rgba(235, 7, 7, 1)\", \"size\": 18, \"symbol\": \"square\"}, \"mode\": \"markers\", \"name\": \"6AKD\", \"showlegend\": false, \"type\": \"scatter\", \"x\": [-0.1], \"y\": [1.301458]}, {\"marker\": {\"color\": \"rgba(235, 7, 7, 1)\", \"size\": 18, \"symbol\": \"square\"}, \"mode\": \"markers\", \"name\": \"6Quasii\", \"showlegend\": false, \"type\": \"scatter\", \"x\": [-0.2], \"y\": [2.119992]}, {\"marker\": {\"color\": \"rgba(54, 50, 168, 1)\", \"size\": 18, \"symbol\": \"x\"}, \"mode\": \"lines+markers\", \"name\": \"4 cols\", \"type\": \"scatter\", \"x\": [0.1, 0.2, 0.3, 0.4, 0.5, 0.6, 0.7, 0.8, 0.9, 1], \"y\": [0.410698, 0.481155, 0.582088, 0.678834, 0.791281, 0.872518, 0.976126, 1.067897, 1.18829, 1.278736]}, {\"marker\": {\"color\": \"rgba(54, 50, 168, 1)\", \"size\": 18, \"symbol\": \"x\"}, \"mode\": \"markers\", \"name\": \"4FullScan\", \"showlegend\": false, \"type\": \"scatter\", \"x\": [-0.0], \"y\": [0.353272]}, {\"marker\": {\"color\": \"rgba(54, 50, 168, 1)\", \"size\": 18, \"symbol\": \"x\"}, \"mode\": \"markers\", \"name\": \"4AKD\", \"showlegend\": false, \"type\": \"scatter\", \"x\": [-0.1], \"y\": [0.834193]}, {\"marker\": {\"color\": \"rgba(54, 50, 168, 1)\", \"size\": 18, \"symbol\": \"x\"}, \"mode\": \"markers\", \"name\": \"4Quasii\", \"showlegend\": false, \"type\": \"scatter\", \"x\": [-0.2], \"y\": [1.58025]}, {\"marker\": {\"color\": \"rgba(1, 140, 22, 1)\", \"size\": 18, \"symbol\": \"star\"}, \"mode\": \"lines+markers\", \"name\": \"2 cols\", \"type\": \"scatter\", \"x\": [0.1, 0.2, 0.3, 0.4, 0.5, 0.6, 0.7, 0.8, 0.9, 1], \"y\": [0.264899, 0.30954299999999996, 0.344362, 0.379595, 0.418719, 0.45938500000000004, 0.500852, 0.538124, 0.577188, 0.616386]}, {\"marker\": {\"color\": \"rgba(1, 140, 22, 1)\", \"size\": 18, \"symbol\": \"star\"}, \"mode\": \"markers\", \"name\": \"2FullScan\", \"showlegend\": false, \"type\": \"scatter\", \"x\": [-0.0], \"y\": [0.261219]}, {\"marker\": {\"color\": \"rgba(1, 140, 22, 1)\", \"size\": 18, \"symbol\": \"star\"}, \"mode\": \"markers\", \"name\": \"2AKD\", \"showlegend\": false, \"type\": \"scatter\", \"x\": [-0.1], \"y\": [0.46905699999999995]}, {\"marker\": {\"color\": \"rgba(1, 140, 22, 1)\", \"size\": 18, \"symbol\": \"star\"}, \"mode\": \"markers\", \"name\": \"2Quasii\", \"showlegend\": false, \"type\": \"scatter\", \"x\": [-0.2], \"y\": [1.614749]}],\n",
       "                        {\"font\": {\"size\": 42}, \"legend\": {\"font\": {\"color\": \"black\", \"size\": 30}}, \"plot_bgcolor\": \"rgba(0,0,0,0)\", \"shapes\": [{\"opacity\": 0.1, \"type\": \"line\", \"x0\": 0.2, \"x1\": 0.2, \"y0\": 0, \"y1\": 1, \"yref\": \"paper\"}], \"showlegend\": true, \"template\": {\"data\": {\"bar\": [{\"error_x\": {\"color\": \"#2a3f5f\"}, \"error_y\": {\"color\": \"#2a3f5f\"}, \"marker\": {\"line\": {\"color\": \"#E5ECF6\", \"width\": 0.5}}, \"type\": \"bar\"}], \"barpolar\": [{\"marker\": {\"line\": {\"color\": \"#E5ECF6\", \"width\": 0.5}}, \"type\": \"barpolar\"}], \"carpet\": [{\"aaxis\": {\"endlinecolor\": \"#2a3f5f\", \"gridcolor\": \"white\", \"linecolor\": \"white\", \"minorgridcolor\": \"white\", \"startlinecolor\": \"#2a3f5f\"}, \"baxis\": {\"endlinecolor\": \"#2a3f5f\", \"gridcolor\": \"white\", \"linecolor\": \"white\", \"minorgridcolor\": \"white\", \"startlinecolor\": \"#2a3f5f\"}, \"type\": \"carpet\"}], \"choropleth\": [{\"colorbar\": {\"outlinewidth\": 0, \"ticks\": \"\"}, \"type\": \"choropleth\"}], \"contour\": [{\"colorbar\": {\"outlinewidth\": 0, \"ticks\": \"\"}, \"colorscale\": [[0.0, \"#0d0887\"], [0.1111111111111111, \"#46039f\"], [0.2222222222222222, \"#7201a8\"], [0.3333333333333333, \"#9c179e\"], [0.4444444444444444, \"#bd3786\"], [0.5555555555555556, \"#d8576b\"], [0.6666666666666666, \"#ed7953\"], [0.7777777777777778, \"#fb9f3a\"], [0.8888888888888888, \"#fdca26\"], [1.0, \"#f0f921\"]], \"type\": \"contour\"}], \"contourcarpet\": [{\"colorbar\": {\"outlinewidth\": 0, \"ticks\": \"\"}, \"type\": \"contourcarpet\"}], \"heatmap\": [{\"colorbar\": {\"outlinewidth\": 0, \"ticks\": \"\"}, \"colorscale\": [[0.0, \"#0d0887\"], [0.1111111111111111, \"#46039f\"], [0.2222222222222222, \"#7201a8\"], [0.3333333333333333, \"#9c179e\"], [0.4444444444444444, \"#bd3786\"], [0.5555555555555556, \"#d8576b\"], [0.6666666666666666, \"#ed7953\"], [0.7777777777777778, \"#fb9f3a\"], [0.8888888888888888, \"#fdca26\"], [1.0, \"#f0f921\"]], \"type\": \"heatmap\"}], \"heatmapgl\": [{\"colorbar\": {\"outlinewidth\": 0, \"ticks\": \"\"}, \"colorscale\": [[0.0, \"#0d0887\"], [0.1111111111111111, \"#46039f\"], [0.2222222222222222, \"#7201a8\"], [0.3333333333333333, \"#9c179e\"], [0.4444444444444444, \"#bd3786\"], [0.5555555555555556, \"#d8576b\"], [0.6666666666666666, \"#ed7953\"], [0.7777777777777778, \"#fb9f3a\"], [0.8888888888888888, \"#fdca26\"], [1.0, \"#f0f921\"]], \"type\": \"heatmapgl\"}], \"histogram\": [{\"marker\": {\"colorbar\": {\"outlinewidth\": 0, \"ticks\": \"\"}}, \"type\": \"histogram\"}], \"histogram2d\": [{\"colorbar\": {\"outlinewidth\": 0, \"ticks\": \"\"}, \"colorscale\": [[0.0, \"#0d0887\"], [0.1111111111111111, \"#46039f\"], [0.2222222222222222, \"#7201a8\"], [0.3333333333333333, \"#9c179e\"], [0.4444444444444444, \"#bd3786\"], [0.5555555555555556, \"#d8576b\"], [0.6666666666666666, \"#ed7953\"], [0.7777777777777778, \"#fb9f3a\"], [0.8888888888888888, \"#fdca26\"], [1.0, \"#f0f921\"]], \"type\": \"histogram2d\"}], \"histogram2dcontour\": [{\"colorbar\": {\"outlinewidth\": 0, \"ticks\": \"\"}, \"colorscale\": [[0.0, \"#0d0887\"], [0.1111111111111111, \"#46039f\"], [0.2222222222222222, \"#7201a8\"], [0.3333333333333333, \"#9c179e\"], [0.4444444444444444, \"#bd3786\"], [0.5555555555555556, \"#d8576b\"], [0.6666666666666666, \"#ed7953\"], [0.7777777777777778, \"#fb9f3a\"], [0.8888888888888888, \"#fdca26\"], [1.0, \"#f0f921\"]], \"type\": \"histogram2dcontour\"}], \"mesh3d\": [{\"colorbar\": {\"outlinewidth\": 0, \"ticks\": \"\"}, \"type\": \"mesh3d\"}], \"parcoords\": [{\"line\": {\"colorbar\": {\"outlinewidth\": 0, \"ticks\": \"\"}}, \"type\": \"parcoords\"}], \"scatter\": [{\"marker\": {\"colorbar\": {\"outlinewidth\": 0, \"ticks\": \"\"}}, \"type\": \"scatter\"}], \"scatter3d\": [{\"line\": {\"colorbar\": {\"outlinewidth\": 0, \"ticks\": \"\"}}, \"marker\": {\"colorbar\": {\"outlinewidth\": 0, \"ticks\": \"\"}}, \"type\": \"scatter3d\"}], \"scattercarpet\": [{\"marker\": {\"colorbar\": {\"outlinewidth\": 0, \"ticks\": \"\"}}, \"type\": \"scattercarpet\"}], \"scattergeo\": [{\"marker\": {\"colorbar\": {\"outlinewidth\": 0, \"ticks\": \"\"}}, \"type\": \"scattergeo\"}], \"scattergl\": [{\"marker\": {\"colorbar\": {\"outlinewidth\": 0, \"ticks\": \"\"}}, \"type\": \"scattergl\"}], \"scattermapbox\": [{\"marker\": {\"colorbar\": {\"outlinewidth\": 0, \"ticks\": \"\"}}, \"type\": \"scattermapbox\"}], \"scatterpolar\": [{\"marker\": {\"colorbar\": {\"outlinewidth\": 0, \"ticks\": \"\"}}, \"type\": \"scatterpolar\"}], \"scatterpolargl\": [{\"marker\": {\"colorbar\": {\"outlinewidth\": 0, \"ticks\": \"\"}}, \"type\": \"scatterpolargl\"}], \"scatterternary\": [{\"marker\": {\"colorbar\": {\"outlinewidth\": 0, \"ticks\": \"\"}}, \"type\": \"scatterternary\"}], \"surface\": [{\"colorbar\": {\"outlinewidth\": 0, \"ticks\": \"\"}, \"colorscale\": [[0.0, \"#0d0887\"], [0.1111111111111111, \"#46039f\"], [0.2222222222222222, \"#7201a8\"], [0.3333333333333333, \"#9c179e\"], [0.4444444444444444, \"#bd3786\"], [0.5555555555555556, \"#d8576b\"], [0.6666666666666666, \"#ed7953\"], [0.7777777777777778, \"#fb9f3a\"], [0.8888888888888888, \"#fdca26\"], [1.0, \"#f0f921\"]], \"type\": \"surface\"}], \"table\": [{\"cells\": {\"fill\": {\"color\": \"#EBF0F8\"}, \"line\": {\"color\": \"white\"}}, \"header\": {\"fill\": {\"color\": \"#C8D4E3\"}, \"line\": {\"color\": \"white\"}}, \"type\": \"table\"}]}, \"layout\": {\"annotationdefaults\": {\"arrowcolor\": \"#2a3f5f\", \"arrowhead\": 0, \"arrowwidth\": 1}, \"colorscale\": {\"diverging\": [[0, \"#8e0152\"], [0.1, \"#c51b7d\"], [0.2, \"#de77ae\"], [0.3, \"#f1b6da\"], [0.4, \"#fde0ef\"], [0.5, \"#f7f7f7\"], [0.6, \"#e6f5d0\"], [0.7, \"#b8e186\"], [0.8, \"#7fbc41\"], [0.9, \"#4d9221\"], [1, \"#276419\"]], \"sequential\": [[0.0, \"#0d0887\"], [0.1111111111111111, \"#46039f\"], [0.2222222222222222, \"#7201a8\"], [0.3333333333333333, \"#9c179e\"], [0.4444444444444444, \"#bd3786\"], [0.5555555555555556, \"#d8576b\"], [0.6666666666666666, \"#ed7953\"], [0.7777777777777778, \"#fb9f3a\"], [0.8888888888888888, \"#fdca26\"], [1.0, \"#f0f921\"]], \"sequentialminus\": [[0.0, \"#0d0887\"], [0.1111111111111111, \"#46039f\"], [0.2222222222222222, \"#7201a8\"], [0.3333333333333333, \"#9c179e\"], [0.4444444444444444, \"#bd3786\"], [0.5555555555555556, \"#d8576b\"], [0.6666666666666666, \"#ed7953\"], [0.7777777777777778, \"#fb9f3a\"], [0.8888888888888888, \"#fdca26\"], [1.0, \"#f0f921\"]]}, \"colorway\": [\"#636efa\", \"#EF553B\", \"#00cc96\", \"#ab63fa\", \"#FFA15A\", \"#19d3f3\", \"#FF6692\", \"#B6E880\", \"#FF97FF\", \"#FECB52\"], \"font\": {\"color\": \"#2a3f5f\"}, \"geo\": {\"bgcolor\": \"white\", \"lakecolor\": \"white\", \"landcolor\": \"#E5ECF6\", \"showlakes\": true, \"showland\": true, \"subunitcolor\": \"white\"}, \"hoverlabel\": {\"align\": \"left\"}, \"hovermode\": \"closest\", \"mapbox\": {\"style\": \"light\"}, \"paper_bgcolor\": \"white\", \"plot_bgcolor\": \"#E5ECF6\", \"polar\": {\"angularaxis\": {\"gridcolor\": \"white\", \"linecolor\": \"white\", \"ticks\": \"\"}, \"bgcolor\": \"#E5ECF6\", \"radialaxis\": {\"gridcolor\": \"white\", \"linecolor\": \"white\", \"ticks\": \"\"}}, \"scene\": {\"xaxis\": {\"backgroundcolor\": \"#E5ECF6\", \"gridcolor\": \"white\", \"gridwidth\": 2, \"linecolor\": \"white\", \"showbackground\": true, \"ticks\": \"\", \"zerolinecolor\": \"white\"}, \"yaxis\": {\"backgroundcolor\": \"#E5ECF6\", \"gridcolor\": \"white\", \"gridwidth\": 2, \"linecolor\": \"white\", \"showbackground\": true, \"ticks\": \"\", \"zerolinecolor\": \"white\"}, \"zaxis\": {\"backgroundcolor\": \"#E5ECF6\", \"gridcolor\": \"white\", \"gridwidth\": 2, \"linecolor\": \"white\", \"showbackground\": true, \"ticks\": \"\", \"zerolinecolor\": \"white\"}}, \"shapedefaults\": {\"line\": {\"color\": \"#2a3f5f\"}}, \"ternary\": {\"aaxis\": {\"gridcolor\": \"white\", \"linecolor\": \"white\", \"ticks\": \"\"}, \"baxis\": {\"gridcolor\": \"white\", \"linecolor\": \"white\", \"ticks\": \"\"}, \"bgcolor\": \"#E5ECF6\", \"caxis\": {\"gridcolor\": \"white\", \"linecolor\": \"white\", \"ticks\": \"\"}}, \"title\": {\"x\": 0.05}, \"xaxis\": {\"automargin\": true, \"gridcolor\": \"white\", \"linecolor\": \"white\", \"ticks\": \"\", \"zerolinecolor\": \"white\", \"zerolinewidth\": 2}, \"yaxis\": {\"automargin\": true, \"gridcolor\": \"white\", \"linecolor\": \"white\", \"ticks\": \"\", \"zerolinecolor\": \"white\", \"zerolinewidth\": 2}}}, \"xaxis\": {\"linecolor\": \"black\", \"linewidth\": 2, \"showline\": true, \"tickangle\": 45, \"ticklen\": 5, \"tickmode\": \"array\", \"ticks\": \"inside\", \"ticktext\": [\"Q\", \"AKD\", \"FS\", 0.1, 0.2, 0.3, 0.4, 0.5, 0.6, 0.7, 0.8, 0.9, 1], \"tickvals\": [-0.2, -0.1, -0.0, 0.1, 0.2, 0.3, 0.4, 0.5, 0.6, 0.7, 0.8, 0.9, 1], \"title\": {\"text\": \"(PKD)Delta\"}, \"zeroline\": true}, \"yaxis\": {\"gridcolor\": \"lightgrey\", \"gridwidth\": 1, \"linecolor\": \"black\", \"linewidth\": 2, \"showgrid\": true, \"showline\": true, \"ticklen\": 5, \"ticks\": \"inside\", \"title\": {\"text\": \"First Query Cost [s]\"}, \"zeroline\": true}},\n",
       "                        {\"responsive\": true}\n",
       "                    ).then(function(){\n",
       "                            \n",
       "var gd = document.getElementById('bcc779c0-7f6f-40d5-9695-0f6d4061f20b');\n",
       "var x = new MutationObserver(function (mutations, observer) {{\n",
       "        var display = window.getComputedStyle(gd).display;\n",
       "        if (!display || display === 'none') {{\n",
       "            console.log([gd, 'removed!']);\n",
       "            Plotly.purge(gd);\n",
       "            observer.disconnect();\n",
       "        }}\n",
       "}});\n",
       "\n",
       "// Listen for the removal of the full notebook cells\n",
       "var notebookContainer = gd.closest('#notebook-container');\n",
       "if (notebookContainer) {{\n",
       "    x.observe(notebookContainer, {childList: true});\n",
       "}}\n",
       "\n",
       "// Listen for the clearing of the current output cell\n",
       "var outputEl = gd.closest('.output');\n",
       "if (outputEl) {{\n",
       "    x.observe(outputEl, {childList: true});\n",
       "}}\n",
       "\n",
       "                        })\n",
       "                };\n",
       "                });\n",
       "            </script>\n",
       "        </div>"
      ]
     },
     "metadata": {},
     "output_type": "display_data"
    }
   ],
   "source": [
    "fig = create_figure()\n",
    "\n",
    "cols = [8, 6, 4, 2]\n",
    "markers = delta_markers\n",
    "colors = ['rgba(168, 50, 119, 1)', 'rgba(235, 7, 7, 1)', 'rgba(54, 50, 168, 1)', 'rgba(1, 140, 22, 1)']\n",
    "markers = delta_markers\n",
    "\n",
    "lines = []\n",
    "shapes = []\n",
    "\n",
    "for i, marker, color in zip(cols, markers, colors):\n",
    "\n",
    "    fq_times = []\n",
    "    for d in deltas:\n",
    "        fq_times.append(get_first_query(read(f'ProgressiveIndex_{d}', f'Uniform{i}')))\n",
    "    lines.append(\n",
    "        go.Scatter(\n",
    "            name=f'{i} cols',\n",
    "            x=deltas,\n",
    "            y=fq_times,\n",
    "            mode='lines+markers',\n",
    "            marker=dict(\n",
    "                size=18,\n",
    "                symbol=marker\n",
    "            ),\n",
    "            marker_color=color\n",
    "        )\n",
    "    )\n",
    "    \n",
    "    # add other indices values\n",
    "    \n",
    "    lines.append(\n",
    "        go.Scatter(\n",
    "            name=f'{i}FullScan',\n",
    "            x=[-0.0],\n",
    "            y=[get_first_query(read(f'FullScan', f'Uniform{i}'))],\n",
    "            mode='markers',\n",
    "            marker_color=color,\n",
    "            marker=dict(\n",
    "                size=18,\n",
    "                symbol=marker\n",
    "            ),\n",
    "            showlegend=False\n",
    "        )\n",
    "    )\n",
    "    \n",
    "    lines.append(\n",
    "        go.Scatter(\n",
    "            name=f'{i}AKD',\n",
    "            x=[-0.1],\n",
    "            y=[get_first_query(read(f'CrackingKDTree' ,f'Uniform{i}'))],\n",
    "            mode='markers',\n",
    "            marker_color=color,\n",
    "            marker=dict(\n",
    "                size=18,\n",
    "                symbol=marker\n",
    "            ),\n",
    "            showlegend=False\n",
    "        )\n",
    "    )\n",
    "    \n",
    "    lines.append(\n",
    "        go.Scatter(\n",
    "            name=f'{i}Quasii',\n",
    "            x=[-0.2],\n",
    "            y=[get_first_query(read(f'Quasii' ,f'Uniform{i}'))],\n",
    "            mode='markers',\n",
    "            marker_color=color,\n",
    "            marker=dict(\n",
    "                size=18,\n",
    "                symbol=marker\n",
    "            ),\n",
    "            showlegend=False\n",
    "        )\n",
    "    )\n",
    "    \n",
    "#     lines.append(\n",
    "#         go.Scatter(\n",
    "#             name=f'{i}AvgKD',\n",
    "#             x=[-0.3],\n",
    "#             y=[get_first_query(read(f'AverageKDTree' ,f'Uniform{i}'))],\n",
    "#             mode='markers',\n",
    "#             marker_color=color,\n",
    "#             marker=dict(\n",
    "#                 size=18,\n",
    "#                 symbol='circle'\n",
    "#             ),\n",
    "#             showlegend=False\n",
    "#         )\n",
    "#     )\n",
    "    \n",
    "#     lines.append(\n",
    "#         go.Scatter(\n",
    "#             name=f'{i}MedKD',\n",
    "#             x=[-0.4],\n",
    "#             y=[get_first_query(read(f'MedianKDTree' ,f'Uniform{i}'))],\n",
    "#             mode='markers',\n",
    "#             marker_color=color,\n",
    "#             marker=dict(\n",
    "#                 size=18,\n",
    "#                 symbol='circle'\n",
    "#             ),\n",
    "#             showlegend=False\n",
    "#         )\n",
    "#     )\n",
    "\n",
    "# add line at 0.2 delta\n",
    "shapes.append(\n",
    "    dict(\n",
    "        type= 'line',\n",
    "        yref=\"paper\", y0= 0, y1=1,\n",
    "        x0= 0.2, x1=0.2,\n",
    "        opacity=0.1\n",
    "    )\n",
    ")\n",
    "\n",
    "fig.add_traces(data=lines)\n",
    "fig.update_layout(showlegend=True, yaxis_title='First Query Cost [s]', xaxis_title='(PKD)Delta', shapes=shapes)\n",
    "fig.update_xaxes(tickangle=45)\n",
    "fig.update_layout(\n",
    "#     xaxis=dict(\n",
    "#         tickmode = 'linear',\n",
    "#         tick0 = 0.0,\n",
    "#         dtick = 0.1\n",
    "#     )\n",
    "    xaxis = dict(\n",
    "        tickmode = 'array',\n",
    "        tickvals = [-0.2, -0.1, -0.0] + deltas,\n",
    "        ticktext = ['Q', 'AKD', 'FS'] + deltas\n",
    "    ),\n",
    ")\n",
    "save_figure(fig, 'delta_exp_first_query.pdf')\n",
    "fig"
   ]
  },
  {
   "cell_type": "markdown",
   "metadata": {},
   "source": [
    "# Payoff"
   ]
  },
  {
   "cell_type": "code",
   "execution_count": 439,
   "metadata": {},
   "outputs": [
    {
     "data": {
      "application/vnd.plotly.v1+json": {
       "config": {
        "plotlyServerURL": "https://plot.ly"
       },
       "data": [
        {
         "marker": {
          "color": "rgba(168, 50, 119, 1)",
          "size": 18,
          "symbol": "circle"
         },
         "mode": "lines+markers",
         "name": "8 cols",
         "type": "scatter",
         "x": [
          0.1,
          0.2,
          0.3,
          0.4,
          0.5,
          0.6,
          0.7,
          0.8,
          0.9,
          1
         ],
         "y": [
          40,
          34,
          31,
          27,
          25,
          23,
          22,
          21,
          21,
          20
         ]
        },
        {
         "marker": {
          "color": "rgba(168, 50, 119, 1)",
          "size": 18,
          "symbol": "diamond"
         },
         "mode": "markers",
         "name": "8AKD",
         "showlegend": false,
         "type": "scatter",
         "x": [
          -0.1
         ],
         "y": [
          7
         ]
        },
        {
         "marker": {
          "color": "rgba(168, 50, 119, 1)",
          "size": 18,
          "symbol": "circle"
         },
         "mode": "markers",
         "name": "8Quasii",
         "showlegend": false,
         "type": "scatter",
         "x": [
          -0.2
         ],
         "y": [
          12
         ]
        },
        {
         "marker": {
          "color": "rgba(168, 50, 119, 1)",
          "size": 18,
          "symbol": "circle"
         },
         "mode": "markers",
         "name": "8AvgKD",
         "showlegend": false,
         "type": "scatter",
         "x": [
          -0.3
         ],
         "y": [
          14
         ]
        },
        {
         "marker": {
          "color": "rgba(168, 50, 119, 1)",
          "size": 18,
          "symbol": "circle"
         },
         "mode": "markers",
         "name": "8MedKD",
         "showlegend": false,
         "type": "scatter",
         "x": [
          -0.4
         ],
         "y": [
          23
         ]
        },
        {
         "marker": {
          "color": "rgba(235, 7, 7, 1)",
          "size": 18,
          "symbol": "square"
         },
         "mode": "lines+markers",
         "name": "6 cols",
         "type": "scatter",
         "x": [
          0.1,
          0.2,
          0.3,
          0.4,
          0.5,
          0.6,
          0.7,
          0.8,
          0.9,
          1
         ],
         "y": [
          30,
          21,
          20,
          20,
          21,
          20,
          20,
          19,
          18,
          18
         ]
        },
        {
         "marker": {
          "color": "rgba(235, 7, 7, 1)",
          "size": 18,
          "symbol": "diamond"
         },
         "mode": "markers",
         "name": "6AKD",
         "showlegend": false,
         "type": "scatter",
         "x": [
          -0.1
         ],
         "y": [
          6
         ]
        },
        {
         "marker": {
          "color": "rgba(235, 7, 7, 1)",
          "size": 18,
          "symbol": "square"
         },
         "mode": "markers",
         "name": "6Quasii",
         "showlegend": false,
         "type": "scatter",
         "x": [
          -0.2
         ],
         "y": [
          9
         ]
        },
        {
         "marker": {
          "color": "rgba(235, 7, 7, 1)",
          "size": 18,
          "symbol": "square"
         },
         "mode": "markers",
         "name": "6AvgKD",
         "showlegend": false,
         "type": "scatter",
         "x": [
          -0.3
         ],
         "y": [
          13
         ]
        },
        {
         "marker": {
          "color": "rgba(235, 7, 7, 1)",
          "size": 18,
          "symbol": "square"
         },
         "mode": "markers",
         "name": "6MedKD",
         "showlegend": false,
         "type": "scatter",
         "x": [
          -0.4
         ],
         "y": [
          25
         ]
        },
        {
         "marker": {
          "color": "rgba(54, 50, 168, 1)",
          "size": 18,
          "symbol": "x"
         },
         "mode": "lines+markers",
         "name": "4 cols",
         "type": "scatter",
         "x": [
          0.1,
          0.2,
          0.3,
          0.4,
          0.5,
          0.6,
          0.7,
          0.8,
          0.9,
          1
         ],
         "y": [
          7,
          11,
          10,
          11,
          14,
          17,
          16,
          16,
          15,
          15
         ]
        },
        {
         "marker": {
          "color": "rgba(54, 50, 168, 1)",
          "size": 18,
          "symbol": "diamond"
         },
         "mode": "markers",
         "name": "4AKD",
         "showlegend": false,
         "type": "scatter",
         "x": [
          -0.1
         ],
         "y": [
          6
         ]
        },
        {
         "marker": {
          "color": "rgba(54, 50, 168, 1)",
          "size": 18,
          "symbol": "x"
         },
         "mode": "markers",
         "name": "4Quasii",
         "showlegend": false,
         "type": "scatter",
         "x": [
          -0.2
         ],
         "y": [
          9
         ]
        },
        {
         "marker": {
          "color": "rgba(54, 50, 168, 1)",
          "size": 18,
          "symbol": "x"
         },
         "mode": "markers",
         "name": "4AvgKD",
         "showlegend": false,
         "type": "scatter",
         "x": [
          -0.3
         ],
         "y": [
          14
         ]
        },
        {
         "marker": {
          "color": "rgba(54, 50, 168, 1)",
          "size": 18,
          "symbol": "x"
         },
         "mode": "markers",
         "name": "4MedKD",
         "showlegend": false,
         "type": "scatter",
         "x": [
          -0.4
         ],
         "y": [
          27
         ]
        },
        {
         "marker": {
          "color": "rgba(1, 140, 22, 1)",
          "size": 18,
          "symbol": "star"
         },
         "mode": "lines+markers",
         "name": "2 cols",
         "type": "scatter",
         "x": [
          0.1,
          0.2,
          0.3,
          0.4,
          0.5,
          0.6,
          0.7,
          0.8,
          0.9,
          1
         ],
         "y": [
          2,
          6,
          7,
          8,
          15,
          18,
          18,
          18,
          17,
          17
         ]
        },
        {
         "marker": {
          "color": "rgba(1, 140, 22, 1)",
          "size": 18,
          "symbol": "diamond"
         },
         "mode": "markers",
         "name": "2AKD",
         "showlegend": false,
         "type": "scatter",
         "x": [
          -0.1
         ],
         "y": [
          3
         ]
        },
        {
         "marker": {
          "color": "rgba(1, 140, 22, 1)",
          "size": 18,
          "symbol": "star"
         },
         "mode": "markers",
         "name": "2Quasii",
         "showlegend": false,
         "type": "scatter",
         "x": [
          -0.2
         ],
         "y": [
          13
         ]
        },
        {
         "marker": {
          "color": "rgba(1, 140, 22, 1)",
          "size": 18,
          "symbol": "star"
         },
         "mode": "markers",
         "name": "2AvgKD",
         "showlegend": false,
         "type": "scatter",
         "x": [
          -0.3
         ],
         "y": [
          19
         ]
        },
        {
         "marker": {
          "color": "rgba(1, 140, 22, 1)",
          "size": 18,
          "symbol": "star"
         },
         "mode": "markers",
         "name": "2MedKD",
         "showlegend": false,
         "type": "scatter",
         "x": [
          -0.4
         ],
         "y": [
          39
         ]
        }
       ],
       "layout": {
        "font": {
         "size": 42
        },
        "legend": {
         "font": {
          "color": "black",
          "size": 30
         }
        },
        "plot_bgcolor": "rgba(0,0,0,0)",
        "shapes": [
         {
          "opacity": 0.2,
          "type": "line",
          "x0": 0.2,
          "x1": 0.2,
          "y0": 0,
          "y1": 1,
          "yref": "paper"
         }
        ],
        "showlegend": true,
        "template": {
         "data": {
          "bar": [
           {
            "error_x": {
             "color": "#2a3f5f"
            },
            "error_y": {
             "color": "#2a3f5f"
            },
            "marker": {
             "line": {
              "color": "#E5ECF6",
              "width": 0.5
             }
            },
            "type": "bar"
           }
          ],
          "barpolar": [
           {
            "marker": {
             "line": {
              "color": "#E5ECF6",
              "width": 0.5
             }
            },
            "type": "barpolar"
           }
          ],
          "carpet": [
           {
            "aaxis": {
             "endlinecolor": "#2a3f5f",
             "gridcolor": "white",
             "linecolor": "white",
             "minorgridcolor": "white",
             "startlinecolor": "#2a3f5f"
            },
            "baxis": {
             "endlinecolor": "#2a3f5f",
             "gridcolor": "white",
             "linecolor": "white",
             "minorgridcolor": "white",
             "startlinecolor": "#2a3f5f"
            },
            "type": "carpet"
           }
          ],
          "choropleth": [
           {
            "colorbar": {
             "outlinewidth": 0,
             "ticks": ""
            },
            "type": "choropleth"
           }
          ],
          "contour": [
           {
            "colorbar": {
             "outlinewidth": 0,
             "ticks": ""
            },
            "colorscale": [
             [
              0,
              "#0d0887"
             ],
             [
              0.1111111111111111,
              "#46039f"
             ],
             [
              0.2222222222222222,
              "#7201a8"
             ],
             [
              0.3333333333333333,
              "#9c179e"
             ],
             [
              0.4444444444444444,
              "#bd3786"
             ],
             [
              0.5555555555555556,
              "#d8576b"
             ],
             [
              0.6666666666666666,
              "#ed7953"
             ],
             [
              0.7777777777777778,
              "#fb9f3a"
             ],
             [
              0.8888888888888888,
              "#fdca26"
             ],
             [
              1,
              "#f0f921"
             ]
            ],
            "type": "contour"
           }
          ],
          "contourcarpet": [
           {
            "colorbar": {
             "outlinewidth": 0,
             "ticks": ""
            },
            "type": "contourcarpet"
           }
          ],
          "heatmap": [
           {
            "colorbar": {
             "outlinewidth": 0,
             "ticks": ""
            },
            "colorscale": [
             [
              0,
              "#0d0887"
             ],
             [
              0.1111111111111111,
              "#46039f"
             ],
             [
              0.2222222222222222,
              "#7201a8"
             ],
             [
              0.3333333333333333,
              "#9c179e"
             ],
             [
              0.4444444444444444,
              "#bd3786"
             ],
             [
              0.5555555555555556,
              "#d8576b"
             ],
             [
              0.6666666666666666,
              "#ed7953"
             ],
             [
              0.7777777777777778,
              "#fb9f3a"
             ],
             [
              0.8888888888888888,
              "#fdca26"
             ],
             [
              1,
              "#f0f921"
             ]
            ],
            "type": "heatmap"
           }
          ],
          "heatmapgl": [
           {
            "colorbar": {
             "outlinewidth": 0,
             "ticks": ""
            },
            "colorscale": [
             [
              0,
              "#0d0887"
             ],
             [
              0.1111111111111111,
              "#46039f"
             ],
             [
              0.2222222222222222,
              "#7201a8"
             ],
             [
              0.3333333333333333,
              "#9c179e"
             ],
             [
              0.4444444444444444,
              "#bd3786"
             ],
             [
              0.5555555555555556,
              "#d8576b"
             ],
             [
              0.6666666666666666,
              "#ed7953"
             ],
             [
              0.7777777777777778,
              "#fb9f3a"
             ],
             [
              0.8888888888888888,
              "#fdca26"
             ],
             [
              1,
              "#f0f921"
             ]
            ],
            "type": "heatmapgl"
           }
          ],
          "histogram": [
           {
            "marker": {
             "colorbar": {
              "outlinewidth": 0,
              "ticks": ""
             }
            },
            "type": "histogram"
           }
          ],
          "histogram2d": [
           {
            "colorbar": {
             "outlinewidth": 0,
             "ticks": ""
            },
            "colorscale": [
             [
              0,
              "#0d0887"
             ],
             [
              0.1111111111111111,
              "#46039f"
             ],
             [
              0.2222222222222222,
              "#7201a8"
             ],
             [
              0.3333333333333333,
              "#9c179e"
             ],
             [
              0.4444444444444444,
              "#bd3786"
             ],
             [
              0.5555555555555556,
              "#d8576b"
             ],
             [
              0.6666666666666666,
              "#ed7953"
             ],
             [
              0.7777777777777778,
              "#fb9f3a"
             ],
             [
              0.8888888888888888,
              "#fdca26"
             ],
             [
              1,
              "#f0f921"
             ]
            ],
            "type": "histogram2d"
           }
          ],
          "histogram2dcontour": [
           {
            "colorbar": {
             "outlinewidth": 0,
             "ticks": ""
            },
            "colorscale": [
             [
              0,
              "#0d0887"
             ],
             [
              0.1111111111111111,
              "#46039f"
             ],
             [
              0.2222222222222222,
              "#7201a8"
             ],
             [
              0.3333333333333333,
              "#9c179e"
             ],
             [
              0.4444444444444444,
              "#bd3786"
             ],
             [
              0.5555555555555556,
              "#d8576b"
             ],
             [
              0.6666666666666666,
              "#ed7953"
             ],
             [
              0.7777777777777778,
              "#fb9f3a"
             ],
             [
              0.8888888888888888,
              "#fdca26"
             ],
             [
              1,
              "#f0f921"
             ]
            ],
            "type": "histogram2dcontour"
           }
          ],
          "mesh3d": [
           {
            "colorbar": {
             "outlinewidth": 0,
             "ticks": ""
            },
            "type": "mesh3d"
           }
          ],
          "parcoords": [
           {
            "line": {
             "colorbar": {
              "outlinewidth": 0,
              "ticks": ""
             }
            },
            "type": "parcoords"
           }
          ],
          "scatter": [
           {
            "marker": {
             "colorbar": {
              "outlinewidth": 0,
              "ticks": ""
             }
            },
            "type": "scatter"
           }
          ],
          "scatter3d": [
           {
            "line": {
             "colorbar": {
              "outlinewidth": 0,
              "ticks": ""
             }
            },
            "marker": {
             "colorbar": {
              "outlinewidth": 0,
              "ticks": ""
             }
            },
            "type": "scatter3d"
           }
          ],
          "scattercarpet": [
           {
            "marker": {
             "colorbar": {
              "outlinewidth": 0,
              "ticks": ""
             }
            },
            "type": "scattercarpet"
           }
          ],
          "scattergeo": [
           {
            "marker": {
             "colorbar": {
              "outlinewidth": 0,
              "ticks": ""
             }
            },
            "type": "scattergeo"
           }
          ],
          "scattergl": [
           {
            "marker": {
             "colorbar": {
              "outlinewidth": 0,
              "ticks": ""
             }
            },
            "type": "scattergl"
           }
          ],
          "scattermapbox": [
           {
            "marker": {
             "colorbar": {
              "outlinewidth": 0,
              "ticks": ""
             }
            },
            "type": "scattermapbox"
           }
          ],
          "scatterpolar": [
           {
            "marker": {
             "colorbar": {
              "outlinewidth": 0,
              "ticks": ""
             }
            },
            "type": "scatterpolar"
           }
          ],
          "scatterpolargl": [
           {
            "marker": {
             "colorbar": {
              "outlinewidth": 0,
              "ticks": ""
             }
            },
            "type": "scatterpolargl"
           }
          ],
          "scatterternary": [
           {
            "marker": {
             "colorbar": {
              "outlinewidth": 0,
              "ticks": ""
             }
            },
            "type": "scatterternary"
           }
          ],
          "surface": [
           {
            "colorbar": {
             "outlinewidth": 0,
             "ticks": ""
            },
            "colorscale": [
             [
              0,
              "#0d0887"
             ],
             [
              0.1111111111111111,
              "#46039f"
             ],
             [
              0.2222222222222222,
              "#7201a8"
             ],
             [
              0.3333333333333333,
              "#9c179e"
             ],
             [
              0.4444444444444444,
              "#bd3786"
             ],
             [
              0.5555555555555556,
              "#d8576b"
             ],
             [
              0.6666666666666666,
              "#ed7953"
             ],
             [
              0.7777777777777778,
              "#fb9f3a"
             ],
             [
              0.8888888888888888,
              "#fdca26"
             ],
             [
              1,
              "#f0f921"
             ]
            ],
            "type": "surface"
           }
          ],
          "table": [
           {
            "cells": {
             "fill": {
              "color": "#EBF0F8"
             },
             "line": {
              "color": "white"
             }
            },
            "header": {
             "fill": {
              "color": "#C8D4E3"
             },
             "line": {
              "color": "white"
             }
            },
            "type": "table"
           }
          ]
         },
         "layout": {
          "annotationdefaults": {
           "arrowcolor": "#2a3f5f",
           "arrowhead": 0,
           "arrowwidth": 1
          },
          "colorscale": {
           "diverging": [
            [
             0,
             "#8e0152"
            ],
            [
             0.1,
             "#c51b7d"
            ],
            [
             0.2,
             "#de77ae"
            ],
            [
             0.3,
             "#f1b6da"
            ],
            [
             0.4,
             "#fde0ef"
            ],
            [
             0.5,
             "#f7f7f7"
            ],
            [
             0.6,
             "#e6f5d0"
            ],
            [
             0.7,
             "#b8e186"
            ],
            [
             0.8,
             "#7fbc41"
            ],
            [
             0.9,
             "#4d9221"
            ],
            [
             1,
             "#276419"
            ]
           ],
           "sequential": [
            [
             0,
             "#0d0887"
            ],
            [
             0.1111111111111111,
             "#46039f"
            ],
            [
             0.2222222222222222,
             "#7201a8"
            ],
            [
             0.3333333333333333,
             "#9c179e"
            ],
            [
             0.4444444444444444,
             "#bd3786"
            ],
            [
             0.5555555555555556,
             "#d8576b"
            ],
            [
             0.6666666666666666,
             "#ed7953"
            ],
            [
             0.7777777777777778,
             "#fb9f3a"
            ],
            [
             0.8888888888888888,
             "#fdca26"
            ],
            [
             1,
             "#f0f921"
            ]
           ],
           "sequentialminus": [
            [
             0,
             "#0d0887"
            ],
            [
             0.1111111111111111,
             "#46039f"
            ],
            [
             0.2222222222222222,
             "#7201a8"
            ],
            [
             0.3333333333333333,
             "#9c179e"
            ],
            [
             0.4444444444444444,
             "#bd3786"
            ],
            [
             0.5555555555555556,
             "#d8576b"
            ],
            [
             0.6666666666666666,
             "#ed7953"
            ],
            [
             0.7777777777777778,
             "#fb9f3a"
            ],
            [
             0.8888888888888888,
             "#fdca26"
            ],
            [
             1,
             "#f0f921"
            ]
           ]
          },
          "colorway": [
           "#636efa",
           "#EF553B",
           "#00cc96",
           "#ab63fa",
           "#FFA15A",
           "#19d3f3",
           "#FF6692",
           "#B6E880",
           "#FF97FF",
           "#FECB52"
          ],
          "font": {
           "color": "#2a3f5f"
          },
          "geo": {
           "bgcolor": "white",
           "lakecolor": "white",
           "landcolor": "#E5ECF6",
           "showlakes": true,
           "showland": true,
           "subunitcolor": "white"
          },
          "hoverlabel": {
           "align": "left"
          },
          "hovermode": "closest",
          "mapbox": {
           "style": "light"
          },
          "paper_bgcolor": "white",
          "plot_bgcolor": "#E5ECF6",
          "polar": {
           "angularaxis": {
            "gridcolor": "white",
            "linecolor": "white",
            "ticks": ""
           },
           "bgcolor": "#E5ECF6",
           "radialaxis": {
            "gridcolor": "white",
            "linecolor": "white",
            "ticks": ""
           }
          },
          "scene": {
           "xaxis": {
            "backgroundcolor": "#E5ECF6",
            "gridcolor": "white",
            "gridwidth": 2,
            "linecolor": "white",
            "showbackground": true,
            "ticks": "",
            "zerolinecolor": "white"
           },
           "yaxis": {
            "backgroundcolor": "#E5ECF6",
            "gridcolor": "white",
            "gridwidth": 2,
            "linecolor": "white",
            "showbackground": true,
            "ticks": "",
            "zerolinecolor": "white"
           },
           "zaxis": {
            "backgroundcolor": "#E5ECF6",
            "gridcolor": "white",
            "gridwidth": 2,
            "linecolor": "white",
            "showbackground": true,
            "ticks": "",
            "zerolinecolor": "white"
           }
          },
          "shapedefaults": {
           "line": {
            "color": "#2a3f5f"
           }
          },
          "ternary": {
           "aaxis": {
            "gridcolor": "white",
            "linecolor": "white",
            "ticks": ""
           },
           "baxis": {
            "gridcolor": "white",
            "linecolor": "white",
            "ticks": ""
           },
           "bgcolor": "#E5ECF6",
           "caxis": {
            "gridcolor": "white",
            "linecolor": "white",
            "ticks": ""
           }
          },
          "title": {
           "x": 0.05
          },
          "xaxis": {
           "automargin": true,
           "gridcolor": "white",
           "linecolor": "white",
           "ticks": "",
           "zerolinecolor": "white",
           "zerolinewidth": 2
          },
          "yaxis": {
           "automargin": true,
           "gridcolor": "white",
           "linecolor": "white",
           "ticks": "",
           "zerolinecolor": "white",
           "zerolinewidth": 2
          }
         }
        },
        "xaxis": {
         "linecolor": "black",
         "linewidth": 2,
         "showline": true,
         "tickangle": 45,
         "ticklen": 5,
         "tickmode": "array",
         "ticks": "inside",
         "ticktext": [
          "MedKD",
          "AvgKD",
          "Q",
          "AKD",
          0.1,
          0.2,
          0.3,
          0.4,
          0.5,
          0.6,
          0.7,
          0.8,
          0.9,
          1
         ],
         "tickvals": [
          -0.4,
          -0.3,
          -0.2,
          -0.1,
          0.1,
          0.2,
          0.3,
          0.4,
          0.5,
          0.6,
          0.7,
          0.8,
          0.9,
          1
         ],
         "title": {
          "text": "(PKD)Delta"
         },
         "zeroline": true
        },
        "yaxis": {
         "gridcolor": "lightgrey",
         "gridwidth": 1,
         "linecolor": "black",
         "linewidth": 2,
         "showgrid": true,
         "showline": true,
         "ticklen": 5,
         "ticks": "inside",
         "title": {
          "text": "#Queries"
         },
         "zeroline": true
        }
       }
      },
      "text/html": [
       "<div>\n",
       "        \n",
       "        \n",
       "            <div id=\"c366d205-14bd-4512-820c-0f1dc325c42e\" class=\"plotly-graph-div\" style=\"height:525px; width:100%;\"></div>\n",
       "            <script type=\"text/javascript\">\n",
       "                require([\"plotly\"], function(Plotly) {\n",
       "                    window.PLOTLYENV=window.PLOTLYENV || {};\n",
       "                    \n",
       "                if (document.getElementById(\"c366d205-14bd-4512-820c-0f1dc325c42e\")) {\n",
       "                    Plotly.newPlot(\n",
       "                        'c366d205-14bd-4512-820c-0f1dc325c42e',\n",
       "                        [{\"marker\": {\"color\": \"rgba(168, 50, 119, 1)\", \"size\": 18, \"symbol\": \"circle\"}, \"mode\": \"lines+markers\", \"name\": \"8 cols\", \"type\": \"scatter\", \"x\": [0.1, 0.2, 0.3, 0.4, 0.5, 0.6, 0.7, 0.8, 0.9, 1], \"y\": [40, 34, 31, 27, 25, 23, 22, 21, 21, 20]}, {\"marker\": {\"color\": \"rgba(168, 50, 119, 1)\", \"size\": 18, \"symbol\": \"diamond\"}, \"mode\": \"markers\", \"name\": \"8AKD\", \"showlegend\": false, \"type\": \"scatter\", \"x\": [-0.1], \"y\": [7]}, {\"marker\": {\"color\": \"rgba(168, 50, 119, 1)\", \"size\": 18, \"symbol\": \"circle\"}, \"mode\": \"markers\", \"name\": \"8Quasii\", \"showlegend\": false, \"type\": \"scatter\", \"x\": [-0.2], \"y\": [12]}, {\"marker\": {\"color\": \"rgba(168, 50, 119, 1)\", \"size\": 18, \"symbol\": \"circle\"}, \"mode\": \"markers\", \"name\": \"8AvgKD\", \"showlegend\": false, \"type\": \"scatter\", \"x\": [-0.3], \"y\": [14]}, {\"marker\": {\"color\": \"rgba(168, 50, 119, 1)\", \"size\": 18, \"symbol\": \"circle\"}, \"mode\": \"markers\", \"name\": \"8MedKD\", \"showlegend\": false, \"type\": \"scatter\", \"x\": [-0.4], \"y\": [23]}, {\"marker\": {\"color\": \"rgba(235, 7, 7, 1)\", \"size\": 18, \"symbol\": \"square\"}, \"mode\": \"lines+markers\", \"name\": \"6 cols\", \"type\": \"scatter\", \"x\": [0.1, 0.2, 0.3, 0.4, 0.5, 0.6, 0.7, 0.8, 0.9, 1], \"y\": [30, 21, 20, 20, 21, 20, 20, 19, 18, 18]}, {\"marker\": {\"color\": \"rgba(235, 7, 7, 1)\", \"size\": 18, \"symbol\": \"diamond\"}, \"mode\": \"markers\", \"name\": \"6AKD\", \"showlegend\": false, \"type\": \"scatter\", \"x\": [-0.1], \"y\": [6]}, {\"marker\": {\"color\": \"rgba(235, 7, 7, 1)\", \"size\": 18, \"symbol\": \"square\"}, \"mode\": \"markers\", \"name\": \"6Quasii\", \"showlegend\": false, \"type\": \"scatter\", \"x\": [-0.2], \"y\": [9]}, {\"marker\": {\"color\": \"rgba(235, 7, 7, 1)\", \"size\": 18, \"symbol\": \"square\"}, \"mode\": \"markers\", \"name\": \"6AvgKD\", \"showlegend\": false, \"type\": \"scatter\", \"x\": [-0.3], \"y\": [13]}, {\"marker\": {\"color\": \"rgba(235, 7, 7, 1)\", \"size\": 18, \"symbol\": \"square\"}, \"mode\": \"markers\", \"name\": \"6MedKD\", \"showlegend\": false, \"type\": \"scatter\", \"x\": [-0.4], \"y\": [25]}, {\"marker\": {\"color\": \"rgba(54, 50, 168, 1)\", \"size\": 18, \"symbol\": \"x\"}, \"mode\": \"lines+markers\", \"name\": \"4 cols\", \"type\": \"scatter\", \"x\": [0.1, 0.2, 0.3, 0.4, 0.5, 0.6, 0.7, 0.8, 0.9, 1], \"y\": [7, 11, 10, 11, 14, 17, 16, 16, 15, 15]}, {\"marker\": {\"color\": \"rgba(54, 50, 168, 1)\", \"size\": 18, \"symbol\": \"diamond\"}, \"mode\": \"markers\", \"name\": \"4AKD\", \"showlegend\": false, \"type\": \"scatter\", \"x\": [-0.1], \"y\": [6]}, {\"marker\": {\"color\": \"rgba(54, 50, 168, 1)\", \"size\": 18, \"symbol\": \"x\"}, \"mode\": \"markers\", \"name\": \"4Quasii\", \"showlegend\": false, \"type\": \"scatter\", \"x\": [-0.2], \"y\": [9]}, {\"marker\": {\"color\": \"rgba(54, 50, 168, 1)\", \"size\": 18, \"symbol\": \"x\"}, \"mode\": \"markers\", \"name\": \"4AvgKD\", \"showlegend\": false, \"type\": \"scatter\", \"x\": [-0.3], \"y\": [14]}, {\"marker\": {\"color\": \"rgba(54, 50, 168, 1)\", \"size\": 18, \"symbol\": \"x\"}, \"mode\": \"markers\", \"name\": \"4MedKD\", \"showlegend\": false, \"type\": \"scatter\", \"x\": [-0.4], \"y\": [27]}, {\"marker\": {\"color\": \"rgba(1, 140, 22, 1)\", \"size\": 18, \"symbol\": \"star\"}, \"mode\": \"lines+markers\", \"name\": \"2 cols\", \"type\": \"scatter\", \"x\": [0.1, 0.2, 0.3, 0.4, 0.5, 0.6, 0.7, 0.8, 0.9, 1], \"y\": [2, 6, 7, 8, 15, 18, 18, 18, 17, 17]}, {\"marker\": {\"color\": \"rgba(1, 140, 22, 1)\", \"size\": 18, \"symbol\": \"diamond\"}, \"mode\": \"markers\", \"name\": \"2AKD\", \"showlegend\": false, \"type\": \"scatter\", \"x\": [-0.1], \"y\": [3]}, {\"marker\": {\"color\": \"rgba(1, 140, 22, 1)\", \"size\": 18, \"symbol\": \"star\"}, \"mode\": \"markers\", \"name\": \"2Quasii\", \"showlegend\": false, \"type\": \"scatter\", \"x\": [-0.2], \"y\": [13]}, {\"marker\": {\"color\": \"rgba(1, 140, 22, 1)\", \"size\": 18, \"symbol\": \"star\"}, \"mode\": \"markers\", \"name\": \"2AvgKD\", \"showlegend\": false, \"type\": \"scatter\", \"x\": [-0.3], \"y\": [19]}, {\"marker\": {\"color\": \"rgba(1, 140, 22, 1)\", \"size\": 18, \"symbol\": \"star\"}, \"mode\": \"markers\", \"name\": \"2MedKD\", \"showlegend\": false, \"type\": \"scatter\", \"x\": [-0.4], \"y\": [39]}],\n",
       "                        {\"font\": {\"size\": 42}, \"legend\": {\"font\": {\"color\": \"black\", \"size\": 30}}, \"plot_bgcolor\": \"rgba(0,0,0,0)\", \"shapes\": [{\"opacity\": 0.2, \"type\": \"line\", \"x0\": 0.2, \"x1\": 0.2, \"y0\": 0, \"y1\": 1, \"yref\": \"paper\"}], \"showlegend\": true, \"template\": {\"data\": {\"bar\": [{\"error_x\": {\"color\": \"#2a3f5f\"}, \"error_y\": {\"color\": \"#2a3f5f\"}, \"marker\": {\"line\": {\"color\": \"#E5ECF6\", \"width\": 0.5}}, \"type\": \"bar\"}], \"barpolar\": [{\"marker\": {\"line\": {\"color\": \"#E5ECF6\", \"width\": 0.5}}, \"type\": \"barpolar\"}], \"carpet\": [{\"aaxis\": {\"endlinecolor\": \"#2a3f5f\", \"gridcolor\": \"white\", \"linecolor\": \"white\", \"minorgridcolor\": \"white\", \"startlinecolor\": \"#2a3f5f\"}, \"baxis\": {\"endlinecolor\": \"#2a3f5f\", \"gridcolor\": \"white\", \"linecolor\": \"white\", \"minorgridcolor\": \"white\", \"startlinecolor\": \"#2a3f5f\"}, \"type\": \"carpet\"}], \"choropleth\": [{\"colorbar\": {\"outlinewidth\": 0, \"ticks\": \"\"}, \"type\": \"choropleth\"}], \"contour\": [{\"colorbar\": {\"outlinewidth\": 0, \"ticks\": \"\"}, \"colorscale\": [[0.0, \"#0d0887\"], [0.1111111111111111, \"#46039f\"], [0.2222222222222222, \"#7201a8\"], [0.3333333333333333, \"#9c179e\"], [0.4444444444444444, \"#bd3786\"], [0.5555555555555556, \"#d8576b\"], [0.6666666666666666, \"#ed7953\"], [0.7777777777777778, \"#fb9f3a\"], [0.8888888888888888, \"#fdca26\"], [1.0, \"#f0f921\"]], \"type\": \"contour\"}], \"contourcarpet\": [{\"colorbar\": {\"outlinewidth\": 0, \"ticks\": \"\"}, \"type\": \"contourcarpet\"}], \"heatmap\": [{\"colorbar\": {\"outlinewidth\": 0, \"ticks\": \"\"}, \"colorscale\": [[0.0, \"#0d0887\"], [0.1111111111111111, \"#46039f\"], [0.2222222222222222, \"#7201a8\"], [0.3333333333333333, \"#9c179e\"], [0.4444444444444444, \"#bd3786\"], [0.5555555555555556, \"#d8576b\"], [0.6666666666666666, \"#ed7953\"], [0.7777777777777778, \"#fb9f3a\"], [0.8888888888888888, \"#fdca26\"], [1.0, \"#f0f921\"]], \"type\": \"heatmap\"}], \"heatmapgl\": [{\"colorbar\": {\"outlinewidth\": 0, \"ticks\": \"\"}, \"colorscale\": [[0.0, \"#0d0887\"], [0.1111111111111111, \"#46039f\"], [0.2222222222222222, \"#7201a8\"], [0.3333333333333333, \"#9c179e\"], [0.4444444444444444, \"#bd3786\"], [0.5555555555555556, \"#d8576b\"], [0.6666666666666666, \"#ed7953\"], [0.7777777777777778, \"#fb9f3a\"], [0.8888888888888888, \"#fdca26\"], [1.0, \"#f0f921\"]], \"type\": \"heatmapgl\"}], \"histogram\": [{\"marker\": {\"colorbar\": {\"outlinewidth\": 0, \"ticks\": \"\"}}, \"type\": \"histogram\"}], \"histogram2d\": [{\"colorbar\": {\"outlinewidth\": 0, \"ticks\": \"\"}, \"colorscale\": [[0.0, \"#0d0887\"], [0.1111111111111111, \"#46039f\"], [0.2222222222222222, \"#7201a8\"], [0.3333333333333333, \"#9c179e\"], [0.4444444444444444, \"#bd3786\"], [0.5555555555555556, \"#d8576b\"], [0.6666666666666666, \"#ed7953\"], [0.7777777777777778, \"#fb9f3a\"], [0.8888888888888888, \"#fdca26\"], [1.0, \"#f0f921\"]], \"type\": \"histogram2d\"}], \"histogram2dcontour\": [{\"colorbar\": {\"outlinewidth\": 0, \"ticks\": \"\"}, \"colorscale\": [[0.0, \"#0d0887\"], [0.1111111111111111, \"#46039f\"], [0.2222222222222222, \"#7201a8\"], [0.3333333333333333, \"#9c179e\"], [0.4444444444444444, \"#bd3786\"], [0.5555555555555556, \"#d8576b\"], [0.6666666666666666, \"#ed7953\"], [0.7777777777777778, \"#fb9f3a\"], [0.8888888888888888, \"#fdca26\"], [1.0, \"#f0f921\"]], \"type\": \"histogram2dcontour\"}], \"mesh3d\": [{\"colorbar\": {\"outlinewidth\": 0, \"ticks\": \"\"}, \"type\": \"mesh3d\"}], \"parcoords\": [{\"line\": {\"colorbar\": {\"outlinewidth\": 0, \"ticks\": \"\"}}, \"type\": \"parcoords\"}], \"scatter\": [{\"marker\": {\"colorbar\": {\"outlinewidth\": 0, \"ticks\": \"\"}}, \"type\": \"scatter\"}], \"scatter3d\": [{\"line\": {\"colorbar\": {\"outlinewidth\": 0, \"ticks\": \"\"}}, \"marker\": {\"colorbar\": {\"outlinewidth\": 0, \"ticks\": \"\"}}, \"type\": \"scatter3d\"}], \"scattercarpet\": [{\"marker\": {\"colorbar\": {\"outlinewidth\": 0, \"ticks\": \"\"}}, \"type\": \"scattercarpet\"}], \"scattergeo\": [{\"marker\": {\"colorbar\": {\"outlinewidth\": 0, \"ticks\": \"\"}}, \"type\": \"scattergeo\"}], \"scattergl\": [{\"marker\": {\"colorbar\": {\"outlinewidth\": 0, \"ticks\": \"\"}}, \"type\": \"scattergl\"}], \"scattermapbox\": [{\"marker\": {\"colorbar\": {\"outlinewidth\": 0, \"ticks\": \"\"}}, \"type\": \"scattermapbox\"}], \"scatterpolar\": [{\"marker\": {\"colorbar\": {\"outlinewidth\": 0, \"ticks\": \"\"}}, \"type\": \"scatterpolar\"}], \"scatterpolargl\": [{\"marker\": {\"colorbar\": {\"outlinewidth\": 0, \"ticks\": \"\"}}, \"type\": \"scatterpolargl\"}], \"scatterternary\": [{\"marker\": {\"colorbar\": {\"outlinewidth\": 0, \"ticks\": \"\"}}, \"type\": \"scatterternary\"}], \"surface\": [{\"colorbar\": {\"outlinewidth\": 0, \"ticks\": \"\"}, \"colorscale\": [[0.0, \"#0d0887\"], [0.1111111111111111, \"#46039f\"], [0.2222222222222222, \"#7201a8\"], [0.3333333333333333, \"#9c179e\"], [0.4444444444444444, \"#bd3786\"], [0.5555555555555556, \"#d8576b\"], [0.6666666666666666, \"#ed7953\"], [0.7777777777777778, \"#fb9f3a\"], [0.8888888888888888, \"#fdca26\"], [1.0, \"#f0f921\"]], \"type\": \"surface\"}], \"table\": [{\"cells\": {\"fill\": {\"color\": \"#EBF0F8\"}, \"line\": {\"color\": \"white\"}}, \"header\": {\"fill\": {\"color\": \"#C8D4E3\"}, \"line\": {\"color\": \"white\"}}, \"type\": \"table\"}]}, \"layout\": {\"annotationdefaults\": {\"arrowcolor\": \"#2a3f5f\", \"arrowhead\": 0, \"arrowwidth\": 1}, \"colorscale\": {\"diverging\": [[0, \"#8e0152\"], [0.1, \"#c51b7d\"], [0.2, \"#de77ae\"], [0.3, \"#f1b6da\"], [0.4, \"#fde0ef\"], [0.5, \"#f7f7f7\"], [0.6, \"#e6f5d0\"], [0.7, \"#b8e186\"], [0.8, \"#7fbc41\"], [0.9, \"#4d9221\"], [1, \"#276419\"]], \"sequential\": [[0.0, \"#0d0887\"], [0.1111111111111111, \"#46039f\"], [0.2222222222222222, \"#7201a8\"], [0.3333333333333333, \"#9c179e\"], [0.4444444444444444, \"#bd3786\"], [0.5555555555555556, \"#d8576b\"], [0.6666666666666666, \"#ed7953\"], [0.7777777777777778, \"#fb9f3a\"], [0.8888888888888888, \"#fdca26\"], [1.0, \"#f0f921\"]], \"sequentialminus\": [[0.0, \"#0d0887\"], [0.1111111111111111, \"#46039f\"], [0.2222222222222222, \"#7201a8\"], [0.3333333333333333, \"#9c179e\"], [0.4444444444444444, \"#bd3786\"], [0.5555555555555556, \"#d8576b\"], [0.6666666666666666, \"#ed7953\"], [0.7777777777777778, \"#fb9f3a\"], [0.8888888888888888, \"#fdca26\"], [1.0, \"#f0f921\"]]}, \"colorway\": [\"#636efa\", \"#EF553B\", \"#00cc96\", \"#ab63fa\", \"#FFA15A\", \"#19d3f3\", \"#FF6692\", \"#B6E880\", \"#FF97FF\", \"#FECB52\"], \"font\": {\"color\": \"#2a3f5f\"}, \"geo\": {\"bgcolor\": \"white\", \"lakecolor\": \"white\", \"landcolor\": \"#E5ECF6\", \"showlakes\": true, \"showland\": true, \"subunitcolor\": \"white\"}, \"hoverlabel\": {\"align\": \"left\"}, \"hovermode\": \"closest\", \"mapbox\": {\"style\": \"light\"}, \"paper_bgcolor\": \"white\", \"plot_bgcolor\": \"#E5ECF6\", \"polar\": {\"angularaxis\": {\"gridcolor\": \"white\", \"linecolor\": \"white\", \"ticks\": \"\"}, \"bgcolor\": \"#E5ECF6\", \"radialaxis\": {\"gridcolor\": \"white\", \"linecolor\": \"white\", \"ticks\": \"\"}}, \"scene\": {\"xaxis\": {\"backgroundcolor\": \"#E5ECF6\", \"gridcolor\": \"white\", \"gridwidth\": 2, \"linecolor\": \"white\", \"showbackground\": true, \"ticks\": \"\", \"zerolinecolor\": \"white\"}, \"yaxis\": {\"backgroundcolor\": \"#E5ECF6\", \"gridcolor\": \"white\", \"gridwidth\": 2, \"linecolor\": \"white\", \"showbackground\": true, \"ticks\": \"\", \"zerolinecolor\": \"white\"}, \"zaxis\": {\"backgroundcolor\": \"#E5ECF6\", \"gridcolor\": \"white\", \"gridwidth\": 2, \"linecolor\": \"white\", \"showbackground\": true, \"ticks\": \"\", \"zerolinecolor\": \"white\"}}, \"shapedefaults\": {\"line\": {\"color\": \"#2a3f5f\"}}, \"ternary\": {\"aaxis\": {\"gridcolor\": \"white\", \"linecolor\": \"white\", \"ticks\": \"\"}, \"baxis\": {\"gridcolor\": \"white\", \"linecolor\": \"white\", \"ticks\": \"\"}, \"bgcolor\": \"#E5ECF6\", \"caxis\": {\"gridcolor\": \"white\", \"linecolor\": \"white\", \"ticks\": \"\"}}, \"title\": {\"x\": 0.05}, \"xaxis\": {\"automargin\": true, \"gridcolor\": \"white\", \"linecolor\": \"white\", \"ticks\": \"\", \"zerolinecolor\": \"white\", \"zerolinewidth\": 2}, \"yaxis\": {\"automargin\": true, \"gridcolor\": \"white\", \"linecolor\": \"white\", \"ticks\": \"\", \"zerolinecolor\": \"white\", \"zerolinewidth\": 2}}}, \"xaxis\": {\"linecolor\": \"black\", \"linewidth\": 2, \"showline\": true, \"tickangle\": 45, \"ticklen\": 5, \"tickmode\": \"array\", \"ticks\": \"inside\", \"ticktext\": [\"MedKD\", \"AvgKD\", \"Q\", \"AKD\", 0.1, 0.2, 0.3, 0.4, 0.5, 0.6, 0.7, 0.8, 0.9, 1], \"tickvals\": [-0.4, -0.3, -0.2, -0.1, 0.1, 0.2, 0.3, 0.4, 0.5, 0.6, 0.7, 0.8, 0.9, 1], \"title\": {\"text\": \"(PKD)Delta\"}, \"zeroline\": true}, \"yaxis\": {\"gridcolor\": \"lightgrey\", \"gridwidth\": 1, \"linecolor\": \"black\", \"linewidth\": 2, \"showgrid\": true, \"showline\": true, \"ticklen\": 5, \"ticks\": \"inside\", \"title\": {\"text\": \"#Queries\"}, \"zeroline\": true}},\n",
       "                        {\"responsive\": true}\n",
       "                    ).then(function(){\n",
       "                            \n",
       "var gd = document.getElementById('c366d205-14bd-4512-820c-0f1dc325c42e');\n",
       "var x = new MutationObserver(function (mutations, observer) {{\n",
       "        var display = window.getComputedStyle(gd).display;\n",
       "        if (!display || display === 'none') {{\n",
       "            console.log([gd, 'removed!']);\n",
       "            Plotly.purge(gd);\n",
       "            observer.disconnect();\n",
       "        }}\n",
       "}});\n",
       "\n",
       "// Listen for the removal of the full notebook cells\n",
       "var notebookContainer = gd.closest('#notebook-container');\n",
       "if (notebookContainer) {{\n",
       "    x.observe(notebookContainer, {childList: true});\n",
       "}}\n",
       "\n",
       "// Listen for the clearing of the current output cell\n",
       "var outputEl = gd.closest('.output');\n",
       "if (outputEl) {{\n",
       "    x.observe(outputEl, {childList: true});\n",
       "}}\n",
       "\n",
       "                        })\n",
       "                };\n",
       "                });\n",
       "            </script>\n",
       "        </div>"
      ]
     },
     "metadata": {},
     "output_type": "display_data"
    }
   ],
   "source": [
    "fig = create_figure()\n",
    "\n",
    "cols = [8, 6, 4, 2]\n",
    "markers = delta_markers\n",
    "colors = ['rgba(168, 50, 119, 1)', 'rgba(235, 7, 7, 1)', 'rgba(54, 50, 168, 1)', 'rgba(1, 140, 22, 1)']\n",
    "\n",
    "lines = []\n",
    "\n",
    "for i, marker, color in zip(cols, markers, colors):\n",
    "    fq_times = []\n",
    "    for d in deltas:\n",
    "        fq_times.append(get_payoff(read(f'ProgressiveIndex_{d}', f'Uniform{i}'), read('FullScan', f'Uniform{i}')))\n",
    "    lines.append(\n",
    "        go.Scatter(\n",
    "            name=f'{i} cols',\n",
    "            x=deltas,\n",
    "            y=fq_times,\n",
    "            mode='lines+markers',\n",
    "            marker=dict(\n",
    "                size=18,\n",
    "                symbol=marker\n",
    "            ),\n",
    "            marker_color=color\n",
    "        )\n",
    "    )\n",
    "    \n",
    "    # add other indices values\n",
    "    lines.append(\n",
    "        go.Scatter(\n",
    "            name=f'{i}AKD',\n",
    "            x=[-0.1],\n",
    "            y=[get_payoff(read(f'CrackingKDTree' ,f'Uniform{i}'), read('FullScan', f'Uniform{i}'))],\n",
    "            mode='markers',\n",
    "            marker_color=color,\n",
    "            marker=dict(\n",
    "                size=18,\n",
    "                symbol='diamond'\n",
    "            ),\n",
    "            showlegend=False\n",
    "        )\n",
    "    )\n",
    "    \n",
    "    lines.append(\n",
    "        go.Scatter(\n",
    "            name=f'{i}Quasii',\n",
    "            x=[-0.2],\n",
    "            y=[get_payoff(read(f'Quasii' ,f'Uniform{i}'), read('FullScan', f'Uniform{i}'))],\n",
    "            mode='markers',\n",
    "            marker_color=color,\n",
    "            marker=dict(\n",
    "                size=18,\n",
    "                symbol=marker\n",
    "            ),\n",
    "            showlegend=False\n",
    "        )\n",
    "    )\n",
    "    \n",
    "    lines.append(\n",
    "        go.Scatter(\n",
    "            name=f'{i}AvgKD',\n",
    "            x=[-0.3],\n",
    "            y=[get_payoff(read(f'AverageKDTree' ,f'Uniform{i}'), read('FullScan', f'Uniform{i}'))],\n",
    "            mode='markers',\n",
    "            marker_color=color,\n",
    "            marker=dict(\n",
    "                size=18,\n",
    "                symbol=marker\n",
    "            ),\n",
    "            showlegend=False\n",
    "        )\n",
    "    )\n",
    "    \n",
    "    lines.append(\n",
    "        go.Scatter(\n",
    "            name=f'{i}MedKD',\n",
    "            x=[-0.4],\n",
    "            y=[get_payoff(read(f'MedianKDTree' ,f'Uniform{i}'), read('FullScan', f'Uniform{i}'))],\n",
    "            mode='markers',\n",
    "            marker_color=color,\n",
    "            marker=dict(\n",
    "                size=18,\n",
    "                symbol=marker\n",
    "            ),\n",
    "            showlegend=False\n",
    "        )\n",
    "    )\n",
    "\n",
    "# adding the 6 columns with 50% per attribute\n",
    "# fq_times = []\n",
    "# for d in deltas:\n",
    "#     fq_times.append(get_payoff(read(f'ProgressiveIndex_{d}', f'Uniform6_50'), read('FullScan', f'Uniform6_50')))\n",
    "# lines.append(\n",
    "#     go.Scatter(\n",
    "#         name=f'6 cols (50%)',\n",
    "#         x=deltas,\n",
    "#         y=fq_times,\n",
    "#         mode='lines+markers'\n",
    "#     )\n",
    "# )\n",
    "\n",
    "fig.add_traces(data=lines)\n",
    "fig.update_layout(showlegend=True, yaxis_title='#Queries', xaxis_title='(PKD)Delta')\n",
    "fig.update_xaxes(tickangle=45)\n",
    "fig.update_layout(\n",
    "#     xaxis=dict(\n",
    "#             tickmode = 'linear',\n",
    "#             tick0 = 0.0,\n",
    "#             dtick = 0.1,\n",
    "#         ),\n",
    "    xaxis = dict(\n",
    "        tickmode = 'array',\n",
    "        tickvals = [-0.4, -0.3, -0.2, -0.1] + deltas,\n",
    "        ticktext = ['MedKD', 'AvgKD', 'Q', 'AKD'] + deltas\n",
    "    ),\n",
    "        shapes=[\n",
    "            dict(\n",
    "                type= 'line',\n",
    "                yref=\"paper\", y0= 0, y1=1,\n",
    "                x0= 0.2, x1=0.2,\n",
    "                opacity=0.2\n",
    "            )\n",
    "        ]\n",
    ")\n",
    "save_figure(fig, 'delta_exp_pay_off.pdf')\n",
    "fig"
   ]
  },
  {
   "cell_type": "markdown",
   "metadata": {},
   "source": [
    "# Convergence"
   ]
  },
  {
   "cell_type": "code",
   "execution_count": 432,
   "metadata": {},
   "outputs": [
    {
     "data": {
      "application/vnd.plotly.v1+json": {
       "config": {
        "plotlyServerURL": "https://plot.ly"
       },
       "data": [
        {
         "marker": {
          "color": "rgba(168, 50, 119, 1)",
          "size": 18,
          "symbol": "circle"
         },
         "mode": "lines+markers",
         "name": "8 cols",
         "type": "scatter",
         "x": [
          0.1,
          0.2,
          0.3,
          0.4,
          0.5,
          0.6,
          0.7,
          0.8,
          0.9,
          1
         ],
         "y": [
          103,
          51,
          34,
          25,
          20,
          17,
          14,
          12,
          11,
          10
         ]
        },
        {
         "marker": {
          "color": "rgba(235, 7, 7, 1)",
          "size": 18,
          "symbol": "square"
         },
         "mode": "lines+markers",
         "name": "6 cols",
         "type": "scatter",
         "x": [
          0.1,
          0.2,
          0.3,
          0.4,
          0.5,
          0.6,
          0.7,
          0.8,
          0.9,
          1
         ],
         "y": [
          103,
          51,
          34,
          25,
          20,
          17,
          14,
          12,
          11,
          10
         ]
        },
        {
         "marker": {
          "color": "rgba(54, 50, 168, 1)",
          "size": 18,
          "symbol": "x"
         },
         "mode": "lines+markers",
         "name": "4 cols",
         "type": "scatter",
         "x": [
          0.1,
          0.2,
          0.3,
          0.4,
          0.5,
          0.6,
          0.7,
          0.8,
          0.9,
          1
         ],
         "y": [
          103,
          51,
          34,
          25,
          20,
          17,
          14,
          12,
          11,
          10
         ]
        },
        {
         "marker": {
          "color": "rgba(1, 140, 22, 1)",
          "size": 18,
          "symbol": "star"
         },
         "mode": "lines+markers",
         "name": "2 cols",
         "type": "scatter",
         "x": [
          0.1,
          0.2,
          0.3,
          0.4,
          0.5,
          0.6,
          0.7,
          0.8,
          0.9,
          1
         ],
         "y": [
          103,
          51,
          34,
          25,
          20,
          17,
          14,
          12,
          11,
          10
         ]
        }
       ],
       "layout": {
        "font": {
         "size": 42
        },
        "legend": {
         "font": {
          "color": "black",
          "size": 30
         }
        },
        "plot_bgcolor": "rgba(0,0,0,0)",
        "shapes": [
         {
          "opacity": 0.2,
          "type": "line",
          "x0": 0.2,
          "x1": 0.2,
          "y0": 0,
          "y1": 1,
          "yref": "paper"
         }
        ],
        "showlegend": true,
        "template": {
         "data": {
          "bar": [
           {
            "error_x": {
             "color": "#2a3f5f"
            },
            "error_y": {
             "color": "#2a3f5f"
            },
            "marker": {
             "line": {
              "color": "#E5ECF6",
              "width": 0.5
             }
            },
            "type": "bar"
           }
          ],
          "barpolar": [
           {
            "marker": {
             "line": {
              "color": "#E5ECF6",
              "width": 0.5
             }
            },
            "type": "barpolar"
           }
          ],
          "carpet": [
           {
            "aaxis": {
             "endlinecolor": "#2a3f5f",
             "gridcolor": "white",
             "linecolor": "white",
             "minorgridcolor": "white",
             "startlinecolor": "#2a3f5f"
            },
            "baxis": {
             "endlinecolor": "#2a3f5f",
             "gridcolor": "white",
             "linecolor": "white",
             "minorgridcolor": "white",
             "startlinecolor": "#2a3f5f"
            },
            "type": "carpet"
           }
          ],
          "choropleth": [
           {
            "colorbar": {
             "outlinewidth": 0,
             "ticks": ""
            },
            "type": "choropleth"
           }
          ],
          "contour": [
           {
            "colorbar": {
             "outlinewidth": 0,
             "ticks": ""
            },
            "colorscale": [
             [
              0,
              "#0d0887"
             ],
             [
              0.1111111111111111,
              "#46039f"
             ],
             [
              0.2222222222222222,
              "#7201a8"
             ],
             [
              0.3333333333333333,
              "#9c179e"
             ],
             [
              0.4444444444444444,
              "#bd3786"
             ],
             [
              0.5555555555555556,
              "#d8576b"
             ],
             [
              0.6666666666666666,
              "#ed7953"
             ],
             [
              0.7777777777777778,
              "#fb9f3a"
             ],
             [
              0.8888888888888888,
              "#fdca26"
             ],
             [
              1,
              "#f0f921"
             ]
            ],
            "type": "contour"
           }
          ],
          "contourcarpet": [
           {
            "colorbar": {
             "outlinewidth": 0,
             "ticks": ""
            },
            "type": "contourcarpet"
           }
          ],
          "heatmap": [
           {
            "colorbar": {
             "outlinewidth": 0,
             "ticks": ""
            },
            "colorscale": [
             [
              0,
              "#0d0887"
             ],
             [
              0.1111111111111111,
              "#46039f"
             ],
             [
              0.2222222222222222,
              "#7201a8"
             ],
             [
              0.3333333333333333,
              "#9c179e"
             ],
             [
              0.4444444444444444,
              "#bd3786"
             ],
             [
              0.5555555555555556,
              "#d8576b"
             ],
             [
              0.6666666666666666,
              "#ed7953"
             ],
             [
              0.7777777777777778,
              "#fb9f3a"
             ],
             [
              0.8888888888888888,
              "#fdca26"
             ],
             [
              1,
              "#f0f921"
             ]
            ],
            "type": "heatmap"
           }
          ],
          "heatmapgl": [
           {
            "colorbar": {
             "outlinewidth": 0,
             "ticks": ""
            },
            "colorscale": [
             [
              0,
              "#0d0887"
             ],
             [
              0.1111111111111111,
              "#46039f"
             ],
             [
              0.2222222222222222,
              "#7201a8"
             ],
             [
              0.3333333333333333,
              "#9c179e"
             ],
             [
              0.4444444444444444,
              "#bd3786"
             ],
             [
              0.5555555555555556,
              "#d8576b"
             ],
             [
              0.6666666666666666,
              "#ed7953"
             ],
             [
              0.7777777777777778,
              "#fb9f3a"
             ],
             [
              0.8888888888888888,
              "#fdca26"
             ],
             [
              1,
              "#f0f921"
             ]
            ],
            "type": "heatmapgl"
           }
          ],
          "histogram": [
           {
            "marker": {
             "colorbar": {
              "outlinewidth": 0,
              "ticks": ""
             }
            },
            "type": "histogram"
           }
          ],
          "histogram2d": [
           {
            "colorbar": {
             "outlinewidth": 0,
             "ticks": ""
            },
            "colorscale": [
             [
              0,
              "#0d0887"
             ],
             [
              0.1111111111111111,
              "#46039f"
             ],
             [
              0.2222222222222222,
              "#7201a8"
             ],
             [
              0.3333333333333333,
              "#9c179e"
             ],
             [
              0.4444444444444444,
              "#bd3786"
             ],
             [
              0.5555555555555556,
              "#d8576b"
             ],
             [
              0.6666666666666666,
              "#ed7953"
             ],
             [
              0.7777777777777778,
              "#fb9f3a"
             ],
             [
              0.8888888888888888,
              "#fdca26"
             ],
             [
              1,
              "#f0f921"
             ]
            ],
            "type": "histogram2d"
           }
          ],
          "histogram2dcontour": [
           {
            "colorbar": {
             "outlinewidth": 0,
             "ticks": ""
            },
            "colorscale": [
             [
              0,
              "#0d0887"
             ],
             [
              0.1111111111111111,
              "#46039f"
             ],
             [
              0.2222222222222222,
              "#7201a8"
             ],
             [
              0.3333333333333333,
              "#9c179e"
             ],
             [
              0.4444444444444444,
              "#bd3786"
             ],
             [
              0.5555555555555556,
              "#d8576b"
             ],
             [
              0.6666666666666666,
              "#ed7953"
             ],
             [
              0.7777777777777778,
              "#fb9f3a"
             ],
             [
              0.8888888888888888,
              "#fdca26"
             ],
             [
              1,
              "#f0f921"
             ]
            ],
            "type": "histogram2dcontour"
           }
          ],
          "mesh3d": [
           {
            "colorbar": {
             "outlinewidth": 0,
             "ticks": ""
            },
            "type": "mesh3d"
           }
          ],
          "parcoords": [
           {
            "line": {
             "colorbar": {
              "outlinewidth": 0,
              "ticks": ""
             }
            },
            "type": "parcoords"
           }
          ],
          "scatter": [
           {
            "marker": {
             "colorbar": {
              "outlinewidth": 0,
              "ticks": ""
             }
            },
            "type": "scatter"
           }
          ],
          "scatter3d": [
           {
            "line": {
             "colorbar": {
              "outlinewidth": 0,
              "ticks": ""
             }
            },
            "marker": {
             "colorbar": {
              "outlinewidth": 0,
              "ticks": ""
             }
            },
            "type": "scatter3d"
           }
          ],
          "scattercarpet": [
           {
            "marker": {
             "colorbar": {
              "outlinewidth": 0,
              "ticks": ""
             }
            },
            "type": "scattercarpet"
           }
          ],
          "scattergeo": [
           {
            "marker": {
             "colorbar": {
              "outlinewidth": 0,
              "ticks": ""
             }
            },
            "type": "scattergeo"
           }
          ],
          "scattergl": [
           {
            "marker": {
             "colorbar": {
              "outlinewidth": 0,
              "ticks": ""
             }
            },
            "type": "scattergl"
           }
          ],
          "scattermapbox": [
           {
            "marker": {
             "colorbar": {
              "outlinewidth": 0,
              "ticks": ""
             }
            },
            "type": "scattermapbox"
           }
          ],
          "scatterpolar": [
           {
            "marker": {
             "colorbar": {
              "outlinewidth": 0,
              "ticks": ""
             }
            },
            "type": "scatterpolar"
           }
          ],
          "scatterpolargl": [
           {
            "marker": {
             "colorbar": {
              "outlinewidth": 0,
              "ticks": ""
             }
            },
            "type": "scatterpolargl"
           }
          ],
          "scatterternary": [
           {
            "marker": {
             "colorbar": {
              "outlinewidth": 0,
              "ticks": ""
             }
            },
            "type": "scatterternary"
           }
          ],
          "surface": [
           {
            "colorbar": {
             "outlinewidth": 0,
             "ticks": ""
            },
            "colorscale": [
             [
              0,
              "#0d0887"
             ],
             [
              0.1111111111111111,
              "#46039f"
             ],
             [
              0.2222222222222222,
              "#7201a8"
             ],
             [
              0.3333333333333333,
              "#9c179e"
             ],
             [
              0.4444444444444444,
              "#bd3786"
             ],
             [
              0.5555555555555556,
              "#d8576b"
             ],
             [
              0.6666666666666666,
              "#ed7953"
             ],
             [
              0.7777777777777778,
              "#fb9f3a"
             ],
             [
              0.8888888888888888,
              "#fdca26"
             ],
             [
              1,
              "#f0f921"
             ]
            ],
            "type": "surface"
           }
          ],
          "table": [
           {
            "cells": {
             "fill": {
              "color": "#EBF0F8"
             },
             "line": {
              "color": "white"
             }
            },
            "header": {
             "fill": {
              "color": "#C8D4E3"
             },
             "line": {
              "color": "white"
             }
            },
            "type": "table"
           }
          ]
         },
         "layout": {
          "annotationdefaults": {
           "arrowcolor": "#2a3f5f",
           "arrowhead": 0,
           "arrowwidth": 1
          },
          "colorscale": {
           "diverging": [
            [
             0,
             "#8e0152"
            ],
            [
             0.1,
             "#c51b7d"
            ],
            [
             0.2,
             "#de77ae"
            ],
            [
             0.3,
             "#f1b6da"
            ],
            [
             0.4,
             "#fde0ef"
            ],
            [
             0.5,
             "#f7f7f7"
            ],
            [
             0.6,
             "#e6f5d0"
            ],
            [
             0.7,
             "#b8e186"
            ],
            [
             0.8,
             "#7fbc41"
            ],
            [
             0.9,
             "#4d9221"
            ],
            [
             1,
             "#276419"
            ]
           ],
           "sequential": [
            [
             0,
             "#0d0887"
            ],
            [
             0.1111111111111111,
             "#46039f"
            ],
            [
             0.2222222222222222,
             "#7201a8"
            ],
            [
             0.3333333333333333,
             "#9c179e"
            ],
            [
             0.4444444444444444,
             "#bd3786"
            ],
            [
             0.5555555555555556,
             "#d8576b"
            ],
            [
             0.6666666666666666,
             "#ed7953"
            ],
            [
             0.7777777777777778,
             "#fb9f3a"
            ],
            [
             0.8888888888888888,
             "#fdca26"
            ],
            [
             1,
             "#f0f921"
            ]
           ],
           "sequentialminus": [
            [
             0,
             "#0d0887"
            ],
            [
             0.1111111111111111,
             "#46039f"
            ],
            [
             0.2222222222222222,
             "#7201a8"
            ],
            [
             0.3333333333333333,
             "#9c179e"
            ],
            [
             0.4444444444444444,
             "#bd3786"
            ],
            [
             0.5555555555555556,
             "#d8576b"
            ],
            [
             0.6666666666666666,
             "#ed7953"
            ],
            [
             0.7777777777777778,
             "#fb9f3a"
            ],
            [
             0.8888888888888888,
             "#fdca26"
            ],
            [
             1,
             "#f0f921"
            ]
           ]
          },
          "colorway": [
           "#636efa",
           "#EF553B",
           "#00cc96",
           "#ab63fa",
           "#FFA15A",
           "#19d3f3",
           "#FF6692",
           "#B6E880",
           "#FF97FF",
           "#FECB52"
          ],
          "font": {
           "color": "#2a3f5f"
          },
          "geo": {
           "bgcolor": "white",
           "lakecolor": "white",
           "landcolor": "#E5ECF6",
           "showlakes": true,
           "showland": true,
           "subunitcolor": "white"
          },
          "hoverlabel": {
           "align": "left"
          },
          "hovermode": "closest",
          "mapbox": {
           "style": "light"
          },
          "paper_bgcolor": "white",
          "plot_bgcolor": "#E5ECF6",
          "polar": {
           "angularaxis": {
            "gridcolor": "white",
            "linecolor": "white",
            "ticks": ""
           },
           "bgcolor": "#E5ECF6",
           "radialaxis": {
            "gridcolor": "white",
            "linecolor": "white",
            "ticks": ""
           }
          },
          "scene": {
           "xaxis": {
            "backgroundcolor": "#E5ECF6",
            "gridcolor": "white",
            "gridwidth": 2,
            "linecolor": "white",
            "showbackground": true,
            "ticks": "",
            "zerolinecolor": "white"
           },
           "yaxis": {
            "backgroundcolor": "#E5ECF6",
            "gridcolor": "white",
            "gridwidth": 2,
            "linecolor": "white",
            "showbackground": true,
            "ticks": "",
            "zerolinecolor": "white"
           },
           "zaxis": {
            "backgroundcolor": "#E5ECF6",
            "gridcolor": "white",
            "gridwidth": 2,
            "linecolor": "white",
            "showbackground": true,
            "ticks": "",
            "zerolinecolor": "white"
           }
          },
          "shapedefaults": {
           "line": {
            "color": "#2a3f5f"
           }
          },
          "ternary": {
           "aaxis": {
            "gridcolor": "white",
            "linecolor": "white",
            "ticks": ""
           },
           "baxis": {
            "gridcolor": "white",
            "linecolor": "white",
            "ticks": ""
           },
           "bgcolor": "#E5ECF6",
           "caxis": {
            "gridcolor": "white",
            "linecolor": "white",
            "ticks": ""
           }
          },
          "title": {
           "x": 0.05
          },
          "xaxis": {
           "automargin": true,
           "gridcolor": "white",
           "linecolor": "white",
           "ticks": "",
           "zerolinecolor": "white",
           "zerolinewidth": 2
          },
          "yaxis": {
           "automargin": true,
           "gridcolor": "white",
           "linecolor": "white",
           "ticks": "",
           "zerolinecolor": "white",
           "zerolinewidth": 2
          }
         }
        },
        "xaxis": {
         "dtick": 0.1,
         "linecolor": "black",
         "linewidth": 2,
         "showline": true,
         "tick0": 0,
         "tickangle": 65,
         "ticklen": 5,
         "tickmode": "linear",
         "ticks": "inside",
         "title": {
          "text": "Delta"
         },
         "zeroline": true
        },
        "yaxis": {
         "gridcolor": "lightgrey",
         "gridwidth": 1,
         "linecolor": "black",
         "linewidth": 2,
         "showgrid": true,
         "showline": true,
         "ticklen": 5,
         "ticks": "inside",
         "title": {
          "text": "#Queries"
         },
         "zeroline": true
        }
       }
      },
      "text/html": [
       "<div>\n",
       "        \n",
       "        \n",
       "            <div id=\"0fbecf32-5ade-4c10-9e30-910b7a1d0014\" class=\"plotly-graph-div\" style=\"height:525px; width:100%;\"></div>\n",
       "            <script type=\"text/javascript\">\n",
       "                require([\"plotly\"], function(Plotly) {\n",
       "                    window.PLOTLYENV=window.PLOTLYENV || {};\n",
       "                    \n",
       "                if (document.getElementById(\"0fbecf32-5ade-4c10-9e30-910b7a1d0014\")) {\n",
       "                    Plotly.newPlot(\n",
       "                        '0fbecf32-5ade-4c10-9e30-910b7a1d0014',\n",
       "                        [{\"marker\": {\"color\": \"rgba(168, 50, 119, 1)\", \"size\": 18, \"symbol\": \"circle\"}, \"mode\": \"lines+markers\", \"name\": \"8 cols\", \"type\": \"scatter\", \"x\": [0.1, 0.2, 0.3, 0.4, 0.5, 0.6, 0.7, 0.8, 0.9, 1], \"y\": [103, 51, 34, 25, 20, 17, 14, 12, 11, 10]}, {\"marker\": {\"color\": \"rgba(235, 7, 7, 1)\", \"size\": 18, \"symbol\": \"square\"}, \"mode\": \"lines+markers\", \"name\": \"6 cols\", \"type\": \"scatter\", \"x\": [0.1, 0.2, 0.3, 0.4, 0.5, 0.6, 0.7, 0.8, 0.9, 1], \"y\": [103, 51, 34, 25, 20, 17, 14, 12, 11, 10]}, {\"marker\": {\"color\": \"rgba(54, 50, 168, 1)\", \"size\": 18, \"symbol\": \"x\"}, \"mode\": \"lines+markers\", \"name\": \"4 cols\", \"type\": \"scatter\", \"x\": [0.1, 0.2, 0.3, 0.4, 0.5, 0.6, 0.7, 0.8, 0.9, 1], \"y\": [103, 51, 34, 25, 20, 17, 14, 12, 11, 10]}, {\"marker\": {\"color\": \"rgba(1, 140, 22, 1)\", \"size\": 18, \"symbol\": \"star\"}, \"mode\": \"lines+markers\", \"name\": \"2 cols\", \"type\": \"scatter\", \"x\": [0.1, 0.2, 0.3, 0.4, 0.5, 0.6, 0.7, 0.8, 0.9, 1], \"y\": [103, 51, 34, 25, 20, 17, 14, 12, 11, 10]}],\n",
       "                        {\"font\": {\"size\": 42}, \"legend\": {\"font\": {\"color\": \"black\", \"size\": 30}}, \"plot_bgcolor\": \"rgba(0,0,0,0)\", \"shapes\": [{\"opacity\": 0.2, \"type\": \"line\", \"x0\": 0.2, \"x1\": 0.2, \"y0\": 0, \"y1\": 1, \"yref\": \"paper\"}], \"showlegend\": true, \"template\": {\"data\": {\"bar\": [{\"error_x\": {\"color\": \"#2a3f5f\"}, \"error_y\": {\"color\": \"#2a3f5f\"}, \"marker\": {\"line\": {\"color\": \"#E5ECF6\", \"width\": 0.5}}, \"type\": \"bar\"}], \"barpolar\": [{\"marker\": {\"line\": {\"color\": \"#E5ECF6\", \"width\": 0.5}}, \"type\": \"barpolar\"}], \"carpet\": [{\"aaxis\": {\"endlinecolor\": \"#2a3f5f\", \"gridcolor\": \"white\", \"linecolor\": \"white\", \"minorgridcolor\": \"white\", \"startlinecolor\": \"#2a3f5f\"}, \"baxis\": {\"endlinecolor\": \"#2a3f5f\", \"gridcolor\": \"white\", \"linecolor\": \"white\", \"minorgridcolor\": \"white\", \"startlinecolor\": \"#2a3f5f\"}, \"type\": \"carpet\"}], \"choropleth\": [{\"colorbar\": {\"outlinewidth\": 0, \"ticks\": \"\"}, \"type\": \"choropleth\"}], \"contour\": [{\"colorbar\": {\"outlinewidth\": 0, \"ticks\": \"\"}, \"colorscale\": [[0.0, \"#0d0887\"], [0.1111111111111111, \"#46039f\"], [0.2222222222222222, \"#7201a8\"], [0.3333333333333333, \"#9c179e\"], [0.4444444444444444, \"#bd3786\"], [0.5555555555555556, \"#d8576b\"], [0.6666666666666666, \"#ed7953\"], [0.7777777777777778, \"#fb9f3a\"], [0.8888888888888888, \"#fdca26\"], [1.0, \"#f0f921\"]], \"type\": \"contour\"}], \"contourcarpet\": [{\"colorbar\": {\"outlinewidth\": 0, \"ticks\": \"\"}, \"type\": \"contourcarpet\"}], \"heatmap\": [{\"colorbar\": {\"outlinewidth\": 0, \"ticks\": \"\"}, \"colorscale\": [[0.0, \"#0d0887\"], [0.1111111111111111, \"#46039f\"], [0.2222222222222222, \"#7201a8\"], [0.3333333333333333, \"#9c179e\"], [0.4444444444444444, \"#bd3786\"], [0.5555555555555556, \"#d8576b\"], [0.6666666666666666, \"#ed7953\"], [0.7777777777777778, \"#fb9f3a\"], [0.8888888888888888, \"#fdca26\"], [1.0, \"#f0f921\"]], \"type\": \"heatmap\"}], \"heatmapgl\": [{\"colorbar\": {\"outlinewidth\": 0, \"ticks\": \"\"}, \"colorscale\": [[0.0, \"#0d0887\"], [0.1111111111111111, \"#46039f\"], [0.2222222222222222, \"#7201a8\"], [0.3333333333333333, \"#9c179e\"], [0.4444444444444444, \"#bd3786\"], [0.5555555555555556, \"#d8576b\"], [0.6666666666666666, \"#ed7953\"], [0.7777777777777778, \"#fb9f3a\"], [0.8888888888888888, \"#fdca26\"], [1.0, \"#f0f921\"]], \"type\": \"heatmapgl\"}], \"histogram\": [{\"marker\": {\"colorbar\": {\"outlinewidth\": 0, \"ticks\": \"\"}}, \"type\": \"histogram\"}], \"histogram2d\": [{\"colorbar\": {\"outlinewidth\": 0, \"ticks\": \"\"}, \"colorscale\": [[0.0, \"#0d0887\"], [0.1111111111111111, \"#46039f\"], [0.2222222222222222, \"#7201a8\"], [0.3333333333333333, \"#9c179e\"], [0.4444444444444444, \"#bd3786\"], [0.5555555555555556, \"#d8576b\"], [0.6666666666666666, \"#ed7953\"], [0.7777777777777778, \"#fb9f3a\"], [0.8888888888888888, \"#fdca26\"], [1.0, \"#f0f921\"]], \"type\": \"histogram2d\"}], \"histogram2dcontour\": [{\"colorbar\": {\"outlinewidth\": 0, \"ticks\": \"\"}, \"colorscale\": [[0.0, \"#0d0887\"], [0.1111111111111111, \"#46039f\"], [0.2222222222222222, \"#7201a8\"], [0.3333333333333333, \"#9c179e\"], [0.4444444444444444, \"#bd3786\"], [0.5555555555555556, \"#d8576b\"], [0.6666666666666666, \"#ed7953\"], [0.7777777777777778, \"#fb9f3a\"], [0.8888888888888888, \"#fdca26\"], [1.0, \"#f0f921\"]], \"type\": \"histogram2dcontour\"}], \"mesh3d\": [{\"colorbar\": {\"outlinewidth\": 0, \"ticks\": \"\"}, \"type\": \"mesh3d\"}], \"parcoords\": [{\"line\": {\"colorbar\": {\"outlinewidth\": 0, \"ticks\": \"\"}}, \"type\": \"parcoords\"}], \"scatter\": [{\"marker\": {\"colorbar\": {\"outlinewidth\": 0, \"ticks\": \"\"}}, \"type\": \"scatter\"}], \"scatter3d\": [{\"line\": {\"colorbar\": {\"outlinewidth\": 0, \"ticks\": \"\"}}, \"marker\": {\"colorbar\": {\"outlinewidth\": 0, \"ticks\": \"\"}}, \"type\": \"scatter3d\"}], \"scattercarpet\": [{\"marker\": {\"colorbar\": {\"outlinewidth\": 0, \"ticks\": \"\"}}, \"type\": \"scattercarpet\"}], \"scattergeo\": [{\"marker\": {\"colorbar\": {\"outlinewidth\": 0, \"ticks\": \"\"}}, \"type\": \"scattergeo\"}], \"scattergl\": [{\"marker\": {\"colorbar\": {\"outlinewidth\": 0, \"ticks\": \"\"}}, \"type\": \"scattergl\"}], \"scattermapbox\": [{\"marker\": {\"colorbar\": {\"outlinewidth\": 0, \"ticks\": \"\"}}, \"type\": \"scattermapbox\"}], \"scatterpolar\": [{\"marker\": {\"colorbar\": {\"outlinewidth\": 0, \"ticks\": \"\"}}, \"type\": \"scatterpolar\"}], \"scatterpolargl\": [{\"marker\": {\"colorbar\": {\"outlinewidth\": 0, \"ticks\": \"\"}}, \"type\": \"scatterpolargl\"}], \"scatterternary\": [{\"marker\": {\"colorbar\": {\"outlinewidth\": 0, \"ticks\": \"\"}}, \"type\": \"scatterternary\"}], \"surface\": [{\"colorbar\": {\"outlinewidth\": 0, \"ticks\": \"\"}, \"colorscale\": [[0.0, \"#0d0887\"], [0.1111111111111111, \"#46039f\"], [0.2222222222222222, \"#7201a8\"], [0.3333333333333333, \"#9c179e\"], [0.4444444444444444, \"#bd3786\"], [0.5555555555555556, \"#d8576b\"], [0.6666666666666666, \"#ed7953\"], [0.7777777777777778, \"#fb9f3a\"], [0.8888888888888888, \"#fdca26\"], [1.0, \"#f0f921\"]], \"type\": \"surface\"}], \"table\": [{\"cells\": {\"fill\": {\"color\": \"#EBF0F8\"}, \"line\": {\"color\": \"white\"}}, \"header\": {\"fill\": {\"color\": \"#C8D4E3\"}, \"line\": {\"color\": \"white\"}}, \"type\": \"table\"}]}, \"layout\": {\"annotationdefaults\": {\"arrowcolor\": \"#2a3f5f\", \"arrowhead\": 0, \"arrowwidth\": 1}, \"colorscale\": {\"diverging\": [[0, \"#8e0152\"], [0.1, \"#c51b7d\"], [0.2, \"#de77ae\"], [0.3, \"#f1b6da\"], [0.4, \"#fde0ef\"], [0.5, \"#f7f7f7\"], [0.6, \"#e6f5d0\"], [0.7, \"#b8e186\"], [0.8, \"#7fbc41\"], [0.9, \"#4d9221\"], [1, \"#276419\"]], \"sequential\": [[0.0, \"#0d0887\"], [0.1111111111111111, \"#46039f\"], [0.2222222222222222, \"#7201a8\"], [0.3333333333333333, \"#9c179e\"], [0.4444444444444444, \"#bd3786\"], [0.5555555555555556, \"#d8576b\"], [0.6666666666666666, \"#ed7953\"], [0.7777777777777778, \"#fb9f3a\"], [0.8888888888888888, \"#fdca26\"], [1.0, \"#f0f921\"]], \"sequentialminus\": [[0.0, \"#0d0887\"], [0.1111111111111111, \"#46039f\"], [0.2222222222222222, \"#7201a8\"], [0.3333333333333333, \"#9c179e\"], [0.4444444444444444, \"#bd3786\"], [0.5555555555555556, \"#d8576b\"], [0.6666666666666666, \"#ed7953\"], [0.7777777777777778, \"#fb9f3a\"], [0.8888888888888888, \"#fdca26\"], [1.0, \"#f0f921\"]]}, \"colorway\": [\"#636efa\", \"#EF553B\", \"#00cc96\", \"#ab63fa\", \"#FFA15A\", \"#19d3f3\", \"#FF6692\", \"#B6E880\", \"#FF97FF\", \"#FECB52\"], \"font\": {\"color\": \"#2a3f5f\"}, \"geo\": {\"bgcolor\": \"white\", \"lakecolor\": \"white\", \"landcolor\": \"#E5ECF6\", \"showlakes\": true, \"showland\": true, \"subunitcolor\": \"white\"}, \"hoverlabel\": {\"align\": \"left\"}, \"hovermode\": \"closest\", \"mapbox\": {\"style\": \"light\"}, \"paper_bgcolor\": \"white\", \"plot_bgcolor\": \"#E5ECF6\", \"polar\": {\"angularaxis\": {\"gridcolor\": \"white\", \"linecolor\": \"white\", \"ticks\": \"\"}, \"bgcolor\": \"#E5ECF6\", \"radialaxis\": {\"gridcolor\": \"white\", \"linecolor\": \"white\", \"ticks\": \"\"}}, \"scene\": {\"xaxis\": {\"backgroundcolor\": \"#E5ECF6\", \"gridcolor\": \"white\", \"gridwidth\": 2, \"linecolor\": \"white\", \"showbackground\": true, \"ticks\": \"\", \"zerolinecolor\": \"white\"}, \"yaxis\": {\"backgroundcolor\": \"#E5ECF6\", \"gridcolor\": \"white\", \"gridwidth\": 2, \"linecolor\": \"white\", \"showbackground\": true, \"ticks\": \"\", \"zerolinecolor\": \"white\"}, \"zaxis\": {\"backgroundcolor\": \"#E5ECF6\", \"gridcolor\": \"white\", \"gridwidth\": 2, \"linecolor\": \"white\", \"showbackground\": true, \"ticks\": \"\", \"zerolinecolor\": \"white\"}}, \"shapedefaults\": {\"line\": {\"color\": \"#2a3f5f\"}}, \"ternary\": {\"aaxis\": {\"gridcolor\": \"white\", \"linecolor\": \"white\", \"ticks\": \"\"}, \"baxis\": {\"gridcolor\": \"white\", \"linecolor\": \"white\", \"ticks\": \"\"}, \"bgcolor\": \"#E5ECF6\", \"caxis\": {\"gridcolor\": \"white\", \"linecolor\": \"white\", \"ticks\": \"\"}}, \"title\": {\"x\": 0.05}, \"xaxis\": {\"automargin\": true, \"gridcolor\": \"white\", \"linecolor\": \"white\", \"ticks\": \"\", \"zerolinecolor\": \"white\", \"zerolinewidth\": 2}, \"yaxis\": {\"automargin\": true, \"gridcolor\": \"white\", \"linecolor\": \"white\", \"ticks\": \"\", \"zerolinecolor\": \"white\", \"zerolinewidth\": 2}}}, \"xaxis\": {\"dtick\": 0.1, \"linecolor\": \"black\", \"linewidth\": 2, \"showline\": true, \"tick0\": 0.0, \"tickangle\": 65, \"ticklen\": 5, \"tickmode\": \"linear\", \"ticks\": \"inside\", \"title\": {\"text\": \"Delta\"}, \"zeroline\": true}, \"yaxis\": {\"gridcolor\": \"lightgrey\", \"gridwidth\": 1, \"linecolor\": \"black\", \"linewidth\": 2, \"showgrid\": true, \"showline\": true, \"ticklen\": 5, \"ticks\": \"inside\", \"title\": {\"text\": \"#Queries\"}, \"zeroline\": true}},\n",
       "                        {\"responsive\": true}\n",
       "                    ).then(function(){\n",
       "                            \n",
       "var gd = document.getElementById('0fbecf32-5ade-4c10-9e30-910b7a1d0014');\n",
       "var x = new MutationObserver(function (mutations, observer) {{\n",
       "        var display = window.getComputedStyle(gd).display;\n",
       "        if (!display || display === 'none') {{\n",
       "            console.log([gd, 'removed!']);\n",
       "            Plotly.purge(gd);\n",
       "            observer.disconnect();\n",
       "        }}\n",
       "}});\n",
       "\n",
       "// Listen for the removal of the full notebook cells\n",
       "var notebookContainer = gd.closest('#notebook-container');\n",
       "if (notebookContainer) {{\n",
       "    x.observe(notebookContainer, {childList: true});\n",
       "}}\n",
       "\n",
       "// Listen for the clearing of the current output cell\n",
       "var outputEl = gd.closest('.output');\n",
       "if (outputEl) {{\n",
       "    x.observe(outputEl, {childList: true});\n",
       "}}\n",
       "\n",
       "                        })\n",
       "                };\n",
       "                });\n",
       "            </script>\n",
       "        </div>"
      ]
     },
     "metadata": {},
     "output_type": "display_data"
    }
   ],
   "source": [
    "fig = create_figure()\n",
    "\n",
    "cols = [8, 6, 4, 2]\n",
    "markers = delta_markers\n",
    "colors = ['rgba(168, 50, 119, 1)', 'rgba(235, 7, 7, 1)', 'rgba(54, 50, 168, 1)', 'rgba(1, 140, 22, 1)']\n",
    "\n",
    "lines = []\n",
    "\n",
    "for i, marker, color in zip(cols, markers, colors):\n",
    "    fq_times = []\n",
    "    for d in deltas:\n",
    "        fq_times.append(get_convergence(read(f'ProgressiveIndex_{d}', f'Uniform{i}')))\n",
    "    lines.append(\n",
    "        go.Scatter(\n",
    "            name=f'{i} cols',\n",
    "            x=deltas,\n",
    "            y=fq_times,\n",
    "            mode='lines+markers',\n",
    "            marker=dict(\n",
    "                size=18,\n",
    "                symbol=marker\n",
    "            ),\n",
    "            marker_color=color\n",
    "        )\n",
    "    )\n",
    "\n",
    "fig.add_traces(data=lines)\n",
    "fig.update_layout(showlegend=True, yaxis_title='#Queries', xaxis_title='Delta')\n",
    "fig.update_xaxes(tickangle=65)\n",
    "fig.update_layout(\n",
    "    xaxis=dict(\n",
    "        tickmode = 'linear',\n",
    "        tick0 = 0.0,\n",
    "        dtick = 0.1\n",
    "    ),\n",
    "    shapes=[\n",
    "        dict(\n",
    "            type= 'line',\n",
    "            yref=\"paper\", y0= 0, y1=1,\n",
    "            x0= 0.2, x1=0.2,\n",
    "            opacity=0.2\n",
    "        )\n",
    "    ]\n",
    ")\n",
    "save_figure(fig, 'delta_exp-convergence.pdf')\n",
    "fig"
   ]
  },
  {
   "cell_type": "markdown",
   "metadata": {},
   "source": [
    "# Cumulative cost after convergence vs total cumulative cost"
   ]
  },
  {
   "cell_type": "code",
   "execution_count": 437,
   "metadata": {},
   "outputs": [
    {
     "data": {
      "application/vnd.plotly.v1+json": {
       "config": {
        "plotlyServerURL": "https://plot.ly"
       },
       "data": [
        {
         "marker": {
          "color": "rgba(1, 140, 22, 1)"
         },
         "mode": "lines",
         "name": "2 cols",
         "showlegend": false,
         "type": "scatter",
         "x": [
          0.1,
          0.2,
          0.3,
          0.4,
          0.5,
          0.6,
          0.7,
          0.8,
          0.9,
          1
         ],
         "y": [
          1.439365,
          1.561755,
          1.582223,
          1.689101,
          1.690213,
          1.6123059999999998,
          1.777315,
          1.8554210000000002,
          1.7461959999999999,
          1.707255
         ]
        },
        {
         "fill": "tonexty",
         "fillcolor": "rgba(1, 140, 22, 0.2)",
         "marker": {
          "color": "rgba(1, 140, 22, 1)"
         },
         "mode": "lines",
         "name": "2 cols",
         "type": "scatter",
         "x": [
          0.1,
          0.2,
          0.3,
          0.4,
          0.5,
          0.6,
          0.7,
          0.8,
          0.9,
          1
         ],
         "y": [
          8.833331,
          7.1678619999999995,
          6.5744799999999985,
          6.219567,
          6.096705999999999,
          5.973276,
          5.9403570000000006,
          5.925886,
          5.911944000000001,
          5.826517
         ]
        },
        {
         "marker": {
          "color": "rgba(1, 140, 22, 1)",
          "size": 18,
          "symbol": "triangle-up"
         },
         "mode": "markers",
         "name": "2 cols",
         "showlegend": false,
         "type": "scatter",
         "x": [
          0.1,
          0.2,
          0.3,
          0.4,
          0.5,
          0.6,
          0.7,
          0.8,
          0.9,
          1
         ],
         "y": [
          1.439365,
          1.561755,
          1.582223,
          1.689101,
          1.690213,
          1.6123059999999998,
          1.777315,
          1.8554210000000002,
          1.7461959999999999,
          1.707255
         ]
        },
        {
         "marker": {
          "color": "rgba(1, 140, 22, 1)",
          "size": 18,
          "symbol": "triangle-down"
         },
         "mode": "markers",
         "name": "2 cols",
         "showlegend": false,
         "type": "scatter",
         "x": [
          0.1,
          0.2,
          0.3,
          0.4,
          0.5,
          0.6,
          0.7,
          0.8,
          0.9,
          1
         ],
         "y": [
          8.833331,
          7.1678619999999995,
          6.5744799999999985,
          6.219567,
          6.096705999999999,
          5.973276,
          5.9403570000000006,
          5.925886,
          5.911944000000001,
          5.826517
         ]
        },
        {
         "marker": {
          "color": "rgba(1, 140, 22, 1)",
          "size": 18,
          "symbol": "triangle-down"
         },
         "mode": "markers",
         "name": "2AKD",
         "showlegend": false,
         "type": "scatter",
         "x": [
          -0.1
         ],
         "y": [
          5.017982
         ]
        },
        {
         "marker": {
          "color": "rgba(1, 140, 22, 1)",
          "size": 18,
          "symbol": "triangle-down"
         },
         "mode": "markers",
         "name": "2Quasii",
         "showlegend": false,
         "type": "scatter",
         "x": [
          -0.2
         ],
         "y": [
          5.703536000000001
         ]
        },
        {
         "marker": {
          "color": "rgba(1, 140, 22, 1)",
          "size": 18,
          "symbol": "triangle-down"
         },
         "mode": "markers",
         "name": "2AvgKD",
         "showlegend": false,
         "type": "scatter",
         "x": [
          -0.3
         ],
         "y": [
          6.273029999999999
         ]
        },
        {
         "marker": {
          "color": "rgba(1, 140, 22, 1)",
          "size": 18,
          "symbol": "triangle-down"
         },
         "mode": "markers",
         "name": "2MedKD",
         "showlegend": false,
         "type": "scatter",
         "x": [
          -0.4
         ],
         "y": [
          10.418722000000002
         ]
        },
        {
         "marker": {
          "color": "rgba(54, 50, 168, 1)"
         },
         "mode": "lines",
         "name": "4 cols",
         "showlegend": false,
         "type": "scatter",
         "x": [
          0.1,
          0.2,
          0.3,
          0.4,
          0.5,
          0.6,
          0.7,
          0.8,
          0.9,
          1
         ],
         "y": [
          7.069042,
          7.518566,
          7.635972000000001,
          7.867846,
          7.852581,
          7.767296,
          7.991315,
          8.098626,
          7.928757999999999,
          7.939213
         ]
        },
        {
         "fill": "tonexty",
         "fillcolor": "rgba(54, 50, 168, 0.2)",
         "marker": {
          "color": "rgba(54, 50, 168, 1)"
         },
         "mode": "lines",
         "name": "4 cols",
         "type": "scatter",
         "x": [
          0.1,
          0.2,
          0.3,
          0.4,
          0.5,
          0.6,
          0.7,
          0.8,
          0.9,
          1
         ],
         "y": [
          19.723456,
          16.511701000000002,
          15.151781999999999,
          14.609991999999998,
          14.377653,
          14.180621,
          13.894694999999999,
          13.947584,
          13.661111,
          13.547716000000001
         ]
        },
        {
         "marker": {
          "color": "rgba(54, 50, 168, 1)",
          "size": 18,
          "symbol": "triangle-up"
         },
         "mode": "markers",
         "name": "4 cols",
         "showlegend": false,
         "type": "scatter",
         "x": [
          0.1,
          0.2,
          0.3,
          0.4,
          0.5,
          0.6,
          0.7,
          0.8,
          0.9,
          1
         ],
         "y": [
          7.069042,
          7.518566,
          7.635972000000001,
          7.867846,
          7.852581,
          7.767296,
          7.991315,
          8.098626,
          7.928757999999999,
          7.939213
         ]
        },
        {
         "marker": {
          "color": "rgba(54, 50, 168, 1)",
          "size": 18,
          "symbol": "triangle-down"
         },
         "mode": "markers",
         "name": "4 cols",
         "showlegend": false,
         "type": "scatter",
         "x": [
          0.1,
          0.2,
          0.3,
          0.4,
          0.5,
          0.6,
          0.7,
          0.8,
          0.9,
          1
         ],
         "y": [
          19.723456,
          16.511701000000002,
          15.151781999999999,
          14.609991999999998,
          14.377653,
          14.180621,
          13.894694999999999,
          13.947584,
          13.661111,
          13.547716000000001
         ]
        },
        {
         "marker": {
          "color": "rgba(54, 50, 168, 1)",
          "size": 18,
          "symbol": "triangle-down"
         },
         "mode": "markers",
         "name": "4AKD",
         "showlegend": false,
         "type": "scatter",
         "x": [
          -0.1
         ],
         "y": [
          12.862060000000003
         ]
        },
        {
         "marker": {
          "color": "rgba(54, 50, 168, 1)",
          "size": 18,
          "symbol": "triangle-down"
         },
         "mode": "markers",
         "name": "4Quasii",
         "showlegend": false,
         "type": "scatter",
         "x": [
          -0.2
         ],
         "y": [
          12.100223999999999
         ]
        },
        {
         "marker": {
          "color": "rgba(54, 50, 168, 1)",
          "size": 18,
          "symbol": "triangle-down"
         },
         "mode": "markers",
         "name": "4AvgKD",
         "showlegend": false,
         "type": "scatter",
         "x": [
          -0.3
         ],
         "y": [
          13.158289000000003
         ]
        },
        {
         "marker": {
          "color": "rgba(54, 50, 168, 1)",
          "size": 18,
          "symbol": "triangle-down"
         },
         "mode": "markers",
         "name": "4MedKD",
         "showlegend": false,
         "type": "scatter",
         "x": [
          -0.4
         ],
         "y": [
          17.357009
         ]
        },
        {
         "marker": {
          "color": "rgba(235, 7, 7, 1)"
         },
         "mode": "lines",
         "name": "6 cols",
         "showlegend": false,
         "type": "scatter",
         "x": [
          0.1,
          0.2,
          0.3,
          0.4,
          0.5,
          0.6,
          0.7,
          0.8,
          0.9,
          1
         ],
         "y": [
          25.898432,
          27.469079999999998,
          28.130513,
          28.309008,
          28.581491,
          28.395246,
          28.797220000000003,
          28.831477999999997,
          28.930569,
          28.892298
         ]
        },
        {
         "fill": "tonexty",
         "fillcolor": "rgba(235, 7, 7, 0.2)",
         "marker": {
          "color": "rgba(235, 7, 7, 1)"
         },
         "mode": "lines",
         "name": "6 cols",
         "type": "scatter",
         "x": [
          0.1,
          0.2,
          0.3,
          0.4,
          0.5,
          0.6,
          0.7,
          0.8,
          0.9,
          1
         ],
         "y": [
          50.274517,
          42.339225,
          39.937398,
          38.270034,
          37.934546000000005,
          37.383733,
          37.304351,
          36.851845,
          36.914877000000004,
          36.655951
         ]
        },
        {
         "marker": {
          "color": "rgba(235, 7, 7, 1)",
          "size": 18,
          "symbol": "triangle-up"
         },
         "mode": "markers",
         "name": "6 cols",
         "showlegend": false,
         "type": "scatter",
         "x": [
          0.1,
          0.2,
          0.3,
          0.4,
          0.5,
          0.6,
          0.7,
          0.8,
          0.9,
          1
         ],
         "y": [
          25.898432,
          27.469079999999998,
          28.130513,
          28.309008,
          28.581491,
          28.395246,
          28.797220000000003,
          28.831477999999997,
          28.930569,
          28.892298
         ]
        },
        {
         "marker": {
          "color": "rgba(235, 7, 7, 1)",
          "size": 18,
          "symbol": "triangle-down"
         },
         "mode": "markers",
         "name": "6 cols",
         "showlegend": false,
         "type": "scatter",
         "x": [
          0.1,
          0.2,
          0.3,
          0.4,
          0.5,
          0.6,
          0.7,
          0.8,
          0.9,
          1
         ],
         "y": [
          50.274517,
          42.339225,
          39.937398,
          38.270034,
          37.934546000000005,
          37.383733,
          37.304351,
          36.851845,
          36.914877000000004,
          36.655951
         ]
        },
        {
         "marker": {
          "color": "rgba(235, 7, 7, 1)",
          "size": 18,
          "symbol": "triangle-down"
         },
         "mode": "markers",
         "name": "6AKD",
         "showlegend": false,
         "type": "scatter",
         "x": [
          -0.1
         ],
         "y": [
          36.838054
         ]
        },
        {
         "marker": {
          "color": "rgba(235, 7, 7, 1)",
          "size": 18,
          "symbol": "triangle-down"
         },
         "mode": "markers",
         "name": "6Quasii",
         "showlegend": false,
         "type": "scatter",
         "x": [
          -0.2
         ],
         "y": [
          31.418699999999998
         ]
        },
        {
         "marker": {
          "color": "rgba(235, 7, 7, 1)",
          "size": 18,
          "symbol": "triangle-down"
         },
         "mode": "markers",
         "name": "6AvgKD",
         "showlegend": false,
         "type": "scatter",
         "x": [
          -0.3
         ],
         "y": [
          35.365146
         ]
        },
        {
         "marker": {
          "color": "rgba(235, 7, 7, 1)",
          "size": 18,
          "symbol": "triangle-down"
         },
         "mode": "markers",
         "name": "6MedKD",
         "showlegend": false,
         "type": "scatter",
         "x": [
          -0.4
         ],
         "y": [
          39.903419
         ]
        },
        {
         "marker": {
          "color": "rgba(168, 50, 119, 1)"
         },
         "mode": "lines",
         "name": "8 cols",
         "showlegend": false,
         "type": "scatter",
         "x": [
          0.1,
          0.2,
          0.3,
          0.4,
          0.5,
          0.6,
          0.7,
          0.8,
          0.9,
          1
         ],
         "y": [
          78.35940500000001,
          83.53960500000001,
          84.61872,
          85.540032,
          85.96987100000001,
          87.045677,
          87.06373099999999,
          86.876094,
          86.96705600000001,
          87.420633
         ]
        },
        {
         "fill": "tonexty",
         "fillcolor": "rgba(168, 50, 119, 0.2)",
         "marker": {
          "color": "rgba(168, 50, 119, 1)"
         },
         "mode": "lines",
         "name": "8 cols",
         "type": "scatter",
         "x": [
          0.1,
          0.2,
          0.3,
          0.4,
          0.5,
          0.6,
          0.7,
          0.8,
          0.9,
          1
         ],
         "y": [
          119.34500999999999,
          106.72126499999999,
          102.554813,
          100.48559900000001,
          99.46370999999999,
          99.447285,
          98.64692,
          97.56196499999999,
          97.515615,
          97.833063
         ]
        },
        {
         "marker": {
          "color": "rgba(168, 50, 119, 1)",
          "size": 18,
          "symbol": "triangle-up"
         },
         "mode": "markers",
         "name": "8 cols",
         "showlegend": false,
         "type": "scatter",
         "x": [
          0.1,
          0.2,
          0.3,
          0.4,
          0.5,
          0.6,
          0.7,
          0.8,
          0.9,
          1
         ],
         "y": [
          78.35940500000001,
          83.53960500000001,
          84.61872,
          85.540032,
          85.96987100000001,
          87.045677,
          87.06373099999999,
          86.876094,
          86.96705600000001,
          87.420633
         ]
        },
        {
         "marker": {
          "color": "rgba(168, 50, 119, 1)",
          "size": 18,
          "symbol": "triangle-down"
         },
         "mode": "markers",
         "name": "8 cols",
         "showlegend": false,
         "type": "scatter",
         "x": [
          0.1,
          0.2,
          0.3,
          0.4,
          0.5,
          0.6,
          0.7,
          0.8,
          0.9,
          1
         ],
         "y": [
          119.34500999999999,
          106.72126499999999,
          102.554813,
          100.48559900000001,
          99.46370999999999,
          99.447285,
          98.64692,
          97.56196499999999,
          97.515615,
          97.833063
         ]
        },
        {
         "marker": {
          "color": "rgba(168, 50, 119, 1)",
          "size": 18,
          "symbol": "triangle-down"
         },
         "mode": "markers",
         "name": "8AKD",
         "showlegend": false,
         "type": "scatter",
         "x": [
          -0.1
         ],
         "y": [
          63.207248
         ]
        },
        {
         "marker": {
          "color": "rgba(168, 50, 119, 1)",
          "size": 18,
          "symbol": "triangle-down"
         },
         "mode": "markers",
         "name": "8Quasii",
         "showlegend": false,
         "type": "scatter",
         "x": [
          -0.2
         ],
         "y": [
          83.29385500000001
         ]
        },
        {
         "marker": {
          "color": "rgba(168, 50, 119, 1)",
          "size": 18,
          "symbol": "triangle-down"
         },
         "mode": "markers",
         "name": "8AvgKD",
         "showlegend": false,
         "type": "scatter",
         "x": [
          -0.3
         ],
         "y": [
          94.300287
         ]
        },
        {
         "marker": {
          "color": "rgba(168, 50, 119, 1)",
          "size": 18,
          "symbol": "triangle-down"
         },
         "mode": "markers",
         "name": "8MedKD",
         "showlegend": false,
         "type": "scatter",
         "x": [
          -0.4
         ],
         "y": [
          98.601282
         ]
        },
        {
         "marker": {
          "color": "black",
          "size": 18,
          "symbol": "triangle-up"
         },
         "mode": "markers",
         "name": "After",
         "type": "scatter",
         "x": [
          null
         ],
         "y": [
          null
         ]
        },
        {
         "marker": {
          "color": "black",
          "size": 18,
          "symbol": "triangle-down"
         },
         "mode": "markers",
         "name": "Total",
         "type": "scatter",
         "x": [
          null
         ],
         "y": [
          null
         ]
        }
       ],
       "layout": {
        "font": {
         "size": 42
        },
        "legend": {
         "font": {
          "color": "black",
          "size": 30
         }
        },
        "plot_bgcolor": "rgba(0,0,0,0)",
        "shapes": [
         {
          "opacity": 0.2,
          "type": "line",
          "x0": 0.2,
          "x1": 0.2,
          "y0": 0,
          "y1": 1,
          "yref": "paper"
         }
        ],
        "showlegend": true,
        "template": {
         "data": {
          "bar": [
           {
            "error_x": {
             "color": "#2a3f5f"
            },
            "error_y": {
             "color": "#2a3f5f"
            },
            "marker": {
             "line": {
              "color": "#E5ECF6",
              "width": 0.5
             }
            },
            "type": "bar"
           }
          ],
          "barpolar": [
           {
            "marker": {
             "line": {
              "color": "#E5ECF6",
              "width": 0.5
             }
            },
            "type": "barpolar"
           }
          ],
          "carpet": [
           {
            "aaxis": {
             "endlinecolor": "#2a3f5f",
             "gridcolor": "white",
             "linecolor": "white",
             "minorgridcolor": "white",
             "startlinecolor": "#2a3f5f"
            },
            "baxis": {
             "endlinecolor": "#2a3f5f",
             "gridcolor": "white",
             "linecolor": "white",
             "minorgridcolor": "white",
             "startlinecolor": "#2a3f5f"
            },
            "type": "carpet"
           }
          ],
          "choropleth": [
           {
            "colorbar": {
             "outlinewidth": 0,
             "ticks": ""
            },
            "type": "choropleth"
           }
          ],
          "contour": [
           {
            "colorbar": {
             "outlinewidth": 0,
             "ticks": ""
            },
            "colorscale": [
             [
              0,
              "#0d0887"
             ],
             [
              0.1111111111111111,
              "#46039f"
             ],
             [
              0.2222222222222222,
              "#7201a8"
             ],
             [
              0.3333333333333333,
              "#9c179e"
             ],
             [
              0.4444444444444444,
              "#bd3786"
             ],
             [
              0.5555555555555556,
              "#d8576b"
             ],
             [
              0.6666666666666666,
              "#ed7953"
             ],
             [
              0.7777777777777778,
              "#fb9f3a"
             ],
             [
              0.8888888888888888,
              "#fdca26"
             ],
             [
              1,
              "#f0f921"
             ]
            ],
            "type": "contour"
           }
          ],
          "contourcarpet": [
           {
            "colorbar": {
             "outlinewidth": 0,
             "ticks": ""
            },
            "type": "contourcarpet"
           }
          ],
          "heatmap": [
           {
            "colorbar": {
             "outlinewidth": 0,
             "ticks": ""
            },
            "colorscale": [
             [
              0,
              "#0d0887"
             ],
             [
              0.1111111111111111,
              "#46039f"
             ],
             [
              0.2222222222222222,
              "#7201a8"
             ],
             [
              0.3333333333333333,
              "#9c179e"
             ],
             [
              0.4444444444444444,
              "#bd3786"
             ],
             [
              0.5555555555555556,
              "#d8576b"
             ],
             [
              0.6666666666666666,
              "#ed7953"
             ],
             [
              0.7777777777777778,
              "#fb9f3a"
             ],
             [
              0.8888888888888888,
              "#fdca26"
             ],
             [
              1,
              "#f0f921"
             ]
            ],
            "type": "heatmap"
           }
          ],
          "heatmapgl": [
           {
            "colorbar": {
             "outlinewidth": 0,
             "ticks": ""
            },
            "colorscale": [
             [
              0,
              "#0d0887"
             ],
             [
              0.1111111111111111,
              "#46039f"
             ],
             [
              0.2222222222222222,
              "#7201a8"
             ],
             [
              0.3333333333333333,
              "#9c179e"
             ],
             [
              0.4444444444444444,
              "#bd3786"
             ],
             [
              0.5555555555555556,
              "#d8576b"
             ],
             [
              0.6666666666666666,
              "#ed7953"
             ],
             [
              0.7777777777777778,
              "#fb9f3a"
             ],
             [
              0.8888888888888888,
              "#fdca26"
             ],
             [
              1,
              "#f0f921"
             ]
            ],
            "type": "heatmapgl"
           }
          ],
          "histogram": [
           {
            "marker": {
             "colorbar": {
              "outlinewidth": 0,
              "ticks": ""
             }
            },
            "type": "histogram"
           }
          ],
          "histogram2d": [
           {
            "colorbar": {
             "outlinewidth": 0,
             "ticks": ""
            },
            "colorscale": [
             [
              0,
              "#0d0887"
             ],
             [
              0.1111111111111111,
              "#46039f"
             ],
             [
              0.2222222222222222,
              "#7201a8"
             ],
             [
              0.3333333333333333,
              "#9c179e"
             ],
             [
              0.4444444444444444,
              "#bd3786"
             ],
             [
              0.5555555555555556,
              "#d8576b"
             ],
             [
              0.6666666666666666,
              "#ed7953"
             ],
             [
              0.7777777777777778,
              "#fb9f3a"
             ],
             [
              0.8888888888888888,
              "#fdca26"
             ],
             [
              1,
              "#f0f921"
             ]
            ],
            "type": "histogram2d"
           }
          ],
          "histogram2dcontour": [
           {
            "colorbar": {
             "outlinewidth": 0,
             "ticks": ""
            },
            "colorscale": [
             [
              0,
              "#0d0887"
             ],
             [
              0.1111111111111111,
              "#46039f"
             ],
             [
              0.2222222222222222,
              "#7201a8"
             ],
             [
              0.3333333333333333,
              "#9c179e"
             ],
             [
              0.4444444444444444,
              "#bd3786"
             ],
             [
              0.5555555555555556,
              "#d8576b"
             ],
             [
              0.6666666666666666,
              "#ed7953"
             ],
             [
              0.7777777777777778,
              "#fb9f3a"
             ],
             [
              0.8888888888888888,
              "#fdca26"
             ],
             [
              1,
              "#f0f921"
             ]
            ],
            "type": "histogram2dcontour"
           }
          ],
          "mesh3d": [
           {
            "colorbar": {
             "outlinewidth": 0,
             "ticks": ""
            },
            "type": "mesh3d"
           }
          ],
          "parcoords": [
           {
            "line": {
             "colorbar": {
              "outlinewidth": 0,
              "ticks": ""
             }
            },
            "type": "parcoords"
           }
          ],
          "scatter": [
           {
            "marker": {
             "colorbar": {
              "outlinewidth": 0,
              "ticks": ""
             }
            },
            "type": "scatter"
           }
          ],
          "scatter3d": [
           {
            "line": {
             "colorbar": {
              "outlinewidth": 0,
              "ticks": ""
             }
            },
            "marker": {
             "colorbar": {
              "outlinewidth": 0,
              "ticks": ""
             }
            },
            "type": "scatter3d"
           }
          ],
          "scattercarpet": [
           {
            "marker": {
             "colorbar": {
              "outlinewidth": 0,
              "ticks": ""
             }
            },
            "type": "scattercarpet"
           }
          ],
          "scattergeo": [
           {
            "marker": {
             "colorbar": {
              "outlinewidth": 0,
              "ticks": ""
             }
            },
            "type": "scattergeo"
           }
          ],
          "scattergl": [
           {
            "marker": {
             "colorbar": {
              "outlinewidth": 0,
              "ticks": ""
             }
            },
            "type": "scattergl"
           }
          ],
          "scattermapbox": [
           {
            "marker": {
             "colorbar": {
              "outlinewidth": 0,
              "ticks": ""
             }
            },
            "type": "scattermapbox"
           }
          ],
          "scatterpolar": [
           {
            "marker": {
             "colorbar": {
              "outlinewidth": 0,
              "ticks": ""
             }
            },
            "type": "scatterpolar"
           }
          ],
          "scatterpolargl": [
           {
            "marker": {
             "colorbar": {
              "outlinewidth": 0,
              "ticks": ""
             }
            },
            "type": "scatterpolargl"
           }
          ],
          "scatterternary": [
           {
            "marker": {
             "colorbar": {
              "outlinewidth": 0,
              "ticks": ""
             }
            },
            "type": "scatterternary"
           }
          ],
          "surface": [
           {
            "colorbar": {
             "outlinewidth": 0,
             "ticks": ""
            },
            "colorscale": [
             [
              0,
              "#0d0887"
             ],
             [
              0.1111111111111111,
              "#46039f"
             ],
             [
              0.2222222222222222,
              "#7201a8"
             ],
             [
              0.3333333333333333,
              "#9c179e"
             ],
             [
              0.4444444444444444,
              "#bd3786"
             ],
             [
              0.5555555555555556,
              "#d8576b"
             ],
             [
              0.6666666666666666,
              "#ed7953"
             ],
             [
              0.7777777777777778,
              "#fb9f3a"
             ],
             [
              0.8888888888888888,
              "#fdca26"
             ],
             [
              1,
              "#f0f921"
             ]
            ],
            "type": "surface"
           }
          ],
          "table": [
           {
            "cells": {
             "fill": {
              "color": "#EBF0F8"
             },
             "line": {
              "color": "white"
             }
            },
            "header": {
             "fill": {
              "color": "#C8D4E3"
             },
             "line": {
              "color": "white"
             }
            },
            "type": "table"
           }
          ]
         },
         "layout": {
          "annotationdefaults": {
           "arrowcolor": "#2a3f5f",
           "arrowhead": 0,
           "arrowwidth": 1
          },
          "colorscale": {
           "diverging": [
            [
             0,
             "#8e0152"
            ],
            [
             0.1,
             "#c51b7d"
            ],
            [
             0.2,
             "#de77ae"
            ],
            [
             0.3,
             "#f1b6da"
            ],
            [
             0.4,
             "#fde0ef"
            ],
            [
             0.5,
             "#f7f7f7"
            ],
            [
             0.6,
             "#e6f5d0"
            ],
            [
             0.7,
             "#b8e186"
            ],
            [
             0.8,
             "#7fbc41"
            ],
            [
             0.9,
             "#4d9221"
            ],
            [
             1,
             "#276419"
            ]
           ],
           "sequential": [
            [
             0,
             "#0d0887"
            ],
            [
             0.1111111111111111,
             "#46039f"
            ],
            [
             0.2222222222222222,
             "#7201a8"
            ],
            [
             0.3333333333333333,
             "#9c179e"
            ],
            [
             0.4444444444444444,
             "#bd3786"
            ],
            [
             0.5555555555555556,
             "#d8576b"
            ],
            [
             0.6666666666666666,
             "#ed7953"
            ],
            [
             0.7777777777777778,
             "#fb9f3a"
            ],
            [
             0.8888888888888888,
             "#fdca26"
            ],
            [
             1,
             "#f0f921"
            ]
           ],
           "sequentialminus": [
            [
             0,
             "#0d0887"
            ],
            [
             0.1111111111111111,
             "#46039f"
            ],
            [
             0.2222222222222222,
             "#7201a8"
            ],
            [
             0.3333333333333333,
             "#9c179e"
            ],
            [
             0.4444444444444444,
             "#bd3786"
            ],
            [
             0.5555555555555556,
             "#d8576b"
            ],
            [
             0.6666666666666666,
             "#ed7953"
            ],
            [
             0.7777777777777778,
             "#fb9f3a"
            ],
            [
             0.8888888888888888,
             "#fdca26"
            ],
            [
             1,
             "#f0f921"
            ]
           ]
          },
          "colorway": [
           "#636efa",
           "#EF553B",
           "#00cc96",
           "#ab63fa",
           "#FFA15A",
           "#19d3f3",
           "#FF6692",
           "#B6E880",
           "#FF97FF",
           "#FECB52"
          ],
          "font": {
           "color": "#2a3f5f"
          },
          "geo": {
           "bgcolor": "white",
           "lakecolor": "white",
           "landcolor": "#E5ECF6",
           "showlakes": true,
           "showland": true,
           "subunitcolor": "white"
          },
          "hoverlabel": {
           "align": "left"
          },
          "hovermode": "closest",
          "mapbox": {
           "style": "light"
          },
          "paper_bgcolor": "white",
          "plot_bgcolor": "#E5ECF6",
          "polar": {
           "angularaxis": {
            "gridcolor": "white",
            "linecolor": "white",
            "ticks": ""
           },
           "bgcolor": "#E5ECF6",
           "radialaxis": {
            "gridcolor": "white",
            "linecolor": "white",
            "ticks": ""
           }
          },
          "scene": {
           "xaxis": {
            "backgroundcolor": "#E5ECF6",
            "gridcolor": "white",
            "gridwidth": 2,
            "linecolor": "white",
            "showbackground": true,
            "ticks": "",
            "zerolinecolor": "white"
           },
           "yaxis": {
            "backgroundcolor": "#E5ECF6",
            "gridcolor": "white",
            "gridwidth": 2,
            "linecolor": "white",
            "showbackground": true,
            "ticks": "",
            "zerolinecolor": "white"
           },
           "zaxis": {
            "backgroundcolor": "#E5ECF6",
            "gridcolor": "white",
            "gridwidth": 2,
            "linecolor": "white",
            "showbackground": true,
            "ticks": "",
            "zerolinecolor": "white"
           }
          },
          "shapedefaults": {
           "line": {
            "color": "#2a3f5f"
           }
          },
          "ternary": {
           "aaxis": {
            "gridcolor": "white",
            "linecolor": "white",
            "ticks": ""
           },
           "baxis": {
            "gridcolor": "white",
            "linecolor": "white",
            "ticks": ""
           },
           "bgcolor": "#E5ECF6",
           "caxis": {
            "gridcolor": "white",
            "linecolor": "white",
            "ticks": ""
           }
          },
          "title": {
           "x": 0.05
          },
          "xaxis": {
           "automargin": true,
           "gridcolor": "white",
           "linecolor": "white",
           "ticks": "",
           "zerolinecolor": "white",
           "zerolinewidth": 2
          },
          "yaxis": {
           "automargin": true,
           "gridcolor": "white",
           "linecolor": "white",
           "ticks": "",
           "zerolinecolor": "white",
           "zerolinewidth": 2
          }
         }
        },
        "xaxis": {
         "linecolor": "black",
         "linewidth": 2,
         "showline": true,
         "tickangle": 65,
         "ticklen": 5,
         "tickmode": "array",
         "ticks": "inside",
         "ticktext": [
          "MedKD",
          "AvgKD",
          "Q",
          "AKD",
          0.1,
          0.2,
          0.3,
          0.4,
          0.5,
          0.6,
          0.7,
          0.8,
          0.9,
          1
         ],
         "tickvals": [
          -0.4,
          -0.3,
          -0.2,
          -0.1,
          0.1,
          0.2,
          0.3,
          0.4,
          0.5,
          0.6,
          0.7,
          0.8,
          0.9,
          1
         ],
         "title": {
          "text": "(PKD)Delta"
         },
         "zeroline": true
        },
        "yaxis": {
         "gridcolor": "lightgrey",
         "gridwidth": 1,
         "linecolor": "black",
         "linewidth": 2,
         "showgrid": true,
         "showline": true,
         "ticklen": 5,
         "ticks": "inside",
         "title": {
          "text": "Time [s]"
         },
         "zeroline": true
        }
       }
      },
      "text/html": [
       "<div>\n",
       "        \n",
       "        \n",
       "            <div id=\"99e68b80-e44f-4970-915e-ac651d52b4ab\" class=\"plotly-graph-div\" style=\"height:525px; width:100%;\"></div>\n",
       "            <script type=\"text/javascript\">\n",
       "                require([\"plotly\"], function(Plotly) {\n",
       "                    window.PLOTLYENV=window.PLOTLYENV || {};\n",
       "                    \n",
       "                if (document.getElementById(\"99e68b80-e44f-4970-915e-ac651d52b4ab\")) {\n",
       "                    Plotly.newPlot(\n",
       "                        '99e68b80-e44f-4970-915e-ac651d52b4ab',\n",
       "                        [{\"marker\": {\"color\": \"rgba(1, 140, 22, 1)\"}, \"mode\": \"lines\", \"name\": \"2 cols\", \"showlegend\": false, \"type\": \"scatter\", \"x\": [0.1, 0.2, 0.3, 0.4, 0.5, 0.6, 0.7, 0.8, 0.9, 1], \"y\": [1.439365, 1.561755, 1.582223, 1.689101, 1.690213, 1.6123059999999998, 1.777315, 1.8554210000000002, 1.7461959999999999, 1.707255]}, {\"fill\": \"tonexty\", \"fillcolor\": \"rgba(1, 140, 22, 0.2)\", \"marker\": {\"color\": \"rgba(1, 140, 22, 1)\"}, \"mode\": \"lines\", \"name\": \"2 cols\", \"type\": \"scatter\", \"x\": [0.1, 0.2, 0.3, 0.4, 0.5, 0.6, 0.7, 0.8, 0.9, 1], \"y\": [8.833331, 7.1678619999999995, 6.5744799999999985, 6.219567, 6.096705999999999, 5.973276, 5.9403570000000006, 5.925886, 5.911944000000001, 5.826517]}, {\"marker\": {\"color\": \"rgba(1, 140, 22, 1)\", \"size\": 18, \"symbol\": \"triangle-up\"}, \"mode\": \"markers\", \"name\": \"2 cols\", \"showlegend\": false, \"type\": \"scatter\", \"x\": [0.1, 0.2, 0.3, 0.4, 0.5, 0.6, 0.7, 0.8, 0.9, 1], \"y\": [1.439365, 1.561755, 1.582223, 1.689101, 1.690213, 1.6123059999999998, 1.777315, 1.8554210000000002, 1.7461959999999999, 1.707255]}, {\"marker\": {\"color\": \"rgba(1, 140, 22, 1)\", \"size\": 18, \"symbol\": \"triangle-down\"}, \"mode\": \"markers\", \"name\": \"2 cols\", \"showlegend\": false, \"type\": \"scatter\", \"x\": [0.1, 0.2, 0.3, 0.4, 0.5, 0.6, 0.7, 0.8, 0.9, 1], \"y\": [8.833331, 7.1678619999999995, 6.5744799999999985, 6.219567, 6.096705999999999, 5.973276, 5.9403570000000006, 5.925886, 5.911944000000001, 5.826517]}, {\"marker\": {\"color\": \"rgba(1, 140, 22, 1)\", \"size\": 18, \"symbol\": \"triangle-down\"}, \"mode\": \"markers\", \"name\": \"2AKD\", \"showlegend\": false, \"type\": \"scatter\", \"x\": [-0.1], \"y\": [5.017982]}, {\"marker\": {\"color\": \"rgba(1, 140, 22, 1)\", \"size\": 18, \"symbol\": \"triangle-down\"}, \"mode\": \"markers\", \"name\": \"2Quasii\", \"showlegend\": false, \"type\": \"scatter\", \"x\": [-0.2], \"y\": [5.703536000000001]}, {\"marker\": {\"color\": \"rgba(1, 140, 22, 1)\", \"size\": 18, \"symbol\": \"triangle-down\"}, \"mode\": \"markers\", \"name\": \"2AvgKD\", \"showlegend\": false, \"type\": \"scatter\", \"x\": [-0.3], \"y\": [6.273029999999999]}, {\"marker\": {\"color\": \"rgba(1, 140, 22, 1)\", \"size\": 18, \"symbol\": \"triangle-down\"}, \"mode\": \"markers\", \"name\": \"2MedKD\", \"showlegend\": false, \"type\": \"scatter\", \"x\": [-0.4], \"y\": [10.418722000000002]}, {\"marker\": {\"color\": \"rgba(54, 50, 168, 1)\"}, \"mode\": \"lines\", \"name\": \"4 cols\", \"showlegend\": false, \"type\": \"scatter\", \"x\": [0.1, 0.2, 0.3, 0.4, 0.5, 0.6, 0.7, 0.8, 0.9, 1], \"y\": [7.069042, 7.518566, 7.635972000000001, 7.867846, 7.852581, 7.767296, 7.991315, 8.098626, 7.928757999999999, 7.939213]}, {\"fill\": \"tonexty\", \"fillcolor\": \"rgba(54, 50, 168, 0.2)\", \"marker\": {\"color\": \"rgba(54, 50, 168, 1)\"}, \"mode\": \"lines\", \"name\": \"4 cols\", \"type\": \"scatter\", \"x\": [0.1, 0.2, 0.3, 0.4, 0.5, 0.6, 0.7, 0.8, 0.9, 1], \"y\": [19.723456, 16.511701000000002, 15.151781999999999, 14.609991999999998, 14.377653, 14.180621, 13.894694999999999, 13.947584, 13.661111, 13.547716000000001]}, {\"marker\": {\"color\": \"rgba(54, 50, 168, 1)\", \"size\": 18, \"symbol\": \"triangle-up\"}, \"mode\": \"markers\", \"name\": \"4 cols\", \"showlegend\": false, \"type\": \"scatter\", \"x\": [0.1, 0.2, 0.3, 0.4, 0.5, 0.6, 0.7, 0.8, 0.9, 1], \"y\": [7.069042, 7.518566, 7.635972000000001, 7.867846, 7.852581, 7.767296, 7.991315, 8.098626, 7.928757999999999, 7.939213]}, {\"marker\": {\"color\": \"rgba(54, 50, 168, 1)\", \"size\": 18, \"symbol\": \"triangle-down\"}, \"mode\": \"markers\", \"name\": \"4 cols\", \"showlegend\": false, \"type\": \"scatter\", \"x\": [0.1, 0.2, 0.3, 0.4, 0.5, 0.6, 0.7, 0.8, 0.9, 1], \"y\": [19.723456, 16.511701000000002, 15.151781999999999, 14.609991999999998, 14.377653, 14.180621, 13.894694999999999, 13.947584, 13.661111, 13.547716000000001]}, {\"marker\": {\"color\": \"rgba(54, 50, 168, 1)\", \"size\": 18, \"symbol\": \"triangle-down\"}, \"mode\": \"markers\", \"name\": \"4AKD\", \"showlegend\": false, \"type\": \"scatter\", \"x\": [-0.1], \"y\": [12.862060000000003]}, {\"marker\": {\"color\": \"rgba(54, 50, 168, 1)\", \"size\": 18, \"symbol\": \"triangle-down\"}, \"mode\": \"markers\", \"name\": \"4Quasii\", \"showlegend\": false, \"type\": \"scatter\", \"x\": [-0.2], \"y\": [12.100223999999999]}, {\"marker\": {\"color\": \"rgba(54, 50, 168, 1)\", \"size\": 18, \"symbol\": \"triangle-down\"}, \"mode\": \"markers\", \"name\": \"4AvgKD\", \"showlegend\": false, \"type\": \"scatter\", \"x\": [-0.3], \"y\": [13.158289000000003]}, {\"marker\": {\"color\": \"rgba(54, 50, 168, 1)\", \"size\": 18, \"symbol\": \"triangle-down\"}, \"mode\": \"markers\", \"name\": \"4MedKD\", \"showlegend\": false, \"type\": \"scatter\", \"x\": [-0.4], \"y\": [17.357009]}, {\"marker\": {\"color\": \"rgba(235, 7, 7, 1)\"}, \"mode\": \"lines\", \"name\": \"6 cols\", \"showlegend\": false, \"type\": \"scatter\", \"x\": [0.1, 0.2, 0.3, 0.4, 0.5, 0.6, 0.7, 0.8, 0.9, 1], \"y\": [25.898432, 27.469079999999998, 28.130513, 28.309008, 28.581491, 28.395246, 28.797220000000003, 28.831477999999997, 28.930569, 28.892298]}, {\"fill\": \"tonexty\", \"fillcolor\": \"rgba(235, 7, 7, 0.2)\", \"marker\": {\"color\": \"rgba(235, 7, 7, 1)\"}, \"mode\": \"lines\", \"name\": \"6 cols\", \"type\": \"scatter\", \"x\": [0.1, 0.2, 0.3, 0.4, 0.5, 0.6, 0.7, 0.8, 0.9, 1], \"y\": [50.274517, 42.339225, 39.937398, 38.270034, 37.934546000000005, 37.383733, 37.304351, 36.851845, 36.914877000000004, 36.655951]}, {\"marker\": {\"color\": \"rgba(235, 7, 7, 1)\", \"size\": 18, \"symbol\": \"triangle-up\"}, \"mode\": \"markers\", \"name\": \"6 cols\", \"showlegend\": false, \"type\": \"scatter\", \"x\": [0.1, 0.2, 0.3, 0.4, 0.5, 0.6, 0.7, 0.8, 0.9, 1], \"y\": [25.898432, 27.469079999999998, 28.130513, 28.309008, 28.581491, 28.395246, 28.797220000000003, 28.831477999999997, 28.930569, 28.892298]}, {\"marker\": {\"color\": \"rgba(235, 7, 7, 1)\", \"size\": 18, \"symbol\": \"triangle-down\"}, \"mode\": \"markers\", \"name\": \"6 cols\", \"showlegend\": false, \"type\": \"scatter\", \"x\": [0.1, 0.2, 0.3, 0.4, 0.5, 0.6, 0.7, 0.8, 0.9, 1], \"y\": [50.274517, 42.339225, 39.937398, 38.270034, 37.934546000000005, 37.383733, 37.304351, 36.851845, 36.914877000000004, 36.655951]}, {\"marker\": {\"color\": \"rgba(235, 7, 7, 1)\", \"size\": 18, \"symbol\": \"triangle-down\"}, \"mode\": \"markers\", \"name\": \"6AKD\", \"showlegend\": false, \"type\": \"scatter\", \"x\": [-0.1], \"y\": [36.838054]}, {\"marker\": {\"color\": \"rgba(235, 7, 7, 1)\", \"size\": 18, \"symbol\": \"triangle-down\"}, \"mode\": \"markers\", \"name\": \"6Quasii\", \"showlegend\": false, \"type\": \"scatter\", \"x\": [-0.2], \"y\": [31.418699999999998]}, {\"marker\": {\"color\": \"rgba(235, 7, 7, 1)\", \"size\": 18, \"symbol\": \"triangle-down\"}, \"mode\": \"markers\", \"name\": \"6AvgKD\", \"showlegend\": false, \"type\": \"scatter\", \"x\": [-0.3], \"y\": [35.365146]}, {\"marker\": {\"color\": \"rgba(235, 7, 7, 1)\", \"size\": 18, \"symbol\": \"triangle-down\"}, \"mode\": \"markers\", \"name\": \"6MedKD\", \"showlegend\": false, \"type\": \"scatter\", \"x\": [-0.4], \"y\": [39.903419]}, {\"marker\": {\"color\": \"rgba(168, 50, 119, 1)\"}, \"mode\": \"lines\", \"name\": \"8 cols\", \"showlegend\": false, \"type\": \"scatter\", \"x\": [0.1, 0.2, 0.3, 0.4, 0.5, 0.6, 0.7, 0.8, 0.9, 1], \"y\": [78.35940500000001, 83.53960500000001, 84.61872, 85.540032, 85.96987100000001, 87.045677, 87.06373099999999, 86.876094, 86.96705600000001, 87.420633]}, {\"fill\": \"tonexty\", \"fillcolor\": \"rgba(168, 50, 119, 0.2)\", \"marker\": {\"color\": \"rgba(168, 50, 119, 1)\"}, \"mode\": \"lines\", \"name\": \"8 cols\", \"type\": \"scatter\", \"x\": [0.1, 0.2, 0.3, 0.4, 0.5, 0.6, 0.7, 0.8, 0.9, 1], \"y\": [119.34500999999999, 106.72126499999999, 102.554813, 100.48559900000001, 99.46370999999999, 99.447285, 98.64692, 97.56196499999999, 97.515615, 97.833063]}, {\"marker\": {\"color\": \"rgba(168, 50, 119, 1)\", \"size\": 18, \"symbol\": \"triangle-up\"}, \"mode\": \"markers\", \"name\": \"8 cols\", \"showlegend\": false, \"type\": \"scatter\", \"x\": [0.1, 0.2, 0.3, 0.4, 0.5, 0.6, 0.7, 0.8, 0.9, 1], \"y\": [78.35940500000001, 83.53960500000001, 84.61872, 85.540032, 85.96987100000001, 87.045677, 87.06373099999999, 86.876094, 86.96705600000001, 87.420633]}, {\"marker\": {\"color\": \"rgba(168, 50, 119, 1)\", \"size\": 18, \"symbol\": \"triangle-down\"}, \"mode\": \"markers\", \"name\": \"8 cols\", \"showlegend\": false, \"type\": \"scatter\", \"x\": [0.1, 0.2, 0.3, 0.4, 0.5, 0.6, 0.7, 0.8, 0.9, 1], \"y\": [119.34500999999999, 106.72126499999999, 102.554813, 100.48559900000001, 99.46370999999999, 99.447285, 98.64692, 97.56196499999999, 97.515615, 97.833063]}, {\"marker\": {\"color\": \"rgba(168, 50, 119, 1)\", \"size\": 18, \"symbol\": \"triangle-down\"}, \"mode\": \"markers\", \"name\": \"8AKD\", \"showlegend\": false, \"type\": \"scatter\", \"x\": [-0.1], \"y\": [63.207248]}, {\"marker\": {\"color\": \"rgba(168, 50, 119, 1)\", \"size\": 18, \"symbol\": \"triangle-down\"}, \"mode\": \"markers\", \"name\": \"8Quasii\", \"showlegend\": false, \"type\": \"scatter\", \"x\": [-0.2], \"y\": [83.29385500000001]}, {\"marker\": {\"color\": \"rgba(168, 50, 119, 1)\", \"size\": 18, \"symbol\": \"triangle-down\"}, \"mode\": \"markers\", \"name\": \"8AvgKD\", \"showlegend\": false, \"type\": \"scatter\", \"x\": [-0.3], \"y\": [94.300287]}, {\"marker\": {\"color\": \"rgba(168, 50, 119, 1)\", \"size\": 18, \"symbol\": \"triangle-down\"}, \"mode\": \"markers\", \"name\": \"8MedKD\", \"showlegend\": false, \"type\": \"scatter\", \"x\": [-0.4], \"y\": [98.601282]}, {\"marker\": {\"color\": \"black\", \"size\": 18, \"symbol\": \"triangle-up\"}, \"mode\": \"markers\", \"name\": \"After\", \"type\": \"scatter\", \"x\": [null], \"y\": [null]}, {\"marker\": {\"color\": \"black\", \"size\": 18, \"symbol\": \"triangle-down\"}, \"mode\": \"markers\", \"name\": \"Total\", \"type\": \"scatter\", \"x\": [null], \"y\": [null]}],\n",
       "                        {\"font\": {\"size\": 42}, \"legend\": {\"font\": {\"color\": \"black\", \"size\": 30}}, \"plot_bgcolor\": \"rgba(0,0,0,0)\", \"shapes\": [{\"opacity\": 0.2, \"type\": \"line\", \"x0\": 0.2, \"x1\": 0.2, \"y0\": 0, \"y1\": 1, \"yref\": \"paper\"}], \"showlegend\": true, \"template\": {\"data\": {\"bar\": [{\"error_x\": {\"color\": \"#2a3f5f\"}, \"error_y\": {\"color\": \"#2a3f5f\"}, \"marker\": {\"line\": {\"color\": \"#E5ECF6\", \"width\": 0.5}}, \"type\": \"bar\"}], \"barpolar\": [{\"marker\": {\"line\": {\"color\": \"#E5ECF6\", \"width\": 0.5}}, \"type\": \"barpolar\"}], \"carpet\": [{\"aaxis\": {\"endlinecolor\": \"#2a3f5f\", \"gridcolor\": \"white\", \"linecolor\": \"white\", \"minorgridcolor\": \"white\", \"startlinecolor\": \"#2a3f5f\"}, \"baxis\": {\"endlinecolor\": \"#2a3f5f\", \"gridcolor\": \"white\", \"linecolor\": \"white\", \"minorgridcolor\": \"white\", \"startlinecolor\": \"#2a3f5f\"}, \"type\": \"carpet\"}], \"choropleth\": [{\"colorbar\": {\"outlinewidth\": 0, \"ticks\": \"\"}, \"type\": \"choropleth\"}], \"contour\": [{\"colorbar\": {\"outlinewidth\": 0, \"ticks\": \"\"}, \"colorscale\": [[0.0, \"#0d0887\"], [0.1111111111111111, \"#46039f\"], [0.2222222222222222, \"#7201a8\"], [0.3333333333333333, \"#9c179e\"], [0.4444444444444444, \"#bd3786\"], [0.5555555555555556, \"#d8576b\"], [0.6666666666666666, \"#ed7953\"], [0.7777777777777778, \"#fb9f3a\"], [0.8888888888888888, \"#fdca26\"], [1.0, \"#f0f921\"]], \"type\": \"contour\"}], \"contourcarpet\": [{\"colorbar\": {\"outlinewidth\": 0, \"ticks\": \"\"}, \"type\": \"contourcarpet\"}], \"heatmap\": [{\"colorbar\": {\"outlinewidth\": 0, \"ticks\": \"\"}, \"colorscale\": [[0.0, \"#0d0887\"], [0.1111111111111111, \"#46039f\"], [0.2222222222222222, \"#7201a8\"], [0.3333333333333333, \"#9c179e\"], [0.4444444444444444, \"#bd3786\"], [0.5555555555555556, \"#d8576b\"], [0.6666666666666666, \"#ed7953\"], [0.7777777777777778, \"#fb9f3a\"], [0.8888888888888888, \"#fdca26\"], [1.0, \"#f0f921\"]], \"type\": \"heatmap\"}], \"heatmapgl\": [{\"colorbar\": {\"outlinewidth\": 0, \"ticks\": \"\"}, \"colorscale\": [[0.0, \"#0d0887\"], [0.1111111111111111, \"#46039f\"], [0.2222222222222222, \"#7201a8\"], [0.3333333333333333, \"#9c179e\"], [0.4444444444444444, \"#bd3786\"], [0.5555555555555556, \"#d8576b\"], [0.6666666666666666, \"#ed7953\"], [0.7777777777777778, \"#fb9f3a\"], [0.8888888888888888, \"#fdca26\"], [1.0, \"#f0f921\"]], \"type\": \"heatmapgl\"}], \"histogram\": [{\"marker\": {\"colorbar\": {\"outlinewidth\": 0, \"ticks\": \"\"}}, \"type\": \"histogram\"}], \"histogram2d\": [{\"colorbar\": {\"outlinewidth\": 0, \"ticks\": \"\"}, \"colorscale\": [[0.0, \"#0d0887\"], [0.1111111111111111, \"#46039f\"], [0.2222222222222222, \"#7201a8\"], [0.3333333333333333, \"#9c179e\"], [0.4444444444444444, \"#bd3786\"], [0.5555555555555556, \"#d8576b\"], [0.6666666666666666, \"#ed7953\"], [0.7777777777777778, \"#fb9f3a\"], [0.8888888888888888, \"#fdca26\"], [1.0, \"#f0f921\"]], \"type\": \"histogram2d\"}], \"histogram2dcontour\": [{\"colorbar\": {\"outlinewidth\": 0, \"ticks\": \"\"}, \"colorscale\": [[0.0, \"#0d0887\"], [0.1111111111111111, \"#46039f\"], [0.2222222222222222, \"#7201a8\"], [0.3333333333333333, \"#9c179e\"], [0.4444444444444444, \"#bd3786\"], [0.5555555555555556, \"#d8576b\"], [0.6666666666666666, \"#ed7953\"], [0.7777777777777778, \"#fb9f3a\"], [0.8888888888888888, \"#fdca26\"], [1.0, \"#f0f921\"]], \"type\": \"histogram2dcontour\"}], \"mesh3d\": [{\"colorbar\": {\"outlinewidth\": 0, \"ticks\": \"\"}, \"type\": \"mesh3d\"}], \"parcoords\": [{\"line\": {\"colorbar\": {\"outlinewidth\": 0, \"ticks\": \"\"}}, \"type\": \"parcoords\"}], \"scatter\": [{\"marker\": {\"colorbar\": {\"outlinewidth\": 0, \"ticks\": \"\"}}, \"type\": \"scatter\"}], \"scatter3d\": [{\"line\": {\"colorbar\": {\"outlinewidth\": 0, \"ticks\": \"\"}}, \"marker\": {\"colorbar\": {\"outlinewidth\": 0, \"ticks\": \"\"}}, \"type\": \"scatter3d\"}], \"scattercarpet\": [{\"marker\": {\"colorbar\": {\"outlinewidth\": 0, \"ticks\": \"\"}}, \"type\": \"scattercarpet\"}], \"scattergeo\": [{\"marker\": {\"colorbar\": {\"outlinewidth\": 0, \"ticks\": \"\"}}, \"type\": \"scattergeo\"}], \"scattergl\": [{\"marker\": {\"colorbar\": {\"outlinewidth\": 0, \"ticks\": \"\"}}, \"type\": \"scattergl\"}], \"scattermapbox\": [{\"marker\": {\"colorbar\": {\"outlinewidth\": 0, \"ticks\": \"\"}}, \"type\": \"scattermapbox\"}], \"scatterpolar\": [{\"marker\": {\"colorbar\": {\"outlinewidth\": 0, \"ticks\": \"\"}}, \"type\": \"scatterpolar\"}], \"scatterpolargl\": [{\"marker\": {\"colorbar\": {\"outlinewidth\": 0, \"ticks\": \"\"}}, \"type\": \"scatterpolargl\"}], \"scatterternary\": [{\"marker\": {\"colorbar\": {\"outlinewidth\": 0, \"ticks\": \"\"}}, \"type\": \"scatterternary\"}], \"surface\": [{\"colorbar\": {\"outlinewidth\": 0, \"ticks\": \"\"}, \"colorscale\": [[0.0, \"#0d0887\"], [0.1111111111111111, \"#46039f\"], [0.2222222222222222, \"#7201a8\"], [0.3333333333333333, \"#9c179e\"], [0.4444444444444444, \"#bd3786\"], [0.5555555555555556, \"#d8576b\"], [0.6666666666666666, \"#ed7953\"], [0.7777777777777778, \"#fb9f3a\"], [0.8888888888888888, \"#fdca26\"], [1.0, \"#f0f921\"]], \"type\": \"surface\"}], \"table\": [{\"cells\": {\"fill\": {\"color\": \"#EBF0F8\"}, \"line\": {\"color\": \"white\"}}, \"header\": {\"fill\": {\"color\": \"#C8D4E3\"}, \"line\": {\"color\": \"white\"}}, \"type\": \"table\"}]}, \"layout\": {\"annotationdefaults\": {\"arrowcolor\": \"#2a3f5f\", \"arrowhead\": 0, \"arrowwidth\": 1}, \"colorscale\": {\"diverging\": [[0, \"#8e0152\"], [0.1, \"#c51b7d\"], [0.2, \"#de77ae\"], [0.3, \"#f1b6da\"], [0.4, \"#fde0ef\"], [0.5, \"#f7f7f7\"], [0.6, \"#e6f5d0\"], [0.7, \"#b8e186\"], [0.8, \"#7fbc41\"], [0.9, \"#4d9221\"], [1, \"#276419\"]], \"sequential\": [[0.0, \"#0d0887\"], [0.1111111111111111, \"#46039f\"], [0.2222222222222222, \"#7201a8\"], [0.3333333333333333, \"#9c179e\"], [0.4444444444444444, \"#bd3786\"], [0.5555555555555556, \"#d8576b\"], [0.6666666666666666, \"#ed7953\"], [0.7777777777777778, \"#fb9f3a\"], [0.8888888888888888, \"#fdca26\"], [1.0, \"#f0f921\"]], \"sequentialminus\": [[0.0, \"#0d0887\"], [0.1111111111111111, \"#46039f\"], [0.2222222222222222, \"#7201a8\"], [0.3333333333333333, \"#9c179e\"], [0.4444444444444444, \"#bd3786\"], [0.5555555555555556, \"#d8576b\"], [0.6666666666666666, \"#ed7953\"], [0.7777777777777778, \"#fb9f3a\"], [0.8888888888888888, \"#fdca26\"], [1.0, \"#f0f921\"]]}, \"colorway\": [\"#636efa\", \"#EF553B\", \"#00cc96\", \"#ab63fa\", \"#FFA15A\", \"#19d3f3\", \"#FF6692\", \"#B6E880\", \"#FF97FF\", \"#FECB52\"], \"font\": {\"color\": \"#2a3f5f\"}, \"geo\": {\"bgcolor\": \"white\", \"lakecolor\": \"white\", \"landcolor\": \"#E5ECF6\", \"showlakes\": true, \"showland\": true, \"subunitcolor\": \"white\"}, \"hoverlabel\": {\"align\": \"left\"}, \"hovermode\": \"closest\", \"mapbox\": {\"style\": \"light\"}, \"paper_bgcolor\": \"white\", \"plot_bgcolor\": \"#E5ECF6\", \"polar\": {\"angularaxis\": {\"gridcolor\": \"white\", \"linecolor\": \"white\", \"ticks\": \"\"}, \"bgcolor\": \"#E5ECF6\", \"radialaxis\": {\"gridcolor\": \"white\", \"linecolor\": \"white\", \"ticks\": \"\"}}, \"scene\": {\"xaxis\": {\"backgroundcolor\": \"#E5ECF6\", \"gridcolor\": \"white\", \"gridwidth\": 2, \"linecolor\": \"white\", \"showbackground\": true, \"ticks\": \"\", \"zerolinecolor\": \"white\"}, \"yaxis\": {\"backgroundcolor\": \"#E5ECF6\", \"gridcolor\": \"white\", \"gridwidth\": 2, \"linecolor\": \"white\", \"showbackground\": true, \"ticks\": \"\", \"zerolinecolor\": \"white\"}, \"zaxis\": {\"backgroundcolor\": \"#E5ECF6\", \"gridcolor\": \"white\", \"gridwidth\": 2, \"linecolor\": \"white\", \"showbackground\": true, \"ticks\": \"\", \"zerolinecolor\": \"white\"}}, \"shapedefaults\": {\"line\": {\"color\": \"#2a3f5f\"}}, \"ternary\": {\"aaxis\": {\"gridcolor\": \"white\", \"linecolor\": \"white\", \"ticks\": \"\"}, \"baxis\": {\"gridcolor\": \"white\", \"linecolor\": \"white\", \"ticks\": \"\"}, \"bgcolor\": \"#E5ECF6\", \"caxis\": {\"gridcolor\": \"white\", \"linecolor\": \"white\", \"ticks\": \"\"}}, \"title\": {\"x\": 0.05}, \"xaxis\": {\"automargin\": true, \"gridcolor\": \"white\", \"linecolor\": \"white\", \"ticks\": \"\", \"zerolinecolor\": \"white\", \"zerolinewidth\": 2}, \"yaxis\": {\"automargin\": true, \"gridcolor\": \"white\", \"linecolor\": \"white\", \"ticks\": \"\", \"zerolinecolor\": \"white\", \"zerolinewidth\": 2}}}, \"xaxis\": {\"linecolor\": \"black\", \"linewidth\": 2, \"showline\": true, \"tickangle\": 65, \"ticklen\": 5, \"tickmode\": \"array\", \"ticks\": \"inside\", \"ticktext\": [\"MedKD\", \"AvgKD\", \"Q\", \"AKD\", 0.1, 0.2, 0.3, 0.4, 0.5, 0.6, 0.7, 0.8, 0.9, 1], \"tickvals\": [-0.4, -0.3, -0.2, -0.1, 0.1, 0.2, 0.3, 0.4, 0.5, 0.6, 0.7, 0.8, 0.9, 1], \"title\": {\"text\": \"(PKD)Delta\"}, \"zeroline\": true}, \"yaxis\": {\"gridcolor\": \"lightgrey\", \"gridwidth\": 1, \"linecolor\": \"black\", \"linewidth\": 2, \"showgrid\": true, \"showline\": true, \"ticklen\": 5, \"ticks\": \"inside\", \"title\": {\"text\": \"Time [s]\"}, \"zeroline\": true}},\n",
       "                        {\"responsive\": true}\n",
       "                    ).then(function(){\n",
       "                            \n",
       "var gd = document.getElementById('99e68b80-e44f-4970-915e-ac651d52b4ab');\n",
       "var x = new MutationObserver(function (mutations, observer) {{\n",
       "        var display = window.getComputedStyle(gd).display;\n",
       "        if (!display || display === 'none') {{\n",
       "            console.log([gd, 'removed!']);\n",
       "            Plotly.purge(gd);\n",
       "            observer.disconnect();\n",
       "        }}\n",
       "}});\n",
       "\n",
       "// Listen for the removal of the full notebook cells\n",
       "var notebookContainer = gd.closest('#notebook-container');\n",
       "if (notebookContainer) {{\n",
       "    x.observe(notebookContainer, {childList: true});\n",
       "}}\n",
       "\n",
       "// Listen for the clearing of the current output cell\n",
       "var outputEl = gd.closest('.output');\n",
       "if (outputEl) {{\n",
       "    x.observe(outputEl, {childList: true});\n",
       "}}\n",
       "\n",
       "                        })\n",
       "                };\n",
       "                });\n",
       "            </script>\n",
       "        </div>"
      ]
     },
     "metadata": {},
     "output_type": "display_data"
    }
   ],
   "source": [
    "algs = [f'ProgressiveIndex_{d}' for d in deltas]\n",
    "exp = 'Uniform8'\n",
    "fig = create_figure()\n",
    "\n",
    "cols = [2, 4, 6, 8]\n",
    "markers = delta_markers\n",
    "colors = ['rgba(168, 50, 119, 1)', 'rgba(235, 7, 7, 1)', 'rgba(54, 50, 168, 1)', 'rgba(1, 140, 22, 1)']\n",
    "colors.reverse()\n",
    "fill_colors = ['rgba(168, 50, 119, 0.2)', 'rgba(235, 7, 7, 0.2)', 'rgba(54, 50, 168, 0.2)', 'rgba(1, 140, 22, 0.2)']\n",
    "fill_colors.reverse()\n",
    "lines = []\n",
    "\n",
    "for i, marker, color, fill_color in zip(cols, markers, colors, fill_colors):\n",
    "    fq_times = []\n",
    "    # Plot afters\n",
    "    for d in deltas:\n",
    "        fq_times.append(\n",
    "            get_total_time(\n",
    "                read(f'ProgressiveIndex_{d}', f'Uniform{i}'),\n",
    "                lower=get_convergence(read(f'ProgressiveIndex_{d}', f'Uniform{i}'))\n",
    "            )\n",
    "        )\n",
    "    lines.append(\n",
    "        go.Scatter(\n",
    "            name=f'{i} cols',\n",
    "            x=deltas,\n",
    "            y=fq_times,\n",
    "            mode='lines',\n",
    "            marker_color=color,\n",
    "            showlegend=False\n",
    "        )\n",
    "    )\n",
    "\n",
    "    \n",
    "    # Plot totals\n",
    "    fq_times = []\n",
    "    for d in deltas:\n",
    "        fq_times.append(\n",
    "            get_total_time(\n",
    "                read(f'ProgressiveIndex_{d}', f'Uniform{i}')\n",
    "            )\n",
    "        )\n",
    "    lines.append(\n",
    "        go.Scatter(\n",
    "            name=f'{i} cols',\n",
    "            x=deltas,\n",
    "            y=fq_times,\n",
    "            mode='lines',\n",
    "            marker_color=color,\n",
    "            fill='tonexty',\n",
    "            fillcolor=fill_color\n",
    "        )\n",
    "    )\n",
    "    \n",
    "    fq_times = []\n",
    "    # Plot afters triangles\n",
    "    for d in deltas:\n",
    "        fq_times.append(\n",
    "            get_total_time(\n",
    "                read(f'ProgressiveIndex_{d}', f'Uniform{i}'),\n",
    "                lower=get_convergence(read(f'ProgressiveIndex_{d}', f'Uniform{i}'))\n",
    "            )\n",
    "        )\n",
    "    lines.append(\n",
    "        go.Scatter(\n",
    "            name=f'{i} cols',\n",
    "            x=deltas,\n",
    "            y=fq_times,\n",
    "            mode='markers',\n",
    "            marker_color=color,\n",
    "            marker=dict(\n",
    "                size=18,\n",
    "                symbol='triangle-up'\n",
    "            ),\n",
    "            showlegend=False\n",
    "        )\n",
    "    )\n",
    "\n",
    "    \n",
    "    # Plot totals triangles\n",
    "    fq_times = []\n",
    "    for d in deltas:\n",
    "        fq_times.append(\n",
    "            get_total_time(\n",
    "                read(f'ProgressiveIndex_{d}', f'Uniform{i}')\n",
    "            )\n",
    "        )\n",
    "    lines.append(\n",
    "        go.Scatter(\n",
    "            name=f'{i} cols',\n",
    "            x=deltas,\n",
    "            y=fq_times,\n",
    "            mode='markers',\n",
    "            marker_color=color,\n",
    "            marker=dict(\n",
    "                size=18,\n",
    "                symbol='triangle-down'\n",
    "            ),\n",
    "            showlegend=False\n",
    "        )\n",
    "    )\n",
    "    \n",
    "    # add other indices values\n",
    "    lines.append(\n",
    "        go.Scatter(\n",
    "            name=f'{i}AKD',\n",
    "            x=[-0.1],\n",
    "            y=[get_total_time(read(f'CrackingKDTree' ,f'Uniform{i}'))],\n",
    "            mode='markers',\n",
    "            marker_color=color,\n",
    "            marker=dict(\n",
    "                size=18,\n",
    "                symbol='triangle-down'\n",
    "            ),\n",
    "            showlegend=False\n",
    "        )\n",
    "    )\n",
    "    \n",
    "    lines.append(\n",
    "        go.Scatter(\n",
    "            name=f'{i}Quasii',\n",
    "            x=[-0.2],\n",
    "            y=[get_total_time(read(f'Quasii' ,f'Uniform{i}'))],\n",
    "            mode='markers',\n",
    "            marker_color=color,\n",
    "            marker=dict(\n",
    "                size=18,\n",
    "                symbol='triangle-down'\n",
    "            ),\n",
    "            showlegend=False\n",
    "        )\n",
    "    )\n",
    "    \n",
    "    lines.append(\n",
    "        go.Scatter(\n",
    "            name=f'{i}AvgKD',\n",
    "            x=[-0.3],\n",
    "            y=[get_total_time(read(f'AverageKDTree' ,f'Uniform{i}'))],\n",
    "            mode='markers',\n",
    "            marker_color=color,\n",
    "            marker=dict(\n",
    "                size=18,\n",
    "                symbol='triangle-down'\n",
    "            ),\n",
    "            showlegend=False\n",
    "        )\n",
    "    )\n",
    "    \n",
    "    lines.append(\n",
    "        go.Scatter(\n",
    "            name=f'{i}MedKD',\n",
    "            x=[-0.4],\n",
    "            y=[get_total_time(read(f'MedianKDTree' ,f'Uniform{i}'))],\n",
    "            mode='markers',\n",
    "            marker_color=color,\n",
    "            marker=dict(\n",
    "                size=18,\n",
    "                symbol='triangle-down'\n",
    "            ),\n",
    "            showlegend=False\n",
    "        )\n",
    "    )\n",
    "\n",
    "\n",
    "# Add triangles in the legend\n",
    "lines.append(\n",
    "        go.Scatter(\n",
    "            name=f'After',\n",
    "            x=[None],\n",
    "            y=[None],\n",
    "            mode='markers',\n",
    "            marker_color='black',\n",
    "            marker=dict(\n",
    "                size=18,\n",
    "                symbol='triangle-up'\n",
    "            ),\n",
    "        )\n",
    "    )\n",
    "\n",
    "lines.append(\n",
    "        go.Scatter(\n",
    "            name=f'Total',\n",
    "            x=[None],\n",
    "            y=[None],\n",
    "            mode='markers',\n",
    "            marker_color='black',\n",
    "            marker=dict(\n",
    "                size=18,\n",
    "                symbol='triangle-down'\n",
    "            ),\n",
    "        )\n",
    "    )\n",
    "\n",
    "\n",
    "\n",
    "fig.add_traces(data=lines)\n",
    "fig.update_layout(showlegend=True, yaxis_title='Time [s]', xaxis_title='(PKD)Delta')\n",
    "fig.update_xaxes(tickangle=65)\n",
    "fig.update_layout(\n",
    "    xaxis = dict(\n",
    "        tickmode = 'array',\n",
    "        tickvals = [-0.4, -0.3, -0.2, -0.1] + deltas,\n",
    "        ticktext = ['MedKD', 'AvgKD', 'Q', 'AKD'] + deltas\n",
    "    ),\n",
    "    shapes=[\n",
    "        dict(\n",
    "            type= 'line',\n",
    "            yref=\"paper\", y0= 0, y1=1,\n",
    "            x0= 0.2, x1=0.2,\n",
    "            opacity=0.2\n",
    "        )\n",
    "    ]\n",
    ")\n",
    "save_figure(fig, 'delta_exp_total_time.pdf')\n",
    "fig"
   ]
  },
  {
   "cell_type": "code",
   "execution_count": null,
   "metadata": {},
   "outputs": [],
   "source": []
  }
 ],
 "metadata": {
  "kernelspec": {
   "display_name": "Python 3",
   "language": "python",
   "name": "python3"
  },
  "language_info": {
   "codemirror_mode": {
    "name": "ipython",
    "version": 3
   },
   "file_extension": ".py",
   "mimetype": "text/x-python",
   "name": "python",
   "nbconvert_exporter": "python",
   "pygments_lexer": "ipython3",
   "version": "3.7.1"
  }
 },
 "nbformat": 4,
 "nbformat_minor": 2
}
